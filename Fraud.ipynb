{
  "cells": [
    {
      "cell_type": "markdown",
      "metadata": {
        "id": "view-in-github",
        "colab_type": "text"
      },
      "source": [
        "<a href=\"https://colab.research.google.com/github/lro99/fraud_classification/blob/main/Fraud.ipynb\" target=\"_parent\"><img src=\"https://colab.research.google.com/assets/colab-badge.svg\" alt=\"Open In Colab\"/></a>"
      ]
    },
    {
      "cell_type": "code",
      "execution_count": 1,
      "metadata": {
        "id": "U8fZwC_f6jTs"
      },
      "outputs": [],
      "source": [
        "import pandas as pd\n",
        "import numpy as np\n",
        "import random\n",
        "import matplotlib.pyplot as plt\n",
        "import seaborn as sns\n",
        "import os\n",
        "from sklearn.linear_model import LogisticRegression\n",
        "from sklearn.model_selection import train_test_split, cross_val_score, StratifiedKFold, GridSearchCV\n",
        "from sklearn.preprocessing import LabelEncoder, OneHotEncoder, StandardScaler\n",
        "from sklearn.metrics import accuracy_score, confusion_matrix, f1_score\n",
        "from sklearn.ensemble import RandomForestClassifier\n",
        "from sklearn.neighbors import KNeighborsClassifier\n",
        "from imblearn.under_sampling import RandomUnderSampler\n",
        "# from google.colab import drive\n",
        "\n",
        "import tensorflow as tf\n",
        "from tensorflow import keras"
      ]
    },
    {
      "cell_type": "code",
      "execution_count": 2,
      "metadata": {
        "id": "PYpjsrR48DUQ"
      },
      "outputs": [],
      "source": [
        "train = pd.read_parquet('/content/drive/MyDrive/Documents/Data Career/fraud_classification/train-00000-of-00002.parquet')\n",
        "train.to_csv('fraud0.csv')\n",
        "\n",
        "train1 = pd.read_parquet('/content/drive/MyDrive/Documents/Data Career/fraud_classification/train-00001-of-00002.parquet')\n",
        "train1.to_csv('fraud1.csv')"
      ]
    },
    {
      "cell_type": "code",
      "execution_count": 3,
      "metadata": {
        "colab": {
          "base_uri": "https://localhost:8080/",
          "height": 399
        },
        "id": "oPJgJoQ0_gAp",
        "outputId": "6a400a4b-8f7f-4554-a73a-be96ed2c0254"
      },
      "outputs": [
        {
          "output_type": "execute_result",
          "data": {
            "text/plain": [
              "           ssn            cc_num    first   last gender      city state  \\\n",
              "0  367-85-9826  4361337605230458  Kristie  Davis      F  Chandler    OK   \n",
              "1  367-85-9826  4361337605230458  Kristie  Davis      F  Chandler    OK   \n",
              "2  367-85-9826  4361337605230458  Kristie  Davis      F  Chandler    OK   \n",
              "3  367-85-9826  4361337605230458  Kristie  Davis      F  Chandler    OK   \n",
              "4  367-85-9826  4361337605230458  Kristie  Davis      F  Chandler    OK   \n",
              "\n",
              "     zip  city_pop                     job         dob      acct_num  \\\n",
              "0  74834      7590  Chief Strategy Officer  1987-06-12  349734538563   \n",
              "1  74834      7590  Chief Strategy Officer  1987-06-12  349734538563   \n",
              "2  74834      7590  Chief Strategy Officer  1987-06-12  349734538563   \n",
              "3  74834      7590  Chief Strategy Officer  1987-06-12  349734538563   \n",
              "4  74834      7590  Chief Strategy Officer  1987-06-12  349734538563   \n",
              "\n",
              "                          trans_num  trans_date trans_time   unix_time  \\\n",
              "0  c036244703adb9d5392f4027d9d4b38d  2021-07-31   02:30:01  1627678801   \n",
              "1  42f000b0b3b0ef534e5b8ef9ec1db13a  2021-08-01   22:37:41  1627837661   \n",
              "2  543037b1baf088961e58d00b705f4bcc  2021-08-01   23:02:09  1627839129   \n",
              "3  00a4e08643edebf9277c2967676f6a26  2021-08-01   22:27:24  1627837044   \n",
              "4  492c4412815306718f686fc5b459a285  2021-12-02   02:28:51  1638392331   \n",
              "\n",
              "         category     amt  is_fraud                merchant  \n",
              "0     grocery_pos  337.54         1           fraud_Kovacek  \n",
              "1   personal_care   21.13         1           fraud_Bradtke  \n",
              "2   personal_care   22.61         1     fraud_Kozey-Kuhlman  \n",
              "3  health_fitness   17.32         1             fraud_Hills  \n",
              "4        misc_pos   75.82         0  fraud_Kemmer-Buckridge  "
            ],
            "text/html": [
              "\n",
              "  <div id=\"df-0722399a-8add-4eac-8c42-42bed3f532f1\" class=\"colab-df-container\">\n",
              "    <div>\n",
              "<style scoped>\n",
              "    .dataframe tbody tr th:only-of-type {\n",
              "        vertical-align: middle;\n",
              "    }\n",
              "\n",
              "    .dataframe tbody tr th {\n",
              "        vertical-align: top;\n",
              "    }\n",
              "\n",
              "    .dataframe thead th {\n",
              "        text-align: right;\n",
              "    }\n",
              "</style>\n",
              "<table border=\"1\" class=\"dataframe\">\n",
              "  <thead>\n",
              "    <tr style=\"text-align: right;\">\n",
              "      <th></th>\n",
              "      <th>ssn</th>\n",
              "      <th>cc_num</th>\n",
              "      <th>first</th>\n",
              "      <th>last</th>\n",
              "      <th>gender</th>\n",
              "      <th>city</th>\n",
              "      <th>state</th>\n",
              "      <th>zip</th>\n",
              "      <th>city_pop</th>\n",
              "      <th>job</th>\n",
              "      <th>dob</th>\n",
              "      <th>acct_num</th>\n",
              "      <th>trans_num</th>\n",
              "      <th>trans_date</th>\n",
              "      <th>trans_time</th>\n",
              "      <th>unix_time</th>\n",
              "      <th>category</th>\n",
              "      <th>amt</th>\n",
              "      <th>is_fraud</th>\n",
              "      <th>merchant</th>\n",
              "    </tr>\n",
              "  </thead>\n",
              "  <tbody>\n",
              "    <tr>\n",
              "      <th>0</th>\n",
              "      <td>367-85-9826</td>\n",
              "      <td>4361337605230458</td>\n",
              "      <td>Kristie</td>\n",
              "      <td>Davis</td>\n",
              "      <td>F</td>\n",
              "      <td>Chandler</td>\n",
              "      <td>OK</td>\n",
              "      <td>74834</td>\n",
              "      <td>7590</td>\n",
              "      <td>Chief Strategy Officer</td>\n",
              "      <td>1987-06-12</td>\n",
              "      <td>349734538563</td>\n",
              "      <td>c036244703adb9d5392f4027d9d4b38d</td>\n",
              "      <td>2021-07-31</td>\n",
              "      <td>02:30:01</td>\n",
              "      <td>1627678801</td>\n",
              "      <td>grocery_pos</td>\n",
              "      <td>337.54</td>\n",
              "      <td>1</td>\n",
              "      <td>fraud_Kovacek</td>\n",
              "    </tr>\n",
              "    <tr>\n",
              "      <th>1</th>\n",
              "      <td>367-85-9826</td>\n",
              "      <td>4361337605230458</td>\n",
              "      <td>Kristie</td>\n",
              "      <td>Davis</td>\n",
              "      <td>F</td>\n",
              "      <td>Chandler</td>\n",
              "      <td>OK</td>\n",
              "      <td>74834</td>\n",
              "      <td>7590</td>\n",
              "      <td>Chief Strategy Officer</td>\n",
              "      <td>1987-06-12</td>\n",
              "      <td>349734538563</td>\n",
              "      <td>42f000b0b3b0ef534e5b8ef9ec1db13a</td>\n",
              "      <td>2021-08-01</td>\n",
              "      <td>22:37:41</td>\n",
              "      <td>1627837661</td>\n",
              "      <td>personal_care</td>\n",
              "      <td>21.13</td>\n",
              "      <td>1</td>\n",
              "      <td>fraud_Bradtke</td>\n",
              "    </tr>\n",
              "    <tr>\n",
              "      <th>2</th>\n",
              "      <td>367-85-9826</td>\n",
              "      <td>4361337605230458</td>\n",
              "      <td>Kristie</td>\n",
              "      <td>Davis</td>\n",
              "      <td>F</td>\n",
              "      <td>Chandler</td>\n",
              "      <td>OK</td>\n",
              "      <td>74834</td>\n",
              "      <td>7590</td>\n",
              "      <td>Chief Strategy Officer</td>\n",
              "      <td>1987-06-12</td>\n",
              "      <td>349734538563</td>\n",
              "      <td>543037b1baf088961e58d00b705f4bcc</td>\n",
              "      <td>2021-08-01</td>\n",
              "      <td>23:02:09</td>\n",
              "      <td>1627839129</td>\n",
              "      <td>personal_care</td>\n",
              "      <td>22.61</td>\n",
              "      <td>1</td>\n",
              "      <td>fraud_Kozey-Kuhlman</td>\n",
              "    </tr>\n",
              "    <tr>\n",
              "      <th>3</th>\n",
              "      <td>367-85-9826</td>\n",
              "      <td>4361337605230458</td>\n",
              "      <td>Kristie</td>\n",
              "      <td>Davis</td>\n",
              "      <td>F</td>\n",
              "      <td>Chandler</td>\n",
              "      <td>OK</td>\n",
              "      <td>74834</td>\n",
              "      <td>7590</td>\n",
              "      <td>Chief Strategy Officer</td>\n",
              "      <td>1987-06-12</td>\n",
              "      <td>349734538563</td>\n",
              "      <td>00a4e08643edebf9277c2967676f6a26</td>\n",
              "      <td>2021-08-01</td>\n",
              "      <td>22:27:24</td>\n",
              "      <td>1627837044</td>\n",
              "      <td>health_fitness</td>\n",
              "      <td>17.32</td>\n",
              "      <td>1</td>\n",
              "      <td>fraud_Hills</td>\n",
              "    </tr>\n",
              "    <tr>\n",
              "      <th>4</th>\n",
              "      <td>367-85-9826</td>\n",
              "      <td>4361337605230458</td>\n",
              "      <td>Kristie</td>\n",
              "      <td>Davis</td>\n",
              "      <td>F</td>\n",
              "      <td>Chandler</td>\n",
              "      <td>OK</td>\n",
              "      <td>74834</td>\n",
              "      <td>7590</td>\n",
              "      <td>Chief Strategy Officer</td>\n",
              "      <td>1987-06-12</td>\n",
              "      <td>349734538563</td>\n",
              "      <td>492c4412815306718f686fc5b459a285</td>\n",
              "      <td>2021-12-02</td>\n",
              "      <td>02:28:51</td>\n",
              "      <td>1638392331</td>\n",
              "      <td>misc_pos</td>\n",
              "      <td>75.82</td>\n",
              "      <td>0</td>\n",
              "      <td>fraud_Kemmer-Buckridge</td>\n",
              "    </tr>\n",
              "  </tbody>\n",
              "</table>\n",
              "</div>\n",
              "    <div class=\"colab-df-buttons\">\n",
              "\n",
              "  <div class=\"colab-df-container\">\n",
              "    <button class=\"colab-df-convert\" onclick=\"convertToInteractive('df-0722399a-8add-4eac-8c42-42bed3f532f1')\"\n",
              "            title=\"Convert this dataframe to an interactive table.\"\n",
              "            style=\"display:none;\">\n",
              "\n",
              "  <svg xmlns=\"http://www.w3.org/2000/svg\" height=\"24px\" viewBox=\"0 -960 960 960\">\n",
              "    <path d=\"M120-120v-720h720v720H120Zm60-500h600v-160H180v160Zm220 220h160v-160H400v160Zm0 220h160v-160H400v160ZM180-400h160v-160H180v160Zm440 0h160v-160H620v160ZM180-180h160v-160H180v160Zm440 0h160v-160H620v160Z\"/>\n",
              "  </svg>\n",
              "    </button>\n",
              "\n",
              "  <style>\n",
              "    .colab-df-container {\n",
              "      display:flex;\n",
              "      gap: 12px;\n",
              "    }\n",
              "\n",
              "    .colab-df-convert {\n",
              "      background-color: #E8F0FE;\n",
              "      border: none;\n",
              "      border-radius: 50%;\n",
              "      cursor: pointer;\n",
              "      display: none;\n",
              "      fill: #1967D2;\n",
              "      height: 32px;\n",
              "      padding: 0 0 0 0;\n",
              "      width: 32px;\n",
              "    }\n",
              "\n",
              "    .colab-df-convert:hover {\n",
              "      background-color: #E2EBFA;\n",
              "      box-shadow: 0px 1px 2px rgba(60, 64, 67, 0.3), 0px 1px 3px 1px rgba(60, 64, 67, 0.15);\n",
              "      fill: #174EA6;\n",
              "    }\n",
              "\n",
              "    .colab-df-buttons div {\n",
              "      margin-bottom: 4px;\n",
              "    }\n",
              "\n",
              "    [theme=dark] .colab-df-convert {\n",
              "      background-color: #3B4455;\n",
              "      fill: #D2E3FC;\n",
              "    }\n",
              "\n",
              "    [theme=dark] .colab-df-convert:hover {\n",
              "      background-color: #434B5C;\n",
              "      box-shadow: 0px 1px 3px 1px rgba(0, 0, 0, 0.15);\n",
              "      filter: drop-shadow(0px 1px 2px rgba(0, 0, 0, 0.3));\n",
              "      fill: #FFFFFF;\n",
              "    }\n",
              "  </style>\n",
              "\n",
              "    <script>\n",
              "      const buttonEl =\n",
              "        document.querySelector('#df-0722399a-8add-4eac-8c42-42bed3f532f1 button.colab-df-convert');\n",
              "      buttonEl.style.display =\n",
              "        google.colab.kernel.accessAllowed ? 'block' : 'none';\n",
              "\n",
              "      async function convertToInteractive(key) {\n",
              "        const element = document.querySelector('#df-0722399a-8add-4eac-8c42-42bed3f532f1');\n",
              "        const dataTable =\n",
              "          await google.colab.kernel.invokeFunction('convertToInteractive',\n",
              "                                                    [key], {});\n",
              "        if (!dataTable) return;\n",
              "\n",
              "        const docLinkHtml = 'Like what you see? Visit the ' +\n",
              "          '<a target=\"_blank\" href=https://colab.research.google.com/notebooks/data_table.ipynb>data table notebook</a>'\n",
              "          + ' to learn more about interactive tables.';\n",
              "        element.innerHTML = '';\n",
              "        dataTable['output_type'] = 'display_data';\n",
              "        await google.colab.output.renderOutput(dataTable, element);\n",
              "        const docLink = document.createElement('div');\n",
              "        docLink.innerHTML = docLinkHtml;\n",
              "        element.appendChild(docLink);\n",
              "      }\n",
              "    </script>\n",
              "  </div>\n",
              "\n",
              "\n",
              "<div id=\"df-d39120c9-ebd8-485c-b750-4b5f89a592b6\">\n",
              "  <button class=\"colab-df-quickchart\" onclick=\"quickchart('df-d39120c9-ebd8-485c-b750-4b5f89a592b6')\"\n",
              "            title=\"Suggest charts\"\n",
              "            style=\"display:none;\">\n",
              "\n",
              "<svg xmlns=\"http://www.w3.org/2000/svg\" height=\"24px\"viewBox=\"0 0 24 24\"\n",
              "     width=\"24px\">\n",
              "    <g>\n",
              "        <path d=\"M19 3H5c-1.1 0-2 .9-2 2v14c0 1.1.9 2 2 2h14c1.1 0 2-.9 2-2V5c0-1.1-.9-2-2-2zM9 17H7v-7h2v7zm4 0h-2V7h2v10zm4 0h-2v-4h2v4z\"/>\n",
              "    </g>\n",
              "</svg>\n",
              "  </button>\n",
              "\n",
              "<style>\n",
              "  .colab-df-quickchart {\n",
              "      --bg-color: #E8F0FE;\n",
              "      --fill-color: #1967D2;\n",
              "      --hover-bg-color: #E2EBFA;\n",
              "      --hover-fill-color: #174EA6;\n",
              "      --disabled-fill-color: #AAA;\n",
              "      --disabled-bg-color: #DDD;\n",
              "  }\n",
              "\n",
              "  [theme=dark] .colab-df-quickchart {\n",
              "      --bg-color: #3B4455;\n",
              "      --fill-color: #D2E3FC;\n",
              "      --hover-bg-color: #434B5C;\n",
              "      --hover-fill-color: #FFFFFF;\n",
              "      --disabled-bg-color: #3B4455;\n",
              "      --disabled-fill-color: #666;\n",
              "  }\n",
              "\n",
              "  .colab-df-quickchart {\n",
              "    background-color: var(--bg-color);\n",
              "    border: none;\n",
              "    border-radius: 50%;\n",
              "    cursor: pointer;\n",
              "    display: none;\n",
              "    fill: var(--fill-color);\n",
              "    height: 32px;\n",
              "    padding: 0;\n",
              "    width: 32px;\n",
              "  }\n",
              "\n",
              "  .colab-df-quickchart:hover {\n",
              "    background-color: var(--hover-bg-color);\n",
              "    box-shadow: 0 1px 2px rgba(60, 64, 67, 0.3), 0 1px 3px 1px rgba(60, 64, 67, 0.15);\n",
              "    fill: var(--button-hover-fill-color);\n",
              "  }\n",
              "\n",
              "  .colab-df-quickchart-complete:disabled,\n",
              "  .colab-df-quickchart-complete:disabled:hover {\n",
              "    background-color: var(--disabled-bg-color);\n",
              "    fill: var(--disabled-fill-color);\n",
              "    box-shadow: none;\n",
              "  }\n",
              "\n",
              "  .colab-df-spinner {\n",
              "    border: 2px solid var(--fill-color);\n",
              "    border-color: transparent;\n",
              "    border-bottom-color: var(--fill-color);\n",
              "    animation:\n",
              "      spin 1s steps(1) infinite;\n",
              "  }\n",
              "\n",
              "  @keyframes spin {\n",
              "    0% {\n",
              "      border-color: transparent;\n",
              "      border-bottom-color: var(--fill-color);\n",
              "      border-left-color: var(--fill-color);\n",
              "    }\n",
              "    20% {\n",
              "      border-color: transparent;\n",
              "      border-left-color: var(--fill-color);\n",
              "      border-top-color: var(--fill-color);\n",
              "    }\n",
              "    30% {\n",
              "      border-color: transparent;\n",
              "      border-left-color: var(--fill-color);\n",
              "      border-top-color: var(--fill-color);\n",
              "      border-right-color: var(--fill-color);\n",
              "    }\n",
              "    40% {\n",
              "      border-color: transparent;\n",
              "      border-right-color: var(--fill-color);\n",
              "      border-top-color: var(--fill-color);\n",
              "    }\n",
              "    60% {\n",
              "      border-color: transparent;\n",
              "      border-right-color: var(--fill-color);\n",
              "    }\n",
              "    80% {\n",
              "      border-color: transparent;\n",
              "      border-right-color: var(--fill-color);\n",
              "      border-bottom-color: var(--fill-color);\n",
              "    }\n",
              "    90% {\n",
              "      border-color: transparent;\n",
              "      border-bottom-color: var(--fill-color);\n",
              "    }\n",
              "  }\n",
              "</style>\n",
              "\n",
              "  <script>\n",
              "    async function quickchart(key) {\n",
              "      const quickchartButtonEl =\n",
              "        document.querySelector('#' + key + ' button');\n",
              "      quickchartButtonEl.disabled = true;  // To prevent multiple clicks.\n",
              "      quickchartButtonEl.classList.add('colab-df-spinner');\n",
              "      try {\n",
              "        const charts = await google.colab.kernel.invokeFunction(\n",
              "            'suggestCharts', [key], {});\n",
              "      } catch (error) {\n",
              "        console.error('Error during call to suggestCharts:', error);\n",
              "      }\n",
              "      quickchartButtonEl.classList.remove('colab-df-spinner');\n",
              "      quickchartButtonEl.classList.add('colab-df-quickchart-complete');\n",
              "    }\n",
              "    (() => {\n",
              "      let quickchartButtonEl =\n",
              "        document.querySelector('#df-d39120c9-ebd8-485c-b750-4b5f89a592b6 button');\n",
              "      quickchartButtonEl.style.display =\n",
              "        google.colab.kernel.accessAllowed ? 'block' : 'none';\n",
              "    })();\n",
              "  </script>\n",
              "</div>\n",
              "\n",
              "    </div>\n",
              "  </div>\n"
            ],
            "application/vnd.google.colaboratory.intrinsic+json": {
              "type": "dataframe",
              "variable_name": "train_df"
            }
          },
          "metadata": {},
          "execution_count": 3
        }
      ],
      "source": [
        "train_df = pd.concat([train, train1], ignore_index=True)\n",
        "\n",
        "# fraction = 0.55\n",
        "# train_df = train_df_unsampled.sample(frac=fraction, random_state=42)\n",
        "\n",
        "train_df.head()"
      ]
    },
    {
      "cell_type": "code",
      "source": [
        "train_df.dtypes"
      ],
      "metadata": {
        "colab": {
          "base_uri": "https://localhost:8080/",
          "height": 711
        },
        "id": "oTQ6BTMzro5q",
        "outputId": "d4d8c46d-67e8-45df-a6aa-48951aedfb26"
      },
      "execution_count": 4,
      "outputs": [
        {
          "output_type": "execute_result",
          "data": {
            "text/plain": [
              "ssn            object\n",
              "cc_num          int64\n",
              "first          object\n",
              "last           object\n",
              "gender         object\n",
              "city           object\n",
              "state          object\n",
              "zip             int64\n",
              "city_pop        int64\n",
              "job            object\n",
              "dob            object\n",
              "acct_num        int64\n",
              "trans_num      object\n",
              "trans_date     object\n",
              "trans_time     object\n",
              "unix_time       int64\n",
              "category       object\n",
              "amt           float64\n",
              "is_fraud        int64\n",
              "merchant       object\n",
              "dtype: object"
            ],
            "text/html": [
              "<div>\n",
              "<style scoped>\n",
              "    .dataframe tbody tr th:only-of-type {\n",
              "        vertical-align: middle;\n",
              "    }\n",
              "\n",
              "    .dataframe tbody tr th {\n",
              "        vertical-align: top;\n",
              "    }\n",
              "\n",
              "    .dataframe thead th {\n",
              "        text-align: right;\n",
              "    }\n",
              "</style>\n",
              "<table border=\"1\" class=\"dataframe\">\n",
              "  <thead>\n",
              "    <tr style=\"text-align: right;\">\n",
              "      <th></th>\n",
              "      <th>0</th>\n",
              "    </tr>\n",
              "  </thead>\n",
              "  <tbody>\n",
              "    <tr>\n",
              "      <th>ssn</th>\n",
              "      <td>object</td>\n",
              "    </tr>\n",
              "    <tr>\n",
              "      <th>cc_num</th>\n",
              "      <td>int64</td>\n",
              "    </tr>\n",
              "    <tr>\n",
              "      <th>first</th>\n",
              "      <td>object</td>\n",
              "    </tr>\n",
              "    <tr>\n",
              "      <th>last</th>\n",
              "      <td>object</td>\n",
              "    </tr>\n",
              "    <tr>\n",
              "      <th>gender</th>\n",
              "      <td>object</td>\n",
              "    </tr>\n",
              "    <tr>\n",
              "      <th>city</th>\n",
              "      <td>object</td>\n",
              "    </tr>\n",
              "    <tr>\n",
              "      <th>state</th>\n",
              "      <td>object</td>\n",
              "    </tr>\n",
              "    <tr>\n",
              "      <th>zip</th>\n",
              "      <td>int64</td>\n",
              "    </tr>\n",
              "    <tr>\n",
              "      <th>city_pop</th>\n",
              "      <td>int64</td>\n",
              "    </tr>\n",
              "    <tr>\n",
              "      <th>job</th>\n",
              "      <td>object</td>\n",
              "    </tr>\n",
              "    <tr>\n",
              "      <th>dob</th>\n",
              "      <td>object</td>\n",
              "    </tr>\n",
              "    <tr>\n",
              "      <th>acct_num</th>\n",
              "      <td>int64</td>\n",
              "    </tr>\n",
              "    <tr>\n",
              "      <th>trans_num</th>\n",
              "      <td>object</td>\n",
              "    </tr>\n",
              "    <tr>\n",
              "      <th>trans_date</th>\n",
              "      <td>object</td>\n",
              "    </tr>\n",
              "    <tr>\n",
              "      <th>trans_time</th>\n",
              "      <td>object</td>\n",
              "    </tr>\n",
              "    <tr>\n",
              "      <th>unix_time</th>\n",
              "      <td>int64</td>\n",
              "    </tr>\n",
              "    <tr>\n",
              "      <th>category</th>\n",
              "      <td>object</td>\n",
              "    </tr>\n",
              "    <tr>\n",
              "      <th>amt</th>\n",
              "      <td>float64</td>\n",
              "    </tr>\n",
              "    <tr>\n",
              "      <th>is_fraud</th>\n",
              "      <td>int64</td>\n",
              "    </tr>\n",
              "    <tr>\n",
              "      <th>merchant</th>\n",
              "      <td>object</td>\n",
              "    </tr>\n",
              "  </tbody>\n",
              "</table>\n",
              "</div><br><label><b>dtype:</b> object</label>"
            ]
          },
          "metadata": {},
          "execution_count": 4
        }
      ]
    },
    {
      "cell_type": "markdown",
      "source": [
        "Class Label Imbalance"
      ],
      "metadata": {
        "id": "3CePUCHGHn1x"
      }
    },
    {
      "cell_type": "code",
      "source": [
        "neg, pos = train_df['is_fraud'].value_counts()\n",
        "total = neg + pos\n",
        "print('Examples:\\n    Total: {}\\n    Positive: {} ({:.2f}% of total)\\n'.format(\n",
        "    total, pos, 100 * pos / total))"
      ],
      "metadata": {
        "colab": {
          "base_uri": "https://localhost:8080/"
        },
        "id": "gPhSj7jJHVvc",
        "outputId": "f0a2c965-32d2-43eb-9d0b-1b99a7a073f6"
      },
      "execution_count": 5,
      "outputs": [
        {
          "output_type": "stream",
          "name": "stdout",
          "text": [
            "Examples:\n",
            "    Total: 2646694\n",
            "    Positive: 9422 (0.36% of total)\n",
            "\n"
          ]
        }
      ]
    },
    {
      "cell_type": "code",
      "source": [
        "X = train_df.drop('is_fraud', axis=1)\n",
        "y = train_df['is_fraud']\n",
        "print(X.shape, y.shape)"
      ],
      "metadata": {
        "id": "6AaAgQTTaxTG",
        "colab": {
          "base_uri": "https://localhost:8080/"
        },
        "outputId": "f3202f61-3a57-4133-c410-21ebc104f4a3"
      },
      "execution_count": 6,
      "outputs": [
        {
          "output_type": "stream",
          "name": "stdout",
          "text": [
            "(2646694, 19) (2646694,)\n"
          ]
        }
      ]
    },
    {
      "cell_type": "code",
      "source": [
        "X_train, X_test, y_train, y_test = train_test_split(X, y, test_size=0.2, random_state=42)\n",
        "print(X_train.shape, X_test.shape)"
      ],
      "metadata": {
        "colab": {
          "base_uri": "https://localhost:8080/"
        },
        "id": "hYq9hsiWqdXn",
        "outputId": "e69d2efa-9512-468a-9e8d-aceef7f08c8a"
      },
      "execution_count": 7,
      "outputs": [
        {
          "output_type": "stream",
          "name": "stdout",
          "text": [
            "(2117355, 19) (529339, 19)\n"
          ]
        }
      ]
    },
    {
      "cell_type": "markdown",
      "source": [
        "Data preprocessing (outside model)"
      ],
      "metadata": {
        "id": "SfR0m3vyEpjB"
      }
    },
    {
      "cell_type": "code",
      "source": [
        "# encoding\n",
        "\n",
        "# ssn: drop dash, convert to int\n",
        "# first: drop\n",
        "# last: drop\n",
        "# gender: onehot encode\n",
        "# city & state: concatenate\n",
        "# job: label encode\n",
        "# dob: drop dash, convert to int\n",
        "# transnum: potentially drop\n",
        "# transdate: drop\n",
        "# transtime: drop\n",
        "# category: label encode\n",
        "# merchant: label encode"
      ],
      "metadata": {
        "id": "bXltsR3zYYus"
      },
      "execution_count": 10,
      "outputs": []
    },
    {
      "cell_type": "code",
      "source": [
        "# conversions\n",
        "train_df['ssn'] = train_df['ssn'].str.replace('-', '').astype(int)\n",
        "train_df['dob'] = train_df['dob'].str.replace('-', '').astype(int)\n",
        "\n",
        "train_df['location'] = train_df['city'] + ', ' + train_df['state']\n",
        "\n",
        "# onehot encode (gender)\n",
        "onehot = OneHotEncoder(sparse_output=False, handle_unknown='ignore')\n",
        "onehot.fit(train_df[['gender']])\n",
        "\n",
        "feature_names = onehot.get_feature_names_out(['gender'])\n",
        "gender_encoded = pd.DataFrame(onehot.transform(train_df[['gender']]), columns=feature_names)\n",
        "\n",
        "# label encode (job, category, merchant)\n",
        "encode_df = train_df[['job', 'category', 'merchant', 'location']]\n",
        "encoder = LabelEncoder()\n",
        "for col in encode_df.columns:\n",
        "    encode_df[col] = encoder.fit_transform(encode_df[col])\n",
        "\n",
        "# drop unneeded columns\n",
        "train_df = train_df.drop(['job', 'category', 'merchant', 'first', 'last', 'trans_num', 'trans_date', 'trans_time', 'city', 'state', 'gender', 'location'], axis=1)\n",
        "train_df.head()\n"
      ],
      "metadata": {
        "colab": {
          "base_uri": "https://localhost:8080/",
          "height": 664
        },
        "id": "_CUDQdalaC1J",
        "outputId": "c0c00743-79ee-416a-9f2f-23be3bd1a28d"
      },
      "execution_count": 8,
      "outputs": [
        {
          "output_type": "stream",
          "name": "stderr",
          "text": [
            "<ipython-input-8-2f29263f5388>:18: SettingWithCopyWarning: \n",
            "A value is trying to be set on a copy of a slice from a DataFrame.\n",
            "Try using .loc[row_indexer,col_indexer] = value instead\n",
            "\n",
            "See the caveats in the documentation: https://pandas.pydata.org/pandas-docs/stable/user_guide/indexing.html#returning-a-view-versus-a-copy\n",
            "  encode_df[col] = encoder.fit_transform(encode_df[col])\n",
            "<ipython-input-8-2f29263f5388>:18: SettingWithCopyWarning: \n",
            "A value is trying to be set on a copy of a slice from a DataFrame.\n",
            "Try using .loc[row_indexer,col_indexer] = value instead\n",
            "\n",
            "See the caveats in the documentation: https://pandas.pydata.org/pandas-docs/stable/user_guide/indexing.html#returning-a-view-versus-a-copy\n",
            "  encode_df[col] = encoder.fit_transform(encode_df[col])\n",
            "<ipython-input-8-2f29263f5388>:18: SettingWithCopyWarning: \n",
            "A value is trying to be set on a copy of a slice from a DataFrame.\n",
            "Try using .loc[row_indexer,col_indexer] = value instead\n",
            "\n",
            "See the caveats in the documentation: https://pandas.pydata.org/pandas-docs/stable/user_guide/indexing.html#returning-a-view-versus-a-copy\n",
            "  encode_df[col] = encoder.fit_transform(encode_df[col])\n",
            "<ipython-input-8-2f29263f5388>:18: SettingWithCopyWarning: \n",
            "A value is trying to be set on a copy of a slice from a DataFrame.\n",
            "Try using .loc[row_indexer,col_indexer] = value instead\n",
            "\n",
            "See the caveats in the documentation: https://pandas.pydata.org/pandas-docs/stable/user_guide/indexing.html#returning-a-view-versus-a-copy\n",
            "  encode_df[col] = encoder.fit_transform(encode_df[col])\n"
          ]
        },
        {
          "output_type": "execute_result",
          "data": {
            "text/plain": [
              "         ssn            cc_num    zip  city_pop       dob      acct_num  \\\n",
              "0  367859826  4361337605230458  74834      7590  19870612  349734538563   \n",
              "1  367859826  4361337605230458  74834      7590  19870612  349734538563   \n",
              "2  367859826  4361337605230458  74834      7590  19870612  349734538563   \n",
              "3  367859826  4361337605230458  74834      7590  19870612  349734538563   \n",
              "4  367859826  4361337605230458  74834      7590  19870612  349734538563   \n",
              "\n",
              "    unix_time     amt  is_fraud  \n",
              "0  1627678801  337.54         1  \n",
              "1  1627837661   21.13         1  \n",
              "2  1627839129   22.61         1  \n",
              "3  1627837044   17.32         1  \n",
              "4  1638392331   75.82         0  "
            ],
            "text/html": [
              "\n",
              "  <div id=\"df-facb4fc9-2d55-4cba-982d-5b95919d0418\" class=\"colab-df-container\">\n",
              "    <div>\n",
              "<style scoped>\n",
              "    .dataframe tbody tr th:only-of-type {\n",
              "        vertical-align: middle;\n",
              "    }\n",
              "\n",
              "    .dataframe tbody tr th {\n",
              "        vertical-align: top;\n",
              "    }\n",
              "\n",
              "    .dataframe thead th {\n",
              "        text-align: right;\n",
              "    }\n",
              "</style>\n",
              "<table border=\"1\" class=\"dataframe\">\n",
              "  <thead>\n",
              "    <tr style=\"text-align: right;\">\n",
              "      <th></th>\n",
              "      <th>ssn</th>\n",
              "      <th>cc_num</th>\n",
              "      <th>zip</th>\n",
              "      <th>city_pop</th>\n",
              "      <th>dob</th>\n",
              "      <th>acct_num</th>\n",
              "      <th>unix_time</th>\n",
              "      <th>amt</th>\n",
              "      <th>is_fraud</th>\n",
              "    </tr>\n",
              "  </thead>\n",
              "  <tbody>\n",
              "    <tr>\n",
              "      <th>0</th>\n",
              "      <td>367859826</td>\n",
              "      <td>4361337605230458</td>\n",
              "      <td>74834</td>\n",
              "      <td>7590</td>\n",
              "      <td>19870612</td>\n",
              "      <td>349734538563</td>\n",
              "      <td>1627678801</td>\n",
              "      <td>337.54</td>\n",
              "      <td>1</td>\n",
              "    </tr>\n",
              "    <tr>\n",
              "      <th>1</th>\n",
              "      <td>367859826</td>\n",
              "      <td>4361337605230458</td>\n",
              "      <td>74834</td>\n",
              "      <td>7590</td>\n",
              "      <td>19870612</td>\n",
              "      <td>349734538563</td>\n",
              "      <td>1627837661</td>\n",
              "      <td>21.13</td>\n",
              "      <td>1</td>\n",
              "    </tr>\n",
              "    <tr>\n",
              "      <th>2</th>\n",
              "      <td>367859826</td>\n",
              "      <td>4361337605230458</td>\n",
              "      <td>74834</td>\n",
              "      <td>7590</td>\n",
              "      <td>19870612</td>\n",
              "      <td>349734538563</td>\n",
              "      <td>1627839129</td>\n",
              "      <td>22.61</td>\n",
              "      <td>1</td>\n",
              "    </tr>\n",
              "    <tr>\n",
              "      <th>3</th>\n",
              "      <td>367859826</td>\n",
              "      <td>4361337605230458</td>\n",
              "      <td>74834</td>\n",
              "      <td>7590</td>\n",
              "      <td>19870612</td>\n",
              "      <td>349734538563</td>\n",
              "      <td>1627837044</td>\n",
              "      <td>17.32</td>\n",
              "      <td>1</td>\n",
              "    </tr>\n",
              "    <tr>\n",
              "      <th>4</th>\n",
              "      <td>367859826</td>\n",
              "      <td>4361337605230458</td>\n",
              "      <td>74834</td>\n",
              "      <td>7590</td>\n",
              "      <td>19870612</td>\n",
              "      <td>349734538563</td>\n",
              "      <td>1638392331</td>\n",
              "      <td>75.82</td>\n",
              "      <td>0</td>\n",
              "    </tr>\n",
              "  </tbody>\n",
              "</table>\n",
              "</div>\n",
              "    <div class=\"colab-df-buttons\">\n",
              "\n",
              "  <div class=\"colab-df-container\">\n",
              "    <button class=\"colab-df-convert\" onclick=\"convertToInteractive('df-facb4fc9-2d55-4cba-982d-5b95919d0418')\"\n",
              "            title=\"Convert this dataframe to an interactive table.\"\n",
              "            style=\"display:none;\">\n",
              "\n",
              "  <svg xmlns=\"http://www.w3.org/2000/svg\" height=\"24px\" viewBox=\"0 -960 960 960\">\n",
              "    <path d=\"M120-120v-720h720v720H120Zm60-500h600v-160H180v160Zm220 220h160v-160H400v160Zm0 220h160v-160H400v160ZM180-400h160v-160H180v160Zm440 0h160v-160H620v160ZM180-180h160v-160H180v160Zm440 0h160v-160H620v160Z\"/>\n",
              "  </svg>\n",
              "    </button>\n",
              "\n",
              "  <style>\n",
              "    .colab-df-container {\n",
              "      display:flex;\n",
              "      gap: 12px;\n",
              "    }\n",
              "\n",
              "    .colab-df-convert {\n",
              "      background-color: #E8F0FE;\n",
              "      border: none;\n",
              "      border-radius: 50%;\n",
              "      cursor: pointer;\n",
              "      display: none;\n",
              "      fill: #1967D2;\n",
              "      height: 32px;\n",
              "      padding: 0 0 0 0;\n",
              "      width: 32px;\n",
              "    }\n",
              "\n",
              "    .colab-df-convert:hover {\n",
              "      background-color: #E2EBFA;\n",
              "      box-shadow: 0px 1px 2px rgba(60, 64, 67, 0.3), 0px 1px 3px 1px rgba(60, 64, 67, 0.15);\n",
              "      fill: #174EA6;\n",
              "    }\n",
              "\n",
              "    .colab-df-buttons div {\n",
              "      margin-bottom: 4px;\n",
              "    }\n",
              "\n",
              "    [theme=dark] .colab-df-convert {\n",
              "      background-color: #3B4455;\n",
              "      fill: #D2E3FC;\n",
              "    }\n",
              "\n",
              "    [theme=dark] .colab-df-convert:hover {\n",
              "      background-color: #434B5C;\n",
              "      box-shadow: 0px 1px 3px 1px rgba(0, 0, 0, 0.15);\n",
              "      filter: drop-shadow(0px 1px 2px rgba(0, 0, 0, 0.3));\n",
              "      fill: #FFFFFF;\n",
              "    }\n",
              "  </style>\n",
              "\n",
              "    <script>\n",
              "      const buttonEl =\n",
              "        document.querySelector('#df-facb4fc9-2d55-4cba-982d-5b95919d0418 button.colab-df-convert');\n",
              "      buttonEl.style.display =\n",
              "        google.colab.kernel.accessAllowed ? 'block' : 'none';\n",
              "\n",
              "      async function convertToInteractive(key) {\n",
              "        const element = document.querySelector('#df-facb4fc9-2d55-4cba-982d-5b95919d0418');\n",
              "        const dataTable =\n",
              "          await google.colab.kernel.invokeFunction('convertToInteractive',\n",
              "                                                    [key], {});\n",
              "        if (!dataTable) return;\n",
              "\n",
              "        const docLinkHtml = 'Like what you see? Visit the ' +\n",
              "          '<a target=\"_blank\" href=https://colab.research.google.com/notebooks/data_table.ipynb>data table notebook</a>'\n",
              "          + ' to learn more about interactive tables.';\n",
              "        element.innerHTML = '';\n",
              "        dataTable['output_type'] = 'display_data';\n",
              "        await google.colab.output.renderOutput(dataTable, element);\n",
              "        const docLink = document.createElement('div');\n",
              "        docLink.innerHTML = docLinkHtml;\n",
              "        element.appendChild(docLink);\n",
              "      }\n",
              "    </script>\n",
              "  </div>\n",
              "\n",
              "\n",
              "<div id=\"df-c298180b-2b64-485f-a8a5-07ef6ce29317\">\n",
              "  <button class=\"colab-df-quickchart\" onclick=\"quickchart('df-c298180b-2b64-485f-a8a5-07ef6ce29317')\"\n",
              "            title=\"Suggest charts\"\n",
              "            style=\"display:none;\">\n",
              "\n",
              "<svg xmlns=\"http://www.w3.org/2000/svg\" height=\"24px\"viewBox=\"0 0 24 24\"\n",
              "     width=\"24px\">\n",
              "    <g>\n",
              "        <path d=\"M19 3H5c-1.1 0-2 .9-2 2v14c0 1.1.9 2 2 2h14c1.1 0 2-.9 2-2V5c0-1.1-.9-2-2-2zM9 17H7v-7h2v7zm4 0h-2V7h2v10zm4 0h-2v-4h2v4z\"/>\n",
              "    </g>\n",
              "</svg>\n",
              "  </button>\n",
              "\n",
              "<style>\n",
              "  .colab-df-quickchart {\n",
              "      --bg-color: #E8F0FE;\n",
              "      --fill-color: #1967D2;\n",
              "      --hover-bg-color: #E2EBFA;\n",
              "      --hover-fill-color: #174EA6;\n",
              "      --disabled-fill-color: #AAA;\n",
              "      --disabled-bg-color: #DDD;\n",
              "  }\n",
              "\n",
              "  [theme=dark] .colab-df-quickchart {\n",
              "      --bg-color: #3B4455;\n",
              "      --fill-color: #D2E3FC;\n",
              "      --hover-bg-color: #434B5C;\n",
              "      --hover-fill-color: #FFFFFF;\n",
              "      --disabled-bg-color: #3B4455;\n",
              "      --disabled-fill-color: #666;\n",
              "  }\n",
              "\n",
              "  .colab-df-quickchart {\n",
              "    background-color: var(--bg-color);\n",
              "    border: none;\n",
              "    border-radius: 50%;\n",
              "    cursor: pointer;\n",
              "    display: none;\n",
              "    fill: var(--fill-color);\n",
              "    height: 32px;\n",
              "    padding: 0;\n",
              "    width: 32px;\n",
              "  }\n",
              "\n",
              "  .colab-df-quickchart:hover {\n",
              "    background-color: var(--hover-bg-color);\n",
              "    box-shadow: 0 1px 2px rgba(60, 64, 67, 0.3), 0 1px 3px 1px rgba(60, 64, 67, 0.15);\n",
              "    fill: var(--button-hover-fill-color);\n",
              "  }\n",
              "\n",
              "  .colab-df-quickchart-complete:disabled,\n",
              "  .colab-df-quickchart-complete:disabled:hover {\n",
              "    background-color: var(--disabled-bg-color);\n",
              "    fill: var(--disabled-fill-color);\n",
              "    box-shadow: none;\n",
              "  }\n",
              "\n",
              "  .colab-df-spinner {\n",
              "    border: 2px solid var(--fill-color);\n",
              "    border-color: transparent;\n",
              "    border-bottom-color: var(--fill-color);\n",
              "    animation:\n",
              "      spin 1s steps(1) infinite;\n",
              "  }\n",
              "\n",
              "  @keyframes spin {\n",
              "    0% {\n",
              "      border-color: transparent;\n",
              "      border-bottom-color: var(--fill-color);\n",
              "      border-left-color: var(--fill-color);\n",
              "    }\n",
              "    20% {\n",
              "      border-color: transparent;\n",
              "      border-left-color: var(--fill-color);\n",
              "      border-top-color: var(--fill-color);\n",
              "    }\n",
              "    30% {\n",
              "      border-color: transparent;\n",
              "      border-left-color: var(--fill-color);\n",
              "      border-top-color: var(--fill-color);\n",
              "      border-right-color: var(--fill-color);\n",
              "    }\n",
              "    40% {\n",
              "      border-color: transparent;\n",
              "      border-right-color: var(--fill-color);\n",
              "      border-top-color: var(--fill-color);\n",
              "    }\n",
              "    60% {\n",
              "      border-color: transparent;\n",
              "      border-right-color: var(--fill-color);\n",
              "    }\n",
              "    80% {\n",
              "      border-color: transparent;\n",
              "      border-right-color: var(--fill-color);\n",
              "      border-bottom-color: var(--fill-color);\n",
              "    }\n",
              "    90% {\n",
              "      border-color: transparent;\n",
              "      border-bottom-color: var(--fill-color);\n",
              "    }\n",
              "  }\n",
              "</style>\n",
              "\n",
              "  <script>\n",
              "    async function quickchart(key) {\n",
              "      const quickchartButtonEl =\n",
              "        document.querySelector('#' + key + ' button');\n",
              "      quickchartButtonEl.disabled = true;  // To prevent multiple clicks.\n",
              "      quickchartButtonEl.classList.add('colab-df-spinner');\n",
              "      try {\n",
              "        const charts = await google.colab.kernel.invokeFunction(\n",
              "            'suggestCharts', [key], {});\n",
              "      } catch (error) {\n",
              "        console.error('Error during call to suggestCharts:', error);\n",
              "      }\n",
              "      quickchartButtonEl.classList.remove('colab-df-spinner');\n",
              "      quickchartButtonEl.classList.add('colab-df-quickchart-complete');\n",
              "    }\n",
              "    (() => {\n",
              "      let quickchartButtonEl =\n",
              "        document.querySelector('#df-c298180b-2b64-485f-a8a5-07ef6ce29317 button');\n",
              "      quickchartButtonEl.style.display =\n",
              "        google.colab.kernel.accessAllowed ? 'block' : 'none';\n",
              "    })();\n",
              "  </script>\n",
              "</div>\n",
              "\n",
              "    </div>\n",
              "  </div>\n"
            ],
            "application/vnd.google.colaboratory.intrinsic+json": {
              "type": "dataframe",
              "variable_name": "train_df"
            }
          },
          "metadata": {},
          "execution_count": 8
        }
      ]
    },
    {
      "cell_type": "code",
      "source": [
        "final_df = pd.concat([train_df, gender_encoded, encode_df], axis=1)\n",
        "final_df.head()"
      ],
      "metadata": {
        "colab": {
          "base_uri": "https://localhost:8080/",
          "height": 226
        },
        "id": "4-nFiyd2kIUv",
        "outputId": "44984a1b-c129-42c6-9a5d-198ae91d97cd"
      },
      "execution_count": 9,
      "outputs": [
        {
          "output_type": "execute_result",
          "data": {
            "text/plain": [
              "         ssn            cc_num    zip  city_pop       dob      acct_num  \\\n",
              "0  367859826  4361337605230458  74834      7590  19870612  349734538563   \n",
              "1  367859826  4361337605230458  74834      7590  19870612  349734538563   \n",
              "2  367859826  4361337605230458  74834      7590  19870612  349734538563   \n",
              "3  367859826  4361337605230458  74834      7590  19870612  349734538563   \n",
              "4  367859826  4361337605230458  74834      7590  19870612  349734538563   \n",
              "\n",
              "    unix_time     amt  is_fraud  gender_F  gender_M  job  category  merchant  \\\n",
              "0  1627678801  337.54         1       1.0       0.0   72         4       317   \n",
              "1  1627837661   21.13         1       1.0       0.0   72        10        67   \n",
              "2  1627839129   22.61         1       1.0       0.0   72        10       320   \n",
              "3  1627837044   17.32         1       1.0       0.0   72         5       238   \n",
              "4  1638392331   75.82         0       1.0       0.0   72         9       283   \n",
              "\n",
              "   location  \n",
              "0       116  \n",
              "1       116  \n",
              "2       116  \n",
              "3       116  \n",
              "4       116  "
            ],
            "text/html": [
              "\n",
              "  <div id=\"df-54fa052d-2b4b-4bb7-8caa-323fbaaf43fb\" class=\"colab-df-container\">\n",
              "    <div>\n",
              "<style scoped>\n",
              "    .dataframe tbody tr th:only-of-type {\n",
              "        vertical-align: middle;\n",
              "    }\n",
              "\n",
              "    .dataframe tbody tr th {\n",
              "        vertical-align: top;\n",
              "    }\n",
              "\n",
              "    .dataframe thead th {\n",
              "        text-align: right;\n",
              "    }\n",
              "</style>\n",
              "<table border=\"1\" class=\"dataframe\">\n",
              "  <thead>\n",
              "    <tr style=\"text-align: right;\">\n",
              "      <th></th>\n",
              "      <th>ssn</th>\n",
              "      <th>cc_num</th>\n",
              "      <th>zip</th>\n",
              "      <th>city_pop</th>\n",
              "      <th>dob</th>\n",
              "      <th>acct_num</th>\n",
              "      <th>unix_time</th>\n",
              "      <th>amt</th>\n",
              "      <th>is_fraud</th>\n",
              "      <th>gender_F</th>\n",
              "      <th>gender_M</th>\n",
              "      <th>job</th>\n",
              "      <th>category</th>\n",
              "      <th>merchant</th>\n",
              "      <th>location</th>\n",
              "    </tr>\n",
              "  </thead>\n",
              "  <tbody>\n",
              "    <tr>\n",
              "      <th>0</th>\n",
              "      <td>367859826</td>\n",
              "      <td>4361337605230458</td>\n",
              "      <td>74834</td>\n",
              "      <td>7590</td>\n",
              "      <td>19870612</td>\n",
              "      <td>349734538563</td>\n",
              "      <td>1627678801</td>\n",
              "      <td>337.54</td>\n",
              "      <td>1</td>\n",
              "      <td>1.0</td>\n",
              "      <td>0.0</td>\n",
              "      <td>72</td>\n",
              "      <td>4</td>\n",
              "      <td>317</td>\n",
              "      <td>116</td>\n",
              "    </tr>\n",
              "    <tr>\n",
              "      <th>1</th>\n",
              "      <td>367859826</td>\n",
              "      <td>4361337605230458</td>\n",
              "      <td>74834</td>\n",
              "      <td>7590</td>\n",
              "      <td>19870612</td>\n",
              "      <td>349734538563</td>\n",
              "      <td>1627837661</td>\n",
              "      <td>21.13</td>\n",
              "      <td>1</td>\n",
              "      <td>1.0</td>\n",
              "      <td>0.0</td>\n",
              "      <td>72</td>\n",
              "      <td>10</td>\n",
              "      <td>67</td>\n",
              "      <td>116</td>\n",
              "    </tr>\n",
              "    <tr>\n",
              "      <th>2</th>\n",
              "      <td>367859826</td>\n",
              "      <td>4361337605230458</td>\n",
              "      <td>74834</td>\n",
              "      <td>7590</td>\n",
              "      <td>19870612</td>\n",
              "      <td>349734538563</td>\n",
              "      <td>1627839129</td>\n",
              "      <td>22.61</td>\n",
              "      <td>1</td>\n",
              "      <td>1.0</td>\n",
              "      <td>0.0</td>\n",
              "      <td>72</td>\n",
              "      <td>10</td>\n",
              "      <td>320</td>\n",
              "      <td>116</td>\n",
              "    </tr>\n",
              "    <tr>\n",
              "      <th>3</th>\n",
              "      <td>367859826</td>\n",
              "      <td>4361337605230458</td>\n",
              "      <td>74834</td>\n",
              "      <td>7590</td>\n",
              "      <td>19870612</td>\n",
              "      <td>349734538563</td>\n",
              "      <td>1627837044</td>\n",
              "      <td>17.32</td>\n",
              "      <td>1</td>\n",
              "      <td>1.0</td>\n",
              "      <td>0.0</td>\n",
              "      <td>72</td>\n",
              "      <td>5</td>\n",
              "      <td>238</td>\n",
              "      <td>116</td>\n",
              "    </tr>\n",
              "    <tr>\n",
              "      <th>4</th>\n",
              "      <td>367859826</td>\n",
              "      <td>4361337605230458</td>\n",
              "      <td>74834</td>\n",
              "      <td>7590</td>\n",
              "      <td>19870612</td>\n",
              "      <td>349734538563</td>\n",
              "      <td>1638392331</td>\n",
              "      <td>75.82</td>\n",
              "      <td>0</td>\n",
              "      <td>1.0</td>\n",
              "      <td>0.0</td>\n",
              "      <td>72</td>\n",
              "      <td>9</td>\n",
              "      <td>283</td>\n",
              "      <td>116</td>\n",
              "    </tr>\n",
              "  </tbody>\n",
              "</table>\n",
              "</div>\n",
              "    <div class=\"colab-df-buttons\">\n",
              "\n",
              "  <div class=\"colab-df-container\">\n",
              "    <button class=\"colab-df-convert\" onclick=\"convertToInteractive('df-54fa052d-2b4b-4bb7-8caa-323fbaaf43fb')\"\n",
              "            title=\"Convert this dataframe to an interactive table.\"\n",
              "            style=\"display:none;\">\n",
              "\n",
              "  <svg xmlns=\"http://www.w3.org/2000/svg\" height=\"24px\" viewBox=\"0 -960 960 960\">\n",
              "    <path d=\"M120-120v-720h720v720H120Zm60-500h600v-160H180v160Zm220 220h160v-160H400v160Zm0 220h160v-160H400v160ZM180-400h160v-160H180v160Zm440 0h160v-160H620v160ZM180-180h160v-160H180v160Zm440 0h160v-160H620v160Z\"/>\n",
              "  </svg>\n",
              "    </button>\n",
              "\n",
              "  <style>\n",
              "    .colab-df-container {\n",
              "      display:flex;\n",
              "      gap: 12px;\n",
              "    }\n",
              "\n",
              "    .colab-df-convert {\n",
              "      background-color: #E8F0FE;\n",
              "      border: none;\n",
              "      border-radius: 50%;\n",
              "      cursor: pointer;\n",
              "      display: none;\n",
              "      fill: #1967D2;\n",
              "      height: 32px;\n",
              "      padding: 0 0 0 0;\n",
              "      width: 32px;\n",
              "    }\n",
              "\n",
              "    .colab-df-convert:hover {\n",
              "      background-color: #E2EBFA;\n",
              "      box-shadow: 0px 1px 2px rgba(60, 64, 67, 0.3), 0px 1px 3px 1px rgba(60, 64, 67, 0.15);\n",
              "      fill: #174EA6;\n",
              "    }\n",
              "\n",
              "    .colab-df-buttons div {\n",
              "      margin-bottom: 4px;\n",
              "    }\n",
              "\n",
              "    [theme=dark] .colab-df-convert {\n",
              "      background-color: #3B4455;\n",
              "      fill: #D2E3FC;\n",
              "    }\n",
              "\n",
              "    [theme=dark] .colab-df-convert:hover {\n",
              "      background-color: #434B5C;\n",
              "      box-shadow: 0px 1px 3px 1px rgba(0, 0, 0, 0.15);\n",
              "      filter: drop-shadow(0px 1px 2px rgba(0, 0, 0, 0.3));\n",
              "      fill: #FFFFFF;\n",
              "    }\n",
              "  </style>\n",
              "\n",
              "    <script>\n",
              "      const buttonEl =\n",
              "        document.querySelector('#df-54fa052d-2b4b-4bb7-8caa-323fbaaf43fb button.colab-df-convert');\n",
              "      buttonEl.style.display =\n",
              "        google.colab.kernel.accessAllowed ? 'block' : 'none';\n",
              "\n",
              "      async function convertToInteractive(key) {\n",
              "        const element = document.querySelector('#df-54fa052d-2b4b-4bb7-8caa-323fbaaf43fb');\n",
              "        const dataTable =\n",
              "          await google.colab.kernel.invokeFunction('convertToInteractive',\n",
              "                                                    [key], {});\n",
              "        if (!dataTable) return;\n",
              "\n",
              "        const docLinkHtml = 'Like what you see? Visit the ' +\n",
              "          '<a target=\"_blank\" href=https://colab.research.google.com/notebooks/data_table.ipynb>data table notebook</a>'\n",
              "          + ' to learn more about interactive tables.';\n",
              "        element.innerHTML = '';\n",
              "        dataTable['output_type'] = 'display_data';\n",
              "        await google.colab.output.renderOutput(dataTable, element);\n",
              "        const docLink = document.createElement('div');\n",
              "        docLink.innerHTML = docLinkHtml;\n",
              "        element.appendChild(docLink);\n",
              "      }\n",
              "    </script>\n",
              "  </div>\n",
              "\n",
              "\n",
              "<div id=\"df-092d0f39-f817-421b-9f68-d822c5087adc\">\n",
              "  <button class=\"colab-df-quickchart\" onclick=\"quickchart('df-092d0f39-f817-421b-9f68-d822c5087adc')\"\n",
              "            title=\"Suggest charts\"\n",
              "            style=\"display:none;\">\n",
              "\n",
              "<svg xmlns=\"http://www.w3.org/2000/svg\" height=\"24px\"viewBox=\"0 0 24 24\"\n",
              "     width=\"24px\">\n",
              "    <g>\n",
              "        <path d=\"M19 3H5c-1.1 0-2 .9-2 2v14c0 1.1.9 2 2 2h14c1.1 0 2-.9 2-2V5c0-1.1-.9-2-2-2zM9 17H7v-7h2v7zm4 0h-2V7h2v10zm4 0h-2v-4h2v4z\"/>\n",
              "    </g>\n",
              "</svg>\n",
              "  </button>\n",
              "\n",
              "<style>\n",
              "  .colab-df-quickchart {\n",
              "      --bg-color: #E8F0FE;\n",
              "      --fill-color: #1967D2;\n",
              "      --hover-bg-color: #E2EBFA;\n",
              "      --hover-fill-color: #174EA6;\n",
              "      --disabled-fill-color: #AAA;\n",
              "      --disabled-bg-color: #DDD;\n",
              "  }\n",
              "\n",
              "  [theme=dark] .colab-df-quickchart {\n",
              "      --bg-color: #3B4455;\n",
              "      --fill-color: #D2E3FC;\n",
              "      --hover-bg-color: #434B5C;\n",
              "      --hover-fill-color: #FFFFFF;\n",
              "      --disabled-bg-color: #3B4455;\n",
              "      --disabled-fill-color: #666;\n",
              "  }\n",
              "\n",
              "  .colab-df-quickchart {\n",
              "    background-color: var(--bg-color);\n",
              "    border: none;\n",
              "    border-radius: 50%;\n",
              "    cursor: pointer;\n",
              "    display: none;\n",
              "    fill: var(--fill-color);\n",
              "    height: 32px;\n",
              "    padding: 0;\n",
              "    width: 32px;\n",
              "  }\n",
              "\n",
              "  .colab-df-quickchart:hover {\n",
              "    background-color: var(--hover-bg-color);\n",
              "    box-shadow: 0 1px 2px rgba(60, 64, 67, 0.3), 0 1px 3px 1px rgba(60, 64, 67, 0.15);\n",
              "    fill: var(--button-hover-fill-color);\n",
              "  }\n",
              "\n",
              "  .colab-df-quickchart-complete:disabled,\n",
              "  .colab-df-quickchart-complete:disabled:hover {\n",
              "    background-color: var(--disabled-bg-color);\n",
              "    fill: var(--disabled-fill-color);\n",
              "    box-shadow: none;\n",
              "  }\n",
              "\n",
              "  .colab-df-spinner {\n",
              "    border: 2px solid var(--fill-color);\n",
              "    border-color: transparent;\n",
              "    border-bottom-color: var(--fill-color);\n",
              "    animation:\n",
              "      spin 1s steps(1) infinite;\n",
              "  }\n",
              "\n",
              "  @keyframes spin {\n",
              "    0% {\n",
              "      border-color: transparent;\n",
              "      border-bottom-color: var(--fill-color);\n",
              "      border-left-color: var(--fill-color);\n",
              "    }\n",
              "    20% {\n",
              "      border-color: transparent;\n",
              "      border-left-color: var(--fill-color);\n",
              "      border-top-color: var(--fill-color);\n",
              "    }\n",
              "    30% {\n",
              "      border-color: transparent;\n",
              "      border-left-color: var(--fill-color);\n",
              "      border-top-color: var(--fill-color);\n",
              "      border-right-color: var(--fill-color);\n",
              "    }\n",
              "    40% {\n",
              "      border-color: transparent;\n",
              "      border-right-color: var(--fill-color);\n",
              "      border-top-color: var(--fill-color);\n",
              "    }\n",
              "    60% {\n",
              "      border-color: transparent;\n",
              "      border-right-color: var(--fill-color);\n",
              "    }\n",
              "    80% {\n",
              "      border-color: transparent;\n",
              "      border-right-color: var(--fill-color);\n",
              "      border-bottom-color: var(--fill-color);\n",
              "    }\n",
              "    90% {\n",
              "      border-color: transparent;\n",
              "      border-bottom-color: var(--fill-color);\n",
              "    }\n",
              "  }\n",
              "</style>\n",
              "\n",
              "  <script>\n",
              "    async function quickchart(key) {\n",
              "      const quickchartButtonEl =\n",
              "        document.querySelector('#' + key + ' button');\n",
              "      quickchartButtonEl.disabled = true;  // To prevent multiple clicks.\n",
              "      quickchartButtonEl.classList.add('colab-df-spinner');\n",
              "      try {\n",
              "        const charts = await google.colab.kernel.invokeFunction(\n",
              "            'suggestCharts', [key], {});\n",
              "      } catch (error) {\n",
              "        console.error('Error during call to suggestCharts:', error);\n",
              "      }\n",
              "      quickchartButtonEl.classList.remove('colab-df-spinner');\n",
              "      quickchartButtonEl.classList.add('colab-df-quickchart-complete');\n",
              "    }\n",
              "    (() => {\n",
              "      let quickchartButtonEl =\n",
              "        document.querySelector('#df-092d0f39-f817-421b-9f68-d822c5087adc button');\n",
              "      quickchartButtonEl.style.display =\n",
              "        google.colab.kernel.accessAllowed ? 'block' : 'none';\n",
              "    })();\n",
              "  </script>\n",
              "</div>\n",
              "\n",
              "    </div>\n",
              "  </div>\n"
            ],
            "application/vnd.google.colaboratory.intrinsic+json": {
              "type": "dataframe",
              "variable_name": "final_df"
            }
          },
          "metadata": {},
          "execution_count": 9
        }
      ]
    },
    {
      "cell_type": "code",
      "source": [
        "train_df, test_df = train_test_split(final_df, test_size=0.2, random_state=42)\n",
        "train_df, val_df = train_test_split(train_df, test_size=0.2, random_state=42)\n",
        "\n",
        "train_labels = np.array(train_df.pop('is_fraud')).reshape(-1,1)\n",
        "val_labels = np.array(val_df.pop('is_fraud')).reshape(-1,1)\n",
        "test_labels = np.array(test_df.pop('is_fraud')).reshape(-1,1)\n",
        "\n",
        "train_features = np.array(train_df)\n",
        "val_features = np.array(val_df)\n",
        "test_features = np.array(test_df)\n",
        "\n",
        "print(train_labels.shape, val_labels.shape, test_labels.shape)\n",
        "\n",
        "print(f'Average class probability in train set: {train_labels.mean():.3f}')\n",
        "print(f'Average class probability in val set: {val_labels.mean():.3f}')\n",
        "print(f'Average class probability in test set: {test_labels.mean():.3f}')"
      ],
      "metadata": {
        "colab": {
          "base_uri": "https://localhost:8080/"
        },
        "id": "Bq6404gJMN3A",
        "outputId": "0893af36-3a89-4083-ef76-039ca081967d"
      },
      "execution_count": 10,
      "outputs": [
        {
          "output_type": "stream",
          "name": "stdout",
          "text": [
            "(1693884, 1) (423471, 1) (529339, 1)\n",
            "Average class probability in train set: 0.004\n",
            "Average class probability in val set: 0.004\n",
            "Average class probability in test set: 0.004\n"
          ]
        }
      ]
    },
    {
      "cell_type": "code",
      "source": [
        "scaler = StandardScaler()\n",
        "train_features = scaler.fit_transform(train_features)\n",
        "\n",
        "val_features = scaler.transform(val_features)\n",
        "test_features = scaler.transform(test_features)\n",
        "\n",
        "train_features = np.clip(train_features, -5, 5)\n",
        "val_features = np.clip(val_features, -5, 5)\n",
        "test_features = np.clip(test_features, -5, 5)\n",
        "\n",
        "\n",
        "print('Training labels shape:', train_labels.shape)\n",
        "print('Validation labels shape:', val_labels.shape)\n",
        "print('Test labels shape:', test_labels.shape)\n",
        "\n",
        "print('Training features shape:', train_features.shape)\n",
        "print('Validation features shape:', val_features.shape)\n",
        "print('Test features shape:', test_features.shape)"
      ],
      "metadata": {
        "colab": {
          "base_uri": "https://localhost:8080/"
        },
        "id": "kbOyvp0BSn6t",
        "outputId": "a0b970e8-b072-4ff7-8399-f8c400f1af09"
      },
      "execution_count": 11,
      "outputs": [
        {
          "output_type": "stream",
          "name": "stdout",
          "text": [
            "Training labels shape: (1693884, 1)\n",
            "Validation labels shape: (423471, 1)\n",
            "Test labels shape: (529339, 1)\n",
            "Training features shape: (1693884, 14)\n",
            "Validation features shape: (423471, 14)\n",
            "Test features shape: (529339, 14)\n"
          ]
        }
      ]
    },
    {
      "cell_type": "markdown",
      "source": [
        "## Define model"
      ],
      "metadata": {
        "id": "VqP54D69cKYo"
      }
    },
    {
      "cell_type": "code",
      "source": [
        "METRICS = [\n",
        "      keras.metrics.BinaryCrossentropy(name='cross entropy'),  # same as model's loss\n",
        "      keras.metrics.MeanSquaredError(name='Brier score'),\n",
        "      keras.metrics.TruePositives(name='tp'),\n",
        "      keras.metrics.FalsePositives(name='fp'),\n",
        "      keras.metrics.TrueNegatives(name='tn'),\n",
        "      keras.metrics.FalseNegatives(name='fn'),\n",
        "      keras.metrics.BinaryAccuracy(name='accuracy'),\n",
        "      keras.metrics.Precision(name='precision'),\n",
        "      keras.metrics.Recall(name='recall'),\n",
        "      keras.metrics.AUC(name='auc'),\n",
        "      keras.metrics.AUC(name='prc', curve='PR'), # precision-recall curve\n",
        "]\n",
        "\n",
        "def make_model(metrics=METRICS, output_bias=None):\n",
        "  if output_bias is not None:\n",
        "    output_bias = tf.keras.initializers.Constant(output_bias)\n",
        "  model = keras.Sequential([\n",
        "      keras.layers.Dense(\n",
        "          16, activation='relu',\n",
        "          input_shape=(train_features.shape[-1],)),\n",
        "      keras.layers.Dropout(0.5),\n",
        "      keras.layers.Dense(1, activation='sigmoid',\n",
        "                         bias_initializer=output_bias),\n",
        "  ])\n",
        "\n",
        "  model.compile(\n",
        "      optimizer=keras.optimizers.Adam(learning_rate=1e-3),\n",
        "      loss=keras.losses.BinaryCrossentropy(),\n",
        "      metrics=metrics)\n",
        "\n",
        "  return model"
      ],
      "metadata": {
        "id": "eQHpc26hib75"
      },
      "execution_count": 12,
      "outputs": []
    },
    {
      "cell_type": "markdown",
      "source": [
        "## Baseline Model"
      ],
      "metadata": {
        "id": "vStwHS2BcSFN"
      }
    },
    {
      "cell_type": "code",
      "source": [
        "EPOCHS = 100\n",
        "BATCH_SIZE = 2048\n",
        "\n",
        "def early_stopping():\n",
        " return tf.keras.callbacks.EarlyStopping(\n",
        "    monitor='val_prc',\n",
        "    verbose=1,\n",
        "    patience=10,\n",
        "    mode='max',\n",
        "    restore_best_weights=True)"
      ],
      "metadata": {
        "id": "SqQgifH0cGea"
      },
      "execution_count": 13,
      "outputs": []
    },
    {
      "cell_type": "code",
      "source": [
        "model = make_model()\n",
        "model.summary()"
      ],
      "metadata": {
        "colab": {
          "base_uri": "https://localhost:8080/",
          "height": 281
        },
        "id": "U7ZGRJUKcdUn",
        "outputId": "6f05db9f-d3b0-4778-fc81-2f8f683ba1a5"
      },
      "execution_count": 14,
      "outputs": [
        {
          "output_type": "stream",
          "name": "stderr",
          "text": [
            "/usr/local/lib/python3.11/dist-packages/keras/src/layers/core/dense.py:87: UserWarning: Do not pass an `input_shape`/`input_dim` argument to a layer. When using Sequential models, prefer using an `Input(shape)` object as the first layer in the model instead.\n",
            "  super().__init__(activity_regularizer=activity_regularizer, **kwargs)\n"
          ]
        },
        {
          "output_type": "display_data",
          "data": {
            "text/plain": [
              "\u001b[1mModel: \"sequential\"\u001b[0m\n"
            ],
            "text/html": [
              "<pre style=\"white-space:pre;overflow-x:auto;line-height:normal;font-family:Menlo,'DejaVu Sans Mono',consolas,'Courier New',monospace\"><span style=\"font-weight: bold\">Model: \"sequential\"</span>\n",
              "</pre>\n"
            ]
          },
          "metadata": {}
        },
        {
          "output_type": "display_data",
          "data": {
            "text/plain": [
              "┏━━━━━━━━━━━━━━━━━━━━━━━━━━━━━━━━━━━━━━┳━━━━━━━━━━━━━━━━━━━━━━━━━━━━━┳━━━━━━━━━━━━━━━━━┓\n",
              "┃\u001b[1m \u001b[0m\u001b[1mLayer (type)                        \u001b[0m\u001b[1m \u001b[0m┃\u001b[1m \u001b[0m\u001b[1mOutput Shape               \u001b[0m\u001b[1m \u001b[0m┃\u001b[1m \u001b[0m\u001b[1m        Param #\u001b[0m\u001b[1m \u001b[0m┃\n",
              "┡━━━━━━━━━━━━━━━━━━━━━━━━━━━━━━━━━━━━━━╇━━━━━━━━━━━━━━━━━━━━━━━━━━━━━╇━━━━━━━━━━━━━━━━━┩\n",
              "│ dense (\u001b[38;5;33mDense\u001b[0m)                        │ (\u001b[38;5;45mNone\u001b[0m, \u001b[38;5;34m16\u001b[0m)                  │             \u001b[38;5;34m240\u001b[0m │\n",
              "├──────────────────────────────────────┼─────────────────────────────┼─────────────────┤\n",
              "│ dropout (\u001b[38;5;33mDropout\u001b[0m)                    │ (\u001b[38;5;45mNone\u001b[0m, \u001b[38;5;34m16\u001b[0m)                  │               \u001b[38;5;34m0\u001b[0m │\n",
              "├──────────────────────────────────────┼─────────────────────────────┼─────────────────┤\n",
              "│ dense_1 (\u001b[38;5;33mDense\u001b[0m)                      │ (\u001b[38;5;45mNone\u001b[0m, \u001b[38;5;34m1\u001b[0m)                   │              \u001b[38;5;34m17\u001b[0m │\n",
              "└──────────────────────────────────────┴─────────────────────────────┴─────────────────┘\n"
            ],
            "text/html": [
              "<pre style=\"white-space:pre;overflow-x:auto;line-height:normal;font-family:Menlo,'DejaVu Sans Mono',consolas,'Courier New',monospace\">┏━━━━━━━━━━━━━━━━━━━━━━━━━━━━━━━━━━━━━━┳━━━━━━━━━━━━━━━━━━━━━━━━━━━━━┳━━━━━━━━━━━━━━━━━┓\n",
              "┃<span style=\"font-weight: bold\"> Layer (type)                         </span>┃<span style=\"font-weight: bold\"> Output Shape                </span>┃<span style=\"font-weight: bold\">         Param # </span>┃\n",
              "┡━━━━━━━━━━━━━━━━━━━━━━━━━━━━━━━━━━━━━━╇━━━━━━━━━━━━━━━━━━━━━━━━━━━━━╇━━━━━━━━━━━━━━━━━┩\n",
              "│ dense (<span style=\"color: #0087ff; text-decoration-color: #0087ff\">Dense</span>)                        │ (<span style=\"color: #00d7ff; text-decoration-color: #00d7ff\">None</span>, <span style=\"color: #00af00; text-decoration-color: #00af00\">16</span>)                  │             <span style=\"color: #00af00; text-decoration-color: #00af00\">240</span> │\n",
              "├──────────────────────────────────────┼─────────────────────────────┼─────────────────┤\n",
              "│ dropout (<span style=\"color: #0087ff; text-decoration-color: #0087ff\">Dropout</span>)                    │ (<span style=\"color: #00d7ff; text-decoration-color: #00d7ff\">None</span>, <span style=\"color: #00af00; text-decoration-color: #00af00\">16</span>)                  │               <span style=\"color: #00af00; text-decoration-color: #00af00\">0</span> │\n",
              "├──────────────────────────────────────┼─────────────────────────────┼─────────────────┤\n",
              "│ dense_1 (<span style=\"color: #0087ff; text-decoration-color: #0087ff\">Dense</span>)                      │ (<span style=\"color: #00d7ff; text-decoration-color: #00d7ff\">None</span>, <span style=\"color: #00af00; text-decoration-color: #00af00\">1</span>)                   │              <span style=\"color: #00af00; text-decoration-color: #00af00\">17</span> │\n",
              "└──────────────────────────────────────┴─────────────────────────────┴─────────────────┘\n",
              "</pre>\n"
            ]
          },
          "metadata": {}
        },
        {
          "output_type": "display_data",
          "data": {
            "text/plain": [
              "\u001b[1m Total params: \u001b[0m\u001b[38;5;34m257\u001b[0m (1.00 KB)\n"
            ],
            "text/html": [
              "<pre style=\"white-space:pre;overflow-x:auto;line-height:normal;font-family:Menlo,'DejaVu Sans Mono',consolas,'Courier New',monospace\"><span style=\"font-weight: bold\"> Total params: </span><span style=\"color: #00af00; text-decoration-color: #00af00\">257</span> (1.00 KB)\n",
              "</pre>\n"
            ]
          },
          "metadata": {}
        },
        {
          "output_type": "display_data",
          "data": {
            "text/plain": [
              "\u001b[1m Trainable params: \u001b[0m\u001b[38;5;34m257\u001b[0m (1.00 KB)\n"
            ],
            "text/html": [
              "<pre style=\"white-space:pre;overflow-x:auto;line-height:normal;font-family:Menlo,'DejaVu Sans Mono',consolas,'Courier New',monospace\"><span style=\"font-weight: bold\"> Trainable params: </span><span style=\"color: #00af00; text-decoration-color: #00af00\">257</span> (1.00 KB)\n",
              "</pre>\n"
            ]
          },
          "metadata": {}
        },
        {
          "output_type": "display_data",
          "data": {
            "text/plain": [
              "\u001b[1m Non-trainable params: \u001b[0m\u001b[38;5;34m0\u001b[0m (0.00 B)\n"
            ],
            "text/html": [
              "<pre style=\"white-space:pre;overflow-x:auto;line-height:normal;font-family:Menlo,'DejaVu Sans Mono',consolas,'Courier New',monospace\"><span style=\"font-weight: bold\"> Non-trainable params: </span><span style=\"color: #00af00; text-decoration-color: #00af00\">0</span> (0.00 B)\n",
              "</pre>\n"
            ]
          },
          "metadata": {}
        }
      ]
    },
    {
      "cell_type": "markdown",
      "source": [
        "Test run baseline model"
      ],
      "metadata": {
        "id": "f9BCJMY1dWS6"
      }
    },
    {
      "cell_type": "code",
      "source": [
        "model.predict(train_features[:10])"
      ],
      "metadata": {
        "colab": {
          "base_uri": "https://localhost:8080/"
        },
        "id": "nWA2V3mYdSzt",
        "outputId": "50009af7-ed23-40e6-fb72-7ecb3dbd9526"
      },
      "execution_count": 15,
      "outputs": [
        {
          "output_type": "stream",
          "name": "stdout",
          "text": [
            "\u001b[1m1/1\u001b[0m \u001b[32m━━━━━━━━━━━━━━━━━━━━\u001b[0m\u001b[37m\u001b[0m \u001b[1m0s\u001b[0m 221ms/step\n"
          ]
        },
        {
          "output_type": "execute_result",
          "data": {
            "text/plain": [
              "array([[0.30115286],\n",
              "       [0.41508543],\n",
              "       [0.36576003],\n",
              "       [0.29583853],\n",
              "       [0.26659536],\n",
              "       [0.31388226],\n",
              "       [0.26530376],\n",
              "       [0.36185798],\n",
              "       [0.38860303],\n",
              "       [0.2413745 ]], dtype=float32)"
            ]
          },
          "metadata": {},
          "execution_count": 15
        }
      ]
    },
    {
      "cell_type": "markdown",
      "source": [
        "Set correct initial bias"
      ],
      "metadata": {
        "id": "VbBCSo_EdZ1A"
      }
    },
    {
      "cell_type": "code",
      "source": [
        "initial_bias = np.log([pos/neg])\n",
        "initial_bias"
      ],
      "metadata": {
        "colab": {
          "base_uri": "https://localhost:8080/"
        },
        "id": "s2MXPyZyd68B",
        "outputId": "76c46538-c976-4524-a9c2-247b319fab1f"
      },
      "execution_count": 16,
      "outputs": [
        {
          "output_type": "execute_result",
          "data": {
            "text/plain": [
              "array([-5.63445295])"
            ]
          },
          "metadata": {},
          "execution_count": 16
        }
      ]
    },
    {
      "cell_type": "markdown",
      "source": [
        "Baseline with initial bias"
      ],
      "metadata": {
        "id": "NMRUVN7teJLe"
      }
    },
    {
      "cell_type": "code",
      "source": [
        "model = make_model(output_bias=initial_bias)\n",
        "model.predict(train_features[:10])"
      ],
      "metadata": {
        "colab": {
          "base_uri": "https://localhost:8080/"
        },
        "id": "iNp8oNoXeFY-",
        "outputId": "ca2d8079-2061-45ba-e20f-3b752bd80fbf"
      },
      "execution_count": 17,
      "outputs": [
        {
          "output_type": "stream",
          "name": "stdout",
          "text": [
            "\u001b[1m1/1\u001b[0m \u001b[32m━━━━━━━━━━━━━━━━━━━━\u001b[0m\u001b[37m\u001b[0m \u001b[1m0s\u001b[0m 67ms/step\n"
          ]
        },
        {
          "output_type": "execute_result",
          "data": {
            "text/plain": [
              "array([[0.00371529],\n",
              "       [0.00395947],\n",
              "       [0.00650984],\n",
              "       [0.00344358],\n",
              "       [0.00842436],\n",
              "       [0.00667642],\n",
              "       [0.00370054],\n",
              "       [0.00089348],\n",
              "       [0.00340915],\n",
              "       [0.00546494]], dtype=float32)"
            ]
          },
          "metadata": {},
          "execution_count": 17
        }
      ]
    },
    {
      "cell_type": "code",
      "source": [
        "results = model.evaluate(train_features, train_labels, batch_size=BATCH_SIZE, verbose=0)\n",
        "print(\"Loss: {:0.4f}\".format(results[0]))"
      ],
      "metadata": {
        "colab": {
          "base_uri": "https://localhost:8080/"
        },
        "id": "p1nfBhI1eN39",
        "outputId": "5bd7b636-f8bf-4596-dc48-c79c640ca7ff"
      },
      "execution_count": 18,
      "outputs": [
        {
          "output_type": "stream",
          "name": "stdout",
          "text": [
            "Loss: 0.0227\n"
          ]
        }
      ]
    },
    {
      "cell_type": "markdown",
      "source": [
        "Saving initial weights to temp file"
      ],
      "metadata": {
        "id": "PpSl1u_Heko1"
      }
    },
    {
      "cell_type": "code",
      "source": [
        "import tempfile\n",
        "\n",
        "initial_weights = os.path.join(tempfile.mkdtemp(), 'initial.weights.h5')\n",
        "model.save_weights(initial_weights)\n"
      ],
      "metadata": {
        "id": "qVDySW20eojn"
      },
      "execution_count": 19,
      "outputs": []
    },
    {
      "cell_type": "markdown",
      "source": [
        "##Bias vs Non-Bias Comparison"
      ],
      "metadata": {
        "id": "RtEE4BM4ftRE"
      }
    },
    {
      "cell_type": "code",
      "source": [
        "# no initial bias\n",
        "\n",
        "model = make_model()\n",
        "model.load_weights(initial_weights)\n",
        "model.layers[-1].bias.assign([0.0])\n",
        "zero_bias_history = model.fit(\n",
        "    train_features,\n",
        "    train_labels,\n",
        "    batch_size=BATCH_SIZE,\n",
        "    epochs=20,\n",
        "    callbacks=[early_stopping()],\n",
        "    validation_data=(val_features, val_labels),\n",
        "    verbose=0\n",
        ")"
      ],
      "metadata": {
        "colab": {
          "base_uri": "https://localhost:8080/"
        },
        "id": "JfWf0krdfy6O",
        "outputId": "9726ec15-df3a-4b00-e3a0-32780249f9f3"
      },
      "execution_count": 20,
      "outputs": [
        {
          "output_type": "stream",
          "name": "stdout",
          "text": [
            "Epoch 20: early stopping\n",
            "Restoring model weights from the end of the best epoch: 10.\n"
          ]
        }
      ]
    },
    {
      "cell_type": "code",
      "source": [
        "# model with initial bias\n",
        "\n",
        "model = make_model()\n",
        "model.load_weights(initial_weights)\n",
        "careful_bias_history = model.fit(\n",
        "    train_features,\n",
        "    train_labels,\n",
        "    batch_size=BATCH_SIZE,\n",
        "    epochs=20,\n",
        "    callbacks=[early_stopping()],\n",
        "    validation_data=(val_features, val_labels),\n",
        "    verbose=0\n",
        ")"
      ],
      "metadata": {
        "colab": {
          "base_uri": "https://localhost:8080/"
        },
        "id": "0axkAiZsgYUg",
        "outputId": "8c83f616-3136-4a0b-c14e-c7b3b70063d6"
      },
      "execution_count": 23,
      "outputs": [
        {
          "output_type": "stream",
          "name": "stdout",
          "text": [
            "Restoring model weights from the end of the best epoch: 15.\n"
          ]
        }
      ]
    },
    {
      "cell_type": "code",
      "source": [
        "colors = plt.rcParams['axes.prop_cycle'].by_key()['color']\n",
        "\n",
        "def plot_loss(history, label, n):\n",
        "  # Use a log scale to show the wide range of values.\n",
        "  plt.semilogy(history.epoch, history.history['loss'],\n",
        "               color=colors[n], label='Train ' + label)\n",
        "  plt.semilogy(history.epoch, history.history['val_loss'],\n",
        "               color=colors[n], label='Val ' + label,\n",
        "               linestyle=\"--\")\n",
        "  plt.xlabel('Epoch')\n",
        "  plt.ylabel('Loss')\n",
        "  plt.legend()"
      ],
      "metadata": {
        "id": "ydD729YtiPqp"
      },
      "execution_count": 24,
      "outputs": []
    },
    {
      "cell_type": "code",
      "source": [
        "plot_loss(zero_bias_history, \"Zero Bias\", 0)\n",
        "plot_loss(careful_bias_history, \"Careful Bias\", 1)"
      ],
      "metadata": {
        "colab": {
          "base_uri": "https://localhost:8080/",
          "height": 449
        },
        "id": "GKqxtzRAiaOE",
        "outputId": "486bfe90-56d0-480a-c9a8-da3ca17e9e52"
      },
      "execution_count": 25,
      "outputs": [
        {
          "output_type": "display_data",
          "data": {
            "text/plain": [
              "<Figure size 640x480 with 1 Axes>"
            ],
            "image/png": "[encoded data removed]"
          },
          "metadata": {}
        }
      ]
    },
    {
      "cell_type": "markdown",
      "source": [
        "## Train Model"
      ],
      "metadata": {
        "id": "tQ75f5H5i359"
      }
    },
    {
      "cell_type": "code",
      "source": [
        "model = make_model()\n",
        "model.load_weights(initial_weights)\n",
        "baseline_history = model.fit(\n",
        "    train_features,\n",
        "    train_labels,\n",
        "    batch_size=BATCH_SIZE,\n",
        "    epochs=EPOCHS,\n",
        "    callbacks=[early_stopping()],\n",
        "    validation_data=(val_features, val_labels))"
      ],
      "metadata": {
        "colab": {
          "base_uri": "https://localhost:8080/"
        },
        "id": "m_XGyuQ3i7kI",
        "outputId": "37cd6c54-ccf8-407b-b943-0b89ad6a4fed"
      },
      "execution_count": 26,
      "outputs": [
        {
          "output_type": "stream",
          "name": "stdout",
          "text": [
            "Epoch 1/100\n",
            "\u001b[1m828/828\u001b[0m \u001b[32m━━━━━━━━━━━━━━━━━━━━\u001b[0m\u001b[37m\u001b[0m \u001b[1m9s\u001b[0m 7ms/step - Brier score: 0.0033 - accuracy: 0.9964 - auc: 0.8146 - cross entropy: 0.0183 - fn: 4437.2451 - fp: 198.6972 - loss: 0.0208 - prc: 0.1409 - precision: 0.4286 - recall: 0.0187 - tn: 1268649.6250 - tp: 98.5066 - val_Brier score: 0.0032 - val_accuracy: 0.9965 - val_auc: 0.8370 - val_cross entropy: 0.0165 - val_fn: 1497.0000 - val_fp: 0.0000e+00 - val_loss: 0.0165 - val_prc: 0.2227 - val_precision: 0.0000e+00 - val_recall: 0.0000e+00 - val_tn: 421974.0000 - val_tp: 0.0000e+00\n",
            "Epoch 2/100\n",
            "\u001b[1m828/828\u001b[0m \u001b[32m━━━━━━━━━━━━━━━━━━━━\u001b[0m\u001b[37m\u001b[0m \u001b[1m9s\u001b[0m 5ms/step - Brier score: 0.0034 - accuracy: 0.9962 - auc: 0.8196 - cross entropy: 0.0179 - fn: 2834.6562 - fp: 362.4053 - loss: 0.0179 - prc: 0.1454 - precision: 0.3482 - recall: 0.0640 - tn: 846515.0000 - tp: 200.9650 - val_Brier score: 0.0031 - val_accuracy: 0.9965 - val_auc: 0.8464 - val_cross entropy: 0.0161 - val_fn: 1497.0000 - val_fp: 0.0000e+00 - val_loss: 0.0161 - val_prc: 0.2314 - val_precision: 0.0000e+00 - val_recall: 0.0000e+00 - val_tn: 421974.0000 - val_tp: 0.0000e+00\n",
            "Epoch 3/100\n",
            "\u001b[1m828/828\u001b[0m \u001b[32m━━━━━━━━━━━━━━━━━━━━\u001b[0m\u001b[37m\u001b[0m \u001b[1m5s\u001b[0m 6ms/step - Brier score: 0.0033 - accuracy: 0.9962 - auc: 0.8374 - cross entropy: 0.0173 - fn: 2804.7805 - fp: 383.5054 - loss: 0.0173 - prc: 0.1670 - precision: 0.3752 - recall: 0.0758 - tn: 846499.8125 - tp: 224.9493 - val_Brier score: 0.0031 - val_accuracy: 0.9965 - val_auc: 0.8588 - val_cross entropy: 0.0159 - val_fn: 1493.0000 - val_fp: 0.0000e+00 - val_loss: 0.0159 - val_prc: 0.2331 - val_precision: 1.0000 - val_recall: 0.0027 - val_tn: 421974.0000 - val_tp: 4.0000\n",
            "Epoch 4/100\n",
            "\u001b[1m828/828\u001b[0m \u001b[32m━━━━━━━━━━━━━━━━━━━━\u001b[0m\u001b[37m\u001b[0m \u001b[1m5s\u001b[0m 6ms/step - Brier score: 0.0034 - accuracy: 0.9962 - auc: 0.8469 - cross entropy: 0.0176 - fn: 2857.1326 - fp: 374.1689 - loss: 0.0176 - prc: 0.1628 - precision: 0.3757 - recall: 0.0739 - tn: 846461.6875 - tp: 220.0277 - val_Brier score: 0.0031 - val_accuracy: 0.9965 - val_auc: 0.8645 - val_cross entropy: 0.0158 - val_fn: 1492.0000 - val_fp: 0.0000e+00 - val_loss: 0.0158 - val_prc: 0.2352 - val_precision: 1.0000 - val_recall: 0.0033 - val_tn: 421974.0000 - val_tp: 5.0000\n",
            "Epoch 5/100\n",
            "\u001b[1m828/828\u001b[0m \u001b[32m━━━━━━━━━━━━━━━━━━━━\u001b[0m\u001b[37m\u001b[0m \u001b[1m4s\u001b[0m 5ms/step - Brier score: 0.0032 - accuracy: 0.9963 - auc: 0.8524 - cross entropy: 0.0168 - fn: 2761.1206 - fp: 344.6948 - loss: 0.0168 - prc: 0.1697 - precision: 0.3977 - recall: 0.0744 - tn: 846587.9375 - tp: 219.2606 - val_Brier score: 0.0030 - val_accuracy: 0.9965 - val_auc: 0.8723 - val_cross entropy: 0.0156 - val_fn: 1484.0000 - val_fp: 3.0000 - val_loss: 0.0156 - val_prc: 0.2348 - val_precision: 0.8125 - val_recall: 0.0087 - val_tn: 421971.0000 - val_tp: 13.0000\n",
            "Epoch 6/100\n",
            "\u001b[1m828/828\u001b[0m \u001b[32m━━━━━━━━━━━━━━━━━━━━\u001b[0m\u001b[37m\u001b[0m \u001b[1m7s\u001b[0m 7ms/step - Brier score: 0.0033 - accuracy: 0.9962 - auc: 0.8561 - cross entropy: 0.0174 - fn: 2850.3101 - fp: 347.4777 - loss: 0.0174 - prc: 0.1749 - precision: 0.3991 - recall: 0.0758 - tn: 846481.7500 - tp: 233.5308 - val_Brier score: 0.0031 - val_accuracy: 0.9965 - val_auc: 0.8731 - val_cross entropy: 0.0157 - val_fn: 1487.0000 - val_fp: 1.0000 - val_loss: 0.0157 - val_prc: 0.2371 - val_precision: 0.9091 - val_recall: 0.0067 - val_tn: 421973.0000 - val_tp: 10.0000\n",
            "Epoch 7/100\n",
            "\u001b[1m828/828\u001b[0m \u001b[32m━━━━━━━━━━━━━━━━━━━━\u001b[0m\u001b[37m\u001b[0m \u001b[1m4s\u001b[0m 5ms/step - Brier score: 0.0032 - accuracy: 0.9963 - auc: 0.8672 - cross entropy: 0.0167 - fn: 2786.9504 - fp: 323.9240 - loss: 0.0167 - prc: 0.1605 - precision: 0.3659 - recall: 0.0637 - tn: 846606.4375 - tp: 195.7009 - val_Brier score: 0.0031 - val_accuracy: 0.9965 - val_auc: 0.8747 - val_cross entropy: 0.0157 - val_fn: 1490.0000 - val_fp: 0.0000e+00 - val_loss: 0.0157 - val_prc: 0.2402 - val_precision: 1.0000 - val_recall: 0.0047 - val_tn: 421974.0000 - val_tp: 7.0000\n",
            "Epoch 8/100\n",
            "\u001b[1m828/828\u001b[0m \u001b[32m━━━━━━━━━━━━━━━━━━━━\u001b[0m\u001b[37m\u001b[0m \u001b[1m4s\u001b[0m 5ms/step - Brier score: 0.0033 - accuracy: 0.9962 - auc: 0.8647 - cross entropy: 0.0169 - fn: 2831.5488 - fp: 329.8227 - loss: 0.0169 - prc: 0.1718 - precision: 0.3651 - recall: 0.0650 - tn: 846546.0625 - tp: 205.5838 - val_Brier score: 0.0031 - val_accuracy: 0.9965 - val_auc: 0.8754 - val_cross entropy: 0.0156 - val_fn: 1487.0000 - val_fp: 1.0000 - val_loss: 0.0156 - val_prc: 0.2407 - val_precision: 0.9091 - val_recall: 0.0067 - val_tn: 421973.0000 - val_tp: 10.0000\n",
            "Epoch 9/100\n",
            "\u001b[1m828/828\u001b[0m \u001b[32m━━━━━━━━━━━━━━━━━━━━\u001b[0m\u001b[37m\u001b[0m \u001b[1m7s\u001b[0m 7ms/step - Brier score: 0.0032 - accuracy: 0.9963 - auc: 0.8712 - cross entropy: 0.0167 - fn: 2829.2761 - fp: 313.9071 - loss: 0.0167 - prc: 0.1886 - precision: 0.4203 - recall: 0.0765 - tn: 846555.4375 - tp: 214.4077 - val_Brier score: 0.0030 - val_accuracy: 0.9965 - val_auc: 0.8747 - val_cross entropy: 0.0155 - val_fn: 1486.0000 - val_fp: 3.0000 - val_loss: 0.0155 - val_prc: 0.2404 - val_precision: 0.7857 - val_recall: 0.0073 - val_tn: 421971.0000 - val_tp: 11.0000\n",
            "Epoch 10/100\n",
            "\u001b[1m828/828\u001b[0m \u001b[32m━━━━━━━━━━━━━━━━━━━━\u001b[0m\u001b[37m\u001b[0m \u001b[1m4s\u001b[0m 5ms/step - Brier score: 0.0032 - accuracy: 0.9964 - auc: 0.8687 - cross entropy: 0.0166 - fn: 2773.9651 - fp: 307.7250 - loss: 0.0166 - prc: 0.1713 - precision: 0.3906 - recall: 0.0677 - tn: 846620.1875 - tp: 211.1399 - val_Brier score: 0.0030 - val_accuracy: 0.9965 - val_auc: 0.8767 - val_cross entropy: 0.0154 - val_fn: 1479.0000 - val_fp: 4.0000 - val_loss: 0.0154 - val_prc: 0.2415 - val_precision: 0.8182 - val_recall: 0.0120 - val_tn: 421970.0000 - val_tp: 18.0000\n",
            "Epoch 11/100\n",
            "\u001b[1m828/828\u001b[0m \u001b[32m━━━━━━━━━━━━━━━━━━━━\u001b[0m\u001b[37m\u001b[0m \u001b[1m6s\u001b[0m 6ms/step - Brier score: 0.0032 - accuracy: 0.9963 - auc: 0.8725 - cross entropy: 0.0166 - fn: 2809.7310 - fp: 325.0929 - loss: 0.0166 - prc: 0.1805 - precision: 0.4056 - recall: 0.0776 - tn: 846559.2500 - tp: 218.9988 - val_Brier score: 0.0031 - val_accuracy: 0.9965 - val_auc: 0.8771 - val_cross entropy: 0.0155 - val_fn: 1491.0000 - val_fp: 0.0000e+00 - val_loss: 0.0155 - val_prc: 0.2425 - val_precision: 1.0000 - val_recall: 0.0040 - val_tn: 421974.0000 - val_tp: 6.0000\n",
            "Epoch 12/100\n",
            "\u001b[1m828/828\u001b[0m \u001b[32m━━━━━━━━━━━━━━━━━━━━\u001b[0m\u001b[37m\u001b[0m \u001b[1m6s\u001b[0m 7ms/step - Brier score: 0.0033 - accuracy: 0.9962 - auc: 0.8697 - cross entropy: 0.0171 - fn: 2843.8191 - fp: 310.4608 - loss: 0.0171 - prc: 0.1768 - precision: 0.3951 - recall: 0.0657 - tn: 846551.0000 - tp: 207.7925 - val_Brier score: 0.0031 - val_accuracy: 0.9965 - val_auc: 0.8758 - val_cross entropy: 0.0155 - val_fn: 1490.0000 - val_fp: 2.0000 - val_loss: 0.0155 - val_prc: 0.2436 - val_precision: 0.7778 - val_recall: 0.0047 - val_tn: 421972.0000 - val_tp: 7.0000\n",
            "Epoch 13/100\n",
            "\u001b[1m828/828\u001b[0m \u001b[32m━━━━━━━━━━━━━━━━━━━━\u001b[0m\u001b[37m\u001b[0m \u001b[1m4s\u001b[0m 5ms/step - Brier score: 0.0032 - accuracy: 0.9964 - auc: 0.8648 - cross entropy: 0.0167 - fn: 2809.2485 - fp: 283.3329 - loss: 0.0167 - prc: 0.1762 - precision: 0.3902 - recall: 0.0613 - tn: 846614.6875 - tp: 205.7841 - val_Brier score: 0.0030 - val_accuracy: 0.9965 - val_auc: 0.8763 - val_cross entropy: 0.0154 - val_fn: 1481.0000 - val_fp: 3.0000 - val_loss: 0.0154 - val_prc: 0.2445 - val_precision: 0.8421 - val_recall: 0.0107 - val_tn: 421971.0000 - val_tp: 16.0000\n",
            "Epoch 14/100\n",
            "\u001b[1m828/828\u001b[0m \u001b[32m━━━━━━━━━━━━━━━━━━━━\u001b[0m\u001b[37m\u001b[0m \u001b[1m5s\u001b[0m 6ms/step - Brier score: 0.0031 - accuracy: 0.9965 - auc: 0.8720 - cross entropy: 0.0161 - fn: 2757.7227 - fp: 288.5223 - loss: 0.0161 - prc: 0.1776 - precision: 0.4126 - recall: 0.0704 - tn: 846658.1875 - tp: 208.6019 - val_Brier score: 0.0030 - val_accuracy: 0.9965 - val_auc: 0.8764 - val_cross entropy: 0.0154 - val_fn: 1485.0000 - val_fp: 3.0000 - val_loss: 0.0154 - val_prc: 0.2467 - val_precision: 0.8000 - val_recall: 0.0080 - val_tn: 421971.0000 - val_tp: 12.0000\n",
            "Epoch 15/100\n",
            "\u001b[1m828/828\u001b[0m \u001b[32m━━━━━━━━━━━━━━━━━━━━\u001b[0m\u001b[37m\u001b[0m \u001b[1m5s\u001b[0m 6ms/step - Brier score: 0.0032 - accuracy: 0.9964 - auc: 0.8677 - cross entropy: 0.0167 - fn: 2800.4089 - fp: 293.9397 - loss: 0.0167 - prc: 0.1871 - precision: 0.4499 - recall: 0.0771 - tn: 846589.6250 - tp: 229.0760 - val_Brier score: 0.0031 - val_accuracy: 0.9965 - val_auc: 0.8775 - val_cross entropy: 0.0155 - val_fn: 1490.0000 - val_fp: 2.0000 - val_loss: 0.0155 - val_prc: 0.2476 - val_precision: 0.7778 - val_recall: 0.0047 - val_tn: 421972.0000 - val_tp: 7.0000\n",
            "Epoch 16/100\n",
            "\u001b[1m828/828\u001b[0m \u001b[32m━━━━━━━━━━━━━━━━━━━━\u001b[0m\u001b[37m\u001b[0m \u001b[1m11s\u001b[0m 7ms/step - Brier score: 0.0032 - accuracy: 0.9963 - auc: 0.8742 - cross entropy: 0.0167 - fn: 2809.3958 - fp: 287.1303 - loss: 0.0167 - prc: 0.1894 - precision: 0.4438 - recall: 0.0740 - tn: 846597.0000 - tp: 219.5018 - val_Brier score: 0.0030 - val_accuracy: 0.9965 - val_auc: 0.8767 - val_cross entropy: 0.0154 - val_fn: 1478.0000 - val_fp: 7.0000 - val_loss: 0.0154 - val_prc: 0.2467 - val_precision: 0.7308 - val_recall: 0.0127 - val_tn: 421967.0000 - val_tp: 19.0000\n",
            "Epoch 17/100\n",
            "\u001b[1m828/828\u001b[0m \u001b[32m━━━━━━━━━━━━━━━━━━━━\u001b[0m\u001b[37m\u001b[0m \u001b[1m4s\u001b[0m 5ms/step - Brier score: 0.0033 - accuracy: 0.9963 - auc: 0.8675 - cross entropy: 0.0170 - fn: 2814.1206 - fp: 298.9252 - loss: 0.0170 - prc: 0.1853 - precision: 0.4347 - recall: 0.0786 - tn: 846560.6875 - tp: 239.2823 - val_Brier score: 0.0030 - val_accuracy: 0.9965 - val_auc: 0.8772 - val_cross entropy: 0.0154 - val_fn: 1477.0000 - val_fp: 5.0000 - val_loss: 0.0154 - val_prc: 0.2461 - val_precision: 0.8000 - val_recall: 0.0134 - val_tn: 421969.0000 - val_tp: 20.0000\n",
            "Epoch 18/100\n",
            "\u001b[1m828/828\u001b[0m \u001b[32m━━━━━━━━━━━━━━━━━━━━\u001b[0m\u001b[37m\u001b[0m \u001b[1m4s\u001b[0m 5ms/step - Brier score: 0.0032 - accuracy: 0.9964 - auc: 0.8758 - cross entropy: 0.0163 - fn: 2759.2822 - fp: 295.8745 - loss: 0.0163 - prc: 0.2027 - precision: 0.4734 - recall: 0.0878 - tn: 846595.1250 - tp: 262.7467 - val_Brier score: 0.0031 - val_accuracy: 0.9965 - val_auc: 0.8765 - val_cross entropy: 0.0155 - val_fn: 1489.0000 - val_fp: 3.0000 - val_loss: 0.0155 - val_prc: 0.2484 - val_precision: 0.7273 - val_recall: 0.0053 - val_tn: 421971.0000 - val_tp: 8.0000\n",
            "Epoch 19/100\n",
            "\u001b[1m828/828\u001b[0m \u001b[32m━━━━━━━━━━━━━━━━━━━━\u001b[0m\u001b[37m\u001b[0m \u001b[1m6s\u001b[0m 7ms/step - Brier score: 0.0032 - accuracy: 0.9964 - auc: 0.8713 - cross entropy: 0.0164 - fn: 2783.5188 - fp: 280.3016 - loss: 0.0164 - prc: 0.2016 - precision: 0.4694 - recall: 0.0781 - tn: 846616.6875 - tp: 232.5489 - val_Brier score: 0.0030 - val_accuracy: 0.9965 - val_auc: 0.8772 - val_cross entropy: 0.0153 - val_fn: 1473.0000 - val_fp: 7.0000 - val_loss: 0.0153 - val_prc: 0.2471 - val_precision: 0.7742 - val_recall: 0.0160 - val_tn: 421967.0000 - val_tp: 24.0000\n",
            "Epoch 20/100\n",
            "\u001b[1m828/828\u001b[0m \u001b[32m━━━━━━━━━━━━━━━━━━━━\u001b[0m\u001b[37m\u001b[0m \u001b[1m4s\u001b[0m 5ms/step - Brier score: 0.0031 - accuracy: 0.9964 - auc: 0.8715 - cross entropy: 0.0162 - fn: 2762.1604 - fp: 295.2328 - loss: 0.0162 - prc: 0.2007 - precision: 0.4592 - recall: 0.0851 - tn: 846606.8125 - tp: 248.8625 - val_Brier score: 0.0030 - val_accuracy: 0.9965 - val_auc: 0.8765 - val_cross entropy: 0.0153 - val_fn: 1473.0000 - val_fp: 9.0000 - val_loss: 0.0153 - val_prc: 0.2480 - val_precision: 0.7273 - val_recall: 0.0160 - val_tn: 421965.0000 - val_tp: 24.0000\n",
            "Epoch 21/100\n",
            "\u001b[1m828/828\u001b[0m \u001b[32m━━━━━━━━━━━━━━━━━━━━\u001b[0m\u001b[37m\u001b[0m \u001b[1m4s\u001b[0m 5ms/step - Brier score: 0.0032 - accuracy: 0.9964 - auc: 0.8680 - cross entropy: 0.0165 - fn: 2767.1316 - fp: 298.2147 - loss: 0.0165 - prc: 0.2017 - precision: 0.4691 - recall: 0.0875 - tn: 846589.5625 - tp: 258.1411 - val_Brier score: 0.0030 - val_accuracy: 0.9965 - val_auc: 0.8768 - val_cross entropy: 0.0153 - val_fn: 1464.0000 - val_fp: 13.0000 - val_loss: 0.0153 - val_prc: 0.2496 - val_precision: 0.7174 - val_recall: 0.0220 - val_tn: 421961.0000 - val_tp: 33.0000\n",
            "Epoch 22/100\n",
            "\u001b[1m828/828\u001b[0m \u001b[32m━━━━━━━━━━━━━━━━━━━━\u001b[0m\u001b[37m\u001b[0m \u001b[1m7s\u001b[0m 7ms/step - Brier score: 0.0032 - accuracy: 0.9964 - auc: 0.8711 - cross entropy: 0.0166 - fn: 2786.8240 - fp: 314.5175 - loss: 0.0166 - prc: 0.1929 - precision: 0.4382 - recall: 0.0817 - tn: 846566.4375 - tp: 245.2509 - val_Brier score: 0.0030 - val_accuracy: 0.9965 - val_auc: 0.8771 - val_cross entropy: 0.0154 - val_fn: 1477.0000 - val_fp: 7.0000 - val_loss: 0.0154 - val_prc: 0.2482 - val_precision: 0.7407 - val_recall: 0.0134 - val_tn: 421967.0000 - val_tp: 20.0000\n",
            "Epoch 23/100\n",
            "\u001b[1m828/828\u001b[0m \u001b[32m━━━━━━━━━━━━━━━━━━━━\u001b[0m\u001b[37m\u001b[0m \u001b[1m4s\u001b[0m 5ms/step - Brier score: 0.0033 - accuracy: 0.9963 - auc: 0.8683 - cross entropy: 0.0170 - fn: 2790.4475 - fp: 304.6080 - loss: 0.0170 - prc: 0.1928 - precision: 0.4550 - recall: 0.0830 - tn: 846567.3750 - tp: 250.6381 - val_Brier score: 0.0030 - val_accuracy: 0.9965 - val_auc: 0.8771 - val_cross entropy: 0.0154 - val_fn: 1481.0000 - val_fp: 5.0000 - val_loss: 0.0154 - val_prc: 0.2486 - val_precision: 0.7619 - val_recall: 0.0107 - val_tn: 421969.0000 - val_tp: 16.0000\n",
            "Epoch 24/100\n",
            "\u001b[1m828/828\u001b[0m \u001b[32m━━━━━━━━━━━━━━━━━━━━\u001b[0m\u001b[37m\u001b[0m \u001b[1m4s\u001b[0m 5ms/step - Brier score: 0.0032 - accuracy: 0.9964 - auc: 0.8763 - cross entropy: 0.0164 - fn: 2788.0312 - fp: 308.7588 - loss: 0.0164 - prc: 0.2057 - precision: 0.4668 - recall: 0.0858 - tn: 846561.3125 - tp: 254.9674 - val_Brier score: 0.0030 - val_accuracy: 0.9965 - val_auc: 0.8771 - val_cross entropy: 0.0154 - val_fn: 1482.0000 - val_fp: 4.0000 - val_loss: 0.0154 - val_prc: 0.2480 - val_precision: 0.7895 - val_recall: 0.0100 - val_tn: 421970.0000 - val_tp: 15.0000\n",
            "Epoch 25/100\n",
            "\u001b[1m828/828\u001b[0m \u001b[32m━━━━━━━━━━━━━━━━━━━━\u001b[0m\u001b[37m\u001b[0m \u001b[1m6s\u001b[0m 7ms/step - Brier score: 0.0033 - accuracy: 0.9963 - auc: 0.8716 - cross entropy: 0.0169 - fn: 2824.6104 - fp: 316.8383 - loss: 0.0169 - prc: 0.1937 - precision: 0.4265 - recall: 0.0756 - tn: 846535.3750 - tp: 236.1930 - val_Brier score: 0.0030 - val_accuracy: 0.9965 - val_auc: 0.8771 - val_cross entropy: 0.0154 - val_fn: 1482.0000 - val_fp: 6.0000 - val_loss: 0.0154 - val_prc: 0.2481 - val_precision: 0.7143 - val_recall: 0.0100 - val_tn: 421968.0000 - val_tp: 15.0000\n",
            "Epoch 26/100\n",
            "\u001b[1m828/828\u001b[0m \u001b[32m━━━━━━━━━━━━━━━━━━━━\u001b[0m\u001b[37m\u001b[0m \u001b[1m4s\u001b[0m 5ms/step - Brier score: 0.0031 - accuracy: 0.9964 - auc: 0.8707 - cross entropy: 0.0163 - fn: 2729.9553 - fp: 289.0820 - loss: 0.0163 - prc: 0.2002 - precision: 0.4694 - recall: 0.0871 - tn: 846631.8750 - tp: 262.1098 - val_Brier score: 0.0030 - val_accuracy: 0.9965 - val_auc: 0.8776 - val_cross entropy: 0.0153 - val_fn: 1467.0000 - val_fp: 15.0000 - val_loss: 0.0153 - val_prc: 0.2466 - val_precision: 0.6667 - val_recall: 0.0200 - val_tn: 421959.0000 - val_tp: 30.0000\n",
            "Epoch 27/100\n",
            "\u001b[1m828/828\u001b[0m \u001b[32m━━━━━━━━━━━━━━━━━━━━\u001b[0m\u001b[37m\u001b[0m \u001b[1m4s\u001b[0m 5ms/step - Brier score: 0.0032 - accuracy: 0.9964 - auc: 0.8711 - cross entropy: 0.0164 - fn: 2754.3799 - fp: 296.9915 - loss: 0.0164 - prc: 0.1941 - precision: 0.4547 - recall: 0.0831 - tn: 846608.6875 - tp: 253.0072 - val_Brier score: 0.0030 - val_accuracy: 0.9965 - val_auc: 0.8770 - val_cross entropy: 0.0154 - val_fn: 1483.0000 - val_fp: 5.0000 - val_loss: 0.0154 - val_prc: 0.2488 - val_precision: 0.7368 - val_recall: 0.0094 - val_tn: 421969.0000 - val_tp: 14.0000\n",
            "Epoch 28/100\n",
            "\u001b[1m828/828\u001b[0m \u001b[32m━━━━━━━━━━━━━━━━━━━━\u001b[0m\u001b[37m\u001b[0m \u001b[1m7s\u001b[0m 7ms/step - Brier score: 0.0031 - accuracy: 0.9964 - auc: 0.8692 - cross entropy: 0.0165 - fn: 2759.0483 - fp: 294.3293 - loss: 0.0165 - prc: 0.2004 - precision: 0.4679 - recall: 0.0870 - tn: 846607.1875 - tp: 252.4620 - val_Brier score: 0.0030 - val_accuracy: 0.9965 - val_auc: 0.8767 - val_cross entropy: 0.0153 - val_fn: 1474.0000 - val_fp: 11.0000 - val_loss: 0.0153 - val_prc: 0.2487 - val_precision: 0.6765 - val_recall: 0.0154 - val_tn: 421963.0000 - val_tp: 23.0000\n",
            "Epoch 29/100\n",
            "\u001b[1m828/828\u001b[0m \u001b[32m━━━━━━━━━━━━━━━━━━━━\u001b[0m\u001b[37m\u001b[0m \u001b[1m4s\u001b[0m 5ms/step - Brier score: 0.0032 - accuracy: 0.9964 - auc: 0.8699 - cross entropy: 0.0167 - fn: 2778.3933 - fp: 295.3776 - loss: 0.0167 - prc: 0.1947 - precision: 0.4600 - recall: 0.0835 - tn: 846587.4375 - tp: 251.8444 - val_Brier score: 0.0030 - val_accuracy: 0.9965 - val_auc: 0.8770 - val_cross entropy: 0.0154 - val_fn: 1480.0000 - val_fp: 4.0000 - val_loss: 0.0154 - val_prc: 0.2470 - val_precision: 0.8095 - val_recall: 0.0114 - val_tn: 421970.0000 - val_tp: 17.0000\n",
            "Epoch 30/100\n",
            "\u001b[1m828/828\u001b[0m \u001b[32m━━━━━━━━━━━━━━━━━━━━\u001b[0m\u001b[37m\u001b[0m \u001b[1m5s\u001b[0m 5ms/step - Brier score: 0.0032 - accuracy: 0.9964 - auc: 0.8705 - cross entropy: 0.0166 - fn: 2778.6501 - fp: 294.0181 - loss: 0.0166 - prc: 0.1890 - precision: 0.4366 - recall: 0.0742 - tn: 846608.5625 - tp: 231.8022 - val_Brier score: 0.0030 - val_accuracy: 0.9965 - val_auc: 0.8765 - val_cross entropy: 0.0154 - val_fn: 1480.0000 - val_fp: 6.0000 - val_loss: 0.0154 - val_prc: 0.2483 - val_precision: 0.7391 - val_recall: 0.0114 - val_tn: 421968.0000 - val_tp: 17.0000\n",
            "Epoch 31/100\n",
            "\u001b[1m828/828\u001b[0m \u001b[32m━━━━━━━━━━━━━━━━━━━━\u001b[0m\u001b[37m\u001b[0m \u001b[1m6s\u001b[0m 6ms/step - Brier score: 0.0032 - accuracy: 0.9964 - auc: 0.8674 - cross entropy: 0.0167 - fn: 2794.2075 - fp: 300.9529 - loss: 0.0167 - prc: 0.1923 - precision: 0.4330 - recall: 0.0751 - tn: 846588.1250 - tp: 229.7322 - val_Brier score: 0.0030 - val_accuracy: 0.9965 - val_auc: 0.8769 - val_cross entropy: 0.0153 - val_fn: 1460.0000 - val_fp: 22.0000 - val_loss: 0.0153 - val_prc: 0.2463 - val_precision: 0.6271 - val_recall: 0.0247 - val_tn: 421952.0000 - val_tp: 37.0000\n",
            "Epoch 31: early stopping\n",
            "Restoring model weights from the end of the best epoch: 21.\n"
          ]
        }
      ]
    },
    {
      "cell_type": "code",
      "source": [
        "train_predictions_baseline = model.predict(train_features, batch_size=BATCH_SIZE)\n",
        "test_predictions_baseline = model.predict(test_features, batch_size=BATCH_SIZE)"
      ],
      "metadata": {
        "colab": {
          "base_uri": "https://localhost:8080/"
        },
        "id": "wRjoAoWXn2EM",
        "outputId": "52056632-6011-441f-e08d-0f8f4d45c2ba"
      },
      "execution_count": 27,
      "outputs": [
        {
          "output_type": "stream",
          "name": "stdout",
          "text": [
            "\u001b[1m828/828\u001b[0m \u001b[32m━━━━━━━━━━━━━━━━━━━━\u001b[0m\u001b[37m\u001b[0m \u001b[1m2s\u001b[0m 2ms/step\n",
            "\u001b[1m259/259\u001b[0m \u001b[32m━━━━━━━━━━━━━━━━━━━━\u001b[0m\u001b[37m\u001b[0m \u001b[1m1s\u001b[0m 2ms/step\n"
          ]
        }
      ]
    },
    {
      "cell_type": "code",
      "source": [
        "def plot_cm(labels, predictions, threshold=0.5):\n",
        "  cm = confusion_matrix(labels, predictions > threshold)\n",
        "  plt.figure(figsize=(5,5))\n",
        "  sns.heatmap(cm, annot=True, fmt=\"d\")\n",
        "  plt.title(\"Confusion matrix @{:.2f}\".format(threshold))\n",
        "  plt.ylabel('Actual label')\n",
        "  plt.xlabel('Predicted label')"
      ],
      "metadata": {
        "id": "DpALLfwmnUOX"
      },
      "execution_count": 28,
      "outputs": []
    },
    {
      "cell_type": "code",
      "source": [
        "baseline_results = model.evaluate(test_features, test_labels,\n",
        "                                  batch_size=BATCH_SIZE, verbose=0)\n",
        "for name, value in zip(model.metrics_names, baseline_results):\n",
        "  print(name, ': ', value)\n",
        "print()\n",
        "\n",
        "plot_cm(test_labels, test_predictions_baseline)"
      ],
      "metadata": {
        "colab": {
          "base_uri": "https://localhost:8080/",
          "height": 542
        },
        "id": "1eoWp6yynXoO",
        "outputId": "70b203e8-8966-4e18-9b71-d4f3b29bfa2a"
      },
      "execution_count": 29,
      "outputs": [
        {
          "output_type": "stream",
          "name": "stdout",
          "text": [
            "loss :  0.015705397352576256\n",
            "compile_metrics :  0.015705397352576256\n",
            "\n"
          ]
        },
        {
          "output_type": "display_data",
          "data": {
            "text/plain": [
              "<Figure size 500x500 with 2 Axes>"
            ],
            "image/png": "[encoded data removed]"
          },
          "metadata": {}
        }
      ]
    },
    {
      "cell_type": "markdown",
      "source": [
        "F1 Score"
      ],
      "metadata": {
        "id": "dAGBn76yU0d-"
      }
    },
    {
      "cell_type": "code",
      "source": [
        "f1 = f1_score(test_labels, test_predictions_baseline > 0.5)\n",
        "print(f'F1 Score: {f1}')"
      ],
      "metadata": {
        "colab": {
          "base_uri": "https://localhost:8080/"
        },
        "id": "Gm9zR17RUxeB",
        "outputId": "f9d00dcd-4f65-429d-cb2b-2f8fca4902a8"
      },
      "execution_count": 31,
      "outputs": [
        {
          "output_type": "stream",
          "name": "stdout",
          "text": [
            "F1 Score: 0.03871625063678044\n"
          ]
        }
      ]
    },
    {
      "cell_type": "markdown",
      "source": [
        "## Class Weights"
      ],
      "metadata": {
        "id": "DWeJIinenjM6"
      }
    },
    {
      "cell_type": "code",
      "source": [
        "weight_for_0 = (1 / neg) * (total / 2.0)\n",
        "weight_for_1 = (1 / pos) * (total / 2.0)\n",
        "\n",
        "class_weight = {0: weight_for_0, 1: weight_for_1}\n",
        "\n",
        "print('Weight for class 0: {:.2f}'.format(weight_for_0))\n",
        "print('Weight for class 1: {:.2f}'.format(weight_for_1))"
      ],
      "metadata": {
        "colab": {
          "base_uri": "https://localhost:8080/"
        },
        "id": "RbdeW78jnmR1",
        "outputId": "9b485568-4330-4887-87fb-176b8f403288"
      },
      "execution_count": 32,
      "outputs": [
        {
          "output_type": "stream",
          "name": "stdout",
          "text": [
            "Weight for class 0: 0.50\n",
            "Weight for class 1: 140.45\n"
          ]
        }
      ]
    },
    {
      "cell_type": "markdown",
      "source": [
        "## Train model with class weights"
      ],
      "metadata": {
        "id": "1WVT_4GBn5IF"
      }
    },
    {
      "cell_type": "code",
      "source": [
        "weighted_model = make_model()\n",
        "weighted_model.load_weights(initial_weights)\n",
        "\n",
        "weighted_history = weighted_model.fit(\n",
        "    train_features,\n",
        "    train_labels,\n",
        "    batch_size=BATCH_SIZE,\n",
        "    epochs=EPOCHS,\n",
        "    callbacks=[early_stopping()],\n",
        "    validation_data=(val_features, val_labels),\n",
        "    # The class weights go here\n",
        "    class_weight=class_weight)"
      ],
      "metadata": {
        "colab": {
          "base_uri": "https://localhost:8080/"
        },
        "id": "f9yjeGTsn4nS",
        "outputId": "7d0b997c-dec7-455e-df75-24a47e2c4cae"
      },
      "execution_count": 33,
      "outputs": [
        {
          "output_type": "stream",
          "name": "stderr",
          "text": [
            "/usr/local/lib/python3.11/dist-packages/keras/src/layers/core/dense.py:87: UserWarning: Do not pass an `input_shape`/`input_dim` argument to a layer. When using Sequential models, prefer using an `Input(shape)` object as the first layer in the model instead.\n",
            "  super().__init__(activity_regularizer=activity_regularizer, **kwargs)\n"
          ]
        },
        {
          "output_type": "stream",
          "name": "stdout",
          "text": [
            "Epoch 1/100\n",
            "\u001b[1m828/828\u001b[0m \u001b[32m━━━━━━━━━━━━━━━━━━━━\u001b[0m\u001b[37m\u001b[0m \u001b[1m9s\u001b[0m 6ms/step - Brier score: 0.0219 - accuracy: 0.9725 - auc: 0.7669 - cross entropy: 0.0863 - fn: 3876.2773 - fp: 44189.9062 - loss: 1.4106 - prc: 0.0586 - precision: 0.1103 - recall: 0.1754 - tn: 1330131.5000 - tp: 1054.3704 - val_Brier score: 0.0472 - val_accuracy: 0.9663 - val_auc: 0.8590 - val_cross entropy: 0.2345 - val_fn: 451.0000 - val_fp: 13812.0000 - val_loss: 0.2345 - val_prc: 0.1460 - val_precision: 0.0704 - val_recall: 0.6987 - val_tn: 408162.0000 - val_tp: 1046.0000\n",
            "Epoch 2/100\n",
            "\u001b[1m828/828\u001b[0m \u001b[32m━━━━━━━━━━━━━━━━━━━━\u001b[0m\u001b[37m\u001b[0m \u001b[1m16s\u001b[0m 13ms/step - Brier score: 0.1040 - accuracy: 0.8637 - auc: 0.8161 - cross entropy: 0.3849 - fn: 1002.3052 - fp: 112335.5234 - loss: 0.6049 - prc: 0.0878 - precision: 0.0172 - recall: 0.6661 - tn: 734570.7500 - tp: 2004.4500 - val_Brier score: 0.0490 - val_accuracy: 0.9631 - val_auc: 0.8556 - val_cross entropy: 0.2573 - val_fn: 356.0000 - val_fp: 15260.0000 - val_loss: 0.2573 - val_prc: 0.1289 - val_precision: 0.0696 - val_recall: 0.7622 - val_tn: 406714.0000 - val_tp: 1141.0000\n",
            "Epoch 3/100\n",
            "\u001b[1m828/828\u001b[0m \u001b[32m━━━━━━━━━━━━━━━━━━━━\u001b[0m\u001b[37m\u001b[0m \u001b[1m5s\u001b[0m 6ms/step - Brier score: 0.0928 - accuracy: 0.8849 - auc: 0.8241 - cross entropy: 0.3704 - fn: 945.8552 - fp: 95017.4844 - loss: 0.5789 - prc: 0.0895 - precision: 0.0209 - recall: 0.6792 - tn: 751869.0625 - tp: 2080.6633 - val_Brier score: 0.0500 - val_accuracy: 0.9610 - val_auc: 0.8550 - val_cross entropy: 0.2639 - val_fn: 345.0000 - val_fp: 16189.0000 - val_loss: 0.2639 - val_prc: 0.1248 - val_precision: 0.0664 - val_recall: 0.7695 - val_tn: 405785.0000 - val_tp: 1152.0000\n",
            "Epoch 4/100\n",
            "\u001b[1m828/828\u001b[0m \u001b[32m━━━━━━━━━━━━━━━━━━━━\u001b[0m\u001b[37m\u001b[0m \u001b[1m5s\u001b[0m 6ms/step - Brier score: 0.0855 - accuracy: 0.8999 - auc: 0.8432 - cross entropy: 0.3539 - fn: 900.1605 - fp: 83632.4531 - loss: 0.5250 - prc: 0.0994 - precision: 0.0253 - recall: 0.7086 - tn: 763226.3750 - tp: 2154.0459 - val_Brier score: 0.0517 - val_accuracy: 0.9618 - val_auc: 0.8532 - val_cross entropy: 0.2675 - val_fn: 345.0000 - val_fp: 15841.0000 - val_loss: 0.2675 - val_prc: 0.1305 - val_precision: 0.0678 - val_recall: 0.7695 - val_tn: 406133.0000 - val_tp: 1152.0000\n",
            "Epoch 5/100\n",
            "\u001b[1m828/828\u001b[0m \u001b[32m━━━━━━━━━━━━━━━━━━━━\u001b[0m\u001b[37m\u001b[0m \u001b[1m4s\u001b[0m 5ms/step - Brier score: 0.0816 - accuracy: 0.9098 - auc: 0.8418 - cross entropy: 0.3404 - fn: 875.0314 - fp: 76484.2188 - loss: 0.4952 - prc: 0.0981 - precision: 0.0267 - recall: 0.7059 - tn: 770427.9375 - tp: 2125.8457 - val_Brier score: 0.0565 - val_accuracy: 0.9583 - val_auc: 0.8523 - val_cross entropy: 0.2816 - val_fn: 341.0000 - val_fp: 17313.0000 - val_loss: 0.2816 - val_prc: 0.1339 - val_precision: 0.0626 - val_recall: 0.7722 - val_tn: 404661.0000 - val_tp: 1156.0000\n",
            "Epoch 6/100\n",
            "\u001b[1m828/828\u001b[0m \u001b[32m━━━━━━━━━━━━━━━━━━━━\u001b[0m\u001b[37m\u001b[0m \u001b[1m5s\u001b[0m 6ms/step - Brier score: 0.0836 - accuracy: 0.9111 - auc: 0.8494 - cross entropy: 0.3467 - fn: 868.6104 - fp: 74134.3516 - loss: 0.4770 - prc: 0.0999 - precision: 0.0281 - recall: 0.7135 - tn: 772768.5000 - tp: 2141.6067 - val_Brier score: 0.0610 - val_accuracy: 0.9564 - val_auc: 0.8513 - val_cross entropy: 0.2953 - val_fn: 340.0000 - val_fp: 18104.0000 - val_loss: 0.2953 - val_prc: 0.1359 - val_precision: 0.0601 - val_recall: 0.7729 - val_tn: 403870.0000 - val_tp: 1157.0000\n",
            "Epoch 7/100\n",
            "\u001b[1m828/828\u001b[0m \u001b[32m━━━━━━━━━━━━━━━━━━━━\u001b[0m\u001b[37m\u001b[0m \u001b[1m5s\u001b[0m 6ms/step - Brier score: 0.0838 - accuracy: 0.9153 - auc: 0.8445 - cross entropy: 0.3479 - fn: 886.9517 - fp: 70389.9766 - loss: 0.4720 - prc: 0.1042 - precision: 0.0293 - recall: 0.7078 - tn: 776490.4375 - tp: 2145.6960 - val_Brier score: 0.0635 - val_accuracy: 0.9550 - val_auc: 0.8528 - val_cross entropy: 0.3011 - val_fn: 337.0000 - val_fp: 18704.0000 - val_loss: 0.3011 - val_prc: 0.1395 - val_precision: 0.0584 - val_recall: 0.7749 - val_tn: 403270.0000 - val_tp: 1160.0000\n",
            "Epoch 8/100\n",
            "\u001b[1m828/828\u001b[0m \u001b[32m━━━━━━━━━━━━━━━━━━━━\u001b[0m\u001b[37m\u001b[0m \u001b[1m4s\u001b[0m 5ms/step - Brier score: 0.0818 - accuracy: 0.9220 - auc: 0.8487 - cross entropy: 0.3433 - fn: 859.3740 - fp: 65164.8438 - loss: 0.4619 - prc: 0.1085 - precision: 0.0327 - recall: 0.7192 - tn: 781685.6250 - tp: 2203.1785 - val_Brier score: 0.0647 - val_accuracy: 0.9589 - val_auc: 0.8512 - val_cross entropy: 0.3035 - val_fn: 344.0000 - val_fp: 17044.0000 - val_loss: 0.3035 - val_prc: 0.1444 - val_precision: 0.0634 - val_recall: 0.7702 - val_tn: 404930.0000 - val_tp: 1153.0000\n",
            "Epoch 9/100\n",
            "\u001b[1m828/828\u001b[0m \u001b[32m━━━━━━━━━━━━━━━━━━━━\u001b[0m\u001b[37m\u001b[0m \u001b[1m7s\u001b[0m 7ms/step - Brier score: 0.0797 - accuracy: 0.9285 - auc: 0.8458 - cross entropy: 0.3366 - fn: 854.3305 - fp: 59419.2461 - loss: 0.4525 - prc: 0.1146 - precision: 0.0351 - recall: 0.7167 - tn: 787463.8750 - tp: 2175.6128 - val_Brier score: 0.0667 - val_accuracy: 0.9568 - val_auc: 0.8533 - val_cross entropy: 0.3103 - val_fn: 334.0000 - val_fp: 17943.0000 - val_loss: 0.3103 - val_prc: 0.1440 - val_precision: 0.0609 - val_recall: 0.7769 - val_tn: 404031.0000 - val_tp: 1163.0000\n",
            "Epoch 10/100\n",
            "\u001b[1m828/828\u001b[0m \u001b[32m━━━━━━━━━━━━━━━━━━━━\u001b[0m\u001b[37m\u001b[0m \u001b[1m4s\u001b[0m 5ms/step - Brier score: 0.0795 - accuracy: 0.9323 - auc: 0.8546 - cross entropy: 0.3408 - fn: 829.5067 - fp: 56686.0977 - loss: 0.4345 - prc: 0.1089 - precision: 0.0369 - recall: 0.7284 - tn: 790196.0000 - tp: 2201.4487 - val_Brier score: 0.0638 - val_accuracy: 0.9618 - val_auc: 0.8551 - val_cross entropy: 0.3003 - val_fn: 344.0000 - val_fp: 15852.0000 - val_loss: 0.3003 - val_prc: 0.1468 - val_precision: 0.0678 - val_recall: 0.7702 - val_tn: 406122.0000 - val_tp: 1153.0000\n",
            "Epoch 11/100\n",
            "\u001b[1m828/828\u001b[0m \u001b[32m━━━━━━━━━━━━━━━━━━━━\u001b[0m\u001b[37m\u001b[0m \u001b[1m4s\u001b[0m 5ms/step - Brier score: 0.0766 - accuracy: 0.9389 - auc: 0.8495 - cross entropy: 0.3344 - fn: 839.4656 - fp: 50867.6523 - loss: 0.4397 - prc: 0.1121 - precision: 0.0412 - recall: 0.7205 - tn: 796017.1250 - tp: 2188.7793 - val_Brier score: 0.0715 - val_accuracy: 0.9554 - val_auc: 0.8559 - val_cross entropy: 0.3275 - val_fn: 338.0000 - val_fp: 18533.0000 - val_loss: 0.3275 - val_prc: 0.1420 - val_precision: 0.0589 - val_recall: 0.7742 - val_tn: 403441.0000 - val_tp: 1159.0000\n",
            "Epoch 12/100\n",
            "\u001b[1m828/828\u001b[0m \u001b[32m━━━━━━━━━━━━━━━━━━━━\u001b[0m\u001b[37m\u001b[0m \u001b[1m7s\u001b[0m 7ms/step - Brier score: 0.0777 - accuracy: 0.9411 - auc: 0.8567 - cross entropy: 0.3403 - fn: 823.3558 - fp: 48149.8359 - loss: 0.4258 - prc: 0.1197 - precision: 0.0431 - recall: 0.7282 - tn: 798740.5000 - tp: 2199.3257 - val_Brier score: 0.0669 - val_accuracy: 0.9617 - val_auc: 0.8596 - val_cross entropy: 0.3149 - val_fn: 342.0000 - val_fp: 15870.0000 - val_loss: 0.3149 - val_prc: 0.1440 - val_precision: 0.0678 - val_recall: 0.7715 - val_tn: 406104.0000 - val_tp: 1155.0000\n",
            "Epoch 13/100\n",
            "\u001b[1m828/828\u001b[0m \u001b[32m━━━━━━━━━━━━━━━━━━━━\u001b[0m\u001b[37m\u001b[0m \u001b[1m8s\u001b[0m 5ms/step - Brier score: 0.0742 - accuracy: 0.9478 - auc: 0.8602 - cross entropy: 0.3330 - fn: 816.4705 - fp: 43392.5938 - loss: 0.4173 - prc: 0.1221 - precision: 0.0484 - recall: 0.7326 - tn: 803495.6875 - tp: 2208.2629 - val_Brier score: 0.0705 - val_accuracy: 0.9587 - val_auc: 0.8612 - val_cross entropy: 0.3326 - val_fn: 337.0000 - val_fp: 17171.0000 - val_loss: 0.3326 - val_prc: 0.1360 - val_precision: 0.0633 - val_recall: 0.7749 - val_tn: 404803.0000 - val_tp: 1160.0000\n",
            "Epoch 14/100\n",
            "\u001b[1m828/828\u001b[0m \u001b[32m━━━━━━━━━━━━━━━━━━━━\u001b[0m\u001b[37m\u001b[0m \u001b[1m8s\u001b[0m 8ms/step - Brier score: 0.0744 - accuracy: 0.9507 - auc: 0.8596 - cross entropy: 0.3415 - fn: 786.1061 - fp: 40449.1719 - loss: 0.4152 - prc: 0.1125 - precision: 0.0513 - recall: 0.7368 - tn: 806458.3750 - tp: 2219.3704 - val_Brier score: 0.0748 - val_accuracy: 0.9554 - val_auc: 0.8676 - val_cross entropy: 0.3459 - val_fn: 335.0000 - val_fp: 18570.0000 - val_loss: 0.3459 - val_prc: 0.1351 - val_precision: 0.0589 - val_recall: 0.7762 - val_tn: 403404.0000 - val_tp: 1162.0000\n",
            "Epoch 15/100\n",
            "\u001b[1m828/828\u001b[0m \u001b[32m━━━━━━━━━━━━━━━━━━━━\u001b[0m\u001b[37m\u001b[0m \u001b[1m8s\u001b[0m 5ms/step - Brier score: 0.0750 - accuracy: 0.9515 - auc: 0.8688 - cross entropy: 0.3424 - fn: 776.2051 - fp: 39483.5820 - loss: 0.4023 - prc: 0.1189 - precision: 0.0515 - recall: 0.7411 - tn: 807460.3750 - tp: 2192.8601 - val_Brier score: 0.0732 - val_accuracy: 0.9600 - val_auc: 0.8677 - val_cross entropy: 0.3423 - val_fn: 341.0000 - val_fp: 16577.0000 - val_loss: 0.3423 - val_prc: 0.1363 - val_precision: 0.0652 - val_recall: 0.7722 - val_tn: 405397.0000 - val_tp: 1156.0000\n",
            "Epoch 16/100\n",
            "\u001b[1m828/828\u001b[0m \u001b[32m━━━━━━━━━━━━━━━━━━━━\u001b[0m\u001b[37m\u001b[0m \u001b[1m6s\u001b[0m 7ms/step - Brier score: 0.0764 - accuracy: 0.9532 - auc: 0.8708 - cross entropy: 0.3487 - fn: 783.2231 - fp: 38241.5625 - loss: 0.4074 - prc: 0.1182 - precision: 0.0546 - recall: 0.7400 - tn: 808635.8125 - tp: 2252.4680 - val_Brier score: 0.0719 - val_accuracy: 0.9623 - val_auc: 0.8725 - val_cross entropy: 0.3383 - val_fn: 345.0000 - val_fp: 15604.0000 - val_loss: 0.3383 - val_prc: 0.1383 - val_precision: 0.0688 - val_recall: 0.7695 - val_tn: 406370.0000 - val_tp: 1152.0000\n",
            "Epoch 17/100\n",
            "\u001b[1m828/828\u001b[0m \u001b[32m━━━━━━━━━━━━━━━━━━━━\u001b[0m\u001b[37m\u001b[0m \u001b[1m8s\u001b[0m 5ms/step - Brier score: 0.0749 - accuracy: 0.9564 - auc: 0.8742 - cross entropy: 0.3467 - fn: 766.1918 - fp: 36406.4414 - loss: 0.3992 - prc: 0.1192 - precision: 0.0584 - recall: 0.7464 - tn: 810466.0000 - tp: 2274.4343 - val_Brier score: 0.0710 - val_accuracy: 0.9644 - val_auc: 0.8741 - val_cross entropy: 0.3357 - val_fn: 347.0000 - val_fp: 14717.0000 - val_loss: 0.3357 - val_prc: 0.1396 - val_precision: 0.0725 - val_recall: 0.7682 - val_tn: 407257.0000 - val_tp: 1150.0000\n",
            "Epoch 18/100\n",
            "\u001b[1m828/828\u001b[0m \u001b[32m━━━━━━━━━━━━━━━━━━━━\u001b[0m\u001b[37m\u001b[0m \u001b[1m6s\u001b[0m 7ms/step - Brier score: 0.0737 - accuracy: 0.9596 - auc: 0.8707 - cross entropy: 0.3435 - fn: 784.2195 - fp: 33821.9492 - loss: 0.4014 - prc: 0.1224 - precision: 0.0630 - recall: 0.7436 - tn: 813048.3125 - tp: 2258.5415 - val_Brier score: 0.0689 - val_accuracy: 0.9650 - val_auc: 0.8786 - val_cross entropy: 0.3308 - val_fn: 347.0000 - val_fp: 14483.0000 - val_loss: 0.3308 - val_prc: 0.1389 - val_precision: 0.0736 - val_recall: 0.7682 - val_tn: 407491.0000 - val_tp: 1150.0000\n",
            "Epoch 19/100\n",
            "\u001b[1m828/828\u001b[0m \u001b[32m━━━━━━━━━━━━━━━━━━━━\u001b[0m\u001b[37m\u001b[0m \u001b[1m9s\u001b[0m 6ms/step - Brier score: 0.0736 - accuracy: 0.9598 - auc: 0.8693 - cross entropy: 0.3445 - fn: 787.5356 - fp: 33937.9922 - loss: 0.3993 - prc: 0.1183 - precision: 0.0619 - recall: 0.7382 - tn: 812955.4375 - tp: 2232.0771 - val_Brier score: 0.0711 - val_accuracy: 0.9641 - val_auc: 0.8784 - val_cross entropy: 0.3397 - val_fn: 347.0000 - val_fp: 14869.0000 - val_loss: 0.3397 - val_prc: 0.1360 - val_precision: 0.0718 - val_recall: 0.7682 - val_tn: 407105.0000 - val_tp: 1150.0000\n",
            "Epoch 20/100\n",
            "\u001b[1m828/828\u001b[0m \u001b[32m━━━━━━━━━━━━━━━━━━━━\u001b[0m\u001b[37m\u001b[0m \u001b[1m5s\u001b[0m 6ms/step - Brier score: 0.0753 - accuracy: 0.9597 - auc: 0.8695 - cross entropy: 0.3526 - fn: 781.7599 - fp: 33213.7461 - loss: 0.4048 - prc: 0.1195 - precision: 0.0626 - recall: 0.7385 - tn: 813689.8125 - tp: 2227.7141 - val_Brier score: 0.0713 - val_accuracy: 0.9645 - val_auc: 0.8805 - val_cross entropy: 0.3405 - val_fn: 347.0000 - val_fp: 14698.0000 - val_loss: 0.3405 - val_prc: 0.1368 - val_precision: 0.0726 - val_recall: 0.7682 - val_tn: 407276.0000 - val_tp: 1150.0000\n",
            "Epoch 20: early stopping\n",
            "Restoring model weights from the end of the best epoch: 10.\n"
          ]
        }
      ]
    },
    {
      "cell_type": "code",
      "source": [
        "def plot_metrics(history):\n",
        "  metrics = ['loss', 'prc', 'precision', 'recall']\n",
        "  for n, metric in enumerate(metrics):\n",
        "    name = metric.replace(\"_\",\" \").capitalize()\n",
        "    plt.subplot(2,2,n+1)\n",
        "    plt.plot(history.epoch, history.history[metric], color=colors[0], label='Train')\n",
        "    plt.plot(history.epoch, history.history['val_'+metric],\n",
        "             color=colors[0], linestyle=\"--\", label='Val')\n",
        "    plt.xlabel('Epoch')\n",
        "    plt.ylabel(name)\n",
        "    if metric == 'loss':\n",
        "      plt.ylim([0, plt.ylim()[1]])\n",
        "    elif metric == 'auc':\n",
        "      plt.ylim([0.8,1])\n",
        "    else:\n",
        "      plt.ylim([0,1])\n",
        "\n",
        "    plt.legend()"
      ],
      "metadata": {
        "id": "B-FGWSv7o3d1"
      },
      "execution_count": 34,
      "outputs": []
    },
    {
      "cell_type": "markdown",
      "source": [
        "## Comparing metric history - Baseline versus Weighted"
      ],
      "metadata": {
        "id": "qt5Q5VvrpAAf"
      }
    },
    {
      "cell_type": "code",
      "source": [
        "plot_metrics(weighted_history)"
      ],
      "metadata": {
        "colab": {
          "base_uri": "https://localhost:8080/",
          "height": 455
        },
        "id": "1X-nyU-8oo9u",
        "outputId": "7bc55623-77ef-48c4-cedc-857586a430a6"
      },
      "execution_count": 35,
      "outputs": [
        {
          "output_type": "display_data",
          "data": {
            "text/plain": [
              "<Figure size 640x480 with 4 Axes>"
            ],
            "image/png": "[encoded data removed]"
          },
          "metadata": {}
        }
      ]
    },
    {
      "cell_type": "code",
      "source": [
        "plot_metrics(baseline_history)"
      ],
      "metadata": {
        "colab": {
          "base_uri": "https://localhost:8080/",
          "height": 455
        },
        "id": "IbjRQ4Lfo7cS",
        "outputId": "35455301-3557-4334-b438-055af0cc6c06"
      },
      "execution_count": 36,
      "outputs": [
        {
          "output_type": "display_data",
          "data": {
            "text/plain": [
              "<Figure size 640x480 with 4 Axes>"
            ],
            "image/png": "[encoded data removed]"
          },
          "metadata": {}
        }
      ]
    },
    {
      "cell_type": "markdown",
      "source": [
        "## Evaluate metrics"
      ],
      "metadata": {
        "id": "JU77KPaKpxOm"
      }
    },
    {
      "cell_type": "code",
      "source": [
        "train_predictions_weighted = weighted_model.predict(train_features, batch_size=BATCH_SIZE)\n",
        "test_predictions_weighted = weighted_model.predict(test_features, batch_size=BATCH_SIZE)"
      ],
      "metadata": {
        "colab": {
          "base_uri": "https://localhost:8080/"
        },
        "id": "AYQAejI7p103",
        "outputId": "f9185ed9-ee11-4191-d65b-8213214efece"
      },
      "execution_count": 37,
      "outputs": [
        {
          "output_type": "stream",
          "name": "stdout",
          "text": [
            "\u001b[1m828/828\u001b[0m \u001b[32m━━━━━━━━━━━━━━━━━━━━\u001b[0m\u001b[37m\u001b[0m \u001b[1m1s\u001b[0m 1ms/step\n",
            "\u001b[1m259/259\u001b[0m \u001b[32m━━━━━━━━━━━━━━━━━━━━\u001b[0m\u001b[37m\u001b[0m \u001b[1m0s\u001b[0m 1ms/step\n"
          ]
        }
      ]
    },
    {
      "cell_type": "code",
      "source": [
        "weighted_results = weighted_model.evaluate(test_features, test_labels,\n",
        "                                           batch_size=BATCH_SIZE, verbose=0)\n",
        "for name, value in zip(weighted_model.metrics_names, weighted_results):\n",
        "  print(name, ': ', value)\n",
        "print()\n",
        "\n",
        "plot_cm(test_labels, test_predictions_weighted)"
      ],
      "metadata": {
        "colab": {
          "base_uri": "https://localhost:8080/",
          "height": 542
        },
        "id": "oOhZfRULqpm8",
        "outputId": "0f909f00-2736-4e61-d13b-4d86c3f74f02"
      },
      "execution_count": 38,
      "outputs": [
        {
          "output_type": "stream",
          "name": "stdout",
          "text": [
            "loss :  0.30046841502189636\n",
            "compile_metrics :  0.30046841502189636\n",
            "\n"
          ]
        },
        {
          "output_type": "display_data",
          "data": {
            "text/plain": [
              "<Figure size 500x500 with 2 Axes>"
            ],
            "image/png": "[encoded data removed]"
          },
          "metadata": {}
        }
      ]
    },
    {
      "cell_type": "code",
      "source": [
        "f1 = f1_score(test_labels, test_predictions_weighted > 0.5)\n",
        "print(f'F1 Score: {f1}')"
      ],
      "metadata": {
        "colab": {
          "base_uri": "https://localhost:8080/"
        },
        "id": "29j8ixq5QGVd",
        "outputId": "012b47ae-a0e9-42a4-da88-950ea0b1f0fd"
      },
      "execution_count": 39,
      "outputs": [
        {
          "output_type": "stream",
          "name": "stdout",
          "text": [
            "F1 Score: 0.12408127972330307\n"
          ]
        }
      ]
    },
    {
      "cell_type": "code",
      "execution_count": null,
      "metadata": {
        "id": "XM5HtAZuNrrN"
      },
      "outputs": [],
      "source": [
        "# saving the file\n",
        "import pickle\n",
        "file_path = '/content/drive/MyDrive/Documents/Data Career/fraud_classification/fraud_class_tf.pkl'\n",
        "\n",
        "with open(file_path, \"wb\") as f:\n",
        "    pickle.dump(model, f)"
      ]
    },
    {
      "cell_type": "code",
      "source": [],
      "metadata": {
        "id": "lNTbSN_x8oGI"
      },
      "execution_count": null,
      "outputs": []
    }
  ],
  "metadata": {
    "colab": {
      "provenance": [],
      "mount_file_id": "15btsJkvhspBfdtWfosIXV7QR0hRb-fc2",
      "authorship_tag": "ABX9TyNjTuhMeqVnFiHONSlNpvAB",
      "include_colab_link": true
    },
    "kernelspec": {
      "display_name": "Python 3",
      "name": "python3"
    },
    "language_info": {
      "name": "python"
    }
  },
  "nbformat": 4,
  "nbformat_minor": 0
}