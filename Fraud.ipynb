{
  "cells": [
    {
      "cell_type": "markdown",
      "metadata": {
        "id": "view-in-github",
        "colab_type": "text"
      },
      "source": [
        "<a href=\"https://colab.research.google.com/github/lro99/fraud_classification/blob/main/Fraud.ipynb\" target=\"_parent\"><img src=\"https://colab.research.google.com/assets/colab-badge.svg\" alt=\"Open In Colab\"/></a>"
      ]
    },
    {
      "cell_type": "code",
      "execution_count": 1,
      "metadata": {
        "id": "U8fZwC_f6jTs"
      },
      "outputs": [],
      "source": [
        "import pandas as pd\n",
        "import numpy as np\n",
        "import random\n",
        "import matplotlib.pyplot as plt\n",
        "import seaborn as sns\n",
        "import os\n",
        "from sklearn.model_selection import train_test_split\n",
        "from sklearn.preprocessing import LabelEncoder, OneHotEncoder, StandardScaler\n",
        "from sklearn.metrics import accuracy_score, confusion_matrix, f1_score\n",
        "# from google.colab import drive\n",
        "\n",
        "import tensorflow as tf\n",
        "from tensorflow import keras"
      ]
    },
    {
      "cell_type": "code",
      "execution_count": 2,
      "metadata": {
        "id": "PYpjsrR48DUQ"
      },
      "outputs": [],
      "source": [
        "train = pd.read_parquet('/content/drive/MyDrive/Documents/Data Career/fraud_classification/train-00000-of-00002.parquet')\n",
        "train.to_csv('fraud0.csv')\n",
        "\n",
        "train1 = pd.read_parquet('/content/drive/MyDrive/Documents/Data Career/fraud_classification/train-00001-of-00002.parquet')\n",
        "train1.to_csv('fraud1.csv')"
      ]
    },
    {
      "cell_type": "code",
      "execution_count": 3,
      "metadata": {
        "colab": {
          "base_uri": "https://localhost:8080/",
          "height": 399
        },
        "id": "oPJgJoQ0_gAp",
        "outputId": "612aa7c2-49cf-48f0-d024-24e88fcba234"
      },
      "outputs": [
        {
          "output_type": "execute_result",
          "data": {
            "text/plain": [
              "           ssn            cc_num    first   last gender      city state  \\\n",
              "0  367-85-9826  4361337605230458  Kristie  Davis      F  Chandler    OK   \n",
              "1  367-85-9826  4361337605230458  Kristie  Davis      F  Chandler    OK   \n",
              "2  367-85-9826  4361337605230458  Kristie  Davis      F  Chandler    OK   \n",
              "3  367-85-9826  4361337605230458  Kristie  Davis      F  Chandler    OK   \n",
              "4  367-85-9826  4361337605230458  Kristie  Davis      F  Chandler    OK   \n",
              "\n",
              "     zip  city_pop                     job         dob      acct_num  \\\n",
              "0  74834      7590  Chief Strategy Officer  1987-06-12  349734538563   \n",
              "1  74834      7590  Chief Strategy Officer  1987-06-12  349734538563   \n",
              "2  74834      7590  Chief Strategy Officer  1987-06-12  349734538563   \n",
              "3  74834      7590  Chief Strategy Officer  1987-06-12  349734538563   \n",
              "4  74834      7590  Chief Strategy Officer  1987-06-12  349734538563   \n",
              "\n",
              "                          trans_num  trans_date trans_time   unix_time  \\\n",
              "0  c036244703adb9d5392f4027d9d4b38d  2021-07-31   02:30:01  1627678801   \n",
              "1  42f000b0b3b0ef534e5b8ef9ec1db13a  2021-08-01   22:37:41  1627837661   \n",
              "2  543037b1baf088961e58d00b705f4bcc  2021-08-01   23:02:09  1627839129   \n",
              "3  00a4e08643edebf9277c2967676f6a26  2021-08-01   22:27:24  1627837044   \n",
              "4  492c4412815306718f686fc5b459a285  2021-12-02   02:28:51  1638392331   \n",
              "\n",
              "         category     amt  is_fraud                merchant  \n",
              "0     grocery_pos  337.54         1           fraud_Kovacek  \n",
              "1   personal_care   21.13         1           fraud_Bradtke  \n",
              "2   personal_care   22.61         1     fraud_Kozey-Kuhlman  \n",
              "3  health_fitness   17.32         1             fraud_Hills  \n",
              "4        misc_pos   75.82         0  fraud_Kemmer-Buckridge  "
            ],
            "text/html": [
              "\n",
              "  <div id=\"df-e74c0550-fe47-4b1c-b5e7-8cb4e10759fc\" class=\"colab-df-container\">\n",
              "    <div>\n",
              "<style scoped>\n",
              "    .dataframe tbody tr th:only-of-type {\n",
              "        vertical-align: middle;\n",
              "    }\n",
              "\n",
              "    .dataframe tbody tr th {\n",
              "        vertical-align: top;\n",
              "    }\n",
              "\n",
              "    .dataframe thead th {\n",
              "        text-align: right;\n",
              "    }\n",
              "</style>\n",
              "<table border=\"1\" class=\"dataframe\">\n",
              "  <thead>\n",
              "    <tr style=\"text-align: right;\">\n",
              "      <th></th>\n",
              "      <th>ssn</th>\n",
              "      <th>cc_num</th>\n",
              "      <th>first</th>\n",
              "      <th>last</th>\n",
              "      <th>gender</th>\n",
              "      <th>city</th>\n",
              "      <th>state</th>\n",
              "      <th>zip</th>\n",
              "      <th>city_pop</th>\n",
              "      <th>job</th>\n",
              "      <th>dob</th>\n",
              "      <th>acct_num</th>\n",
              "      <th>trans_num</th>\n",
              "      <th>trans_date</th>\n",
              "      <th>trans_time</th>\n",
              "      <th>unix_time</th>\n",
              "      <th>category</th>\n",
              "      <th>amt</th>\n",
              "      <th>is_fraud</th>\n",
              "      <th>merchant</th>\n",
              "    </tr>\n",
              "  </thead>\n",
              "  <tbody>\n",
              "    <tr>\n",
              "      <th>0</th>\n",
              "      <td>367-85-9826</td>\n",
              "      <td>4361337605230458</td>\n",
              "      <td>Kristie</td>\n",
              "      <td>Davis</td>\n",
              "      <td>F</td>\n",
              "      <td>Chandler</td>\n",
              "      <td>OK</td>\n",
              "      <td>74834</td>\n",
              "      <td>7590</td>\n",
              "      <td>Chief Strategy Officer</td>\n",
              "      <td>1987-06-12</td>\n",
              "      <td>349734538563</td>\n",
              "      <td>c036244703adb9d5392f4027d9d4b38d</td>\n",
              "      <td>2021-07-31</td>\n",
              "      <td>02:30:01</td>\n",
              "      <td>1627678801</td>\n",
              "      <td>grocery_pos</td>\n",
              "      <td>337.54</td>\n",
              "      <td>1</td>\n",
              "      <td>fraud_Kovacek</td>\n",
              "    </tr>\n",
              "    <tr>\n",
              "      <th>1</th>\n",
              "      <td>367-85-9826</td>\n",
              "      <td>4361337605230458</td>\n",
              "      <td>Kristie</td>\n",
              "      <td>Davis</td>\n",
              "      <td>F</td>\n",
              "      <td>Chandler</td>\n",
              "      <td>OK</td>\n",
              "      <td>74834</td>\n",
              "      <td>7590</td>\n",
              "      <td>Chief Strategy Officer</td>\n",
              "      <td>1987-06-12</td>\n",
              "      <td>349734538563</td>\n",
              "      <td>42f000b0b3b0ef534e5b8ef9ec1db13a</td>\n",
              "      <td>2021-08-01</td>\n",
              "      <td>22:37:41</td>\n",
              "      <td>1627837661</td>\n",
              "      <td>personal_care</td>\n",
              "      <td>21.13</td>\n",
              "      <td>1</td>\n",
              "      <td>fraud_Bradtke</td>\n",
              "    </tr>\n",
              "    <tr>\n",
              "      <th>2</th>\n",
              "      <td>367-85-9826</td>\n",
              "      <td>4361337605230458</td>\n",
              "      <td>Kristie</td>\n",
              "      <td>Davis</td>\n",
              "      <td>F</td>\n",
              "      <td>Chandler</td>\n",
              "      <td>OK</td>\n",
              "      <td>74834</td>\n",
              "      <td>7590</td>\n",
              "      <td>Chief Strategy Officer</td>\n",
              "      <td>1987-06-12</td>\n",
              "      <td>349734538563</td>\n",
              "      <td>543037b1baf088961e58d00b705f4bcc</td>\n",
              "      <td>2021-08-01</td>\n",
              "      <td>23:02:09</td>\n",
              "      <td>1627839129</td>\n",
              "      <td>personal_care</td>\n",
              "      <td>22.61</td>\n",
              "      <td>1</td>\n",
              "      <td>fraud_Kozey-Kuhlman</td>\n",
              "    </tr>\n",
              "    <tr>\n",
              "      <th>3</th>\n",
              "      <td>367-85-9826</td>\n",
              "      <td>4361337605230458</td>\n",
              "      <td>Kristie</td>\n",
              "      <td>Davis</td>\n",
              "      <td>F</td>\n",
              "      <td>Chandler</td>\n",
              "      <td>OK</td>\n",
              "      <td>74834</td>\n",
              "      <td>7590</td>\n",
              "      <td>Chief Strategy Officer</td>\n",
              "      <td>1987-06-12</td>\n",
              "      <td>349734538563</td>\n",
              "      <td>00a4e08643edebf9277c2967676f6a26</td>\n",
              "      <td>2021-08-01</td>\n",
              "      <td>22:27:24</td>\n",
              "      <td>1627837044</td>\n",
              "      <td>health_fitness</td>\n",
              "      <td>17.32</td>\n",
              "      <td>1</td>\n",
              "      <td>fraud_Hills</td>\n",
              "    </tr>\n",
              "    <tr>\n",
              "      <th>4</th>\n",
              "      <td>367-85-9826</td>\n",
              "      <td>4361337605230458</td>\n",
              "      <td>Kristie</td>\n",
              "      <td>Davis</td>\n",
              "      <td>F</td>\n",
              "      <td>Chandler</td>\n",
              "      <td>OK</td>\n",
              "      <td>74834</td>\n",
              "      <td>7590</td>\n",
              "      <td>Chief Strategy Officer</td>\n",
              "      <td>1987-06-12</td>\n",
              "      <td>349734538563</td>\n",
              "      <td>492c4412815306718f686fc5b459a285</td>\n",
              "      <td>2021-12-02</td>\n",
              "      <td>02:28:51</td>\n",
              "      <td>1638392331</td>\n",
              "      <td>misc_pos</td>\n",
              "      <td>75.82</td>\n",
              "      <td>0</td>\n",
              "      <td>fraud_Kemmer-Buckridge</td>\n",
              "    </tr>\n",
              "  </tbody>\n",
              "</table>\n",
              "</div>\n",
              "    <div class=\"colab-df-buttons\">\n",
              "\n",
              "  <div class=\"colab-df-container\">\n",
              "    <button class=\"colab-df-convert\" onclick=\"convertToInteractive('df-e74c0550-fe47-4b1c-b5e7-8cb4e10759fc')\"\n",
              "            title=\"Convert this dataframe to an interactive table.\"\n",
              "            style=\"display:none;\">\n",
              "\n",
              "  <svg xmlns=\"http://www.w3.org/2000/svg\" height=\"24px\" viewBox=\"0 -960 960 960\">\n",
              "    <path d=\"M120-120v-720h720v720H120Zm60-500h600v-160H180v160Zm220 220h160v-160H400v160Zm0 220h160v-160H400v160ZM180-400h160v-160H180v160Zm440 0h160v-160H620v160ZM180-180h160v-160H180v160Zm440 0h160v-160H620v160Z\"/>\n",
              "  </svg>\n",
              "    </button>\n",
              "\n",
              "  <style>\n",
              "    .colab-df-container {\n",
              "      display:flex;\n",
              "      gap: 12px;\n",
              "    }\n",
              "\n",
              "    .colab-df-convert {\n",
              "      background-color: #E8F0FE;\n",
              "      border: none;\n",
              "      border-radius: 50%;\n",
              "      cursor: pointer;\n",
              "      display: none;\n",
              "      fill: #1967D2;\n",
              "      height: 32px;\n",
              "      padding: 0 0 0 0;\n",
              "      width: 32px;\n",
              "    }\n",
              "\n",
              "    .colab-df-convert:hover {\n",
              "      background-color: #E2EBFA;\n",
              "      box-shadow: 0px 1px 2px rgba(60, 64, 67, 0.3), 0px 1px 3px 1px rgba(60, 64, 67, 0.15);\n",
              "      fill: #174EA6;\n",
              "    }\n",
              "\n",
              "    .colab-df-buttons div {\n",
              "      margin-bottom: 4px;\n",
              "    }\n",
              "\n",
              "    [theme=dark] .colab-df-convert {\n",
              "      background-color: #3B4455;\n",
              "      fill: #D2E3FC;\n",
              "    }\n",
              "\n",
              "    [theme=dark] .colab-df-convert:hover {\n",
              "      background-color: #434B5C;\n",
              "      box-shadow: 0px 1px 3px 1px rgba(0, 0, 0, 0.15);\n",
              "      filter: drop-shadow(0px 1px 2px rgba(0, 0, 0, 0.3));\n",
              "      fill: #FFFFFF;\n",
              "    }\n",
              "  </style>\n",
              "\n",
              "    <script>\n",
              "      const buttonEl =\n",
              "        document.querySelector('#df-e74c0550-fe47-4b1c-b5e7-8cb4e10759fc button.colab-df-convert');\n",
              "      buttonEl.style.display =\n",
              "        google.colab.kernel.accessAllowed ? 'block' : 'none';\n",
              "\n",
              "      async function convertToInteractive(key) {\n",
              "        const element = document.querySelector('#df-e74c0550-fe47-4b1c-b5e7-8cb4e10759fc');\n",
              "        const dataTable =\n",
              "          await google.colab.kernel.invokeFunction('convertToInteractive',\n",
              "                                                    [key], {});\n",
              "        if (!dataTable) return;\n",
              "\n",
              "        const docLinkHtml = 'Like what you see? Visit the ' +\n",
              "          '<a target=\"_blank\" href=https://colab.research.google.com/notebooks/data_table.ipynb>data table notebook</a>'\n",
              "          + ' to learn more about interactive tables.';\n",
              "        element.innerHTML = '';\n",
              "        dataTable['output_type'] = 'display_data';\n",
              "        await google.colab.output.renderOutput(dataTable, element);\n",
              "        const docLink = document.createElement('div');\n",
              "        docLink.innerHTML = docLinkHtml;\n",
              "        element.appendChild(docLink);\n",
              "      }\n",
              "    </script>\n",
              "  </div>\n",
              "\n",
              "\n",
              "<div id=\"df-03c34c5e-cb13-43ea-a2e6-5f94e4535515\">\n",
              "  <button class=\"colab-df-quickchart\" onclick=\"quickchart('df-03c34c5e-cb13-43ea-a2e6-5f94e4535515')\"\n",
              "            title=\"Suggest charts\"\n",
              "            style=\"display:none;\">\n",
              "\n",
              "<svg xmlns=\"http://www.w3.org/2000/svg\" height=\"24px\"viewBox=\"0 0 24 24\"\n",
              "     width=\"24px\">\n",
              "    <g>\n",
              "        <path d=\"M19 3H5c-1.1 0-2 .9-2 2v14c0 1.1.9 2 2 2h14c1.1 0 2-.9 2-2V5c0-1.1-.9-2-2-2zM9 17H7v-7h2v7zm4 0h-2V7h2v10zm4 0h-2v-4h2v4z\"/>\n",
              "    </g>\n",
              "</svg>\n",
              "  </button>\n",
              "\n",
              "<style>\n",
              "  .colab-df-quickchart {\n",
              "      --bg-color: #E8F0FE;\n",
              "      --fill-color: #1967D2;\n",
              "      --hover-bg-color: #E2EBFA;\n",
              "      --hover-fill-color: #174EA6;\n",
              "      --disabled-fill-color: #AAA;\n",
              "      --disabled-bg-color: #DDD;\n",
              "  }\n",
              "\n",
              "  [theme=dark] .colab-df-quickchart {\n",
              "      --bg-color: #3B4455;\n",
              "      --fill-color: #D2E3FC;\n",
              "      --hover-bg-color: #434B5C;\n",
              "      --hover-fill-color: #FFFFFF;\n",
              "      --disabled-bg-color: #3B4455;\n",
              "      --disabled-fill-color: #666;\n",
              "  }\n",
              "\n",
              "  .colab-df-quickchart {\n",
              "    background-color: var(--bg-color);\n",
              "    border: none;\n",
              "    border-radius: 50%;\n",
              "    cursor: pointer;\n",
              "    display: none;\n",
              "    fill: var(--fill-color);\n",
              "    height: 32px;\n",
              "    padding: 0;\n",
              "    width: 32px;\n",
              "  }\n",
              "\n",
              "  .colab-df-quickchart:hover {\n",
              "    background-color: var(--hover-bg-color);\n",
              "    box-shadow: 0 1px 2px rgba(60, 64, 67, 0.3), 0 1px 3px 1px rgba(60, 64, 67, 0.15);\n",
              "    fill: var(--button-hover-fill-color);\n",
              "  }\n",
              "\n",
              "  .colab-df-quickchart-complete:disabled,\n",
              "  .colab-df-quickchart-complete:disabled:hover {\n",
              "    background-color: var(--disabled-bg-color);\n",
              "    fill: var(--disabled-fill-color);\n",
              "    box-shadow: none;\n",
              "  }\n",
              "\n",
              "  .colab-df-spinner {\n",
              "    border: 2px solid var(--fill-color);\n",
              "    border-color: transparent;\n",
              "    border-bottom-color: var(--fill-color);\n",
              "    animation:\n",
              "      spin 1s steps(1) infinite;\n",
              "  }\n",
              "\n",
              "  @keyframes spin {\n",
              "    0% {\n",
              "      border-color: transparent;\n",
              "      border-bottom-color: var(--fill-color);\n",
              "      border-left-color: var(--fill-color);\n",
              "    }\n",
              "    20% {\n",
              "      border-color: transparent;\n",
              "      border-left-color: var(--fill-color);\n",
              "      border-top-color: var(--fill-color);\n",
              "    }\n",
              "    30% {\n",
              "      border-color: transparent;\n",
              "      border-left-color: var(--fill-color);\n",
              "      border-top-color: var(--fill-color);\n",
              "      border-right-color: var(--fill-color);\n",
              "    }\n",
              "    40% {\n",
              "      border-color: transparent;\n",
              "      border-right-color: var(--fill-color);\n",
              "      border-top-color: var(--fill-color);\n",
              "    }\n",
              "    60% {\n",
              "      border-color: transparent;\n",
              "      border-right-color: var(--fill-color);\n",
              "    }\n",
              "    80% {\n",
              "      border-color: transparent;\n",
              "      border-right-color: var(--fill-color);\n",
              "      border-bottom-color: var(--fill-color);\n",
              "    }\n",
              "    90% {\n",
              "      border-color: transparent;\n",
              "      border-bottom-color: var(--fill-color);\n",
              "    }\n",
              "  }\n",
              "</style>\n",
              "\n",
              "  <script>\n",
              "    async function quickchart(key) {\n",
              "      const quickchartButtonEl =\n",
              "        document.querySelector('#' + key + ' button');\n",
              "      quickchartButtonEl.disabled = true;  // To prevent multiple clicks.\n",
              "      quickchartButtonEl.classList.add('colab-df-spinner');\n",
              "      try {\n",
              "        const charts = await google.colab.kernel.invokeFunction(\n",
              "            'suggestCharts', [key], {});\n",
              "      } catch (error) {\n",
              "        console.error('Error during call to suggestCharts:', error);\n",
              "      }\n",
              "      quickchartButtonEl.classList.remove('colab-df-spinner');\n",
              "      quickchartButtonEl.classList.add('colab-df-quickchart-complete');\n",
              "    }\n",
              "    (() => {\n",
              "      let quickchartButtonEl =\n",
              "        document.querySelector('#df-03c34c5e-cb13-43ea-a2e6-5f94e4535515 button');\n",
              "      quickchartButtonEl.style.display =\n",
              "        google.colab.kernel.accessAllowed ? 'block' : 'none';\n",
              "    })();\n",
              "  </script>\n",
              "</div>\n",
              "\n",
              "    </div>\n",
              "  </div>\n"
            ],
            "application/vnd.google.colaboratory.intrinsic+json": {
              "type": "dataframe",
              "variable_name": "train_df"
            }
          },
          "metadata": {},
          "execution_count": 3
        }
      ],
      "source": [
        "train_df = pd.concat([train, train1], ignore_index=True)\n",
        "\n",
        "# fraction = 0.55\n",
        "# train_df = train_df_unsampled.sample(frac=fraction, random_state=42)\n",
        "\n",
        "train_df.head()"
      ]
    },
    {
      "cell_type": "markdown",
      "source": [
        "Class Label Imbalance"
      ],
      "metadata": {
        "id": "3CePUCHGHn1x"
      }
    },
    {
      "cell_type": "code",
      "source": [
        "neg, pos = train_df['is_fraud'].value_counts()\n",
        "total = neg + pos\n",
        "print('Examples:\\n    Total: {}\\n    Positive: {} ({:.2f}% of total)\\n'.format(\n",
        "    total, pos, 100 * pos / total))"
      ],
      "metadata": {
        "colab": {
          "base_uri": "https://localhost:8080/"
        },
        "id": "gPhSj7jJHVvc",
        "outputId": "34f2a393-8fba-4744-f5a1-2359001662f8"
      },
      "execution_count": 4,
      "outputs": [
        {
          "output_type": "stream",
          "name": "stdout",
          "text": [
            "Examples:\n",
            "    Total: 2646694\n",
            "    Positive: 9422 (0.36% of total)\n",
            "\n"
          ]
        }
      ]
    },
    {
      "cell_type": "code",
      "source": [
        "# X = train_df.drop('is_fraud', axis=1)\n",
        "# y = train_df['is_fraud']\n",
        "# print(X.shape, y.shape)"
      ],
      "metadata": {
        "id": "6AaAgQTTaxTG"
      },
      "execution_count": 5,
      "outputs": []
    },
    {
      "cell_type": "code",
      "source": [
        "# X_train, X_test, y_train, y_test = train_test_split(X, y, test_size=0.2, random_state=42)\n",
        "# print(X_train.shape, X_test.shape)"
      ],
      "metadata": {
        "id": "hYq9hsiWqdXn"
      },
      "execution_count": 6,
      "outputs": []
    },
    {
      "cell_type": "markdown",
      "source": [
        "Data preprocessing (outside model)"
      ],
      "metadata": {
        "id": "SfR0m3vyEpjB"
      }
    },
    {
      "cell_type": "code",
      "source": [
        "# encoding\n",
        "\n",
        "# ssn: drop dash, convert to int\n",
        "# first: drop\n",
        "# last: drop\n",
        "# gender: onehot encode\n",
        "# city & state: concatenate\n",
        "# job: label encode\n",
        "# dob: drop dash, convert to int\n",
        "# transnum: potentially drop\n",
        "# transdate: drop\n",
        "# transtime: drop\n",
        "# category: label encode\n",
        "# merchant: label encode"
      ],
      "metadata": {
        "id": "bXltsR3zYYus"
      },
      "execution_count": 7,
      "outputs": []
    },
    {
      "cell_type": "code",
      "source": [
        "# conversions\n",
        "train_df['ssn'] = train_df['ssn'].str.replace('-', '').astype(int)\n",
        "train_df['dob'] = train_df['dob'].str.replace('-', '').astype(int)\n",
        "\n",
        "train_df['location'] = train_df['city'] + ', ' + train_df['state']\n",
        "\n",
        "# onehot encode (gender)\n",
        "onehot = OneHotEncoder(sparse_output=False, handle_unknown='ignore')\n",
        "onehot.fit(train_df[['gender']])\n",
        "\n",
        "feature_names = onehot.get_feature_names_out(['gender'])\n",
        "gender_encoded = pd.DataFrame(onehot.transform(train_df[['gender']]), columns=feature_names)\n",
        "\n",
        "# label encode (job, category, merchant)\n",
        "encode_df = train_df[['job', 'category', 'merchant', 'location']]\n",
        "encoder = LabelEncoder()\n",
        "for col in encode_df.columns:\n",
        "    encode_df[col] = encoder.fit_transform(encode_df[col])\n",
        "\n",
        "# drop unneeded columns\n",
        "train_df = train_df.drop(['job', 'category', 'merchant', 'first', 'last', 'trans_num', 'trans_date', 'trans_time', 'city', 'state', 'gender', 'location'], axis=1)\n",
        "train_df.head()\n"
      ],
      "metadata": {
        "colab": {
          "base_uri": "https://localhost:8080/",
          "height": 644
        },
        "id": "_CUDQdalaC1J",
        "outputId": "fc38514c-2086-4b21-df87-e968d77f628b"
      },
      "execution_count": 8,
      "outputs": [
        {
          "output_type": "stream",
          "name": "stderr",
          "text": [
            "<ipython-input-8-2f29263f5388>:18: SettingWithCopyWarning: \n",
            "A value is trying to be set on a copy of a slice from a DataFrame.\n",
            "Try using .loc[row_indexer,col_indexer] = value instead\n",
            "\n",
            "See the caveats in the documentation: https://pandas.pydata.org/pandas-docs/stable/user_guide/indexing.html#returning-a-view-versus-a-copy\n",
            "  encode_df[col] = encoder.fit_transform(encode_df[col])\n",
            "<ipython-input-8-2f29263f5388>:18: SettingWithCopyWarning: \n",
            "A value is trying to be set on a copy of a slice from a DataFrame.\n",
            "Try using .loc[row_indexer,col_indexer] = value instead\n",
            "\n",
            "See the caveats in the documentation: https://pandas.pydata.org/pandas-docs/stable/user_guide/indexing.html#returning-a-view-versus-a-copy\n",
            "  encode_df[col] = encoder.fit_transform(encode_df[col])\n",
            "<ipython-input-8-2f29263f5388>:18: SettingWithCopyWarning: \n",
            "A value is trying to be set on a copy of a slice from a DataFrame.\n",
            "Try using .loc[row_indexer,col_indexer] = value instead\n",
            "\n",
            "See the caveats in the documentation: https://pandas.pydata.org/pandas-docs/stable/user_guide/indexing.html#returning-a-view-versus-a-copy\n",
            "  encode_df[col] = encoder.fit_transform(encode_df[col])\n",
            "<ipython-input-8-2f29263f5388>:18: SettingWithCopyWarning: \n",
            "A value is trying to be set on a copy of a slice from a DataFrame.\n",
            "Try using .loc[row_indexer,col_indexer] = value instead\n",
            "\n",
            "See the caveats in the documentation: https://pandas.pydata.org/pandas-docs/stable/user_guide/indexing.html#returning-a-view-versus-a-copy\n",
            "  encode_df[col] = encoder.fit_transform(encode_df[col])\n"
          ]
        },
        {
          "output_type": "execute_result",
          "data": {
            "text/plain": [
              "         ssn            cc_num    zip  city_pop       dob      acct_num  \\\n",
              "0  367859826  4361337605230458  74834      7590  19870612  349734538563   \n",
              "1  367859826  4361337605230458  74834      7590  19870612  349734538563   \n",
              "2  367859826  4361337605230458  74834      7590  19870612  349734538563   \n",
              "3  367859826  4361337605230458  74834      7590  19870612  349734538563   \n",
              "4  367859826  4361337605230458  74834      7590  19870612  349734538563   \n",
              "\n",
              "    unix_time     amt  is_fraud  \n",
              "0  1627678801  337.54         1  \n",
              "1  1627837661   21.13         1  \n",
              "2  1627839129   22.61         1  \n",
              "3  1627837044   17.32         1  \n",
              "4  1638392331   75.82         0  "
            ],
            "text/html": [
              "\n",
              "  <div id=\"df-f103c912-9a71-4b71-be0d-a30109980635\" class=\"colab-df-container\">\n",
              "    <div>\n",
              "<style scoped>\n",
              "    .dataframe tbody tr th:only-of-type {\n",
              "        vertical-align: middle;\n",
              "    }\n",
              "\n",
              "    .dataframe tbody tr th {\n",
              "        vertical-align: top;\n",
              "    }\n",
              "\n",
              "    .dataframe thead th {\n",
              "        text-align: right;\n",
              "    }\n",
              "</style>\n",
              "<table border=\"1\" class=\"dataframe\">\n",
              "  <thead>\n",
              "    <tr style=\"text-align: right;\">\n",
              "      <th></th>\n",
              "      <th>ssn</th>\n",
              "      <th>cc_num</th>\n",
              "      <th>zip</th>\n",
              "      <th>city_pop</th>\n",
              "      <th>dob</th>\n",
              "      <th>acct_num</th>\n",
              "      <th>unix_time</th>\n",
              "      <th>amt</th>\n",
              "      <th>is_fraud</th>\n",
              "    </tr>\n",
              "  </thead>\n",
              "  <tbody>\n",
              "    <tr>\n",
              "      <th>0</th>\n",
              "      <td>367859826</td>\n",
              "      <td>4361337605230458</td>\n",
              "      <td>74834</td>\n",
              "      <td>7590</td>\n",
              "      <td>19870612</td>\n",
              "      <td>349734538563</td>\n",
              "      <td>1627678801</td>\n",
              "      <td>337.54</td>\n",
              "      <td>1</td>\n",
              "    </tr>\n",
              "    <tr>\n",
              "      <th>1</th>\n",
              "      <td>367859826</td>\n",
              "      <td>4361337605230458</td>\n",
              "      <td>74834</td>\n",
              "      <td>7590</td>\n",
              "      <td>19870612</td>\n",
              "      <td>349734538563</td>\n",
              "      <td>1627837661</td>\n",
              "      <td>21.13</td>\n",
              "      <td>1</td>\n",
              "    </tr>\n",
              "    <tr>\n",
              "      <th>2</th>\n",
              "      <td>367859826</td>\n",
              "      <td>4361337605230458</td>\n",
              "      <td>74834</td>\n",
              "      <td>7590</td>\n",
              "      <td>19870612</td>\n",
              "      <td>349734538563</td>\n",
              "      <td>1627839129</td>\n",
              "      <td>22.61</td>\n",
              "      <td>1</td>\n",
              "    </tr>\n",
              "    <tr>\n",
              "      <th>3</th>\n",
              "      <td>367859826</td>\n",
              "      <td>4361337605230458</td>\n",
              "      <td>74834</td>\n",
              "      <td>7590</td>\n",
              "      <td>19870612</td>\n",
              "      <td>349734538563</td>\n",
              "      <td>1627837044</td>\n",
              "      <td>17.32</td>\n",
              "      <td>1</td>\n",
              "    </tr>\n",
              "    <tr>\n",
              "      <th>4</th>\n",
              "      <td>367859826</td>\n",
              "      <td>4361337605230458</td>\n",
              "      <td>74834</td>\n",
              "      <td>7590</td>\n",
              "      <td>19870612</td>\n",
              "      <td>349734538563</td>\n",
              "      <td>1638392331</td>\n",
              "      <td>75.82</td>\n",
              "      <td>0</td>\n",
              "    </tr>\n",
              "  </tbody>\n",
              "</table>\n",
              "</div>\n",
              "    <div class=\"colab-df-buttons\">\n",
              "\n",
              "  <div class=\"colab-df-container\">\n",
              "    <button class=\"colab-df-convert\" onclick=\"convertToInteractive('df-f103c912-9a71-4b71-be0d-a30109980635')\"\n",
              "            title=\"Convert this dataframe to an interactive table.\"\n",
              "            style=\"display:none;\">\n",
              "\n",
              "  <svg xmlns=\"http://www.w3.org/2000/svg\" height=\"24px\" viewBox=\"0 -960 960 960\">\n",
              "    <path d=\"M120-120v-720h720v720H120Zm60-500h600v-160H180v160Zm220 220h160v-160H400v160Zm0 220h160v-160H400v160ZM180-400h160v-160H180v160Zm440 0h160v-160H620v160ZM180-180h160v-160H180v160Zm440 0h160v-160H620v160Z\"/>\n",
              "  </svg>\n",
              "    </button>\n",
              "\n",
              "  <style>\n",
              "    .colab-df-container {\n",
              "      display:flex;\n",
              "      gap: 12px;\n",
              "    }\n",
              "\n",
              "    .colab-df-convert {\n",
              "      background-color: #E8F0FE;\n",
              "      border: none;\n",
              "      border-radius: 50%;\n",
              "      cursor: pointer;\n",
              "      display: none;\n",
              "      fill: #1967D2;\n",
              "      height: 32px;\n",
              "      padding: 0 0 0 0;\n",
              "      width: 32px;\n",
              "    }\n",
              "\n",
              "    .colab-df-convert:hover {\n",
              "      background-color: #E2EBFA;\n",
              "      box-shadow: 0px 1px 2px rgba(60, 64, 67, 0.3), 0px 1px 3px 1px rgba(60, 64, 67, 0.15);\n",
              "      fill: #174EA6;\n",
              "    }\n",
              "\n",
              "    .colab-df-buttons div {\n",
              "      margin-bottom: 4px;\n",
              "    }\n",
              "\n",
              "    [theme=dark] .colab-df-convert {\n",
              "      background-color: #3B4455;\n",
              "      fill: #D2E3FC;\n",
              "    }\n",
              "\n",
              "    [theme=dark] .colab-df-convert:hover {\n",
              "      background-color: #434B5C;\n",
              "      box-shadow: 0px 1px 3px 1px rgba(0, 0, 0, 0.15);\n",
              "      filter: drop-shadow(0px 1px 2px rgba(0, 0, 0, 0.3));\n",
              "      fill: #FFFFFF;\n",
              "    }\n",
              "  </style>\n",
              "\n",
              "    <script>\n",
              "      const buttonEl =\n",
              "        document.querySelector('#df-f103c912-9a71-4b71-be0d-a30109980635 button.colab-df-convert');\n",
              "      buttonEl.style.display =\n",
              "        google.colab.kernel.accessAllowed ? 'block' : 'none';\n",
              "\n",
              "      async function convertToInteractive(key) {\n",
              "        const element = document.querySelector('#df-f103c912-9a71-4b71-be0d-a30109980635');\n",
              "        const dataTable =\n",
              "          await google.colab.kernel.invokeFunction('convertToInteractive',\n",
              "                                                    [key], {});\n",
              "        if (!dataTable) return;\n",
              "\n",
              "        const docLinkHtml = 'Like what you see? Visit the ' +\n",
              "          '<a target=\"_blank\" href=https://colab.research.google.com/notebooks/data_table.ipynb>data table notebook</a>'\n",
              "          + ' to learn more about interactive tables.';\n",
              "        element.innerHTML = '';\n",
              "        dataTable['output_type'] = 'display_data';\n",
              "        await google.colab.output.renderOutput(dataTable, element);\n",
              "        const docLink = document.createElement('div');\n",
              "        docLink.innerHTML = docLinkHtml;\n",
              "        element.appendChild(docLink);\n",
              "      }\n",
              "    </script>\n",
              "  </div>\n",
              "\n",
              "\n",
              "<div id=\"df-750ab104-3615-4004-9e67-050f9533aa4f\">\n",
              "  <button class=\"colab-df-quickchart\" onclick=\"quickchart('df-750ab104-3615-4004-9e67-050f9533aa4f')\"\n",
              "            title=\"Suggest charts\"\n",
              "            style=\"display:none;\">\n",
              "\n",
              "<svg xmlns=\"http://www.w3.org/2000/svg\" height=\"24px\"viewBox=\"0 0 24 24\"\n",
              "     width=\"24px\">\n",
              "    <g>\n",
              "        <path d=\"M19 3H5c-1.1 0-2 .9-2 2v14c0 1.1.9 2 2 2h14c1.1 0 2-.9 2-2V5c0-1.1-.9-2-2-2zM9 17H7v-7h2v7zm4 0h-2V7h2v10zm4 0h-2v-4h2v4z\"/>\n",
              "    </g>\n",
              "</svg>\n",
              "  </button>\n",
              "\n",
              "<style>\n",
              "  .colab-df-quickchart {\n",
              "      --bg-color: #E8F0FE;\n",
              "      --fill-color: #1967D2;\n",
              "      --hover-bg-color: #E2EBFA;\n",
              "      --hover-fill-color: #174EA6;\n",
              "      --disabled-fill-color: #AAA;\n",
              "      --disabled-bg-color: #DDD;\n",
              "  }\n",
              "\n",
              "  [theme=dark] .colab-df-quickchart {\n",
              "      --bg-color: #3B4455;\n",
              "      --fill-color: #D2E3FC;\n",
              "      --hover-bg-color: #434B5C;\n",
              "      --hover-fill-color: #FFFFFF;\n",
              "      --disabled-bg-color: #3B4455;\n",
              "      --disabled-fill-color: #666;\n",
              "  }\n",
              "\n",
              "  .colab-df-quickchart {\n",
              "    background-color: var(--bg-color);\n",
              "    border: none;\n",
              "    border-radius: 50%;\n",
              "    cursor: pointer;\n",
              "    display: none;\n",
              "    fill: var(--fill-color);\n",
              "    height: 32px;\n",
              "    padding: 0;\n",
              "    width: 32px;\n",
              "  }\n",
              "\n",
              "  .colab-df-quickchart:hover {\n",
              "    background-color: var(--hover-bg-color);\n",
              "    box-shadow: 0 1px 2px rgba(60, 64, 67, 0.3), 0 1px 3px 1px rgba(60, 64, 67, 0.15);\n",
              "    fill: var(--button-hover-fill-color);\n",
              "  }\n",
              "\n",
              "  .colab-df-quickchart-complete:disabled,\n",
              "  .colab-df-quickchart-complete:disabled:hover {\n",
              "    background-color: var(--disabled-bg-color);\n",
              "    fill: var(--disabled-fill-color);\n",
              "    box-shadow: none;\n",
              "  }\n",
              "\n",
              "  .colab-df-spinner {\n",
              "    border: 2px solid var(--fill-color);\n",
              "    border-color: transparent;\n",
              "    border-bottom-color: var(--fill-color);\n",
              "    animation:\n",
              "      spin 1s steps(1) infinite;\n",
              "  }\n",
              "\n",
              "  @keyframes spin {\n",
              "    0% {\n",
              "      border-color: transparent;\n",
              "      border-bottom-color: var(--fill-color);\n",
              "      border-left-color: var(--fill-color);\n",
              "    }\n",
              "    20% {\n",
              "      border-color: transparent;\n",
              "      border-left-color: var(--fill-color);\n",
              "      border-top-color: var(--fill-color);\n",
              "    }\n",
              "    30% {\n",
              "      border-color: transparent;\n",
              "      border-left-color: var(--fill-color);\n",
              "      border-top-color: var(--fill-color);\n",
              "      border-right-color: var(--fill-color);\n",
              "    }\n",
              "    40% {\n",
              "      border-color: transparent;\n",
              "      border-right-color: var(--fill-color);\n",
              "      border-top-color: var(--fill-color);\n",
              "    }\n",
              "    60% {\n",
              "      border-color: transparent;\n",
              "      border-right-color: var(--fill-color);\n",
              "    }\n",
              "    80% {\n",
              "      border-color: transparent;\n",
              "      border-right-color: var(--fill-color);\n",
              "      border-bottom-color: var(--fill-color);\n",
              "    }\n",
              "    90% {\n",
              "      border-color: transparent;\n",
              "      border-bottom-color: var(--fill-color);\n",
              "    }\n",
              "  }\n",
              "</style>\n",
              "\n",
              "  <script>\n",
              "    async function quickchart(key) {\n",
              "      const quickchartButtonEl =\n",
              "        document.querySelector('#' + key + ' button');\n",
              "      quickchartButtonEl.disabled = true;  // To prevent multiple clicks.\n",
              "      quickchartButtonEl.classList.add('colab-df-spinner');\n",
              "      try {\n",
              "        const charts = await google.colab.kernel.invokeFunction(\n",
              "            'suggestCharts', [key], {});\n",
              "      } catch (error) {\n",
              "        console.error('Error during call to suggestCharts:', error);\n",
              "      }\n",
              "      quickchartButtonEl.classList.remove('colab-df-spinner');\n",
              "      quickchartButtonEl.classList.add('colab-df-quickchart-complete');\n",
              "    }\n",
              "    (() => {\n",
              "      let quickchartButtonEl =\n",
              "        document.querySelector('#df-750ab104-3615-4004-9e67-050f9533aa4f button');\n",
              "      quickchartButtonEl.style.display =\n",
              "        google.colab.kernel.accessAllowed ? 'block' : 'none';\n",
              "    })();\n",
              "  </script>\n",
              "</div>\n",
              "\n",
              "    </div>\n",
              "  </div>\n"
            ],
            "application/vnd.google.colaboratory.intrinsic+json": {
              "type": "dataframe",
              "variable_name": "train_df"
            }
          },
          "metadata": {},
          "execution_count": 8
        }
      ]
    },
    {
      "cell_type": "code",
      "source": [
        "final_df = pd.concat([train_df, gender_encoded, encode_df], axis=1)\n",
        "final_df.head()"
      ],
      "metadata": {
        "colab": {
          "base_uri": "https://localhost:8080/",
          "height": 206
        },
        "id": "4-nFiyd2kIUv",
        "outputId": "006b2a90-22d2-4fc8-9ea2-e27f114fddb6"
      },
      "execution_count": 9,
      "outputs": [
        {
          "output_type": "execute_result",
          "data": {
            "text/plain": [
              "         ssn            cc_num    zip  city_pop       dob      acct_num  \\\n",
              "0  367859826  4361337605230458  74834      7590  19870612  349734538563   \n",
              "1  367859826  4361337605230458  74834      7590  19870612  349734538563   \n",
              "2  367859826  4361337605230458  74834      7590  19870612  349734538563   \n",
              "3  367859826  4361337605230458  74834      7590  19870612  349734538563   \n",
              "4  367859826  4361337605230458  74834      7590  19870612  349734538563   \n",
              "\n",
              "    unix_time     amt  is_fraud  gender_F  gender_M  job  category  merchant  \\\n",
              "0  1627678801  337.54         1       1.0       0.0   72         4       317   \n",
              "1  1627837661   21.13         1       1.0       0.0   72        10        67   \n",
              "2  1627839129   22.61         1       1.0       0.0   72        10       320   \n",
              "3  1627837044   17.32         1       1.0       0.0   72         5       238   \n",
              "4  1638392331   75.82         0       1.0       0.0   72         9       283   \n",
              "\n",
              "   location  \n",
              "0       116  \n",
              "1       116  \n",
              "2       116  \n",
              "3       116  \n",
              "4       116  "
            ],
            "text/html": [
              "\n",
              "  <div id=\"df-42a7b6fa-b4c2-4cdb-bd8f-01281da40ead\" class=\"colab-df-container\">\n",
              "    <div>\n",
              "<style scoped>\n",
              "    .dataframe tbody tr th:only-of-type {\n",
              "        vertical-align: middle;\n",
              "    }\n",
              "\n",
              "    .dataframe tbody tr th {\n",
              "        vertical-align: top;\n",
              "    }\n",
              "\n",
              "    .dataframe thead th {\n",
              "        text-align: right;\n",
              "    }\n",
              "</style>\n",
              "<table border=\"1\" class=\"dataframe\">\n",
              "  <thead>\n",
              "    <tr style=\"text-align: right;\">\n",
              "      <th></th>\n",
              "      <th>ssn</th>\n",
              "      <th>cc_num</th>\n",
              "      <th>zip</th>\n",
              "      <th>city_pop</th>\n",
              "      <th>dob</th>\n",
              "      <th>acct_num</th>\n",
              "      <th>unix_time</th>\n",
              "      <th>amt</th>\n",
              "      <th>is_fraud</th>\n",
              "      <th>gender_F</th>\n",
              "      <th>gender_M</th>\n",
              "      <th>job</th>\n",
              "      <th>category</th>\n",
              "      <th>merchant</th>\n",
              "      <th>location</th>\n",
              "    </tr>\n",
              "  </thead>\n",
              "  <tbody>\n",
              "    <tr>\n",
              "      <th>0</th>\n",
              "      <td>367859826</td>\n",
              "      <td>4361337605230458</td>\n",
              "      <td>74834</td>\n",
              "      <td>7590</td>\n",
              "      <td>19870612</td>\n",
              "      <td>349734538563</td>\n",
              "      <td>1627678801</td>\n",
              "      <td>337.54</td>\n",
              "      <td>1</td>\n",
              "      <td>1.0</td>\n",
              "      <td>0.0</td>\n",
              "      <td>72</td>\n",
              "      <td>4</td>\n",
              "      <td>317</td>\n",
              "      <td>116</td>\n",
              "    </tr>\n",
              "    <tr>\n",
              "      <th>1</th>\n",
              "      <td>367859826</td>\n",
              "      <td>4361337605230458</td>\n",
              "      <td>74834</td>\n",
              "      <td>7590</td>\n",
              "      <td>19870612</td>\n",
              "      <td>349734538563</td>\n",
              "      <td>1627837661</td>\n",
              "      <td>21.13</td>\n",
              "      <td>1</td>\n",
              "      <td>1.0</td>\n",
              "      <td>0.0</td>\n",
              "      <td>72</td>\n",
              "      <td>10</td>\n",
              "      <td>67</td>\n",
              "      <td>116</td>\n",
              "    </tr>\n",
              "    <tr>\n",
              "      <th>2</th>\n",
              "      <td>367859826</td>\n",
              "      <td>4361337605230458</td>\n",
              "      <td>74834</td>\n",
              "      <td>7590</td>\n",
              "      <td>19870612</td>\n",
              "      <td>349734538563</td>\n",
              "      <td>1627839129</td>\n",
              "      <td>22.61</td>\n",
              "      <td>1</td>\n",
              "      <td>1.0</td>\n",
              "      <td>0.0</td>\n",
              "      <td>72</td>\n",
              "      <td>10</td>\n",
              "      <td>320</td>\n",
              "      <td>116</td>\n",
              "    </tr>\n",
              "    <tr>\n",
              "      <th>3</th>\n",
              "      <td>367859826</td>\n",
              "      <td>4361337605230458</td>\n",
              "      <td>74834</td>\n",
              "      <td>7590</td>\n",
              "      <td>19870612</td>\n",
              "      <td>349734538563</td>\n",
              "      <td>1627837044</td>\n",
              "      <td>17.32</td>\n",
              "      <td>1</td>\n",
              "      <td>1.0</td>\n",
              "      <td>0.0</td>\n",
              "      <td>72</td>\n",
              "      <td>5</td>\n",
              "      <td>238</td>\n",
              "      <td>116</td>\n",
              "    </tr>\n",
              "    <tr>\n",
              "      <th>4</th>\n",
              "      <td>367859826</td>\n",
              "      <td>4361337605230458</td>\n",
              "      <td>74834</td>\n",
              "      <td>7590</td>\n",
              "      <td>19870612</td>\n",
              "      <td>349734538563</td>\n",
              "      <td>1638392331</td>\n",
              "      <td>75.82</td>\n",
              "      <td>0</td>\n",
              "      <td>1.0</td>\n",
              "      <td>0.0</td>\n",
              "      <td>72</td>\n",
              "      <td>9</td>\n",
              "      <td>283</td>\n",
              "      <td>116</td>\n",
              "    </tr>\n",
              "  </tbody>\n",
              "</table>\n",
              "</div>\n",
              "    <div class=\"colab-df-buttons\">\n",
              "\n",
              "  <div class=\"colab-df-container\">\n",
              "    <button class=\"colab-df-convert\" onclick=\"convertToInteractive('df-42a7b6fa-b4c2-4cdb-bd8f-01281da40ead')\"\n",
              "            title=\"Convert this dataframe to an interactive table.\"\n",
              "            style=\"display:none;\">\n",
              "\n",
              "  <svg xmlns=\"http://www.w3.org/2000/svg\" height=\"24px\" viewBox=\"0 -960 960 960\">\n",
              "    <path d=\"M120-120v-720h720v720H120Zm60-500h600v-160H180v160Zm220 220h160v-160H400v160Zm0 220h160v-160H400v160ZM180-400h160v-160H180v160Zm440 0h160v-160H620v160ZM180-180h160v-160H180v160Zm440 0h160v-160H620v160Z\"/>\n",
              "  </svg>\n",
              "    </button>\n",
              "\n",
              "  <style>\n",
              "    .colab-df-container {\n",
              "      display:flex;\n",
              "      gap: 12px;\n",
              "    }\n",
              "\n",
              "    .colab-df-convert {\n",
              "      background-color: #E8F0FE;\n",
              "      border: none;\n",
              "      border-radius: 50%;\n",
              "      cursor: pointer;\n",
              "      display: none;\n",
              "      fill: #1967D2;\n",
              "      height: 32px;\n",
              "      padding: 0 0 0 0;\n",
              "      width: 32px;\n",
              "    }\n",
              "\n",
              "    .colab-df-convert:hover {\n",
              "      background-color: #E2EBFA;\n",
              "      box-shadow: 0px 1px 2px rgba(60, 64, 67, 0.3), 0px 1px 3px 1px rgba(60, 64, 67, 0.15);\n",
              "      fill: #174EA6;\n",
              "    }\n",
              "\n",
              "    .colab-df-buttons div {\n",
              "      margin-bottom: 4px;\n",
              "    }\n",
              "\n",
              "    [theme=dark] .colab-df-convert {\n",
              "      background-color: #3B4455;\n",
              "      fill: #D2E3FC;\n",
              "    }\n",
              "\n",
              "    [theme=dark] .colab-df-convert:hover {\n",
              "      background-color: #434B5C;\n",
              "      box-shadow: 0px 1px 3px 1px rgba(0, 0, 0, 0.15);\n",
              "      filter: drop-shadow(0px 1px 2px rgba(0, 0, 0, 0.3));\n",
              "      fill: #FFFFFF;\n",
              "    }\n",
              "  </style>\n",
              "\n",
              "    <script>\n",
              "      const buttonEl =\n",
              "        document.querySelector('#df-42a7b6fa-b4c2-4cdb-bd8f-01281da40ead button.colab-df-convert');\n",
              "      buttonEl.style.display =\n",
              "        google.colab.kernel.accessAllowed ? 'block' : 'none';\n",
              "\n",
              "      async function convertToInteractive(key) {\n",
              "        const element = document.querySelector('#df-42a7b6fa-b4c2-4cdb-bd8f-01281da40ead');\n",
              "        const dataTable =\n",
              "          await google.colab.kernel.invokeFunction('convertToInteractive',\n",
              "                                                    [key], {});\n",
              "        if (!dataTable) return;\n",
              "\n",
              "        const docLinkHtml = 'Like what you see? Visit the ' +\n",
              "          '<a target=\"_blank\" href=https://colab.research.google.com/notebooks/data_table.ipynb>data table notebook</a>'\n",
              "          + ' to learn more about interactive tables.';\n",
              "        element.innerHTML = '';\n",
              "        dataTable['output_type'] = 'display_data';\n",
              "        await google.colab.output.renderOutput(dataTable, element);\n",
              "        const docLink = document.createElement('div');\n",
              "        docLink.innerHTML = docLinkHtml;\n",
              "        element.appendChild(docLink);\n",
              "      }\n",
              "    </script>\n",
              "  </div>\n",
              "\n",
              "\n",
              "<div id=\"df-0a9891f0-9af5-4713-96c9-1a9c226d5104\">\n",
              "  <button class=\"colab-df-quickchart\" onclick=\"quickchart('df-0a9891f0-9af5-4713-96c9-1a9c226d5104')\"\n",
              "            title=\"Suggest charts\"\n",
              "            style=\"display:none;\">\n",
              "\n",
              "<svg xmlns=\"http://www.w3.org/2000/svg\" height=\"24px\"viewBox=\"0 0 24 24\"\n",
              "     width=\"24px\">\n",
              "    <g>\n",
              "        <path d=\"M19 3H5c-1.1 0-2 .9-2 2v14c0 1.1.9 2 2 2h14c1.1 0 2-.9 2-2V5c0-1.1-.9-2-2-2zM9 17H7v-7h2v7zm4 0h-2V7h2v10zm4 0h-2v-4h2v4z\"/>\n",
              "    </g>\n",
              "</svg>\n",
              "  </button>\n",
              "\n",
              "<style>\n",
              "  .colab-df-quickchart {\n",
              "      --bg-color: #E8F0FE;\n",
              "      --fill-color: #1967D2;\n",
              "      --hover-bg-color: #E2EBFA;\n",
              "      --hover-fill-color: #174EA6;\n",
              "      --disabled-fill-color: #AAA;\n",
              "      --disabled-bg-color: #DDD;\n",
              "  }\n",
              "\n",
              "  [theme=dark] .colab-df-quickchart {\n",
              "      --bg-color: #3B4455;\n",
              "      --fill-color: #D2E3FC;\n",
              "      --hover-bg-color: #434B5C;\n",
              "      --hover-fill-color: #FFFFFF;\n",
              "      --disabled-bg-color: #3B4455;\n",
              "      --disabled-fill-color: #666;\n",
              "  }\n",
              "\n",
              "  .colab-df-quickchart {\n",
              "    background-color: var(--bg-color);\n",
              "    border: none;\n",
              "    border-radius: 50%;\n",
              "    cursor: pointer;\n",
              "    display: none;\n",
              "    fill: var(--fill-color);\n",
              "    height: 32px;\n",
              "    padding: 0;\n",
              "    width: 32px;\n",
              "  }\n",
              "\n",
              "  .colab-df-quickchart:hover {\n",
              "    background-color: var(--hover-bg-color);\n",
              "    box-shadow: 0 1px 2px rgba(60, 64, 67, 0.3), 0 1px 3px 1px rgba(60, 64, 67, 0.15);\n",
              "    fill: var(--button-hover-fill-color);\n",
              "  }\n",
              "\n",
              "  .colab-df-quickchart-complete:disabled,\n",
              "  .colab-df-quickchart-complete:disabled:hover {\n",
              "    background-color: var(--disabled-bg-color);\n",
              "    fill: var(--disabled-fill-color);\n",
              "    box-shadow: none;\n",
              "  }\n",
              "\n",
              "  .colab-df-spinner {\n",
              "    border: 2px solid var(--fill-color);\n",
              "    border-color: transparent;\n",
              "    border-bottom-color: var(--fill-color);\n",
              "    animation:\n",
              "      spin 1s steps(1) infinite;\n",
              "  }\n",
              "\n",
              "  @keyframes spin {\n",
              "    0% {\n",
              "      border-color: transparent;\n",
              "      border-bottom-color: var(--fill-color);\n",
              "      border-left-color: var(--fill-color);\n",
              "    }\n",
              "    20% {\n",
              "      border-color: transparent;\n",
              "      border-left-color: var(--fill-color);\n",
              "      border-top-color: var(--fill-color);\n",
              "    }\n",
              "    30% {\n",
              "      border-color: transparent;\n",
              "      border-left-color: var(--fill-color);\n",
              "      border-top-color: var(--fill-color);\n",
              "      border-right-color: var(--fill-color);\n",
              "    }\n",
              "    40% {\n",
              "      border-color: transparent;\n",
              "      border-right-color: var(--fill-color);\n",
              "      border-top-color: var(--fill-color);\n",
              "    }\n",
              "    60% {\n",
              "      border-color: transparent;\n",
              "      border-right-color: var(--fill-color);\n",
              "    }\n",
              "    80% {\n",
              "      border-color: transparent;\n",
              "      border-right-color: var(--fill-color);\n",
              "      border-bottom-color: var(--fill-color);\n",
              "    }\n",
              "    90% {\n",
              "      border-color: transparent;\n",
              "      border-bottom-color: var(--fill-color);\n",
              "    }\n",
              "  }\n",
              "</style>\n",
              "\n",
              "  <script>\n",
              "    async function quickchart(key) {\n",
              "      const quickchartButtonEl =\n",
              "        document.querySelector('#' + key + ' button');\n",
              "      quickchartButtonEl.disabled = true;  // To prevent multiple clicks.\n",
              "      quickchartButtonEl.classList.add('colab-df-spinner');\n",
              "      try {\n",
              "        const charts = await google.colab.kernel.invokeFunction(\n",
              "            'suggestCharts', [key], {});\n",
              "      } catch (error) {\n",
              "        console.error('Error during call to suggestCharts:', error);\n",
              "      }\n",
              "      quickchartButtonEl.classList.remove('colab-df-spinner');\n",
              "      quickchartButtonEl.classList.add('colab-df-quickchart-complete');\n",
              "    }\n",
              "    (() => {\n",
              "      let quickchartButtonEl =\n",
              "        document.querySelector('#df-0a9891f0-9af5-4713-96c9-1a9c226d5104 button');\n",
              "      quickchartButtonEl.style.display =\n",
              "        google.colab.kernel.accessAllowed ? 'block' : 'none';\n",
              "    })();\n",
              "  </script>\n",
              "</div>\n",
              "\n",
              "    </div>\n",
              "  </div>\n"
            ],
            "application/vnd.google.colaboratory.intrinsic+json": {
              "type": "dataframe",
              "variable_name": "final_df"
            }
          },
          "metadata": {},
          "execution_count": 9
        }
      ]
    },
    {
      "cell_type": "code",
      "source": [
        "train_df, test_df = train_test_split(final_df, test_size=0.2, random_state=42)\n",
        "train_df, val_df = train_test_split(train_df, test_size=0.2, random_state=42)\n",
        "\n",
        "train_labels = np.array(train_df.pop('is_fraud')).reshape(-1,1)\n",
        "val_labels = np.array(val_df.pop('is_fraud')).reshape(-1,1)\n",
        "test_labels = np.array(test_df.pop('is_fraud')).reshape(-1,1)\n",
        "\n",
        "train_features = np.array(train_df)\n",
        "val_features = np.array(val_df)\n",
        "test_features = np.array(test_df)\n",
        "\n",
        "print(train_labels.shape, val_labels.shape, test_labels.shape)\n",
        "\n",
        "print(f'Average class probability in train set: {train_labels.mean():.3f}')\n",
        "print(f'Average class probability in val set: {val_labels.mean():.3f}')\n",
        "print(f'Average class probability in test set: {test_labels.mean():.3f}')"
      ],
      "metadata": {
        "colab": {
          "base_uri": "https://localhost:8080/"
        },
        "id": "Bq6404gJMN3A",
        "outputId": "0bae2001-8769-4eeb-d9a6-2660ca336378"
      },
      "execution_count": 10,
      "outputs": [
        {
          "output_type": "stream",
          "name": "stdout",
          "text": [
            "(1693884, 1) (423471, 1) (529339, 1)\n",
            "Average class probability in train set: 0.004\n",
            "Average class probability in val set: 0.004\n",
            "Average class probability in test set: 0.004\n"
          ]
        }
      ]
    },
    {
      "cell_type": "code",
      "source": [
        "scaler = StandardScaler()\n",
        "train_features = scaler.fit_transform(train_features)\n",
        "\n",
        "val_features = scaler.transform(val_features)\n",
        "test_features = scaler.transform(test_features)\n",
        "\n",
        "train_features = np.clip(train_features, -5, 5)\n",
        "val_features = np.clip(val_features, -5, 5)\n",
        "test_features = np.clip(test_features, -5, 5)\n",
        "\n",
        "\n",
        "print('Training labels shape:', train_labels.shape)\n",
        "print('Validation labels shape:', val_labels.shape)\n",
        "print('Test labels shape:', test_labels.shape)\n",
        "\n",
        "print('Training features shape:', train_features.shape)\n",
        "print('Validation features shape:', val_features.shape)\n",
        "print('Test features shape:', test_features.shape)"
      ],
      "metadata": {
        "colab": {
          "base_uri": "https://localhost:8080/"
        },
        "id": "kbOyvp0BSn6t",
        "outputId": "bf444c2c-ac31-4528-875b-63310c62b2c6"
      },
      "execution_count": 11,
      "outputs": [
        {
          "output_type": "stream",
          "name": "stdout",
          "text": [
            "Training labels shape: (1693884, 1)\n",
            "Validation labels shape: (423471, 1)\n",
            "Test labels shape: (529339, 1)\n",
            "Training features shape: (1693884, 14)\n",
            "Validation features shape: (423471, 14)\n",
            "Test features shape: (529339, 14)\n"
          ]
        }
      ]
    },
    {
      "cell_type": "markdown",
      "source": [
        "## Define model"
      ],
      "metadata": {
        "id": "VqP54D69cKYo"
      }
    },
    {
      "cell_type": "code",
      "source": [
        "METRICS = [\n",
        "\n",
        "      keras.metrics.BinaryCrossentropy(name='cross entropy'),  # same as model's loss\n",
        "      keras.metrics.MeanSquaredError(name='Brier score'),\n",
        "      keras.metrics.TruePositives(name='tp'),\n",
        "      keras.metrics.FalsePositives(name='fp'),\n",
        "      keras.metrics.TrueNegatives(name='tn'),\n",
        "      keras.metrics.FalseNegatives(name='fn'),\n",
        "      keras.metrics.BinaryAccuracy(name='accuracy'),\n",
        "      keras.metrics.Precision(name='precision'),\n",
        "      keras.metrics.Recall(name='recall'),\n",
        "      keras.metrics.AUC(name='auc'),\n",
        "      keras.metrics.AUC(name='prc', curve='PR'), # precision-recall curve\n",
        "]\n",
        "\n",
        "def make_model(metrics=METRICS, output_bias=None):\n",
        "  if output_bias is not None:\n",
        "    output_bias = tf.keras.initializers.Constant(output_bias)\n",
        "  model = keras.Sequential([\n",
        "      keras.layers.Dense(128, activation='relu', input_shape=(train_features.shape[-1],)),\n",
        "      keras.layers.Dropout(0.5),\n",
        "      keras.layers.Dense(64, activation='relu'),\n",
        "      keras.layers.Dropout(0.5),\n",
        "      keras.layers.Dense(32, activation='relu'),\n",
        "      keras.layers.Dropout(0.5),\n",
        "      keras.layers.Dense(16, activation='relu'),\n",
        "      keras.layers.Dropout(0.5),\n",
        "      keras.layers.Dense(8, activation='relu'),\n",
        "      keras.layers.Dense(1, activation='sigmoid',\n",
        "                         bias_initializer=output_bias),\n",
        "  ])\n",
        "\n",
        "  model.compile(\n",
        "      optimizer=keras.optimizers.Adam(learning_rate=1e-3),\n",
        "      loss=keras.losses.BinaryCrossentropy(),\n",
        "      metrics=METRICS)\n",
        "\n",
        "  return model"
      ],
      "metadata": {
        "id": "eQHpc26hib75"
      },
      "execution_count": 12,
      "outputs": []
    },
    {
      "cell_type": "markdown",
      "source": [
        "## Baseline Model"
      ],
      "metadata": {
        "id": "vStwHS2BcSFN"
      }
    },
    {
      "cell_type": "markdown",
      "source": [
        "Early Stopping"
      ],
      "metadata": {
        "id": "JajlhlAm2Pil"
      }
    },
    {
      "cell_type": "code",
      "source": [
        "EPOCHS = 100\n",
        "BATCH_SIZE = 2048\n",
        "\n",
        "def early_stopping():\n",
        " return tf.keras.callbacks.EarlyStopping(\n",
        "    monitor='val_recall',\n",
        "    verbose=1,\n",
        "    patience=15,\n",
        "    mode='max',\n",
        "    restore_best_weights=True)"
      ],
      "metadata": {
        "id": "SqQgifH0cGea"
      },
      "execution_count": 13,
      "outputs": []
    },
    {
      "cell_type": "code",
      "source": [
        "model = make_model()\n",
        "model.summary()"
      ],
      "metadata": {
        "colab": {
          "base_uri": "https://localhost:8080/",
          "height": 505
        },
        "id": "U7ZGRJUKcdUn",
        "outputId": "fbaf1933-fe42-4a26-8767-a686ad4b5ea0"
      },
      "execution_count": 14,
      "outputs": [
        {
          "output_type": "stream",
          "name": "stderr",
          "text": [
            "/usr/local/lib/python3.11/dist-packages/keras/src/layers/core/dense.py:87: UserWarning: Do not pass an `input_shape`/`input_dim` argument to a layer. When using Sequential models, prefer using an `Input(shape)` object as the first layer in the model instead.\n",
            "  super().__init__(activity_regularizer=activity_regularizer, **kwargs)\n"
          ]
        },
        {
          "output_type": "display_data",
          "data": {
            "text/plain": [
              "\u001b[1mModel: \"sequential\"\u001b[0m\n"
            ],
            "text/html": [
              "<pre style=\"white-space:pre;overflow-x:auto;line-height:normal;font-family:Menlo,'DejaVu Sans Mono',consolas,'Courier New',monospace\"><span style=\"font-weight: bold\">Model: \"sequential\"</span>\n",
              "</pre>\n"
            ]
          },
          "metadata": {}
        },
        {
          "output_type": "display_data",
          "data": {
            "text/plain": [
              "┏━━━━━━━━━━━━━━━━━━━━━━━━━━━━━━━━━━━━━━┳━━━━━━━━━━━━━━━━━━━━━━━━━━━━━┳━━━━━━━━━━━━━━━━━┓\n",
              "┃\u001b[1m \u001b[0m\u001b[1mLayer (type)                        \u001b[0m\u001b[1m \u001b[0m┃\u001b[1m \u001b[0m\u001b[1mOutput Shape               \u001b[0m\u001b[1m \u001b[0m┃\u001b[1m \u001b[0m\u001b[1m        Param #\u001b[0m\u001b[1m \u001b[0m┃\n",
              "┡━━━━━━━━━━━━━━━━━━━━━━━━━━━━━━━━━━━━━━╇━━━━━━━━━━━━━━━━━━━━━━━━━━━━━╇━━━━━━━━━━━━━━━━━┩\n",
              "│ dense (\u001b[38;5;33mDense\u001b[0m)                        │ (\u001b[38;5;45mNone\u001b[0m, \u001b[38;5;34m128\u001b[0m)                 │           \u001b[38;5;34m1,920\u001b[0m │\n",
              "├──────────────────────────────────────┼─────────────────────────────┼─────────────────┤\n",
              "│ dropout (\u001b[38;5;33mDropout\u001b[0m)                    │ (\u001b[38;5;45mNone\u001b[0m, \u001b[38;5;34m128\u001b[0m)                 │               \u001b[38;5;34m0\u001b[0m │\n",
              "├──────────────────────────────────────┼─────────────────────────────┼─────────────────┤\n",
              "│ dense_1 (\u001b[38;5;33mDense\u001b[0m)                      │ (\u001b[38;5;45mNone\u001b[0m, \u001b[38;5;34m64\u001b[0m)                  │           \u001b[38;5;34m8,256\u001b[0m │\n",
              "├──────────────────────────────────────┼─────────────────────────────┼─────────────────┤\n",
              "│ dropout_1 (\u001b[38;5;33mDropout\u001b[0m)                  │ (\u001b[38;5;45mNone\u001b[0m, \u001b[38;5;34m64\u001b[0m)                  │               \u001b[38;5;34m0\u001b[0m │\n",
              "├──────────────────────────────────────┼─────────────────────────────┼─────────────────┤\n",
              "│ dense_2 (\u001b[38;5;33mDense\u001b[0m)                      │ (\u001b[38;5;45mNone\u001b[0m, \u001b[38;5;34m32\u001b[0m)                  │           \u001b[38;5;34m2,080\u001b[0m │\n",
              "├──────────────────────────────────────┼─────────────────────────────┼─────────────────┤\n",
              "│ dropout_2 (\u001b[38;5;33mDropout\u001b[0m)                  │ (\u001b[38;5;45mNone\u001b[0m, \u001b[38;5;34m32\u001b[0m)                  │               \u001b[38;5;34m0\u001b[0m │\n",
              "├──────────────────────────────────────┼─────────────────────────────┼─────────────────┤\n",
              "│ dense_3 (\u001b[38;5;33mDense\u001b[0m)                      │ (\u001b[38;5;45mNone\u001b[0m, \u001b[38;5;34m16\u001b[0m)                  │             \u001b[38;5;34m528\u001b[0m │\n",
              "├──────────────────────────────────────┼─────────────────────────────┼─────────────────┤\n",
              "│ dropout_3 (\u001b[38;5;33mDropout\u001b[0m)                  │ (\u001b[38;5;45mNone\u001b[0m, \u001b[38;5;34m16\u001b[0m)                  │               \u001b[38;5;34m0\u001b[0m │\n",
              "├──────────────────────────────────────┼─────────────────────────────┼─────────────────┤\n",
              "│ dense_4 (\u001b[38;5;33mDense\u001b[0m)                      │ (\u001b[38;5;45mNone\u001b[0m, \u001b[38;5;34m8\u001b[0m)                   │             \u001b[38;5;34m136\u001b[0m │\n",
              "├──────────────────────────────────────┼─────────────────────────────┼─────────────────┤\n",
              "│ dense_5 (\u001b[38;5;33mDense\u001b[0m)                      │ (\u001b[38;5;45mNone\u001b[0m, \u001b[38;5;34m1\u001b[0m)                   │               \u001b[38;5;34m9\u001b[0m │\n",
              "└──────────────────────────────────────┴─────────────────────────────┴─────────────────┘\n"
            ],
            "text/html": [
              "<pre style=\"white-space:pre;overflow-x:auto;line-height:normal;font-family:Menlo,'DejaVu Sans Mono',consolas,'Courier New',monospace\">┏━━━━━━━━━━━━━━━━━━━━━━━━━━━━━━━━━━━━━━┳━━━━━━━━━━━━━━━━━━━━━━━━━━━━━┳━━━━━━━━━━━━━━━━━┓\n",
              "┃<span style=\"font-weight: bold\"> Layer (type)                         </span>┃<span style=\"font-weight: bold\"> Output Shape                </span>┃<span style=\"font-weight: bold\">         Param # </span>┃\n",
              "┡━━━━━━━━━━━━━━━━━━━━━━━━━━━━━━━━━━━━━━╇━━━━━━━━━━━━━━━━━━━━━━━━━━━━━╇━━━━━━━━━━━━━━━━━┩\n",
              "│ dense (<span style=\"color: #0087ff; text-decoration-color: #0087ff\">Dense</span>)                        │ (<span style=\"color: #00d7ff; text-decoration-color: #00d7ff\">None</span>, <span style=\"color: #00af00; text-decoration-color: #00af00\">128</span>)                 │           <span style=\"color: #00af00; text-decoration-color: #00af00\">1,920</span> │\n",
              "├──────────────────────────────────────┼─────────────────────────────┼─────────────────┤\n",
              "│ dropout (<span style=\"color: #0087ff; text-decoration-color: #0087ff\">Dropout</span>)                    │ (<span style=\"color: #00d7ff; text-decoration-color: #00d7ff\">None</span>, <span style=\"color: #00af00; text-decoration-color: #00af00\">128</span>)                 │               <span style=\"color: #00af00; text-decoration-color: #00af00\">0</span> │\n",
              "├──────────────────────────────────────┼─────────────────────────────┼─────────────────┤\n",
              "│ dense_1 (<span style=\"color: #0087ff; text-decoration-color: #0087ff\">Dense</span>)                      │ (<span style=\"color: #00d7ff; text-decoration-color: #00d7ff\">None</span>, <span style=\"color: #00af00; text-decoration-color: #00af00\">64</span>)                  │           <span style=\"color: #00af00; text-decoration-color: #00af00\">8,256</span> │\n",
              "├──────────────────────────────────────┼─────────────────────────────┼─────────────────┤\n",
              "│ dropout_1 (<span style=\"color: #0087ff; text-decoration-color: #0087ff\">Dropout</span>)                  │ (<span style=\"color: #00d7ff; text-decoration-color: #00d7ff\">None</span>, <span style=\"color: #00af00; text-decoration-color: #00af00\">64</span>)                  │               <span style=\"color: #00af00; text-decoration-color: #00af00\">0</span> │\n",
              "├──────────────────────────────────────┼─────────────────────────────┼─────────────────┤\n",
              "│ dense_2 (<span style=\"color: #0087ff; text-decoration-color: #0087ff\">Dense</span>)                      │ (<span style=\"color: #00d7ff; text-decoration-color: #00d7ff\">None</span>, <span style=\"color: #00af00; text-decoration-color: #00af00\">32</span>)                  │           <span style=\"color: #00af00; text-decoration-color: #00af00\">2,080</span> │\n",
              "├──────────────────────────────────────┼─────────────────────────────┼─────────────────┤\n",
              "│ dropout_2 (<span style=\"color: #0087ff; text-decoration-color: #0087ff\">Dropout</span>)                  │ (<span style=\"color: #00d7ff; text-decoration-color: #00d7ff\">None</span>, <span style=\"color: #00af00; text-decoration-color: #00af00\">32</span>)                  │               <span style=\"color: #00af00; text-decoration-color: #00af00\">0</span> │\n",
              "├──────────────────────────────────────┼─────────────────────────────┼─────────────────┤\n",
              "│ dense_3 (<span style=\"color: #0087ff; text-decoration-color: #0087ff\">Dense</span>)                      │ (<span style=\"color: #00d7ff; text-decoration-color: #00d7ff\">None</span>, <span style=\"color: #00af00; text-decoration-color: #00af00\">16</span>)                  │             <span style=\"color: #00af00; text-decoration-color: #00af00\">528</span> │\n",
              "├──────────────────────────────────────┼─────────────────────────────┼─────────────────┤\n",
              "│ dropout_3 (<span style=\"color: #0087ff; text-decoration-color: #0087ff\">Dropout</span>)                  │ (<span style=\"color: #00d7ff; text-decoration-color: #00d7ff\">None</span>, <span style=\"color: #00af00; text-decoration-color: #00af00\">16</span>)                  │               <span style=\"color: #00af00; text-decoration-color: #00af00\">0</span> │\n",
              "├──────────────────────────────────────┼─────────────────────────────┼─────────────────┤\n",
              "│ dense_4 (<span style=\"color: #0087ff; text-decoration-color: #0087ff\">Dense</span>)                      │ (<span style=\"color: #00d7ff; text-decoration-color: #00d7ff\">None</span>, <span style=\"color: #00af00; text-decoration-color: #00af00\">8</span>)                   │             <span style=\"color: #00af00; text-decoration-color: #00af00\">136</span> │\n",
              "├──────────────────────────────────────┼─────────────────────────────┼─────────────────┤\n",
              "│ dense_5 (<span style=\"color: #0087ff; text-decoration-color: #0087ff\">Dense</span>)                      │ (<span style=\"color: #00d7ff; text-decoration-color: #00d7ff\">None</span>, <span style=\"color: #00af00; text-decoration-color: #00af00\">1</span>)                   │               <span style=\"color: #00af00; text-decoration-color: #00af00\">9</span> │\n",
              "└──────────────────────────────────────┴─────────────────────────────┴─────────────────┘\n",
              "</pre>\n"
            ]
          },
          "metadata": {}
        },
        {
          "output_type": "display_data",
          "data": {
            "text/plain": [
              "\u001b[1m Total params: \u001b[0m\u001b[38;5;34m12,929\u001b[0m (50.50 KB)\n"
            ],
            "text/html": [
              "<pre style=\"white-space:pre;overflow-x:auto;line-height:normal;font-family:Menlo,'DejaVu Sans Mono',consolas,'Courier New',monospace\"><span style=\"font-weight: bold\"> Total params: </span><span style=\"color: #00af00; text-decoration-color: #00af00\">12,929</span> (50.50 KB)\n",
              "</pre>\n"
            ]
          },
          "metadata": {}
        },
        {
          "output_type": "display_data",
          "data": {
            "text/plain": [
              "\u001b[1m Trainable params: \u001b[0m\u001b[38;5;34m12,929\u001b[0m (50.50 KB)\n"
            ],
            "text/html": [
              "<pre style=\"white-space:pre;overflow-x:auto;line-height:normal;font-family:Menlo,'DejaVu Sans Mono',consolas,'Courier New',monospace\"><span style=\"font-weight: bold\"> Trainable params: </span><span style=\"color: #00af00; text-decoration-color: #00af00\">12,929</span> (50.50 KB)\n",
              "</pre>\n"
            ]
          },
          "metadata": {}
        },
        {
          "output_type": "display_data",
          "data": {
            "text/plain": [
              "\u001b[1m Non-trainable params: \u001b[0m\u001b[38;5;34m0\u001b[0m (0.00 B)\n"
            ],
            "text/html": [
              "<pre style=\"white-space:pre;overflow-x:auto;line-height:normal;font-family:Menlo,'DejaVu Sans Mono',consolas,'Courier New',monospace\"><span style=\"font-weight: bold\"> Non-trainable params: </span><span style=\"color: #00af00; text-decoration-color: #00af00\">0</span> (0.00 B)\n",
              "</pre>\n"
            ]
          },
          "metadata": {}
        }
      ]
    },
    {
      "cell_type": "markdown",
      "source": [
        "Test run baseline model"
      ],
      "metadata": {
        "id": "f9BCJMY1dWS6"
      }
    },
    {
      "cell_type": "code",
      "source": [
        "model.predict(train_features[:10])"
      ],
      "metadata": {
        "colab": {
          "base_uri": "https://localhost:8080/"
        },
        "id": "nWA2V3mYdSzt",
        "outputId": "93f40c67-f555-4370-baac-0f31286e394c"
      },
      "execution_count": 15,
      "outputs": [
        {
          "output_type": "stream",
          "name": "stdout",
          "text": [
            "\u001b[1m1/1\u001b[0m \u001b[32m━━━━━━━━━━━━━━━━━━━━\u001b[0m\u001b[37m\u001b[0m \u001b[1m0s\u001b[0m 216ms/step\n"
          ]
        },
        {
          "output_type": "execute_result",
          "data": {
            "text/plain": [
              "array([[0.44942537],\n",
              "       [0.4270849 ],\n",
              "       [0.443807  ],\n",
              "       [0.52187383],\n",
              "       [0.43539292],\n",
              "       [0.45338657],\n",
              "       [0.4615621 ],\n",
              "       [0.42949784],\n",
              "       [0.4896633 ],\n",
              "       [0.44209987]], dtype=float32)"
            ]
          },
          "metadata": {},
          "execution_count": 15
        }
      ]
    },
    {
      "cell_type": "markdown",
      "source": [
        "Set correct initial bias"
      ],
      "metadata": {
        "id": "VbBCSo_EdZ1A"
      }
    },
    {
      "cell_type": "code",
      "source": [
        "initial_bias = np.log([pos/neg])\n",
        "initial_bias"
      ],
      "metadata": {
        "colab": {
          "base_uri": "https://localhost:8080/"
        },
        "id": "s2MXPyZyd68B",
        "outputId": "17b01f8f-72a6-4ac8-ca08-6fa882d8e4a9"
      },
      "execution_count": 16,
      "outputs": [
        {
          "output_type": "execute_result",
          "data": {
            "text/plain": [
              "array([-5.63445295])"
            ]
          },
          "metadata": {},
          "execution_count": 16
        }
      ]
    },
    {
      "cell_type": "markdown",
      "source": [
        "Baseline with initial bias"
      ],
      "metadata": {
        "id": "NMRUVN7teJLe"
      }
    },
    {
      "cell_type": "code",
      "source": [
        "model = make_model(output_bias=initial_bias)\n",
        "model.predict(train_features[:10])"
      ],
      "metadata": {
        "colab": {
          "base_uri": "https://localhost:8080/"
        },
        "id": "iNp8oNoXeFY-",
        "outputId": "796abcf1-66ba-460b-93c0-a6768eaddee2"
      },
      "execution_count": 17,
      "outputs": [
        {
          "output_type": "stream",
          "name": "stdout",
          "text": [
            "\u001b[1m1/1\u001b[0m \u001b[32m━━━━━━━━━━━━━━━━━━━━\u001b[0m\u001b[37m\u001b[0m \u001b[1m0s\u001b[0m 98ms/step\n"
          ]
        },
        {
          "output_type": "execute_result",
          "data": {
            "text/plain": [
              "array([[0.00366341],\n",
              "       [0.00358847],\n",
              "       [0.0037018 ],\n",
              "       [0.00357744],\n",
              "       [0.00363588],\n",
              "       [0.00335544],\n",
              "       [0.00362694],\n",
              "       [0.00351523],\n",
              "       [0.00340801],\n",
              "       [0.0037133 ]], dtype=float32)"
            ]
          },
          "metadata": {},
          "execution_count": 17
        }
      ]
    },
    {
      "cell_type": "code",
      "source": [
        "results = model.evaluate(train_features, train_labels, batch_size=BATCH_SIZE, verbose=0)\n",
        "print(\"Loss: {:0.4f}\".format(results[0]))"
      ],
      "metadata": {
        "colab": {
          "base_uri": "https://localhost:8080/"
        },
        "id": "p1nfBhI1eN39",
        "outputId": "71665162-9165-48df-bc3c-74e8453ad063"
      },
      "execution_count": 18,
      "outputs": [
        {
          "output_type": "stream",
          "name": "stdout",
          "text": [
            "Loss: 0.0235\n"
          ]
        }
      ]
    },
    {
      "cell_type": "markdown",
      "source": [
        "Saving initial weights to temp file"
      ],
      "metadata": {
        "id": "PpSl1u_Heko1"
      }
    },
    {
      "cell_type": "code",
      "source": [
        "import tempfile\n",
        "\n",
        "initial_weights = os.path.join(tempfile.mkdtemp(), 'initial.weights.h5')\n",
        "model.save_weights(initial_weights)\n"
      ],
      "metadata": {
        "id": "qVDySW20eojn"
      },
      "execution_count": 19,
      "outputs": []
    },
    {
      "cell_type": "markdown",
      "source": [
        "##Bias vs Non-Bias Comparison"
      ],
      "metadata": {
        "id": "RtEE4BM4ftRE"
      }
    },
    {
      "cell_type": "code",
      "source": [
        "# no initial bias\n",
        "\n",
        "model = make_model()\n",
        "model.load_weights(initial_weights)\n",
        "model.layers[-1].bias.assign([0.0])\n",
        "zero_bias_history = model.fit(\n",
        "    train_features,\n",
        "    train_labels,\n",
        "    batch_size=BATCH_SIZE,\n",
        "    epochs=20,\n",
        "    callbacks=[early_stopping()],\n",
        "    validation_data=(val_features, val_labels),\n",
        "    verbose=0\n",
        ")"
      ],
      "metadata": {
        "colab": {
          "base_uri": "https://localhost:8080/"
        },
        "id": "JfWf0krdfy6O",
        "outputId": "16a21203-9c69-4870-b36f-9fa3c3730b46"
      },
      "execution_count": 20,
      "outputs": [
        {
          "output_type": "stream",
          "name": "stdout",
          "text": [
            "Restoring model weights from the end of the best epoch: 19.\n"
          ]
        }
      ]
    },
    {
      "cell_type": "code",
      "source": [
        "# model with initial bias\n",
        "\n",
        "model = make_model()\n",
        "model.load_weights(initial_weights)\n",
        "careful_bias_history = model.fit(\n",
        "    train_features,\n",
        "    train_labels,\n",
        "    batch_size=BATCH_SIZE,\n",
        "    epochs=20,\n",
        "    callbacks=[early_stopping()],\n",
        "    validation_data=(val_features, val_labels),\n",
        "    verbose=0\n",
        ")"
      ],
      "metadata": {
        "colab": {
          "base_uri": "https://localhost:8080/"
        },
        "id": "0axkAiZsgYUg",
        "outputId": "c2f042d7-7200-49f5-dd78-2a9ac6636c78"
      },
      "execution_count": 21,
      "outputs": [
        {
          "output_type": "stream",
          "name": "stdout",
          "text": [
            "Restoring model weights from the end of the best epoch: 19.\n"
          ]
        }
      ]
    },
    {
      "cell_type": "code",
      "source": [
        "colors = plt.rcParams['axes.prop_cycle'].by_key()['color']\n",
        "\n",
        "def plot_loss(history, label, n):\n",
        "  # Use a log scale to show the wide range of values.\n",
        "  plt.semilogy(history.epoch, history.history['loss'],\n",
        "               color=colors[n], label='Train ' + label)\n",
        "  plt.semilogy(history.epoch, history.history['val_loss'],\n",
        "               color=colors[n], label='Val ' + label,\n",
        "               linestyle=\"--\")\n",
        "  plt.xlabel('Epoch')\n",
        "  plt.ylabel('Loss')\n",
        "  plt.legend()"
      ],
      "metadata": {
        "id": "ydD729YtiPqp"
      },
      "execution_count": 22,
      "outputs": []
    },
    {
      "cell_type": "code",
      "source": [
        "plot_loss(zero_bias_history, \"Zero Bias\", 0)\n",
        "plot_loss(careful_bias_history, \"Careful Bias\", 1)"
      ],
      "metadata": {
        "colab": {
          "base_uri": "https://localhost:8080/",
          "height": 449
        },
        "id": "GKqxtzRAiaOE",
        "outputId": "47152579-75b5-4566-e50b-751e85e66247"
      },
      "execution_count": 23,
      "outputs": [
        {
          "output_type": "display_data",
          "data": {
            "text/plain": [
              "<Figure size 640x480 with 1 Axes>"
            ],
            "image/png": "[encoded data removed]"
          },
          "metadata": {}
        }
      ]
    },
    {
      "cell_type": "markdown",
      "source": [
        "## Train Model"
      ],
      "metadata": {
        "id": "tQ75f5H5i359"
      }
    },
    {
      "cell_type": "code",
      "source": [
        "model = make_model()\n",
        "model.load_weights(initial_weights)\n",
        "baseline_history = model.fit(\n",
        "    train_features,\n",
        "    train_labels,\n",
        "    batch_size=BATCH_SIZE,\n",
        "    epochs=EPOCHS,\n",
        "    callbacks=[early_stopping()],\n",
        "    validation_data=(val_features, val_labels))"
      ],
      "metadata": {
        "colab": {
          "base_uri": "https://localhost:8080/"
        },
        "id": "m_XGyuQ3i7kI",
        "outputId": "4147082e-81dd-464f-ad8a-333ab54fec4a"
      },
      "execution_count": 24,
      "outputs": [
        {
          "output_type": "stream",
          "name": "stdout",
          "text": [
            "Epoch 1/100\n",
            "\u001b[1m828/828\u001b[0m \u001b[32m━━━━━━━━━━━━━━━━━━━━\u001b[0m\u001b[37m\u001b[0m \u001b[1m21s\u001b[0m 20ms/step - Brier score: 0.0030 - accuracy: 0.9967 - auc: 0.7804 - cross entropy: 0.0171 - fn: 4120.0928 - fp: 193.4777 - loss: 0.0215 - prc: 0.2642 - precision: 0.7306 - recall: 0.0997 - tn: 1268672.2500 - tp: 398.1833 - val_Brier score: 0.0034 - val_accuracy: 0.9965 - val_auc: 0.8613 - val_cross entropy: 0.0179 - val_fn: 1497.0000 - val_fp: 0.0000e+00 - val_loss: 0.0179 - val_prc: 0.2292 - val_precision: 0.0000e+00 - val_recall: 0.0000e+00 - val_tn: 421974.0000 - val_tp: 0.0000e+00\n",
            "Epoch 2/100\n",
            "\u001b[1m828/828\u001b[0m \u001b[32m━━━━━━━━━━━━━━━━━━━━\u001b[0m\u001b[37m\u001b[0m \u001b[1m32s\u001b[0m 34ms/step - Brier score: 0.0034 - accuracy: 0.9962 - auc: 0.8511 - cross entropy: 0.0179 - fn: 2897.0205 - fp: 315.8178 - loss: 0.0179 - prc: 0.1403 - precision: 0.3182 - recall: 0.0493 - tn: 846550.4375 - tp: 149.7443 - val_Brier score: 0.0034 - val_accuracy: 0.9965 - val_auc: 0.8702 - val_cross entropy: 0.0169 - val_fn: 1497.0000 - val_fp: 0.0000e+00 - val_loss: 0.0169 - val_prc: 0.2417 - val_precision: 0.0000e+00 - val_recall: 0.0000e+00 - val_tn: 421974.0000 - val_tp: 0.0000e+00\n",
            "Epoch 3/100\n",
            "\u001b[1m828/828\u001b[0m \u001b[32m━━━━━━━━━━━━━━━━━━━━\u001b[0m\u001b[37m\u001b[0m \u001b[1m30s\u001b[0m 21ms/step - Brier score: 0.0033 - accuracy: 0.9963 - auc: 0.8679 - cross entropy: 0.0164 - fn: 2867.7793 - fp: 252.8854 - loss: 0.0164 - prc: 0.1631 - precision: 0.3941 - recall: 0.0553 - tn: 846633.0625 - tp: 159.2859 - val_Brier score: 0.0032 - val_accuracy: 0.9965 - val_auc: 0.8692 - val_cross entropy: 0.0156 - val_fn: 1497.0000 - val_fp: 0.0000e+00 - val_loss: 0.0156 - val_prc: 0.2557 - val_precision: 0.0000e+00 - val_recall: 0.0000e+00 - val_tn: 421974.0000 - val_tp: 0.0000e+00\n",
            "Epoch 4/100\n",
            "\u001b[1m828/828\u001b[0m \u001b[32m━━━━━━━━━━━━━━━━━━━━\u001b[0m\u001b[37m\u001b[0m \u001b[1m19s\u001b[0m 18ms/step - Brier score: 0.0031 - accuracy: 0.9964 - auc: 0.8558 - cross entropy: 0.0157 - fn: 2839.4717 - fp: 210.3510 - loss: 0.0157 - prc: 0.1771 - precision: 0.3982 - recall: 0.0492 - tn: 846712.3750 - tp: 150.8335 - val_Brier score: 0.0031 - val_accuracy: 0.9965 - val_auc: 0.8676 - val_cross entropy: 0.0151 - val_fn: 1497.0000 - val_fp: 0.0000e+00 - val_loss: 0.0151 - val_prc: 0.2698 - val_precision: 0.0000e+00 - val_recall: 0.0000e+00 - val_tn: 421974.0000 - val_tp: 0.0000e+00\n",
            "Epoch 5/100\n",
            "\u001b[1m828/828\u001b[0m \u001b[32m━━━━━━━━━━━━━━━━━━━━\u001b[0m\u001b[37m\u001b[0m \u001b[1m15s\u001b[0m 18ms/step - Brier score: 0.0031 - accuracy: 0.9965 - auc: 0.8618 - cross entropy: 0.0152 - fn: 2829.4065 - fp: 194.0507 - loss: 0.0152 - prc: 0.1978 - precision: 0.4767 - recall: 0.0572 - tn: 846707.6875 - tp: 181.8757 - val_Brier score: 0.0031 - val_accuracy: 0.9965 - val_auc: 0.8718 - val_cross entropy: 0.0148 - val_fn: 1497.0000 - val_fp: 0.0000e+00 - val_loss: 0.0148 - val_prc: 0.2872 - val_precision: 0.0000e+00 - val_recall: 0.0000e+00 - val_tn: 421974.0000 - val_tp: 0.0000e+00\n",
            "Epoch 6/100\n",
            "\u001b[1m828/828\u001b[0m \u001b[32m━━━━━━━━━━━━━━━━━━━━\u001b[0m\u001b[37m\u001b[0m \u001b[1m22s\u001b[0m 20ms/step - Brier score: 0.0030 - accuracy: 0.9965 - auc: 0.8615 - cross entropy: 0.0150 - fn: 2783.9880 - fp: 205.8142 - loss: 0.0150 - prc: 0.2282 - precision: 0.5446 - recall: 0.0797 - tn: 846683.9375 - tp: 239.2774 - val_Brier score: 0.0030 - val_accuracy: 0.9965 - val_auc: 0.8721 - val_cross entropy: 0.0146 - val_fn: 1497.0000 - val_fp: 0.0000e+00 - val_loss: 0.0146 - val_prc: 0.3122 - val_precision: 0.0000e+00 - val_recall: 0.0000e+00 - val_tn: 421974.0000 - val_tp: 0.0000e+00\n",
            "Epoch 7/100\n",
            "\u001b[1m828/828\u001b[0m \u001b[32m━━━━━━━━━━━━━━━━━━━━\u001b[0m\u001b[37m\u001b[0m \u001b[1m19s\u001b[0m 19ms/step - Brier score: 0.0031 - accuracy: 0.9964 - auc: 0.8593 - cross entropy: 0.0152 - fn: 2771.0881 - fp: 230.8975 - loss: 0.0152 - prc: 0.2456 - precision: 0.5476 - recall: 0.0910 - tn: 846638.6875 - tp: 272.3715 - val_Brier score: 0.0030 - val_accuracy: 0.9965 - val_auc: 0.8727 - val_cross entropy: 0.0143 - val_fn: 1494.0000 - val_fp: 0.0000e+00 - val_loss: 0.0143 - val_prc: 0.3389 - val_precision: 1.0000 - val_recall: 0.0020 - val_tn: 421974.0000 - val_tp: 3.0000\n",
            "Epoch 8/100\n",
            "\u001b[1m828/828\u001b[0m \u001b[32m━━━━━━━━━━━━━━━━━━━━\u001b[0m\u001b[37m\u001b[0m \u001b[1m21s\u001b[0m 19ms/step - Brier score: 0.0030 - accuracy: 0.9965 - auc: 0.8632 - cross entropy: 0.0148 - fn: 2719.0627 - fp: 229.7889 - loss: 0.0148 - prc: 0.2700 - precision: 0.5782 - recall: 0.1055 - tn: 846633.3125 - tp: 330.9071 - val_Brier score: 0.0030 - val_accuracy: 0.9965 - val_auc: 0.8727 - val_cross entropy: 0.0144 - val_fn: 1497.0000 - val_fp: 0.0000e+00 - val_loss: 0.0144 - val_prc: 0.3917 - val_precision: 0.0000e+00 - val_recall: 0.0000e+00 - val_tn: 421974.0000 - val_tp: 0.0000e+00\n",
            "Epoch 9/100\n",
            "\u001b[1m828/828\u001b[0m \u001b[32m━━━━━━━━━━━━━━━━━━━━\u001b[0m\u001b[37m\u001b[0m \u001b[1m20s\u001b[0m 19ms/step - Brier score: 0.0028 - accuracy: 0.9968 - auc: 0.8666 - cross entropy: 0.0139 - fn: 2528.4800 - fp: 206.6236 - loss: 0.0139 - prc: 0.3408 - precision: 0.6962 - recall: 0.1589 - tn: 846686.6875 - tp: 491.2630 - val_Brier score: 0.0028 - val_accuracy: 0.9967 - val_auc: 0.8758 - val_cross entropy: 0.0136 - val_fn: 1385.0000 - val_fp: 0.0000e+00 - val_loss: 0.0136 - val_prc: 0.4573 - val_precision: 1.0000 - val_recall: 0.0748 - val_tn: 421974.0000 - val_tp: 112.0000\n",
            "Epoch 10/100\n",
            "\u001b[1m828/828\u001b[0m \u001b[32m━━━━━━━━━━━━━━━━━━━━\u001b[0m\u001b[37m\u001b[0m \u001b[1m15s\u001b[0m 18ms/step - Brier score: 0.0027 - accuracy: 0.9968 - auc: 0.8680 - cross entropy: 0.0137 - fn: 2461.9265 - fp: 211.3016 - loss: 0.0137 - prc: 0.3693 - precision: 0.7111 - recall: 0.1800 - tn: 846703.7500 - tp: 536.0844 - val_Brier score: 0.0027 - val_accuracy: 0.9969 - val_auc: 0.8765 - val_cross entropy: 0.0133 - val_fn: 1314.0000 - val_fp: 0.0000e+00 - val_loss: 0.0133 - val_prc: 0.4868 - val_precision: 1.0000 - val_recall: 0.1222 - val_tn: 421974.0000 - val_tp: 183.0000\n",
            "Epoch 11/100\n",
            "\u001b[1m828/828\u001b[0m \u001b[32m━━━━━━━━━━━━━━━━━━━━\u001b[0m\u001b[37m\u001b[0m \u001b[1m16s\u001b[0m 19ms/step - Brier score: 0.0026 - accuracy: 0.9969 - auc: 0.8641 - cross entropy: 0.0136 - fn: 2410.1555 - fp: 191.1556 - loss: 0.0136 - prc: 0.3850 - precision: 0.7581 - recall: 0.1925 - tn: 846709.2500 - tp: 602.4813 - val_Brier score: 0.0026 - val_accuracy: 0.9970 - val_auc: 0.8727 - val_cross entropy: 0.0130 - val_fn: 1286.0000 - val_fp: 0.0000e+00 - val_loss: 0.0130 - val_prc: 0.4950 - val_precision: 1.0000 - val_recall: 0.1409 - val_tn: 421974.0000 - val_tp: 211.0000\n",
            "Epoch 12/100\n",
            "\u001b[1m828/828\u001b[0m \u001b[32m━━━━━━━━━━━━━━━━━━━━\u001b[0m\u001b[37m\u001b[0m \u001b[1m22s\u001b[0m 20ms/step - Brier score: 0.0026 - accuracy: 0.9970 - auc: 0.8650 - cross entropy: 0.0135 - fn: 2345.5513 - fp: 195.1206 - loss: 0.0135 - prc: 0.4247 - precision: 0.7801 - recall: 0.2291 - tn: 846675.3125 - tp: 697.0398 - val_Brier score: 0.0027 - val_accuracy: 0.9969 - val_auc: 0.8747 - val_cross entropy: 0.0132 - val_fn: 1299.0000 - val_fp: 0.0000e+00 - val_loss: 0.0132 - val_prc: 0.5185 - val_precision: 1.0000 - val_recall: 0.1323 - val_tn: 421974.0000 - val_tp: 198.0000\n",
            "Epoch 13/100\n",
            "\u001b[1m828/828\u001b[0m \u001b[32m━━━━━━━━━━━━━━━━━━━━\u001b[0m\u001b[37m\u001b[0m \u001b[1m21s\u001b[0m 21ms/step - Brier score: 0.0025 - accuracy: 0.9971 - auc: 0.8691 - cross entropy: 0.0130 - fn: 2289.6538 - fp: 197.1255 - loss: 0.0130 - prc: 0.4418 - precision: 0.7909 - recall: 0.2393 - tn: 846699.6250 - tp: 726.6405 - val_Brier score: 0.0026 - val_accuracy: 0.9970 - val_auc: 0.8729 - val_cross entropy: 0.0128 - val_fn: 1276.0000 - val_fp: 0.0000e+00 - val_loss: 0.0128 - val_prc: 0.5201 - val_precision: 1.0000 - val_recall: 0.1476 - val_tn: 421974.0000 - val_tp: 221.0000\n",
            "Epoch 14/100\n",
            "\u001b[1m828/828\u001b[0m \u001b[32m━━━━━━━━━━━━━━━━━━━━\u001b[0m\u001b[37m\u001b[0m \u001b[1m19s\u001b[0m 19ms/step - Brier score: 0.0025 - accuracy: 0.9972 - auc: 0.8629 - cross entropy: 0.0131 - fn: 2248.3535 - fp: 178.0603 - loss: 0.0131 - prc: 0.4444 - precision: 0.8146 - recall: 0.2540 - tn: 846711.0000 - tp: 775.6237 - val_Brier score: 0.0025 - val_accuracy: 0.9970 - val_auc: 0.8784 - val_cross entropy: 0.0126 - val_fn: 1256.0000 - val_fp: 0.0000e+00 - val_loss: 0.0126 - val_prc: 0.5311 - val_precision: 1.0000 - val_recall: 0.1610 - val_tn: 421974.0000 - val_tp: 241.0000\n",
            "Epoch 15/100\n",
            "\u001b[1m828/828\u001b[0m \u001b[32m━━━━━━━━━━━━━━━━━━━━\u001b[0m\u001b[37m\u001b[0m \u001b[1m17s\u001b[0m 20ms/step - Brier score: 0.0025 - accuracy: 0.9971 - auc: 0.8671 - cross entropy: 0.0128 - fn: 2263.5115 - fp: 190.4620 - loss: 0.0128 - prc: 0.4425 - precision: 0.7882 - recall: 0.2458 - tn: 846718.8125 - tp: 740.2750 - val_Brier score: 0.0025 - val_accuracy: 0.9971 - val_auc: 0.8771 - val_cross entropy: 0.0126 - val_fn: 1234.0000 - val_fp: 0.0000e+00 - val_loss: 0.0126 - val_prc: 0.5313 - val_precision: 1.0000 - val_recall: 0.1757 - val_tn: 421974.0000 - val_tp: 263.0000\n",
            "Epoch 16/100\n",
            "\u001b[1m828/828\u001b[0m \u001b[32m━━━━━━━━━━━━━━━━━━━━\u001b[0m\u001b[37m\u001b[0m \u001b[1m19s\u001b[0m 19ms/step - Brier score: 0.0025 - accuracy: 0.9971 - auc: 0.8718 - cross entropy: 0.0131 - fn: 2250.0156 - fp: 195.8709 - loss: 0.0131 - prc: 0.4644 - precision: 0.8047 - recall: 0.2619 - tn: 846665.3750 - tp: 801.7624 - val_Brier score: 0.0025 - val_accuracy: 0.9971 - val_auc: 0.8772 - val_cross entropy: 0.0126 - val_fn: 1245.0000 - val_fp: 0.0000e+00 - val_loss: 0.0126 - val_prc: 0.5354 - val_precision: 1.0000 - val_recall: 0.1683 - val_tn: 421974.0000 - val_tp: 252.0000\n",
            "Epoch 17/100\n",
            "\u001b[1m828/828\u001b[0m \u001b[32m━━━━━━━━━━━━━━━━━━━━\u001b[0m\u001b[37m\u001b[0m \u001b[1m16s\u001b[0m 19ms/step - Brier score: 0.0024 - accuracy: 0.9972 - auc: 0.8745 - cross entropy: 0.0125 - fn: 2194.1062 - fp: 204.1785 - loss: 0.0125 - prc: 0.4758 - precision: 0.7940 - recall: 0.2780 - tn: 846676.8750 - tp: 837.8746 - val_Brier score: 0.0026 - val_accuracy: 0.9970 - val_auc: 0.8782 - val_cross entropy: 0.0128 - val_fn: 1252.0000 - val_fp: 0.0000e+00 - val_loss: 0.0128 - val_prc: 0.5548 - val_precision: 1.0000 - val_recall: 0.1637 - val_tn: 421974.0000 - val_tp: 245.0000\n",
            "Epoch 18/100\n",
            "\u001b[1m828/828\u001b[0m \u001b[32m━━━━━━━━━━━━━━━━━━━━\u001b[0m\u001b[37m\u001b[0m \u001b[1m22s\u001b[0m 20ms/step - Brier score: 0.0024 - accuracy: 0.9972 - auc: 0.8755 - cross entropy: 0.0126 - fn: 2169.1133 - fp: 212.2352 - loss: 0.0126 - prc: 0.4798 - precision: 0.8012 - recall: 0.2831 - tn: 846672.0000 - tp: 859.7202 - val_Brier score: 0.0026 - val_accuracy: 0.9970 - val_auc: 0.8915 - val_cross entropy: 0.0124 - val_fn: 1280.0000 - val_fp: 0.0000e+00 - val_loss: 0.0124 - val_prc: 0.5684 - val_precision: 1.0000 - val_recall: 0.1450 - val_tn: 421974.0000 - val_tp: 217.0000\n",
            "Epoch 19/100\n",
            "\u001b[1m828/828\u001b[0m \u001b[32m━━━━━━━━━━━━━━━━━━━━\u001b[0m\u001b[37m\u001b[0m \u001b[1m16s\u001b[0m 19ms/step - Brier score: 0.0023 - accuracy: 0.9973 - auc: 0.8805 - cross entropy: 0.0121 - fn: 2152.4561 - fp: 193.9771 - loss: 0.0121 - prc: 0.5013 - precision: 0.8223 - recall: 0.2910 - tn: 846684.6250 - tp: 882.0096 - val_Brier score: 0.0024 - val_accuracy: 0.9972 - val_auc: 0.8891 - val_cross entropy: 0.0119 - val_fn: 1195.0000 - val_fp: 0.0000e+00 - val_loss: 0.0119 - val_prc: 0.5803 - val_precision: 1.0000 - val_recall: 0.2017 - val_tn: 421974.0000 - val_tp: 302.0000\n",
            "Epoch 20/100\n",
            "\u001b[1m828/828\u001b[0m \u001b[32m━━━━━━━━━━━━━━━━━━━━\u001b[0m\u001b[37m\u001b[0m \u001b[1m20s\u001b[0m 19ms/step - Brier score: 0.0024 - accuracy: 0.9972 - auc: 0.8813 - cross entropy: 0.0122 - fn: 2119.0603 - fp: 218.4801 - loss: 0.0122 - prc: 0.5065 - precision: 0.8048 - recall: 0.3000 - tn: 846654.5000 - tp: 921.0217 - val_Brier score: 0.0023 - val_accuracy: 0.9973 - val_auc: 0.8898 - val_cross entropy: 0.0117 - val_fn: 1164.0000 - val_fp: 0.0000e+00 - val_loss: 0.0117 - val_prc: 0.5823 - val_precision: 1.0000 - val_recall: 0.2224 - val_tn: 421974.0000 - val_tp: 333.0000\n",
            "Epoch 21/100\n",
            "\u001b[1m828/828\u001b[0m \u001b[32m━━━━━━━━━━━━━━━━━━━━\u001b[0m\u001b[37m\u001b[0m \u001b[1m21s\u001b[0m 19ms/step - Brier score: 0.0022 - accuracy: 0.9973 - auc: 0.8909 - cross entropy: 0.0115 - fn: 2105.2666 - fp: 197.2087 - loss: 0.0115 - prc: 0.5199 - precision: 0.8229 - recall: 0.3100 - tn: 846699.3750 - tp: 911.1954 - val_Brier score: 0.0023 - val_accuracy: 0.9972 - val_auc: 0.8975 - val_cross entropy: 0.0114 - val_fn: 1175.0000 - val_fp: 0.0000e+00 - val_loss: 0.0114 - val_prc: 0.5916 - val_precision: 1.0000 - val_recall: 0.2151 - val_tn: 421974.0000 - val_tp: 322.0000\n",
            "Epoch 22/100\n",
            "\u001b[1m828/828\u001b[0m \u001b[32m━━━━━━━━━━━━━━━━━━━━\u001b[0m\u001b[37m\u001b[0m \u001b[1m20s\u001b[0m 19ms/step - Brier score: 0.0022 - accuracy: 0.9974 - auc: 0.8886 - cross entropy: 0.0115 - fn: 2036.7045 - fp: 189.5235 - loss: 0.0115 - prc: 0.5263 - precision: 0.8393 - recall: 0.3255 - tn: 846721.7500 - tp: 965.0639 - val_Brier score: 0.0023 - val_accuracy: 0.9973 - val_auc: 0.8999 - val_cross entropy: 0.0111 - val_fn: 1164.0000 - val_fp: 0.0000e+00 - val_loss: 0.0111 - val_prc: 0.6131 - val_precision: 1.0000 - val_recall: 0.2224 - val_tn: 421974.0000 - val_tp: 333.0000\n",
            "Epoch 23/100\n",
            "\u001b[1m828/828\u001b[0m \u001b[32m━━━━━━━━━━━━━━━━━━━━\u001b[0m\u001b[37m\u001b[0m \u001b[1m15s\u001b[0m 19ms/step - Brier score: 0.0022 - accuracy: 0.9974 - auc: 0.8902 - cross entropy: 0.0115 - fn: 2041.8505 - fp: 203.0060 - loss: 0.0115 - prc: 0.5276 - precision: 0.8339 - recall: 0.3250 - tn: 846701.3125 - tp: 966.8577 - val_Brier score: 0.0023 - val_accuracy: 0.9973 - val_auc: 0.9043 - val_cross entropy: 0.0110 - val_fn: 1140.0000 - val_fp: 0.0000e+00 - val_loss: 0.0110 - val_prc: 0.6163 - val_precision: 1.0000 - val_recall: 0.2385 - val_tn: 421974.0000 - val_tp: 357.0000\n",
            "Epoch 24/100\n",
            "\u001b[1m828/828\u001b[0m \u001b[32m━━━━━━━━━━━━━━━━━━━━\u001b[0m\u001b[37m\u001b[0m \u001b[1m15s\u001b[0m 19ms/step - Brier score: 0.0022 - accuracy: 0.9974 - auc: 0.8931 - cross entropy: 0.0114 - fn: 2028.4957 - fp: 204.7696 - loss: 0.0114 - prc: 0.5374 - precision: 0.8329 - recall: 0.3359 - tn: 846684.3750 - tp: 995.4029 - val_Brier score: 0.0024 - val_accuracy: 0.9972 - val_auc: 0.9039 - val_cross entropy: 0.0112 - val_fn: 1175.0000 - val_fp: 0.0000e+00 - val_loss: 0.0112 - val_prc: 0.6181 - val_precision: 1.0000 - val_recall: 0.2151 - val_tn: 421974.0000 - val_tp: 322.0000\n",
            "Epoch 25/100\n",
            "\u001b[1m828/828\u001b[0m \u001b[32m━━━━━━━━━━━━━━━━━━━━\u001b[0m\u001b[37m\u001b[0m \u001b[1m18s\u001b[0m 22ms/step - Brier score: 0.0022 - accuracy: 0.9973 - auc: 0.8957 - cross entropy: 0.0113 - fn: 2056.5923 - fp: 207.2799 - loss: 0.0113 - prc: 0.5383 - precision: 0.8197 - recall: 0.3205 - tn: 846674.5000 - tp: 974.6610 - val_Brier score: 0.0022 - val_accuracy: 0.9973 - val_auc: 0.9025 - val_cross entropy: 0.0108 - val_fn: 1131.0000 - val_fp: 0.0000e+00 - val_loss: 0.0108 - val_prc: 0.6209 - val_precision: 1.0000 - val_recall: 0.2445 - val_tn: 421974.0000 - val_tp: 366.0000\n",
            "Epoch 26/100\n",
            "\u001b[1m828/828\u001b[0m \u001b[32m━━━━━━━━━━━━━━━━━━━━\u001b[0m\u001b[37m\u001b[0m \u001b[1m18s\u001b[0m 19ms/step - Brier score: 0.0022 - accuracy: 0.9974 - auc: 0.8941 - cross entropy: 0.0112 - fn: 1995.4222 - fp: 200.4620 - loss: 0.0112 - prc: 0.5447 - precision: 0.8335 - recall: 0.3410 - tn: 846702.3125 - tp: 1014.8323 - val_Brier score: 0.0024 - val_accuracy: 0.9972 - val_auc: 0.9033 - val_cross entropy: 0.0112 - val_fn: 1182.0000 - val_fp: 0.0000e+00 - val_loss: 0.0112 - val_prc: 0.6122 - val_precision: 1.0000 - val_recall: 0.2104 - val_tn: 421974.0000 - val_tp: 315.0000\n",
            "Epoch 27/100\n",
            "\u001b[1m828/828\u001b[0m \u001b[32m━━━━━━━━━━━━━━━━━━━━\u001b[0m\u001b[37m\u001b[0m \u001b[1m21s\u001b[0m 19ms/step - Brier score: 0.0022 - accuracy: 0.9974 - auc: 0.8903 - cross entropy: 0.0113 - fn: 2005.6140 - fp: 206.2967 - loss: 0.0113 - prc: 0.5366 - precision: 0.8276 - recall: 0.3338 - tn: 846694.4375 - tp: 1006.7032 - val_Brier score: 0.0022 - val_accuracy: 0.9973 - val_auc: 0.9037 - val_cross entropy: 0.0106 - val_fn: 1123.0000 - val_fp: 0.0000e+00 - val_loss: 0.0106 - val_prc: 0.6248 - val_precision: 1.0000 - val_recall: 0.2498 - val_tn: 421974.0000 - val_tp: 374.0000\n",
            "Epoch 28/100\n",
            "\u001b[1m828/828\u001b[0m \u001b[32m━━━━━━━━━━━━━━━━━━━━\u001b[0m\u001b[37m\u001b[0m \u001b[1m16s\u001b[0m 19ms/step - Brier score: 0.0022 - accuracy: 0.9974 - auc: 0.8969 - cross entropy: 0.0111 - fn: 1980.4584 - fp: 231.4644 - loss: 0.0111 - prc: 0.5615 - precision: 0.8214 - recall: 0.3597 - tn: 846632.2500 - tp: 1068.8962 - val_Brier score: 0.0022 - val_accuracy: 0.9973 - val_auc: 0.9046 - val_cross entropy: 0.0108 - val_fn: 1131.0000 - val_fp: 0.0000e+00 - val_loss: 0.0108 - val_prc: 0.6231 - val_precision: 1.0000 - val_recall: 0.2445 - val_tn: 421974.0000 - val_tp: 366.0000\n",
            "Epoch 29/100\n",
            "\u001b[1m828/828\u001b[0m \u001b[32m━━━━━━━━━━━━━━━━━━━━\u001b[0m\u001b[37m\u001b[0m \u001b[1m16s\u001b[0m 19ms/step - Brier score: 0.0022 - accuracy: 0.9974 - auc: 0.8990 - cross entropy: 0.0110 - fn: 1965.4041 - fp: 208.0422 - loss: 0.0110 - prc: 0.5574 - precision: 0.8316 - recall: 0.3483 - tn: 846704.5625 - tp: 1035.0168 - val_Brier score: 0.0025 - val_accuracy: 0.9970 - val_auc: 0.9062 - val_cross entropy: 0.0115 - val_fn: 1261.0000 - val_fp: 0.0000e+00 - val_loss: 0.0115 - val_prc: 0.6245 - val_precision: 1.0000 - val_recall: 0.1576 - val_tn: 421974.0000 - val_tp: 236.0000\n",
            "Epoch 30/100\n",
            "\u001b[1m828/828\u001b[0m \u001b[32m━━━━━━━━━━━━━━━━━━━━\u001b[0m\u001b[37m\u001b[0m \u001b[1m20s\u001b[0m 19ms/step - Brier score: 0.0022 - accuracy: 0.9974 - auc: 0.8940 - cross entropy: 0.0111 - fn: 1975.6091 - fp: 207.3281 - loss: 0.0111 - prc: 0.5494 - precision: 0.8358 - recall: 0.3382 - tn: 846673.1875 - tp: 1056.9180 - val_Brier score: 0.0022 - val_accuracy: 0.9973 - val_auc: 0.9017 - val_cross entropy: 0.0109 - val_fn: 1140.0000 - val_fp: 0.0000e+00 - val_loss: 0.0109 - val_prc: 0.6283 - val_precision: 1.0000 - val_recall: 0.2385 - val_tn: 421974.0000 - val_tp: 357.0000\n",
            "Epoch 31/100\n",
            "\u001b[1m828/828\u001b[0m \u001b[32m━━━━━━━━━━━━━━━━━━━━\u001b[0m\u001b[37m\u001b[0m \u001b[1m20s\u001b[0m 18ms/step - Brier score: 0.0021 - accuracy: 0.9975 - auc: 0.8962 - cross entropy: 0.0109 - fn: 1947.5778 - fp: 194.4294 - loss: 0.0109 - prc: 0.5585 - precision: 0.8455 - recall: 0.3464 - tn: 846735.0000 - tp: 1036.0049 - val_Brier score: 0.0022 - val_accuracy: 0.9973 - val_auc: 0.9067 - val_cross entropy: 0.0107 - val_fn: 1124.0000 - val_fp: 1.0000 - val_loss: 0.0107 - val_prc: 0.6315 - val_precision: 0.9973 - val_recall: 0.2492 - val_tn: 421973.0000 - val_tp: 373.0000\n",
            "Epoch 32/100\n",
            "\u001b[1m828/828\u001b[0m \u001b[32m━━━━━━━━━━━━━━━━━━━━\u001b[0m\u001b[37m\u001b[0m \u001b[1m21s\u001b[0m 19ms/step - Brier score: 0.0022 - accuracy: 0.9974 - auc: 0.8993 - cross entropy: 0.0112 - fn: 2030.6912 - fp: 194.9590 - loss: 0.0112 - prc: 0.5497 - precision: 0.8388 - recall: 0.3323 - tn: 846686.0625 - tp: 1001.3088 - val_Brier score: 0.0022 - val_accuracy: 0.9973 - val_auc: 0.9012 - val_cross entropy: 0.0107 - val_fn: 1138.0000 - val_fp: 0.0000e+00 - val_loss: 0.0107 - val_prc: 0.6301 - val_precision: 1.0000 - val_recall: 0.2398 - val_tn: 421974.0000 - val_tp: 359.0000\n",
            "Epoch 33/100\n",
            "\u001b[1m828/828\u001b[0m \u001b[32m━━━━━━━━━━━━━━━━━━━━\u001b[0m\u001b[37m\u001b[0m \u001b[1m15s\u001b[0m 18ms/step - Brier score: 0.0022 - accuracy: 0.9974 - auc: 0.8998 - cross entropy: 0.0110 - fn: 1975.3909 - fp: 227.0181 - loss: 0.0110 - prc: 0.5600 - precision: 0.8174 - recall: 0.3471 - tn: 846639.4375 - tp: 1071.1809 - val_Brier score: 0.0022 - val_accuracy: 0.9973 - val_auc: 0.9036 - val_cross entropy: 0.0107 - val_fn: 1134.0000 - val_fp: 0.0000e+00 - val_loss: 0.0107 - val_prc: 0.6413 - val_precision: 1.0000 - val_recall: 0.2425 - val_tn: 421974.0000 - val_tp: 363.0000\n",
            "Epoch 34/100\n",
            "\u001b[1m828/828\u001b[0m \u001b[32m━━━━━━━━━━━━━━━━━━━━\u001b[0m\u001b[37m\u001b[0m \u001b[1m21s\u001b[0m 19ms/step - Brier score: 0.0021 - accuracy: 0.9975 - auc: 0.8983 - cross entropy: 0.0110 - fn: 1949.8107 - fp: 206.2569 - loss: 0.0110 - prc: 0.5629 - precision: 0.8441 - recall: 0.3535 - tn: 846693.5000 - tp: 1063.4813 - val_Brier score: 0.0022 - val_accuracy: 0.9973 - val_auc: 0.9063 - val_cross entropy: 0.0106 - val_fn: 1141.0000 - val_fp: 0.0000e+00 - val_loss: 0.0106 - val_prc: 0.6380 - val_precision: 1.0000 - val_recall: 0.2378 - val_tn: 421974.0000 - val_tp: 356.0000\n",
            "Epoch 35/100\n",
            "\u001b[1m828/828\u001b[0m \u001b[32m━━━━━━━━━━━━━━━━━━━━\u001b[0m\u001b[37m\u001b[0m \u001b[1m21s\u001b[0m 19ms/step - Brier score: 0.0021 - accuracy: 0.9974 - auc: 0.8968 - cross entropy: 0.0110 - fn: 1938.0868 - fp: 220.2509 - loss: 0.0110 - prc: 0.5592 - precision: 0.8273 - recall: 0.3554 - tn: 846667.1875 - tp: 1087.4994 - val_Brier score: 0.0020 - val_accuracy: 0.9975 - val_auc: 0.9006 - val_cross entropy: 0.0103 - val_fn: 1065.0000 - val_fp: 1.0000 - val_loss: 0.0103 - val_prc: 0.6374 - val_precision: 0.9977 - val_recall: 0.2886 - val_tn: 421973.0000 - val_tp: 432.0000\n",
            "Epoch 36/100\n",
            "\u001b[1m828/828\u001b[0m \u001b[32m━━━━━━━━━━━━━━━━━━━━\u001b[0m\u001b[37m\u001b[0m \u001b[1m22s\u001b[0m 21ms/step - Brier score: 0.0021 - accuracy: 0.9974 - auc: 0.8942 - cross entropy: 0.0109 - fn: 1926.6478 - fp: 248.6900 - loss: 0.0109 - prc: 0.5647 - precision: 0.8129 - recall: 0.3599 - tn: 846641.5000 - tp: 1096.2135 - val_Brier score: 0.0021 - val_accuracy: 0.9974 - val_auc: 0.9075 - val_cross entropy: 0.0104 - val_fn: 1102.0000 - val_fp: 0.0000e+00 - val_loss: 0.0104 - val_prc: 0.6448 - val_precision: 1.0000 - val_recall: 0.2639 - val_tn: 421974.0000 - val_tp: 395.0000\n",
            "Epoch 37/100\n",
            "\u001b[1m828/828\u001b[0m \u001b[32m━━━━━━━━━━━━━━━━━━━━\u001b[0m\u001b[37m\u001b[0m \u001b[1m18s\u001b[0m 19ms/step - Brier score: 0.0021 - accuracy: 0.9975 - auc: 0.8966 - cross entropy: 0.0110 - fn: 1917.9360 - fp: 205.6309 - loss: 0.0110 - prc: 0.5671 - precision: 0.8456 - recall: 0.3667 - tn: 846686.3750 - tp: 1103.0820 - val_Brier score: 0.0020 - val_accuracy: 0.9975 - val_auc: 0.9057 - val_cross entropy: 0.0102 - val_fn: 1072.0000 - val_fp: 0.0000e+00 - val_loss: 0.0102 - val_prc: 0.6482 - val_precision: 1.0000 - val_recall: 0.2839 - val_tn: 421974.0000 - val_tp: 425.0000\n",
            "Epoch 38/100\n",
            "\u001b[1m828/828\u001b[0m \u001b[32m━━━━━━━━━━━━━━━━━━━━\u001b[0m\u001b[37m\u001b[0m \u001b[1m21s\u001b[0m 19ms/step - Brier score: 0.0021 - accuracy: 0.9975 - auc: 0.9005 - cross entropy: 0.0108 - fn: 1913.4512 - fp: 219.4367 - loss: 0.0108 - prc: 0.5778 - precision: 0.8401 - recall: 0.3728 - tn: 846644.6875 - tp: 1135.4366 - val_Brier score: 0.0021 - val_accuracy: 0.9974 - val_auc: 0.9008 - val_cross entropy: 0.0104 - val_fn: 1101.0000 - val_fp: 1.0000 - val_loss: 0.0104 - val_prc: 0.6434 - val_precision: 0.9975 - val_recall: 0.2645 - val_tn: 421973.0000 - val_tp: 396.0000\n",
            "Epoch 39/100\n",
            "\u001b[1m828/828\u001b[0m \u001b[32m━━━━━━━━━━━━━━━━━━━━\u001b[0m\u001b[37m\u001b[0m \u001b[1m16s\u001b[0m 19ms/step - Brier score: 0.0021 - accuracy: 0.9975 - auc: 0.8992 - cross entropy: 0.0107 - fn: 1902.8806 - fp: 197.8227 - loss: 0.0107 - prc: 0.5717 - precision: 0.8391 - recall: 0.3626 - tn: 846725.3750 - tp: 1086.9807 - val_Brier score: 0.0022 - val_accuracy: 0.9974 - val_auc: 0.9070 - val_cross entropy: 0.0105 - val_fn: 1122.0000 - val_fp: 0.0000e+00 - val_loss: 0.0105 - val_prc: 0.6441 - val_precision: 1.0000 - val_recall: 0.2505 - val_tn: 421974.0000 - val_tp: 375.0000\n",
            "Epoch 40/100\n",
            "\u001b[1m828/828\u001b[0m \u001b[32m━━━━━━━━━━━━━━━━━━━━\u001b[0m\u001b[37m\u001b[0m \u001b[1m16s\u001b[0m 19ms/step - Brier score: 0.0021 - accuracy: 0.9975 - auc: 0.8968 - cross entropy: 0.0108 - fn: 1913.5658 - fp: 216.5609 - loss: 0.0108 - prc: 0.5666 - precision: 0.8293 - recall: 0.3588 - tn: 846694.1875 - tp: 1088.7515 - val_Brier score: 0.0022 - val_accuracy: 0.9974 - val_auc: 0.9041 - val_cross entropy: 0.0105 - val_fn: 1122.0000 - val_fp: 0.0000e+00 - val_loss: 0.0105 - val_prc: 0.6481 - val_precision: 1.0000 - val_recall: 0.2505 - val_tn: 421974.0000 - val_tp: 375.0000\n",
            "Epoch 41/100\n",
            "\u001b[1m828/828\u001b[0m \u001b[32m━━━━━━━━━━━━━━━━━━━━\u001b[0m\u001b[37m\u001b[0m \u001b[1m18s\u001b[0m 22ms/step - Brier score: 0.0021 - accuracy: 0.9975 - auc: 0.8968 - cross entropy: 0.0107 - fn: 1885.4885 - fp: 233.0989 - loss: 0.0107 - prc: 0.5788 - precision: 0.8307 - recall: 0.3726 - tn: 846663.0625 - tp: 1131.3909 - val_Brier score: 0.0021 - val_accuracy: 0.9974 - val_auc: 0.9079 - val_cross entropy: 0.0103 - val_fn: 1103.0000 - val_fp: 0.0000e+00 - val_loss: 0.0103 - val_prc: 0.6562 - val_precision: 1.0000 - val_recall: 0.2632 - val_tn: 421974.0000 - val_tp: 394.0000\n",
            "Epoch 42/100\n",
            "\u001b[1m828/828\u001b[0m \u001b[32m━━━━━━━━━━━━━━━━━━━━\u001b[0m\u001b[37m\u001b[0m \u001b[1m16s\u001b[0m 20ms/step - Brier score: 0.0021 - accuracy: 0.9975 - auc: 0.9029 - cross entropy: 0.0107 - fn: 1917.9771 - fp: 218.9180 - loss: 0.0107 - prc: 0.5865 - precision: 0.8433 - recall: 0.3715 - tn: 846654.4375 - tp: 1121.7213 - val_Brier score: 0.0021 - val_accuracy: 0.9974 - val_auc: 0.9069 - val_cross entropy: 0.0104 - val_fn: 1114.0000 - val_fp: 0.0000e+00 - val_loss: 0.0104 - val_prc: 0.6539 - val_precision: 1.0000 - val_recall: 0.2558 - val_tn: 421974.0000 - val_tp: 383.0000\n",
            "Epoch 43/100\n",
            "\u001b[1m828/828\u001b[0m \u001b[32m━━━━━━━━━━━━━━━━━━━━\u001b[0m\u001b[37m\u001b[0m \u001b[1m20s\u001b[0m 19ms/step - Brier score: 0.0020 - accuracy: 0.9976 - auc: 0.9026 - cross entropy: 0.0105 - fn: 1853.3969 - fp: 209.5633 - loss: 0.0105 - prc: 0.5896 - precision: 0.8455 - recall: 0.3859 - tn: 846693.0625 - tp: 1157.0024 - val_Brier score: 0.0021 - val_accuracy: 0.9974 - val_auc: 0.9018 - val_cross entropy: 0.0103 - val_fn: 1115.0000 - val_fp: 0.0000e+00 - val_loss: 0.0103 - val_prc: 0.6475 - val_precision: 1.0000 - val_recall: 0.2552 - val_tn: 421974.0000 - val_tp: 382.0000\n",
            "Epoch 44/100\n",
            "\u001b[1m828/828\u001b[0m \u001b[32m━━━━━━━━━━━━━━━━━━━━\u001b[0m\u001b[37m\u001b[0m \u001b[1m21s\u001b[0m 19ms/step - Brier score: 0.0020 - accuracy: 0.9976 - auc: 0.8975 - cross entropy: 0.0106 - fn: 1874.2256 - fp: 215.9095 - loss: 0.0106 - prc: 0.5829 - precision: 0.8439 - recall: 0.3782 - tn: 846699.5000 - tp: 1123.4137 - val_Brier score: 0.0020 - val_accuracy: 0.9974 - val_auc: 0.9062 - val_cross entropy: 0.0101 - val_fn: 1083.0000 - val_fp: 0.0000e+00 - val_loss: 0.0101 - val_prc: 0.6597 - val_precision: 1.0000 - val_recall: 0.2766 - val_tn: 421974.0000 - val_tp: 414.0000\n",
            "Epoch 45/100\n",
            "\u001b[1m828/828\u001b[0m \u001b[32m━━━━━━━━━━━━━━━━━━━━\u001b[0m\u001b[37m\u001b[0m \u001b[1m16s\u001b[0m 19ms/step - Brier score: 0.0021 - accuracy: 0.9975 - auc: 0.9028 - cross entropy: 0.0107 - fn: 1833.8517 - fp: 247.6200 - loss: 0.0107 - prc: 0.6000 - precision: 0.8313 - recall: 0.4121 - tn: 846611.0625 - tp: 1220.4969 - val_Brier score: 0.0021 - val_accuracy: 0.9974 - val_auc: 0.9054 - val_cross entropy: 0.0102 - val_fn: 1088.0000 - val_fp: 1.0000 - val_loss: 0.0102 - val_prc: 0.6497 - val_precision: 0.9976 - val_recall: 0.2732 - val_tn: 421973.0000 - val_tp: 409.0000\n",
            "Epoch 46/100\n",
            "\u001b[1m828/828\u001b[0m \u001b[32m━━━━━━━━━━━━━━━━━━━━\u001b[0m\u001b[37m\u001b[0m \u001b[1m21s\u001b[0m 20ms/step - Brier score: 0.0021 - accuracy: 0.9975 - auc: 0.9011 - cross entropy: 0.0106 - fn: 1863.6985 - fp: 231.8142 - loss: 0.0106 - prc: 0.5817 - precision: 0.8273 - recall: 0.3820 - tn: 846654.2500 - tp: 1163.2642 - val_Brier score: 0.0020 - val_accuracy: 0.9974 - val_auc: 0.9049 - val_cross entropy: 0.0101 - val_fn: 1087.0000 - val_fp: 0.0000e+00 - val_loss: 0.0101 - val_prc: 0.6670 - val_precision: 1.0000 - val_recall: 0.2739 - val_tn: 421974.0000 - val_tp: 410.0000\n",
            "Epoch 47/100\n",
            "\u001b[1m828/828\u001b[0m \u001b[32m━━━━━━━━━━━━━━━━━━━━\u001b[0m\u001b[37m\u001b[0m \u001b[1m23s\u001b[0m 23ms/step - Brier score: 0.0020 - accuracy: 0.9976 - auc: 0.8962 - cross entropy: 0.0105 - fn: 1811.8733 - fp: 263.9723 - loss: 0.0105 - prc: 0.5858 - precision: 0.8177 - recall: 0.3979 - tn: 846651.5625 - tp: 1185.6598 - val_Brier score: 0.0020 - val_accuracy: 0.9976 - val_auc: 0.9046 - val_cross entropy: 0.0101 - val_fn: 994.0000 - val_fp: 4.0000 - val_loss: 0.0101 - val_prc: 0.6495 - val_precision: 0.9921 - val_recall: 0.3360 - val_tn: 421970.0000 - val_tp: 503.0000\n",
            "Epoch 48/100\n",
            "\u001b[1m828/828\u001b[0m \u001b[32m━━━━━━━━━━━━━━━━━━━━\u001b[0m\u001b[37m\u001b[0m \u001b[1m17s\u001b[0m 20ms/step - Brier score: 0.0021 - accuracy: 0.9975 - auc: 0.8977 - cross entropy: 0.0109 - fn: 1861.3848 - fp: 242.2388 - loss: 0.0109 - prc: 0.5762 - precision: 0.8251 - recall: 0.3895 - tn: 846614.9375 - tp: 1194.4547 - val_Brier score: 0.0021 - val_accuracy: 0.9974 - val_auc: 0.9041 - val_cross entropy: 0.0103 - val_fn: 1097.0000 - val_fp: 0.0000e+00 - val_loss: 0.0103 - val_prc: 0.6538 - val_precision: 1.0000 - val_recall: 0.2672 - val_tn: 421974.0000 - val_tp: 400.0000\n",
            "Epoch 49/100\n",
            "\u001b[1m828/828\u001b[0m \u001b[32m━━━━━━━━━━━━━━━━━━━━\u001b[0m\u001b[37m\u001b[0m \u001b[1m17s\u001b[0m 21ms/step - Brier score: 0.0021 - accuracy: 0.9975 - auc: 0.8937 - cross entropy: 0.0108 - fn: 1883.2799 - fp: 216.2726 - loss: 0.0108 - prc: 0.5783 - precision: 0.8368 - recall: 0.3764 - tn: 846676.5625 - tp: 1136.9434 - val_Brier score: 0.0020 - val_accuracy: 0.9974 - val_auc: 0.9023 - val_cross entropy: 0.0102 - val_fn: 1085.0000 - val_fp: 0.0000e+00 - val_loss: 0.0102 - val_prc: 0.6620 - val_precision: 1.0000 - val_recall: 0.2752 - val_tn: 421974.0000 - val_tp: 412.0000\n",
            "Epoch 50/100\n",
            "\u001b[1m828/828\u001b[0m \u001b[32m━━━━━━━━━━━━━━━━━━━━\u001b[0m\u001b[37m\u001b[0m \u001b[1m16s\u001b[0m 19ms/step - Brier score: 0.0021 - accuracy: 0.9975 - auc: 0.8968 - cross entropy: 0.0108 - fn: 1882.0627 - fp: 207.2449 - loss: 0.0108 - prc: 0.5841 - precision: 0.8535 - recall: 0.3777 - tn: 846664.1250 - tp: 1159.6031 - val_Brier score: 0.0020 - val_accuracy: 0.9974 - val_auc: 0.9042 - val_cross entropy: 0.0101 - val_fn: 1085.0000 - val_fp: 0.0000e+00 - val_loss: 0.0101 - val_prc: 0.6622 - val_precision: 1.0000 - val_recall: 0.2752 - val_tn: 421974.0000 - val_tp: 412.0000\n",
            "Epoch 51/100\n",
            "\u001b[1m828/828\u001b[0m \u001b[32m━━━━━━━━━━━━━━━━━━━━\u001b[0m\u001b[37m\u001b[0m \u001b[1m20s\u001b[0m 19ms/step - Brier score: 0.0020 - accuracy: 0.9976 - auc: 0.8957 - cross entropy: 0.0107 - fn: 1830.9723 - fp: 214.2762 - loss: 0.0107 - prc: 0.5845 - precision: 0.8421 - recall: 0.3914 - tn: 846685.0625 - tp: 1182.7623 - val_Brier score: 0.0019 - val_accuracy: 0.9977 - val_auc: 0.9063 - val_cross entropy: 0.0098 - val_fn: 964.0000 - val_fp: 5.0000 - val_loss: 0.0098 - val_prc: 0.6632 - val_precision: 0.9907 - val_recall: 0.3560 - val_tn: 421969.0000 - val_tp: 533.0000\n",
            "Epoch 52/100\n",
            "\u001b[1m828/828\u001b[0m \u001b[32m━━━━━━━━━━━━━━━━━━━━\u001b[0m\u001b[37m\u001b[0m \u001b[1m16s\u001b[0m 20ms/step - Brier score: 0.0020 - accuracy: 0.9977 - auc: 0.9001 - cross entropy: 0.0103 - fn: 1782.1749 - fp: 230.2690 - loss: 0.0103 - prc: 0.6019 - precision: 0.8407 - recall: 0.4159 - tn: 846682.8750 - tp: 1217.7104 - val_Brier score: 0.0020 - val_accuracy: 0.9975 - val_auc: 0.9062 - val_cross entropy: 0.0101 - val_fn: 1077.0000 - val_fp: 0.0000e+00 - val_loss: 0.0101 - val_prc: 0.6647 - val_precision: 1.0000 - val_recall: 0.2806 - val_tn: 421974.0000 - val_tp: 420.0000\n",
            "Epoch 53/100\n",
            "\u001b[1m828/828\u001b[0m \u001b[32m━━━━━━━━━━━━━━━━━━━━\u001b[0m\u001b[37m\u001b[0m \u001b[1m20s\u001b[0m 19ms/step - Brier score: 0.0020 - accuracy: 0.9976 - auc: 0.8969 - cross entropy: 0.0105 - fn: 1818.8866 - fp: 234.2232 - loss: 0.0105 - prc: 0.5982 - precision: 0.8393 - recall: 0.4074 - tn: 846639.3750 - tp: 1220.5730 - val_Brier score: 0.0019 - val_accuracy: 0.9976 - val_auc: 0.9058 - val_cross entropy: 0.0098 - val_fn: 1009.0000 - val_fp: 2.0000 - val_loss: 0.0098 - val_prc: 0.6697 - val_precision: 0.9959 - val_recall: 0.3260 - val_tn: 421972.0000 - val_tp: 488.0000\n",
            "Epoch 54/100\n",
            "\u001b[1m828/828\u001b[0m \u001b[32m━━━━━━━━━━━━━━━━━━━━\u001b[0m\u001b[37m\u001b[0m \u001b[1m21s\u001b[0m 19ms/step - Brier score: 0.0020 - accuracy: 0.9976 - auc: 0.8960 - cross entropy: 0.0105 - fn: 1786.1171 - fp: 228.9071 - loss: 0.0105 - prc: 0.6018 - precision: 0.8410 - recall: 0.4126 - tn: 846654.5625 - tp: 1243.4366 - val_Brier score: 0.0020 - val_accuracy: 0.9974 - val_auc: 0.9070 - val_cross entropy: 0.0101 - val_fn: 1090.0000 - val_fp: 0.0000e+00 - val_loss: 0.0101 - val_prc: 0.6727 - val_precision: 1.0000 - val_recall: 0.2719 - val_tn: 421974.0000 - val_tp: 407.0000\n",
            "Epoch 55/100\n",
            "\u001b[1m828/828\u001b[0m \u001b[32m━━━━━━━━━━━━━━━━━━━━\u001b[0m\u001b[37m\u001b[0m \u001b[1m16s\u001b[0m 19ms/step - Brier score: 0.0020 - accuracy: 0.9977 - auc: 0.8961 - cross entropy: 0.0105 - fn: 1761.4885 - fp: 216.4246 - loss: 0.0105 - prc: 0.6012 - precision: 0.8601 - recall: 0.4165 - tn: 846662.0625 - tp: 1273.0760 - val_Brier score: 0.0021 - val_accuracy: 0.9973 - val_auc: 0.9050 - val_cross entropy: 0.0103 - val_fn: 1125.0000 - val_fp: 0.0000e+00 - val_loss: 0.0103 - val_prc: 0.6730 - val_precision: 1.0000 - val_recall: 0.2485 - val_tn: 421974.0000 - val_tp: 372.0000\n",
            "Epoch 56/100\n",
            "\u001b[1m828/828\u001b[0m \u001b[32m━━━━━━━━━━━━━━━━━━━━\u001b[0m\u001b[37m\u001b[0m \u001b[1m16s\u001b[0m 19ms/step - Brier score: 0.0020 - accuracy: 0.9977 - auc: 0.8962 - cross entropy: 0.0105 - fn: 1782.7045 - fp: 207.8299 - loss: 0.0105 - prc: 0.5962 - precision: 0.8625 - recall: 0.4110 - tn: 846681.3750 - tp: 1241.1302 - val_Brier score: 0.0020 - val_accuracy: 0.9975 - val_auc: 0.9048 - val_cross entropy: 0.0099 - val_fn: 1042.0000 - val_fp: 0.0000e+00 - val_loss: 0.0099 - val_prc: 0.6785 - val_precision: 1.0000 - val_recall: 0.3039 - val_tn: 421974.0000 - val_tp: 455.0000\n",
            "Epoch 57/100\n",
            "\u001b[1m828/828\u001b[0m \u001b[32m━━━━━━━━━━━━━━━━━━━━\u001b[0m\u001b[37m\u001b[0m \u001b[1m16s\u001b[0m 19ms/step - Brier score: 0.0020 - accuracy: 0.9977 - auc: 0.9012 - cross entropy: 0.0103 - fn: 1752.6514 - fp: 244.6417 - loss: 0.0103 - prc: 0.6081 - precision: 0.8434 - recall: 0.4198 - tn: 846644.0625 - tp: 1271.6996 - val_Brier score: 0.0020 - val_accuracy: 0.9975 - val_auc: 0.9087 - val_cross entropy: 0.0099 - val_fn: 1044.0000 - val_fp: 0.0000e+00 - val_loss: 0.0099 - val_prc: 0.6864 - val_precision: 1.0000 - val_recall: 0.3026 - val_tn: 421974.0000 - val_tp: 453.0000\n",
            "Epoch 58/100\n",
            "\u001b[1m828/828\u001b[0m \u001b[32m━━━━━━━━━━━━━━━━━━━━\u001b[0m\u001b[37m\u001b[0m \u001b[1m18s\u001b[0m 21ms/step - Brier score: 0.0020 - accuracy: 0.9977 - auc: 0.8976 - cross entropy: 0.0105 - fn: 1763.4235 - fp: 218.3100 - loss: 0.0105 - prc: 0.6027 - precision: 0.8591 - recall: 0.4187 - tn: 846654.6250 - tp: 1276.6635 - val_Brier score: 0.0021 - val_accuracy: 0.9974 - val_auc: 0.9071 - val_cross entropy: 0.0102 - val_fn: 1122.0000 - val_fp: 0.0000e+00 - val_loss: 0.0102 - val_prc: 0.6851 - val_precision: 1.0000 - val_recall: 0.2505 - val_tn: 421974.0000 - val_tp: 375.0000\n",
            "Epoch 59/100\n",
            "\u001b[1m828/828\u001b[0m \u001b[32m━━━━━━━━━━━━━━━━━━━━\u001b[0m\u001b[37m\u001b[0m \u001b[1m18s\u001b[0m 22ms/step - Brier score: 0.0020 - accuracy: 0.9976 - auc: 0.9020 - cross entropy: 0.0105 - fn: 1811.3835 - fp: 231.3341 - loss: 0.0105 - prc: 0.6020 - precision: 0.8455 - recall: 0.4069 - tn: 846625.0000 - tp: 1245.3317 - val_Brier score: 0.0020 - val_accuracy: 0.9974 - val_auc: 0.9074 - val_cross entropy: 0.0100 - val_fn: 1087.0000 - val_fp: 0.0000e+00 - val_loss: 0.0100 - val_prc: 0.6755 - val_precision: 1.0000 - val_recall: 0.2739 - val_tn: 421974.0000 - val_tp: 410.0000\n",
            "Epoch 60/100\n",
            "\u001b[1m828/828\u001b[0m \u001b[32m━━━━━━━━━━━━━━━━━━━━\u001b[0m\u001b[37m\u001b[0m \u001b[1m16s\u001b[0m 19ms/step - Brier score: 0.0020 - accuracy: 0.9976 - auc: 0.8964 - cross entropy: 0.0105 - fn: 1773.1737 - fp: 227.1327 - loss: 0.0105 - prc: 0.5925 - precision: 0.8375 - recall: 0.4083 - tn: 846701.3125 - tp: 1211.4114 - val_Brier score: 0.0020 - val_accuracy: 0.9974 - val_auc: 0.9066 - val_cross entropy: 0.0100 - val_fn: 1099.0000 - val_fp: 0.0000e+00 - val_loss: 0.0100 - val_prc: 0.6822 - val_precision: 1.0000 - val_recall: 0.2659 - val_tn: 421974.0000 - val_tp: 398.0000\n",
            "Epoch 61/100\n",
            "\u001b[1m828/828\u001b[0m \u001b[32m━━━━━━━━━━━━━━━━━━━━\u001b[0m\u001b[37m\u001b[0m \u001b[1m16s\u001b[0m 20ms/step - Brier score: 0.0019 - accuracy: 0.9977 - auc: 0.9032 - cross entropy: 0.0101 - fn: 1723.7889 - fp: 240.8552 - loss: 0.0101 - prc: 0.6136 - precision: 0.8395 - recall: 0.4322 - tn: 846667.4375 - tp: 1280.9916 - val_Brier score: 0.0019 - val_accuracy: 0.9975 - val_auc: 0.9059 - val_cross entropy: 0.0099 - val_fn: 1048.0000 - val_fp: 1.0000 - val_loss: 0.0099 - val_prc: 0.6916 - val_precision: 0.9978 - val_recall: 0.2999 - val_tn: 421973.0000 - val_tp: 449.0000\n",
            "Epoch 62/100\n",
            "\u001b[1m828/828\u001b[0m \u001b[32m━━━━━━━━━━━━━━━━━━━━\u001b[0m\u001b[37m\u001b[0m \u001b[1m22s\u001b[0m 22ms/step - Brier score: 0.0020 - accuracy: 0.9977 - auc: 0.8997 - cross entropy: 0.0103 - fn: 1749.2955 - fp: 224.7057 - loss: 0.0103 - prc: 0.6072 - precision: 0.8487 - recall: 0.4211 - tn: 846672.4375 - tp: 1266.5898 - val_Brier score: 0.0019 - val_accuracy: 0.9977 - val_auc: 0.9065 - val_cross entropy: 0.0097 - val_fn: 962.0000 - val_fp: 0.0000e+00 - val_loss: 0.0097 - val_prc: 0.6953 - val_precision: 1.0000 - val_recall: 0.3574 - val_tn: 421974.0000 - val_tp: 535.0000\n",
            "Epoch 63/100\n",
            "\u001b[1m828/828\u001b[0m \u001b[32m━━━━━━━━━━━━━━━━━━━━\u001b[0m\u001b[37m\u001b[0m \u001b[1m18s\u001b[0m 19ms/step - Brier score: 0.0019 - accuracy: 0.9977 - auc: 0.8986 - cross entropy: 0.0103 - fn: 1730.3848 - fp: 217.5633 - loss: 0.0103 - prc: 0.6033 - precision: 0.8532 - recall: 0.4209 - tn: 846692.2500 - tp: 1272.8275 - val_Brier score: 0.0020 - val_accuracy: 0.9974 - val_auc: 0.9045 - val_cross entropy: 0.0100 - val_fn: 1090.0000 - val_fp: 0.0000e+00 - val_loss: 0.0100 - val_prc: 0.6977 - val_precision: 1.0000 - val_recall: 0.2719 - val_tn: 421974.0000 - val_tp: 407.0000\n",
            "Epoch 64/100\n",
            "\u001b[1m828/828\u001b[0m \u001b[32m━━━━━━━━━━━━━━━━━━━━\u001b[0m\u001b[37m\u001b[0m \u001b[1m16s\u001b[0m 20ms/step - Brier score: 0.0020 - accuracy: 0.9977 - auc: 0.8944 - cross entropy: 0.0105 - fn: 1748.7889 - fp: 215.2340 - loss: 0.0105 - prc: 0.6003 - precision: 0.8571 - recall: 0.4185 - tn: 846691.0000 - tp: 1258.0024 - val_Brier score: 0.0019 - val_accuracy: 0.9976 - val_auc: 0.9067 - val_cross entropy: 0.0097 - val_fn: 1015.0000 - val_fp: 0.0000e+00 - val_loss: 0.0097 - val_prc: 0.6975 - val_precision: 1.0000 - val_recall: 0.3220 - val_tn: 421974.0000 - val_tp: 482.0000\n",
            "Epoch 65/100\n",
            "\u001b[1m828/828\u001b[0m \u001b[32m━━━━━━━━━━━━━━━━━━━━\u001b[0m\u001b[37m\u001b[0m \u001b[1m16s\u001b[0m 19ms/step - Brier score: 0.0020 - accuracy: 0.9976 - auc: 0.8925 - cross entropy: 0.0106 - fn: 1767.8203 - fp: 231.0724 - loss: 0.0106 - prc: 0.5929 - precision: 0.8436 - recall: 0.4090 - tn: 846671.5625 - tp: 1242.5863 - val_Brier score: 0.0019 - val_accuracy: 0.9978 - val_auc: 0.9057 - val_cross entropy: 0.0096 - val_fn: 952.0000 - val_fp: 0.0000e+00 - val_loss: 0.0096 - val_prc: 0.6971 - val_precision: 1.0000 - val_recall: 0.3641 - val_tn: 421974.0000 - val_tp: 545.0000\n",
            "Epoch 66/100\n",
            "\u001b[1m828/828\u001b[0m \u001b[32m━━━━━━━━━━━━━━━━━━━━\u001b[0m\u001b[37m\u001b[0m \u001b[1m17s\u001b[0m 20ms/step - Brier score: 0.0019 - accuracy: 0.9977 - auc: 0.8979 - cross entropy: 0.0102 - fn: 1752.3716 - fp: 222.9988 - loss: 0.0102 - prc: 0.6048 - precision: 0.8424 - recall: 0.4152 - tn: 846701.5000 - tp: 1236.1858 - val_Brier score: 0.0019 - val_accuracy: 0.9977 - val_auc: 0.9057 - val_cross entropy: 0.0096 - val_fn: 953.0000 - val_fp: 0.0000e+00 - val_loss: 0.0096 - val_prc: 0.6924 - val_precision: 1.0000 - val_recall: 0.3634 - val_tn: 421974.0000 - val_tp: 544.0000\n",
            "Epoch 67/100\n",
            "\u001b[1m828/828\u001b[0m \u001b[32m━━━━━━━━━━━━━━━━━━━━\u001b[0m\u001b[37m\u001b[0m \u001b[1m21s\u001b[0m 20ms/step - Brier score: 0.0019 - accuracy: 0.9977 - auc: 0.8978 - cross entropy: 0.0103 - fn: 1724.6345 - fp: 215.3643 - loss: 0.0103 - prc: 0.6109 - precision: 0.8573 - recall: 0.4358 - tn: 846658.6875 - tp: 1314.3763 - val_Brier score: 0.0020 - val_accuracy: 0.9975 - val_auc: 0.9020 - val_cross entropy: 0.0099 - val_fn: 1062.0000 - val_fp: 0.0000e+00 - val_loss: 0.0099 - val_prc: 0.6925 - val_precision: 1.0000 - val_recall: 0.2906 - val_tn: 421974.0000 - val_tp: 435.0000\n",
            "Epoch 68/100\n",
            "\u001b[1m828/828\u001b[0m \u001b[32m━━━━━━━━━━━━━━━━━━━━\u001b[0m\u001b[37m\u001b[0m \u001b[1m16s\u001b[0m 20ms/step - Brier score: 0.0019 - accuracy: 0.9978 - auc: 0.9020 - cross entropy: 0.0099 - fn: 1679.0543 - fp: 232.1556 - loss: 0.0099 - prc: 0.6273 - precision: 0.8530 - recall: 0.4458 - tn: 846678.0625 - tp: 1323.7986 - val_Brier score: 0.0018 - val_accuracy: 0.9979 - val_auc: 0.9074 - val_cross entropy: 0.0094 - val_fn: 895.0000 - val_fp: 2.0000 - val_loss: 0.0094 - val_prc: 0.6954 - val_precision: 0.9967 - val_recall: 0.4021 - val_tn: 421972.0000 - val_tp: 602.0000\n",
            "Epoch 69/100\n",
            "\u001b[1m828/828\u001b[0m \u001b[32m━━━━━━━━━━━━━━━━━━━━\u001b[0m\u001b[37m\u001b[0m \u001b[1m16s\u001b[0m 20ms/step - Brier score: 0.0019 - accuracy: 0.9977 - auc: 0.9033 - cross entropy: 0.0102 - fn: 1717.9409 - fp: 228.4716 - loss: 0.0102 - prc: 0.6173 - precision: 0.8549 - recall: 0.4397 - tn: 846637.8750 - tp: 1328.7383 - val_Brier score: 0.0018 - val_accuracy: 0.9978 - val_auc: 0.9054 - val_cross entropy: 0.0095 - val_fn: 949.0000 - val_fp: 0.0000e+00 - val_loss: 0.0095 - val_prc: 0.7077 - val_precision: 1.0000 - val_recall: 0.3661 - val_tn: 421974.0000 - val_tp: 548.0000\n",
            "Epoch 70/100\n",
            "\u001b[1m828/828\u001b[0m \u001b[32m━━━━━━━━━━━━━━━━━━━━\u001b[0m\u001b[37m\u001b[0m \u001b[1m18s\u001b[0m 21ms/step - Brier score: 0.0019 - accuracy: 0.9978 - auc: 0.8957 - cross entropy: 0.0103 - fn: 1714.4524 - fp: 212.9156 - loss: 0.0103 - prc: 0.6127 - precision: 0.8615 - recall: 0.4358 - tn: 846659.2500 - tp: 1326.4222 - val_Brier score: 0.0019 - val_accuracy: 0.9977 - val_auc: 0.9024 - val_cross entropy: 0.0097 - val_fn: 968.0000 - val_fp: 0.0000e+00 - val_loss: 0.0097 - val_prc: 0.7070 - val_precision: 1.0000 - val_recall: 0.3534 - val_tn: 421974.0000 - val_tp: 529.0000\n",
            "Epoch 71/100\n",
            "\u001b[1m828/828\u001b[0m \u001b[32m━━━━━━━━━━━━━━━━━━━━\u001b[0m\u001b[37m\u001b[0m \u001b[1m17s\u001b[0m 20ms/step - Brier score: 0.0019 - accuracy: 0.9977 - auc: 0.8957 - cross entropy: 0.0103 - fn: 1707.2557 - fp: 207.4873 - loss: 0.0103 - prc: 0.6173 - precision: 0.8636 - recall: 0.4324 - tn: 846680.0625 - tp: 1318.2629 - val_Brier score: 0.0020 - val_accuracy: 0.9974 - val_auc: 0.9024 - val_cross entropy: 0.0098 - val_fn: 1084.0000 - val_fp: 0.0000e+00 - val_loss: 0.0098 - val_prc: 0.7026 - val_precision: 1.0000 - val_recall: 0.2759 - val_tn: 421974.0000 - val_tp: 413.0000\n",
            "Epoch 72/100\n",
            "\u001b[1m828/828\u001b[0m \u001b[32m━━━━━━━━━━━━━━━━━━━━\u001b[0m\u001b[37m\u001b[0m \u001b[1m20s\u001b[0m 19ms/step - Brier score: 0.0019 - accuracy: 0.9977 - auc: 0.9007 - cross entropy: 0.0102 - fn: 1693.3004 - fp: 230.1785 - loss: 0.0102 - prc: 0.6248 - precision: 0.8579 - recall: 0.4494 - tn: 846641.5625 - tp: 1347.9783 - val_Brier score: 0.0018 - val_accuracy: 0.9978 - val_auc: 0.9016 - val_cross entropy: 0.0095 - val_fn: 947.0000 - val_fp: 0.0000e+00 - val_loss: 0.0095 - val_prc: 0.7107 - val_precision: 1.0000 - val_recall: 0.3674 - val_tn: 421974.0000 - val_tp: 550.0000\n",
            "Epoch 73/100\n",
            "\u001b[1m828/828\u001b[0m \u001b[32m━━━━━━━━━━━━━━━━━━━━\u001b[0m\u001b[37m\u001b[0m \u001b[1m16s\u001b[0m 20ms/step - Brier score: 0.0019 - accuracy: 0.9978 - auc: 0.8999 - cross entropy: 0.0102 - fn: 1684.2919 - fp: 230.6369 - loss: 0.0102 - prc: 0.6303 - precision: 0.8580 - recall: 0.4586 - tn: 846623.3750 - tp: 1374.7551 - val_Brier score: 0.0018 - val_accuracy: 0.9977 - val_auc: 0.9047 - val_cross entropy: 0.0095 - val_fn: 966.0000 - val_fp: 0.0000e+00 - val_loss: 0.0095 - val_prc: 0.7086 - val_precision: 1.0000 - val_recall: 0.3547 - val_tn: 421974.0000 - val_tp: 531.0000\n",
            "Epoch 74/100\n",
            "\u001b[1m828/828\u001b[0m \u001b[32m━━━━━━━━━━━━━━━━━━━━\u001b[0m\u001b[37m\u001b[0m \u001b[1m20s\u001b[0m 20ms/step - Brier score: 0.0019 - accuracy: 0.9978 - auc: 0.8971 - cross entropy: 0.0103 - fn: 1681.7539 - fp: 215.8022 - loss: 0.0103 - prc: 0.6256 - precision: 0.8663 - recall: 0.4530 - tn: 846664.1875 - tp: 1351.3245 - val_Brier score: 0.0021 - val_accuracy: 0.9973 - val_auc: 0.9060 - val_cross entropy: 0.0101 - val_fn: 1151.0000 - val_fp: 0.0000e+00 - val_loss: 0.0101 - val_prc: 0.7060 - val_precision: 1.0000 - val_recall: 0.2311 - val_tn: 421974.0000 - val_tp: 346.0000\n",
            "Epoch 75/100\n",
            "\u001b[1m828/828\u001b[0m \u001b[32m━━━━━━━━━━━━━━━━━━━━\u001b[0m\u001b[37m\u001b[0m \u001b[1m17s\u001b[0m 20ms/step - Brier score: 0.0019 - accuracy: 0.9978 - auc: 0.9016 - cross entropy: 0.0100 - fn: 1660.3896 - fp: 241.9819 - loss: 0.0100 - prc: 0.6341 - precision: 0.8514 - recall: 0.4571 - tn: 846626.1250 - tp: 1384.5392 - val_Brier score: 0.0019 - val_accuracy: 0.9976 - val_auc: 0.9074 - val_cross entropy: 0.0096 - val_fn: 1025.0000 - val_fp: 0.0000e+00 - val_loss: 0.0096 - val_prc: 0.7097 - val_precision: 1.0000 - val_recall: 0.3153 - val_tn: 421974.0000 - val_tp: 472.0000\n",
            "Epoch 76/100\n",
            "\u001b[1m828/828\u001b[0m \u001b[32m━━━━━━━━━━━━━━━━━━━━\u001b[0m\u001b[37m\u001b[0m \u001b[1m20s\u001b[0m 19ms/step - Brier score: 0.0019 - accuracy: 0.9978 - auc: 0.8999 - cross entropy: 0.0102 - fn: 1686.7443 - fp: 215.0977 - loss: 0.0102 - prc: 0.6184 - precision: 0.8655 - recall: 0.4432 - tn: 846654.9375 - tp: 1356.2485 - val_Brier score: 0.0018 - val_accuracy: 0.9978 - val_auc: 0.9033 - val_cross entropy: 0.0094 - val_fn: 920.0000 - val_fp: 0.0000e+00 - val_loss: 0.0094 - val_prc: 0.7100 - val_precision: 1.0000 - val_recall: 0.3854 - val_tn: 421974.0000 - val_tp: 577.0000\n",
            "Epoch 77/100\n",
            "\u001b[1m828/828\u001b[0m \u001b[32m━━━━━━━━━━━━━━━━━━━━\u001b[0m\u001b[37m\u001b[0m \u001b[1m17s\u001b[0m 20ms/step - Brier score: 0.0020 - accuracy: 0.9977 - auc: 0.9013 - cross entropy: 0.0104 - fn: 1692.0687 - fp: 222.7503 - loss: 0.0104 - prc: 0.6293 - precision: 0.8615 - recall: 0.4531 - tn: 846605.8750 - tp: 1392.3317 - val_Brier score: 0.0019 - val_accuracy: 0.9976 - val_auc: 0.9068 - val_cross entropy: 0.0095 - val_fn: 1030.0000 - val_fp: 0.0000e+00 - val_loss: 0.0095 - val_prc: 0.7126 - val_precision: 1.0000 - val_recall: 0.3120 - val_tn: 421974.0000 - val_tp: 467.0000\n",
            "Epoch 78/100\n",
            "\u001b[1m828/828\u001b[0m \u001b[32m━━━━━━━━━━━━━━━━━━━━\u001b[0m\u001b[37m\u001b[0m \u001b[1m20s\u001b[0m 19ms/step - Brier score: 0.0019 - accuracy: 0.9977 - auc: 0.8979 - cross entropy: 0.0103 - fn: 1660.8033 - fp: 220.3088 - loss: 0.0103 - prc: 0.6239 - precision: 0.8588 - recall: 0.4489 - tn: 846654.3125 - tp: 1377.6249 - val_Brier score: 0.0018 - val_accuracy: 0.9977 - val_auc: 0.9025 - val_cross entropy: 0.0095 - val_fn: 984.0000 - val_fp: 0.0000e+00 - val_loss: 0.0095 - val_prc: 0.7169 - val_precision: 1.0000 - val_recall: 0.3427 - val_tn: 421974.0000 - val_tp: 513.0000\n",
            "Epoch 79/100\n",
            "\u001b[1m828/828\u001b[0m \u001b[32m━━━━━━━━━━━━━━━━━━━━\u001b[0m\u001b[37m\u001b[0m \u001b[1m16s\u001b[0m 20ms/step - Brier score: 0.0019 - accuracy: 0.9978 - auc: 0.8943 - cross entropy: 0.0101 - fn: 1650.7877 - fp: 233.2931 - loss: 0.0101 - prc: 0.6257 - precision: 0.8596 - recall: 0.4544 - tn: 846655.1875 - tp: 1373.7816 - val_Brier score: 0.0019 - val_accuracy: 0.9975 - val_auc: 0.9037 - val_cross entropy: 0.0097 - val_fn: 1060.0000 - val_fp: 0.0000e+00 - val_loss: 0.0097 - val_prc: 0.7104 - val_precision: 1.0000 - val_recall: 0.2919 - val_tn: 421974.0000 - val_tp: 437.0000\n",
            "Epoch 80/100\n",
            "\u001b[1m828/828\u001b[0m \u001b[32m━━━━━━━━━━━━━━━━━━━━\u001b[0m\u001b[37m\u001b[0m \u001b[1m19s\u001b[0m 23ms/step - Brier score: 0.0019 - accuracy: 0.9978 - auc: 0.8980 - cross entropy: 0.0102 - fn: 1644.6165 - fp: 241.4475 - loss: 0.0102 - prc: 0.6269 - precision: 0.8527 - recall: 0.4626 - tn: 846641.0000 - tp: 1385.9735 - val_Brier score: 0.0018 - val_accuracy: 0.9978 - val_auc: 0.9028 - val_cross entropy: 0.0095 - val_fn: 945.0000 - val_fp: 0.0000e+00 - val_loss: 0.0095 - val_prc: 0.7193 - val_precision: 1.0000 - val_recall: 0.3687 - val_tn: 421974.0000 - val_tp: 552.0000\n",
            "Epoch 81/100\n",
            "\u001b[1m828/828\u001b[0m \u001b[32m━━━━━━━━━━━━━━━━━━━━\u001b[0m\u001b[37m\u001b[0m \u001b[1m18s\u001b[0m 20ms/step - Brier score: 0.0019 - accuracy: 0.9978 - auc: 0.9009 - cross entropy: 0.0099 - fn: 1631.9976 - fp: 240.5995 - loss: 0.0099 - prc: 0.6345 - precision: 0.8513 - recall: 0.4607 - tn: 846656.0000 - tp: 1384.4282 - val_Brier score: 0.0017 - val_accuracy: 0.9981 - val_auc: 0.9027 - val_cross entropy: 0.0092 - val_fn: 808.0000 - val_fp: 1.0000 - val_loss: 0.0092 - val_prc: 0.7149 - val_precision: 0.9986 - val_recall: 0.4603 - val_tn: 421973.0000 - val_tp: 689.0000\n",
            "Epoch 82/100\n",
            "\u001b[1m828/828\u001b[0m \u001b[32m━━━━━━━━━━━━━━━━━━━━\u001b[0m\u001b[37m\u001b[0m \u001b[1m19s\u001b[0m 23ms/step - Brier score: 0.0019 - accuracy: 0.9978 - auc: 0.8953 - cross entropy: 0.0101 - fn: 1635.0447 - fp: 242.1616 - loss: 0.0101 - prc: 0.6222 - precision: 0.8428 - recall: 0.4539 - tn: 846641.9375 - tp: 1393.8962 - val_Brier score: 0.0019 - val_accuracy: 0.9974 - val_auc: 0.9043 - val_cross entropy: 0.0097 - val_fn: 1097.0000 - val_fp: 0.0000e+00 - val_loss: 0.0097 - val_prc: 0.7185 - val_precision: 1.0000 - val_recall: 0.2672 - val_tn: 421974.0000 - val_tp: 400.0000\n",
            "Epoch 83/100\n",
            "\u001b[1m828/828\u001b[0m \u001b[32m━━━━━━━━━━━━━━━━━━━━\u001b[0m\u001b[37m\u001b[0m \u001b[1m16s\u001b[0m 20ms/step - Brier score: 0.0019 - accuracy: 0.9978 - auc: 0.8972 - cross entropy: 0.0102 - fn: 1619.5151 - fp: 232.0169 - loss: 0.0102 - prc: 0.6294 - precision: 0.8579 - recall: 0.4613 - tn: 846657.6250 - tp: 1403.8636 - val_Brier score: 0.0018 - val_accuracy: 0.9977 - val_auc: 0.9034 - val_cross entropy: 0.0094 - val_fn: 964.0000 - val_fp: 1.0000 - val_loss: 0.0094 - val_prc: 0.7191 - val_precision: 0.9981 - val_recall: 0.3560 - val_tn: 421973.0000 - val_tp: 533.0000\n",
            "Epoch 84/100\n",
            "\u001b[1m828/828\u001b[0m \u001b[32m━━━━━━━━━━━━━━━━━━━━\u001b[0m\u001b[37m\u001b[0m \u001b[1m17s\u001b[0m 20ms/step - Brier score: 0.0019 - accuracy: 0.9979 - auc: 0.8958 - cross entropy: 0.0101 - fn: 1608.5995 - fp: 207.0289 - loss: 0.0101 - prc: 0.6235 - precision: 0.8728 - recall: 0.4563 - tn: 846714.9375 - tp: 1382.4633 - val_Brier score: 0.0018 - val_accuracy: 0.9978 - val_auc: 0.9070 - val_cross entropy: 0.0093 - val_fn: 933.0000 - val_fp: 0.0000e+00 - val_loss: 0.0093 - val_prc: 0.7283 - val_precision: 1.0000 - val_recall: 0.3768 - val_tn: 421974.0000 - val_tp: 564.0000\n",
            "Epoch 85/100\n",
            "\u001b[1m828/828\u001b[0m \u001b[32m━━━━━━━━━━━━━━━━━━━━\u001b[0m\u001b[37m\u001b[0m \u001b[1m20s\u001b[0m 19ms/step - Brier score: 0.0019 - accuracy: 0.9978 - auc: 0.8931 - cross entropy: 0.0102 - fn: 1613.2400 - fp: 233.4234 - loss: 0.0102 - prc: 0.6218 - precision: 0.8484 - recall: 0.4581 - tn: 846680.8125 - tp: 1385.5851 - val_Brier score: 0.0017 - val_accuracy: 0.9980 - val_auc: 0.9039 - val_cross entropy: 0.0091 - val_fn: 854.0000 - val_fp: 0.0000e+00 - val_loss: 0.0091 - val_prc: 0.7264 - val_precision: 1.0000 - val_recall: 0.4295 - val_tn: 421974.0000 - val_tp: 643.0000\n",
            "Epoch 86/100\n",
            "\u001b[1m828/828\u001b[0m \u001b[32m━━━━━━━━━━━━━━━━━━━━\u001b[0m\u001b[37m\u001b[0m \u001b[1m21s\u001b[0m 20ms/step - Brier score: 0.0018 - accuracy: 0.9980 - auc: 0.9003 - cross entropy: 0.0096 - fn: 1524.9167 - fp: 226.4692 - loss: 0.0096 - prc: 0.6423 - precision: 0.8654 - recall: 0.4922 - tn: 846706.5000 - tp: 1455.1436 - val_Brier score: 0.0017 - val_accuracy: 0.9980 - val_auc: 0.9061 - val_cross entropy: 0.0091 - val_fn: 840.0000 - val_fp: 0.0000e+00 - val_loss: 0.0091 - val_prc: 0.7232 - val_precision: 1.0000 - val_recall: 0.4389 - val_tn: 421974.0000 - val_tp: 657.0000\n",
            "Epoch 87/100\n",
            "\u001b[1m828/828\u001b[0m \u001b[32m━━━━━━━━━━━━━━━━━━━━\u001b[0m\u001b[37m\u001b[0m \u001b[1m23s\u001b[0m 22ms/step - Brier score: 0.0018 - accuracy: 0.9979 - auc: 0.9006 - cross entropy: 0.0098 - fn: 1575.8251 - fp: 224.8697 - loss: 0.0098 - prc: 0.6357 - precision: 0.8614 - recall: 0.4818 - tn: 846705.0625 - tp: 1407.3052 - val_Brier score: 0.0018 - val_accuracy: 0.9980 - val_auc: 0.9011 - val_cross entropy: 0.0094 - val_fn: 866.0000 - val_fp: 0.0000e+00 - val_loss: 0.0094 - val_prc: 0.7191 - val_precision: 1.0000 - val_recall: 0.4215 - val_tn: 421974.0000 - val_tp: 631.0000\n",
            "Epoch 88/100\n",
            "\u001b[1m828/828\u001b[0m \u001b[32m━━━━━━━━━━━━━━━━━━━━\u001b[0m\u001b[37m\u001b[0m \u001b[1m19s\u001b[0m 20ms/step - Brier score: 0.0018 - accuracy: 0.9979 - auc: 0.8990 - cross entropy: 0.0097 - fn: 1542.7383 - fp: 220.3305 - loss: 0.0097 - prc: 0.6543 - precision: 0.8691 - recall: 0.4893 - tn: 846673.8125 - tp: 1476.1833 - val_Brier score: 0.0018 - val_accuracy: 0.9978 - val_auc: 0.9002 - val_cross entropy: 0.0096 - val_fn: 928.0000 - val_fp: 0.0000e+00 - val_loss: 0.0096 - val_prc: 0.7183 - val_precision: 1.0000 - val_recall: 0.3801 - val_tn: 421974.0000 - val_tp: 569.0000\n",
            "Epoch 89/100\n",
            "\u001b[1m828/828\u001b[0m \u001b[32m━━━━━━━━━━━━━━━━━━━━\u001b[0m\u001b[37m\u001b[0m \u001b[1m20s\u001b[0m 20ms/step - Brier score: 0.0019 - accuracy: 0.9978 - auc: 0.8926 - cross entropy: 0.0105 - fn: 1658.5525 - fp: 240.2606 - loss: 0.0105 - prc: 0.6158 - precision: 0.8531 - recall: 0.4527 - tn: 846637.6250 - tp: 1376.6007 - val_Brier score: 0.0017 - val_accuracy: 0.9980 - val_auc: 0.9053 - val_cross entropy: 0.0089 - val_fn: 830.0000 - val_fp: 0.0000e+00 - val_loss: 0.0089 - val_prc: 0.7348 - val_precision: 1.0000 - val_recall: 0.4456 - val_tn: 421974.0000 - val_tp: 667.0000\n",
            "Epoch 90/100\n",
            "\u001b[1m828/828\u001b[0m \u001b[32m━━━━━━━━━━━━━━━━━━━━\u001b[0m\u001b[37m\u001b[0m \u001b[1m21s\u001b[0m 20ms/step - Brier score: 0.0018 - accuracy: 0.9979 - auc: 0.8967 - cross entropy: 0.0100 - fn: 1552.1641 - fp: 230.2666 - loss: 0.0100 - prc: 0.6289 - precision: 0.8591 - recall: 0.4804 - tn: 846676.1875 - tp: 1454.4403 - val_Brier score: 0.0017 - val_accuracy: 0.9981 - val_auc: 0.9057 - val_cross entropy: 0.0090 - val_fn: 818.0000 - val_fp: 6.0000 - val_loss: 0.0090 - val_prc: 0.7228 - val_precision: 0.9912 - val_recall: 0.4536 - val_tn: 421968.0000 - val_tp: 679.0000\n",
            "Epoch 91/100\n",
            "\u001b[1m828/828\u001b[0m \u001b[32m━━━━━━━━━━━━━━━━━━━━\u001b[0m\u001b[37m\u001b[0m \u001b[1m20s\u001b[0m 20ms/step - Brier score: 0.0018 - accuracy: 0.9979 - auc: 0.9004 - cross entropy: 0.0098 - fn: 1549.0302 - fp: 217.4548 - loss: 0.0098 - prc: 0.6493 - precision: 0.8723 - recall: 0.4937 - tn: 846665.6250 - tp: 1480.9264 - val_Brier score: 0.0019 - val_accuracy: 0.9975 - val_auc: 0.9048 - val_cross entropy: 0.0094 - val_fn: 1058.0000 - val_fp: 0.0000e+00 - val_loss: 0.0094 - val_prc: 0.7238 - val_precision: 1.0000 - val_recall: 0.2933 - val_tn: 421974.0000 - val_tp: 439.0000\n",
            "Epoch 92/100\n",
            "\u001b[1m828/828\u001b[0m \u001b[32m━━━━━━━━━━━━━━━━━━━━\u001b[0m\u001b[37m\u001b[0m \u001b[1m20s\u001b[0m 24ms/step - Brier score: 0.0018 - accuracy: 0.9979 - auc: 0.8957 - cross entropy: 0.0098 - fn: 1535.8649 - fp: 229.5645 - loss: 0.0098 - prc: 0.6418 - precision: 0.8586 - recall: 0.4854 - tn: 846691.6250 - tp: 1456.0096 - val_Brier score: 0.0016 - val_accuracy: 0.9981 - val_auc: 0.9065 - val_cross entropy: 0.0088 - val_fn: 807.0000 - val_fp: 6.0000 - val_loss: 0.0088 - val_prc: 0.7257 - val_precision: 0.9914 - val_recall: 0.4609 - val_tn: 421968.0000 - val_tp: 690.0000\n",
            "Epoch 93/100\n",
            "\u001b[1m828/828\u001b[0m \u001b[32m━━━━━━━━━━━━━━━━━━━━\u001b[0m\u001b[37m\u001b[0m \u001b[1m17s\u001b[0m 20ms/step - Brier score: 0.0018 - accuracy: 0.9979 - auc: 0.8978 - cross entropy: 0.0099 - fn: 1562.2159 - fp: 232.9324 - loss: 0.0099 - prc: 0.6402 - precision: 0.8621 - recall: 0.4880 - tn: 846647.5000 - tp: 1470.4102 - val_Brier score: 0.0018 - val_accuracy: 0.9977 - val_auc: 0.9017 - val_cross entropy: 0.0094 - val_fn: 978.0000 - val_fp: 0.0000e+00 - val_loss: 0.0094 - val_prc: 0.7254 - val_precision: 1.0000 - val_recall: 0.3467 - val_tn: 421974.0000 - val_tp: 519.0000\n",
            "Epoch 94/100\n",
            "\u001b[1m828/828\u001b[0m \u001b[32m━━━━━━━━━━━━━━━━━━━━\u001b[0m\u001b[37m\u001b[0m \u001b[1m17s\u001b[0m 20ms/step - Brier score: 0.0017 - accuracy: 0.9980 - auc: 0.9020 - cross entropy: 0.0095 - fn: 1512.9723 - fp: 214.7563 - loss: 0.0095 - prc: 0.6559 - precision: 0.8776 - recall: 0.4989 - tn: 846693.4375 - tp: 1491.8829 - val_Brier score: 0.0018 - val_accuracy: 0.9977 - val_auc: 0.9054 - val_cross entropy: 0.0092 - val_fn: 962.0000 - val_fp: 0.0000e+00 - val_loss: 0.0092 - val_prc: 0.7346 - val_precision: 1.0000 - val_recall: 0.3574 - val_tn: 421974.0000 - val_tp: 535.0000\n",
            "Epoch 95/100\n",
            "\u001b[1m828/828\u001b[0m \u001b[32m━━━━━━━━━━━━━━━━━━━━\u001b[0m\u001b[37m\u001b[0m \u001b[1m16s\u001b[0m 20ms/step - Brier score: 0.0018 - accuracy: 0.9979 - auc: 0.8976 - cross entropy: 0.0098 - fn: 1536.7467 - fp: 227.1532 - loss: 0.0098 - prc: 0.6411 - precision: 0.8665 - recall: 0.4783 - tn: 846693.2500 - tp: 1455.9059 - val_Brier score: 0.0016 - val_accuracy: 0.9981 - val_auc: 0.9040 - val_cross entropy: 0.0090 - val_fn: 796.0000 - val_fp: 0.0000e+00 - val_loss: 0.0090 - val_prc: 0.7251 - val_precision: 1.0000 - val_recall: 0.4683 - val_tn: 421974.0000 - val_tp: 701.0000\n",
            "Epoch 96/100\n",
            "\u001b[1m828/828\u001b[0m \u001b[32m━━━━━━━━━━━━━━━━━━━━\u001b[0m\u001b[37m\u001b[0m \u001b[1m21s\u001b[0m 20ms/step - Brier score: 0.0018 - accuracy: 0.9979 - auc: 0.9010 - cross entropy: 0.0098 - fn: 1531.6514 - fp: 227.1532 - loss: 0.0098 - prc: 0.6511 - precision: 0.8703 - recall: 0.4946 - tn: 846646.7500 - tp: 1507.4633 - val_Brier score: 0.0018 - val_accuracy: 0.9978 - val_auc: 0.9059 - val_cross entropy: 0.0092 - val_fn: 918.0000 - val_fp: 0.0000e+00 - val_loss: 0.0092 - val_prc: 0.7313 - val_precision: 1.0000 - val_recall: 0.3868 - val_tn: 421974.0000 - val_tp: 579.0000\n",
            "Epoch 97/100\n",
            "\u001b[1m828/828\u001b[0m \u001b[32m━━━━━━━━━━━━━━━━━━━━\u001b[0m\u001b[37m\u001b[0m \u001b[1m20s\u001b[0m 20ms/step - Brier score: 0.0018 - accuracy: 0.9979 - auc: 0.8946 - cross entropy: 0.0101 - fn: 1545.2280 - fp: 239.9916 - loss: 0.0101 - prc: 0.6307 - precision: 0.8527 - recall: 0.4847 - tn: 846660.1875 - tp: 1467.6405 - val_Brier score: 0.0016 - val_accuracy: 0.9981 - val_auc: 0.9043 - val_cross entropy: 0.0089 - val_fn: 797.0000 - val_fp: 1.0000 - val_loss: 0.0089 - val_prc: 0.7333 - val_precision: 0.9986 - val_recall: 0.4676 - val_tn: 421973.0000 - val_tp: 700.0000\n",
            "Epoch 98/100\n",
            "\u001b[1m828/828\u001b[0m \u001b[32m━━━━━━━━━━━━━━━━━━━━\u001b[0m\u001b[37m\u001b[0m \u001b[1m17s\u001b[0m 20ms/step - Brier score: 0.0018 - accuracy: 0.9979 - auc: 0.8964 - cross entropy: 0.0098 - fn: 1532.0289 - fp: 221.9928 - loss: 0.0098 - prc: 0.6442 - precision: 0.8668 - recall: 0.4874 - tn: 846700.3125 - tp: 1458.7069 - val_Brier score: 0.0017 - val_accuracy: 0.9980 - val_auc: 0.9019 - val_cross entropy: 0.0092 - val_fn: 827.0000 - val_fp: 0.0000e+00 - val_loss: 0.0092 - val_prc: 0.7270 - val_precision: 1.0000 - val_recall: 0.4476 - val_tn: 421974.0000 - val_tp: 670.0000\n",
            "Epoch 99/100\n",
            "\u001b[1m828/828\u001b[0m \u001b[32m━━━━━━━━━━━━━━━━━━━━\u001b[0m\u001b[37m\u001b[0m \u001b[1m20s\u001b[0m 20ms/step - Brier score: 0.0018 - accuracy: 0.9979 - auc: 0.9013 - cross entropy: 0.0096 - fn: 1527.8903 - fp: 221.9300 - loss: 0.0096 - prc: 0.6559 - precision: 0.8721 - recall: 0.4945 - tn: 846662.4375 - tp: 1500.7588 - val_Brier score: 0.0016 - val_accuracy: 0.9981 - val_auc: 0.9058 - val_cross entropy: 0.0090 - val_fn: 804.0000 - val_fp: 3.0000 - val_loss: 0.0090 - val_prc: 0.7315 - val_precision: 0.9957 - val_recall: 0.4629 - val_tn: 421971.0000 - val_tp: 693.0000\n",
            "Epoch 100/100\n",
            "\u001b[1m828/828\u001b[0m \u001b[32m━━━━━━━━━━━━━━━━━━━━\u001b[0m\u001b[37m\u001b[0m \u001b[1m21s\u001b[0m 20ms/step - Brier score: 0.0018 - accuracy: 0.9979 - auc: 0.8973 - cross entropy: 0.0097 - fn: 1511.3630 - fp: 229.8082 - loss: 0.0097 - prc: 0.6389 - precision: 0.8561 - recall: 0.4851 - tn: 846721.8750 - tp: 1450.0133 - val_Brier score: 0.0016 - val_accuracy: 0.9982 - val_auc: 0.9032 - val_cross entropy: 0.0089 - val_fn: 780.0000 - val_fp: 1.0000 - val_loss: 0.0089 - val_prc: 0.7340 - val_precision: 0.9986 - val_recall: 0.4790 - val_tn: 421973.0000 - val_tp: 717.0000\n",
            "Restoring model weights from the end of the best epoch: 100.\n"
          ]
        }
      ]
    },
    {
      "cell_type": "code",
      "source": [
        "train_predictions_baseline = model.predict(train_features, batch_size=BATCH_SIZE)\n",
        "test_predictions_baseline = model.predict(test_features, batch_size=BATCH_SIZE)"
      ],
      "metadata": {
        "colab": {
          "base_uri": "https://localhost:8080/"
        },
        "id": "wRjoAoWXn2EM",
        "outputId": "8bc4cc17-8d92-4cb4-cf37-c86dac9aa39d"
      },
      "execution_count": 25,
      "outputs": [
        {
          "output_type": "stream",
          "name": "stdout",
          "text": [
            "\u001b[1m828/828\u001b[0m \u001b[32m━━━━━━━━━━━━━━━━━━━━\u001b[0m\u001b[37m\u001b[0m \u001b[1m3s\u001b[0m 3ms/step\n",
            "\u001b[1m259/259\u001b[0m \u001b[32m━━━━━━━━━━━━━━━━━━━━\u001b[0m\u001b[37m\u001b[0m \u001b[1m1s\u001b[0m 3ms/step\n"
          ]
        }
      ]
    },
    {
      "cell_type": "code",
      "source": [
        "def plot_cm(labels, predictions, threshold=0.5):\n",
        "  cm = confusion_matrix(labels, predictions > threshold)\n",
        "  plt.figure(figsize=(5,5))\n",
        "  sns.heatmap(cm, annot=True, fmt=\"d\")\n",
        "  plt.title(\"Confusion matrix @{:.2f}\".format(threshold))\n",
        "  plt.ylabel('Actual (1 = Fraud | 0 = No Fraud)')\n",
        "  plt.xlabel('Predicted (0 = No Fraud | 1 = Fraud)')"
      ],
      "metadata": {
        "id": "DpALLfwmnUOX"
      },
      "execution_count": 28,
      "outputs": []
    },
    {
      "cell_type": "code",
      "source": [
        "baseline_results = model.evaluate(test_features, test_labels,\n",
        "                                  batch_size=BATCH_SIZE, verbose=0)\n",
        "for name, value in zip(model.metrics_names, baseline_results):\n",
        "  print(name, ': ', value)\n",
        "print()\n",
        "\n",
        "plot_cm(test_labels, test_predictions_baseline)"
      ],
      "metadata": {
        "colab": {
          "base_uri": "https://localhost:8080/",
          "height": 543
        },
        "id": "1eoWp6yynXoO",
        "outputId": "6d1ea752-1804-4e9a-d5de-b3f979335c8e"
      },
      "execution_count": 29,
      "outputs": [
        {
          "output_type": "stream",
          "name": "stdout",
          "text": [
            "loss :  0.009670496918261051\n",
            "compile_metrics :  0.009670496918261051\n",
            "\n"
          ]
        },
        {
          "output_type": "display_data",
          "data": {
            "text/plain": [
              "<Figure size 500x500 with 2 Axes>"
            ],
            "image/png": "[encoded data removed]"
          },
          "metadata": {}
        }
      ]
    },
    {
      "cell_type": "markdown",
      "source": [
        "F1 Score"
      ],
      "metadata": {
        "id": "dAGBn76yU0d-"
      }
    },
    {
      "cell_type": "code",
      "source": [
        "f1 = f1_score(test_labels, test_predictions_baseline > 0.5)\n",
        "print(f'F1 Score: {f1}')\n",
        "# print(f'Precision: {precision_score(test_labels, test_predictions_weighted > 0.5)}')\n",
        "# print(f'Recall: {recall_score(test_labels, test_predictions_weighted > 0.5)}')"
      ],
      "metadata": {
        "colab": {
          "base_uri": "https://localhost:8080/"
        },
        "id": "Gm9zR17RUxeB",
        "outputId": "68e46ec4-4d52-4fe5-dceb-d8a6a5a1f0eb"
      },
      "execution_count": 30,
      "outputs": [
        {
          "output_type": "stream",
          "name": "stdout",
          "text": [
            "F1 Score: 0.6131386861313869\n"
          ]
        }
      ]
    },
    {
      "cell_type": "markdown",
      "source": [
        "## Class Weights"
      ],
      "metadata": {
        "id": "DWeJIinenjM6"
      }
    },
    {
      "cell_type": "code",
      "source": [
        "weight_for_0 = (1 / neg) * (total / 2.0)\n",
        "weight_for_1 = (1 / pos) * (total / 2.0)\n",
        "\n",
        "class_weight = {0: weight_for_0, 1: weight_for_1}\n",
        "\n",
        "print('Weight for class 0: {:.2f}'.format(weight_for_0))\n",
        "print('Weight for class 1: {:.2f}'.format(weight_for_1))"
      ],
      "metadata": {
        "colab": {
          "base_uri": "https://localhost:8080/"
        },
        "id": "RbdeW78jnmR1",
        "outputId": "e63bfeda-7a15-4fbd-c982-aa1aca2cfd85"
      },
      "execution_count": 31,
      "outputs": [
        {
          "output_type": "stream",
          "name": "stdout",
          "text": [
            "Weight for class 0: 0.50\n",
            "Weight for class 1: 140.45\n"
          ]
        }
      ]
    },
    {
      "cell_type": "markdown",
      "source": [
        "## Train model with class weights"
      ],
      "metadata": {
        "id": "1WVT_4GBn5IF"
      }
    },
    {
      "cell_type": "code",
      "source": [
        "weighted_model = make_model()\n",
        "weighted_model.load_weights(initial_weights)\n",
        "\n",
        "weighted_history = weighted_model.fit(\n",
        "    train_features,\n",
        "    train_labels,\n",
        "    batch_size=BATCH_SIZE,\n",
        "    epochs=EPOCHS,\n",
        "    callbacks=[early_stopping()],\n",
        "    validation_data=(val_features, val_labels),\n",
        "    # The class weights go here\n",
        "    class_weight=class_weight)"
      ],
      "metadata": {
        "colab": {
          "base_uri": "https://localhost:8080/"
        },
        "id": "f9yjeGTsn4nS",
        "outputId": "c0de79c7-18ba-48f6-ec17-00ca7039ec5c"
      },
      "execution_count": 32,
      "outputs": [
        {
          "output_type": "stream",
          "name": "stderr",
          "text": [
            "/usr/local/lib/python3.11/dist-packages/keras/src/layers/core/dense.py:87: UserWarning: Do not pass an `input_shape`/`input_dim` argument to a layer. When using Sequential models, prefer using an `Input(shape)` object as the first layer in the model instead.\n",
            "  super().__init__(activity_regularizer=activity_regularizer, **kwargs)\n"
          ]
        },
        {
          "output_type": "stream",
          "name": "stdout",
          "text": [
            "Epoch 1/100\n",
            "\u001b[1m828/828\u001b[0m \u001b[32m━━━━━━━━━━━━━━━━━━━━\u001b[0m\u001b[37m\u001b[0m \u001b[1m23s\u001b[0m 20ms/step - Brier score: 0.0430 - accuracy: 0.9464 - auc: 0.7910 - cross entropy: 0.1967 - fn: 2572.8577 - fp: 81679.1562 - loss: 1.3852 - prc: 0.1016 - precision: 0.1216 - recall: 0.4567 - tn: 1292659.2500 - tp: 2340.7310 - val_Brier score: 0.0246 - val_accuracy: 0.9756 - val_auc: 0.8705 - val_cross entropy: 0.1916 - val_fn: 429.0000 - val_fp: 9883.0000 - val_loss: 0.1916 - val_prc: 0.1115 - val_precision: 0.0975 - val_recall: 0.7134 - val_tn: 412091.0000 - val_tp: 1068.0000\n",
            "Epoch 2/100\n",
            "\u001b[1m828/828\u001b[0m \u001b[32m━━━━━━━━━━━━━━━━━━━━\u001b[0m\u001b[37m\u001b[0m \u001b[1m23s\u001b[0m 23ms/step - Brier score: 0.0772 - accuracy: 0.9157 - auc: 0.8362 - cross entropy: 0.3928 - fn: 974.7829 - fp: 68801.6797 - loss: 0.5570 - prc: 0.0805 - precision: 0.0283 - recall: 0.6791 - tn: 778069.1875 - tp: 2067.3774 - val_Brier score: 0.0283 - val_accuracy: 0.9774 - val_auc: 0.8818 - val_cross entropy: 0.1897 - val_fn: 440.0000 - val_fp: 9120.0000 - val_loss: 0.1897 - val_prc: 0.1394 - val_precision: 0.1039 - val_recall: 0.7061 - val_tn: 412854.0000 - val_tp: 1057.0000\n",
            "Epoch 3/100\n",
            "\u001b[1m828/828\u001b[0m \u001b[32m━━━━━━━━━━━━━━━━━━━━\u001b[0m\u001b[37m\u001b[0m \u001b[1m23s\u001b[0m 26ms/step - Brier score: 0.0718 - accuracy: 0.9440 - auc: 0.8553 - cross entropy: 0.3628 - fn: 897.0712 - fp: 46242.2227 - loss: 0.4612 - prc: 0.0932 - precision: 0.0434 - recall: 0.7039 - tn: 800637.5625 - tp: 2136.1580 - val_Brier score: 0.0407 - val_accuracy: 0.9777 - val_auc: 0.8842 - val_cross entropy: 0.2280 - val_fn: 420.0000 - val_fp: 9035.0000 - val_loss: 0.2280 - val_prc: 0.1517 - val_precision: 0.1065 - val_recall: 0.7194 - val_tn: 412939.0000 - val_tp: 1077.0000\n",
            "Epoch 4/100\n",
            "\u001b[1m828/828\u001b[0m \u001b[32m━━━━━━━━━━━━━━━━━━━━\u001b[0m\u001b[37m\u001b[0m \u001b[1m35s\u001b[0m 19ms/step - Brier score: 0.0776 - accuracy: 0.9545 - auc: 0.8692 - cross entropy: 0.3772 - fn: 863.6321 - fp: 36296.4023 - loss: 0.4289 - prc: 0.1062 - precision: 0.0570 - recall: 0.7237 - tn: 810532.5625 - tp: 2220.4307 - val_Brier score: 0.0423 - val_accuracy: 0.9803 - val_auc: 0.8829 - val_cross entropy: 0.2248 - val_fn: 477.0000 - val_fp: 7873.0000 - val_loss: 0.2248 - val_prc: 0.1532 - val_precision: 0.1147 - val_recall: 0.6814 - val_tn: 414101.0000 - val_tp: 1020.0000\n",
            "Epoch 5/100\n",
            "\u001b[1m828/828\u001b[0m \u001b[32m━━━━━━━━━━━━━━━━━━━━\u001b[0m\u001b[37m\u001b[0m \u001b[1m15s\u001b[0m 18ms/step - Brier score: 0.0722 - accuracy: 0.9626 - auc: 0.8717 - cross entropy: 0.3521 - fn: 822.6731 - fp: 31240.9766 - loss: 0.4058 - prc: 0.1071 - precision: 0.0639 - recall: 0.7146 - tn: 815673.6875 - tp: 2175.6997 - val_Brier score: 0.0547 - val_accuracy: 0.9763 - val_auc: 0.9052 - val_cross entropy: 0.2675 - val_fn: 392.0000 - val_fp: 9650.0000 - val_loss: 0.2675 - val_prc: 0.1560 - val_precision: 0.1027 - val_recall: 0.7381 - val_tn: 412324.0000 - val_tp: 1105.0000\n",
            "Epoch 6/100\n",
            "\u001b[1m828/828\u001b[0m \u001b[32m━━━━━━━━━━━━━━━━━━━━\u001b[0m\u001b[37m\u001b[0m \u001b[1m15s\u001b[0m 18ms/step - Brier score: 0.0734 - accuracy: 0.9627 - auc: 0.8831 - cross entropy: 0.3519 - fn: 806.0784 - fp: 31084.7734 - loss: 0.3941 - prc: 0.1101 - precision: 0.0674 - recall: 0.7368 - tn: 815797.4375 - tp: 2224.7612 - val_Brier score: 0.0453 - val_accuracy: 0.9752 - val_auc: 0.9100 - val_cross entropy: 0.2347 - val_fn: 376.0000 - val_fp: 10115.0000 - val_loss: 0.2347 - val_prc: 0.1599 - val_precision: 0.0998 - val_recall: 0.7488 - val_tn: 411859.0000 - val_tp: 1121.0000\n",
            "Epoch 7/100\n",
            "\u001b[1m828/828\u001b[0m \u001b[32m━━━━━━━━━━━━━━━━━━━━\u001b[0m\u001b[37m\u001b[0m \u001b[1m16s\u001b[0m 19ms/step - Brier score: 0.0706 - accuracy: 0.9606 - auc: 0.8855 - cross entropy: 0.3391 - fn: 758.3004 - fp: 32914.8789 - loss: 0.3824 - prc: 0.1114 - precision: 0.0639 - recall: 0.7478 - tn: 813993.3125 - tp: 2246.5234 - val_Brier score: 0.0470 - val_accuracy: 0.9721 - val_auc: 0.9074 - val_cross entropy: 0.2376 - val_fn: 356.0000 - val_fp: 11459.0000 - val_loss: 0.2376 - val_prc: 0.1713 - val_precision: 0.0906 - val_recall: 0.7622 - val_tn: 410515.0000 - val_tp: 1141.0000\n",
            "Epoch 8/100\n",
            "\u001b[1m828/828\u001b[0m \u001b[32m━━━━━━━━━━━━━━━━━━━━\u001b[0m\u001b[37m\u001b[0m \u001b[1m15s\u001b[0m 18ms/step - Brier score: 0.0688 - accuracy: 0.9594 - auc: 0.8984 - cross entropy: 0.3251 - fn: 724.4753 - fp: 34409.6562 - loss: 0.3676 - prc: 0.1209 - precision: 0.0642 - recall: 0.7628 - tn: 812479.7500 - tp: 2299.1338 - val_Brier score: 0.0456 - val_accuracy: 0.9721 - val_auc: 0.9177 - val_cross entropy: 0.2287 - val_fn: 355.0000 - val_fp: 11478.0000 - val_loss: 0.2287 - val_prc: 0.1923 - val_precision: 0.0905 - val_recall: 0.7629 - val_tn: 410496.0000 - val_tp: 1142.0000\n",
            "Epoch 9/100\n",
            "\u001b[1m828/828\u001b[0m \u001b[32m━━━━━━━━━━━━━━━━━━━━\u001b[0m\u001b[37m\u001b[0m \u001b[1m16s\u001b[0m 19ms/step - Brier score: 0.0715 - accuracy: 0.9546 - auc: 0.8953 - cross entropy: 0.3279 - fn: 706.7660 - fp: 37198.6719 - loss: 0.3721 - prc: 0.1229 - precision: 0.0578 - recall: 0.7597 - tn: 809669.4375 - tp: 2338.1736 - val_Brier score: 0.0443 - val_accuracy: 0.9715 - val_auc: 0.9160 - val_cross entropy: 0.2231 - val_fn: 354.0000 - val_fp: 11711.0000 - val_loss: 0.2231 - val_prc: 0.2471 - val_precision: 0.0889 - val_recall: 0.7635 - val_tn: 410263.0000 - val_tp: 1143.0000\n",
            "Epoch 10/100\n",
            "\u001b[1m828/828\u001b[0m \u001b[32m━━━━━━━━━━━━━━━━━━━━\u001b[0m\u001b[37m\u001b[0m \u001b[1m21s\u001b[0m 19ms/step - Brier score: 0.0671 - accuracy: 0.9549 - auc: 0.9064 - cross entropy: 0.3124 - fn: 680.5802 - fp: 38012.5625 - loss: 0.3541 - prc: 0.1290 - precision: 0.0586 - recall: 0.7737 - tn: 808896.0625 - tp: 2323.8323 - val_Brier score: 0.0431 - val_accuracy: 0.9709 - val_auc: 0.9236 - val_cross entropy: 0.2181 - val_fn: 348.0000 - val_fp: 11977.0000 - val_loss: 0.2181 - val_prc: 0.2689 - val_precision: 0.0875 - val_recall: 0.7675 - val_tn: 409997.0000 - val_tp: 1149.0000\n",
            "Epoch 11/100\n",
            "\u001b[1m828/828\u001b[0m \u001b[32m━━━━━━━━━━━━━━━━━━━━\u001b[0m\u001b[37m\u001b[0m \u001b[1m16s\u001b[0m 19ms/step - Brier score: 0.0664 - accuracy: 0.9547 - auc: 0.9034 - cross entropy: 0.3062 - fn: 684.6804 - fp: 38245.8906 - loss: 0.3519 - prc: 0.1409 - precision: 0.0587 - recall: 0.7764 - tn: 808625.8750 - tp: 2356.5718 - val_Brier score: 0.0431 - val_accuracy: 0.9703 - val_auc: 0.9261 - val_cross entropy: 0.2173 - val_fn: 347.0000 - val_fp: 12219.0000 - val_loss: 0.2173 - val_prc: 0.2917 - val_precision: 0.0860 - val_recall: 0.7682 - val_tn: 409755.0000 - val_tp: 1150.0000\n",
            "Epoch 12/100\n",
            "\u001b[1m828/828\u001b[0m \u001b[32m━━━━━━━━━━━━━━━━━━━━\u001b[0m\u001b[37m\u001b[0m \u001b[1m17s\u001b[0m 21ms/step - Brier score: 0.0661 - accuracy: 0.9530 - auc: 0.9043 - cross entropy: 0.3013 - fn: 662.7913 - fp: 40038.3984 - loss: 0.3470 - prc: 0.1465 - precision: 0.0559 - recall: 0.7757 - tn: 806858.6875 - tp: 2353.1895 - val_Brier score: 0.0470 - val_accuracy: 0.9708 - val_auc: 0.9317 - val_cross entropy: 0.2315 - val_fn: 351.0000 - val_fp: 12006.0000 - val_loss: 0.2315 - val_prc: 0.3136 - val_precision: 0.0871 - val_recall: 0.7655 - val_tn: 409968.0000 - val_tp: 1146.0000\n",
            "Epoch 13/100\n",
            "\u001b[1m828/828\u001b[0m \u001b[32m━━━━━━━━━━━━━━━━━━━━\u001b[0m\u001b[37m\u001b[0m \u001b[1m17s\u001b[0m 20ms/step - Brier score: 0.0671 - accuracy: 0.9494 - auc: 0.9109 - cross entropy: 0.3004 - fn: 647.1894 - fp: 40775.2969 - loss: 0.3422 - prc: 0.1584 - precision: 0.0542 - recall: 0.7892 - tn: 806103.3750 - tp: 2387.2100 - val_Brier score: 0.0456 - val_accuracy: 0.9690 - val_auc: 0.9357 - val_cross entropy: 0.2242 - val_fn: 344.0000 - val_fp: 12786.0000 - val_loss: 0.2242 - val_prc: 0.3280 - val_precision: 0.0827 - val_recall: 0.7702 - val_tn: 409188.0000 - val_tp: 1153.0000\n",
            "Epoch 14/100\n",
            "\u001b[1m828/828\u001b[0m \u001b[32m━━━━━━━━━━━━━━━━━━━━\u001b[0m\u001b[37m\u001b[0m \u001b[1m21s\u001b[0m 21ms/step - Brier score: 0.0650 - accuracy: 0.9480 - auc: 0.9127 - cross entropy: 0.2906 - fn: 620.8939 - fp: 43879.8906 - loss: 0.3355 - prc: 0.1658 - precision: 0.0518 - recall: 0.7894 - tn: 803010.6250 - tp: 2401.6213 - val_Brier score: 0.0407 - val_accuracy: 0.9726 - val_auc: 0.9361 - val_cross entropy: 0.2062 - val_fn: 335.0000 - val_fp: 11262.0000 - val_loss: 0.2062 - val_prc: 0.3581 - val_precision: 0.0935 - val_recall: 0.7762 - val_tn: 410712.0000 - val_tp: 1162.0000\n",
            "Epoch 15/100\n",
            "\u001b[1m828/828\u001b[0m \u001b[32m━━━━━━━━━━━━━━━━━━━━\u001b[0m\u001b[37m\u001b[0m \u001b[1m16s\u001b[0m 20ms/step - Brier score: 0.0642 - accuracy: 0.9475 - auc: 0.9123 - cross entropy: 0.2866 - fn: 600.6936 - fp: 43573.2266 - loss: 0.3345 - prc: 0.1657 - precision: 0.0516 - recall: 0.7931 - tn: 803347.3125 - tp: 2391.8298 - val_Brier score: 0.0370 - val_accuracy: 0.9725 - val_auc: 0.9358 - val_cross entropy: 0.1913 - val_fn: 328.0000 - val_fp: 11325.0000 - val_loss: 0.1913 - val_prc: 0.3759 - val_precision: 0.0936 - val_recall: 0.7809 - val_tn: 410649.0000 - val_tp: 1169.0000\n",
            "Epoch 16/100\n",
            "\u001b[1m828/828\u001b[0m \u001b[32m━━━━━━━━━━━━━━━━━━━━\u001b[0m\u001b[37m\u001b[0m \u001b[1m20s\u001b[0m 19ms/step - Brier score: 0.0609 - accuracy: 0.9471 - auc: 0.9257 - cross entropy: 0.2739 - fn: 565.0000 - fp: 44686.6523 - loss: 0.3150 - prc: 0.1853 - precision: 0.0530 - recall: 0.8163 - tn: 802194.2500 - tp: 2467.1111 - val_Brier score: 0.0393 - val_accuracy: 0.9714 - val_auc: 0.9399 - val_cross entropy: 0.1976 - val_fn: 291.0000 - val_fp: 11816.0000 - val_loss: 0.1976 - val_prc: 0.3871 - val_precision: 0.0926 - val_recall: 0.8056 - val_tn: 410158.0000 - val_tp: 1206.0000\n",
            "Epoch 17/100\n",
            "\u001b[1m828/828\u001b[0m \u001b[32m━━━━━━━━━━━━━━━━━━━━\u001b[0m\u001b[37m\u001b[0m \u001b[1m15s\u001b[0m 19ms/step - Brier score: 0.0608 - accuracy: 0.9439 - auc: 0.9263 - cross entropy: 0.2703 - fn: 526.5356 - fp: 46762.0430 - loss: 0.3047 - prc: 0.1860 - precision: 0.0494 - recall: 0.8250 - tn: 800160.8750 - tp: 2463.5803 - val_Brier score: 0.0335 - val_accuracy: 0.9728 - val_auc: 0.9379 - val_cross entropy: 0.1780 - val_fn: 299.0000 - val_fp: 11213.0000 - val_loss: 0.1780 - val_prc: 0.4072 - val_precision: 0.0965 - val_recall: 0.8003 - val_tn: 410761.0000 - val_tp: 1198.0000\n",
            "Epoch 18/100\n",
            "\u001b[1m828/828\u001b[0m \u001b[32m━━━━━━━━━━━━━━━━━━━━\u001b[0m\u001b[37m\u001b[0m \u001b[1m21s\u001b[0m 19ms/step - Brier score: 0.0565 - accuracy: 0.9517 - auc: 0.9288 - cross entropy: 0.2598 - fn: 528.2159 - fp: 42025.1680 - loss: 0.3001 - prc: 0.2063 - precision: 0.0580 - recall: 0.8276 - tn: 804878.0625 - tp: 2481.6079 - val_Brier score: 0.0379 - val_accuracy: 0.9729 - val_auc: 0.9441 - val_cross entropy: 0.1940 - val_fn: 276.0000 - val_fp: 11203.0000 - val_loss: 0.1940 - val_prc: 0.4172 - val_precision: 0.0983 - val_recall: 0.8156 - val_tn: 410771.0000 - val_tp: 1221.0000\n",
            "Epoch 19/100\n",
            "\u001b[1m828/828\u001b[0m \u001b[32m━━━━━━━━━━━━━━━━━━━━\u001b[0m\u001b[37m\u001b[0m \u001b[1m20s\u001b[0m 19ms/step - Brier score: 0.0592 - accuracy: 0.9466 - auc: 0.9249 - cross entropy: 0.2655 - fn: 523.0688 - fp: 44690.1602 - loss: 0.3076 - prc: 0.2190 - precision: 0.0526 - recall: 0.8248 - tn: 802199.0000 - tp: 2500.8203 - val_Brier score: 0.0352 - val_accuracy: 0.9727 - val_auc: 0.9436 - val_cross entropy: 0.1825 - val_fn: 266.0000 - val_fp: 11304.0000 - val_loss: 0.1825 - val_prc: 0.4457 - val_precision: 0.0982 - val_recall: 0.8223 - val_tn: 410670.0000 - val_tp: 1231.0000\n",
            "Epoch 20/100\n",
            "\u001b[1m828/828\u001b[0m \u001b[32m━━━━━━━━━━━━━━━━━━━━\u001b[0m\u001b[37m\u001b[0m \u001b[1m21s\u001b[0m 19ms/step - Brier score: 0.0559 - accuracy: 0.9492 - auc: 0.9295 - cross entropy: 0.2554 - fn: 509.0410 - fp: 42776.5703 - loss: 0.2974 - prc: 0.2175 - precision: 0.0554 - recall: 0.8315 - tn: 804121.3750 - tp: 2506.0701 - val_Brier score: 0.0332 - val_accuracy: 0.9728 - val_auc: 0.9404 - val_cross entropy: 0.1757 - val_fn: 271.0000 - val_fp: 11263.0000 - val_loss: 0.1757 - val_prc: 0.4858 - val_precision: 0.0982 - val_recall: 0.8190 - val_tn: 410711.0000 - val_tp: 1226.0000\n",
            "Epoch 21/100\n",
            "\u001b[1m828/828\u001b[0m \u001b[32m━━━━━━━━━━━━━━━━━━━━\u001b[0m\u001b[37m\u001b[0m \u001b[1m21s\u001b[0m 19ms/step - Brier score: 0.0567 - accuracy: 0.9449 - auc: 0.9328 - cross entropy: 0.2529 - fn: 488.4584 - fp: 46657.8281 - loss: 0.2921 - prc: 0.2295 - precision: 0.0510 - recall: 0.8375 - tn: 800264.6875 - tp: 2502.0579 - val_Brier score: 0.0362 - val_accuracy: 0.9742 - val_auc: 0.9501 - val_cross entropy: 0.1886 - val_fn: 272.0000 - val_fp: 10663.0000 - val_loss: 0.1886 - val_prc: 0.4743 - val_precision: 0.1030 - val_recall: 0.8183 - val_tn: 411311.0000 - val_tp: 1225.0000\n",
            "Epoch 22/100\n",
            "\u001b[1m828/828\u001b[0m \u001b[32m━━━━━━━━━━━━━━━━━━━━\u001b[0m\u001b[37m\u001b[0m \u001b[1m21s\u001b[0m 21ms/step - Brier score: 0.0570 - accuracy: 0.9460 - auc: 0.9325 - cross entropy: 0.2570 - fn: 483.6140 - fp: 45406.1602 - loss: 0.2925 - prc: 0.2361 - precision: 0.0534 - recall: 0.8424 - tn: 801475.5625 - tp: 2547.7034 - val_Brier score: 0.0309 - val_accuracy: 0.9718 - val_auc: 0.9534 - val_cross entropy: 0.1643 - val_fn: 266.0000 - val_fp: 11684.0000 - val_loss: 0.1643 - val_prc: 0.4958 - val_precision: 0.0953 - val_recall: 0.8223 - val_tn: 410290.0000 - val_tp: 1231.0000\n",
            "Epoch 23/100\n",
            "\u001b[1m828/828\u001b[0m \u001b[32m━━━━━━━━━━━━━━━━━━━━\u001b[0m\u001b[37m\u001b[0m \u001b[1m17s\u001b[0m 21ms/step - Brier score: 0.0586 - accuracy: 0.9388 - auc: 0.9335 - cross entropy: 0.2550 - fn: 472.9590 - fp: 51963.8008 - loss: 0.2910 - prc: 0.2354 - precision: 0.0458 - recall: 0.8399 - tn: 794936.1250 - tp: 2540.1665 - val_Brier score: 0.0250 - val_accuracy: 0.9743 - val_auc: 0.9498 - val_cross entropy: 0.1431 - val_fn: 264.0000 - val_fp: 10619.0000 - val_loss: 0.1431 - val_prc: 0.4992 - val_precision: 0.1040 - val_recall: 0.8236 - val_tn: 411355.0000 - val_tp: 1233.0000\n",
            "Epoch 24/100\n",
            "\u001b[1m828/828\u001b[0m \u001b[32m━━━━━━━━━━━━━━━━━━━━\u001b[0m\u001b[37m\u001b[0m \u001b[1m19s\u001b[0m 19ms/step - Brier score: 0.0545 - accuracy: 0.9420 - auc: 0.9331 - cross entropy: 0.2427 - fn: 472.4029 - fp: 49637.9492 - loss: 0.2867 - prc: 0.2351 - precision: 0.0486 - recall: 0.8410 - tn: 797294.3125 - tp: 2508.3630 - val_Brier score: 0.0305 - val_accuracy: 0.9722 - val_auc: 0.9601 - val_cross entropy: 0.1647 - val_fn: 254.0000 - val_fp: 11511.0000 - val_loss: 0.1647 - val_prc: 0.5425 - val_precision: 0.0975 - val_recall: 0.8303 - val_tn: 410463.0000 - val_tp: 1243.0000\n",
            "Epoch 25/100\n",
            "\u001b[1m828/828\u001b[0m \u001b[32m━━━━━━━━━━━━━━━━━━━━\u001b[0m\u001b[37m\u001b[0m \u001b[1m15s\u001b[0m 19ms/step - Brier score: 0.0572 - accuracy: 0.9382 - auc: 0.9379 - cross entropy: 0.2486 - fn: 445.2581 - fp: 52286.6484 - loss: 0.2851 - prc: 0.2516 - precision: 0.0469 - recall: 0.8516 - tn: 794599.1250 - tp: 2582.0337 - val_Brier score: 0.0290 - val_accuracy: 0.9750 - val_auc: 0.9594 - val_cross entropy: 0.1585 - val_fn: 256.0000 - val_fp: 10329.0000 - val_loss: 0.1585 - val_prc: 0.5539 - val_precision: 0.1073 - val_recall: 0.8290 - val_tn: 411645.0000 - val_tp: 1241.0000\n",
            "Epoch 26/100\n",
            "\u001b[1m828/828\u001b[0m \u001b[32m━━━━━━━━━━━━━━━━━━━━\u001b[0m\u001b[37m\u001b[0m \u001b[1m16s\u001b[0m 19ms/step - Brier score: 0.0561 - accuracy: 0.9379 - auc: 0.9433 - cross entropy: 0.2443 - fn: 435.0048 - fp: 52730.5547 - loss: 0.2774 - prc: 0.2458 - precision: 0.0462 - recall: 0.8499 - tn: 794181.2500 - tp: 2566.2510 - val_Brier score: 0.0294 - val_accuracy: 0.9710 - val_auc: 0.9715 - val_cross entropy: 0.1596 - val_fn: 232.0000 - val_fp: 12060.0000 - val_loss: 0.1596 - val_prc: 0.5467 - val_precision: 0.0949 - val_recall: 0.8450 - val_tn: 409914.0000 - val_tp: 1265.0000\n",
            "Epoch 27/100\n",
            "\u001b[1m828/828\u001b[0m \u001b[32m━━━━━━━━━━━━━━━━━━━━\u001b[0m\u001b[37m\u001b[0m \u001b[1m21s\u001b[0m 19ms/step - Brier score: 0.0559 - accuracy: 0.9377 - auc: 0.9403 - cross entropy: 0.2431 - fn: 415.8999 - fp: 52934.0430 - loss: 0.2764 - prc: 0.2492 - precision: 0.0466 - recall: 0.8596 - tn: 793982.3750 - tp: 2580.7539 - val_Brier score: 0.0226 - val_accuracy: 0.9740 - val_auc: 0.9652 - val_cross entropy: 0.1301 - val_fn: 222.0000 - val_fp: 10802.0000 - val_loss: 0.1301 - val_prc: 0.5686 - val_precision: 0.1056 - val_recall: 0.8517 - val_tn: 411172.0000 - val_tp: 1275.0000\n",
            "Epoch 28/100\n",
            "\u001b[1m828/828\u001b[0m \u001b[32m━━━━━━━━━━━━━━━━━━━━\u001b[0m\u001b[37m\u001b[0m \u001b[1m16s\u001b[0m 19ms/step - Brier score: 0.0523 - accuracy: 0.9391 - auc: 0.9432 - cross entropy: 0.2288 - fn: 420.1279 - fp: 52198.5469 - loss: 0.2710 - prc: 0.2652 - precision: 0.0475 - recall: 0.8613 - tn: 794735.5625 - tp: 2558.7781 - val_Brier score: 0.0240 - val_accuracy: 0.9742 - val_auc: 0.9655 - val_cross entropy: 0.1397 - val_fn: 247.0000 - val_fp: 10694.0000 - val_loss: 0.1397 - val_prc: 0.5927 - val_precision: 0.1047 - val_recall: 0.8350 - val_tn: 411280.0000 - val_tp: 1250.0000\n",
            "Epoch 29/100\n",
            "\u001b[1m828/828\u001b[0m \u001b[32m━━━━━━━━━━━━━━━━━━━━\u001b[0m\u001b[37m\u001b[0m \u001b[1m16s\u001b[0m 19ms/step - Brier score: 0.0577 - accuracy: 0.9308 - auc: 0.9424 - cross entropy: 0.2432 - fn: 403.9385 - fp: 59267.8281 - loss: 0.2772 - prc: 0.2610 - precision: 0.0425 - recall: 0.8622 - tn: 787617.6875 - tp: 2623.5730 - val_Brier score: 0.0203 - val_accuracy: 0.9743 - val_auc: 0.9663 - val_cross entropy: 0.1207 - val_fn: 199.0000 - val_fp: 10680.0000 - val_loss: 0.1207 - val_prc: 0.6061 - val_precision: 0.1084 - val_recall: 0.8671 - val_tn: 411294.0000 - val_tp: 1298.0000\n",
            "Epoch 30/100\n",
            "\u001b[1m828/828\u001b[0m \u001b[32m━━━━━━━━━━━━━━━━━━━━\u001b[0m\u001b[37m\u001b[0m \u001b[1m22s\u001b[0m 21ms/step - Brier score: 0.0535 - accuracy: 0.9325 - auc: 0.9480 - cross entropy: 0.2274 - fn: 378.5235 - fp: 56495.6367 - loss: 0.2650 - prc: 0.2704 - precision: 0.0459 - recall: 0.8776 - tn: 790345.1250 - tp: 2693.7864 - val_Brier score: 0.0200 - val_accuracy: 0.9742 - val_auc: 0.9659 - val_cross entropy: 0.1201 - val_fn: 182.0000 - val_fp: 10733.0000 - val_loss: 0.1201 - val_prc: 0.6190 - val_precision: 0.1091 - val_recall: 0.8784 - val_tn: 411241.0000 - val_tp: 1315.0000\n",
            "Epoch 31/100\n",
            "\u001b[1m828/828\u001b[0m \u001b[32m━━━━━━━━━━━━━━━━━━━━\u001b[0m\u001b[37m\u001b[0m \u001b[1m19s\u001b[0m 19ms/step - Brier score: 0.0549 - accuracy: 0.9311 - auc: 0.9492 - cross entropy: 0.2302 - fn: 377.3800 - fp: 57936.1211 - loss: 0.2675 - prc: 0.2844 - precision: 0.0445 - recall: 0.8760 - tn: 788914.6250 - tp: 2684.9336 - val_Brier score: 0.0213 - val_accuracy: 0.9747 - val_auc: 0.9705 - val_cross entropy: 0.1246 - val_fn: 183.0000 - val_fp: 10533.0000 - val_loss: 0.1246 - val_prc: 0.6361 - val_precision: 0.1109 - val_recall: 0.8778 - val_tn: 411441.0000 - val_tp: 1314.0000\n",
            "Epoch 32/100\n",
            "\u001b[1m828/828\u001b[0m \u001b[32m━━━━━━━━━━━━━━━━━━━━\u001b[0m\u001b[37m\u001b[0m \u001b[1m21s\u001b[0m 19ms/step - Brier score: 0.0542 - accuracy: 0.9297 - auc: 0.9505 - cross entropy: 0.2256 - fn: 337.0543 - fp: 59095.5820 - loss: 0.2547 - prc: 0.2905 - precision: 0.0433 - recall: 0.8893 - tn: 787794.8750 - tp: 2685.5090 - val_Brier score: 0.0190 - val_accuracy: 0.9780 - val_auc: 0.9719 - val_cross entropy: 0.1189 - val_fn: 188.0000 - val_fp: 9133.0000 - val_loss: 0.1189 - val_prc: 0.6752 - val_precision: 0.1254 - val_recall: 0.8744 - val_tn: 412841.0000 - val_tp: 1309.0000\n",
            "Epoch 33/100\n",
            "\u001b[1m828/828\u001b[0m \u001b[32m━━━━━━━━━━━━━━━━━━━━\u001b[0m\u001b[37m\u001b[0m \u001b[1m19s\u001b[0m 23ms/step - Brier score: 0.0496 - accuracy: 0.9396 - auc: 0.9484 - cross entropy: 0.2165 - fn: 352.8818 - fp: 51537.0586 - loss: 0.2559 - prc: 0.2945 - precision: 0.0499 - recall: 0.8811 - tn: 795349.1250 - tp: 2673.9734 - val_Brier score: 0.0227 - val_accuracy: 0.9731 - val_auc: 0.9654 - val_cross entropy: 0.1305 - val_fn: 151.0000 - val_fp: 11254.0000 - val_loss: 0.1305 - val_prc: 0.6594 - val_precision: 0.1068 - val_recall: 0.8991 - val_tn: 410720.0000 - val_tp: 1346.0000\n",
            "Epoch 34/100\n",
            "\u001b[1m828/828\u001b[0m \u001b[32m━━━━━━━━━━━━━━━━━━━━\u001b[0m\u001b[37m\u001b[0m \u001b[1m16s\u001b[0m 19ms/step - Brier score: 0.0543 - accuracy: 0.9295 - auc: 0.9515 - cross entropy: 0.2272 - fn: 330.5657 - fp: 58611.4297 - loss: 0.2546 - prc: 0.2882 - precision: 0.0436 - recall: 0.8881 - tn: 788277.9375 - tp: 2693.1267 - val_Brier score: 0.0167 - val_accuracy: 0.9763 - val_auc: 0.9694 - val_cross entropy: 0.1058 - val_fn: 156.0000 - val_fp: 9887.0000 - val_loss: 0.1058 - val_prc: 0.6650 - val_precision: 0.1194 - val_recall: 0.8958 - val_tn: 412087.0000 - val_tp: 1341.0000\n",
            "Epoch 35/100\n",
            "\u001b[1m828/828\u001b[0m \u001b[32m━━━━━━━━━━━━━━━━━━━━\u001b[0m\u001b[37m\u001b[0m \u001b[1m21s\u001b[0m 19ms/step - Brier score: 0.0490 - accuracy: 0.9360 - auc: 0.9540 - cross entropy: 0.2102 - fn: 319.2292 - fp: 54707.4961 - loss: 0.2419 - prc: 0.2989 - precision: 0.0472 - recall: 0.8926 - tn: 792181.8125 - tp: 2704.4824 - val_Brier score: 0.0159 - val_accuracy: 0.9773 - val_auc: 0.9724 - val_cross entropy: 0.1057 - val_fn: 150.0000 - val_fp: 9459.0000 - val_loss: 0.1057 - val_prc: 0.6944 - val_precision: 0.1247 - val_recall: 0.8998 - val_tn: 412515.0000 - val_tp: 1347.0000\n",
            "Epoch 36/100\n",
            "\u001b[1m828/828\u001b[0m \u001b[32m━━━━━━━━━━━━━━━━━━━━\u001b[0m\u001b[37m\u001b[0m \u001b[1m16s\u001b[0m 19ms/step - Brier score: 0.0489 - accuracy: 0.9381 - auc: 0.9533 - cross entropy: 0.2104 - fn: 318.0471 - fp: 50971.3320 - loss: 0.2410 - prc: 0.3340 - precision: 0.0499 - recall: 0.8944 - tn: 795924.4375 - tp: 2699.2051 - val_Brier score: 0.0169 - val_accuracy: 0.9792 - val_auc: 0.9750 - val_cross entropy: 0.1112 - val_fn: 152.0000 - val_fp: 8638.0000 - val_loss: 0.1112 - val_prc: 0.7197 - val_precision: 0.1347 - val_recall: 0.8985 - val_tn: 413336.0000 - val_tp: 1345.0000\n",
            "Epoch 37/100\n",
            "\u001b[1m828/828\u001b[0m \u001b[32m━━━━━━━━━━━━━━━━━━━━\u001b[0m\u001b[37m\u001b[0m \u001b[1m20s\u001b[0m 19ms/step - Brier score: 0.0461 - accuracy: 0.9420 - auc: 0.9580 - cross entropy: 0.2010 - fn: 297.8142 - fp: 49277.2148 - loss: 0.2250 - prc: 0.3347 - precision: 0.0522 - recall: 0.9037 - tn: 797618.3125 - tp: 2719.7009 - val_Brier score: 0.0157 - val_accuracy: 0.9785 - val_auc: 0.9740 - val_cross entropy: 0.1043 - val_fn: 150.0000 - val_fp: 8962.0000 - val_loss: 0.1043 - val_prc: 0.7250 - val_precision: 0.1307 - val_recall: 0.8998 - val_tn: 413012.0000 - val_tp: 1347.0000\n",
            "Epoch 38/100\n",
            "\u001b[1m828/828\u001b[0m \u001b[32m━━━━━━━━━━━━━━━━━━━━\u001b[0m\u001b[37m\u001b[0m \u001b[1m16s\u001b[0m 19ms/step - Brier score: 0.0453 - accuracy: 0.9435 - auc: 0.9591 - cross entropy: 0.1985 - fn: 298.7588 - fp: 47142.8828 - loss: 0.2274 - prc: 0.3384 - precision: 0.0546 - recall: 0.9041 - tn: 799726.1250 - tp: 2745.2847 - val_Brier score: 0.0144 - val_accuracy: 0.9793 - val_auc: 0.9702 - val_cross entropy: 0.0987 - val_fn: 151.0000 - val_fp: 8600.0000 - val_loss: 0.0987 - val_prc: 0.7112 - val_precision: 0.1353 - val_recall: 0.8991 - val_tn: 413374.0000 - val_tp: 1346.0000\n",
            "Epoch 39/100\n",
            "\u001b[1m828/828\u001b[0m \u001b[32m━━━━━━━━━━━━━━━━━━━━\u001b[0m\u001b[37m\u001b[0m \u001b[1m16s\u001b[0m 19ms/step - Brier score: 0.0457 - accuracy: 0.9435 - auc: 0.9559 - cross entropy: 0.2007 - fn: 313.9120 - fp: 47734.1602 - loss: 0.2380 - prc: 0.3429 - precision: 0.0547 - recall: 0.8949 - tn: 799117.3750 - tp: 2747.5825 - val_Brier score: 0.0149 - val_accuracy: 0.9779 - val_auc: 0.9702 - val_cross entropy: 0.0967 - val_fn: 141.0000 - val_fp: 9216.0000 - val_loss: 0.0967 - val_prc: 0.7263 - val_precision: 0.1283 - val_recall: 0.9058 - val_tn: 412758.0000 - val_tp: 1356.0000\n",
            "Epoch 40/100\n",
            "\u001b[1m828/828\u001b[0m \u001b[32m━━━━━━━━━━━━━━━━━━━━\u001b[0m\u001b[37m\u001b[0m \u001b[1m16s\u001b[0m 19ms/step - Brier score: 0.0445 - accuracy: 0.9428 - auc: 0.9619 - cross entropy: 0.1923 - fn: 290.2907 - fp: 47753.6758 - loss: 0.2211 - prc: 0.3476 - precision: 0.0540 - recall: 0.9069 - tn: 799127.1875 - tp: 2741.9204 - val_Brier score: 0.0174 - val_accuracy: 0.9791 - val_auc: 0.9731 - val_cross entropy: 0.1119 - val_fn: 139.0000 - val_fp: 8693.0000 - val_loss: 0.1119 - val_prc: 0.7342 - val_precision: 0.1351 - val_recall: 0.9071 - val_tn: 413281.0000 - val_tp: 1358.0000\n",
            "Epoch 41/100\n",
            "\u001b[1m828/828\u001b[0m \u001b[32m━━━━━━━━━━━━━━━━━━━━\u001b[0m\u001b[37m\u001b[0m \u001b[1m20s\u001b[0m 19ms/step - Brier score: 0.0469 - accuracy: 0.9435 - auc: 0.9521 - cross entropy: 0.2050 - fn: 312.4451 - fp: 47432.1602 - loss: 0.2375 - prc: 0.3610 - precision: 0.0541 - recall: 0.8951 - tn: 799435.8125 - tp: 2732.6226 - val_Brier score: 0.0148 - val_accuracy: 0.9768 - val_auc: 0.9701 - val_cross entropy: 0.0962 - val_fn: 142.0000 - val_fp: 9690.0000 - val_loss: 0.0962 - val_prc: 0.7082 - val_precision: 0.1227 - val_recall: 0.9051 - val_tn: 412284.0000 - val_tp: 1355.0000\n",
            "Epoch 42/100\n",
            "\u001b[1m828/828\u001b[0m \u001b[32m━━━━━━━━━━━━━━━━━━━━\u001b[0m\u001b[37m\u001b[0m \u001b[1m21s\u001b[0m 19ms/step - Brier score: 0.0436 - accuracy: 0.9435 - auc: 0.9615 - cross entropy: 0.1893 - fn: 282.4934 - fp: 47569.3398 - loss: 0.2203 - prc: 0.3439 - precision: 0.0544 - recall: 0.9098 - tn: 799306.8750 - tp: 2754.3196 - val_Brier score: 0.0147 - val_accuracy: 0.9766 - val_auc: 0.9709 - val_cross entropy: 0.0978 - val_fn: 145.0000 - val_fp: 9757.0000 - val_loss: 0.0978 - val_prc: 0.7370 - val_precision: 0.1217 - val_recall: 0.9031 - val_tn: 412217.0000 - val_tp: 1352.0000\n",
            "Epoch 43/100\n",
            "\u001b[1m828/828\u001b[0m \u001b[32m━━━━━━━━━━━━━━━━━━━━\u001b[0m\u001b[37m\u001b[0m \u001b[1m16s\u001b[0m 19ms/step - Brier score: 0.0444 - accuracy: 0.9422 - auc: 0.9546 - cross entropy: 0.1924 - fn: 288.6092 - fp: 48927.9844 - loss: 0.2310 - prc: 0.3536 - precision: 0.0519 - recall: 0.8967 - tn: 797975.6250 - tp: 2720.7925 - val_Brier score: 0.0146 - val_accuracy: 0.9767 - val_auc: 0.9739 - val_cross entropy: 0.0931 - val_fn: 146.0000 - val_fp: 9739.0000 - val_loss: 0.0931 - val_prc: 0.7316 - val_precision: 0.1218 - val_recall: 0.9025 - val_tn: 412235.0000 - val_tp: 1351.0000\n",
            "Epoch 44/100\n",
            "\u001b[1m828/828\u001b[0m \u001b[32m━━━━━━━━━━━━━━━━━━━━\u001b[0m\u001b[37m\u001b[0m \u001b[1m25s\u001b[0m 24ms/step - Brier score: 0.0421 - accuracy: 0.9431 - auc: 0.9577 - cross entropy: 0.1835 - fn: 282.8154 - fp: 48161.0352 - loss: 0.2213 - prc: 0.3697 - precision: 0.0528 - recall: 0.9038 - tn: 798747.9375 - tp: 2721.2581 - val_Brier score: 0.0141 - val_accuracy: 0.9779 - val_auc: 0.9722 - val_cross entropy: 0.0964 - val_fn: 148.0000 - val_fp: 9204.0000 - val_loss: 0.0964 - val_prc: 0.7479 - val_precision: 0.1278 - val_recall: 0.9011 - val_tn: 412770.0000 - val_tp: 1349.0000\n",
            "Epoch 45/100\n",
            "\u001b[1m828/828\u001b[0m \u001b[32m━━━━━━━━━━━━━━━━━━━━\u001b[0m\u001b[37m\u001b[0m \u001b[1m16s\u001b[0m 20ms/step - Brier score: 0.0420 - accuracy: 0.9461 - auc: 0.9623 - cross entropy: 0.1856 - fn: 278.2666 - fp: 46187.6953 - loss: 0.2168 - prc: 0.3740 - precision: 0.0559 - recall: 0.9051 - tn: 800719.6875 - tp: 2727.4138 - val_Brier score: 0.0132 - val_accuracy: 0.9778 - val_auc: 0.9764 - val_cross entropy: 0.0901 - val_fn: 136.0000 - val_fp: 9279.0000 - val_loss: 0.0901 - val_prc: 0.7524 - val_precision: 0.1279 - val_recall: 0.9092 - val_tn: 412695.0000 - val_tp: 1361.0000\n",
            "Epoch 46/100\n",
            "\u001b[1m828/828\u001b[0m \u001b[32m━━━━━━━━━━━━━━━━━━━━\u001b[0m\u001b[37m\u001b[0m \u001b[1m16s\u001b[0m 19ms/step - Brier score: 0.0436 - accuracy: 0.9412 - auc: 0.9580 - cross entropy: 0.1878 - fn: 287.8251 - fp: 49462.6758 - loss: 0.2218 - prc: 0.3750 - precision: 0.0516 - recall: 0.9042 - tn: 797443.1250 - tp: 2719.4426 - val_Brier score: 0.0130 - val_accuracy: 0.9794 - val_auc: 0.9729 - val_cross entropy: 0.0902 - val_fn: 159.0000 - val_fp: 8577.0000 - val_loss: 0.0902 - val_prc: 0.7596 - val_precision: 0.1349 - val_recall: 0.8938 - val_tn: 413397.0000 - val_tp: 1338.0000\n",
            "Epoch 47/100\n",
            "\u001b[1m828/828\u001b[0m \u001b[32m━━━━━━━━━━━━━━━━━━━━\u001b[0m\u001b[37m\u001b[0m \u001b[1m16s\u001b[0m 20ms/step - Brier score: 0.0414 - accuracy: 0.9469 - auc: 0.9593 - cross entropy: 0.1830 - fn: 285.7648 - fp: 44854.2422 - loss: 0.2210 - prc: 0.3734 - precision: 0.0588 - recall: 0.9077 - tn: 802001.3125 - tp: 2771.6924 - val_Brier score: 0.0134 - val_accuracy: 0.9777 - val_auc: 0.9719 - val_cross entropy: 0.0930 - val_fn: 140.0000 - val_fp: 9313.0000 - val_loss: 0.0930 - val_prc: 0.7525 - val_precision: 0.1272 - val_recall: 0.9065 - val_tn: 412661.0000 - val_tp: 1357.0000\n",
            "Epoch 48/100\n",
            "\u001b[1m828/828\u001b[0m \u001b[32m━━━━━━━━━━━━━━━━━━━━\u001b[0m\u001b[37m\u001b[0m \u001b[1m20s\u001b[0m 19ms/step - Brier score: 0.0418 - accuracy: 0.9454 - auc: 0.9613 - cross entropy: 0.1837 - fn: 269.3197 - fp: 46715.5742 - loss: 0.2141 - prc: 0.3727 - precision: 0.0571 - recall: 0.9118 - tn: 800157.1250 - tp: 2771.0000 - val_Brier score: 0.0130 - val_accuracy: 0.9780 - val_auc: 0.9789 - val_cross entropy: 0.0908 - val_fn: 145.0000 - val_fp: 9182.0000 - val_loss: 0.0908 - val_prc: 0.7486 - val_precision: 0.1283 - val_recall: 0.9031 - val_tn: 412792.0000 - val_tp: 1352.0000\n",
            "Epoch 49/100\n",
            "\u001b[1m828/828\u001b[0m \u001b[32m━━━━━━━━━━━━━━━━━━━━\u001b[0m\u001b[37m\u001b[0m \u001b[1m20s\u001b[0m 19ms/step - Brier score: 0.0432 - accuracy: 0.9433 - auc: 0.9595 - cross entropy: 0.1886 - fn: 287.4753 - fp: 47688.7891 - loss: 0.2241 - prc: 0.3588 - precision: 0.0554 - recall: 0.9065 - tn: 799156.5000 - tp: 2780.2871 - val_Brier score: 0.0134 - val_accuracy: 0.9789 - val_auc: 0.9735 - val_cross entropy: 0.0945 - val_fn: 141.0000 - val_fp: 8810.0000 - val_loss: 0.0945 - val_prc: 0.7761 - val_precision: 0.1334 - val_recall: 0.9058 - val_tn: 413164.0000 - val_tp: 1356.0000\n",
            "Epoch 50/100\n",
            "\u001b[1m828/828\u001b[0m \u001b[32m━━━━━━━━━━━━━━━━━━━━\u001b[0m\u001b[37m\u001b[0m \u001b[1m16s\u001b[0m 19ms/step - Brier score: 0.0397 - accuracy: 0.9488 - auc: 0.9620 - cross entropy: 0.1782 - fn: 278.6731 - fp: 42913.8711 - loss: 0.2096 - prc: 0.3969 - precision: 0.0604 - recall: 0.9130 - tn: 803945.9375 - tp: 2774.5718 - val_Brier score: 0.0144 - val_accuracy: 0.9786 - val_auc: 0.9714 - val_cross entropy: 0.0942 - val_fn: 144.0000 - val_fp: 8916.0000 - val_loss: 0.0942 - val_prc: 0.7665 - val_precision: 0.1318 - val_recall: 0.9038 - val_tn: 413058.0000 - val_tp: 1353.0000\n",
            "Epoch 51/100\n",
            "\u001b[1m828/828\u001b[0m \u001b[32m━━━━━━━━━━━━━━━━━━━━\u001b[0m\u001b[37m\u001b[0m \u001b[1m16s\u001b[0m 19ms/step - Brier score: 0.0395 - accuracy: 0.9515 - auc: 0.9552 - cross entropy: 0.1802 - fn: 290.6261 - fp: 40722.2383 - loss: 0.2225 - prc: 0.3943 - precision: 0.0638 - recall: 0.9046 - tn: 806128.3125 - tp: 2771.8794 - val_Brier score: 0.0136 - val_accuracy: 0.9782 - val_auc: 0.9723 - val_cross entropy: 0.0926 - val_fn: 144.0000 - val_fp: 9068.0000 - val_loss: 0.0926 - val_prc: 0.7711 - val_precision: 0.1298 - val_recall: 0.9038 - val_tn: 412906.0000 - val_tp: 1353.0000\n",
            "Epoch 52/100\n",
            "\u001b[1m828/828\u001b[0m \u001b[32m━━━━━━━━━━━━━━━━━━━━\u001b[0m\u001b[37m\u001b[0m \u001b[1m22s\u001b[0m 22ms/step - Brier score: 0.0374 - accuracy: 0.9544 - auc: 0.9580 - cross entropy: 0.1735 - fn: 287.7213 - fp: 38977.9023 - loss: 0.2121 - prc: 0.4045 - precision: 0.0656 - recall: 0.9048 - tn: 807930.8750 - tp: 2716.5476 - val_Brier score: 0.0142 - val_accuracy: 0.9769 - val_auc: 0.9707 - val_cross entropy: 0.0938 - val_fn: 137.0000 - val_fp: 9656.0000 - val_loss: 0.0938 - val_prc: 0.7524 - val_precision: 0.1235 - val_recall: 0.9085 - val_tn: 412318.0000 - val_tp: 1360.0000\n",
            "Epoch 53/100\n",
            "\u001b[1m828/828\u001b[0m \u001b[32m━━━━━━━━━━━━━━━━━━━━\u001b[0m\u001b[37m\u001b[0m \u001b[1m16s\u001b[0m 20ms/step - Brier score: 0.0393 - accuracy: 0.9513 - auc: 0.9594 - cross entropy: 0.1780 - fn: 284.7141 - fp: 40702.8086 - loss: 0.2171 - prc: 0.3891 - precision: 0.0626 - recall: 0.9045 - tn: 806187.6250 - tp: 2737.8733 - val_Brier score: 0.0138 - val_accuracy: 0.9777 - val_auc: 0.9758 - val_cross entropy: 0.0933 - val_fn: 139.0000 - val_fp: 9295.0000 - val_loss: 0.0933 - val_prc: 0.7790 - val_precision: 0.1275 - val_recall: 0.9071 - val_tn: 412679.0000 - val_tp: 1358.0000\n",
            "Epoch 54/100\n",
            "\u001b[1m828/828\u001b[0m \u001b[32m━━━━━━━━━━━━━━━━━━━━\u001b[0m\u001b[37m\u001b[0m \u001b[1m16s\u001b[0m 19ms/step - Brier score: 0.0385 - accuracy: 0.9517 - auc: 0.9593 - cross entropy: 0.1733 - fn: 271.5670 - fp: 40459.1680 - loss: 0.2098 - prc: 0.4208 - precision: 0.0637 - recall: 0.9117 - tn: 806418.9375 - tp: 2763.3643 - val_Brier score: 0.0164 - val_accuracy: 0.9779 - val_auc: 0.9743 - val_cross entropy: 0.1049 - val_fn: 138.0000 - val_fp: 9232.0000 - val_loss: 0.1049 - val_prc: 0.7650 - val_precision: 0.1283 - val_recall: 0.9078 - val_tn: 412742.0000 - val_tp: 1359.0000\n",
            "Epoch 55/100\n",
            "\u001b[1m828/828\u001b[0m \u001b[32m━━━━━━━━━━━━━━━━━━━━\u001b[0m\u001b[37m\u001b[0m \u001b[1m19s\u001b[0m 23ms/step - Brier score: 0.0408 - accuracy: 0.9499 - auc: 0.9628 - cross entropy: 0.1830 - fn: 271.7189 - fp: 41824.7305 - loss: 0.2095 - prc: 0.3970 - precision: 0.0619 - recall: 0.9121 - tn: 805037.3750 - tp: 2779.2146 - val_Brier score: 0.0132 - val_accuracy: 0.9813 - val_auc: 0.9723 - val_cross entropy: 0.0913 - val_fn: 150.0000 - val_fp: 7765.0000 - val_loss: 0.0913 - val_prc: 0.7786 - val_precision: 0.1478 - val_recall: 0.8998 - val_tn: 414209.0000 - val_tp: 1347.0000\n",
            "Epoch 56/100\n",
            "\u001b[1m828/828\u001b[0m \u001b[32m━━━━━━━━━━━━━━━━━━━━\u001b[0m\u001b[37m\u001b[0m \u001b[1m18s\u001b[0m 20ms/step - Brier score: 0.0396 - accuracy: 0.9495 - auc: 0.9623 - cross entropy: 0.1756 - fn: 268.9240 - fp: 42686.4805 - loss: 0.2076 - prc: 0.4117 - precision: 0.0604 - recall: 0.9110 - tn: 804215.3750 - tp: 2742.2690 - val_Brier score: 0.0136 - val_accuracy: 0.9810 - val_auc: 0.9772 - val_cross entropy: 0.0951 - val_fn: 148.0000 - val_fp: 7907.0000 - val_loss: 0.0951 - val_prc: 0.7686 - val_precision: 0.1457 - val_recall: 0.9011 - val_tn: 414067.0000 - val_tp: 1349.0000\n",
            "Epoch 57/100\n",
            "\u001b[1m828/828\u001b[0m \u001b[32m━━━━━━━━━━━━━━━━━━━━\u001b[0m\u001b[37m\u001b[0m \u001b[1m17s\u001b[0m 20ms/step - Brier score: 0.0380 - accuracy: 0.9529 - auc: 0.9653 - cross entropy: 0.1737 - fn: 265.0591 - fp: 39585.9648 - loss: 0.2035 - prc: 0.3999 - precision: 0.0647 - recall: 0.9125 - tn: 807312.8750 - tp: 2749.1509 - val_Brier score: 0.0126 - val_accuracy: 0.9815 - val_auc: 0.9736 - val_cross entropy: 0.0882 - val_fn: 152.0000 - val_fp: 7667.0000 - val_loss: 0.0882 - val_prc: 0.7841 - val_precision: 0.1492 - val_recall: 0.8985 - val_tn: 414307.0000 - val_tp: 1345.0000\n",
            "Epoch 58/100\n",
            "\u001b[1m828/828\u001b[0m \u001b[32m━━━━━━━━━━━━━━━━━━━━\u001b[0m\u001b[37m\u001b[0m \u001b[1m18s\u001b[0m 22ms/step - Brier score: 0.0391 - accuracy: 0.9513 - auc: 0.9596 - cross entropy: 0.1757 - fn: 288.4692 - fp: 41203.9609 - loss: 0.2159 - prc: 0.4140 - precision: 0.0614 - recall: 0.9027 - tn: 805715.7500 - tp: 2704.8552 - val_Brier score: 0.0144 - val_accuracy: 0.9791 - val_auc: 0.9730 - val_cross entropy: 0.0945 - val_fn: 137.0000 - val_fp: 8727.0000 - val_loss: 0.0945 - val_prc: 0.7811 - val_precision: 0.1348 - val_recall: 0.9085 - val_tn: 413247.0000 - val_tp: 1360.0000\n",
            "Epoch 59/100\n",
            "\u001b[1m828/828\u001b[0m \u001b[32m━━━━━━━━━━━━━━━━━━━━\u001b[0m\u001b[37m\u001b[0m \u001b[1m17s\u001b[0m 20ms/step - Brier score: 0.0419 - accuracy: 0.9439 - auc: 0.9630 - cross entropy: 0.1800 - fn: 269.9397 - fp: 47116.7148 - loss: 0.2090 - prc: 0.4136 - precision: 0.0556 - recall: 0.9137 - tn: 799773.7500 - tp: 2752.6550 - val_Brier score: 0.0137 - val_accuracy: 0.9764 - val_auc: 0.9758 - val_cross entropy: 0.0912 - val_fn: 130.0000 - val_fp: 9871.0000 - val_loss: 0.0912 - val_prc: 0.7569 - val_precision: 0.1216 - val_recall: 0.9132 - val_tn: 412103.0000 - val_tp: 1367.0000\n",
            "Epoch 60/100\n",
            "\u001b[1m828/828\u001b[0m \u001b[32m━━━━━━━━━━━━━━━━━━━━\u001b[0m\u001b[37m\u001b[0m \u001b[1m20s\u001b[0m 20ms/step - Brier score: 0.0399 - accuracy: 0.9470 - auc: 0.9614 - cross entropy: 0.1766 - fn: 265.1049 - fp: 44755.3242 - loss: 0.2108 - prc: 0.3820 - precision: 0.0561 - recall: 0.9064 - tn: 802170.3125 - tp: 2722.3281 - val_Brier score: 0.0142 - val_accuracy: 0.9794 - val_auc: 0.9761 - val_cross entropy: 0.0920 - val_fn: 142.0000 - val_fp: 8565.0000 - val_loss: 0.0920 - val_prc: 0.7722 - val_precision: 0.1366 - val_recall: 0.9051 - val_tn: 413409.0000 - val_tp: 1355.0000\n",
            "Epoch 61/100\n",
            "\u001b[1m828/828\u001b[0m \u001b[32m━━━━━━━━━━━━━━━━━━━━\u001b[0m\u001b[37m\u001b[0m \u001b[1m22s\u001b[0m 21ms/step - Brier score: 0.0383 - accuracy: 0.9504 - auc: 0.9620 - cross entropy: 0.1720 - fn: 266.5826 - fp: 42873.8594 - loss: 0.2036 - prc: 0.3975 - precision: 0.0610 - recall: 0.9145 - tn: 804051.0625 - tp: 2721.5151 - val_Brier score: 0.0135 - val_accuracy: 0.9797 - val_auc: 0.9745 - val_cross entropy: 0.0928 - val_fn: 138.0000 - val_fp: 8456.0000 - val_loss: 0.0928 - val_prc: 0.7774 - val_precision: 0.1385 - val_recall: 0.9078 - val_tn: 413518.0000 - val_tp: 1359.0000\n",
            "Epoch 62/100\n",
            "\u001b[1m828/828\u001b[0m \u001b[32m━━━━━━━━━━━━━━━━━━━━\u001b[0m\u001b[37m\u001b[0m \u001b[1m19s\u001b[0m 20ms/step - Brier score: 0.0381 - accuracy: 0.9513 - auc: 0.9625 - cross entropy: 0.1728 - fn: 262.7744 - fp: 40622.8867 - loss: 0.2065 - prc: 0.4050 - precision: 0.0627 - recall: 0.9132 - tn: 806294.8750 - tp: 2732.5283 - val_Brier score: 0.0131 - val_accuracy: 0.9768 - val_auc: 0.9725 - val_cross entropy: 0.0910 - val_fn: 135.0000 - val_fp: 9702.0000 - val_loss: 0.0910 - val_prc: 0.7717 - val_precision: 0.1231 - val_recall: 0.9098 - val_tn: 412272.0000 - val_tp: 1362.0000\n",
            "Epoch 63/100\n",
            "\u001b[1m828/828\u001b[0m \u001b[32m━━━━━━━━━━━━━━━━━━━━\u001b[0m\u001b[37m\u001b[0m \u001b[1m16s\u001b[0m 20ms/step - Brier score: 0.0391 - accuracy: 0.9490 - auc: 0.9623 - cross entropy: 0.1755 - fn: 261.2762 - fp: 42730.8555 - loss: 0.2079 - prc: 0.3901 - precision: 0.0608 - recall: 0.9140 - tn: 804119.8750 - tp: 2801.0374 - val_Brier score: 0.0119 - val_accuracy: 0.9834 - val_auc: 0.9703 - val_cross entropy: 0.0861 - val_fn: 157.0000 - val_fp: 6862.0000 - val_loss: 0.0861 - val_prc: 0.7889 - val_precision: 0.1634 - val_recall: 0.8951 - val_tn: 415112.0000 - val_tp: 1340.0000\n",
            "Epoch 64/100\n",
            "\u001b[1m828/828\u001b[0m \u001b[32m━━━━━━━━━━━━━━━━━━━━\u001b[0m\u001b[37m\u001b[0m \u001b[1m17s\u001b[0m 20ms/step - Brier score: 0.0372 - accuracy: 0.9524 - auc: 0.9608 - cross entropy: 0.1685 - fn: 266.5404 - fp: 41002.3906 - loss: 0.2070 - prc: 0.4179 - precision: 0.0638 - recall: 0.9089 - tn: 805909.1875 - tp: 2734.9482 - val_Brier score: 0.0140 - val_accuracy: 0.9787 - val_auc: 0.9766 - val_cross entropy: 0.0946 - val_fn: 138.0000 - val_fp: 8887.0000 - val_loss: 0.0946 - val_prc: 0.7784 - val_precision: 0.1326 - val_recall: 0.9078 - val_tn: 413087.0000 - val_tp: 1359.0000\n",
            "Epoch 65/100\n",
            "\u001b[1m828/828\u001b[0m \u001b[32m━━━━━━━━━━━━━━━━━━━━\u001b[0m\u001b[37m\u001b[0m \u001b[1m17s\u001b[0m 20ms/step - Brier score: 0.0391 - accuracy: 0.9485 - auc: 0.9638 - cross entropy: 0.1744 - fn: 258.6683 - fp: 43824.5312 - loss: 0.2059 - prc: 0.4168 - precision: 0.0599 - recall: 0.9130 - tn: 803052.6250 - tp: 2777.2351 - val_Brier score: 0.0135 - val_accuracy: 0.9812 - val_auc: 0.9721 - val_cross entropy: 0.0952 - val_fn: 139.0000 - val_fp: 7804.0000 - val_loss: 0.0952 - val_prc: 0.7950 - val_precision: 0.1482 - val_recall: 0.9071 - val_tn: 414170.0000 - val_tp: 1358.0000\n",
            "Epoch 66/100\n",
            "\u001b[1m828/828\u001b[0m \u001b[32m━━━━━━━━━━━━━━━━━━━━\u001b[0m\u001b[37m\u001b[0m \u001b[1m22s\u001b[0m 22ms/step - Brier score: 0.0383 - accuracy: 0.9495 - auc: 0.9639 - cross entropy: 0.1711 - fn: 258.1822 - fp: 42748.8047 - loss: 0.1996 - prc: 0.4015 - precision: 0.0586 - recall: 0.9139 - tn: 804200.9375 - tp: 2705.1169 - val_Brier score: 0.0133 - val_accuracy: 0.9799 - val_auc: 0.9765 - val_cross entropy: 0.0922 - val_fn: 139.0000 - val_fp: 8353.0000 - val_loss: 0.0922 - val_prc: 0.7902 - val_precision: 0.1398 - val_recall: 0.9071 - val_tn: 413621.0000 - val_tp: 1358.0000\n",
            "Epoch 67/100\n",
            "\u001b[1m828/828\u001b[0m \u001b[32m━━━━━━━━━━━━━━━━━━━━\u001b[0m\u001b[37m\u001b[0m \u001b[1m19s\u001b[0m 20ms/step - Brier score: 0.0365 - accuracy: 0.9536 - auc: 0.9607 - cross entropy: 0.1671 - fn: 264.0290 - fp: 38720.2695 - loss: 0.2017 - prc: 0.4106 - precision: 0.0641 - recall: 0.9131 - tn: 808215.3125 - tp: 2713.4463 - val_Brier score: 0.0134 - val_accuracy: 0.9806 - val_auc: 0.9766 - val_cross entropy: 0.0943 - val_fn: 150.0000 - val_fp: 8078.0000 - val_loss: 0.0943 - val_prc: 0.7837 - val_precision: 0.1429 - val_recall: 0.8998 - val_tn: 413896.0000 - val_tp: 1347.0000\n",
            "Epoch 68/100\n",
            "\u001b[1m828/828\u001b[0m \u001b[32m━━━━━━━━━━━━━━━━━━━━\u001b[0m\u001b[37m\u001b[0m \u001b[1m16s\u001b[0m 20ms/step - Brier score: 0.0375 - accuracy: 0.9520 - auc: 0.9640 - cross entropy: 0.1700 - fn: 261.3655 - fp: 41012.7266 - loss: 0.1988 - prc: 0.4091 - precision: 0.0642 - recall: 0.9165 - tn: 805865.1875 - tp: 2773.7854 - val_Brier score: 0.0115 - val_accuracy: 0.9826 - val_auc: 0.9760 - val_cross entropy: 0.0839 - val_fn: 144.0000 - val_fp: 7219.0000 - val_loss: 0.0839 - val_prc: 0.7830 - val_precision: 0.1578 - val_recall: 0.9038 - val_tn: 414755.0000 - val_tp: 1353.0000\n",
            "Epoch 69/100\n",
            "\u001b[1m828/828\u001b[0m \u001b[32m━━━━━━━━━━━━━━━━━━━━\u001b[0m\u001b[37m\u001b[0m \u001b[1m18s\u001b[0m 22ms/step - Brier score: 0.0385 - accuracy: 0.9484 - auc: 0.9646 - cross entropy: 0.1716 - fn: 253.5935 - fp: 44009.4062 - loss: 0.2004 - prc: 0.3920 - precision: 0.0591 - recall: 0.9165 - tn: 802899.1250 - tp: 2750.9277 - val_Brier score: 0.0152 - val_accuracy: 0.9764 - val_auc: 0.9749 - val_cross entropy: 0.0947 - val_fn: 137.0000 - val_fp: 9869.0000 - val_loss: 0.0947 - val_prc: 0.7720 - val_precision: 0.1211 - val_recall: 0.9085 - val_tn: 412105.0000 - val_tp: 1360.0000\n",
            "Epoch 70/100\n",
            "\u001b[1m828/828\u001b[0m \u001b[32m━━━━━━━━━━━━━━━━━━━━\u001b[0m\u001b[37m\u001b[0m \u001b[1m18s\u001b[0m 20ms/step - Brier score: 0.0402 - accuracy: 0.9471 - auc: 0.9627 - cross entropy: 0.1781 - fn: 266.2617 - fp: 45784.5781 - loss: 0.2103 - prc: 0.3843 - precision: 0.0584 - recall: 0.9130 - tn: 801093.0625 - tp: 2769.1714 - val_Brier score: 0.0150 - val_accuracy: 0.9754 - val_auc: 0.9728 - val_cross entropy: 0.0952 - val_fn: 137.0000 - val_fp: 10297.0000 - val_loss: 0.0952 - val_prc: 0.7681 - val_precision: 0.1167 - val_recall: 0.9085 - val_tn: 411677.0000 - val_tp: 1360.0000\n",
            "Epoch 71/100\n",
            "\u001b[1m828/828\u001b[0m \u001b[32m━━━━━━━━━━━━━━━━━━━━\u001b[0m\u001b[37m\u001b[0m \u001b[1m16s\u001b[0m 19ms/step - Brier score: 0.0397 - accuracy: 0.9451 - auc: 0.9594 - cross entropy: 0.1752 - fn: 271.1279 - fp: 46547.3828 - loss: 0.2114 - prc: 0.4126 - precision: 0.0557 - recall: 0.9104 - tn: 800334.3125 - tp: 2760.2146 - val_Brier score: 0.0120 - val_accuracy: 0.9794 - val_auc: 0.9718 - val_cross entropy: 0.0811 - val_fn: 138.0000 - val_fp: 8602.0000 - val_loss: 0.0811 - val_prc: 0.7737 - val_precision: 0.1364 - val_recall: 0.9078 - val_tn: 413372.0000 - val_tp: 1359.0000\n",
            "Epoch 72/100\n",
            "\u001b[1m828/828\u001b[0m \u001b[32m━━━━━━━━━━━━━━━━━━━━\u001b[0m\u001b[37m\u001b[0m \u001b[1m17s\u001b[0m 20ms/step - Brier score: 0.0369 - accuracy: 0.9486 - auc: 0.9555 - cross entropy: 0.1668 - fn: 268.1025 - fp: 43151.6797 - loss: 0.2147 - prc: 0.4079 - precision: 0.0587 - recall: 0.9064 - tn: 803749.1250 - tp: 2744.1086 - val_Brier score: 0.0135 - val_accuracy: 0.9788 - val_auc: 0.9743 - val_cross entropy: 0.0887 - val_fn: 134.0000 - val_fp: 8855.0000 - val_loss: 0.0887 - val_prc: 0.7816 - val_precision: 0.1334 - val_recall: 0.9105 - val_tn: 413119.0000 - val_tp: 1363.0000\n",
            "Epoch 73/100\n",
            "\u001b[1m828/828\u001b[0m \u001b[32m━━━━━━━━━━━━━━━━━━━━\u001b[0m\u001b[37m\u001b[0m \u001b[1m22s\u001b[0m 22ms/step - Brier score: 0.0395 - accuracy: 0.9461 - auc: 0.9633 - cross entropy: 0.1760 - fn: 258.6248 - fp: 45068.1875 - loss: 0.2080 - prc: 0.3899 - precision: 0.0580 - recall: 0.9139 - tn: 801806.8125 - tp: 2779.3979 - val_Brier score: 0.0134 - val_accuracy: 0.9794 - val_auc: 0.9750 - val_cross entropy: 0.0890 - val_fn: 138.0000 - val_fp: 8578.0000 - val_loss: 0.0890 - val_prc: 0.7785 - val_precision: 0.1368 - val_recall: 0.9078 - val_tn: 413396.0000 - val_tp: 1359.0000\n",
            "Epoch 74/100\n",
            "\u001b[1m828/828\u001b[0m \u001b[32m━━━━━━━━━━━━━━━━━━━━\u001b[0m\u001b[37m\u001b[0m \u001b[1m19s\u001b[0m 20ms/step - Brier score: 0.0361 - accuracy: 0.9515 - auc: 0.9605 - cross entropy: 0.1643 - fn: 249.8866 - fp: 40040.8594 - loss: 0.2034 - prc: 0.4174 - precision: 0.0635 - recall: 0.9171 - tn: 806870.8750 - tp: 2751.4258 - val_Brier score: 0.0117 - val_accuracy: 0.9837 - val_auc: 0.9719 - val_cross entropy: 0.0863 - val_fn: 154.0000 - val_fp: 6757.0000 - val_loss: 0.0863 - val_prc: 0.7963 - val_precision: 0.1658 - val_recall: 0.8971 - val_tn: 415217.0000 - val_tp: 1343.0000\n",
            "Epoch 74: early stopping\n",
            "Restoring model weights from the end of the best epoch: 59.\n"
          ]
        }
      ]
    },
    {
      "cell_type": "code",
      "source": [
        "def plot_metrics(history):\n",
        "  metrics = ['loss', 'prc', 'precision', 'recall']\n",
        "  for n, metric in enumerate(metrics):\n",
        "    name = metric.replace(\"_\",\" \").capitalize()\n",
        "    plt.subplot(2,2,n+1)\n",
        "    plt.plot(history.epoch, history.history[metric], color=colors[0], label='Train')\n",
        "    plt.plot(history.epoch, history.history['val_'+metric],\n",
        "             color=colors[0], linestyle=\"--\", label='Val')\n",
        "    plt.xlabel('Epoch')\n",
        "    plt.ylabel(name)\n",
        "    if metric == 'loss':\n",
        "      plt.ylim([0, plt.ylim()[1]])\n",
        "    elif metric == 'auc':\n",
        "      plt.ylim([0.8,1])\n",
        "    else:\n",
        "      plt.ylim([0,1])\n",
        "\n",
        "    plt.legend()"
      ],
      "metadata": {
        "id": "B-FGWSv7o3d1"
      },
      "execution_count": 33,
      "outputs": []
    },
    {
      "cell_type": "markdown",
      "source": [
        "## Comparing metric history - Baseline versus Weighted"
      ],
      "metadata": {
        "id": "qt5Q5VvrpAAf"
      }
    },
    {
      "cell_type": "code",
      "source": [
        "plot_metrics(weighted_history)"
      ],
      "metadata": {
        "colab": {
          "base_uri": "https://localhost:8080/",
          "height": 455
        },
        "id": "1X-nyU-8oo9u",
        "outputId": "5d2d02c6-55f0-458b-a90d-1634d80c23c5"
      },
      "execution_count": 34,
      "outputs": [
        {
          "output_type": "display_data",
          "data": {
            "text/plain": [
              "<Figure size 640x480 with 4 Axes>"
            ],
            "image/png": "[encoded data removed]"
          },
          "metadata": {}
        }
      ]
    },
    {
      "cell_type": "code",
      "source": [
        "plot_metrics(baseline_history)"
      ],
      "metadata": {
        "colab": {
          "base_uri": "https://localhost:8080/",
          "height": 455
        },
        "id": "IbjRQ4Lfo7cS",
        "outputId": "c4c1b046-b708-4a55-a809-686ff4f16958"
      },
      "execution_count": 35,
      "outputs": [
        {
          "output_type": "display_data",
          "data": {
            "text/plain": [
              "<Figure size 640x480 with 4 Axes>"
            ],
            "image/png": "[encoded data removed]"
          },
          "metadata": {}
        }
      ]
    },
    {
      "cell_type": "markdown",
      "source": [
        "## Evaluate metrics"
      ],
      "metadata": {
        "id": "JU77KPaKpxOm"
      }
    },
    {
      "cell_type": "code",
      "source": [
        "train_predictions_weighted = weighted_model.predict(train_features, batch_size=BATCH_SIZE)\n",
        "test_predictions_weighted = weighted_model.predict(test_features, batch_size=BATCH_SIZE)"
      ],
      "metadata": {
        "colab": {
          "base_uri": "https://localhost:8080/"
        },
        "id": "AYQAejI7p103",
        "outputId": "79fe1f0a-9ad3-422c-f123-cad79edd45a3"
      },
      "execution_count": 36,
      "outputs": [
        {
          "output_type": "stream",
          "name": "stdout",
          "text": [
            "\u001b[1m828/828\u001b[0m \u001b[32m━━━━━━━━━━━━━━━━━━━━\u001b[0m\u001b[37m\u001b[0m \u001b[1m2s\u001b[0m 3ms/step\n",
            "\u001b[1m259/259\u001b[0m \u001b[32m━━━━━━━━━━━━━━━━━━━━\u001b[0m\u001b[37m\u001b[0m \u001b[1m1s\u001b[0m 3ms/step\n"
          ]
        }
      ]
    },
    {
      "cell_type": "code",
      "source": [
        "weighted_results = weighted_model.evaluate(test_features, test_labels,\n",
        "                                           batch_size=BATCH_SIZE, verbose=0)\n",
        "for name, value in zip(weighted_model.metrics_names, weighted_results):\n",
        "  print(name, ': ', value)\n",
        "print()\n",
        "\n",
        "plot_cm(test_labels, test_predictions_weighted)"
      ],
      "metadata": {
        "colab": {
          "base_uri": "https://localhost:8080/",
          "height": 543
        },
        "id": "oOhZfRULqpm8",
        "outputId": "530075e5-bc53-42b5-8364-cfcb8c14c5c4"
      },
      "execution_count": 37,
      "outputs": [
        {
          "output_type": "stream",
          "name": "stdout",
          "text": [
            "loss :  0.09162864834070206\n",
            "compile_metrics :  0.09162864834070206\n",
            "\n"
          ]
        },
        {
          "output_type": "display_data",
          "data": {
            "text/plain": [
              "<Figure size 500x500 with 2 Axes>"
            ],
            "image/png": "[encoded data removed]"
          },
          "metadata": {}
        }
      ]
    },
    {
      "cell_type": "code",
      "source": [
        "f1 = f1_score(test_labels, test_predictions_weighted > 0.5)\n",
        "print(f'F1 Score: {f1}')\n",
        "# print(f'Precision: {precision_score(test_labels, test_predictions_weighted > 0.5)}')\n",
        "# print(f'Recall: {recall_score(test_labels, test_predictions_weighted > 0.5)}')"
      ],
      "metadata": {
        "colab": {
          "base_uri": "https://localhost:8080/"
        },
        "id": "29j8ixq5QGVd",
        "outputId": "afbf615b-e3ce-4a0e-92b4-2e171e4956fc"
      },
      "execution_count": 38,
      "outputs": [
        {
          "output_type": "stream",
          "name": "stdout",
          "text": [
            "F1 Score: 0.2110515155294998\n"
          ]
        }
      ]
    },
    {
      "cell_type": "code",
      "execution_count": null,
      "metadata": {
        "id": "XM5HtAZuNrrN"
      },
      "outputs": [],
      "source": [
        "# saving the file\n",
        "import pickle\n",
        "file_path = '/content/drive/MyDrive/Documents/Data Career/fraud_classification/fraud_class_tf.pkl'\n",
        "\n",
        "with open(file_path, \"wb\") as f:\n",
        "    pickle.dump(model, f)"
      ]
    },
    {
      "cell_type": "code",
      "source": [],
      "metadata": {
        "id": "lNTbSN_x8oGI"
      },
      "execution_count": null,
      "outputs": []
    }
  ],
  "metadata": {
    "colab": {
      "provenance": [],
      "mount_file_id": "15btsJkvhspBfdtWfosIXV7QR0hRb-fc2",
      "authorship_tag": "ABX9TyM/2+7hEIOxdcNNz6usECCj",
      "include_colab_link": true
    },
    "kernelspec": {
      "display_name": "Python 3",
      "name": "python3"
    },
    "language_info": {
      "name": "python"
    }
  },
  "nbformat": 4,
  "nbformat_minor": 0
}