{
  "cells": [
    {
      "cell_type": "markdown",
      "metadata": {
        "id": "view-in-github",
        "colab_type": "text"
      },
      "source": [
        "<a href=\"https://colab.research.google.com/github/lro99/fraud_classification/blob/main/Fraud.ipynb\" target=\"_parent\"><img src=\"https://colab.research.google.com/assets/colab-badge.svg\" alt=\"Open In Colab\"/></a>"
      ]
    },
    {
      "cell_type": "code",
      "execution_count": 1,
      "metadata": {
        "id": "U8fZwC_f6jTs"
      },
      "outputs": [],
      "source": [
        "import pandas as pd\n",
        "import numpy as np\n",
        "import random\n",
        "import matplotlib.pyplot as plt\n",
        "import seaborn as sns\n",
        "import os\n",
        "from sklearn.linear_model import LogisticRegression\n",
        "from sklearn.model_selection import train_test_split, cross_val_score, StratifiedKFold\n",
        "from sklearn.preprocessing import LabelEncoder, OneHotEncoder, StandardScaler\n",
        "from sklearn.metrics import accuracy_score, confusion_matrix\n",
        "from sklearn.ensemble import RandomForestClassifier\n",
        "from sklearn.compose import ColumnTransformer\n",
        "from sklearn.pipeline import Pipeline\n",
        "from imblearn.under_sampling import RandomUnderSampler\n",
        "# from google.colab import drive\n",
        "\n",
        "import tensorflow as tf\n",
        "from tensorflow import keras\n",
        "random.seed(42)"
      ]
    },
    {
      "cell_type": "code",
      "execution_count": 2,
      "metadata": {
        "id": "buObYEappVrO"
      },
      "outputs": [],
      "source": [
        "# drive.mount('/content/drive')"
      ]
    },
    {
      "cell_type": "code",
      "execution_count": 3,
      "metadata": {
        "id": "PYpjsrR48DUQ"
      },
      "outputs": [],
      "source": [
        "train = pd.read_parquet('/content/drive/MyDrive/Documents/Data Career/fraud_classification/train-00000-of-00002.parquet')\n",
        "train.to_csv('fraud0.csv')\n",
        "\n",
        "train1 = pd.read_parquet('/content/drive/MyDrive/Documents/Data Career/fraud_classification/train-00001-of-00002.parquet')\n",
        "train1.to_csv('fraud1.csv')"
      ]
    },
    {
      "cell_type": "code",
      "execution_count": 4,
      "metadata": {
        "id": "_APbP9498JBK"
      },
      "outputs": [],
      "source": [
        "# train1.head()"
      ]
    },
    {
      "cell_type": "code",
      "execution_count": 5,
      "metadata": {
        "id": "84PpWmdE96Tn"
      },
      "outputs": [],
      "source": [
        "# train.head()"
      ]
    },
    {
      "cell_type": "code",
      "execution_count": 6,
      "metadata": {
        "colab": {
          "base_uri": "https://localhost:8080/",
          "height": 399
        },
        "id": "oPJgJoQ0_gAp",
        "outputId": "12de2b37-139f-4608-fe5c-7638d5981455"
      },
      "outputs": [
        {
          "output_type": "execute_result",
          "data": {
            "text/plain": [
              "           ssn            cc_num    first   last gender      city state  \\\n",
              "0  367-85-9826  4361337605230458  Kristie  Davis      F  Chandler    OK   \n",
              "1  367-85-9826  4361337605230458  Kristie  Davis      F  Chandler    OK   \n",
              "2  367-85-9826  4361337605230458  Kristie  Davis      F  Chandler    OK   \n",
              "3  367-85-9826  4361337605230458  Kristie  Davis      F  Chandler    OK   \n",
              "4  367-85-9826  4361337605230458  Kristie  Davis      F  Chandler    OK   \n",
              "\n",
              "     zip  city_pop                     job         dob      acct_num  \\\n",
              "0  74834      7590  Chief Strategy Officer  1987-06-12  349734538563   \n",
              "1  74834      7590  Chief Strategy Officer  1987-06-12  349734538563   \n",
              "2  74834      7590  Chief Strategy Officer  1987-06-12  349734538563   \n",
              "3  74834      7590  Chief Strategy Officer  1987-06-12  349734538563   \n",
              "4  74834      7590  Chief Strategy Officer  1987-06-12  349734538563   \n",
              "\n",
              "                          trans_num  trans_date trans_time   unix_time  \\\n",
              "0  c036244703adb9d5392f4027d9d4b38d  2021-07-31   02:30:01  1627678801   \n",
              "1  42f000b0b3b0ef534e5b8ef9ec1db13a  2021-08-01   22:37:41  1627837661   \n",
              "2  543037b1baf088961e58d00b705f4bcc  2021-08-01   23:02:09  1627839129   \n",
              "3  00a4e08643edebf9277c2967676f6a26  2021-08-01   22:27:24  1627837044   \n",
              "4  492c4412815306718f686fc5b459a285  2021-12-02   02:28:51  1638392331   \n",
              "\n",
              "         category     amt  is_fraud                merchant  \n",
              "0     grocery_pos  337.54         1           fraud_Kovacek  \n",
              "1   personal_care   21.13         1           fraud_Bradtke  \n",
              "2   personal_care   22.61         1     fraud_Kozey-Kuhlman  \n",
              "3  health_fitness   17.32         1             fraud_Hills  \n",
              "4        misc_pos   75.82         0  fraud_Kemmer-Buckridge  "
            ],
            "text/html": [
              "\n",
              "  <div id=\"df-0515116d-d4c5-43a8-a0d8-58eb31ef503e\" class=\"colab-df-container\">\n",
              "    <div>\n",
              "<style scoped>\n",
              "    .dataframe tbody tr th:only-of-type {\n",
              "        vertical-align: middle;\n",
              "    }\n",
              "\n",
              "    .dataframe tbody tr th {\n",
              "        vertical-align: top;\n",
              "    }\n",
              "\n",
              "    .dataframe thead th {\n",
              "        text-align: right;\n",
              "    }\n",
              "</style>\n",
              "<table border=\"1\" class=\"dataframe\">\n",
              "  <thead>\n",
              "    <tr style=\"text-align: right;\">\n",
              "      <th></th>\n",
              "      <th>ssn</th>\n",
              "      <th>cc_num</th>\n",
              "      <th>first</th>\n",
              "      <th>last</th>\n",
              "      <th>gender</th>\n",
              "      <th>city</th>\n",
              "      <th>state</th>\n",
              "      <th>zip</th>\n",
              "      <th>city_pop</th>\n",
              "      <th>job</th>\n",
              "      <th>dob</th>\n",
              "      <th>acct_num</th>\n",
              "      <th>trans_num</th>\n",
              "      <th>trans_date</th>\n",
              "      <th>trans_time</th>\n",
              "      <th>unix_time</th>\n",
              "      <th>category</th>\n",
              "      <th>amt</th>\n",
              "      <th>is_fraud</th>\n",
              "      <th>merchant</th>\n",
              "    </tr>\n",
              "  </thead>\n",
              "  <tbody>\n",
              "    <tr>\n",
              "      <th>0</th>\n",
              "      <td>367-85-9826</td>\n",
              "      <td>4361337605230458</td>\n",
              "      <td>Kristie</td>\n",
              "      <td>Davis</td>\n",
              "      <td>F</td>\n",
              "      <td>Chandler</td>\n",
              "      <td>OK</td>\n",
              "      <td>74834</td>\n",
              "      <td>7590</td>\n",
              "      <td>Chief Strategy Officer</td>\n",
              "      <td>1987-06-12</td>\n",
              "      <td>349734538563</td>\n",
              "      <td>c036244703adb9d5392f4027d9d4b38d</td>\n",
              "      <td>2021-07-31</td>\n",
              "      <td>02:30:01</td>\n",
              "      <td>1627678801</td>\n",
              "      <td>grocery_pos</td>\n",
              "      <td>337.54</td>\n",
              "      <td>1</td>\n",
              "      <td>fraud_Kovacek</td>\n",
              "    </tr>\n",
              "    <tr>\n",
              "      <th>1</th>\n",
              "      <td>367-85-9826</td>\n",
              "      <td>4361337605230458</td>\n",
              "      <td>Kristie</td>\n",
              "      <td>Davis</td>\n",
              "      <td>F</td>\n",
              "      <td>Chandler</td>\n",
              "      <td>OK</td>\n",
              "      <td>74834</td>\n",
              "      <td>7590</td>\n",
              "      <td>Chief Strategy Officer</td>\n",
              "      <td>1987-06-12</td>\n",
              "      <td>349734538563</td>\n",
              "      <td>42f000b0b3b0ef534e5b8ef9ec1db13a</td>\n",
              "      <td>2021-08-01</td>\n",
              "      <td>22:37:41</td>\n",
              "      <td>1627837661</td>\n",
              "      <td>personal_care</td>\n",
              "      <td>21.13</td>\n",
              "      <td>1</td>\n",
              "      <td>fraud_Bradtke</td>\n",
              "    </tr>\n",
              "    <tr>\n",
              "      <th>2</th>\n",
              "      <td>367-85-9826</td>\n",
              "      <td>4361337605230458</td>\n",
              "      <td>Kristie</td>\n",
              "      <td>Davis</td>\n",
              "      <td>F</td>\n",
              "      <td>Chandler</td>\n",
              "      <td>OK</td>\n",
              "      <td>74834</td>\n",
              "      <td>7590</td>\n",
              "      <td>Chief Strategy Officer</td>\n",
              "      <td>1987-06-12</td>\n",
              "      <td>349734538563</td>\n",
              "      <td>543037b1baf088961e58d00b705f4bcc</td>\n",
              "      <td>2021-08-01</td>\n",
              "      <td>23:02:09</td>\n",
              "      <td>1627839129</td>\n",
              "      <td>personal_care</td>\n",
              "      <td>22.61</td>\n",
              "      <td>1</td>\n",
              "      <td>fraud_Kozey-Kuhlman</td>\n",
              "    </tr>\n",
              "    <tr>\n",
              "      <th>3</th>\n",
              "      <td>367-85-9826</td>\n",
              "      <td>4361337605230458</td>\n",
              "      <td>Kristie</td>\n",
              "      <td>Davis</td>\n",
              "      <td>F</td>\n",
              "      <td>Chandler</td>\n",
              "      <td>OK</td>\n",
              "      <td>74834</td>\n",
              "      <td>7590</td>\n",
              "      <td>Chief Strategy Officer</td>\n",
              "      <td>1987-06-12</td>\n",
              "      <td>349734538563</td>\n",
              "      <td>00a4e08643edebf9277c2967676f6a26</td>\n",
              "      <td>2021-08-01</td>\n",
              "      <td>22:27:24</td>\n",
              "      <td>1627837044</td>\n",
              "      <td>health_fitness</td>\n",
              "      <td>17.32</td>\n",
              "      <td>1</td>\n",
              "      <td>fraud_Hills</td>\n",
              "    </tr>\n",
              "    <tr>\n",
              "      <th>4</th>\n",
              "      <td>367-85-9826</td>\n",
              "      <td>4361337605230458</td>\n",
              "      <td>Kristie</td>\n",
              "      <td>Davis</td>\n",
              "      <td>F</td>\n",
              "      <td>Chandler</td>\n",
              "      <td>OK</td>\n",
              "      <td>74834</td>\n",
              "      <td>7590</td>\n",
              "      <td>Chief Strategy Officer</td>\n",
              "      <td>1987-06-12</td>\n",
              "      <td>349734538563</td>\n",
              "      <td>492c4412815306718f686fc5b459a285</td>\n",
              "      <td>2021-12-02</td>\n",
              "      <td>02:28:51</td>\n",
              "      <td>1638392331</td>\n",
              "      <td>misc_pos</td>\n",
              "      <td>75.82</td>\n",
              "      <td>0</td>\n",
              "      <td>fraud_Kemmer-Buckridge</td>\n",
              "    </tr>\n",
              "  </tbody>\n",
              "</table>\n",
              "</div>\n",
              "    <div class=\"colab-df-buttons\">\n",
              "\n",
              "  <div class=\"colab-df-container\">\n",
              "    <button class=\"colab-df-convert\" onclick=\"convertToInteractive('df-0515116d-d4c5-43a8-a0d8-58eb31ef503e')\"\n",
              "            title=\"Convert this dataframe to an interactive table.\"\n",
              "            style=\"display:none;\">\n",
              "\n",
              "  <svg xmlns=\"http://www.w3.org/2000/svg\" height=\"24px\" viewBox=\"0 -960 960 960\">\n",
              "    <path d=\"M120-120v-720h720v720H120Zm60-500h600v-160H180v160Zm220 220h160v-160H400v160Zm0 220h160v-160H400v160ZM180-400h160v-160H180v160Zm440 0h160v-160H620v160ZM180-180h160v-160H180v160Zm440 0h160v-160H620v160Z\"/>\n",
              "  </svg>\n",
              "    </button>\n",
              "\n",
              "  <style>\n",
              "    .colab-df-container {\n",
              "      display:flex;\n",
              "      gap: 12px;\n",
              "    }\n",
              "\n",
              "    .colab-df-convert {\n",
              "      background-color: #E8F0FE;\n",
              "      border: none;\n",
              "      border-radius: 50%;\n",
              "      cursor: pointer;\n",
              "      display: none;\n",
              "      fill: #1967D2;\n",
              "      height: 32px;\n",
              "      padding: 0 0 0 0;\n",
              "      width: 32px;\n",
              "    }\n",
              "\n",
              "    .colab-df-convert:hover {\n",
              "      background-color: #E2EBFA;\n",
              "      box-shadow: 0px 1px 2px rgba(60, 64, 67, 0.3), 0px 1px 3px 1px rgba(60, 64, 67, 0.15);\n",
              "      fill: #174EA6;\n",
              "    }\n",
              "\n",
              "    .colab-df-buttons div {\n",
              "      margin-bottom: 4px;\n",
              "    }\n",
              "\n",
              "    [theme=dark] .colab-df-convert {\n",
              "      background-color: #3B4455;\n",
              "      fill: #D2E3FC;\n",
              "    }\n",
              "\n",
              "    [theme=dark] .colab-df-convert:hover {\n",
              "      background-color: #434B5C;\n",
              "      box-shadow: 0px 1px 3px 1px rgba(0, 0, 0, 0.15);\n",
              "      filter: drop-shadow(0px 1px 2px rgba(0, 0, 0, 0.3));\n",
              "      fill: #FFFFFF;\n",
              "    }\n",
              "  </style>\n",
              "\n",
              "    <script>\n",
              "      const buttonEl =\n",
              "        document.querySelector('#df-0515116d-d4c5-43a8-a0d8-58eb31ef503e button.colab-df-convert');\n",
              "      buttonEl.style.display =\n",
              "        google.colab.kernel.accessAllowed ? 'block' : 'none';\n",
              "\n",
              "      async function convertToInteractive(key) {\n",
              "        const element = document.querySelector('#df-0515116d-d4c5-43a8-a0d8-58eb31ef503e');\n",
              "        const dataTable =\n",
              "          await google.colab.kernel.invokeFunction('convertToInteractive',\n",
              "                                                    [key], {});\n",
              "        if (!dataTable) return;\n",
              "\n",
              "        const docLinkHtml = 'Like what you see? Visit the ' +\n",
              "          '<a target=\"_blank\" href=https://colab.research.google.com/notebooks/data_table.ipynb>data table notebook</a>'\n",
              "          + ' to learn more about interactive tables.';\n",
              "        element.innerHTML = '';\n",
              "        dataTable['output_type'] = 'display_data';\n",
              "        await google.colab.output.renderOutput(dataTable, element);\n",
              "        const docLink = document.createElement('div');\n",
              "        docLink.innerHTML = docLinkHtml;\n",
              "        element.appendChild(docLink);\n",
              "      }\n",
              "    </script>\n",
              "  </div>\n",
              "\n",
              "\n",
              "<div id=\"df-745ee3d7-88e7-4b49-bbd8-d2d002d12549\">\n",
              "  <button class=\"colab-df-quickchart\" onclick=\"quickchart('df-745ee3d7-88e7-4b49-bbd8-d2d002d12549')\"\n",
              "            title=\"Suggest charts\"\n",
              "            style=\"display:none;\">\n",
              "\n",
              "<svg xmlns=\"http://www.w3.org/2000/svg\" height=\"24px\"viewBox=\"0 0 24 24\"\n",
              "     width=\"24px\">\n",
              "    <g>\n",
              "        <path d=\"M19 3H5c-1.1 0-2 .9-2 2v14c0 1.1.9 2 2 2h14c1.1 0 2-.9 2-2V5c0-1.1-.9-2-2-2zM9 17H7v-7h2v7zm4 0h-2V7h2v10zm4 0h-2v-4h2v4z\"/>\n",
              "    </g>\n",
              "</svg>\n",
              "  </button>\n",
              "\n",
              "<style>\n",
              "  .colab-df-quickchart {\n",
              "      --bg-color: #E8F0FE;\n",
              "      --fill-color: #1967D2;\n",
              "      --hover-bg-color: #E2EBFA;\n",
              "      --hover-fill-color: #174EA6;\n",
              "      --disabled-fill-color: #AAA;\n",
              "      --disabled-bg-color: #DDD;\n",
              "  }\n",
              "\n",
              "  [theme=dark] .colab-df-quickchart {\n",
              "      --bg-color: #3B4455;\n",
              "      --fill-color: #D2E3FC;\n",
              "      --hover-bg-color: #434B5C;\n",
              "      --hover-fill-color: #FFFFFF;\n",
              "      --disabled-bg-color: #3B4455;\n",
              "      --disabled-fill-color: #666;\n",
              "  }\n",
              "\n",
              "  .colab-df-quickchart {\n",
              "    background-color: var(--bg-color);\n",
              "    border: none;\n",
              "    border-radius: 50%;\n",
              "    cursor: pointer;\n",
              "    display: none;\n",
              "    fill: var(--fill-color);\n",
              "    height: 32px;\n",
              "    padding: 0;\n",
              "    width: 32px;\n",
              "  }\n",
              "\n",
              "  .colab-df-quickchart:hover {\n",
              "    background-color: var(--hover-bg-color);\n",
              "    box-shadow: 0 1px 2px rgba(60, 64, 67, 0.3), 0 1px 3px 1px rgba(60, 64, 67, 0.15);\n",
              "    fill: var(--button-hover-fill-color);\n",
              "  }\n",
              "\n",
              "  .colab-df-quickchart-complete:disabled,\n",
              "  .colab-df-quickchart-complete:disabled:hover {\n",
              "    background-color: var(--disabled-bg-color);\n",
              "    fill: var(--disabled-fill-color);\n",
              "    box-shadow: none;\n",
              "  }\n",
              "\n",
              "  .colab-df-spinner {\n",
              "    border: 2px solid var(--fill-color);\n",
              "    border-color: transparent;\n",
              "    border-bottom-color: var(--fill-color);\n",
              "    animation:\n",
              "      spin 1s steps(1) infinite;\n",
              "  }\n",
              "\n",
              "  @keyframes spin {\n",
              "    0% {\n",
              "      border-color: transparent;\n",
              "      border-bottom-color: var(--fill-color);\n",
              "      border-left-color: var(--fill-color);\n",
              "    }\n",
              "    20% {\n",
              "      border-color: transparent;\n",
              "      border-left-color: var(--fill-color);\n",
              "      border-top-color: var(--fill-color);\n",
              "    }\n",
              "    30% {\n",
              "      border-color: transparent;\n",
              "      border-left-color: var(--fill-color);\n",
              "      border-top-color: var(--fill-color);\n",
              "      border-right-color: var(--fill-color);\n",
              "    }\n",
              "    40% {\n",
              "      border-color: transparent;\n",
              "      border-right-color: var(--fill-color);\n",
              "      border-top-color: var(--fill-color);\n",
              "    }\n",
              "    60% {\n",
              "      border-color: transparent;\n",
              "      border-right-color: var(--fill-color);\n",
              "    }\n",
              "    80% {\n",
              "      border-color: transparent;\n",
              "      border-right-color: var(--fill-color);\n",
              "      border-bottom-color: var(--fill-color);\n",
              "    }\n",
              "    90% {\n",
              "      border-color: transparent;\n",
              "      border-bottom-color: var(--fill-color);\n",
              "    }\n",
              "  }\n",
              "</style>\n",
              "\n",
              "  <script>\n",
              "    async function quickchart(key) {\n",
              "      const quickchartButtonEl =\n",
              "        document.querySelector('#' + key + ' button');\n",
              "      quickchartButtonEl.disabled = true;  // To prevent multiple clicks.\n",
              "      quickchartButtonEl.classList.add('colab-df-spinner');\n",
              "      try {\n",
              "        const charts = await google.colab.kernel.invokeFunction(\n",
              "            'suggestCharts', [key], {});\n",
              "      } catch (error) {\n",
              "        console.error('Error during call to suggestCharts:', error);\n",
              "      }\n",
              "      quickchartButtonEl.classList.remove('colab-df-spinner');\n",
              "      quickchartButtonEl.classList.add('colab-df-quickchart-complete');\n",
              "    }\n",
              "    (() => {\n",
              "      let quickchartButtonEl =\n",
              "        document.querySelector('#df-745ee3d7-88e7-4b49-bbd8-d2d002d12549 button');\n",
              "      quickchartButtonEl.style.display =\n",
              "        google.colab.kernel.accessAllowed ? 'block' : 'none';\n",
              "    })();\n",
              "  </script>\n",
              "</div>\n",
              "\n",
              "    </div>\n",
              "  </div>\n"
            ],
            "application/vnd.google.colaboratory.intrinsic+json": {
              "type": "dataframe",
              "variable_name": "train_df"
            }
          },
          "metadata": {},
          "execution_count": 6
        }
      ],
      "source": [
        "train_df = pd.concat([train, train1], ignore_index=True)\n",
        "\n",
        "# fraction = 0.55\n",
        "# train_df = train_df_unsampled.sample(frac=fraction, random_state=42)\n",
        "\n",
        "train_df.head()"
      ]
    },
    {
      "cell_type": "markdown",
      "source": [
        "Class Label Imbalance"
      ],
      "metadata": {
        "id": "3CePUCHGHn1x"
      }
    },
    {
      "cell_type": "code",
      "source": [
        "neg, pos = train_df['is_fraud'].value_counts()\n",
        "total = neg + pos\n",
        "print('Examples:\\n    Total: {}\\n    Positive: {} ({:.2f}% of total)\\n'.format(\n",
        "    total, pos, 100 * pos / total))"
      ],
      "metadata": {
        "colab": {
          "base_uri": "https://localhost:8080/"
        },
        "id": "gPhSj7jJHVvc",
        "outputId": "2c8fa0a8-a480-4360-a8bb-0d9c00795286"
      },
      "execution_count": 7,
      "outputs": [
        {
          "output_type": "stream",
          "name": "stdout",
          "text": [
            "Examples:\n",
            "    Total: 2646694\n",
            "    Positive: 9422 (0.36% of total)\n",
            "\n"
          ]
        }
      ]
    },
    {
      "cell_type": "code",
      "source": [
        "new_train_df, test_df = train_test_split(train_df, test_size=0.2, random_state=42)\n",
        "new_train_df, val_df = train_test_split(new_train_df, test_size=0.2, random_state=42)\n",
        "\n",
        "train_labels = np.array(new_train_df.pop('is_fraud')).reshape(-1,1)\n",
        "val_labels = np.array(val_df.pop('is_fraud')).reshape(-1,1)\n",
        "test_labels = np.array(test_df.pop('is_fraud')).reshape(-1,1)\n",
        "\n",
        "print(train_labels.shape, val_labels.shape, test_labels.shape)"
      ],
      "metadata": {
        "colab": {
          "base_uri": "https://localhost:8080/"
        },
        "id": "npR64M7uH23b",
        "outputId": "cfcd2072-c1bd-4e80-a24c-eb31f48d892c"
      },
      "execution_count": 8,
      "outputs": [
        {
          "output_type": "stream",
          "name": "stdout",
          "text": [
            "(1693884, 1) (423471, 1) (529339, 1)\n"
          ]
        }
      ]
    },
    {
      "cell_type": "code",
      "source": [
        "# train_df.dtypes"
      ],
      "metadata": {
        "id": "6AaAgQTTaxTG"
      },
      "execution_count": 9,
      "outputs": []
    },
    {
      "cell_type": "code",
      "source": [
        "# encoding\n",
        "\n",
        "# ssn: drop dash, convert to int\n",
        "# first: drop\n",
        "# last: drop\n",
        "# gender: onehot encode\n",
        "# city & state: concatenate\n",
        "# job: label encode\n",
        "# dob: drop dash, convert to int\n",
        "# transnum: potentially drop\n",
        "# transdate: drop\n",
        "# transtime: drop\n",
        "# category: label encode\n",
        "# merchant: label encode"
      ],
      "metadata": {
        "id": "bXltsR3zYYus"
      },
      "execution_count": 10,
      "outputs": []
    },
    {
      "cell_type": "code",
      "source": [
        "# conversions\n",
        "train_df['ssn'] = train_df['ssn'].str.replace('-', '').astype(int)\n",
        "train_df['dob'] = train_df['dob'].str.replace('-', '').astype(int)\n",
        "\n",
        "train_df['location'] = train_df['city'] + ', ' + train_df['state']\n",
        "\n",
        "# onehot encode (gender)\n",
        "onehot = OneHotEncoder(sparse_output=False, handle_unknown='ignore')\n",
        "onehot.fit(train_df[['gender']])\n",
        "\n",
        "feature_names = onehot.get_feature_names_out(['gender'])\n",
        "gender_encoded = pd.DataFrame(onehot.transform(train_df[['gender']]), columns=feature_names)\n",
        "\n",
        "# label encode (job, category, merchant)\n",
        "encode_df = train_df[['job', 'category', 'merchant', 'location']]\n",
        "encoder = LabelEncoder()\n",
        "for col in encode_df.columns:\n",
        "    encode_df[col] = encoder.fit_transform(encode_df[col])\n",
        "\n",
        "# drop unneeded columns\n",
        "train_df = train_df.drop(['job', 'category', 'merchant', 'first', 'last', 'trans_num', 'trans_date', 'trans_time', 'city', 'state', 'gender', 'location'], axis=1)\n",
        "train_df.head()\n"
      ],
      "metadata": {
        "colab": {
          "base_uri": "https://localhost:8080/",
          "height": 664
        },
        "id": "_CUDQdalaC1J",
        "outputId": "db0ed561-c3a7-4e80-85c6-38223fffcc9c"
      },
      "execution_count": 11,
      "outputs": [
        {
          "output_type": "stream",
          "name": "stderr",
          "text": [
            "<ipython-input-11-2f29263f5388>:18: SettingWithCopyWarning: \n",
            "A value is trying to be set on a copy of a slice from a DataFrame.\n",
            "Try using .loc[row_indexer,col_indexer] = value instead\n",
            "\n",
            "See the caveats in the documentation: https://pandas.pydata.org/pandas-docs/stable/user_guide/indexing.html#returning-a-view-versus-a-copy\n",
            "  encode_df[col] = encoder.fit_transform(encode_df[col])\n",
            "<ipython-input-11-2f29263f5388>:18: SettingWithCopyWarning: \n",
            "A value is trying to be set on a copy of a slice from a DataFrame.\n",
            "Try using .loc[row_indexer,col_indexer] = value instead\n",
            "\n",
            "See the caveats in the documentation: https://pandas.pydata.org/pandas-docs/stable/user_guide/indexing.html#returning-a-view-versus-a-copy\n",
            "  encode_df[col] = encoder.fit_transform(encode_df[col])\n",
            "<ipython-input-11-2f29263f5388>:18: SettingWithCopyWarning: \n",
            "A value is trying to be set on a copy of a slice from a DataFrame.\n",
            "Try using .loc[row_indexer,col_indexer] = value instead\n",
            "\n",
            "See the caveats in the documentation: https://pandas.pydata.org/pandas-docs/stable/user_guide/indexing.html#returning-a-view-versus-a-copy\n",
            "  encode_df[col] = encoder.fit_transform(encode_df[col])\n",
            "<ipython-input-11-2f29263f5388>:18: SettingWithCopyWarning: \n",
            "A value is trying to be set on a copy of a slice from a DataFrame.\n",
            "Try using .loc[row_indexer,col_indexer] = value instead\n",
            "\n",
            "See the caveats in the documentation: https://pandas.pydata.org/pandas-docs/stable/user_guide/indexing.html#returning-a-view-versus-a-copy\n",
            "  encode_df[col] = encoder.fit_transform(encode_df[col])\n"
          ]
        },
        {
          "output_type": "execute_result",
          "data": {
            "text/plain": [
              "         ssn            cc_num    zip  city_pop       dob      acct_num  \\\n",
              "0  367859826  4361337605230458  74834      7590  19870612  349734538563   \n",
              "1  367859826  4361337605230458  74834      7590  19870612  349734538563   \n",
              "2  367859826  4361337605230458  74834      7590  19870612  349734538563   \n",
              "3  367859826  4361337605230458  74834      7590  19870612  349734538563   \n",
              "4  367859826  4361337605230458  74834      7590  19870612  349734538563   \n",
              "\n",
              "    unix_time     amt  is_fraud  \n",
              "0  1627678801  337.54         1  \n",
              "1  1627837661   21.13         1  \n",
              "2  1627839129   22.61         1  \n",
              "3  1627837044   17.32         1  \n",
              "4  1638392331   75.82         0  "
            ],
            "text/html": [
              "\n",
              "  <div id=\"df-ae581ee1-99a6-4f8f-8d6c-7213713a2bea\" class=\"colab-df-container\">\n",
              "    <div>\n",
              "<style scoped>\n",
              "    .dataframe tbody tr th:only-of-type {\n",
              "        vertical-align: middle;\n",
              "    }\n",
              "\n",
              "    .dataframe tbody tr th {\n",
              "        vertical-align: top;\n",
              "    }\n",
              "\n",
              "    .dataframe thead th {\n",
              "        text-align: right;\n",
              "    }\n",
              "</style>\n",
              "<table border=\"1\" class=\"dataframe\">\n",
              "  <thead>\n",
              "    <tr style=\"text-align: right;\">\n",
              "      <th></th>\n",
              "      <th>ssn</th>\n",
              "      <th>cc_num</th>\n",
              "      <th>zip</th>\n",
              "      <th>city_pop</th>\n",
              "      <th>dob</th>\n",
              "      <th>acct_num</th>\n",
              "      <th>unix_time</th>\n",
              "      <th>amt</th>\n",
              "      <th>is_fraud</th>\n",
              "    </tr>\n",
              "  </thead>\n",
              "  <tbody>\n",
              "    <tr>\n",
              "      <th>0</th>\n",
              "      <td>367859826</td>\n",
              "      <td>4361337605230458</td>\n",
              "      <td>74834</td>\n",
              "      <td>7590</td>\n",
              "      <td>19870612</td>\n",
              "      <td>349734538563</td>\n",
              "      <td>1627678801</td>\n",
              "      <td>337.54</td>\n",
              "      <td>1</td>\n",
              "    </tr>\n",
              "    <tr>\n",
              "      <th>1</th>\n",
              "      <td>367859826</td>\n",
              "      <td>4361337605230458</td>\n",
              "      <td>74834</td>\n",
              "      <td>7590</td>\n",
              "      <td>19870612</td>\n",
              "      <td>349734538563</td>\n",
              "      <td>1627837661</td>\n",
              "      <td>21.13</td>\n",
              "      <td>1</td>\n",
              "    </tr>\n",
              "    <tr>\n",
              "      <th>2</th>\n",
              "      <td>367859826</td>\n",
              "      <td>4361337605230458</td>\n",
              "      <td>74834</td>\n",
              "      <td>7590</td>\n",
              "      <td>19870612</td>\n",
              "      <td>349734538563</td>\n",
              "      <td>1627839129</td>\n",
              "      <td>22.61</td>\n",
              "      <td>1</td>\n",
              "    </tr>\n",
              "    <tr>\n",
              "      <th>3</th>\n",
              "      <td>367859826</td>\n",
              "      <td>4361337605230458</td>\n",
              "      <td>74834</td>\n",
              "      <td>7590</td>\n",
              "      <td>19870612</td>\n",
              "      <td>349734538563</td>\n",
              "      <td>1627837044</td>\n",
              "      <td>17.32</td>\n",
              "      <td>1</td>\n",
              "    </tr>\n",
              "    <tr>\n",
              "      <th>4</th>\n",
              "      <td>367859826</td>\n",
              "      <td>4361337605230458</td>\n",
              "      <td>74834</td>\n",
              "      <td>7590</td>\n",
              "      <td>19870612</td>\n",
              "      <td>349734538563</td>\n",
              "      <td>1638392331</td>\n",
              "      <td>75.82</td>\n",
              "      <td>0</td>\n",
              "    </tr>\n",
              "  </tbody>\n",
              "</table>\n",
              "</div>\n",
              "    <div class=\"colab-df-buttons\">\n",
              "\n",
              "  <div class=\"colab-df-container\">\n",
              "    <button class=\"colab-df-convert\" onclick=\"convertToInteractive('df-ae581ee1-99a6-4f8f-8d6c-7213713a2bea')\"\n",
              "            title=\"Convert this dataframe to an interactive table.\"\n",
              "            style=\"display:none;\">\n",
              "\n",
              "  <svg xmlns=\"http://www.w3.org/2000/svg\" height=\"24px\" viewBox=\"0 -960 960 960\">\n",
              "    <path d=\"M120-120v-720h720v720H120Zm60-500h600v-160H180v160Zm220 220h160v-160H400v160Zm0 220h160v-160H400v160ZM180-400h160v-160H180v160Zm440 0h160v-160H620v160ZM180-180h160v-160H180v160Zm440 0h160v-160H620v160Z\"/>\n",
              "  </svg>\n",
              "    </button>\n",
              "\n",
              "  <style>\n",
              "    .colab-df-container {\n",
              "      display:flex;\n",
              "      gap: 12px;\n",
              "    }\n",
              "\n",
              "    .colab-df-convert {\n",
              "      background-color: #E8F0FE;\n",
              "      border: none;\n",
              "      border-radius: 50%;\n",
              "      cursor: pointer;\n",
              "      display: none;\n",
              "      fill: #1967D2;\n",
              "      height: 32px;\n",
              "      padding: 0 0 0 0;\n",
              "      width: 32px;\n",
              "    }\n",
              "\n",
              "    .colab-df-convert:hover {\n",
              "      background-color: #E2EBFA;\n",
              "      box-shadow: 0px 1px 2px rgba(60, 64, 67, 0.3), 0px 1px 3px 1px rgba(60, 64, 67, 0.15);\n",
              "      fill: #174EA6;\n",
              "    }\n",
              "\n",
              "    .colab-df-buttons div {\n",
              "      margin-bottom: 4px;\n",
              "    }\n",
              "\n",
              "    [theme=dark] .colab-df-convert {\n",
              "      background-color: #3B4455;\n",
              "      fill: #D2E3FC;\n",
              "    }\n",
              "\n",
              "    [theme=dark] .colab-df-convert:hover {\n",
              "      background-color: #434B5C;\n",
              "      box-shadow: 0px 1px 3px 1px rgba(0, 0, 0, 0.15);\n",
              "      filter: drop-shadow(0px 1px 2px rgba(0, 0, 0, 0.3));\n",
              "      fill: #FFFFFF;\n",
              "    }\n",
              "  </style>\n",
              "\n",
              "    <script>\n",
              "      const buttonEl =\n",
              "        document.querySelector('#df-ae581ee1-99a6-4f8f-8d6c-7213713a2bea button.colab-df-convert');\n",
              "      buttonEl.style.display =\n",
              "        google.colab.kernel.accessAllowed ? 'block' : 'none';\n",
              "\n",
              "      async function convertToInteractive(key) {\n",
              "        const element = document.querySelector('#df-ae581ee1-99a6-4f8f-8d6c-7213713a2bea');\n",
              "        const dataTable =\n",
              "          await google.colab.kernel.invokeFunction('convertToInteractive',\n",
              "                                                    [key], {});\n",
              "        if (!dataTable) return;\n",
              "\n",
              "        const docLinkHtml = 'Like what you see? Visit the ' +\n",
              "          '<a target=\"_blank\" href=https://colab.research.google.com/notebooks/data_table.ipynb>data table notebook</a>'\n",
              "          + ' to learn more about interactive tables.';\n",
              "        element.innerHTML = '';\n",
              "        dataTable['output_type'] = 'display_data';\n",
              "        await google.colab.output.renderOutput(dataTable, element);\n",
              "        const docLink = document.createElement('div');\n",
              "        docLink.innerHTML = docLinkHtml;\n",
              "        element.appendChild(docLink);\n",
              "      }\n",
              "    </script>\n",
              "  </div>\n",
              "\n",
              "\n",
              "<div id=\"df-2504d4e5-d0c8-4746-a0d2-6f2c7ab65a03\">\n",
              "  <button class=\"colab-df-quickchart\" onclick=\"quickchart('df-2504d4e5-d0c8-4746-a0d2-6f2c7ab65a03')\"\n",
              "            title=\"Suggest charts\"\n",
              "            style=\"display:none;\">\n",
              "\n",
              "<svg xmlns=\"http://www.w3.org/2000/svg\" height=\"24px\"viewBox=\"0 0 24 24\"\n",
              "     width=\"24px\">\n",
              "    <g>\n",
              "        <path d=\"M19 3H5c-1.1 0-2 .9-2 2v14c0 1.1.9 2 2 2h14c1.1 0 2-.9 2-2V5c0-1.1-.9-2-2-2zM9 17H7v-7h2v7zm4 0h-2V7h2v10zm4 0h-2v-4h2v4z\"/>\n",
              "    </g>\n",
              "</svg>\n",
              "  </button>\n",
              "\n",
              "<style>\n",
              "  .colab-df-quickchart {\n",
              "      --bg-color: #E8F0FE;\n",
              "      --fill-color: #1967D2;\n",
              "      --hover-bg-color: #E2EBFA;\n",
              "      --hover-fill-color: #174EA6;\n",
              "      --disabled-fill-color: #AAA;\n",
              "      --disabled-bg-color: #DDD;\n",
              "  }\n",
              "\n",
              "  [theme=dark] .colab-df-quickchart {\n",
              "      --bg-color: #3B4455;\n",
              "      --fill-color: #D2E3FC;\n",
              "      --hover-bg-color: #434B5C;\n",
              "      --hover-fill-color: #FFFFFF;\n",
              "      --disabled-bg-color: #3B4455;\n",
              "      --disabled-fill-color: #666;\n",
              "  }\n",
              "\n",
              "  .colab-df-quickchart {\n",
              "    background-color: var(--bg-color);\n",
              "    border: none;\n",
              "    border-radius: 50%;\n",
              "    cursor: pointer;\n",
              "    display: none;\n",
              "    fill: var(--fill-color);\n",
              "    height: 32px;\n",
              "    padding: 0;\n",
              "    width: 32px;\n",
              "  }\n",
              "\n",
              "  .colab-df-quickchart:hover {\n",
              "    background-color: var(--hover-bg-color);\n",
              "    box-shadow: 0 1px 2px rgba(60, 64, 67, 0.3), 0 1px 3px 1px rgba(60, 64, 67, 0.15);\n",
              "    fill: var(--button-hover-fill-color);\n",
              "  }\n",
              "\n",
              "  .colab-df-quickchart-complete:disabled,\n",
              "  .colab-df-quickchart-complete:disabled:hover {\n",
              "    background-color: var(--disabled-bg-color);\n",
              "    fill: var(--disabled-fill-color);\n",
              "    box-shadow: none;\n",
              "  }\n",
              "\n",
              "  .colab-df-spinner {\n",
              "    border: 2px solid var(--fill-color);\n",
              "    border-color: transparent;\n",
              "    border-bottom-color: var(--fill-color);\n",
              "    animation:\n",
              "      spin 1s steps(1) infinite;\n",
              "  }\n",
              "\n",
              "  @keyframes spin {\n",
              "    0% {\n",
              "      border-color: transparent;\n",
              "      border-bottom-color: var(--fill-color);\n",
              "      border-left-color: var(--fill-color);\n",
              "    }\n",
              "    20% {\n",
              "      border-color: transparent;\n",
              "      border-left-color: var(--fill-color);\n",
              "      border-top-color: var(--fill-color);\n",
              "    }\n",
              "    30% {\n",
              "      border-color: transparent;\n",
              "      border-left-color: var(--fill-color);\n",
              "      border-top-color: var(--fill-color);\n",
              "      border-right-color: var(--fill-color);\n",
              "    }\n",
              "    40% {\n",
              "      border-color: transparent;\n",
              "      border-right-color: var(--fill-color);\n",
              "      border-top-color: var(--fill-color);\n",
              "    }\n",
              "    60% {\n",
              "      border-color: transparent;\n",
              "      border-right-color: var(--fill-color);\n",
              "    }\n",
              "    80% {\n",
              "      border-color: transparent;\n",
              "      border-right-color: var(--fill-color);\n",
              "      border-bottom-color: var(--fill-color);\n",
              "    }\n",
              "    90% {\n",
              "      border-color: transparent;\n",
              "      border-bottom-color: var(--fill-color);\n",
              "    }\n",
              "  }\n",
              "</style>\n",
              "\n",
              "  <script>\n",
              "    async function quickchart(key) {\n",
              "      const quickchartButtonEl =\n",
              "        document.querySelector('#' + key + ' button');\n",
              "      quickchartButtonEl.disabled = true;  // To prevent multiple clicks.\n",
              "      quickchartButtonEl.classList.add('colab-df-spinner');\n",
              "      try {\n",
              "        const charts = await google.colab.kernel.invokeFunction(\n",
              "            'suggestCharts', [key], {});\n",
              "      } catch (error) {\n",
              "        console.error('Error during call to suggestCharts:', error);\n",
              "      }\n",
              "      quickchartButtonEl.classList.remove('colab-df-spinner');\n",
              "      quickchartButtonEl.classList.add('colab-df-quickchart-complete');\n",
              "    }\n",
              "    (() => {\n",
              "      let quickchartButtonEl =\n",
              "        document.querySelector('#df-2504d4e5-d0c8-4746-a0d2-6f2c7ab65a03 button');\n",
              "      quickchartButtonEl.style.display =\n",
              "        google.colab.kernel.accessAllowed ? 'block' : 'none';\n",
              "    })();\n",
              "  </script>\n",
              "</div>\n",
              "\n",
              "    </div>\n",
              "  </div>\n"
            ],
            "application/vnd.google.colaboratory.intrinsic+json": {
              "type": "dataframe",
              "variable_name": "train_df"
            }
          },
          "metadata": {},
          "execution_count": 11
        }
      ]
    },
    {
      "cell_type": "code",
      "source": [
        "final_df = pd.concat([train_df, gender_encoded, encode_df], axis=1)\n",
        "final_df.head()"
      ],
      "metadata": {
        "colab": {
          "base_uri": "https://localhost:8080/",
          "height": 226
        },
        "id": "4-nFiyd2kIUv",
        "outputId": "2f35c5cd-b57b-4b91-905c-afd73008d67d"
      },
      "execution_count": 12,
      "outputs": [
        {
          "output_type": "execute_result",
          "data": {
            "text/plain": [
              "         ssn            cc_num    zip  city_pop       dob      acct_num  \\\n",
              "0  367859826  4361337605230458  74834      7590  19870612  349734538563   \n",
              "1  367859826  4361337605230458  74834      7590  19870612  349734538563   \n",
              "2  367859826  4361337605230458  74834      7590  19870612  349734538563   \n",
              "3  367859826  4361337605230458  74834      7590  19870612  349734538563   \n",
              "4  367859826  4361337605230458  74834      7590  19870612  349734538563   \n",
              "\n",
              "    unix_time     amt  is_fraud  gender_F  gender_M  job  category  merchant  \\\n",
              "0  1627678801  337.54         1       1.0       0.0   72         4       317   \n",
              "1  1627837661   21.13         1       1.0       0.0   72        10        67   \n",
              "2  1627839129   22.61         1       1.0       0.0   72        10       320   \n",
              "3  1627837044   17.32         1       1.0       0.0   72         5       238   \n",
              "4  1638392331   75.82         0       1.0       0.0   72         9       283   \n",
              "\n",
              "   location  \n",
              "0       116  \n",
              "1       116  \n",
              "2       116  \n",
              "3       116  \n",
              "4       116  "
            ],
            "text/html": [
              "\n",
              "  <div id=\"df-938bb5e8-d79f-4b3d-bcc3-e33bbb11d68d\" class=\"colab-df-container\">\n",
              "    <div>\n",
              "<style scoped>\n",
              "    .dataframe tbody tr th:only-of-type {\n",
              "        vertical-align: middle;\n",
              "    }\n",
              "\n",
              "    .dataframe tbody tr th {\n",
              "        vertical-align: top;\n",
              "    }\n",
              "\n",
              "    .dataframe thead th {\n",
              "        text-align: right;\n",
              "    }\n",
              "</style>\n",
              "<table border=\"1\" class=\"dataframe\">\n",
              "  <thead>\n",
              "    <tr style=\"text-align: right;\">\n",
              "      <th></th>\n",
              "      <th>ssn</th>\n",
              "      <th>cc_num</th>\n",
              "      <th>zip</th>\n",
              "      <th>city_pop</th>\n",
              "      <th>dob</th>\n",
              "      <th>acct_num</th>\n",
              "      <th>unix_time</th>\n",
              "      <th>amt</th>\n",
              "      <th>is_fraud</th>\n",
              "      <th>gender_F</th>\n",
              "      <th>gender_M</th>\n",
              "      <th>job</th>\n",
              "      <th>category</th>\n",
              "      <th>merchant</th>\n",
              "      <th>location</th>\n",
              "    </tr>\n",
              "  </thead>\n",
              "  <tbody>\n",
              "    <tr>\n",
              "      <th>0</th>\n",
              "      <td>367859826</td>\n",
              "      <td>4361337605230458</td>\n",
              "      <td>74834</td>\n",
              "      <td>7590</td>\n",
              "      <td>19870612</td>\n",
              "      <td>349734538563</td>\n",
              "      <td>1627678801</td>\n",
              "      <td>337.54</td>\n",
              "      <td>1</td>\n",
              "      <td>1.0</td>\n",
              "      <td>0.0</td>\n",
              "      <td>72</td>\n",
              "      <td>4</td>\n",
              "      <td>317</td>\n",
              "      <td>116</td>\n",
              "    </tr>\n",
              "    <tr>\n",
              "      <th>1</th>\n",
              "      <td>367859826</td>\n",
              "      <td>4361337605230458</td>\n",
              "      <td>74834</td>\n",
              "      <td>7590</td>\n",
              "      <td>19870612</td>\n",
              "      <td>349734538563</td>\n",
              "      <td>1627837661</td>\n",
              "      <td>21.13</td>\n",
              "      <td>1</td>\n",
              "      <td>1.0</td>\n",
              "      <td>0.0</td>\n",
              "      <td>72</td>\n",
              "      <td>10</td>\n",
              "      <td>67</td>\n",
              "      <td>116</td>\n",
              "    </tr>\n",
              "    <tr>\n",
              "      <th>2</th>\n",
              "      <td>367859826</td>\n",
              "      <td>4361337605230458</td>\n",
              "      <td>74834</td>\n",
              "      <td>7590</td>\n",
              "      <td>19870612</td>\n",
              "      <td>349734538563</td>\n",
              "      <td>1627839129</td>\n",
              "      <td>22.61</td>\n",
              "      <td>1</td>\n",
              "      <td>1.0</td>\n",
              "      <td>0.0</td>\n",
              "      <td>72</td>\n",
              "      <td>10</td>\n",
              "      <td>320</td>\n",
              "      <td>116</td>\n",
              "    </tr>\n",
              "    <tr>\n",
              "      <th>3</th>\n",
              "      <td>367859826</td>\n",
              "      <td>4361337605230458</td>\n",
              "      <td>74834</td>\n",
              "      <td>7590</td>\n",
              "      <td>19870612</td>\n",
              "      <td>349734538563</td>\n",
              "      <td>1627837044</td>\n",
              "      <td>17.32</td>\n",
              "      <td>1</td>\n",
              "      <td>1.0</td>\n",
              "      <td>0.0</td>\n",
              "      <td>72</td>\n",
              "      <td>5</td>\n",
              "      <td>238</td>\n",
              "      <td>116</td>\n",
              "    </tr>\n",
              "    <tr>\n",
              "      <th>4</th>\n",
              "      <td>367859826</td>\n",
              "      <td>4361337605230458</td>\n",
              "      <td>74834</td>\n",
              "      <td>7590</td>\n",
              "      <td>19870612</td>\n",
              "      <td>349734538563</td>\n",
              "      <td>1638392331</td>\n",
              "      <td>75.82</td>\n",
              "      <td>0</td>\n",
              "      <td>1.0</td>\n",
              "      <td>0.0</td>\n",
              "      <td>72</td>\n",
              "      <td>9</td>\n",
              "      <td>283</td>\n",
              "      <td>116</td>\n",
              "    </tr>\n",
              "  </tbody>\n",
              "</table>\n",
              "</div>\n",
              "    <div class=\"colab-df-buttons\">\n",
              "\n",
              "  <div class=\"colab-df-container\">\n",
              "    <button class=\"colab-df-convert\" onclick=\"convertToInteractive('df-938bb5e8-d79f-4b3d-bcc3-e33bbb11d68d')\"\n",
              "            title=\"Convert this dataframe to an interactive table.\"\n",
              "            style=\"display:none;\">\n",
              "\n",
              "  <svg xmlns=\"http://www.w3.org/2000/svg\" height=\"24px\" viewBox=\"0 -960 960 960\">\n",
              "    <path d=\"M120-120v-720h720v720H120Zm60-500h600v-160H180v160Zm220 220h160v-160H400v160Zm0 220h160v-160H400v160ZM180-400h160v-160H180v160Zm440 0h160v-160H620v160ZM180-180h160v-160H180v160Zm440 0h160v-160H620v160Z\"/>\n",
              "  </svg>\n",
              "    </button>\n",
              "\n",
              "  <style>\n",
              "    .colab-df-container {\n",
              "      display:flex;\n",
              "      gap: 12px;\n",
              "    }\n",
              "\n",
              "    .colab-df-convert {\n",
              "      background-color: #E8F0FE;\n",
              "      border: none;\n",
              "      border-radius: 50%;\n",
              "      cursor: pointer;\n",
              "      display: none;\n",
              "      fill: #1967D2;\n",
              "      height: 32px;\n",
              "      padding: 0 0 0 0;\n",
              "      width: 32px;\n",
              "    }\n",
              "\n",
              "    .colab-df-convert:hover {\n",
              "      background-color: #E2EBFA;\n",
              "      box-shadow: 0px 1px 2px rgba(60, 64, 67, 0.3), 0px 1px 3px 1px rgba(60, 64, 67, 0.15);\n",
              "      fill: #174EA6;\n",
              "    }\n",
              "\n",
              "    .colab-df-buttons div {\n",
              "      margin-bottom: 4px;\n",
              "    }\n",
              "\n",
              "    [theme=dark] .colab-df-convert {\n",
              "      background-color: #3B4455;\n",
              "      fill: #D2E3FC;\n",
              "    }\n",
              "\n",
              "    [theme=dark] .colab-df-convert:hover {\n",
              "      background-color: #434B5C;\n",
              "      box-shadow: 0px 1px 3px 1px rgba(0, 0, 0, 0.15);\n",
              "      filter: drop-shadow(0px 1px 2px rgba(0, 0, 0, 0.3));\n",
              "      fill: #FFFFFF;\n",
              "    }\n",
              "  </style>\n",
              "\n",
              "    <script>\n",
              "      const buttonEl =\n",
              "        document.querySelector('#df-938bb5e8-d79f-4b3d-bcc3-e33bbb11d68d button.colab-df-convert');\n",
              "      buttonEl.style.display =\n",
              "        google.colab.kernel.accessAllowed ? 'block' : 'none';\n",
              "\n",
              "      async function convertToInteractive(key) {\n",
              "        const element = document.querySelector('#df-938bb5e8-d79f-4b3d-bcc3-e33bbb11d68d');\n",
              "        const dataTable =\n",
              "          await google.colab.kernel.invokeFunction('convertToInteractive',\n",
              "                                                    [key], {});\n",
              "        if (!dataTable) return;\n",
              "\n",
              "        const docLinkHtml = 'Like what you see? Visit the ' +\n",
              "          '<a target=\"_blank\" href=https://colab.research.google.com/notebooks/data_table.ipynb>data table notebook</a>'\n",
              "          + ' to learn more about interactive tables.';\n",
              "        element.innerHTML = '';\n",
              "        dataTable['output_type'] = 'display_data';\n",
              "        await google.colab.output.renderOutput(dataTable, element);\n",
              "        const docLink = document.createElement('div');\n",
              "        docLink.innerHTML = docLinkHtml;\n",
              "        element.appendChild(docLink);\n",
              "      }\n",
              "    </script>\n",
              "  </div>\n",
              "\n",
              "\n",
              "<div id=\"df-e4f990da-d964-4983-a9c5-691f7b60fb24\">\n",
              "  <button class=\"colab-df-quickchart\" onclick=\"quickchart('df-e4f990da-d964-4983-a9c5-691f7b60fb24')\"\n",
              "            title=\"Suggest charts\"\n",
              "            style=\"display:none;\">\n",
              "\n",
              "<svg xmlns=\"http://www.w3.org/2000/svg\" height=\"24px\"viewBox=\"0 0 24 24\"\n",
              "     width=\"24px\">\n",
              "    <g>\n",
              "        <path d=\"M19 3H5c-1.1 0-2 .9-2 2v14c0 1.1.9 2 2 2h14c1.1 0 2-.9 2-2V5c0-1.1-.9-2-2-2zM9 17H7v-7h2v7zm4 0h-2V7h2v10zm4 0h-2v-4h2v4z\"/>\n",
              "    </g>\n",
              "</svg>\n",
              "  </button>\n",
              "\n",
              "<style>\n",
              "  .colab-df-quickchart {\n",
              "      --bg-color: #E8F0FE;\n",
              "      --fill-color: #1967D2;\n",
              "      --hover-bg-color: #E2EBFA;\n",
              "      --hover-fill-color: #174EA6;\n",
              "      --disabled-fill-color: #AAA;\n",
              "      --disabled-bg-color: #DDD;\n",
              "  }\n",
              "\n",
              "  [theme=dark] .colab-df-quickchart {\n",
              "      --bg-color: #3B4455;\n",
              "      --fill-color: #D2E3FC;\n",
              "      --hover-bg-color: #434B5C;\n",
              "      --hover-fill-color: #FFFFFF;\n",
              "      --disabled-bg-color: #3B4455;\n",
              "      --disabled-fill-color: #666;\n",
              "  }\n",
              "\n",
              "  .colab-df-quickchart {\n",
              "    background-color: var(--bg-color);\n",
              "    border: none;\n",
              "    border-radius: 50%;\n",
              "    cursor: pointer;\n",
              "    display: none;\n",
              "    fill: var(--fill-color);\n",
              "    height: 32px;\n",
              "    padding: 0;\n",
              "    width: 32px;\n",
              "  }\n",
              "\n",
              "  .colab-df-quickchart:hover {\n",
              "    background-color: var(--hover-bg-color);\n",
              "    box-shadow: 0 1px 2px rgba(60, 64, 67, 0.3), 0 1px 3px 1px rgba(60, 64, 67, 0.15);\n",
              "    fill: var(--button-hover-fill-color);\n",
              "  }\n",
              "\n",
              "  .colab-df-quickchart-complete:disabled,\n",
              "  .colab-df-quickchart-complete:disabled:hover {\n",
              "    background-color: var(--disabled-bg-color);\n",
              "    fill: var(--disabled-fill-color);\n",
              "    box-shadow: none;\n",
              "  }\n",
              "\n",
              "  .colab-df-spinner {\n",
              "    border: 2px solid var(--fill-color);\n",
              "    border-color: transparent;\n",
              "    border-bottom-color: var(--fill-color);\n",
              "    animation:\n",
              "      spin 1s steps(1) infinite;\n",
              "  }\n",
              "\n",
              "  @keyframes spin {\n",
              "    0% {\n",
              "      border-color: transparent;\n",
              "      border-bottom-color: var(--fill-color);\n",
              "      border-left-color: var(--fill-color);\n",
              "    }\n",
              "    20% {\n",
              "      border-color: transparent;\n",
              "      border-left-color: var(--fill-color);\n",
              "      border-top-color: var(--fill-color);\n",
              "    }\n",
              "    30% {\n",
              "      border-color: transparent;\n",
              "      border-left-color: var(--fill-color);\n",
              "      border-top-color: var(--fill-color);\n",
              "      border-right-color: var(--fill-color);\n",
              "    }\n",
              "    40% {\n",
              "      border-color: transparent;\n",
              "      border-right-color: var(--fill-color);\n",
              "      border-top-color: var(--fill-color);\n",
              "    }\n",
              "    60% {\n",
              "      border-color: transparent;\n",
              "      border-right-color: var(--fill-color);\n",
              "    }\n",
              "    80% {\n",
              "      border-color: transparent;\n",
              "      border-right-color: var(--fill-color);\n",
              "      border-bottom-color: var(--fill-color);\n",
              "    }\n",
              "    90% {\n",
              "      border-color: transparent;\n",
              "      border-bottom-color: var(--fill-color);\n",
              "    }\n",
              "  }\n",
              "</style>\n",
              "\n",
              "  <script>\n",
              "    async function quickchart(key) {\n",
              "      const quickchartButtonEl =\n",
              "        document.querySelector('#' + key + ' button');\n",
              "      quickchartButtonEl.disabled = true;  // To prevent multiple clicks.\n",
              "      quickchartButtonEl.classList.add('colab-df-spinner');\n",
              "      try {\n",
              "        const charts = await google.colab.kernel.invokeFunction(\n",
              "            'suggestCharts', [key], {});\n",
              "      } catch (error) {\n",
              "        console.error('Error during call to suggestCharts:', error);\n",
              "      }\n",
              "      quickchartButtonEl.classList.remove('colab-df-spinner');\n",
              "      quickchartButtonEl.classList.add('colab-df-quickchart-complete');\n",
              "    }\n",
              "    (() => {\n",
              "      let quickchartButtonEl =\n",
              "        document.querySelector('#df-e4f990da-d964-4983-a9c5-691f7b60fb24 button');\n",
              "      quickchartButtonEl.style.display =\n",
              "        google.colab.kernel.accessAllowed ? 'block' : 'none';\n",
              "    })();\n",
              "  </script>\n",
              "</div>\n",
              "\n",
              "    </div>\n",
              "  </div>\n"
            ],
            "application/vnd.google.colaboratory.intrinsic+json": {
              "type": "dataframe",
              "variable_name": "final_df"
            }
          },
          "metadata": {},
          "execution_count": 12
        }
      ]
    },
    {
      "cell_type": "code",
      "source": [
        "train_df, test_df = train_test_split(final_df, test_size=0.2, random_state=42)\n",
        "train_df, val_df = train_test_split(train_df, test_size=0.2, random_state=42)\n",
        "\n",
        "train_labels = np.array(train_df.pop('is_fraud')).reshape(-1,1)\n",
        "val_labels = np.array(val_df.pop('is_fraud')).reshape(-1,1)\n",
        "test_labels = np.array(test_df.pop('is_fraud')).reshape(-1,1)\n",
        "\n",
        "train_features = np.array(train_df)\n",
        "val_features = np.array(val_df)\n",
        "test_features = np.array(test_df)\n",
        "\n",
        "print(train_labels.shape, val_labels.shape, test_labels.shape)\n",
        "\n",
        "print(f'Average class probability in train set: {train_labels.mean():.3f}')\n",
        "print(f'Average class probability in val set: {val_labels.mean():.3f}')\n",
        "print(f'Average class probability in test set: {test_labels.mean():.3f}')"
      ],
      "metadata": {
        "colab": {
          "base_uri": "https://localhost:8080/"
        },
        "id": "Bq6404gJMN3A",
        "outputId": "7dde7821-0b13-4227-ce4b-430de30b0e6b"
      },
      "execution_count": 13,
      "outputs": [
        {
          "output_type": "stream",
          "name": "stdout",
          "text": [
            "(1693884, 1) (423471, 1) (529339, 1)\n",
            "Average class probability in train set: 0.004\n",
            "Average class probability in val set: 0.004\n",
            "Average class probability in test set: 0.004\n"
          ]
        }
      ]
    },
    {
      "cell_type": "code",
      "source": [
        "scaler = StandardScaler()\n",
        "train_features = scaler.fit_transform(train_features)\n",
        "\n",
        "val_features = scaler.transform(val_features)\n",
        "test_features = scaler.transform(test_features)\n",
        "\n",
        "train_features = np.clip(train_features, -5, 5)\n",
        "val_features = np.clip(val_features, -5, 5)\n",
        "test_features = np.clip(test_features, -5, 5)\n",
        "\n",
        "\n",
        "print('Training labels shape:', train_labels.shape)\n",
        "print('Validation labels shape:', val_labels.shape)\n",
        "print('Test labels shape:', test_labels.shape)\n",
        "\n",
        "print('Training features shape:', train_features.shape)\n",
        "print('Validation features shape:', val_features.shape)\n",
        "print('Test features shape:', test_features.shape)"
      ],
      "metadata": {
        "colab": {
          "base_uri": "https://localhost:8080/"
        },
        "id": "kbOyvp0BSn6t",
        "outputId": "17eaec76-b721-4b5f-fbfc-36e9e3317133"
      },
      "execution_count": 14,
      "outputs": [
        {
          "output_type": "stream",
          "name": "stdout",
          "text": [
            "Training labels shape: (1693884, 1)\n",
            "Validation labels shape: (423471, 1)\n",
            "Test labels shape: (529339, 1)\n",
            "Training features shape: (1693884, 14)\n",
            "Validation features shape: (423471, 14)\n",
            "Test features shape: (529339, 14)\n"
          ]
        }
      ]
    },
    {
      "cell_type": "markdown",
      "source": [
        "## Define model"
      ],
      "metadata": {
        "id": "VqP54D69cKYo"
      }
    },
    {
      "cell_type": "code",
      "source": [
        "METRICS = [\n",
        "      keras.metrics.BinaryCrossentropy(name='cross entropy'),  # same as model's loss\n",
        "      keras.metrics.MeanSquaredError(name='Brier score'),\n",
        "      keras.metrics.TruePositives(name='tp'),\n",
        "      keras.metrics.FalsePositives(name='fp'),\n",
        "      keras.metrics.TrueNegatives(name='tn'),\n",
        "      keras.metrics.FalseNegatives(name='fn'),\n",
        "      keras.metrics.BinaryAccuracy(name='accuracy'),\n",
        "      keras.metrics.Precision(name='precision'),\n",
        "      keras.metrics.Recall(name='recall'),\n",
        "      keras.metrics.AUC(name='auc'),\n",
        "      keras.metrics.AUC(name='prc', curve='PR'), # precision-recall curve\n",
        "]\n",
        "\n",
        "def make_model(metrics=METRICS, output_bias=None):\n",
        "  if output_bias is not None:\n",
        "    output_bias = tf.keras.initializers.Constant(output_bias)\n",
        "  model = keras.Sequential([\n",
        "      keras.layers.Dense(\n",
        "          16, activation='relu',\n",
        "          input_shape=(train_features.shape[-1],)),\n",
        "      keras.layers.Dropout(0.5),\n",
        "      keras.layers.Dense(1, activation='sigmoid',\n",
        "                         bias_initializer=output_bias),\n",
        "  ])\n",
        "\n",
        "  model.compile(\n",
        "      optimizer=keras.optimizers.Adam(learning_rate=1e-3),\n",
        "      loss=keras.losses.BinaryCrossentropy(),\n",
        "      metrics=metrics)\n",
        "\n",
        "  return model"
      ],
      "metadata": {
        "id": "eQHpc26hib75"
      },
      "execution_count": 15,
      "outputs": []
    },
    {
      "cell_type": "markdown",
      "source": [
        "## Baseline Model"
      ],
      "metadata": {
        "id": "vStwHS2BcSFN"
      }
    },
    {
      "cell_type": "code",
      "source": [
        "EPOCHS = 100\n",
        "BATCH_SIZE = 2048\n",
        "\n",
        "def early_stopping():\n",
        " return tf.keras.callbacks.EarlyStopping(\n",
        "    monitor='val_prc',\n",
        "    verbose=1,\n",
        "    patience=10,\n",
        "    mode='max',\n",
        "    restore_best_weights=True)"
      ],
      "metadata": {
        "id": "SqQgifH0cGea"
      },
      "execution_count": 16,
      "outputs": []
    },
    {
      "cell_type": "code",
      "source": [
        "model = make_model()\n",
        "model.summary()"
      ],
      "metadata": {
        "colab": {
          "base_uri": "https://localhost:8080/",
          "height": 281
        },
        "id": "U7ZGRJUKcdUn",
        "outputId": "d14b70b5-a948-46b7-be1a-b76a3a716266"
      },
      "execution_count": 17,
      "outputs": [
        {
          "output_type": "stream",
          "name": "stderr",
          "text": [
            "/usr/local/lib/python3.11/dist-packages/keras/src/layers/core/dense.py:87: UserWarning: Do not pass an `input_shape`/`input_dim` argument to a layer. When using Sequential models, prefer using an `Input(shape)` object as the first layer in the model instead.\n",
            "  super().__init__(activity_regularizer=activity_regularizer, **kwargs)\n"
          ]
        },
        {
          "output_type": "display_data",
          "data": {
            "text/plain": [
              "\u001b[1mModel: \"sequential\"\u001b[0m\n"
            ],
            "text/html": [
              "<pre style=\"white-space:pre;overflow-x:auto;line-height:normal;font-family:Menlo,'DejaVu Sans Mono',consolas,'Courier New',monospace\"><span style=\"font-weight: bold\">Model: \"sequential\"</span>\n",
              "</pre>\n"
            ]
          },
          "metadata": {}
        },
        {
          "output_type": "display_data",
          "data": {
            "text/plain": [
              "┏━━━━━━━━━━━━━━━━━━━━━━━━━━━━━━━━━━━━━━┳━━━━━━━━━━━━━━━━━━━━━━━━━━━━━┳━━━━━━━━━━━━━━━━━┓\n",
              "┃\u001b[1m \u001b[0m\u001b[1mLayer (type)                        \u001b[0m\u001b[1m \u001b[0m┃\u001b[1m \u001b[0m\u001b[1mOutput Shape               \u001b[0m\u001b[1m \u001b[0m┃\u001b[1m \u001b[0m\u001b[1m        Param #\u001b[0m\u001b[1m \u001b[0m┃\n",
              "┡━━━━━━━━━━━━━━━━━━━━━━━━━━━━━━━━━━━━━━╇━━━━━━━━━━━━━━━━━━━━━━━━━━━━━╇━━━━━━━━━━━━━━━━━┩\n",
              "│ dense (\u001b[38;5;33mDense\u001b[0m)                        │ (\u001b[38;5;45mNone\u001b[0m, \u001b[38;5;34m16\u001b[0m)                  │             \u001b[38;5;34m240\u001b[0m │\n",
              "├──────────────────────────────────────┼─────────────────────────────┼─────────────────┤\n",
              "│ dropout (\u001b[38;5;33mDropout\u001b[0m)                    │ (\u001b[38;5;45mNone\u001b[0m, \u001b[38;5;34m16\u001b[0m)                  │               \u001b[38;5;34m0\u001b[0m │\n",
              "├──────────────────────────────────────┼─────────────────────────────┼─────────────────┤\n",
              "│ dense_1 (\u001b[38;5;33mDense\u001b[0m)                      │ (\u001b[38;5;45mNone\u001b[0m, \u001b[38;5;34m1\u001b[0m)                   │              \u001b[38;5;34m17\u001b[0m │\n",
              "└──────────────────────────────────────┴─────────────────────────────┴─────────────────┘\n"
            ],
            "text/html": [
              "<pre style=\"white-space:pre;overflow-x:auto;line-height:normal;font-family:Menlo,'DejaVu Sans Mono',consolas,'Courier New',monospace\">┏━━━━━━━━━━━━━━━━━━━━━━━━━━━━━━━━━━━━━━┳━━━━━━━━━━━━━━━━━━━━━━━━━━━━━┳━━━━━━━━━━━━━━━━━┓\n",
              "┃<span style=\"font-weight: bold\"> Layer (type)                         </span>┃<span style=\"font-weight: bold\"> Output Shape                </span>┃<span style=\"font-weight: bold\">         Param # </span>┃\n",
              "┡━━━━━━━━━━━━━━━━━━━━━━━━━━━━━━━━━━━━━━╇━━━━━━━━━━━━━━━━━━━━━━━━━━━━━╇━━━━━━━━━━━━━━━━━┩\n",
              "│ dense (<span style=\"color: #0087ff; text-decoration-color: #0087ff\">Dense</span>)                        │ (<span style=\"color: #00d7ff; text-decoration-color: #00d7ff\">None</span>, <span style=\"color: #00af00; text-decoration-color: #00af00\">16</span>)                  │             <span style=\"color: #00af00; text-decoration-color: #00af00\">240</span> │\n",
              "├──────────────────────────────────────┼─────────────────────────────┼─────────────────┤\n",
              "│ dropout (<span style=\"color: #0087ff; text-decoration-color: #0087ff\">Dropout</span>)                    │ (<span style=\"color: #00d7ff; text-decoration-color: #00d7ff\">None</span>, <span style=\"color: #00af00; text-decoration-color: #00af00\">16</span>)                  │               <span style=\"color: #00af00; text-decoration-color: #00af00\">0</span> │\n",
              "├──────────────────────────────────────┼─────────────────────────────┼─────────────────┤\n",
              "│ dense_1 (<span style=\"color: #0087ff; text-decoration-color: #0087ff\">Dense</span>)                      │ (<span style=\"color: #00d7ff; text-decoration-color: #00d7ff\">None</span>, <span style=\"color: #00af00; text-decoration-color: #00af00\">1</span>)                   │              <span style=\"color: #00af00; text-decoration-color: #00af00\">17</span> │\n",
              "└──────────────────────────────────────┴─────────────────────────────┴─────────────────┘\n",
              "</pre>\n"
            ]
          },
          "metadata": {}
        },
        {
          "output_type": "display_data",
          "data": {
            "text/plain": [
              "\u001b[1m Total params: \u001b[0m\u001b[38;5;34m257\u001b[0m (1.00 KB)\n"
            ],
            "text/html": [
              "<pre style=\"white-space:pre;overflow-x:auto;line-height:normal;font-family:Menlo,'DejaVu Sans Mono',consolas,'Courier New',monospace\"><span style=\"font-weight: bold\"> Total params: </span><span style=\"color: #00af00; text-decoration-color: #00af00\">257</span> (1.00 KB)\n",
              "</pre>\n"
            ]
          },
          "metadata": {}
        },
        {
          "output_type": "display_data",
          "data": {
            "text/plain": [
              "\u001b[1m Trainable params: \u001b[0m\u001b[38;5;34m257\u001b[0m (1.00 KB)\n"
            ],
            "text/html": [
              "<pre style=\"white-space:pre;overflow-x:auto;line-height:normal;font-family:Menlo,'DejaVu Sans Mono',consolas,'Courier New',monospace\"><span style=\"font-weight: bold\"> Trainable params: </span><span style=\"color: #00af00; text-decoration-color: #00af00\">257</span> (1.00 KB)\n",
              "</pre>\n"
            ]
          },
          "metadata": {}
        },
        {
          "output_type": "display_data",
          "data": {
            "text/plain": [
              "\u001b[1m Non-trainable params: \u001b[0m\u001b[38;5;34m0\u001b[0m (0.00 B)\n"
            ],
            "text/html": [
              "<pre style=\"white-space:pre;overflow-x:auto;line-height:normal;font-family:Menlo,'DejaVu Sans Mono',consolas,'Courier New',monospace\"><span style=\"font-weight: bold\"> Non-trainable params: </span><span style=\"color: #00af00; text-decoration-color: #00af00\">0</span> (0.00 B)\n",
              "</pre>\n"
            ]
          },
          "metadata": {}
        }
      ]
    },
    {
      "cell_type": "markdown",
      "source": [
        "Test run baseline model"
      ],
      "metadata": {
        "id": "f9BCJMY1dWS6"
      }
    },
    {
      "cell_type": "code",
      "source": [
        "model.predict(train_features[:10])"
      ],
      "metadata": {
        "colab": {
          "base_uri": "https://localhost:8080/"
        },
        "id": "nWA2V3mYdSzt",
        "outputId": "6f38b8ee-d31a-47ab-a1c0-1c5daa3fd8c4"
      },
      "execution_count": 18,
      "outputs": [
        {
          "output_type": "stream",
          "name": "stdout",
          "text": [
            "\u001b[1m1/1\u001b[0m \u001b[32m━━━━━━━━━━━━━━━━━━━━\u001b[0m\u001b[37m\u001b[0m \u001b[1m0s\u001b[0m 218ms/step\n"
          ]
        },
        {
          "output_type": "execute_result",
          "data": {
            "text/plain": [
              "array([[0.677664  ],\n",
              "       [0.8530564 ],\n",
              "       [0.70570445],\n",
              "       [0.15257162],\n",
              "       [0.5989483 ],\n",
              "       [0.766858  ],\n",
              "       [0.64762056],\n",
              "       [0.5641242 ],\n",
              "       [0.21797559],\n",
              "       [0.68708843]], dtype=float32)"
            ]
          },
          "metadata": {},
          "execution_count": 18
        }
      ]
    },
    {
      "cell_type": "markdown",
      "source": [
        "Set correct initial bias"
      ],
      "metadata": {
        "id": "VbBCSo_EdZ1A"
      }
    },
    {
      "cell_type": "code",
      "source": [
        "initial_bias = np.log([pos/neg])\n",
        "initial_bias"
      ],
      "metadata": {
        "colab": {
          "base_uri": "https://localhost:8080/"
        },
        "id": "s2MXPyZyd68B",
        "outputId": "58e1f045-f787-487a-87ac-786751211f47"
      },
      "execution_count": 19,
      "outputs": [
        {
          "output_type": "execute_result",
          "data": {
            "text/plain": [
              "array([-5.63445295])"
            ]
          },
          "metadata": {},
          "execution_count": 19
        }
      ]
    },
    {
      "cell_type": "markdown",
      "source": [
        "Baseline with initial bias"
      ],
      "metadata": {
        "id": "NMRUVN7teJLe"
      }
    },
    {
      "cell_type": "code",
      "source": [
        "model = make_model(output_bias=initial_bias)\n",
        "model.predict(train_features[:10])"
      ],
      "metadata": {
        "colab": {
          "base_uri": "https://localhost:8080/"
        },
        "id": "iNp8oNoXeFY-",
        "outputId": "0a182637-72d6-4956-e8ae-07071f16c5d4"
      },
      "execution_count": 20,
      "outputs": [
        {
          "output_type": "stream",
          "name": "stdout",
          "text": [
            "\u001b[1m1/1\u001b[0m \u001b[32m━━━━━━━━━━━━━━━━━━━━\u001b[0m\u001b[37m\u001b[0m \u001b[1m0s\u001b[0m 84ms/step\n"
          ]
        },
        {
          "output_type": "execute_result",
          "data": {
            "text/plain": [
              "array([[0.00276037],\n",
              "       [0.00459124],\n",
              "       [0.00262902],\n",
              "       [0.00263722],\n",
              "       [0.00991434],\n",
              "       [0.0075529 ],\n",
              "       [0.00797647],\n",
              "       [0.0147143 ],\n",
              "       [0.00177772],\n",
              "       [0.00643334]], dtype=float32)"
            ]
          },
          "metadata": {},
          "execution_count": 20
        }
      ]
    },
    {
      "cell_type": "code",
      "source": [
        "results = model.evaluate(train_features, train_labels, batch_size=BATCH_SIZE, verbose=0)\n",
        "print(\"Loss: {:0.4f}\".format(results[0]))"
      ],
      "metadata": {
        "colab": {
          "base_uri": "https://localhost:8080/"
        },
        "id": "p1nfBhI1eN39",
        "outputId": "0f4935fe-d505-4b40-fb77-218d48118b3c"
      },
      "execution_count": 21,
      "outputs": [
        {
          "output_type": "stream",
          "name": "stdout",
          "text": [
            "Loss: 0.0278\n"
          ]
        }
      ]
    },
    {
      "cell_type": "markdown",
      "source": [
        "Saving initial weights to temp file"
      ],
      "metadata": {
        "id": "PpSl1u_Heko1"
      }
    },
    {
      "cell_type": "code",
      "source": [
        "import tempfile\n",
        "\n",
        "initial_weights = os.path.join(tempfile.mkdtemp(), 'initial.weights.h5')\n",
        "model.save_weights(initial_weights)\n"
      ],
      "metadata": {
        "id": "qVDySW20eojn"
      },
      "execution_count": 22,
      "outputs": []
    },
    {
      "cell_type": "markdown",
      "source": [
        "##Bias vs Non-Bias Comparison"
      ],
      "metadata": {
        "id": "RtEE4BM4ftRE"
      }
    },
    {
      "cell_type": "code",
      "source": [
        "# no initial bias\n",
        "\n",
        "model = make_model()\n",
        "model.load_weights(initial_weights)\n",
        "model.layers[-1].bias.assign([0.0])\n",
        "zero_bias_history = model.fit(\n",
        "    train_features,\n",
        "    train_labels,\n",
        "    batch_size=BATCH_SIZE,\n",
        "    epochs=20,\n",
        "    callbacks=[early_stopping()],\n",
        "    validation_data=(val_features, val_labels),\n",
        "    verbose=0\n",
        ")"
      ],
      "metadata": {
        "colab": {
          "base_uri": "https://localhost:8080/"
        },
        "id": "JfWf0krdfy6O",
        "outputId": "60c60a08-2787-4b0f-de5d-1439bcdd46f7"
      },
      "execution_count": 23,
      "outputs": [
        {
          "output_type": "stream",
          "name": "stdout",
          "text": [
            "Epoch 20: early stopping\n",
            "Restoring model weights from the end of the best epoch: 10.\n"
          ]
        }
      ]
    },
    {
      "cell_type": "code",
      "source": [
        "# model with initial bias\n",
        "\n",
        "model = make_model()\n",
        "model.load_weights(initial_weights)\n",
        "careful_bias_history = model.fit(\n",
        "    train_features,\n",
        "    train_labels,\n",
        "    batch_size=BATCH_SIZE,\n",
        "    epochs=20,\n",
        "    callbacks=[early_stopping()],\n",
        "    validation_data=(val_features, val_labels),\n",
        "    verbose=0\n",
        ")"
      ],
      "metadata": {
        "colab": {
          "base_uri": "https://localhost:8080/"
        },
        "id": "0axkAiZsgYUg",
        "outputId": "231babfb-4363-478a-985b-8abe97f36c78"
      },
      "execution_count": 24,
      "outputs": [
        {
          "output_type": "stream",
          "name": "stdout",
          "text": [
            "Restoring model weights from the end of the best epoch: 20.\n"
          ]
        }
      ]
    },
    {
      "cell_type": "code",
      "source": [
        "colors = plt.rcParams['axes.prop_cycle'].by_key()['color']\n",
        "\n",
        "def plot_loss(history, label, n):\n",
        "  # Use a log scale to show the wide range of values.\n",
        "  plt.semilogy(history.epoch, history.history['loss'],\n",
        "               color=colors[n], label='Train ' + label)\n",
        "  plt.semilogy(history.epoch, history.history['val_loss'],\n",
        "               color=colors[n], label='Val ' + label,\n",
        "               linestyle=\"--\")\n",
        "  plt.xlabel('Epoch')\n",
        "  plt.ylabel('Loss')\n",
        "  plt.legend()"
      ],
      "metadata": {
        "id": "ydD729YtiPqp"
      },
      "execution_count": 25,
      "outputs": []
    },
    {
      "cell_type": "code",
      "source": [
        "plot_loss(zero_bias_history, \"Zero Bias\", 0)\n",
        "plot_loss(careful_bias_history, \"Careful Bias\", 1)"
      ],
      "metadata": {
        "colab": {
          "base_uri": "https://localhost:8080/",
          "height": 449
        },
        "id": "GKqxtzRAiaOE",
        "outputId": "0de69688-44da-42c5-b811-dbe2e5afef1c"
      },
      "execution_count": 26,
      "outputs": [
        {
          "output_type": "display_data",
          "data": {
            "text/plain": [
              "<Figure size 640x480 with 1 Axes>"
            ],
            "image/png": "[encoded data removed]"
          },
          "metadata": {}
        }
      ]
    },
    {
      "cell_type": "markdown",
      "source": [
        "## Train Model"
      ],
      "metadata": {
        "id": "tQ75f5H5i359"
      }
    },
    {
      "cell_type": "code",
      "source": [
        "model = make_model()\n",
        "model.load_weights(initial_weights)\n",
        "baseline_history = model.fit(\n",
        "    train_features,\n",
        "    train_labels,\n",
        "    batch_size=BATCH_SIZE,\n",
        "    epochs=EPOCHS,\n",
        "    callbacks=[early_stopping()],\n",
        "    validation_data=(val_features, val_labels))"
      ],
      "metadata": {
        "colab": {
          "base_uri": "https://localhost:8080/"
        },
        "id": "m_XGyuQ3i7kI",
        "outputId": "615772a6-5b7a-4fd9-9d03-1e02bb6fb0ee"
      },
      "execution_count": 27,
      "outputs": [
        {
          "output_type": "stream",
          "name": "stdout",
          "text": [
            "Epoch 1/100\n",
            "\u001b[1m828/828\u001b[0m \u001b[32m━━━━━━━━━━━━━━━━━━━━\u001b[0m\u001b[37m\u001b[0m \u001b[1m10s\u001b[0m 7ms/step - Brier score: 0.0034 - accuracy: 0.9964 - auc: 0.7608 - cross entropy: 0.0197 - fn: 4457.0254 - fp: 117.0784 - loss: 0.0238 - prc: 0.1014 - precision: 0.4854 - recall: 0.0143 - tn: 1268732.5000 - tp: 77.4053 - val_Brier score: 0.0032 - val_accuracy: 0.9965 - val_auc: 0.8353 - val_cross entropy: 0.0165 - val_fn: 1497.0000 - val_fp: 0.0000e+00 - val_loss: 0.0165 - val_prc: 0.2080 - val_precision: 0.0000e+00 - val_recall: 0.0000e+00 - val_tn: 421974.0000 - val_tp: 0.0000e+00\n",
            "Epoch 2/100\n",
            "\u001b[1m828/828\u001b[0m \u001b[32m━━━━━━━━━━━━━━━━━━━━\u001b[0m\u001b[37m\u001b[0m \u001b[1m10s\u001b[0m 7ms/step - Brier score: 0.0033 - accuracy: 0.9963 - auc: 0.8168 - cross entropy: 0.0176 - fn: 2800.8179 - fp: 384.1279 - loss: 0.0176 - prc: 0.1439 - precision: 0.3261 - recall: 0.0627 - tn: 846529.4375 - tp: 198.6671 - val_Brier score: 0.0031 - val_accuracy: 0.9965 - val_auc: 0.8381 - val_cross entropy: 0.0162 - val_fn: 1497.0000 - val_fp: 0.0000e+00 - val_loss: 0.0162 - val_prc: 0.2221 - val_precision: 0.0000e+00 - val_recall: 0.0000e+00 - val_tn: 421974.0000 - val_tp: 0.0000e+00\n",
            "Epoch 3/100\n",
            "\u001b[1m828/828\u001b[0m \u001b[32m━━━━━━━━━━━━━━━━━━━━\u001b[0m\u001b[37m\u001b[0m \u001b[1m10s\u001b[0m 7ms/step - Brier score: 0.0033 - accuracy: 0.9963 - auc: 0.8271 - cross entropy: 0.0173 - fn: 2799.5042 - fp: 357.4837 - loss: 0.0173 - prc: 0.1502 - precision: 0.3549 - recall: 0.0659 - tn: 846545.5625 - tp: 210.4813 - val_Brier score: 0.0031 - val_accuracy: 0.9965 - val_auc: 0.8419 - val_cross entropy: 0.0161 - val_fn: 1497.0000 - val_fp: 0.0000e+00 - val_loss: 0.0161 - val_prc: 0.2298 - val_precision: 0.0000e+00 - val_recall: 0.0000e+00 - val_tn: 421974.0000 - val_tp: 0.0000e+00\n",
            "Epoch 4/100\n",
            "\u001b[1m828/828\u001b[0m \u001b[32m━━━━━━━━━━━━━━━━━━━━\u001b[0m\u001b[37m\u001b[0m \u001b[1m9s\u001b[0m 6ms/step - Brier score: 0.0032 - accuracy: 0.9963 - auc: 0.8474 - cross entropy: 0.0169 - fn: 2800.1702 - fp: 354.1773 - loss: 0.0169 - prc: 0.1733 - precision: 0.3973 - recall: 0.0767 - tn: 846526.1250 - tp: 232.5585 - val_Brier score: 0.0031 - val_accuracy: 0.9965 - val_auc: 0.8660 - val_cross entropy: 0.0160 - val_fn: 1496.0000 - val_fp: 0.0000e+00 - val_loss: 0.0160 - val_prc: 0.2286 - val_precision: 1.0000 - val_recall: 6.6800e-04 - val_tn: 421974.0000 - val_tp: 1.0000\n",
            "Epoch 5/100\n",
            "\u001b[1m828/828\u001b[0m \u001b[32m━━━━━━━━━━━━━━━━━━━━\u001b[0m\u001b[37m\u001b[0m \u001b[1m7s\u001b[0m 8ms/step - Brier score: 0.0032 - accuracy: 0.9964 - auc: 0.8556 - cross entropy: 0.0167 - fn: 2774.5464 - fp: 339.7684 - loss: 0.0167 - prc: 0.1741 - precision: 0.4035 - recall: 0.0761 - tn: 846579.7500 - tp: 218.9505 - val_Brier score: 0.0031 - val_accuracy: 0.9965 - val_auc: 0.8725 - val_cross entropy: 0.0157 - val_fn: 1491.0000 - val_fp: 2.0000 - val_loss: 0.0157 - val_prc: 0.2321 - val_precision: 0.7500 - val_recall: 0.0040 - val_tn: 421972.0000 - val_tp: 6.0000\n",
            "Epoch 6/100\n",
            "\u001b[1m828/828\u001b[0m \u001b[32m━━━━━━━━━━━━━━━━━━━━\u001b[0m\u001b[37m\u001b[0m \u001b[1m9s\u001b[0m 6ms/step - Brier score: 0.0032 - accuracy: 0.9964 - auc: 0.8652 - cross entropy: 0.0166 - fn: 2773.8491 - fp: 322.5211 - loss: 0.0166 - prc: 0.1751 - precision: 0.4213 - recall: 0.0798 - tn: 846583.6875 - tp: 233.0000 - val_Brier score: 0.0031 - val_accuracy: 0.9965 - val_auc: 0.8726 - val_cross entropy: 0.0157 - val_fn: 1496.0000 - val_fp: 0.0000e+00 - val_loss: 0.0157 - val_prc: 0.2325 - val_precision: 1.0000 - val_recall: 6.6800e-04 - val_tn: 421974.0000 - val_tp: 1.0000\n",
            "Epoch 7/100\n",
            "\u001b[1m828/828\u001b[0m \u001b[32m━━━━━━━━━━━━━━━━━━━━\u001b[0m\u001b[37m\u001b[0m \u001b[1m7s\u001b[0m 8ms/step - Brier score: 0.0033 - accuracy: 0.9963 - auc: 0.8651 - cross entropy: 0.0170 - fn: 2825.1677 - fp: 319.6080 - loss: 0.0170 - prc: 0.1713 - precision: 0.3899 - recall: 0.0698 - tn: 846561.2500 - tp: 207.0241 - val_Brier score: 0.0031 - val_accuracy: 0.9965 - val_auc: 0.8738 - val_cross entropy: 0.0157 - val_fn: 1494.0000 - val_fp: 0.0000e+00 - val_loss: 0.0157 - val_prc: 0.2368 - val_precision: 1.0000 - val_recall: 0.0020 - val_tn: 421974.0000 - val_tp: 3.0000\n",
            "Epoch 8/100\n",
            "\u001b[1m828/828\u001b[0m \u001b[32m━━━━━━━━━━━━━━━━━━━━\u001b[0m\u001b[37m\u001b[0m \u001b[1m5s\u001b[0m 6ms/step - Brier score: 0.0032 - accuracy: 0.9963 - auc: 0.8683 - cross entropy: 0.0166 - fn: 2787.0784 - fp: 323.0193 - loss: 0.0166 - prc: 0.1744 - precision: 0.4024 - recall: 0.0731 - tn: 846583.1250 - tp: 219.8444 - val_Brier score: 0.0031 - val_accuracy: 0.9965 - val_auc: 0.8755 - val_cross entropy: 0.0155 - val_fn: 1493.0000 - val_fp: 0.0000e+00 - val_loss: 0.0155 - val_prc: 0.2411 - val_precision: 1.0000 - val_recall: 0.0027 - val_tn: 421974.0000 - val_tp: 4.0000\n",
            "Epoch 9/100\n",
            "\u001b[1m828/828\u001b[0m \u001b[32m━━━━━━━━━━━━━━━━━━━━\u001b[0m\u001b[37m\u001b[0m \u001b[1m6s\u001b[0m 7ms/step - Brier score: 0.0033 - accuracy: 0.9963 - auc: 0.8683 - cross entropy: 0.0169 - fn: 2809.6091 - fp: 299.5259 - loss: 0.0169 - prc: 0.1763 - precision: 0.4179 - recall: 0.0724 - tn: 846592.9375 - tp: 210.9409 - val_Brier score: 0.0031 - val_accuracy: 0.9965 - val_auc: 0.8756 - val_cross entropy: 0.0155 - val_fn: 1491.0000 - val_fp: 0.0000e+00 - val_loss: 0.0155 - val_prc: 0.2409 - val_precision: 1.0000 - val_recall: 0.0040 - val_tn: 421974.0000 - val_tp: 6.0000\n",
            "Epoch 10/100\n",
            "\u001b[1m828/828\u001b[0m \u001b[32m━━━━━━━━━━━━━━━━━━━━\u001b[0m\u001b[37m\u001b[0m \u001b[1m9s\u001b[0m 6ms/step - Brier score: 0.0032 - accuracy: 0.9963 - auc: 0.8682 - cross entropy: 0.0168 - fn: 2816.1580 - fp: 298.7793 - loss: 0.0168 - prc: 0.1806 - precision: 0.4088 - recall: 0.0685 - tn: 846580.1250 - tp: 217.9916 - val_Brier score: 0.0031 - val_accuracy: 0.9965 - val_auc: 0.8759 - val_cross entropy: 0.0155 - val_fn: 1489.0000 - val_fp: 0.0000e+00 - val_loss: 0.0155 - val_prc: 0.2427 - val_precision: 1.0000 - val_recall: 0.0053 - val_tn: 421974.0000 - val_tp: 8.0000\n",
            "Epoch 11/100\n",
            "\u001b[1m828/828\u001b[0m \u001b[32m━━━━━━━━━━━━━━━━━━━━\u001b[0m\u001b[37m\u001b[0m \u001b[1m7s\u001b[0m 8ms/step - Brier score: 0.0032 - accuracy: 0.9964 - auc: 0.8678 - cross entropy: 0.0167 - fn: 2811.5562 - fp: 286.2871 - loss: 0.0167 - prc: 0.1863 - precision: 0.4375 - recall: 0.0712 - tn: 846599.8750 - tp: 215.3269 - val_Brier score: 0.0031 - val_accuracy: 0.9965 - val_auc: 0.8755 - val_cross entropy: 0.0156 - val_fn: 1497.0000 - val_fp: 0.0000e+00 - val_loss: 0.0156 - val_prc: 0.2416 - val_precision: 0.0000e+00 - val_recall: 0.0000e+00 - val_tn: 421974.0000 - val_tp: 0.0000e+00\n",
            "Epoch 12/100\n",
            "\u001b[1m828/828\u001b[0m \u001b[32m━━━━━━━━━━━━━━━━━━━━\u001b[0m\u001b[37m\u001b[0m \u001b[1m8s\u001b[0m 6ms/step - Brier score: 0.0033 - accuracy: 0.9963 - auc: 0.8687 - cross entropy: 0.0170 - fn: 2843.5718 - fp: 276.3679 - loss: 0.0170 - prc: 0.1716 - precision: 0.4006 - recall: 0.0609 - tn: 846600.5625 - tp: 192.5525 - val_Brier score: 0.0031 - val_accuracy: 0.9965 - val_auc: 0.8764 - val_cross entropy: 0.0154 - val_fn: 1487.0000 - val_fp: 2.0000 - val_loss: 0.0154 - val_prc: 0.2424 - val_precision: 0.8333 - val_recall: 0.0067 - val_tn: 421972.0000 - val_tp: 10.0000\n",
            "Epoch 13/100\n",
            "\u001b[1m828/828\u001b[0m \u001b[32m━━━━━━━━━━━━━━━━━━━━\u001b[0m\u001b[37m\u001b[0m \u001b[1m7s\u001b[0m 8ms/step - Brier score: 0.0031 - accuracy: 0.9964 - auc: 0.8709 - cross entropy: 0.0164 - fn: 2774.6658 - fp: 266.3643 - loss: 0.0164 - prc: 0.1808 - precision: 0.4330 - recall: 0.0673 - tn: 846666.7500 - tp: 205.2859 - val_Brier score: 0.0030 - val_accuracy: 0.9965 - val_auc: 0.8768 - val_cross entropy: 0.0154 - val_fn: 1480.0000 - val_fp: 3.0000 - val_loss: 0.0154 - val_prc: 0.2456 - val_precision: 0.8500 - val_recall: 0.0114 - val_tn: 421971.0000 - val_tp: 17.0000\n",
            "Epoch 14/100\n",
            "\u001b[1m828/828\u001b[0m \u001b[32m━━━━━━━━━━━━━━━━━━━━\u001b[0m\u001b[37m\u001b[0m \u001b[1m8s\u001b[0m 6ms/step - Brier score: 0.0031 - accuracy: 0.9964 - auc: 0.8694 - cross entropy: 0.0165 - fn: 2778.7842 - fp: 266.3245 - loss: 0.0165 - prc: 0.1803 - precision: 0.4330 - recall: 0.0685 - tn: 846655.3750 - tp: 212.5368 - val_Brier score: 0.0030 - val_accuracy: 0.9965 - val_auc: 0.8773 - val_cross entropy: 0.0154 - val_fn: 1484.0000 - val_fp: 5.0000 - val_loss: 0.0154 - val_prc: 0.2455 - val_precision: 0.7222 - val_recall: 0.0087 - val_tn: 421969.0000 - val_tp: 13.0000\n",
            "Epoch 15/100\n",
            "\u001b[1m828/828\u001b[0m \u001b[32m━━━━━━━━━━━━━━━━━━━━\u001b[0m\u001b[37m\u001b[0m \u001b[1m7s\u001b[0m 8ms/step - Brier score: 0.0032 - accuracy: 0.9964 - auc: 0.8723 - cross entropy: 0.0164 - fn: 2791.3921 - fp: 279.0495 - loss: 0.0164 - prc: 0.1943 - precision: 0.4732 - recall: 0.0805 - tn: 846601.5625 - tp: 241.0133 - val_Brier score: 0.0031 - val_accuracy: 0.9965 - val_auc: 0.8774 - val_cross entropy: 0.0155 - val_fn: 1491.0000 - val_fp: 0.0000e+00 - val_loss: 0.0155 - val_prc: 0.2459 - val_precision: 1.0000 - val_recall: 0.0040 - val_tn: 421974.0000 - val_tp: 6.0000\n",
            "Epoch 16/100\n",
            "\u001b[1m828/828\u001b[0m \u001b[32m━━━━━━━━━━━━━━━━━━━━\u001b[0m\u001b[37m\u001b[0m \u001b[1m5s\u001b[0m 6ms/step - Brier score: 0.0032 - accuracy: 0.9964 - auc: 0.8726 - cross entropy: 0.0166 - fn: 2819.0508 - fp: 287.6092 - loss: 0.0166 - prc: 0.1990 - precision: 0.4533 - recall: 0.0722 - tn: 846575.1250 - tp: 231.2413 - val_Brier score: 0.0031 - val_accuracy: 0.9965 - val_auc: 0.8765 - val_cross entropy: 0.0154 - val_fn: 1489.0000 - val_fp: 2.0000 - val_loss: 0.0154 - val_prc: 0.2451 - val_precision: 0.8000 - val_recall: 0.0053 - val_tn: 421972.0000 - val_tp: 8.0000\n",
            "Epoch 17/100\n",
            "\u001b[1m828/828\u001b[0m \u001b[32m━━━━━━━━━━━━━━━━━━━━\u001b[0m\u001b[37m\u001b[0m \u001b[1m5s\u001b[0m 6ms/step - Brier score: 0.0032 - accuracy: 0.9964 - auc: 0.8684 - cross entropy: 0.0164 - fn: 2801.3655 - fp: 286.5247 - loss: 0.0164 - prc: 0.1857 - precision: 0.4132 - recall: 0.0667 - tn: 846615.2500 - tp: 209.9011 - val_Brier score: 0.0030 - val_accuracy: 0.9965 - val_auc: 0.8775 - val_cross entropy: 0.0154 - val_fn: 1488.0000 - val_fp: 3.0000 - val_loss: 0.0154 - val_prc: 0.2473 - val_precision: 0.7500 - val_recall: 0.0060 - val_tn: 421971.0000 - val_tp: 9.0000\n",
            "Epoch 18/100\n",
            "\u001b[1m828/828\u001b[0m \u001b[32m━━━━━━━━━━━━━━━━━━━━\u001b[0m\u001b[37m\u001b[0m \u001b[1m6s\u001b[0m 7ms/step - Brier score: 0.0031 - accuracy: 0.9965 - auc: 0.8714 - cross entropy: 0.0164 - fn: 2760.7104 - fp: 264.5742 - loss: 0.0164 - prc: 0.1966 - precision: 0.4914 - recall: 0.0827 - tn: 846637.9375 - tp: 249.8299 - val_Brier score: 0.0030 - val_accuracy: 0.9965 - val_auc: 0.8774 - val_cross entropy: 0.0153 - val_fn: 1480.0000 - val_fp: 5.0000 - val_loss: 0.0153 - val_prc: 0.2466 - val_precision: 0.7727 - val_recall: 0.0114 - val_tn: 421969.0000 - val_tp: 17.0000\n",
            "Epoch 19/100\n",
            "\u001b[1m828/828\u001b[0m \u001b[32m━━━━━━━━━━━━━━━━━━━━\u001b[0m\u001b[37m\u001b[0m \u001b[1m10s\u001b[0m 7ms/step - Brier score: 0.0032 - accuracy: 0.9964 - auc: 0.8660 - cross entropy: 0.0167 - fn: 2785.6624 - fp: 288.3583 - loss: 0.0167 - prc: 0.1949 - precision: 0.4669 - recall: 0.0832 - tn: 846582.8750 - tp: 256.1399 - val_Brier score: 0.0030 - val_accuracy: 0.9965 - val_auc: 0.8769 - val_cross entropy: 0.0153 - val_fn: 1482.0000 - val_fp: 5.0000 - val_loss: 0.0153 - val_prc: 0.2478 - val_precision: 0.7500 - val_recall: 0.0100 - val_tn: 421969.0000 - val_tp: 15.0000\n",
            "Epoch 20/100\n",
            "\u001b[1m828/828\u001b[0m \u001b[32m━━━━━━━━━━━━━━━━━━━━\u001b[0m\u001b[37m\u001b[0m \u001b[1m9s\u001b[0m 6ms/step - Brier score: 0.0032 - accuracy: 0.9964 - auc: 0.8701 - cross entropy: 0.0166 - fn: 2795.8142 - fp: 290.6478 - loss: 0.0166 - prc: 0.1949 - precision: 0.4556 - recall: 0.0795 - tn: 846581.0625 - tp: 245.5308 - val_Brier score: 0.0030 - val_accuracy: 0.9965 - val_auc: 0.8775 - val_cross entropy: 0.0154 - val_fn: 1485.0000 - val_fp: 4.0000 - val_loss: 0.0154 - val_prc: 0.2467 - val_precision: 0.7500 - val_recall: 0.0080 - val_tn: 421970.0000 - val_tp: 12.0000\n",
            "Epoch 21/100\n",
            "\u001b[1m828/828\u001b[0m \u001b[32m━━━━━━━━━━━━━━━━━━━━\u001b[0m\u001b[37m\u001b[0m \u001b[1m7s\u001b[0m 8ms/step - Brier score: 0.0032 - accuracy: 0.9963 - auc: 0.8686 - cross entropy: 0.0168 - fn: 2815.8540 - fp: 289.1617 - loss: 0.0168 - prc: 0.1863 - precision: 0.4137 - recall: 0.0670 - tn: 846591.6875 - tp: 216.3607 - val_Brier score: 0.0030 - val_accuracy: 0.9965 - val_auc: 0.8768 - val_cross entropy: 0.0153 - val_fn: 1479.0000 - val_fp: 5.0000 - val_loss: 0.0153 - val_prc: 0.2477 - val_precision: 0.7826 - val_recall: 0.0120 - val_tn: 421969.0000 - val_tp: 18.0000\n",
            "Epoch 22/100\n",
            "\u001b[1m828/828\u001b[0m \u001b[32m━━━━━━━━━━━━━━━━━━━━\u001b[0m\u001b[37m\u001b[0m \u001b[1m8s\u001b[0m 6ms/step - Brier score: 0.0032 - accuracy: 0.9964 - auc: 0.8728 - cross entropy: 0.0163 - fn: 2775.6633 - fp: 314.0579 - loss: 0.0163 - prc: 0.1945 - precision: 0.4136 - recall: 0.0753 - tn: 846594.9375 - tp: 228.3583 - val_Brier score: 0.0030 - val_accuracy: 0.9965 - val_auc: 0.8777 - val_cross entropy: 0.0153 - val_fn: 1475.0000 - val_fp: 8.0000 - val_loss: 0.0153 - val_prc: 0.2473 - val_precision: 0.7333 - val_recall: 0.0147 - val_tn: 421966.0000 - val_tp: 22.0000\n",
            "Epoch 23/100\n",
            "\u001b[1m828/828\u001b[0m \u001b[32m━━━━━━━━━━━━━━━━━━━━\u001b[0m\u001b[37m\u001b[0m \u001b[1m7s\u001b[0m 8ms/step - Brier score: 0.0032 - accuracy: 0.9963 - auc: 0.8709 - cross entropy: 0.0167 - fn: 2787.7830 - fp: 307.6345 - loss: 0.0167 - prc: 0.1962 - precision: 0.4478 - recall: 0.0789 - tn: 846576.1250 - tp: 241.4910 - val_Brier score: 0.0031 - val_accuracy: 0.9965 - val_auc: 0.8774 - val_cross entropy: 0.0155 - val_fn: 1490.0000 - val_fp: 1.0000 - val_loss: 0.0155 - val_prc: 0.2479 - val_precision: 0.8750 - val_recall: 0.0047 - val_tn: 421973.0000 - val_tp: 7.0000\n",
            "Epoch 24/100\n",
            "\u001b[1m828/828\u001b[0m \u001b[32m━━━━━━━━━━━━━━━━━━━━\u001b[0m\u001b[37m\u001b[0m \u001b[1m5s\u001b[0m 6ms/step - Brier score: 0.0032 - accuracy: 0.9964 - auc: 0.8747 - cross entropy: 0.0165 - fn: 2811.2305 - fp: 296.5042 - loss: 0.0165 - prc: 0.2043 - precision: 0.4498 - recall: 0.0741 - tn: 846574.9375 - tp: 230.3414 - val_Brier score: 0.0031 - val_accuracy: 0.9965 - val_auc: 0.8774 - val_cross entropy: 0.0154 - val_fn: 1488.0000 - val_fp: 3.0000 - val_loss: 0.0154 - val_prc: 0.2474 - val_precision: 0.7500 - val_recall: 0.0060 - val_tn: 421971.0000 - val_tp: 9.0000\n",
            "Epoch 25/100\n",
            "\u001b[1m828/828\u001b[0m \u001b[32m━━━━━━━━━━━━━━━━━━━━\u001b[0m\u001b[37m\u001b[0m \u001b[1m6s\u001b[0m 6ms/step - Brier score: 0.0033 - accuracy: 0.9963 - auc: 0.8740 - cross entropy: 0.0169 - fn: 2805.7178 - fp: 291.9940 - loss: 0.0169 - prc: 0.2038 - precision: 0.4636 - recall: 0.0794 - tn: 846572.0625 - tp: 243.2979 - val_Brier score: 0.0030 - val_accuracy: 0.9965 - val_auc: 0.8776 - val_cross entropy: 0.0153 - val_fn: 1479.0000 - val_fp: 4.0000 - val_loss: 0.0153 - val_prc: 0.2471 - val_precision: 0.8182 - val_recall: 0.0120 - val_tn: 421970.0000 - val_tp: 18.0000\n",
            "Epoch 26/100\n",
            "\u001b[1m828/828\u001b[0m \u001b[32m━━━━━━━━━━━━━━━━━━━━\u001b[0m\u001b[37m\u001b[0m \u001b[1m10s\u001b[0m 6ms/step - Brier score: 0.0032 - accuracy: 0.9964 - auc: 0.8703 - cross entropy: 0.0164 - fn: 2761.3438 - fp: 275.1653 - loss: 0.0164 - prc: 0.1949 - precision: 0.4802 - recall: 0.0799 - tn: 846635.3125 - tp: 241.1930 - val_Brier score: 0.0030 - val_accuracy: 0.9965 - val_auc: 0.8775 - val_cross entropy: 0.0153 - val_fn: 1475.0000 - val_fp: 7.0000 - val_loss: 0.0153 - val_prc: 0.2485 - val_precision: 0.7586 - val_recall: 0.0147 - val_tn: 421967.0000 - val_tp: 22.0000\n",
            "Epoch 27/100\n",
            "\u001b[1m828/828\u001b[0m \u001b[32m━━━━━━━━━━━━━━━━━━━━\u001b[0m\u001b[37m\u001b[0m \u001b[1m7s\u001b[0m 8ms/step - Brier score: 0.0032 - accuracy: 0.9964 - auc: 0.8753 - cross entropy: 0.0163 - fn: 2774.3643 - fp: 293.0398 - loss: 0.0163 - prc: 0.1927 - precision: 0.4470 - recall: 0.0780 - tn: 846602.6250 - tp: 243.0338 - val_Brier score: 0.0030 - val_accuracy: 0.9965 - val_auc: 0.8777 - val_cross entropy: 0.0153 - val_fn: 1478.0000 - val_fp: 5.0000 - val_loss: 0.0153 - val_prc: 0.2478 - val_precision: 0.7917 - val_recall: 0.0127 - val_tn: 421969.0000 - val_tp: 19.0000\n",
            "Epoch 28/100\n",
            "\u001b[1m828/828\u001b[0m \u001b[32m━━━━━━━━━━━━━━━━━━━━\u001b[0m\u001b[37m\u001b[0m \u001b[1m8s\u001b[0m 6ms/step - Brier score: 0.0031 - accuracy: 0.9964 - auc: 0.8713 - cross entropy: 0.0164 - fn: 2768.2642 - fp: 291.9590 - loss: 0.0164 - prc: 0.1961 - precision: 0.4691 - recall: 0.0829 - tn: 846603.3125 - tp: 249.5296 - val_Brier score: 0.0030 - val_accuracy: 0.9965 - val_auc: 0.8766 - val_cross entropy: 0.0153 - val_fn: 1472.0000 - val_fp: 9.0000 - val_loss: 0.0153 - val_prc: 0.2478 - val_precision: 0.7353 - val_recall: 0.0167 - val_tn: 421965.0000 - val_tp: 25.0000\n",
            "Epoch 29/100\n",
            "\u001b[1m828/828\u001b[0m \u001b[32m━━━━━━━━━━━━━━━━━━━━\u001b[0m\u001b[37m\u001b[0m \u001b[1m7s\u001b[0m 8ms/step - Brier score: 0.0032 - accuracy: 0.9964 - auc: 0.8692 - cross entropy: 0.0165 - fn: 2800.7466 - fp: 311.9481 - loss: 0.0165 - prc: 0.1982 - precision: 0.4498 - recall: 0.0823 - tn: 846548.6875 - tp: 251.6538 - val_Brier score: 0.0030 - val_accuracy: 0.9965 - val_auc: 0.8773 - val_cross entropy: 0.0152 - val_fn: 1453.0000 - val_fp: 26.0000 - val_loss: 0.0152 - val_prc: 0.2477 - val_precision: 0.6286 - val_recall: 0.0294 - val_tn: 421948.0000 - val_tp: 44.0000\n",
            "Epoch 30/100\n",
            "\u001b[1m828/828\u001b[0m \u001b[32m━━━━━━━━━━━━━━━━━━━━\u001b[0m\u001b[37m\u001b[0m \u001b[1m5s\u001b[0m 6ms/step - Brier score: 0.0031 - accuracy: 0.9964 - auc: 0.8709 - cross entropy: 0.0162 - fn: 2746.5200 - fp: 308.5633 - loss: 0.0162 - prc: 0.2003 - precision: 0.4464 - recall: 0.0846 - tn: 846611.6875 - tp: 246.2557 - val_Brier score: 0.0030 - val_accuracy: 0.9965 - val_auc: 0.8773 - val_cross entropy: 0.0153 - val_fn: 1463.0000 - val_fp: 14.0000 - val_loss: 0.0153 - val_prc: 0.2469 - val_precision: 0.7083 - val_recall: 0.0227 - val_tn: 421960.0000 - val_tp: 34.0000\n",
            "Epoch 31/100\n",
            "\u001b[1m828/828\u001b[0m \u001b[32m━━━━━━━━━━━━━━━━━━━━\u001b[0m\u001b[37m\u001b[0m \u001b[1m6s\u001b[0m 7ms/step - Brier score: 0.0032 - accuracy: 0.9964 - auc: 0.8707 - cross entropy: 0.0164 - fn: 2762.2136 - fp: 308.1025 - loss: 0.0164 - prc: 0.2037 - precision: 0.4640 - recall: 0.0866 - tn: 846581.1875 - tp: 261.5187 - val_Brier score: 0.0030 - val_accuracy: 0.9965 - val_auc: 0.8776 - val_cross entropy: 0.0152 - val_fn: 1462.0000 - val_fp: 17.0000 - val_loss: 0.0152 - val_prc: 0.2483 - val_precision: 0.6731 - val_recall: 0.0234 - val_tn: 421957.0000 - val_tp: 35.0000\n",
            "Epoch 32/100\n",
            "\u001b[1m828/828\u001b[0m \u001b[32m━━━━━━━━━━━━━━━━━━━━\u001b[0m\u001b[37m\u001b[0m \u001b[1m6s\u001b[0m 7ms/step - Brier score: 0.0031 - accuracy: 0.9964 - auc: 0.8720 - cross entropy: 0.0163 - fn: 2772.3354 - fp: 299.5681 - loss: 0.0163 - prc: 0.2010 - precision: 0.4569 - recall: 0.0855 - tn: 846593.5000 - tp: 247.6622 - val_Brier score: 0.0030 - val_accuracy: 0.9965 - val_auc: 0.8776 - val_cross entropy: 0.0153 - val_fn: 1464.0000 - val_fp: 12.0000 - val_loss: 0.0153 - val_prc: 0.2474 - val_precision: 0.7333 - val_recall: 0.0220 - val_tn: 421962.0000 - val_tp: 33.0000\n",
            "Epoch 33/100\n",
            "\u001b[1m828/828\u001b[0m \u001b[32m━━━━━━━━━━━━━━━━━━━━\u001b[0m\u001b[37m\u001b[0m \u001b[1m11s\u001b[0m 8ms/step - Brier score: 0.0032 - accuracy: 0.9964 - auc: 0.8743 - cross entropy: 0.0166 - fn: 2767.0266 - fp: 306.0820 - loss: 0.0166 - prc: 0.1979 - precision: 0.4567 - recall: 0.0852 - tn: 846579.6250 - tp: 260.2847 - val_Brier score: 0.0030 - val_accuracy: 0.9965 - val_auc: 0.8772 - val_cross entropy: 0.0153 - val_fn: 1464.0000 - val_fp: 11.0000 - val_loss: 0.0153 - val_prc: 0.2482 - val_precision: 0.7500 - val_recall: 0.0220 - val_tn: 421963.0000 - val_tp: 33.0000\n",
            "Epoch 34/100\n",
            "\u001b[1m828/828\u001b[0m \u001b[32m━━━━━━━━━━━━━━━━━━━━\u001b[0m\u001b[37m\u001b[0m \u001b[1m8s\u001b[0m 6ms/step - Brier score: 0.0032 - accuracy: 0.9964 - auc: 0.8728 - cross entropy: 0.0165 - fn: 2749.3523 - fp: 304.5862 - loss: 0.0165 - prc: 0.1977 - precision: 0.4696 - recall: 0.0862 - tn: 846604.6875 - tp: 254.3957 - val_Brier score: 0.0030 - val_accuracy: 0.9965 - val_auc: 0.8776 - val_cross entropy: 0.0153 - val_fn: 1460.0000 - val_fp: 19.0000 - val_loss: 0.0153 - val_prc: 0.2473 - val_precision: 0.6607 - val_recall: 0.0247 - val_tn: 421955.0000 - val_tp: 37.0000\n",
            "Epoch 35/100\n",
            "\u001b[1m828/828\u001b[0m \u001b[32m━━━━━━━━━━━━━━━━━━━━\u001b[0m\u001b[37m\u001b[0m \u001b[1m7s\u001b[0m 8ms/step - Brier score: 0.0032 - accuracy: 0.9964 - auc: 0.8651 - cross entropy: 0.0168 - fn: 2772.3740 - fp: 305.5851 - loss: 0.0168 - prc: 0.2078 - precision: 0.4834 - recall: 0.0915 - tn: 846558.0000 - tp: 277.0832 - val_Brier score: 0.0030 - val_accuracy: 0.9965 - val_auc: 0.8775 - val_cross entropy: 0.0153 - val_fn: 1468.0000 - val_fp: 13.0000 - val_loss: 0.0153 - val_prc: 0.2479 - val_precision: 0.6905 - val_recall: 0.0194 - val_tn: 421961.0000 - val_tp: 29.0000\n",
            "Epoch 36/100\n",
            "\u001b[1m828/828\u001b[0m \u001b[32m━━━━━━━━━━━━━━━━━━━━\u001b[0m\u001b[37m\u001b[0m \u001b[1m5s\u001b[0m 6ms/step - Brier score: 0.0032 - accuracy: 0.9964 - auc: 0.8759 - cross entropy: 0.0163 - fn: 2752.3367 - fp: 314.5645 - loss: 0.0163 - prc: 0.1975 - precision: 0.4304 - recall: 0.0839 - tn: 846594.2500 - tp: 251.8661 - val_Brier score: 0.0030 - val_accuracy: 0.9965 - val_auc: 0.8777 - val_cross entropy: 0.0152 - val_fn: 1441.0000 - val_fp: 35.0000 - val_loss: 0.0152 - val_prc: 0.2499 - val_precision: 0.6154 - val_recall: 0.0374 - val_tn: 421939.0000 - val_tp: 56.0000\n",
            "Epoch 37/100\n",
            "\u001b[1m828/828\u001b[0m \u001b[32m━━━━━━━━━━━━━━━━━━━━\u001b[0m\u001b[37m\u001b[0m \u001b[1m5s\u001b[0m 6ms/step - Brier score: 0.0032 - accuracy: 0.9964 - auc: 0.8679 - cross entropy: 0.0167 - fn: 2780.1279 - fp: 303.2835 - loss: 0.0167 - prc: 0.2082 - precision: 0.4654 - recall: 0.0896 - tn: 846569.1250 - tp: 260.5175 - val_Brier score: 0.0030 - val_accuracy: 0.9965 - val_auc: 0.8779 - val_cross entropy: 0.0153 - val_fn: 1469.0000 - val_fp: 7.0000 - val_loss: 0.0153 - val_prc: 0.2517 - val_precision: 0.8000 - val_recall: 0.0187 - val_tn: 421967.0000 - val_tp: 28.0000\n",
            "Epoch 38/100\n",
            "\u001b[1m828/828\u001b[0m \u001b[32m━━━━━━━━━━━━━━━━━━━━\u001b[0m\u001b[37m\u001b[0m \u001b[1m7s\u001b[0m 8ms/step - Brier score: 0.0032 - accuracy: 0.9964 - auc: 0.8716 - cross entropy: 0.0164 - fn: 2761.1702 - fp: 306.4596 - loss: 0.0164 - prc: 0.1906 - precision: 0.4303 - recall: 0.0784 - tn: 846600.7500 - tp: 244.6381 - val_Brier score: 0.0030 - val_accuracy: 0.9965 - val_auc: 0.8776 - val_cross entropy: 0.0152 - val_fn: 1458.0000 - val_fp: 14.0000 - val_loss: 0.0152 - val_prc: 0.2635 - val_precision: 0.7358 - val_recall: 0.0261 - val_tn: 421960.0000 - val_tp: 39.0000\n",
            "Epoch 39/100\n",
            "\u001b[1m828/828\u001b[0m \u001b[32m━━━━━━━━━━━━━━━━━━━━\u001b[0m\u001b[37m\u001b[0m \u001b[1m5s\u001b[0m 6ms/step - Brier score: 0.0032 - accuracy: 0.9964 - auc: 0.8697 - cross entropy: 0.0166 - fn: 2798.4102 - fp: 274.5923 - loss: 0.0166 - prc: 0.2032 - precision: 0.4686 - recall: 0.0805 - tn: 846589.5000 - tp: 250.5501 - val_Brier score: 0.0030 - val_accuracy: 0.9966 - val_auc: 0.8773 - val_cross entropy: 0.0151 - val_fn: 1449.0000 - val_fp: 9.0000 - val_loss: 0.0151 - val_prc: 0.2844 - val_precision: 0.8421 - val_recall: 0.0321 - val_tn: 421965.0000 - val_tp: 48.0000\n",
            "Epoch 40/100\n",
            "\u001b[1m828/828\u001b[0m \u001b[32m━━━━━━━━━━━━━━━━━━━━\u001b[0m\u001b[37m\u001b[0m \u001b[1m7s\u001b[0m 8ms/step - Brier score: 0.0031 - accuracy: 0.9965 - auc: 0.8776 - cross entropy: 0.0161 - fn: 2737.3896 - fp: 243.1435 - loss: 0.0161 - prc: 0.2235 - precision: 0.5357 - recall: 0.0930 - tn: 846649.9375 - tp: 282.5452 - val_Brier score: 0.0030 - val_accuracy: 0.9966 - val_auc: 0.8788 - val_cross entropy: 0.0150 - val_fn: 1442.0000 - val_fp: 3.0000 - val_loss: 0.0150 - val_prc: 0.3051 - val_precision: 0.9483 - val_recall: 0.0367 - val_tn: 421971.0000 - val_tp: 55.0000\n",
            "Epoch 41/100\n",
            "\u001b[1m828/828\u001b[0m \u001b[32m━━━━━━━━━━━━━━━━━━━━\u001b[0m\u001b[37m\u001b[0m \u001b[1m9s\u001b[0m 6ms/step - Brier score: 0.0031 - accuracy: 0.9965 - auc: 0.8757 - cross entropy: 0.0162 - fn: 2723.2039 - fp: 271.3679 - loss: 0.0162 - prc: 0.2365 - precision: 0.5433 - recall: 0.1050 - tn: 846608.3125 - tp: 310.1351 - val_Brier score: 0.0029 - val_accuracy: 0.9967 - val_auc: 0.8790 - val_cross entropy: 0.0148 - val_fn: 1400.0000 - val_fp: 4.0000 - val_loss: 0.0148 - val_prc: 0.3214 - val_precision: 0.9604 - val_recall: 0.0648 - val_tn: 421970.0000 - val_tp: 97.0000\n",
            "Epoch 42/100\n",
            "\u001b[1m828/828\u001b[0m \u001b[32m━━━━━━━━━━━━━━━━━━━━\u001b[0m\u001b[37m\u001b[0m \u001b[1m8s\u001b[0m 9ms/step - Brier score: 0.0030 - accuracy: 0.9965 - auc: 0.8760 - cross entropy: 0.0159 - fn: 2702.1350 - fp: 259.1496 - loss: 0.0159 - prc: 0.2328 - precision: 0.5154 - recall: 0.0943 - tn: 846645.0625 - tp: 306.6731 - val_Brier score: 0.0029 - val_accuracy: 0.9967 - val_auc: 0.8853 - val_cross entropy: 0.0147 - val_fn: 1379.0000 - val_fp: 4.0000 - val_loss: 0.0147 - val_prc: 0.3341 - val_precision: 0.9672 - val_recall: 0.0788 - val_tn: 421970.0000 - val_tp: 118.0000\n",
            "Epoch 43/100\n",
            "\u001b[1m828/828\u001b[0m \u001b[32m━━━━━━━━━━━━━━━━━━━━\u001b[0m\u001b[37m\u001b[0m \u001b[1m8s\u001b[0m 7ms/step - Brier score: 0.0030 - accuracy: 0.9966 - auc: 0.8760 - cross entropy: 0.0160 - fn: 2674.8674 - fp: 238.3402 - loss: 0.0160 - prc: 0.2479 - precision: 0.5783 - recall: 0.1087 - tn: 846668.4375 - tp: 331.3776 - val_Brier score: 0.0029 - val_accuracy: 0.9968 - val_auc: 0.8860 - val_cross entropy: 0.0145 - val_fn: 1351.0000 - val_fp: 3.0000 - val_loss: 0.0145 - val_prc: 0.3400 - val_precision: 0.9799 - val_recall: 0.0975 - val_tn: 421971.0000 - val_tp: 146.0000\n",
            "Epoch 44/100\n",
            "\u001b[1m828/828\u001b[0m \u001b[32m━━━━━━━━━━━━━━━━━━━━\u001b[0m\u001b[37m\u001b[0m \u001b[1m8s\u001b[0m 9ms/step - Brier score: 0.0032 - accuracy: 0.9965 - auc: 0.8766 - cross entropy: 0.0164 - fn: 2723.2739 - fp: 243.1170 - loss: 0.0164 - prc: 0.2458 - precision: 0.5768 - recall: 0.1092 - tn: 846616.6250 - tp: 330.0374 - val_Brier score: 0.0028 - val_accuracy: 0.9968 - val_auc: 0.8868 - val_cross entropy: 0.0144 - val_fn: 1330.0000 - val_fp: 6.0000 - val_loss: 0.0144 - val_prc: 0.3474 - val_precision: 0.9653 - val_recall: 0.1116 - val_tn: 421968.0000 - val_tp: 167.0000\n",
            "Epoch 45/100\n",
            "\u001b[1m828/828\u001b[0m \u001b[32m━━━━━━━━━━━━━━━━━━━━\u001b[0m\u001b[37m\u001b[0m \u001b[1m9s\u001b[0m 7ms/step - Brier score: 0.0030 - accuracy: 0.9966 - auc: 0.8767 - cross entropy: 0.0160 - fn: 2658.0796 - fp: 230.2413 - loss: 0.0160 - prc: 0.2654 - precision: 0.6166 - recall: 0.1214 - tn: 846653.8125 - tp: 370.8939 - val_Brier score: 0.0028 - val_accuracy: 0.9969 - val_auc: 0.8869 - val_cross entropy: 0.0143 - val_fn: 1314.0000 - val_fp: 13.0000 - val_loss: 0.0143 - val_prc: 0.3523 - val_precision: 0.9337 - val_recall: 0.1222 - val_tn: 421961.0000 - val_tp: 183.0000\n",
            "Epoch 46/100\n",
            "\u001b[1m828/828\u001b[0m \u001b[32m━━━━━━━━━━━━━━━━━━━━\u001b[0m\u001b[37m\u001b[0m \u001b[1m10s\u001b[0m 7ms/step - Brier score: 0.0030 - accuracy: 0.9966 - auc: 0.8769 - cross entropy: 0.0159 - fn: 2656.4910 - fp: 237.3534 - loss: 0.0159 - prc: 0.2602 - precision: 0.6070 - recall: 0.1203 - tn: 846648.3125 - tp: 370.8987 - val_Brier score: 0.0028 - val_accuracy: 0.9969 - val_auc: 0.8877 - val_cross entropy: 0.0143 - val_fn: 1319.0000 - val_fp: 6.0000 - val_loss: 0.0143 - val_prc: 0.3570 - val_precision: 0.9674 - val_recall: 0.1189 - val_tn: 421968.0000 - val_tp: 178.0000\n",
            "Epoch 47/100\n",
            "\u001b[1m828/828\u001b[0m \u001b[32m━━━━━━━━━━━━━━━━━━━━\u001b[0m\u001b[37m\u001b[0m \u001b[1m8s\u001b[0m 10ms/step - Brier score: 0.0031 - accuracy: 0.9965 - auc: 0.8805 - cross entropy: 0.0160 - fn: 2690.0024 - fp: 232.0507 - loss: 0.0160 - prc: 0.2752 - precision: 0.6229 - recall: 0.1219 - tn: 846618.3125 - tp: 372.6779 - val_Brier score: 0.0028 - val_accuracy: 0.9969 - val_auc: 0.8898 - val_cross entropy: 0.0142 - val_fn: 1311.0000 - val_fp: 7.0000 - val_loss: 0.0142 - val_prc: 0.3621 - val_precision: 0.9637 - val_recall: 0.1242 - val_tn: 421967.0000 - val_tp: 186.0000\n",
            "Epoch 48/100\n",
            "\u001b[1m828/828\u001b[0m \u001b[32m━━━━━━━━━━━━━━━━━━━━\u001b[0m\u001b[37m\u001b[0m \u001b[1m7s\u001b[0m 8ms/step - Brier score: 0.0030 - accuracy: 0.9966 - auc: 0.8815 - cross entropy: 0.0157 - fn: 2632.2075 - fp: 234.9783 - loss: 0.0157 - prc: 0.2855 - precision: 0.6393 - recall: 0.1319 - tn: 846645.6250 - tp: 400.2376 - val_Brier score: 0.0028 - val_accuracy: 0.9969 - val_auc: 0.8895 - val_cross entropy: 0.0142 - val_fn: 1306.0000 - val_fp: 9.0000 - val_loss: 0.0142 - val_prc: 0.3638 - val_precision: 0.9550 - val_recall: 0.1276 - val_tn: 421965.0000 - val_tp: 191.0000\n",
            "Epoch 49/100\n",
            "\u001b[1m828/828\u001b[0m \u001b[32m━━━━━━━━━━━━━━━━━━━━\u001b[0m\u001b[37m\u001b[0m \u001b[1m12s\u001b[0m 10ms/step - Brier score: 0.0030 - accuracy: 0.9967 - auc: 0.8816 - cross entropy: 0.0155 - fn: 2615.8059 - fp: 226.9807 - loss: 0.0155 - prc: 0.2763 - precision: 0.6288 - recall: 0.1273 - tn: 846683.2500 - tp: 387.0338 - val_Brier score: 0.0027 - val_accuracy: 0.9969 - val_auc: 0.8905 - val_cross entropy: 0.0140 - val_fn: 1295.0000 - val_fp: 18.0000 - val_loss: 0.0140 - val_prc: 0.3669 - val_precision: 0.9182 - val_recall: 0.1349 - val_tn: 421956.0000 - val_tp: 202.0000\n",
            "Epoch 50/100\n",
            "\u001b[1m828/828\u001b[0m \u001b[32m━━━━━━━━━━━━━━━━━━━━\u001b[0m\u001b[37m\u001b[0m \u001b[1m10s\u001b[0m 12ms/step - Brier score: 0.0029 - accuracy: 0.9967 - auc: 0.8802 - cross entropy: 0.0155 - fn: 2561.4319 - fp: 217.9819 - loss: 0.0155 - prc: 0.2866 - precision: 0.6448 - recall: 0.1410 - tn: 846709.5000 - tp: 424.1303 - val_Brier score: 0.0027 - val_accuracy: 0.9969 - val_auc: 0.8909 - val_cross entropy: 0.0140 - val_fn: 1297.0000 - val_fp: 6.0000 - val_loss: 0.0140 - val_prc: 0.3727 - val_precision: 0.9709 - val_recall: 0.1336 - val_tn: 421968.0000 - val_tp: 200.0000\n",
            "Epoch 51/100\n",
            "\u001b[1m828/828\u001b[0m \u001b[32m━━━━━━━━━━━━━━━━━━━━\u001b[0m\u001b[37m\u001b[0m \u001b[1m8s\u001b[0m 9ms/step - Brier score: 0.0029 - accuracy: 0.9967 - auc: 0.8793 - cross entropy: 0.0156 - fn: 2588.1990 - fp: 243.4692 - loss: 0.0156 - prc: 0.2802 - precision: 0.6266 - recall: 0.1370 - tn: 846677.5625 - tp: 403.8082 - val_Brier score: 0.0027 - val_accuracy: 0.9969 - val_auc: 0.8909 - val_cross entropy: 0.0140 - val_fn: 1296.0000 - val_fp: 9.0000 - val_loss: 0.0140 - val_prc: 0.3750 - val_precision: 0.9571 - val_recall: 0.1343 - val_tn: 421965.0000 - val_tp: 201.0000\n",
            "Epoch 52/100\n",
            "\u001b[1m828/828\u001b[0m \u001b[32m━━━━━━━━━━━━━━━━━━━━\u001b[0m\u001b[37m\u001b[0m \u001b[1m11s\u001b[0m 9ms/step - Brier score: 0.0029 - accuracy: 0.9967 - auc: 0.8777 - cross entropy: 0.0156 - fn: 2589.3811 - fp: 224.2123 - loss: 0.0156 - prc: 0.2792 - precision: 0.6458 - recall: 0.1334 - tn: 846686.5000 - tp: 412.9686 - val_Brier score: 0.0027 - val_accuracy: 0.9969 - val_auc: 0.8911 - val_cross entropy: 0.0140 - val_fn: 1294.0000 - val_fp: 7.0000 - val_loss: 0.0140 - val_prc: 0.3754 - val_precision: 0.9667 - val_recall: 0.1356 - val_tn: 421967.0000 - val_tp: 203.0000\n",
            "Epoch 53/100\n",
            "\u001b[1m828/828\u001b[0m \u001b[32m━━━━━━━━━━━━━━━━━━━━\u001b[0m\u001b[37m\u001b[0m \u001b[1m6s\u001b[0m 7ms/step - Brier score: 0.0029 - accuracy: 0.9967 - auc: 0.8783 - cross entropy: 0.0156 - fn: 2600.7141 - fp: 247.1689 - loss: 0.0156 - prc: 0.2825 - precision: 0.6146 - recall: 0.1344 - tn: 846653.1250 - tp: 412.0314 - val_Brier score: 0.0027 - val_accuracy: 0.9969 - val_auc: 0.8912 - val_cross entropy: 0.0139 - val_fn: 1287.0000 - val_fp: 7.0000 - val_loss: 0.0139 - val_prc: 0.3804 - val_precision: 0.9677 - val_recall: 0.1403 - val_tn: 421967.0000 - val_tp: 210.0000\n",
            "Epoch 54/100\n",
            "\u001b[1m828/828\u001b[0m \u001b[32m━━━━━━━━━━━━━━━━━━━━\u001b[0m\u001b[37m\u001b[0m \u001b[1m8s\u001b[0m 9ms/step - Brier score: 0.0030 - accuracy: 0.9967 - auc: 0.8768 - cross entropy: 0.0157 - fn: 2623.4258 - fp: 237.4451 - loss: 0.0157 - prc: 0.2816 - precision: 0.6400 - recall: 0.1390 - tn: 846628.4375 - tp: 423.7588 - val_Brier score: 0.0027 - val_accuracy: 0.9969 - val_auc: 0.8916 - val_cross entropy: 0.0140 - val_fn: 1287.0000 - val_fp: 6.0000 - val_loss: 0.0140 - val_prc: 0.3843 - val_precision: 0.9722 - val_recall: 0.1403 - val_tn: 421968.0000 - val_tp: 210.0000\n",
            "Epoch 55/100\n",
            "\u001b[1m828/828\u001b[0m \u001b[32m━━━━━━━━━━━━━━━━━━━━\u001b[0m\u001b[37m\u001b[0m \u001b[1m5s\u001b[0m 6ms/step - Brier score: 0.0030 - accuracy: 0.9966 - auc: 0.8795 - cross entropy: 0.0158 - fn: 2619.8047 - fp: 216.2702 - loss: 0.0158 - prc: 0.2821 - precision: 0.6462 - recall: 0.1325 - tn: 846672.9375 - tp: 404.0024 - val_Brier score: 0.0027 - val_accuracy: 0.9969 - val_auc: 0.8916 - val_cross entropy: 0.0139 - val_fn: 1284.0000 - val_fp: 8.0000 - val_loss: 0.0139 - val_prc: 0.3841 - val_precision: 0.9638 - val_recall: 0.1423 - val_tn: 421966.0000 - val_tp: 213.0000\n",
            "Epoch 56/100\n",
            "\u001b[1m828/828\u001b[0m \u001b[32m━━━━━━━━━━━━━━━━━━━━\u001b[0m\u001b[37m\u001b[0m \u001b[1m12s\u001b[0m 8ms/step - Brier score: 0.0029 - accuracy: 0.9967 - auc: 0.8842 - cross entropy: 0.0154 - fn: 2606.4258 - fp: 237.4234 - loss: 0.0154 - prc: 0.2923 - precision: 0.6413 - recall: 0.1436 - tn: 846639.6875 - tp: 429.4777 - val_Brier score: 0.0027 - val_accuracy: 0.9970 - val_auc: 0.8923 - val_cross entropy: 0.0139 - val_fn: 1281.0000 - val_fp: 8.0000 - val_loss: 0.0139 - val_prc: 0.3886 - val_precision: 0.9643 - val_recall: 0.1443 - val_tn: 421966.0000 - val_tp: 216.0000\n",
            "Epoch 57/100\n",
            "\u001b[1m828/828\u001b[0m \u001b[32m━━━━━━━━━━━━━━━━━━━━\u001b[0m\u001b[37m\u001b[0m \u001b[1m10s\u001b[0m 9ms/step - Brier score: 0.0029 - accuracy: 0.9967 - auc: 0.8784 - cross entropy: 0.0155 - fn: 2558.4016 - fp: 238.7419 - loss: 0.0155 - prc: 0.2934 - precision: 0.6524 - recall: 0.1497 - tn: 846667.3750 - tp: 448.5464 - val_Brier score: 0.0027 - val_accuracy: 0.9970 - val_auc: 0.8922 - val_cross entropy: 0.0138 - val_fn: 1266.0000 - val_fp: 12.0000 - val_loss: 0.0138 - val_prc: 0.3902 - val_precision: 0.9506 - val_recall: 0.1543 - val_tn: 421962.0000 - val_tp: 231.0000\n",
            "Epoch 58/100\n",
            "\u001b[1m828/828\u001b[0m \u001b[32m━━━━━━━━━━━━━━━━━━━━\u001b[0m\u001b[37m\u001b[0m \u001b[1m5s\u001b[0m 6ms/step - Brier score: 0.0029 - accuracy: 0.9967 - auc: 0.8753 - cross entropy: 0.0156 - fn: 2617.9819 - fp: 235.5718 - loss: 0.0156 - prc: 0.2942 - precision: 0.6518 - recall: 0.1423 - tn: 846646.2500 - tp: 413.2545 - val_Brier score: 0.0027 - val_accuracy: 0.9970 - val_auc: 0.8925 - val_cross entropy: 0.0138 - val_fn: 1266.0000 - val_fp: 7.0000 - val_loss: 0.0138 - val_prc: 0.3912 - val_precision: 0.9706 - val_recall: 0.1543 - val_tn: 421967.0000 - val_tp: 231.0000\n",
            "Epoch 59/100\n",
            "\u001b[1m828/828\u001b[0m \u001b[32m━━━━━━━━━━━━━━━━━━━━\u001b[0m\u001b[37m\u001b[0m \u001b[1m6s\u001b[0m 7ms/step - Brier score: 0.0029 - accuracy: 0.9967 - auc: 0.8791 - cross entropy: 0.0155 - fn: 2587.6587 - fp: 237.7081 - loss: 0.0155 - prc: 0.2971 - precision: 0.6541 - recall: 0.1489 - tn: 846641.5625 - tp: 446.0953 - val_Brier score: 0.0027 - val_accuracy: 0.9970 - val_auc: 0.8916 - val_cross entropy: 0.0137 - val_fn: 1243.0000 - val_fp: 16.0000 - val_loss: 0.0137 - val_prc: 0.3884 - val_precision: 0.9407 - val_recall: 0.1697 - val_tn: 421958.0000 - val_tp: 254.0000\n",
            "Epoch 60/100\n",
            "\u001b[1m828/828\u001b[0m \u001b[32m━━━━━━━━━━━━━━━━━━━━\u001b[0m\u001b[37m\u001b[0m \u001b[1m10s\u001b[0m 7ms/step - Brier score: 0.0030 - accuracy: 0.9967 - auc: 0.8826 - cross entropy: 0.0155 - fn: 2567.6465 - fp: 254.6671 - loss: 0.0155 - prc: 0.2980 - precision: 0.6387 - recall: 0.1533 - tn: 846627.4375 - tp: 463.2714 - val_Brier score: 0.0027 - val_accuracy: 0.9970 - val_auc: 0.8918 - val_cross entropy: 0.0138 - val_fn: 1260.0000 - val_fp: 6.0000 - val_loss: 0.0138 - val_prc: 0.3924 - val_precision: 0.9753 - val_recall: 0.1583 - val_tn: 421968.0000 - val_tp: 237.0000\n",
            "Epoch 61/100\n",
            "\u001b[1m828/828\u001b[0m \u001b[32m━━━━━━━━━━━━━━━━━━━━\u001b[0m\u001b[37m\u001b[0m \u001b[1m10s\u001b[0m 6ms/step - Brier score: 0.0030 - accuracy: 0.9967 - auc: 0.8764 - cross entropy: 0.0158 - fn: 2591.5562 - fp: 213.4487 - loss: 0.0158 - prc: 0.3003 - precision: 0.6891 - recall: 0.1484 - tn: 846667.0000 - tp: 441.0109 - val_Brier score: 0.0026 - val_accuracy: 0.9970 - val_auc: 0.8920 - val_cross entropy: 0.0137 - val_fn: 1248.0000 - val_fp: 10.0000 - val_loss: 0.0137 - val_prc: 0.3930 - val_precision: 0.9614 - val_recall: 0.1663 - val_tn: 421964.0000 - val_tp: 249.0000\n",
            "Epoch 62/100\n",
            "\u001b[1m828/828\u001b[0m \u001b[32m━━━━━━━━━━━━━━━━━━━━\u001b[0m\u001b[37m\u001b[0m \u001b[1m6s\u001b[0m 7ms/step - Brier score: 0.0030 - accuracy: 0.9967 - auc: 0.8801 - cross entropy: 0.0156 - fn: 2591.9119 - fp: 233.9964 - loss: 0.0156 - prc: 0.3007 - precision: 0.6573 - recall: 0.1518 - tn: 846644.1875 - tp: 442.9433 - val_Brier score: 0.0027 - val_accuracy: 0.9970 - val_auc: 0.8921 - val_cross entropy: 0.0138 - val_fn: 1251.0000 - val_fp: 7.0000 - val_loss: 0.0138 - val_prc: 0.3952 - val_precision: 0.9723 - val_recall: 0.1643 - val_tn: 421967.0000 - val_tp: 246.0000\n",
            "Epoch 63/100\n",
            "\u001b[1m828/828\u001b[0m \u001b[32m━━━━━━━━━━━━━━━━━━━━\u001b[0m\u001b[37m\u001b[0m \u001b[1m8s\u001b[0m 9ms/step - Brier score: 0.0029 - accuracy: 0.9967 - auc: 0.8779 - cross entropy: 0.0155 - fn: 2573.2617 - fp: 215.3160 - loss: 0.0155 - prc: 0.2920 - precision: 0.6715 - recall: 0.1437 - tn: 846688.8125 - tp: 435.6333 - val_Brier score: 0.0027 - val_accuracy: 0.9970 - val_auc: 0.8926 - val_cross entropy: 0.0137 - val_fn: 1255.0000 - val_fp: 5.0000 - val_loss: 0.0137 - val_prc: 0.3955 - val_precision: 0.9798 - val_recall: 0.1617 - val_tn: 421969.0000 - val_tp: 242.0000\n",
            "Epoch 64/100\n",
            "\u001b[1m828/828\u001b[0m \u001b[32m━━━━━━━━━━━━━━━━━━━━\u001b[0m\u001b[37m\u001b[0m \u001b[1m5s\u001b[0m 6ms/step - Brier score: 0.0030 - accuracy: 0.9967 - auc: 0.8786 - cross entropy: 0.0157 - fn: 2603.2822 - fp: 244.8372 - loss: 0.0157 - prc: 0.2999 - precision: 0.6494 - recall: 0.1481 - tn: 846614.5625 - tp: 450.3715 - val_Brier score: 0.0027 - val_accuracy: 0.9970 - val_auc: 0.8934 - val_cross entropy: 0.0137 - val_fn: 1251.0000 - val_fp: 10.0000 - val_loss: 0.0137 - val_prc: 0.3950 - val_precision: 0.9609 - val_recall: 0.1643 - val_tn: 421964.0000 - val_tp: 246.0000\n",
            "Epoch 65/100\n",
            "\u001b[1m828/828\u001b[0m \u001b[32m━━━━━━━━━━━━━━━━━━━━\u001b[0m\u001b[37m\u001b[0m \u001b[1m8s\u001b[0m 9ms/step - Brier score: 0.0031 - accuracy: 0.9966 - auc: 0.8714 - cross entropy: 0.0163 - fn: 2645.3921 - fp: 236.0302 - loss: 0.0163 - prc: 0.2853 - precision: 0.6372 - recall: 0.1382 - tn: 846600.9375 - tp: 430.7057 - val_Brier score: 0.0027 - val_accuracy: 0.9970 - val_auc: 0.8916 - val_cross entropy: 0.0137 - val_fn: 1252.0000 - val_fp: 7.0000 - val_loss: 0.0137 - val_prc: 0.3992 - val_precision: 0.9722 - val_recall: 0.1637 - val_tn: 421967.0000 - val_tp: 245.0000\n",
            "Epoch 66/100\n",
            "\u001b[1m828/828\u001b[0m \u001b[32m━━━━━━━━━━━━━━━━━━━━\u001b[0m\u001b[37m\u001b[0m \u001b[1m8s\u001b[0m 6ms/step - Brier score: 0.0029 - accuracy: 0.9967 - auc: 0.8759 - cross entropy: 0.0156 - fn: 2567.9492 - fp: 228.7443 - loss: 0.0156 - prc: 0.2881 - precision: 0.6496 - recall: 0.1386 - tn: 846687.5625 - tp: 428.8106 - val_Brier score: 0.0026 - val_accuracy: 0.9970 - val_auc: 0.8929 - val_cross entropy: 0.0136 - val_fn: 1251.0000 - val_fp: 7.0000 - val_loss: 0.0136 - val_prc: 0.4027 - val_precision: 0.9723 - val_recall: 0.1643 - val_tn: 421967.0000 - val_tp: 246.0000\n",
            "Epoch 67/100\n",
            "\u001b[1m828/828\u001b[0m \u001b[32m━━━━━━━━━━━━━━━━━━━━\u001b[0m\u001b[37m\u001b[0m \u001b[1m10s\u001b[0m 6ms/step - Brier score: 0.0029 - accuracy: 0.9967 - auc: 0.8832 - cross entropy: 0.0153 - fn: 2548.4270 - fp: 218.9602 - loss: 0.0153 - prc: 0.2962 - precision: 0.6657 - recall: 0.1453 - tn: 846713.5625 - tp: 432.0917 - val_Brier score: 0.0026 - val_accuracy: 0.9970 - val_auc: 0.8922 - val_cross entropy: 0.0136 - val_fn: 1247.0000 - val_fp: 12.0000 - val_loss: 0.0136 - val_prc: 0.3996 - val_precision: 0.9542 - val_recall: 0.1670 - val_tn: 421962.0000 - val_tp: 250.0000\n",
            "Epoch 68/100\n",
            "\u001b[1m828/828\u001b[0m \u001b[32m━━━━━━━━━━━━━━━━━━━━\u001b[0m\u001b[37m\u001b[0m \u001b[1m11s\u001b[0m 7ms/step - Brier score: 0.0030 - accuracy: 0.9967 - auc: 0.8748 - cross entropy: 0.0159 - fn: 2592.8457 - fp: 233.7648 - loss: 0.0159 - prc: 0.2856 - precision: 0.6401 - recall: 0.1380 - tn: 846667.1875 - tp: 419.2159 - val_Brier score: 0.0026 - val_accuracy: 0.9970 - val_auc: 0.8934 - val_cross entropy: 0.0136 - val_fn: 1244.0000 - val_fp: 12.0000 - val_loss: 0.0136 - val_prc: 0.4000 - val_precision: 0.9547 - val_recall: 0.1690 - val_tn: 421962.0000 - val_tp: 253.0000\n",
            "Epoch 69/100\n",
            "\u001b[1m828/828\u001b[0m \u001b[32m━━━━━━━━━━━━━━━━━━━━\u001b[0m\u001b[37m\u001b[0m \u001b[1m11s\u001b[0m 9ms/step - Brier score: 0.0030 - accuracy: 0.9966 - auc: 0.8818 - cross entropy: 0.0157 - fn: 2629.5984 - fp: 249.6647 - loss: 0.0157 - prc: 0.2899 - precision: 0.6212 - recall: 0.1402 - tn: 846609.5000 - tp: 424.2750 - val_Brier score: 0.0027 - val_accuracy: 0.9970 - val_auc: 0.8920 - val_cross entropy: 0.0137 - val_fn: 1241.0000 - val_fp: 9.0000 - val_loss: 0.0137 - val_prc: 0.4003 - val_precision: 0.9660 - val_recall: 0.1710 - val_tn: 421965.0000 - val_tp: 256.0000\n",
            "Epoch 70/100\n",
            "\u001b[1m828/828\u001b[0m \u001b[32m━━━━━━━━━━━━━━━━━━━━\u001b[0m\u001b[37m\u001b[0m \u001b[1m8s\u001b[0m 6ms/step - Brier score: 0.0029 - accuracy: 0.9967 - auc: 0.8811 - cross entropy: 0.0152 - fn: 2546.7068 - fp: 227.6671 - loss: 0.0152 - prc: 0.3107 - precision: 0.6644 - recall: 0.1579 - tn: 846684.1875 - tp: 454.4500 - val_Brier score: 0.0026 - val_accuracy: 0.9970 - val_auc: 0.8931 - val_cross entropy: 0.0136 - val_fn: 1249.0000 - val_fp: 9.0000 - val_loss: 0.0136 - val_prc: 0.4024 - val_precision: 0.9650 - val_recall: 0.1657 - val_tn: 421965.0000 - val_tp: 248.0000\n",
            "Epoch 71/100\n",
            "\u001b[1m828/828\u001b[0m \u001b[32m━━━━━━━━━━━━━━━━━━━━\u001b[0m\u001b[37m\u001b[0m \u001b[1m7s\u001b[0m 9ms/step - Brier score: 0.0030 - accuracy: 0.9967 - auc: 0.8782 - cross entropy: 0.0157 - fn: 2589.9844 - fp: 221.7274 - loss: 0.0157 - prc: 0.3010 - precision: 0.6768 - recall: 0.1529 - tn: 846642.3125 - tp: 458.9879 - val_Brier score: 0.0026 - val_accuracy: 0.9970 - val_auc: 0.8937 - val_cross entropy: 0.0136 - val_fn: 1248.0000 - val_fp: 7.0000 - val_loss: 0.0136 - val_prc: 0.4030 - val_precision: 0.9727 - val_recall: 0.1663 - val_tn: 421967.0000 - val_tp: 249.0000\n",
            "Epoch 72/100\n",
            "\u001b[1m828/828\u001b[0m \u001b[32m━━━━━━━━━━━━━━━━━━━━\u001b[0m\u001b[37m\u001b[0m \u001b[1m5s\u001b[0m 6ms/step - Brier score: 0.0029 - accuracy: 0.9968 - auc: 0.8751 - cross entropy: 0.0156 - fn: 2536.7625 - fp: 195.2075 - loss: 0.0156 - prc: 0.2871 - precision: 0.6904 - recall: 0.1461 - tn: 846742.5625 - tp: 438.5356 - val_Brier score: 0.0026 - val_accuracy: 0.9970 - val_auc: 0.8930 - val_cross entropy: 0.0136 - val_fn: 1248.0000 - val_fp: 10.0000 - val_loss: 0.0136 - val_prc: 0.4030 - val_precision: 0.9614 - val_recall: 0.1663 - val_tn: 421964.0000 - val_tp: 249.0000\n",
            "Epoch 73/100\n",
            "\u001b[1m828/828\u001b[0m \u001b[32m━━━━━━━━━━━━━━━━━━━━\u001b[0m\u001b[37m\u001b[0m \u001b[1m6s\u001b[0m 7ms/step - Brier score: 0.0030 - accuracy: 0.9966 - auc: 0.8819 - cross entropy: 0.0157 - fn: 2611.8962 - fp: 239.6128 - loss: 0.0157 - prc: 0.2947 - precision: 0.6443 - recall: 0.1412 - tn: 846638.4375 - tp: 423.1122 - val_Brier score: 0.0026 - val_accuracy: 0.9971 - val_auc: 0.8927 - val_cross entropy: 0.0136 - val_fn: 1245.0000 - val_fp: 4.0000 - val_loss: 0.0136 - val_prc: 0.4044 - val_precision: 0.9844 - val_recall: 0.1683 - val_tn: 421970.0000 - val_tp: 252.0000\n",
            "Epoch 74/100\n",
            "\u001b[1m828/828\u001b[0m \u001b[32m━━━━━━━━━━━━━━━━━━━━\u001b[0m\u001b[37m\u001b[0m \u001b[1m10s\u001b[0m 6ms/step - Brier score: 0.0029 - accuracy: 0.9967 - auc: 0.8815 - cross entropy: 0.0155 - fn: 2565.4451 - fp: 237.8540 - loss: 0.0155 - prc: 0.2892 - precision: 0.6444 - recall: 0.1462 - tn: 846660.5000 - tp: 449.2485 - val_Brier score: 0.0026 - val_accuracy: 0.9970 - val_auc: 0.8937 - val_cross entropy: 0.0136 - val_fn: 1245.0000 - val_fp: 8.0000 - val_loss: 0.0136 - val_prc: 0.4050 - val_precision: 0.9692 - val_recall: 0.1683 - val_tn: 421966.0000 - val_tp: 252.0000\n",
            "Epoch 75/100\n",
            "\u001b[1m828/828\u001b[0m \u001b[32m━━━━━━━━━━━━━━━━━━━━\u001b[0m\u001b[37m\u001b[0m \u001b[1m7s\u001b[0m 9ms/step - Brier score: 0.0029 - accuracy: 0.9967 - auc: 0.8779 - cross entropy: 0.0156 - fn: 2577.7478 - fp: 227.8239 - loss: 0.0156 - prc: 0.2831 - precision: 0.6430 - recall: 0.1403 - tn: 846667.4375 - tp: 440.0519 - val_Brier score: 0.0026 - val_accuracy: 0.9971 - val_auc: 0.8942 - val_cross entropy: 0.0136 - val_fn: 1240.0000 - val_fp: 6.0000 - val_loss: 0.0136 - val_prc: 0.4069 - val_precision: 0.9772 - val_recall: 0.1717 - val_tn: 421968.0000 - val_tp: 257.0000\n",
            "Epoch 76/100\n",
            "\u001b[1m828/828\u001b[0m \u001b[32m━━━━━━━━━━━━━━━━━━━━\u001b[0m\u001b[37m\u001b[0m \u001b[1m8s\u001b[0m 6ms/step - Brier score: 0.0030 - accuracy: 0.9967 - auc: 0.8833 - cross entropy: 0.0157 - fn: 2597.9397 - fp: 224.0084 - loss: 0.0157 - prc: 0.2915 - precision: 0.6664 - recall: 0.1401 - tn: 846654.2500 - tp: 436.8203 - val_Brier score: 0.0026 - val_accuracy: 0.9971 - val_auc: 0.8934 - val_cross entropy: 0.0136 - val_fn: 1236.0000 - val_fp: 6.0000 - val_loss: 0.0136 - val_prc: 0.4061 - val_precision: 0.9775 - val_recall: 0.1743 - val_tn: 421968.0000 - val_tp: 261.0000\n",
            "Epoch 77/100\n",
            "\u001b[1m828/828\u001b[0m \u001b[32m━━━━━━━━━━━━━━━━━━━━\u001b[0m\u001b[37m\u001b[0m \u001b[1m7s\u001b[0m 9ms/step - Brier score: 0.0030 - accuracy: 0.9967 - auc: 0.8728 - cross entropy: 0.0159 - fn: 2586.1567 - fp: 226.0989 - loss: 0.0159 - prc: 0.2962 - precision: 0.6730 - recall: 0.1493 - tn: 846644.3125 - tp: 456.4994 - val_Brier score: 0.0026 - val_accuracy: 0.9971 - val_auc: 0.8936 - val_cross entropy: 0.0135 - val_fn: 1228.0000 - val_fp: 8.0000 - val_loss: 0.0135 - val_prc: 0.4065 - val_precision: 0.9711 - val_recall: 0.1797 - val_tn: 421966.0000 - val_tp: 269.0000\n",
            "Epoch 78/100\n",
            "\u001b[1m828/828\u001b[0m \u001b[32m━━━━━━━━━━━━━━━━━━━━\u001b[0m\u001b[37m\u001b[0m \u001b[1m8s\u001b[0m 6ms/step - Brier score: 0.0029 - accuracy: 0.9967 - auc: 0.8814 - cross entropy: 0.0155 - fn: 2570.8264 - fp: 229.2521 - loss: 0.0155 - prc: 0.2928 - precision: 0.6491 - recall: 0.1465 - tn: 846671.5000 - tp: 441.4729 - val_Brier score: 0.0026 - val_accuracy: 0.9971 - val_auc: 0.8933 - val_cross entropy: 0.0136 - val_fn: 1239.0000 - val_fp: 4.0000 - val_loss: 0.0136 - val_prc: 0.4050 - val_precision: 0.9847 - val_recall: 0.1723 - val_tn: 421970.0000 - val_tp: 258.0000\n",
            "Epoch 79/100\n",
            "\u001b[1m828/828\u001b[0m \u001b[32m━━━━━━━━━━━━━━━━━━━━\u001b[0m\u001b[37m\u001b[0m \u001b[1m8s\u001b[0m 9ms/step - Brier score: 0.0030 - accuracy: 0.9967 - auc: 0.8821 - cross entropy: 0.0156 - fn: 2591.2136 - fp: 224.0060 - loss: 0.0156 - prc: 0.3038 - precision: 0.6767 - recall: 0.1523 - tn: 846636.2500 - tp: 461.5826 - val_Brier score: 0.0026 - val_accuracy: 0.9971 - val_auc: 0.8933 - val_cross entropy: 0.0136 - val_fn: 1231.0000 - val_fp: 6.0000 - val_loss: 0.0136 - val_prc: 0.4075 - val_precision: 0.9779 - val_recall: 0.1777 - val_tn: 421968.0000 - val_tp: 266.0000\n",
            "Epoch 80/100\n",
            "\u001b[1m828/828\u001b[0m \u001b[32m━━━━━━━━━━━━━━━━━━━━\u001b[0m\u001b[37m\u001b[0m \u001b[1m8s\u001b[0m 6ms/step - Brier score: 0.0030 - accuracy: 0.9967 - auc: 0.8808 - cross entropy: 0.0156 - fn: 2574.4500 - fp: 229.5874 - loss: 0.0156 - prc: 0.2952 - precision: 0.6582 - recall: 0.1452 - tn: 846657.7500 - tp: 451.2714 - val_Brier score: 0.0026 - val_accuracy: 0.9971 - val_auc: 0.8941 - val_cross entropy: 0.0136 - val_fn: 1232.0000 - val_fp: 4.0000 - val_loss: 0.0136 - val_prc: 0.4087 - val_precision: 0.9851 - val_recall: 0.1770 - val_tn: 421970.0000 - val_tp: 265.0000\n",
            "Epoch 81/100\n",
            "\u001b[1m828/828\u001b[0m \u001b[32m━━━━━━━━━━━━━━━━━━━━\u001b[0m\u001b[37m\u001b[0m \u001b[1m10s\u001b[0m 6ms/step - Brier score: 0.0030 - accuracy: 0.9967 - auc: 0.8836 - cross entropy: 0.0155 - fn: 2574.6333 - fp: 234.8987 - loss: 0.0155 - prc: 0.3058 - precision: 0.6668 - recall: 0.1545 - tn: 846637.3125 - tp: 466.1773 - val_Brier score: 0.0026 - val_accuracy: 0.9971 - val_auc: 0.8944 - val_cross entropy: 0.0136 - val_fn: 1234.0000 - val_fp: 4.0000 - val_loss: 0.0136 - val_prc: 0.4100 - val_precision: 0.9850 - val_recall: 0.1757 - val_tn: 421970.0000 - val_tp: 263.0000\n",
            "Epoch 82/100\n",
            "\u001b[1m828/828\u001b[0m \u001b[32m━━━━━━━━━━━━━━━━━━━━\u001b[0m\u001b[37m\u001b[0m \u001b[1m11s\u001b[0m 8ms/step - Brier score: 0.0029 - accuracy: 0.9967 - auc: 0.8802 - cross entropy: 0.0156 - fn: 2595.9988 - fp: 232.1713 - loss: 0.0156 - prc: 0.2975 - precision: 0.6547 - recall: 0.1424 - tn: 846651.5000 - tp: 433.3595 - val_Brier score: 0.0026 - val_accuracy: 0.9971 - val_auc: 0.8935 - val_cross entropy: 0.0135 - val_fn: 1230.0000 - val_fp: 6.0000 - val_loss: 0.0135 - val_prc: 0.4093 - val_precision: 0.9780 - val_recall: 0.1784 - val_tn: 421968.0000 - val_tp: 267.0000\n",
            "Epoch 83/100\n",
            "\u001b[1m828/828\u001b[0m \u001b[32m━━━━━━━━━━━━━━━━━━━━\u001b[0m\u001b[37m\u001b[0m \u001b[1m11s\u001b[0m 8ms/step - Brier score: 0.0029 - accuracy: 0.9967 - auc: 0.8791 - cross entropy: 0.0155 - fn: 2567.2979 - fp: 240.2533 - loss: 0.0155 - prc: 0.2893 - precision: 0.6386 - recall: 0.1471 - tn: 846666.9375 - tp: 438.5681 - val_Brier score: 0.0026 - val_accuracy: 0.9971 - val_auc: 0.8926 - val_cross entropy: 0.0136 - val_fn: 1229.0000 - val_fp: 4.0000 - val_loss: 0.0136 - val_prc: 0.4086 - val_precision: 0.9853 - val_recall: 0.1790 - val_tn: 421970.0000 - val_tp: 268.0000\n",
            "Epoch 84/100\n",
            "\u001b[1m828/828\u001b[0m \u001b[32m━━━━━━━━━━━━━━━━━━━━\u001b[0m\u001b[37m\u001b[0m \u001b[1m5s\u001b[0m 6ms/step - Brier score: 0.0030 - accuracy: 0.9966 - auc: 0.8825 - cross entropy: 0.0158 - fn: 2592.3208 - fp: 233.0748 - loss: 0.0158 - prc: 0.2952 - precision: 0.6633 - recall: 0.1486 - tn: 846627.3750 - tp: 460.2473 - val_Brier score: 0.0026 - val_accuracy: 0.9971 - val_auc: 0.8939 - val_cross entropy: 0.0135 - val_fn: 1231.0000 - val_fp: 5.0000 - val_loss: 0.0135 - val_prc: 0.4087 - val_precision: 0.9815 - val_recall: 0.1777 - val_tn: 421969.0000 - val_tp: 266.0000\n",
            "Epoch 85/100\n",
            "\u001b[1m828/828\u001b[0m \u001b[32m━━━━━━━━━━━━━━━━━━━━\u001b[0m\u001b[37m\u001b[0m \u001b[1m5s\u001b[0m 6ms/step - Brier score: 0.0029 - accuracy: 0.9967 - auc: 0.8790 - cross entropy: 0.0155 - fn: 2572.3765 - fp: 240.8577 - loss: 0.0155 - prc: 0.3008 - precision: 0.6494 - recall: 0.1500 - tn: 846647.8750 - tp: 451.9023 - val_Brier score: 0.0026 - val_accuracy: 0.9971 - val_auc: 0.8924 - val_cross entropy: 0.0136 - val_fn: 1235.0000 - val_fp: 5.0000 - val_loss: 0.0136 - val_prc: 0.4058 - val_precision: 0.9813 - val_recall: 0.1750 - val_tn: 421969.0000 - val_tp: 262.0000\n",
            "Epoch 86/100\n",
            "\u001b[1m828/828\u001b[0m \u001b[32m━━━━━━━━━━━━━━━━━━━━\u001b[0m\u001b[37m\u001b[0m \u001b[1m7s\u001b[0m 9ms/step - Brier score: 0.0030 - accuracy: 0.9967 - auc: 0.8778 - cross entropy: 0.0159 - fn: 2578.9504 - fp: 231.3040 - loss: 0.0159 - prc: 0.2955 - precision: 0.6671 - recall: 0.1511 - tn: 846625.8750 - tp: 476.9144 - val_Brier score: 0.0026 - val_accuracy: 0.9971 - val_auc: 0.8930 - val_cross entropy: 0.0135 - val_fn: 1223.0000 - val_fp: 9.0000 - val_loss: 0.0135 - val_prc: 0.4100 - val_precision: 0.9682 - val_recall: 0.1830 - val_tn: 421965.0000 - val_tp: 274.0000\n",
            "Epoch 87/100\n",
            "\u001b[1m828/828\u001b[0m \u001b[32m━━━━━━━━━━━━━━━━━━━━\u001b[0m\u001b[37m\u001b[0m \u001b[1m9s\u001b[0m 7ms/step - Brier score: 0.0029 - accuracy: 0.9967 - auc: 0.8810 - cross entropy: 0.0154 - fn: 2566.0701 - fp: 235.2473 - loss: 0.0154 - prc: 0.3171 - precision: 0.6766 - recall: 0.1616 - tn: 846635.8125 - tp: 475.8914 - val_Brier score: 0.0026 - val_accuracy: 0.9971 - val_auc: 0.8929 - val_cross entropy: 0.0135 - val_fn: 1228.0000 - val_fp: 6.0000 - val_loss: 0.0135 - val_prc: 0.4121 - val_precision: 0.9782 - val_recall: 0.1797 - val_tn: 421968.0000 - val_tp: 269.0000\n",
            "Epoch 88/100\n",
            "\u001b[1m828/828\u001b[0m \u001b[32m━━━━━━━━━━━━━━━━━━━━\u001b[0m\u001b[37m\u001b[0m \u001b[1m10s\u001b[0m 7ms/step - Brier score: 0.0030 - accuracy: 0.9967 - auc: 0.8865 - cross entropy: 0.0156 - fn: 2594.9868 - fp: 229.0893 - loss: 0.0156 - prc: 0.3003 - precision: 0.6669 - recall: 0.1500 - tn: 846630.6875 - tp: 458.2509 - val_Brier score: 0.0026 - val_accuracy: 0.9971 - val_auc: 0.8920 - val_cross entropy: 0.0135 - val_fn: 1230.0000 - val_fp: 4.0000 - val_loss: 0.0135 - val_prc: 0.4115 - val_precision: 0.9852 - val_recall: 0.1784 - val_tn: 421970.0000 - val_tp: 267.0000\n",
            "Epoch 89/100\n",
            "\u001b[1m828/828\u001b[0m \u001b[32m━━━━━━━━━━━━━━━━━━━━\u001b[0m\u001b[37m\u001b[0m \u001b[1m9s\u001b[0m 6ms/step - Brier score: 0.0029 - accuracy: 0.9967 - auc: 0.8784 - cross entropy: 0.0155 - fn: 2587.9602 - fp: 232.6972 - loss: 0.0155 - prc: 0.3054 - precision: 0.6649 - recall: 0.1495 - tn: 846649.6875 - tp: 442.6984 - val_Brier score: 0.0026 - val_accuracy: 0.9971 - val_auc: 0.8924 - val_cross entropy: 0.0136 - val_fn: 1233.0000 - val_fp: 5.0000 - val_loss: 0.0136 - val_prc: 0.4082 - val_precision: 0.9814 - val_recall: 0.1764 - val_tn: 421969.0000 - val_tp: 264.0000\n",
            "Epoch 90/100\n",
            "\u001b[1m828/828\u001b[0m \u001b[32m━━━━━━━━━━━━━━━━━━━━\u001b[0m\u001b[37m\u001b[0m \u001b[1m5s\u001b[0m 6ms/step - Brier score: 0.0030 - accuracy: 0.9966 - auc: 0.8755 - cross entropy: 0.0157 - fn: 2593.9277 - fp: 237.5404 - loss: 0.0157 - prc: 0.2903 - precision: 0.6357 - recall: 0.1384 - tn: 846650.3750 - tp: 431.2135 - val_Brier score: 0.0026 - val_accuracy: 0.9971 - val_auc: 0.8934 - val_cross entropy: 0.0135 - val_fn: 1230.0000 - val_fp: 4.0000 - val_loss: 0.0135 - val_prc: 0.4083 - val_precision: 0.9852 - val_recall: 0.1784 - val_tn: 421970.0000 - val_tp: 267.0000\n",
            "Epoch 91/100\n",
            "\u001b[1m828/828\u001b[0m \u001b[32m━━━━━━━━━━━━━━━━━━━━\u001b[0m\u001b[37m\u001b[0m \u001b[1m7s\u001b[0m 9ms/step - Brier score: 0.0029 - accuracy: 0.9967 - auc: 0.8810 - cross entropy: 0.0154 - fn: 2558.1013 - fp: 231.1701 - loss: 0.0154 - prc: 0.2992 - precision: 0.6613 - recall: 0.1501 - tn: 846673.4375 - tp: 450.3064 - val_Brier score: 0.0026 - val_accuracy: 0.9971 - val_auc: 0.8943 - val_cross entropy: 0.0135 - val_fn: 1221.0000 - val_fp: 9.0000 - val_loss: 0.0135 - val_prc: 0.4115 - val_precision: 0.9684 - val_recall: 0.1844 - val_tn: 421965.0000 - val_tp: 276.0000\n",
            "Epoch 92/100\n",
            "\u001b[1m828/828\u001b[0m \u001b[32m━━━━━━━━━━━━━━━━━━━━\u001b[0m\u001b[37m\u001b[0m \u001b[1m5s\u001b[0m 6ms/step - Brier score: 0.0030 - accuracy: 0.9967 - auc: 0.8787 - cross entropy: 0.0156 - fn: 2576.1833 - fp: 225.4958 - loss: 0.0156 - prc: 0.2999 - precision: 0.6659 - recall: 0.1514 - tn: 846658.6250 - tp: 452.7527 - val_Brier score: 0.0026 - val_accuracy: 0.9971 - val_auc: 0.8945 - val_cross entropy: 0.0135 - val_fn: 1223.0000 - val_fp: 5.0000 - val_loss: 0.0135 - val_prc: 0.4130 - val_precision: 0.9821 - val_recall: 0.1830 - val_tn: 421969.0000 - val_tp: 274.0000\n",
            "Epoch 93/100\n",
            "\u001b[1m828/828\u001b[0m \u001b[32m━━━━━━━━━━━━━━━━━━━━\u001b[0m\u001b[37m\u001b[0m \u001b[1m7s\u001b[0m 8ms/step - Brier score: 0.0029 - accuracy: 0.9968 - auc: 0.8819 - cross entropy: 0.0154 - fn: 2548.0254 - fp: 217.1725 - loss: 0.0154 - prc: 0.3049 - precision: 0.6892 - recall: 0.1589 - tn: 846681.5000 - tp: 466.3486 - val_Brier score: 0.0026 - val_accuracy: 0.9971 - val_auc: 0.8940 - val_cross entropy: 0.0135 - val_fn: 1227.0000 - val_fp: 7.0000 - val_loss: 0.0135 - val_prc: 0.4135 - val_precision: 0.9747 - val_recall: 0.1804 - val_tn: 421967.0000 - val_tp: 270.0000\n",
            "Epoch 94/100\n",
            "\u001b[1m828/828\u001b[0m \u001b[32m━━━━━━━━━━━━━━━━━━━━\u001b[0m\u001b[37m\u001b[0m \u001b[1m5s\u001b[0m 6ms/step - Brier score: 0.0030 - accuracy: 0.9967 - auc: 0.8765 - cross entropy: 0.0157 - fn: 2580.9951 - fp: 222.0374 - loss: 0.0157 - prc: 0.2904 - precision: 0.6617 - recall: 0.1431 - tn: 846673.3750 - tp: 436.6357 - val_Brier score: 0.0026 - val_accuracy: 0.9971 - val_auc: 0.8940 - val_cross entropy: 0.0135 - val_fn: 1218.0000 - val_fp: 11.0000 - val_loss: 0.0135 - val_prc: 0.4131 - val_precision: 0.9621 - val_recall: 0.1864 - val_tn: 421963.0000 - val_tp: 279.0000\n",
            "Epoch 95/100\n",
            "\u001b[1m828/828\u001b[0m \u001b[32m━━━━━━━━━━━━━━━━━━━━\u001b[0m\u001b[37m\u001b[0m \u001b[1m5s\u001b[0m 6ms/step - Brier score: 0.0030 - accuracy: 0.9967 - auc: 0.8773 - cross entropy: 0.0157 - fn: 2578.0312 - fp: 224.7346 - loss: 0.0157 - prc: 0.3044 - precision: 0.6670 - recall: 0.1536 - tn: 846643.2500 - tp: 467.0495 - val_Brier score: 0.0026 - val_accuracy: 0.9971 - val_auc: 0.8931 - val_cross entropy: 0.0135 - val_fn: 1222.0000 - val_fp: 5.0000 - val_loss: 0.0135 - val_prc: 0.4139 - val_precision: 0.9821 - val_recall: 0.1837 - val_tn: 421969.0000 - val_tp: 275.0000\n",
            "Epoch 96/100\n",
            "\u001b[1m828/828\u001b[0m \u001b[32m━━━━━━━━━━━━━━━━━━━━\u001b[0m\u001b[37m\u001b[0m \u001b[1m7s\u001b[0m 9ms/step - Brier score: 0.0030 - accuracy: 0.9967 - auc: 0.8822 - cross entropy: 0.0156 - fn: 2594.7793 - fp: 235.0289 - loss: 0.0156 - prc: 0.3035 - precision: 0.6676 - recall: 0.1502 - tn: 846627.2500 - tp: 455.9542 - val_Brier score: 0.0026 - val_accuracy: 0.9971 - val_auc: 0.8931 - val_cross entropy: 0.0135 - val_fn: 1221.0000 - val_fp: 5.0000 - val_loss: 0.0135 - val_prc: 0.4118 - val_precision: 0.9822 - val_recall: 0.1844 - val_tn: 421969.0000 - val_tp: 276.0000\n",
            "Epoch 97/100\n",
            "\u001b[1m828/828\u001b[0m \u001b[32m━━━━━━━━━━━━━━━━━━━━\u001b[0m\u001b[37m\u001b[0m \u001b[1m9s\u001b[0m 7ms/step - Brier score: 0.0030 - accuracy: 0.9967 - auc: 0.8760 - cross entropy: 0.0157 - fn: 2583.9385 - fp: 222.8480 - loss: 0.0157 - prc: 0.2941 - precision: 0.6813 - recall: 0.1504 - tn: 846642.3750 - tp: 463.8516 - val_Brier score: 0.0026 - val_accuracy: 0.9971 - val_auc: 0.8935 - val_cross entropy: 0.0135 - val_fn: 1218.0000 - val_fp: 4.0000 - val_loss: 0.0135 - val_prc: 0.4111 - val_precision: 0.9859 - val_recall: 0.1864 - val_tn: 421970.0000 - val_tp: 279.0000\n",
            "Epoch 98/100\n",
            "\u001b[1m828/828\u001b[0m \u001b[32m━━━━━━━━━━━━━━━━━━━━\u001b[0m\u001b[37m\u001b[0m \u001b[1m9s\u001b[0m 6ms/step - Brier score: 0.0029 - accuracy: 0.9967 - auc: 0.8806 - cross entropy: 0.0155 - fn: 2560.0193 - fp: 228.6043 - loss: 0.0155 - prc: 0.2912 - precision: 0.6545 - recall: 0.1433 - tn: 846684.5625 - tp: 439.8275 - val_Brier score: 0.0026 - val_accuracy: 0.9971 - val_auc: 0.8940 - val_cross entropy: 0.0134 - val_fn: 1209.0000 - val_fp: 12.0000 - val_loss: 0.0134 - val_prc: 0.4126 - val_precision: 0.9600 - val_recall: 0.1924 - val_tn: 421962.0000 - val_tp: 288.0000\n",
            "Epoch 99/100\n",
            "\u001b[1m828/828\u001b[0m \u001b[32m━━━━━━━━━━━━━━━━━━━━\u001b[0m\u001b[37m\u001b[0m \u001b[1m6s\u001b[0m 7ms/step - Brier score: 0.0029 - accuracy: 0.9968 - auc: 0.8774 - cross entropy: 0.0153 - fn: 2525.2498 - fp: 223.2738 - loss: 0.0153 - prc: 0.2884 - precision: 0.6434 - recall: 0.1411 - tn: 846742.1875 - tp: 422.3450 - val_Brier score: 0.0026 - val_accuracy: 0.9971 - val_auc: 0.8939 - val_cross entropy: 0.0134 - val_fn: 1207.0000 - val_fp: 18.0000 - val_loss: 0.0134 - val_prc: 0.4118 - val_precision: 0.9416 - val_recall: 0.1937 - val_tn: 421956.0000 - val_tp: 290.0000\n",
            "Epoch 100/100\n",
            "\u001b[1m828/828\u001b[0m \u001b[32m━━━━━━━━━━━━━━━━━━━━\u001b[0m\u001b[37m\u001b[0m \u001b[1m9s\u001b[0m 6ms/step - Brier score: 0.0029 - accuracy: 0.9967 - auc: 0.8763 - cross entropy: 0.0153 - fn: 2557.0845 - fp: 245.9385 - loss: 0.0153 - prc: 0.3015 - precision: 0.6446 - recall: 0.1520 - tn: 846648.0000 - tp: 462.0338 - val_Brier score: 0.0026 - val_accuracy: 0.9971 - val_auc: 0.8942 - val_cross entropy: 0.0135 - val_fn: 1219.0000 - val_fp: 5.0000 - val_loss: 0.0135 - val_prc: 0.4138 - val_precision: 0.9823 - val_recall: 0.1857 - val_tn: 421969.0000 - val_tp: 278.0000\n",
            "Restoring model weights from the end of the best epoch: 95.\n"
          ]
        }
      ]
    },
    {
      "cell_type": "code",
      "source": [
        "train_predictions_baseline = model.predict(train_features, batch_size=BATCH_SIZE)\n",
        "test_predictions_baseline = model.predict(test_features, batch_size=BATCH_SIZE)"
      ],
      "metadata": {
        "colab": {
          "base_uri": "https://localhost:8080/"
        },
        "id": "wRjoAoWXn2EM",
        "outputId": "34459424-77e3-459f-cfaa-7e2c28c8e6ac"
      },
      "execution_count": 28,
      "outputs": [
        {
          "output_type": "stream",
          "name": "stdout",
          "text": [
            "\u001b[1m828/828\u001b[0m \u001b[32m━━━━━━━━━━━━━━━━━━━━\u001b[0m\u001b[37m\u001b[0m \u001b[1m2s\u001b[0m 2ms/step\n",
            "\u001b[1m259/259\u001b[0m \u001b[32m━━━━━━━━━━━━━━━━━━━━\u001b[0m\u001b[37m\u001b[0m \u001b[1m1s\u001b[0m 2ms/step\n"
          ]
        }
      ]
    },
    {
      "cell_type": "code",
      "source": [
        "def plot_cm(labels, predictions, threshold=0.5):\n",
        "  cm = confusion_matrix(labels, predictions > threshold)\n",
        "  plt.figure(figsize=(5,5))\n",
        "  sns.heatmap(cm, annot=True, fmt=\"d\")\n",
        "  plt.title(\"Confusion matrix @{:.2f}\".format(threshold))\n",
        "  plt.ylabel('Actual label')\n",
        "  plt.xlabel('Predicted label')"
      ],
      "metadata": {
        "id": "DpALLfwmnUOX"
      },
      "execution_count": 29,
      "outputs": []
    },
    {
      "cell_type": "code",
      "source": [
        "baseline_results = model.evaluate(test_features, test_labels,\n",
        "                                  batch_size=BATCH_SIZE, verbose=0)\n",
        "for name, value in zip(model.metrics_names, baseline_results):\n",
        "  print(name, ': ', value)\n",
        "print()\n",
        "\n",
        "plot_cm(test_labels, test_predictions_baseline)"
      ],
      "metadata": {
        "colab": {
          "base_uri": "https://localhost:8080/",
          "height": 542
        },
        "id": "1eoWp6yynXoO",
        "outputId": "118766d9-ae77-46ba-d5b3-30c5a210f511"
      },
      "execution_count": 30,
      "outputs": [
        {
          "output_type": "stream",
          "name": "stdout",
          "text": [
            "loss :  0.01414923369884491\n",
            "compile_metrics :  0.01414923369884491\n",
            "\n"
          ]
        },
        {
          "output_type": "display_data",
          "data": {
            "text/plain": [
              "<Figure size 500x500 with 2 Axes>"
            ],
            "image/png": "[encoded data removed]"
          },
          "metadata": {}
        }
      ]
    },
    {
      "cell_type": "markdown",
      "source": [
        "## Class Weights"
      ],
      "metadata": {
        "id": "DWeJIinenjM6"
      }
    },
    {
      "cell_type": "code",
      "source": [
        "weight_for_0 = (1 / neg) * (total / 2.0)\n",
        "weight_for_1 = (1 / pos) * (total / 2.0)\n",
        "\n",
        "class_weight = {0: weight_for_0, 1: weight_for_1}\n",
        "\n",
        "print('Weight for class 0: {:.2f}'.format(weight_for_0))\n",
        "print('Weight for class 1: {:.2f}'.format(weight_for_1))"
      ],
      "metadata": {
        "colab": {
          "base_uri": "https://localhost:8080/"
        },
        "id": "RbdeW78jnmR1",
        "outputId": "dbf6ce6c-50ca-471a-8dd8-1fe832c53132"
      },
      "execution_count": 31,
      "outputs": [
        {
          "output_type": "stream",
          "name": "stdout",
          "text": [
            "Weight for class 0: 0.50\n",
            "Weight for class 1: 140.45\n"
          ]
        }
      ]
    },
    {
      "cell_type": "markdown",
      "source": [
        "## Train model with class weights"
      ],
      "metadata": {
        "id": "1WVT_4GBn5IF"
      }
    },
    {
      "cell_type": "code",
      "source": [
        "weighted_model = make_model()\n",
        "weighted_model.load_weights(initial_weights)\n",
        "\n",
        "weighted_history = weighted_model.fit(\n",
        "    train_features,\n",
        "    train_labels,\n",
        "    batch_size=BATCH_SIZE,\n",
        "    epochs=EPOCHS,\n",
        "    callbacks=[early_stopping()],\n",
        "    validation_data=(val_features, val_labels),\n",
        "    # The class weights go here\n",
        "    class_weight=class_weight)"
      ],
      "metadata": {
        "colab": {
          "base_uri": "https://localhost:8080/"
        },
        "id": "f9yjeGTsn4nS",
        "outputId": "fd7b739c-87ec-41b7-88b3-7fe426546d25"
      },
      "execution_count": 32,
      "outputs": [
        {
          "output_type": "stream",
          "name": "stderr",
          "text": [
            "/usr/local/lib/python3.11/dist-packages/keras/src/layers/core/dense.py:87: UserWarning: Do not pass an `input_shape`/`input_dim` argument to a layer. When using Sequential models, prefer using an `Input(shape)` object as the first layer in the model instead.\n",
            "  super().__init__(activity_regularizer=activity_regularizer, **kwargs)\n"
          ]
        },
        {
          "output_type": "stream",
          "name": "stdout",
          "text": [
            "Epoch 1/100\n",
            "\u001b[1m828/828\u001b[0m \u001b[32m━━━━━━━━━━━━━━━━━━━━\u001b[0m\u001b[37m\u001b[0m \u001b[1m18s\u001b[0m 16ms/step - Brier score: 0.0326 - accuracy: 0.9574 - auc: 0.7302 - cross entropy: 0.1183 - fn: 3777.1809 - fp: 69595.3516 - loss: 1.6327 - prc: 0.0740 - precision: 0.1105 - recall: 0.2035 - tn: 1304752.2500 - tp: 1127.1990 - val_Brier score: 0.0516 - val_accuracy: 0.9632 - val_auc: 0.8554 - val_cross entropy: 0.2421 - val_fn: 461.0000 - val_fp: 15115.0000 - val_loss: 0.2421 - val_prc: 0.1418 - val_precision: 0.0641 - val_recall: 0.6921 - val_tn: 406859.0000 - val_tp: 1036.0000\n",
            "Epoch 2/100\n",
            "\u001b[1m828/828\u001b[0m \u001b[32m━━━━━━━━━━━━━━━━━━━━\u001b[0m\u001b[37m\u001b[0m \u001b[1m14s\u001b[0m 8ms/step - Brier score: 0.1126 - accuracy: 0.8501 - auc: 0.8013 - cross entropy: 0.4046 - fn: 1049.7371 - fp: 123941.0078 - loss: 0.6350 - prc: 0.0808 - precision: 0.0152 - recall: 0.6504 - tn: 722940.7500 - tp: 1981.5646 - val_Brier score: 0.0467 - val_accuracy: 0.9652 - val_auc: 0.8503 - val_cross entropy: 0.2476 - val_fn: 354.0000 - val_fp: 14395.0000 - val_loss: 0.2476 - val_prc: 0.1325 - val_precision: 0.0736 - val_recall: 0.7635 - val_tn: 407579.0000 - val_tp: 1143.0000\n",
            "Epoch 3/100\n",
            "\u001b[1m828/828\u001b[0m \u001b[32m━━━━━━━━━━━━━━━━━━━━\u001b[0m\u001b[37m\u001b[0m \u001b[1m6s\u001b[0m 7ms/step - Brier score: 0.0916 - accuracy: 0.8868 - auc: 0.8215 - cross entropy: 0.3648 - fn: 958.8866 - fp: 93742.0781 - loss: 0.5796 - prc: 0.0909 - precision: 0.0213 - recall: 0.6773 - tn: 753138.0625 - tp: 2074.0217 - val_Brier score: 0.0506 - val_accuracy: 0.9621 - val_auc: 0.8486 - val_cross entropy: 0.2663 - val_fn: 344.0000 - val_fp: 15722.0000 - val_loss: 0.2663 - val_prc: 0.1281 - val_precision: 0.0683 - val_recall: 0.7702 - val_tn: 406252.0000 - val_tp: 1153.0000\n",
            "Epoch 4/100\n",
            "\u001b[1m828/828\u001b[0m \u001b[32m━━━━━━━━━━━━━━━━━━━━\u001b[0m\u001b[37m\u001b[0m \u001b[1m10s\u001b[0m 6ms/step - Brier score: 0.0863 - accuracy: 0.8992 - auc: 0.8390 - cross entropy: 0.3555 - fn: 904.0302 - fp: 84179.6953 - loss: 0.5292 - prc: 0.0984 - precision: 0.0251 - recall: 0.7063 - tn: 762676.0000 - tp: 2153.3269 - val_Brier score: 0.0508 - val_accuracy: 0.9653 - val_auc: 0.8486 - val_cross entropy: 0.2682 - val_fn: 351.0000 - val_fp: 14337.0000 - val_loss: 0.2682 - val_prc: 0.1317 - val_precision: 0.0740 - val_recall: 0.7655 - val_tn: 407637.0000 - val_tp: 1146.0000\n",
            "Epoch 5/100\n",
            "\u001b[1m828/828\u001b[0m \u001b[32m━━━━━━━━━━━━━━━━━━━━\u001b[0m\u001b[37m\u001b[0m \u001b[1m7s\u001b[0m 9ms/step - Brier score: 0.0857 - accuracy: 0.9069 - auc: 0.8363 - cross entropy: 0.3546 - fn: 928.2292 - fp: 77548.4453 - loss: 0.5115 - prc: 0.1005 - precision: 0.0264 - recall: 0.6928 - tn: 769344.5000 - tp: 2091.8950 - val_Brier score: 0.0494 - val_accuracy: 0.9671 - val_auc: 0.8523 - val_cross entropy: 0.2630 - val_fn: 356.0000 - val_fp: 13569.0000 - val_loss: 0.2630 - val_prc: 0.1348 - val_precision: 0.0776 - val_recall: 0.7622 - val_tn: 408405.0000 - val_tp: 1141.0000\n",
            "Epoch 6/100\n",
            "\u001b[1m828/828\u001b[0m \u001b[32m━━━━━━━━━━━━━━━━━━━━\u001b[0m\u001b[37m\u001b[0m \u001b[1m8s\u001b[0m 6ms/step - Brier score: 0.0785 - accuracy: 0.9232 - auc: 0.8395 - cross entropy: 0.3386 - fn: 883.2292 - fp: 64215.7070 - loss: 0.4877 - prc: 0.0980 - precision: 0.0314 - recall: 0.6988 - tn: 782701.2500 - tp: 2112.8782 - val_Brier score: 0.0560 - val_accuracy: 0.9641 - val_auc: 0.8605 - val_cross entropy: 0.2879 - val_fn: 349.0000 - val_fp: 14839.0000 - val_loss: 0.2879 - val_prc: 0.1336 - val_precision: 0.0718 - val_recall: 0.7669 - val_tn: 407135.0000 - val_tp: 1148.0000\n",
            "Epoch 7/100\n",
            "\u001b[1m828/828\u001b[0m \u001b[32m━━━━━━━━━━━━━━━━━━━━\u001b[0m\u001b[37m\u001b[0m \u001b[1m7s\u001b[0m 8ms/step - Brier score: 0.0785 - accuracy: 0.9277 - auc: 0.8557 - cross entropy: 0.3388 - fn: 857.6055 - fp: 59961.4688 - loss: 0.4580 - prc: 0.1080 - precision: 0.0347 - recall: 0.7172 - tn: 786930.6250 - tp: 2163.3367 - val_Brier score: 0.0557 - val_accuracy: 0.9659 - val_auc: 0.8645 - val_cross entropy: 0.2874 - val_fn: 354.0000 - val_fp: 14067.0000 - val_loss: 0.2874 - val_prc: 0.1363 - val_precision: 0.0751 - val_recall: 0.7635 - val_tn: 407907.0000 - val_tp: 1143.0000\n",
            "Epoch 8/100\n",
            "\u001b[1m828/828\u001b[0m \u001b[32m━━━━━━━━━━━━━━━━━━━━\u001b[0m\u001b[37m\u001b[0m \u001b[1m8s\u001b[0m 6ms/step - Brier score: 0.0783 - accuracy: 0.9342 - auc: 0.8589 - cross entropy: 0.3412 - fn: 861.6635 - fp: 55322.5312 - loss: 0.4467 - prc: 0.1094 - precision: 0.0381 - recall: 0.7167 - tn: 791554.0000 - tp: 2174.8589 - val_Brier score: 0.0596 - val_accuracy: 0.9647 - val_auc: 0.8736 - val_cross entropy: 0.3007 - val_fn: 351.0000 - val_fp: 14587.0000 - val_loss: 0.3007 - val_prc: 0.1354 - val_precision: 0.0728 - val_recall: 0.7655 - val_tn: 407387.0000 - val_tp: 1146.0000\n",
            "Epoch 9/100\n",
            "\u001b[1m828/828\u001b[0m \u001b[32m━━━━━━━━━━━━━━━━━━━━\u001b[0m\u001b[37m\u001b[0m \u001b[1m8s\u001b[0m 9ms/step - Brier score: 0.0764 - accuracy: 0.9387 - auc: 0.8676 - cross entropy: 0.3369 - fn: 838.8794 - fp: 50868.4023 - loss: 0.4271 - prc: 0.1151 - precision: 0.0404 - recall: 0.7195 - tn: 796042.1875 - tp: 2163.5754 - val_Brier score: 0.0660 - val_accuracy: 0.9614 - val_auc: 0.8867 - val_cross entropy: 0.3234 - val_fn: 343.0000 - val_fp: 16018.0000 - val_loss: 0.3234 - val_prc: 0.1325 - val_precision: 0.0672 - val_recall: 0.7709 - val_tn: 405956.0000 - val_tp: 1154.0000\n",
            "Epoch 10/100\n",
            "\u001b[1m828/828\u001b[0m \u001b[32m━━━━━━━━━━━━━━━━━━━━\u001b[0m\u001b[37m\u001b[0m \u001b[1m5s\u001b[0m 6ms/step - Brier score: 0.0793 - accuracy: 0.9354 - auc: 0.8716 - cross entropy: 0.3491 - fn: 814.1218 - fp: 51513.1562 - loss: 0.4276 - prc: 0.1126 - precision: 0.0398 - recall: 0.7295 - tn: 795370.3125 - tp: 2215.4209 - val_Brier score: 0.0608 - val_accuracy: 0.9644 - val_auc: 0.8945 - val_cross entropy: 0.3069 - val_fn: 347.0000 - val_fp: 14718.0000 - val_loss: 0.3069 - val_prc: 0.1338 - val_precision: 0.0725 - val_recall: 0.7682 - val_tn: 407256.0000 - val_tp: 1150.0000\n",
            "Epoch 11/100\n",
            "\u001b[1m828/828\u001b[0m \u001b[32m━━━━━━━━━━━━━━━━━━━━\u001b[0m\u001b[37m\u001b[0m \u001b[1m7s\u001b[0m 8ms/step - Brier score: 0.0712 - accuracy: 0.9475 - auc: 0.8756 - cross entropy: 0.3270 - fn: 792.1833 - fp: 44440.8672 - loss: 0.4062 - prc: 0.1128 - precision: 0.0468 - recall: 0.7331 - tn: 802503.5000 - tp: 2176.5176 - val_Brier score: 0.0611 - val_accuracy: 0.9658 - val_auc: 0.9045 - val_cross entropy: 0.3078 - val_fn: 351.0000 - val_fp: 14152.0000 - val_loss: 0.3078 - val_prc: 0.1352 - val_precision: 0.0749 - val_recall: 0.7655 - val_tn: 407822.0000 - val_tp: 1146.0000\n",
            "Epoch 11: early stopping\n",
            "Restoring model weights from the end of the best epoch: 1.\n"
          ]
        }
      ]
    },
    {
      "cell_type": "code",
      "source": [
        "def plot_metrics(history):\n",
        "  metrics = ['loss', 'prc', 'precision', 'recall']\n",
        "  for n, metric in enumerate(metrics):\n",
        "    name = metric.replace(\"_\",\" \").capitalize()\n",
        "    plt.subplot(2,2,n+1)\n",
        "    plt.plot(history.epoch, history.history[metric], color=colors[0], label='Train')\n",
        "    plt.plot(history.epoch, history.history['val_'+metric],\n",
        "             color=colors[0], linestyle=\"--\", label='Val')\n",
        "    plt.xlabel('Epoch')\n",
        "    plt.ylabel(name)\n",
        "    if metric == 'loss':\n",
        "      plt.ylim([0, plt.ylim()[1]])\n",
        "    elif metric == 'auc':\n",
        "      plt.ylim([0.8,1])\n",
        "    else:\n",
        "      plt.ylim([0,1])\n",
        "\n",
        "    plt.legend()"
      ],
      "metadata": {
        "id": "B-FGWSv7o3d1"
      },
      "execution_count": 33,
      "outputs": []
    },
    {
      "cell_type": "markdown",
      "source": [
        "## Comparing metric history - Baseline versus Weighted"
      ],
      "metadata": {
        "id": "qt5Q5VvrpAAf"
      }
    },
    {
      "cell_type": "code",
      "source": [
        "plot_metrics(weighted_history)"
      ],
      "metadata": {
        "colab": {
          "base_uri": "https://localhost:8080/",
          "height": 455
        },
        "id": "1X-nyU-8oo9u",
        "outputId": "c8fef247-99fd-402b-dc72-994e6cfc8dd1"
      },
      "execution_count": 34,
      "outputs": [
        {
          "output_type": "display_data",
          "data": {
            "text/plain": [
              "<Figure size 640x480 with 4 Axes>"
            ],
            "image/png": "[encoded data removed]"
          },
          "metadata": {}
        }
      ]
    },
    {
      "cell_type": "code",
      "source": [
        "plot_metrics(baseline_history)"
      ],
      "metadata": {
        "colab": {
          "base_uri": "https://localhost:8080/",
          "height": 455
        },
        "id": "IbjRQ4Lfo7cS",
        "outputId": "1d287caa-fbe1-424d-de4e-f579fc62f166"
      },
      "execution_count": 35,
      "outputs": [
        {
          "output_type": "display_data",
          "data": {
            "text/plain": [
              "<Figure size 640x480 with 4 Axes>"
            ],
            "image/png": "[encoded data removed]"
          },
          "metadata": {}
        }
      ]
    },
    {
      "cell_type": "code",
      "source": [
        "def plot_cm(labels, predictions, threshold=0.5):\n",
        "  cm = confusion_matrix(labels, predictions > threshold)\n",
        "  plt.figure(figsize=(5,5))\n",
        "  sns.heatmap(cm, annot=True, fmt=\"d\")\n",
        "  plt.title(\"Confusion matrix @{:.2f}\".format(threshold))\n",
        "  plt.ylabel('Actual label')\n",
        "  plt.xlabel('Predicted label')"
      ],
      "metadata": {
        "id": "zJej_b3-pMal"
      },
      "execution_count": 36,
      "outputs": []
    },
    {
      "cell_type": "markdown",
      "source": [
        "## Evaluate metrics"
      ],
      "metadata": {
        "id": "JU77KPaKpxOm"
      }
    },
    {
      "cell_type": "code",
      "source": [
        "train_predictions_weighted = weighted_model.predict(train_features, batch_size=BATCH_SIZE)\n",
        "test_predictions_weighted = weighted_model.predict(test_features, batch_size=BATCH_SIZE)"
      ],
      "metadata": {
        "colab": {
          "base_uri": "https://localhost:8080/"
        },
        "id": "AYQAejI7p103",
        "outputId": "62bebf60-accc-47fb-9e3d-e8d647c28dcd"
      },
      "execution_count": 37,
      "outputs": [
        {
          "output_type": "stream",
          "name": "stdout",
          "text": [
            "\u001b[1m828/828\u001b[0m \u001b[32m━━━━━━━━━━━━━━━━━━━━\u001b[0m\u001b[37m\u001b[0m \u001b[1m2s\u001b[0m 2ms/step\n",
            "\u001b[1m259/259\u001b[0m \u001b[32m━━━━━━━━━━━━━━━━━━━━\u001b[0m\u001b[37m\u001b[0m \u001b[1m0s\u001b[0m 2ms/step\n"
          ]
        }
      ]
    },
    {
      "cell_type": "code",
      "source": [
        "weighted_results = weighted_model.evaluate(test_features, test_labels,\n",
        "                                           batch_size=BATCH_SIZE, verbose=0)\n",
        "for name, value in zip(weighted_model.metrics_names, weighted_results):\n",
        "  print(name, ': ', value)\n",
        "print()\n",
        "\n",
        "plot_cm(test_labels, test_predictions_weighted)"
      ],
      "metadata": {
        "colab": {
          "base_uri": "https://localhost:8080/",
          "height": 542
        },
        "id": "oOhZfRULqpm8",
        "outputId": "98be2977-dad6-4e93-f478-e51fe5c8527d"
      },
      "execution_count": 38,
      "outputs": [
        {
          "output_type": "stream",
          "name": "stdout",
          "text": [
            "loss :  0.24275252223014832\n",
            "compile_metrics :  0.24275252223014832\n",
            "\n"
          ]
        },
        {
          "output_type": "display_data",
          "data": {
            "text/plain": [
              "<Figure size 500x500 with 2 Axes>"
            ],
            "image/png": "[encoded data removed]"
          },
          "metadata": {}
        }
      ]
    },
    {
      "cell_type": "code",
      "execution_count": null,
      "metadata": {
        "id": "XM5HtAZuNrrN"
      },
      "outputs": [],
      "source": [
        "# saving the file\n",
        "import pickle\n",
        "file_path = '/content/drive/MyDrive/Documents/Data Career/fraud_classification/fraud_class_tf.pkl'\n",
        "\n",
        "with open(file_path, \"wb\") as f:\n",
        "    pickle.dump(model, f)"
      ]
    },
    {
      "cell_type": "code",
      "source": [],
      "metadata": {
        "id": "lNTbSN_x8oGI"
      },
      "execution_count": null,
      "outputs": []
    }
  ],
  "metadata": {
    "colab": {
      "provenance": [],
      "mount_file_id": "15btsJkvhspBfdtWfosIXV7QR0hRb-fc2",
      "authorship_tag": "ABX9TyPxvY3Soa+Dev9NvU5WMNUk",
      "include_colab_link": true
    },
    "kernelspec": {
      "display_name": "Python 3",
      "name": "python3"
    },
    "language_info": {
      "name": "python"
    }
  },
  "nbformat": 4,
  "nbformat_minor": 0
}