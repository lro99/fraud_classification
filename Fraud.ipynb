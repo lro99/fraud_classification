{
  "cells": [
    {
      "cell_type": "markdown",
      "metadata": {
        "id": "view-in-github",
        "colab_type": "text"
      },
      "source": [
        "<a href=\"https://colab.research.google.com/github/lro99/fraud_classification/blob/main/Fraud.ipynb\" target=\"_parent\"><img src=\"https://colab.research.google.com/assets/colab-badge.svg\" alt=\"Open In Colab\"/></a>"
      ]
    },
    {
      "cell_type": "code",
      "execution_count": 1,
      "metadata": {
        "id": "U8fZwC_f6jTs"
      },
      "outputs": [],
      "source": [
        "import pandas as pd\n",
        "import numpy as np\n",
        "import random\n",
        "import matplotlib.pyplot as plt\n",
        "import seaborn as sns\n",
        "import os\n",
        "from sklearn.model_selection import train_test_split\n",
        "from sklearn.preprocessing import LabelEncoder, OneHotEncoder, StandardScaler\n",
        "from sklearn.metrics import accuracy_score, confusion_matrix, f1_score\n",
        "# from google.colab import drive\n",
        "\n",
        "import tensorflow as tf\n",
        "from tensorflow import keras"
      ]
    },
    {
      "cell_type": "code",
      "execution_count": 2,
      "metadata": {
        "id": "PYpjsrR48DUQ"
      },
      "outputs": [],
      "source": [
        "train = pd.read_parquet('/content/drive/MyDrive/Documents/Data Career/fraud_classification/train-00000-of-00002.parquet')\n",
        "train.to_csv('fraud0.csv')\n",
        "\n",
        "train1 = pd.read_parquet('/content/drive/MyDrive/Documents/Data Career/fraud_classification/train-00001-of-00002.parquet')\n",
        "train1.to_csv('fraud1.csv')"
      ]
    },
    {
      "cell_type": "code",
      "execution_count": 15,
      "metadata": {
        "colab": {
          "base_uri": "https://localhost:8080/",
          "height": 399
        },
        "id": "oPJgJoQ0_gAp",
        "outputId": "3f2ec6b5-10b5-4ce1-9ae8-379e42268acb"
      },
      "outputs": [
        {
          "output_type": "execute_result",
          "data": {
            "text/plain": [
              "           ssn            cc_num    first  ...     amt is_fraud                merchant\n",
              "0  367-85-9826  4361337605230458  Kristie  ...  337.54        1           fraud_Kovacek\n",
              "1  367-85-9826  4361337605230458  Kristie  ...   21.13        1           fraud_Bradtke\n",
              "2  367-85-9826  4361337605230458  Kristie  ...   22.61        1     fraud_Kozey-Kuhlman\n",
              "3  367-85-9826  4361337605230458  Kristie  ...   17.32        1             fraud_Hills\n",
              "4  367-85-9826  4361337605230458  Kristie  ...   75.82        0  fraud_Kemmer-Buckridge\n",
              "\n",
              "[5 rows x 20 columns]"
            ],
            "text/html": [
              "\n",
              "  <div id=\"df-7223b141-2358-4bb9-a0be-f4bf30c2ab09\" class=\"colab-df-container\">\n",
              "    <div>\n",
              "<style scoped>\n",
              "    .dataframe tbody tr th:only-of-type {\n",
              "        vertical-align: middle;\n",
              "    }\n",
              "\n",
              "    .dataframe tbody tr th {\n",
              "        vertical-align: top;\n",
              "    }\n",
              "\n",
              "    .dataframe thead th {\n",
              "        text-align: right;\n",
              "    }\n",
              "</style>\n",
              "<table border=\"1\" class=\"dataframe\">\n",
              "  <thead>\n",
              "    <tr style=\"text-align: right;\">\n",
              "      <th></th>\n",
              "      <th>ssn</th>\n",
              "      <th>cc_num</th>\n",
              "      <th>first</th>\n",
              "      <th>last</th>\n",
              "      <th>gender</th>\n",
              "      <th>city</th>\n",
              "      <th>state</th>\n",
              "      <th>zip</th>\n",
              "      <th>city_pop</th>\n",
              "      <th>job</th>\n",
              "      <th>dob</th>\n",
              "      <th>acct_num</th>\n",
              "      <th>trans_num</th>\n",
              "      <th>trans_date</th>\n",
              "      <th>trans_time</th>\n",
              "      <th>unix_time</th>\n",
              "      <th>category</th>\n",
              "      <th>amt</th>\n",
              "      <th>is_fraud</th>\n",
              "      <th>merchant</th>\n",
              "    </tr>\n",
              "  </thead>\n",
              "  <tbody>\n",
              "    <tr>\n",
              "      <th>0</th>\n",
              "      <td>367-85-9826</td>\n",
              "      <td>4361337605230458</td>\n",
              "      <td>Kristie</td>\n",
              "      <td>Davis</td>\n",
              "      <td>F</td>\n",
              "      <td>Chandler</td>\n",
              "      <td>OK</td>\n",
              "      <td>74834</td>\n",
              "      <td>7590</td>\n",
              "      <td>Chief Strategy Officer</td>\n",
              "      <td>1987-06-12</td>\n",
              "      <td>349734538563</td>\n",
              "      <td>c036244703adb9d5392f4027d9d4b38d</td>\n",
              "      <td>2021-07-31</td>\n",
              "      <td>02:30:01</td>\n",
              "      <td>1627678801</td>\n",
              "      <td>grocery_pos</td>\n",
              "      <td>337.54</td>\n",
              "      <td>1</td>\n",
              "      <td>fraud_Kovacek</td>\n",
              "    </tr>\n",
              "    <tr>\n",
              "      <th>1</th>\n",
              "      <td>367-85-9826</td>\n",
              "      <td>4361337605230458</td>\n",
              "      <td>Kristie</td>\n",
              "      <td>Davis</td>\n",
              "      <td>F</td>\n",
              "      <td>Chandler</td>\n",
              "      <td>OK</td>\n",
              "      <td>74834</td>\n",
              "      <td>7590</td>\n",
              "      <td>Chief Strategy Officer</td>\n",
              "      <td>1987-06-12</td>\n",
              "      <td>349734538563</td>\n",
              "      <td>42f000b0b3b0ef534e5b8ef9ec1db13a</td>\n",
              "      <td>2021-08-01</td>\n",
              "      <td>22:37:41</td>\n",
              "      <td>1627837661</td>\n",
              "      <td>personal_care</td>\n",
              "      <td>21.13</td>\n",
              "      <td>1</td>\n",
              "      <td>fraud_Bradtke</td>\n",
              "    </tr>\n",
              "    <tr>\n",
              "      <th>2</th>\n",
              "      <td>367-85-9826</td>\n",
              "      <td>4361337605230458</td>\n",
              "      <td>Kristie</td>\n",
              "      <td>Davis</td>\n",
              "      <td>F</td>\n",
              "      <td>Chandler</td>\n",
              "      <td>OK</td>\n",
              "      <td>74834</td>\n",
              "      <td>7590</td>\n",
              "      <td>Chief Strategy Officer</td>\n",
              "      <td>1987-06-12</td>\n",
              "      <td>349734538563</td>\n",
              "      <td>543037b1baf088961e58d00b705f4bcc</td>\n",
              "      <td>2021-08-01</td>\n",
              "      <td>23:02:09</td>\n",
              "      <td>1627839129</td>\n",
              "      <td>personal_care</td>\n",
              "      <td>22.61</td>\n",
              "      <td>1</td>\n",
              "      <td>fraud_Kozey-Kuhlman</td>\n",
              "    </tr>\n",
              "    <tr>\n",
              "      <th>3</th>\n",
              "      <td>367-85-9826</td>\n",
              "      <td>4361337605230458</td>\n",
              "      <td>Kristie</td>\n",
              "      <td>Davis</td>\n",
              "      <td>F</td>\n",
              "      <td>Chandler</td>\n",
              "      <td>OK</td>\n",
              "      <td>74834</td>\n",
              "      <td>7590</td>\n",
              "      <td>Chief Strategy Officer</td>\n",
              "      <td>1987-06-12</td>\n",
              "      <td>349734538563</td>\n",
              "      <td>00a4e08643edebf9277c2967676f6a26</td>\n",
              "      <td>2021-08-01</td>\n",
              "      <td>22:27:24</td>\n",
              "      <td>1627837044</td>\n",
              "      <td>health_fitness</td>\n",
              "      <td>17.32</td>\n",
              "      <td>1</td>\n",
              "      <td>fraud_Hills</td>\n",
              "    </tr>\n",
              "    <tr>\n",
              "      <th>4</th>\n",
              "      <td>367-85-9826</td>\n",
              "      <td>4361337605230458</td>\n",
              "      <td>Kristie</td>\n",
              "      <td>Davis</td>\n",
              "      <td>F</td>\n",
              "      <td>Chandler</td>\n",
              "      <td>OK</td>\n",
              "      <td>74834</td>\n",
              "      <td>7590</td>\n",
              "      <td>Chief Strategy Officer</td>\n",
              "      <td>1987-06-12</td>\n",
              "      <td>349734538563</td>\n",
              "      <td>492c4412815306718f686fc5b459a285</td>\n",
              "      <td>2021-12-02</td>\n",
              "      <td>02:28:51</td>\n",
              "      <td>1638392331</td>\n",
              "      <td>misc_pos</td>\n",
              "      <td>75.82</td>\n",
              "      <td>0</td>\n",
              "      <td>fraud_Kemmer-Buckridge</td>\n",
              "    </tr>\n",
              "  </tbody>\n",
              "</table>\n",
              "</div>\n",
              "    <div class=\"colab-df-buttons\">\n",
              "\n",
              "  <div class=\"colab-df-container\">\n",
              "    <button class=\"colab-df-convert\" onclick=\"convertToInteractive('df-7223b141-2358-4bb9-a0be-f4bf30c2ab09')\"\n",
              "            title=\"Convert this dataframe to an interactive table.\"\n",
              "            style=\"display:none;\">\n",
              "\n",
              "  <svg xmlns=\"http://www.w3.org/2000/svg\" height=\"24px\" viewBox=\"0 -960 960 960\">\n",
              "    <path d=\"M120-120v-720h720v720H120Zm60-500h600v-160H180v160Zm220 220h160v-160H400v160Zm0 220h160v-160H400v160ZM180-400h160v-160H180v160Zm440 0h160v-160H620v160ZM180-180h160v-160H180v160Zm440 0h160v-160H620v160Z\"/>\n",
              "  </svg>\n",
              "    </button>\n",
              "\n",
              "  <style>\n",
              "    .colab-df-container {\n",
              "      display:flex;\n",
              "      gap: 12px;\n",
              "    }\n",
              "\n",
              "    .colab-df-convert {\n",
              "      background-color: #E8F0FE;\n",
              "      border: none;\n",
              "      border-radius: 50%;\n",
              "      cursor: pointer;\n",
              "      display: none;\n",
              "      fill: #1967D2;\n",
              "      height: 32px;\n",
              "      padding: 0 0 0 0;\n",
              "      width: 32px;\n",
              "    }\n",
              "\n",
              "    .colab-df-convert:hover {\n",
              "      background-color: #E2EBFA;\n",
              "      box-shadow: 0px 1px 2px rgba(60, 64, 67, 0.3), 0px 1px 3px 1px rgba(60, 64, 67, 0.15);\n",
              "      fill: #174EA6;\n",
              "    }\n",
              "\n",
              "    .colab-df-buttons div {\n",
              "      margin-bottom: 4px;\n",
              "    }\n",
              "\n",
              "    [theme=dark] .colab-df-convert {\n",
              "      background-color: #3B4455;\n",
              "      fill: #D2E3FC;\n",
              "    }\n",
              "\n",
              "    [theme=dark] .colab-df-convert:hover {\n",
              "      background-color: #434B5C;\n",
              "      box-shadow: 0px 1px 3px 1px rgba(0, 0, 0, 0.15);\n",
              "      filter: drop-shadow(0px 1px 2px rgba(0, 0, 0, 0.3));\n",
              "      fill: #FFFFFF;\n",
              "    }\n",
              "  </style>\n",
              "\n",
              "    <script>\n",
              "      const buttonEl =\n",
              "        document.querySelector('#df-7223b141-2358-4bb9-a0be-f4bf30c2ab09 button.colab-df-convert');\n",
              "      buttonEl.style.display =\n",
              "        google.colab.kernel.accessAllowed ? 'block' : 'none';\n",
              "\n",
              "      async function convertToInteractive(key) {\n",
              "        const element = document.querySelector('#df-7223b141-2358-4bb9-a0be-f4bf30c2ab09');\n",
              "        const dataTable =\n",
              "          await google.colab.kernel.invokeFunction('convertToInteractive',\n",
              "                                                    [key], {});\n",
              "        if (!dataTable) return;\n",
              "\n",
              "        const docLinkHtml = 'Like what you see? Visit the ' +\n",
              "          '<a target=\"_blank\" href=https://colab.research.google.com/notebooks/data_table.ipynb>data table notebook</a>'\n",
              "          + ' to learn more about interactive tables.';\n",
              "        element.innerHTML = '';\n",
              "        dataTable['output_type'] = 'display_data';\n",
              "        await google.colab.output.renderOutput(dataTable, element);\n",
              "        const docLink = document.createElement('div');\n",
              "        docLink.innerHTML = docLinkHtml;\n",
              "        element.appendChild(docLink);\n",
              "      }\n",
              "    </script>\n",
              "  </div>\n",
              "\n",
              "\n",
              "<div id=\"df-27cdc038-5262-4adb-bbcf-c6a07f5126fd\">\n",
              "  <button class=\"colab-df-quickchart\" onclick=\"quickchart('df-27cdc038-5262-4adb-bbcf-c6a07f5126fd')\"\n",
              "            title=\"Suggest charts\"\n",
              "            style=\"display:none;\">\n",
              "\n",
              "<svg xmlns=\"http://www.w3.org/2000/svg\" height=\"24px\"viewBox=\"0 0 24 24\"\n",
              "     width=\"24px\">\n",
              "    <g>\n",
              "        <path d=\"M19 3H5c-1.1 0-2 .9-2 2v14c0 1.1.9 2 2 2h14c1.1 0 2-.9 2-2V5c0-1.1-.9-2-2-2zM9 17H7v-7h2v7zm4 0h-2V7h2v10zm4 0h-2v-4h2v4z\"/>\n",
              "    </g>\n",
              "</svg>\n",
              "  </button>\n",
              "\n",
              "<style>\n",
              "  .colab-df-quickchart {\n",
              "      --bg-color: #E8F0FE;\n",
              "      --fill-color: #1967D2;\n",
              "      --hover-bg-color: #E2EBFA;\n",
              "      --hover-fill-color: #174EA6;\n",
              "      --disabled-fill-color: #AAA;\n",
              "      --disabled-bg-color: #DDD;\n",
              "  }\n",
              "\n",
              "  [theme=dark] .colab-df-quickchart {\n",
              "      --bg-color: #3B4455;\n",
              "      --fill-color: #D2E3FC;\n",
              "      --hover-bg-color: #434B5C;\n",
              "      --hover-fill-color: #FFFFFF;\n",
              "      --disabled-bg-color: #3B4455;\n",
              "      --disabled-fill-color: #666;\n",
              "  }\n",
              "\n",
              "  .colab-df-quickchart {\n",
              "    background-color: var(--bg-color);\n",
              "    border: none;\n",
              "    border-radius: 50%;\n",
              "    cursor: pointer;\n",
              "    display: none;\n",
              "    fill: var(--fill-color);\n",
              "    height: 32px;\n",
              "    padding: 0;\n",
              "    width: 32px;\n",
              "  }\n",
              "\n",
              "  .colab-df-quickchart:hover {\n",
              "    background-color: var(--hover-bg-color);\n",
              "    box-shadow: 0 1px 2px rgba(60, 64, 67, 0.3), 0 1px 3px 1px rgba(60, 64, 67, 0.15);\n",
              "    fill: var(--button-hover-fill-color);\n",
              "  }\n",
              "\n",
              "  .colab-df-quickchart-complete:disabled,\n",
              "  .colab-df-quickchart-complete:disabled:hover {\n",
              "    background-color: var(--disabled-bg-color);\n",
              "    fill: var(--disabled-fill-color);\n",
              "    box-shadow: none;\n",
              "  }\n",
              "\n",
              "  .colab-df-spinner {\n",
              "    border: 2px solid var(--fill-color);\n",
              "    border-color: transparent;\n",
              "    border-bottom-color: var(--fill-color);\n",
              "    animation:\n",
              "      spin 1s steps(1) infinite;\n",
              "  }\n",
              "\n",
              "  @keyframes spin {\n",
              "    0% {\n",
              "      border-color: transparent;\n",
              "      border-bottom-color: var(--fill-color);\n",
              "      border-left-color: var(--fill-color);\n",
              "    }\n",
              "    20% {\n",
              "      border-color: transparent;\n",
              "      border-left-color: var(--fill-color);\n",
              "      border-top-color: var(--fill-color);\n",
              "    }\n",
              "    30% {\n",
              "      border-color: transparent;\n",
              "      border-left-color: var(--fill-color);\n",
              "      border-top-color: var(--fill-color);\n",
              "      border-right-color: var(--fill-color);\n",
              "    }\n",
              "    40% {\n",
              "      border-color: transparent;\n",
              "      border-right-color: var(--fill-color);\n",
              "      border-top-color: var(--fill-color);\n",
              "    }\n",
              "    60% {\n",
              "      border-color: transparent;\n",
              "      border-right-color: var(--fill-color);\n",
              "    }\n",
              "    80% {\n",
              "      border-color: transparent;\n",
              "      border-right-color: var(--fill-color);\n",
              "      border-bottom-color: var(--fill-color);\n",
              "    }\n",
              "    90% {\n",
              "      border-color: transparent;\n",
              "      border-bottom-color: var(--fill-color);\n",
              "    }\n",
              "  }\n",
              "</style>\n",
              "\n",
              "  <script>\n",
              "    async function quickchart(key) {\n",
              "      const quickchartButtonEl =\n",
              "        document.querySelector('#' + key + ' button');\n",
              "      quickchartButtonEl.disabled = true;  // To prevent multiple clicks.\n",
              "      quickchartButtonEl.classList.add('colab-df-spinner');\n",
              "      try {\n",
              "        const charts = await google.colab.kernel.invokeFunction(\n",
              "            'suggestCharts', [key], {});\n",
              "      } catch (error) {\n",
              "        console.error('Error during call to suggestCharts:', error);\n",
              "      }\n",
              "      quickchartButtonEl.classList.remove('colab-df-spinner');\n",
              "      quickchartButtonEl.classList.add('colab-df-quickchart-complete');\n",
              "    }\n",
              "    (() => {\n",
              "      let quickchartButtonEl =\n",
              "        document.querySelector('#df-27cdc038-5262-4adb-bbcf-c6a07f5126fd button');\n",
              "      quickchartButtonEl.style.display =\n",
              "        google.colab.kernel.accessAllowed ? 'block' : 'none';\n",
              "    })();\n",
              "  </script>\n",
              "</div>\n",
              "\n",
              "    </div>\n",
              "  </div>\n"
            ],
            "application/vnd.google.colaboratory.intrinsic+json": {
              "type": "dataframe",
              "variable_name": "train_df"
            }
          },
          "metadata": {},
          "execution_count": 15
        }
      ],
      "source": [
        "train_df = pd.concat([train, train1], ignore_index=True)\n",
        "\n",
        "# fraction = 0.55\n",
        "# train_df = train_df_unsampled.sample(frac=fraction, random_state=42)\n",
        "\n",
        "train_df.head()"
      ]
    },
    {
      "cell_type": "markdown",
      "source": [
        "Class Label Imbalance"
      ],
      "metadata": {
        "id": "3CePUCHGHn1x"
      }
    },
    {
      "cell_type": "code",
      "source": [
        "neg, pos = train_df['is_fraud'].value_counts()\n",
        "total = neg + pos\n",
        "print('Examples:\\n    Total: {}\\n    Positive: {} ({:.2f}% of total)\\n'.format(\n",
        "    total, pos, 100 * pos / total))"
      ],
      "metadata": {
        "colab": {
          "base_uri": "https://localhost:8080/"
        },
        "id": "gPhSj7jJHVvc",
        "outputId": "9ea8a386-1984-4e57-f014-40d4cbf74450"
      },
      "execution_count": 16,
      "outputs": [
        {
          "output_type": "stream",
          "name": "stdout",
          "text": [
            "Examples:\n",
            "    Total: 2646694\n",
            "    Positive: 9422 (0.36% of total)\n",
            "\n"
          ]
        }
      ]
    },
    {
      "cell_type": "code",
      "source": [
        "# X = train_df.drop('is_fraud', axis=1)\n",
        "# y = train_df['is_fraud']\n",
        "# print(X.shape, y.shape)"
      ],
      "metadata": {
        "id": "6AaAgQTTaxTG"
      },
      "execution_count": 17,
      "outputs": []
    },
    {
      "cell_type": "code",
      "source": [
        "# X_train, X_test, y_train, y_test = train_test_split(X, y, test_size=0.2, random_state=42)\n",
        "# print(X_train.shape, X_test.shape)"
      ],
      "metadata": {
        "id": "hYq9hsiWqdXn"
      },
      "execution_count": 18,
      "outputs": []
    },
    {
      "cell_type": "markdown",
      "source": [
        "Data preprocessing (outside model)"
      ],
      "metadata": {
        "id": "SfR0m3vyEpjB"
      }
    },
    {
      "cell_type": "code",
      "source": [
        "# encoding\n",
        "\n",
        "# ssn: drop dash, convert to int\n",
        "# first: drop\n",
        "# last: drop\n",
        "# gender: onehot encode\n",
        "# city & state: concatenate\n",
        "# job: label encode\n",
        "# dob: drop dash, convert to int\n",
        "# transnum: potentially drop\n",
        "# transdate: drop\n",
        "# transtime: drop\n",
        "# category: label encode\n",
        "# merchant: label encode"
      ],
      "metadata": {
        "id": "bXltsR3zYYus"
      },
      "execution_count": 19,
      "outputs": []
    },
    {
      "cell_type": "code",
      "source": [
        "# conversions\n",
        "train_df['ssn'] = train_df['ssn'].str.replace('-', '').astype(int)\n",
        "train_df['dob'] = train_df['dob'].str.replace('-', '').astype(int)\n",
        "\n",
        "train_df['location'] = train_df['city'] + ', ' + train_df['state']\n",
        "\n",
        "# onehot encode (gender)\n",
        "onehot = OneHotEncoder(sparse_output=False, handle_unknown='ignore')\n",
        "onehot.fit(train_df[['gender']])\n",
        "\n",
        "feature_names = onehot.get_feature_names_out(['gender'])\n",
        "gender_encoded = pd.DataFrame(onehot.transform(train_df[['gender']]), columns=feature_names)\n",
        "\n",
        "# label encode (job, category, merchant)\n",
        "encode_df = train_df[['job', 'category', 'merchant', 'location']]\n",
        "encoder = LabelEncoder()\n",
        "for col in encode_df.columns:\n",
        "    encode_df[col] = encoder.fit_transform(encode_df[col])\n",
        "\n",
        "# drop unneeded columns\n",
        "train_df = train_df.drop(['job', 'category', 'merchant', 'first', 'last', 'trans_num', 'trans_date', 'trans_time', 'city', 'state', 'gender', 'location'], axis=1)\n",
        "train_df.head()\n"
      ],
      "metadata": {
        "colab": {
          "base_uri": "https://localhost:8080/",
          "height": 644
        },
        "id": "_CUDQdalaC1J",
        "outputId": "89cf1fbd-c217-4dca-e258-2a1cf46acfc3"
      },
      "execution_count": 20,
      "outputs": [
        {
          "output_type": "stream",
          "name": "stderr",
          "text": [
            "<ipython-input-20-2f29263f5388>:18: SettingWithCopyWarning: \n",
            "A value is trying to be set on a copy of a slice from a DataFrame.\n",
            "Try using .loc[row_indexer,col_indexer] = value instead\n",
            "\n",
            "See the caveats in the documentation: https://pandas.pydata.org/pandas-docs/stable/user_guide/indexing.html#returning-a-view-versus-a-copy\n",
            "  encode_df[col] = encoder.fit_transform(encode_df[col])\n",
            "<ipython-input-20-2f29263f5388>:18: SettingWithCopyWarning: \n",
            "A value is trying to be set on a copy of a slice from a DataFrame.\n",
            "Try using .loc[row_indexer,col_indexer] = value instead\n",
            "\n",
            "See the caveats in the documentation: https://pandas.pydata.org/pandas-docs/stable/user_guide/indexing.html#returning-a-view-versus-a-copy\n",
            "  encode_df[col] = encoder.fit_transform(encode_df[col])\n",
            "<ipython-input-20-2f29263f5388>:18: SettingWithCopyWarning: \n",
            "A value is trying to be set on a copy of a slice from a DataFrame.\n",
            "Try using .loc[row_indexer,col_indexer] = value instead\n",
            "\n",
            "See the caveats in the documentation: https://pandas.pydata.org/pandas-docs/stable/user_guide/indexing.html#returning-a-view-versus-a-copy\n",
            "  encode_df[col] = encoder.fit_transform(encode_df[col])\n",
            "<ipython-input-20-2f29263f5388>:18: SettingWithCopyWarning: \n",
            "A value is trying to be set on a copy of a slice from a DataFrame.\n",
            "Try using .loc[row_indexer,col_indexer] = value instead\n",
            "\n",
            "See the caveats in the documentation: https://pandas.pydata.org/pandas-docs/stable/user_guide/indexing.html#returning-a-view-versus-a-copy\n",
            "  encode_df[col] = encoder.fit_transform(encode_df[col])\n"
          ]
        },
        {
          "output_type": "execute_result",
          "data": {
            "text/plain": [
              "         ssn            cc_num    zip  city_pop  ...      acct_num   unix_time     amt  is_fraud\n",
              "0  367859826  4361337605230458  74834      7590  ...  349734538563  1627678801  337.54         1\n",
              "1  367859826  4361337605230458  74834      7590  ...  349734538563  1627837661   21.13         1\n",
              "2  367859826  4361337605230458  74834      7590  ...  349734538563  1627839129   22.61         1\n",
              "3  367859826  4361337605230458  74834      7590  ...  349734538563  1627837044   17.32         1\n",
              "4  367859826  4361337605230458  74834      7590  ...  349734538563  1638392331   75.82         0\n",
              "\n",
              "[5 rows x 9 columns]"
            ],
            "text/html": [
              "\n",
              "  <div id=\"df-001ab0c2-de0d-432a-8cfc-085297beb428\" class=\"colab-df-container\">\n",
              "    <div>\n",
              "<style scoped>\n",
              "    .dataframe tbody tr th:only-of-type {\n",
              "        vertical-align: middle;\n",
              "    }\n",
              "\n",
              "    .dataframe tbody tr th {\n",
              "        vertical-align: top;\n",
              "    }\n",
              "\n",
              "    .dataframe thead th {\n",
              "        text-align: right;\n",
              "    }\n",
              "</style>\n",
              "<table border=\"1\" class=\"dataframe\">\n",
              "  <thead>\n",
              "    <tr style=\"text-align: right;\">\n",
              "      <th></th>\n",
              "      <th>ssn</th>\n",
              "      <th>cc_num</th>\n",
              "      <th>zip</th>\n",
              "      <th>city_pop</th>\n",
              "      <th>dob</th>\n",
              "      <th>acct_num</th>\n",
              "      <th>unix_time</th>\n",
              "      <th>amt</th>\n",
              "      <th>is_fraud</th>\n",
              "    </tr>\n",
              "  </thead>\n",
              "  <tbody>\n",
              "    <tr>\n",
              "      <th>0</th>\n",
              "      <td>367859826</td>\n",
              "      <td>4361337605230458</td>\n",
              "      <td>74834</td>\n",
              "      <td>7590</td>\n",
              "      <td>19870612</td>\n",
              "      <td>349734538563</td>\n",
              "      <td>1627678801</td>\n",
              "      <td>337.54</td>\n",
              "      <td>1</td>\n",
              "    </tr>\n",
              "    <tr>\n",
              "      <th>1</th>\n",
              "      <td>367859826</td>\n",
              "      <td>4361337605230458</td>\n",
              "      <td>74834</td>\n",
              "      <td>7590</td>\n",
              "      <td>19870612</td>\n",
              "      <td>349734538563</td>\n",
              "      <td>1627837661</td>\n",
              "      <td>21.13</td>\n",
              "      <td>1</td>\n",
              "    </tr>\n",
              "    <tr>\n",
              "      <th>2</th>\n",
              "      <td>367859826</td>\n",
              "      <td>4361337605230458</td>\n",
              "      <td>74834</td>\n",
              "      <td>7590</td>\n",
              "      <td>19870612</td>\n",
              "      <td>349734538563</td>\n",
              "      <td>1627839129</td>\n",
              "      <td>22.61</td>\n",
              "      <td>1</td>\n",
              "    </tr>\n",
              "    <tr>\n",
              "      <th>3</th>\n",
              "      <td>367859826</td>\n",
              "      <td>4361337605230458</td>\n",
              "      <td>74834</td>\n",
              "      <td>7590</td>\n",
              "      <td>19870612</td>\n",
              "      <td>349734538563</td>\n",
              "      <td>1627837044</td>\n",
              "      <td>17.32</td>\n",
              "      <td>1</td>\n",
              "    </tr>\n",
              "    <tr>\n",
              "      <th>4</th>\n",
              "      <td>367859826</td>\n",
              "      <td>4361337605230458</td>\n",
              "      <td>74834</td>\n",
              "      <td>7590</td>\n",
              "      <td>19870612</td>\n",
              "      <td>349734538563</td>\n",
              "      <td>1638392331</td>\n",
              "      <td>75.82</td>\n",
              "      <td>0</td>\n",
              "    </tr>\n",
              "  </tbody>\n",
              "</table>\n",
              "</div>\n",
              "    <div class=\"colab-df-buttons\">\n",
              "\n",
              "  <div class=\"colab-df-container\">\n",
              "    <button class=\"colab-df-convert\" onclick=\"convertToInteractive('df-001ab0c2-de0d-432a-8cfc-085297beb428')\"\n",
              "            title=\"Convert this dataframe to an interactive table.\"\n",
              "            style=\"display:none;\">\n",
              "\n",
              "  <svg xmlns=\"http://www.w3.org/2000/svg\" height=\"24px\" viewBox=\"0 -960 960 960\">\n",
              "    <path d=\"M120-120v-720h720v720H120Zm60-500h600v-160H180v160Zm220 220h160v-160H400v160Zm0 220h160v-160H400v160ZM180-400h160v-160H180v160Zm440 0h160v-160H620v160ZM180-180h160v-160H180v160Zm440 0h160v-160H620v160Z\"/>\n",
              "  </svg>\n",
              "    </button>\n",
              "\n",
              "  <style>\n",
              "    .colab-df-container {\n",
              "      display:flex;\n",
              "      gap: 12px;\n",
              "    }\n",
              "\n",
              "    .colab-df-convert {\n",
              "      background-color: #E8F0FE;\n",
              "      border: none;\n",
              "      border-radius: 50%;\n",
              "      cursor: pointer;\n",
              "      display: none;\n",
              "      fill: #1967D2;\n",
              "      height: 32px;\n",
              "      padding: 0 0 0 0;\n",
              "      width: 32px;\n",
              "    }\n",
              "\n",
              "    .colab-df-convert:hover {\n",
              "      background-color: #E2EBFA;\n",
              "      box-shadow: 0px 1px 2px rgba(60, 64, 67, 0.3), 0px 1px 3px 1px rgba(60, 64, 67, 0.15);\n",
              "      fill: #174EA6;\n",
              "    }\n",
              "\n",
              "    .colab-df-buttons div {\n",
              "      margin-bottom: 4px;\n",
              "    }\n",
              "\n",
              "    [theme=dark] .colab-df-convert {\n",
              "      background-color: #3B4455;\n",
              "      fill: #D2E3FC;\n",
              "    }\n",
              "\n",
              "    [theme=dark] .colab-df-convert:hover {\n",
              "      background-color: #434B5C;\n",
              "      box-shadow: 0px 1px 3px 1px rgba(0, 0, 0, 0.15);\n",
              "      filter: drop-shadow(0px 1px 2px rgba(0, 0, 0, 0.3));\n",
              "      fill: #FFFFFF;\n",
              "    }\n",
              "  </style>\n",
              "\n",
              "    <script>\n",
              "      const buttonEl =\n",
              "        document.querySelector('#df-001ab0c2-de0d-432a-8cfc-085297beb428 button.colab-df-convert');\n",
              "      buttonEl.style.display =\n",
              "        google.colab.kernel.accessAllowed ? 'block' : 'none';\n",
              "\n",
              "      async function convertToInteractive(key) {\n",
              "        const element = document.querySelector('#df-001ab0c2-de0d-432a-8cfc-085297beb428');\n",
              "        const dataTable =\n",
              "          await google.colab.kernel.invokeFunction('convertToInteractive',\n",
              "                                                    [key], {});\n",
              "        if (!dataTable) return;\n",
              "\n",
              "        const docLinkHtml = 'Like what you see? Visit the ' +\n",
              "          '<a target=\"_blank\" href=https://colab.research.google.com/notebooks/data_table.ipynb>data table notebook</a>'\n",
              "          + ' to learn more about interactive tables.';\n",
              "        element.innerHTML = '';\n",
              "        dataTable['output_type'] = 'display_data';\n",
              "        await google.colab.output.renderOutput(dataTable, element);\n",
              "        const docLink = document.createElement('div');\n",
              "        docLink.innerHTML = docLinkHtml;\n",
              "        element.appendChild(docLink);\n",
              "      }\n",
              "    </script>\n",
              "  </div>\n",
              "\n",
              "\n",
              "<div id=\"df-a49d213c-15f4-4472-a069-a375ddb846c3\">\n",
              "  <button class=\"colab-df-quickchart\" onclick=\"quickchart('df-a49d213c-15f4-4472-a069-a375ddb846c3')\"\n",
              "            title=\"Suggest charts\"\n",
              "            style=\"display:none;\">\n",
              "\n",
              "<svg xmlns=\"http://www.w3.org/2000/svg\" height=\"24px\"viewBox=\"0 0 24 24\"\n",
              "     width=\"24px\">\n",
              "    <g>\n",
              "        <path d=\"M19 3H5c-1.1 0-2 .9-2 2v14c0 1.1.9 2 2 2h14c1.1 0 2-.9 2-2V5c0-1.1-.9-2-2-2zM9 17H7v-7h2v7zm4 0h-2V7h2v10zm4 0h-2v-4h2v4z\"/>\n",
              "    </g>\n",
              "</svg>\n",
              "  </button>\n",
              "\n",
              "<style>\n",
              "  .colab-df-quickchart {\n",
              "      --bg-color: #E8F0FE;\n",
              "      --fill-color: #1967D2;\n",
              "      --hover-bg-color: #E2EBFA;\n",
              "      --hover-fill-color: #174EA6;\n",
              "      --disabled-fill-color: #AAA;\n",
              "      --disabled-bg-color: #DDD;\n",
              "  }\n",
              "\n",
              "  [theme=dark] .colab-df-quickchart {\n",
              "      --bg-color: #3B4455;\n",
              "      --fill-color: #D2E3FC;\n",
              "      --hover-bg-color: #434B5C;\n",
              "      --hover-fill-color: #FFFFFF;\n",
              "      --disabled-bg-color: #3B4455;\n",
              "      --disabled-fill-color: #666;\n",
              "  }\n",
              "\n",
              "  .colab-df-quickchart {\n",
              "    background-color: var(--bg-color);\n",
              "    border: none;\n",
              "    border-radius: 50%;\n",
              "    cursor: pointer;\n",
              "    display: none;\n",
              "    fill: var(--fill-color);\n",
              "    height: 32px;\n",
              "    padding: 0;\n",
              "    width: 32px;\n",
              "  }\n",
              "\n",
              "  .colab-df-quickchart:hover {\n",
              "    background-color: var(--hover-bg-color);\n",
              "    box-shadow: 0 1px 2px rgba(60, 64, 67, 0.3), 0 1px 3px 1px rgba(60, 64, 67, 0.15);\n",
              "    fill: var(--button-hover-fill-color);\n",
              "  }\n",
              "\n",
              "  .colab-df-quickchart-complete:disabled,\n",
              "  .colab-df-quickchart-complete:disabled:hover {\n",
              "    background-color: var(--disabled-bg-color);\n",
              "    fill: var(--disabled-fill-color);\n",
              "    box-shadow: none;\n",
              "  }\n",
              "\n",
              "  .colab-df-spinner {\n",
              "    border: 2px solid var(--fill-color);\n",
              "    border-color: transparent;\n",
              "    border-bottom-color: var(--fill-color);\n",
              "    animation:\n",
              "      spin 1s steps(1) infinite;\n",
              "  }\n",
              "\n",
              "  @keyframes spin {\n",
              "    0% {\n",
              "      border-color: transparent;\n",
              "      border-bottom-color: var(--fill-color);\n",
              "      border-left-color: var(--fill-color);\n",
              "    }\n",
              "    20% {\n",
              "      border-color: transparent;\n",
              "      border-left-color: var(--fill-color);\n",
              "      border-top-color: var(--fill-color);\n",
              "    }\n",
              "    30% {\n",
              "      border-color: transparent;\n",
              "      border-left-color: var(--fill-color);\n",
              "      border-top-color: var(--fill-color);\n",
              "      border-right-color: var(--fill-color);\n",
              "    }\n",
              "    40% {\n",
              "      border-color: transparent;\n",
              "      border-right-color: var(--fill-color);\n",
              "      border-top-color: var(--fill-color);\n",
              "    }\n",
              "    60% {\n",
              "      border-color: transparent;\n",
              "      border-right-color: var(--fill-color);\n",
              "    }\n",
              "    80% {\n",
              "      border-color: transparent;\n",
              "      border-right-color: var(--fill-color);\n",
              "      border-bottom-color: var(--fill-color);\n",
              "    }\n",
              "    90% {\n",
              "      border-color: transparent;\n",
              "      border-bottom-color: var(--fill-color);\n",
              "    }\n",
              "  }\n",
              "</style>\n",
              "\n",
              "  <script>\n",
              "    async function quickchart(key) {\n",
              "      const quickchartButtonEl =\n",
              "        document.querySelector('#' + key + ' button');\n",
              "      quickchartButtonEl.disabled = true;  // To prevent multiple clicks.\n",
              "      quickchartButtonEl.classList.add('colab-df-spinner');\n",
              "      try {\n",
              "        const charts = await google.colab.kernel.invokeFunction(\n",
              "            'suggestCharts', [key], {});\n",
              "      } catch (error) {\n",
              "        console.error('Error during call to suggestCharts:', error);\n",
              "      }\n",
              "      quickchartButtonEl.classList.remove('colab-df-spinner');\n",
              "      quickchartButtonEl.classList.add('colab-df-quickchart-complete');\n",
              "    }\n",
              "    (() => {\n",
              "      let quickchartButtonEl =\n",
              "        document.querySelector('#df-a49d213c-15f4-4472-a069-a375ddb846c3 button');\n",
              "      quickchartButtonEl.style.display =\n",
              "        google.colab.kernel.accessAllowed ? 'block' : 'none';\n",
              "    })();\n",
              "  </script>\n",
              "</div>\n",
              "\n",
              "    </div>\n",
              "  </div>\n"
            ],
            "application/vnd.google.colaboratory.intrinsic+json": {
              "type": "dataframe",
              "variable_name": "train_df"
            }
          },
          "metadata": {},
          "execution_count": 20
        }
      ]
    },
    {
      "cell_type": "code",
      "source": [
        "final_df = pd.concat([train_df, gender_encoded, encode_df], axis=1)\n",
        "final_df.head()"
      ],
      "metadata": {
        "colab": {
          "base_uri": "https://localhost:8080/",
          "height": 206
        },
        "id": "4-nFiyd2kIUv",
        "outputId": "9bbd49e7-0fd9-4dc7-eb71-d0e40a37b88e"
      },
      "execution_count": 21,
      "outputs": [
        {
          "output_type": "execute_result",
          "data": {
            "text/plain": [
              "         ssn            cc_num    zip  city_pop  ...  job  category  merchant  location\n",
              "0  367859826  4361337605230458  74834      7590  ...   72         4       317       116\n",
              "1  367859826  4361337605230458  74834      7590  ...   72        10        67       116\n",
              "2  367859826  4361337605230458  74834      7590  ...   72        10       320       116\n",
              "3  367859826  4361337605230458  74834      7590  ...   72         5       238       116\n",
              "4  367859826  4361337605230458  74834      7590  ...   72         9       283       116\n",
              "\n",
              "[5 rows x 15 columns]"
            ],
            "text/html": [
              "\n",
              "  <div id=\"df-0fa2329e-1b34-4fd8-9f46-84602cfa8588\" class=\"colab-df-container\">\n",
              "    <div>\n",
              "<style scoped>\n",
              "    .dataframe tbody tr th:only-of-type {\n",
              "        vertical-align: middle;\n",
              "    }\n",
              "\n",
              "    .dataframe tbody tr th {\n",
              "        vertical-align: top;\n",
              "    }\n",
              "\n",
              "    .dataframe thead th {\n",
              "        text-align: right;\n",
              "    }\n",
              "</style>\n",
              "<table border=\"1\" class=\"dataframe\">\n",
              "  <thead>\n",
              "    <tr style=\"text-align: right;\">\n",
              "      <th></th>\n",
              "      <th>ssn</th>\n",
              "      <th>cc_num</th>\n",
              "      <th>zip</th>\n",
              "      <th>city_pop</th>\n",
              "      <th>dob</th>\n",
              "      <th>acct_num</th>\n",
              "      <th>unix_time</th>\n",
              "      <th>amt</th>\n",
              "      <th>is_fraud</th>\n",
              "      <th>gender_F</th>\n",
              "      <th>gender_M</th>\n",
              "      <th>job</th>\n",
              "      <th>category</th>\n",
              "      <th>merchant</th>\n",
              "      <th>location</th>\n",
              "    </tr>\n",
              "  </thead>\n",
              "  <tbody>\n",
              "    <tr>\n",
              "      <th>0</th>\n",
              "      <td>367859826</td>\n",
              "      <td>4361337605230458</td>\n",
              "      <td>74834</td>\n",
              "      <td>7590</td>\n",
              "      <td>19870612</td>\n",
              "      <td>349734538563</td>\n",
              "      <td>1627678801</td>\n",
              "      <td>337.54</td>\n",
              "      <td>1</td>\n",
              "      <td>1.0</td>\n",
              "      <td>0.0</td>\n",
              "      <td>72</td>\n",
              "      <td>4</td>\n",
              "      <td>317</td>\n",
              "      <td>116</td>\n",
              "    </tr>\n",
              "    <tr>\n",
              "      <th>1</th>\n",
              "      <td>367859826</td>\n",
              "      <td>4361337605230458</td>\n",
              "      <td>74834</td>\n",
              "      <td>7590</td>\n",
              "      <td>19870612</td>\n",
              "      <td>349734538563</td>\n",
              "      <td>1627837661</td>\n",
              "      <td>21.13</td>\n",
              "      <td>1</td>\n",
              "      <td>1.0</td>\n",
              "      <td>0.0</td>\n",
              "      <td>72</td>\n",
              "      <td>10</td>\n",
              "      <td>67</td>\n",
              "      <td>116</td>\n",
              "    </tr>\n",
              "    <tr>\n",
              "      <th>2</th>\n",
              "      <td>367859826</td>\n",
              "      <td>4361337605230458</td>\n",
              "      <td>74834</td>\n",
              "      <td>7590</td>\n",
              "      <td>19870612</td>\n",
              "      <td>349734538563</td>\n",
              "      <td>1627839129</td>\n",
              "      <td>22.61</td>\n",
              "      <td>1</td>\n",
              "      <td>1.0</td>\n",
              "      <td>0.0</td>\n",
              "      <td>72</td>\n",
              "      <td>10</td>\n",
              "      <td>320</td>\n",
              "      <td>116</td>\n",
              "    </tr>\n",
              "    <tr>\n",
              "      <th>3</th>\n",
              "      <td>367859826</td>\n",
              "      <td>4361337605230458</td>\n",
              "      <td>74834</td>\n",
              "      <td>7590</td>\n",
              "      <td>19870612</td>\n",
              "      <td>349734538563</td>\n",
              "      <td>1627837044</td>\n",
              "      <td>17.32</td>\n",
              "      <td>1</td>\n",
              "      <td>1.0</td>\n",
              "      <td>0.0</td>\n",
              "      <td>72</td>\n",
              "      <td>5</td>\n",
              "      <td>238</td>\n",
              "      <td>116</td>\n",
              "    </tr>\n",
              "    <tr>\n",
              "      <th>4</th>\n",
              "      <td>367859826</td>\n",
              "      <td>4361337605230458</td>\n",
              "      <td>74834</td>\n",
              "      <td>7590</td>\n",
              "      <td>19870612</td>\n",
              "      <td>349734538563</td>\n",
              "      <td>1638392331</td>\n",
              "      <td>75.82</td>\n",
              "      <td>0</td>\n",
              "      <td>1.0</td>\n",
              "      <td>0.0</td>\n",
              "      <td>72</td>\n",
              "      <td>9</td>\n",
              "      <td>283</td>\n",
              "      <td>116</td>\n",
              "    </tr>\n",
              "  </tbody>\n",
              "</table>\n",
              "</div>\n",
              "    <div class=\"colab-df-buttons\">\n",
              "\n",
              "  <div class=\"colab-df-container\">\n",
              "    <button class=\"colab-df-convert\" onclick=\"convertToInteractive('df-0fa2329e-1b34-4fd8-9f46-84602cfa8588')\"\n",
              "            title=\"Convert this dataframe to an interactive table.\"\n",
              "            style=\"display:none;\">\n",
              "\n",
              "  <svg xmlns=\"http://www.w3.org/2000/svg\" height=\"24px\" viewBox=\"0 -960 960 960\">\n",
              "    <path d=\"M120-120v-720h720v720H120Zm60-500h600v-160H180v160Zm220 220h160v-160H400v160Zm0 220h160v-160H400v160ZM180-400h160v-160H180v160Zm440 0h160v-160H620v160ZM180-180h160v-160H180v160Zm440 0h160v-160H620v160Z\"/>\n",
              "  </svg>\n",
              "    </button>\n",
              "\n",
              "  <style>\n",
              "    .colab-df-container {\n",
              "      display:flex;\n",
              "      gap: 12px;\n",
              "    }\n",
              "\n",
              "    .colab-df-convert {\n",
              "      background-color: #E8F0FE;\n",
              "      border: none;\n",
              "      border-radius: 50%;\n",
              "      cursor: pointer;\n",
              "      display: none;\n",
              "      fill: #1967D2;\n",
              "      height: 32px;\n",
              "      padding: 0 0 0 0;\n",
              "      width: 32px;\n",
              "    }\n",
              "\n",
              "    .colab-df-convert:hover {\n",
              "      background-color: #E2EBFA;\n",
              "      box-shadow: 0px 1px 2px rgba(60, 64, 67, 0.3), 0px 1px 3px 1px rgba(60, 64, 67, 0.15);\n",
              "      fill: #174EA6;\n",
              "    }\n",
              "\n",
              "    .colab-df-buttons div {\n",
              "      margin-bottom: 4px;\n",
              "    }\n",
              "\n",
              "    [theme=dark] .colab-df-convert {\n",
              "      background-color: #3B4455;\n",
              "      fill: #D2E3FC;\n",
              "    }\n",
              "\n",
              "    [theme=dark] .colab-df-convert:hover {\n",
              "      background-color: #434B5C;\n",
              "      box-shadow: 0px 1px 3px 1px rgba(0, 0, 0, 0.15);\n",
              "      filter: drop-shadow(0px 1px 2px rgba(0, 0, 0, 0.3));\n",
              "      fill: #FFFFFF;\n",
              "    }\n",
              "  </style>\n",
              "\n",
              "    <script>\n",
              "      const buttonEl =\n",
              "        document.querySelector('#df-0fa2329e-1b34-4fd8-9f46-84602cfa8588 button.colab-df-convert');\n",
              "      buttonEl.style.display =\n",
              "        google.colab.kernel.accessAllowed ? 'block' : 'none';\n",
              "\n",
              "      async function convertToInteractive(key) {\n",
              "        const element = document.querySelector('#df-0fa2329e-1b34-4fd8-9f46-84602cfa8588');\n",
              "        const dataTable =\n",
              "          await google.colab.kernel.invokeFunction('convertToInteractive',\n",
              "                                                    [key], {});\n",
              "        if (!dataTable) return;\n",
              "\n",
              "        const docLinkHtml = 'Like what you see? Visit the ' +\n",
              "          '<a target=\"_blank\" href=https://colab.research.google.com/notebooks/data_table.ipynb>data table notebook</a>'\n",
              "          + ' to learn more about interactive tables.';\n",
              "        element.innerHTML = '';\n",
              "        dataTable['output_type'] = 'display_data';\n",
              "        await google.colab.output.renderOutput(dataTable, element);\n",
              "        const docLink = document.createElement('div');\n",
              "        docLink.innerHTML = docLinkHtml;\n",
              "        element.appendChild(docLink);\n",
              "      }\n",
              "    </script>\n",
              "  </div>\n",
              "\n",
              "\n",
              "<div id=\"df-9323968b-7eb3-4dbf-a4df-56b21145f5c3\">\n",
              "  <button class=\"colab-df-quickchart\" onclick=\"quickchart('df-9323968b-7eb3-4dbf-a4df-56b21145f5c3')\"\n",
              "            title=\"Suggest charts\"\n",
              "            style=\"display:none;\">\n",
              "\n",
              "<svg xmlns=\"http://www.w3.org/2000/svg\" height=\"24px\"viewBox=\"0 0 24 24\"\n",
              "     width=\"24px\">\n",
              "    <g>\n",
              "        <path d=\"M19 3H5c-1.1 0-2 .9-2 2v14c0 1.1.9 2 2 2h14c1.1 0 2-.9 2-2V5c0-1.1-.9-2-2-2zM9 17H7v-7h2v7zm4 0h-2V7h2v10zm4 0h-2v-4h2v4z\"/>\n",
              "    </g>\n",
              "</svg>\n",
              "  </button>\n",
              "\n",
              "<style>\n",
              "  .colab-df-quickchart {\n",
              "      --bg-color: #E8F0FE;\n",
              "      --fill-color: #1967D2;\n",
              "      --hover-bg-color: #E2EBFA;\n",
              "      --hover-fill-color: #174EA6;\n",
              "      --disabled-fill-color: #AAA;\n",
              "      --disabled-bg-color: #DDD;\n",
              "  }\n",
              "\n",
              "  [theme=dark] .colab-df-quickchart {\n",
              "      --bg-color: #3B4455;\n",
              "      --fill-color: #D2E3FC;\n",
              "      --hover-bg-color: #434B5C;\n",
              "      --hover-fill-color: #FFFFFF;\n",
              "      --disabled-bg-color: #3B4455;\n",
              "      --disabled-fill-color: #666;\n",
              "  }\n",
              "\n",
              "  .colab-df-quickchart {\n",
              "    background-color: var(--bg-color);\n",
              "    border: none;\n",
              "    border-radius: 50%;\n",
              "    cursor: pointer;\n",
              "    display: none;\n",
              "    fill: var(--fill-color);\n",
              "    height: 32px;\n",
              "    padding: 0;\n",
              "    width: 32px;\n",
              "  }\n",
              "\n",
              "  .colab-df-quickchart:hover {\n",
              "    background-color: var(--hover-bg-color);\n",
              "    box-shadow: 0 1px 2px rgba(60, 64, 67, 0.3), 0 1px 3px 1px rgba(60, 64, 67, 0.15);\n",
              "    fill: var(--button-hover-fill-color);\n",
              "  }\n",
              "\n",
              "  .colab-df-quickchart-complete:disabled,\n",
              "  .colab-df-quickchart-complete:disabled:hover {\n",
              "    background-color: var(--disabled-bg-color);\n",
              "    fill: var(--disabled-fill-color);\n",
              "    box-shadow: none;\n",
              "  }\n",
              "\n",
              "  .colab-df-spinner {\n",
              "    border: 2px solid var(--fill-color);\n",
              "    border-color: transparent;\n",
              "    border-bottom-color: var(--fill-color);\n",
              "    animation:\n",
              "      spin 1s steps(1) infinite;\n",
              "  }\n",
              "\n",
              "  @keyframes spin {\n",
              "    0% {\n",
              "      border-color: transparent;\n",
              "      border-bottom-color: var(--fill-color);\n",
              "      border-left-color: var(--fill-color);\n",
              "    }\n",
              "    20% {\n",
              "      border-color: transparent;\n",
              "      border-left-color: var(--fill-color);\n",
              "      border-top-color: var(--fill-color);\n",
              "    }\n",
              "    30% {\n",
              "      border-color: transparent;\n",
              "      border-left-color: var(--fill-color);\n",
              "      border-top-color: var(--fill-color);\n",
              "      border-right-color: var(--fill-color);\n",
              "    }\n",
              "    40% {\n",
              "      border-color: transparent;\n",
              "      border-right-color: var(--fill-color);\n",
              "      border-top-color: var(--fill-color);\n",
              "    }\n",
              "    60% {\n",
              "      border-color: transparent;\n",
              "      border-right-color: var(--fill-color);\n",
              "    }\n",
              "    80% {\n",
              "      border-color: transparent;\n",
              "      border-right-color: var(--fill-color);\n",
              "      border-bottom-color: var(--fill-color);\n",
              "    }\n",
              "    90% {\n",
              "      border-color: transparent;\n",
              "      border-bottom-color: var(--fill-color);\n",
              "    }\n",
              "  }\n",
              "</style>\n",
              "\n",
              "  <script>\n",
              "    async function quickchart(key) {\n",
              "      const quickchartButtonEl =\n",
              "        document.querySelector('#' + key + ' button');\n",
              "      quickchartButtonEl.disabled = true;  // To prevent multiple clicks.\n",
              "      quickchartButtonEl.classList.add('colab-df-spinner');\n",
              "      try {\n",
              "        const charts = await google.colab.kernel.invokeFunction(\n",
              "            'suggestCharts', [key], {});\n",
              "      } catch (error) {\n",
              "        console.error('Error during call to suggestCharts:', error);\n",
              "      }\n",
              "      quickchartButtonEl.classList.remove('colab-df-spinner');\n",
              "      quickchartButtonEl.classList.add('colab-df-quickchart-complete');\n",
              "    }\n",
              "    (() => {\n",
              "      let quickchartButtonEl =\n",
              "        document.querySelector('#df-9323968b-7eb3-4dbf-a4df-56b21145f5c3 button');\n",
              "      quickchartButtonEl.style.display =\n",
              "        google.colab.kernel.accessAllowed ? 'block' : 'none';\n",
              "    })();\n",
              "  </script>\n",
              "</div>\n",
              "\n",
              "    </div>\n",
              "  </div>\n"
            ],
            "application/vnd.google.colaboratory.intrinsic+json": {
              "type": "dataframe",
              "variable_name": "final_df"
            }
          },
          "metadata": {},
          "execution_count": 21
        }
      ]
    },
    {
      "cell_type": "code",
      "source": [
        "train_df, test_df = train_test_split(final_df, test_size=0.2, random_state=42)\n",
        "train_df, val_df = train_test_split(train_df, test_size=0.2, random_state=42)\n",
        "\n",
        "train_labels = np.array(train_df.pop('is_fraud')).reshape(-1,1)\n",
        "val_labels = np.array(val_df.pop('is_fraud')).reshape(-1,1)\n",
        "test_labels = np.array(test_df.pop('is_fraud')).reshape(-1,1)\n",
        "\n",
        "train_features = np.array(train_df)\n",
        "val_features = np.array(val_df)\n",
        "test_features = np.array(test_df)\n",
        "\n",
        "print(train_labels.shape, val_labels.shape, test_labels.shape)\n",
        "\n",
        "print(f'Average class probability in train set: {train_labels.mean():.3f}')\n",
        "print(f'Average class probability in val set: {val_labels.mean():.3f}')\n",
        "print(f'Average class probability in test set: {test_labels.mean():.3f}')"
      ],
      "metadata": {
        "colab": {
          "base_uri": "https://localhost:8080/"
        },
        "id": "Bq6404gJMN3A",
        "outputId": "3de1c553-73ff-45cf-c0ac-e85f69b60990"
      },
      "execution_count": 22,
      "outputs": [
        {
          "output_type": "stream",
          "name": "stdout",
          "text": [
            "(1693884, 1) (423471, 1) (529339, 1)\n",
            "Average class probability in train set: 0.004\n",
            "Average class probability in val set: 0.004\n",
            "Average class probability in test set: 0.004\n"
          ]
        }
      ]
    },
    {
      "cell_type": "code",
      "source": [
        "scaler = StandardScaler()\n",
        "train_features = scaler.fit_transform(train_features)\n",
        "\n",
        "val_features = scaler.transform(val_features)\n",
        "test_features = scaler.transform(test_features)\n",
        "\n",
        "train_features = np.clip(train_features, -5, 5)\n",
        "val_features = np.clip(val_features, -5, 5)\n",
        "test_features = np.clip(test_features, -5, 5)\n",
        "\n",
        "\n",
        "print('Training labels shape:', train_labels.shape)\n",
        "print('Validation labels shape:', val_labels.shape)\n",
        "print('Test labels shape:', test_labels.shape)\n",
        "\n",
        "print('Training features shape:', train_features.shape)\n",
        "print('Validation features shape:', val_features.shape)\n",
        "print('Test features shape:', test_features.shape)"
      ],
      "metadata": {
        "colab": {
          "base_uri": "https://localhost:8080/"
        },
        "id": "kbOyvp0BSn6t",
        "outputId": "c89a008f-3f4d-442e-e877-6f98a3303159"
      },
      "execution_count": 23,
      "outputs": [
        {
          "output_type": "stream",
          "name": "stdout",
          "text": [
            "Training labels shape: (1693884, 1)\n",
            "Validation labels shape: (423471, 1)\n",
            "Test labels shape: (529339, 1)\n",
            "Training features shape: (1693884, 14)\n",
            "Validation features shape: (423471, 14)\n",
            "Test features shape: (529339, 14)\n"
          ]
        }
      ]
    },
    {
      "cell_type": "markdown",
      "source": [
        "## Define model"
      ],
      "metadata": {
        "id": "VqP54D69cKYo"
      }
    },
    {
      "cell_type": "code",
      "source": [
        "METRICS = [\n",
        "\n",
        "      keras.metrics.BinaryCrossentropy(name='cross entropy'),  # same as model's loss\n",
        "      keras.metrics.MeanSquaredError(name='Brier score'),\n",
        "      keras.metrics.TruePositives(name='tp'),\n",
        "      keras.metrics.FalsePositives(name='fp'),\n",
        "      keras.metrics.TrueNegatives(name='tn'),\n",
        "      keras.metrics.FalseNegatives(name='fn'),\n",
        "      keras.metrics.BinaryAccuracy(name='accuracy'),\n",
        "      keras.metrics.Precision(name='precision'),\n",
        "      keras.metrics.Recall(name='recall'),\n",
        "      keras.metrics.AUC(name='auc'),\n",
        "      keras.metrics.AUC(name='prc', curve='PR'), # precision-recall curve\n",
        "]\n",
        "\n",
        "def make_model(metrics=METRICS, output_bias=None):\n",
        "  if output_bias is not None:\n",
        "    output_bias = tf.keras.initializers.Constant(output_bias)\n",
        "  model = keras.Sequential([\n",
        "      keras.layers.Dense(128, activation='relu', input_shape=(train_features.shape[-1],)),\n",
        "      keras.layers.Dropout(0.5),\n",
        "      keras.layers.Dense(64, activation='relu'),\n",
        "      keras.layers.Dropout(0.5),\n",
        "      keras.layers.Dense(32, activation='relu'),\n",
        "      keras.layers.Dropout(0.5),\n",
        "      keras.layers.Dense(16, activation='relu'),\n",
        "      keras.layers.Dropout(0.5),\n",
        "      keras.layers.Dense(8, activation='relu'),\n",
        "      keras.layers.Dense(1, activation='sigmoid',\n",
        "                         bias_initializer=output_bias),\n",
        "  ])\n",
        "\n",
        "  model.compile(\n",
        "      optimizer=keras.optimizers.Adam(learning_rate=1e-3),\n",
        "      loss=keras.losses.BinaryCrossentropy(),\n",
        "      metrics=METRICS)\n",
        "\n",
        "  return model"
      ],
      "metadata": {
        "id": "eQHpc26hib75"
      },
      "execution_count": 27,
      "outputs": []
    },
    {
      "cell_type": "markdown",
      "source": [
        "## Baseline Model"
      ],
      "metadata": {
        "id": "vStwHS2BcSFN"
      }
    },
    {
      "cell_type": "markdown",
      "source": [
        "Early Stopping"
      ],
      "metadata": {
        "id": "JajlhlAm2Pil"
      }
    },
    {
      "cell_type": "code",
      "source": [
        "EPOCHS = 100\n",
        "BATCH_SIZE = 2048\n",
        "\n",
        "def early_stopping():\n",
        " return tf.keras.callbacks.EarlyStopping(\n",
        "    monitor='val_prc',\n",
        "    verbose=1,\n",
        "    patience=15,\n",
        "    mode='max',\n",
        "    restore_best_weights=True)"
      ],
      "metadata": {
        "id": "SqQgifH0cGea"
      },
      "execution_count": 28,
      "outputs": []
    },
    {
      "cell_type": "code",
      "source": [
        "model = make_model()\n",
        "model.summary()"
      ],
      "metadata": {
        "colab": {
          "base_uri": "https://localhost:8080/",
          "height": 505
        },
        "id": "U7ZGRJUKcdUn",
        "outputId": "652408a9-2040-4a59-89af-48d1afc5c0e0"
      },
      "execution_count": 29,
      "outputs": [
        {
          "output_type": "stream",
          "name": "stderr",
          "text": [
            "/usr/local/lib/python3.11/dist-packages/keras/src/layers/core/dense.py:87: UserWarning: Do not pass an `input_shape`/`input_dim` argument to a layer. When using Sequential models, prefer using an `Input(shape)` object as the first layer in the model instead.\n",
            "  super().__init__(activity_regularizer=activity_regularizer, **kwargs)\n"
          ]
        },
        {
          "output_type": "display_data",
          "data": {
            "text/plain": [
              "\u001b[1mModel: \"sequential_1\"\u001b[0m\n"
            ],
            "text/html": [
              "<pre style=\"white-space:pre;overflow-x:auto;line-height:normal;font-family:Menlo,'DejaVu Sans Mono',consolas,'Courier New',monospace\"><span style=\"font-weight: bold\">Model: \"sequential_1\"</span>\n",
              "</pre>\n"
            ]
          },
          "metadata": {}
        },
        {
          "output_type": "display_data",
          "data": {
            "text/plain": [
              "┏━━━━━━━━━━━━━━━━━━━━━━━━━━━━━━━━━━━━━━┳━━━━━━━━━━━━━━━━━━━━━━━━━━━━━┳━━━━━━━━━━━━━━━━━┓\n",
              "┃\u001b[1m \u001b[0m\u001b[1mLayer (type)                        \u001b[0m\u001b[1m \u001b[0m┃\u001b[1m \u001b[0m\u001b[1mOutput Shape               \u001b[0m\u001b[1m \u001b[0m┃\u001b[1m \u001b[0m\u001b[1m        Param #\u001b[0m\u001b[1m \u001b[0m┃\n",
              "┡━━━━━━━━━━━━━━━━━━━━━━━━━━━━━━━━━━━━━━╇━━━━━━━━━━━━━━━━━━━━━━━━━━━━━╇━━━━━━━━━━━━━━━━━┩\n",
              "│ dense_3 (\u001b[38;5;33mDense\u001b[0m)                      │ (\u001b[38;5;45mNone\u001b[0m, \u001b[38;5;34m128\u001b[0m)                 │           \u001b[38;5;34m1,920\u001b[0m │\n",
              "├──────────────────────────────────────┼─────────────────────────────┼─────────────────┤\n",
              "│ dropout_2 (\u001b[38;5;33mDropout\u001b[0m)                  │ (\u001b[38;5;45mNone\u001b[0m, \u001b[38;5;34m128\u001b[0m)                 │               \u001b[38;5;34m0\u001b[0m │\n",
              "├──────────────────────────────────────┼─────────────────────────────┼─────────────────┤\n",
              "│ dense_4 (\u001b[38;5;33mDense\u001b[0m)                      │ (\u001b[38;5;45mNone\u001b[0m, \u001b[38;5;34m64\u001b[0m)                  │           \u001b[38;5;34m8,256\u001b[0m │\n",
              "├──────────────────────────────────────┼─────────────────────────────┼─────────────────┤\n",
              "│ dropout_3 (\u001b[38;5;33mDropout\u001b[0m)                  │ (\u001b[38;5;45mNone\u001b[0m, \u001b[38;5;34m64\u001b[0m)                  │               \u001b[38;5;34m0\u001b[0m │\n",
              "├──────────────────────────────────────┼─────────────────────────────┼─────────────────┤\n",
              "│ dense_5 (\u001b[38;5;33mDense\u001b[0m)                      │ (\u001b[38;5;45mNone\u001b[0m, \u001b[38;5;34m32\u001b[0m)                  │           \u001b[38;5;34m2,080\u001b[0m │\n",
              "├──────────────────────────────────────┼─────────────────────────────┼─────────────────┤\n",
              "│ dropout_4 (\u001b[38;5;33mDropout\u001b[0m)                  │ (\u001b[38;5;45mNone\u001b[0m, \u001b[38;5;34m32\u001b[0m)                  │               \u001b[38;5;34m0\u001b[0m │\n",
              "├──────────────────────────────────────┼─────────────────────────────┼─────────────────┤\n",
              "│ dense_6 (\u001b[38;5;33mDense\u001b[0m)                      │ (\u001b[38;5;45mNone\u001b[0m, \u001b[38;5;34m16\u001b[0m)                  │             \u001b[38;5;34m528\u001b[0m │\n",
              "├──────────────────────────────────────┼─────────────────────────────┼─────────────────┤\n",
              "│ dropout_5 (\u001b[38;5;33mDropout\u001b[0m)                  │ (\u001b[38;5;45mNone\u001b[0m, \u001b[38;5;34m16\u001b[0m)                  │               \u001b[38;5;34m0\u001b[0m │\n",
              "├──────────────────────────────────────┼─────────────────────────────┼─────────────────┤\n",
              "│ dense_7 (\u001b[38;5;33mDense\u001b[0m)                      │ (\u001b[38;5;45mNone\u001b[0m, \u001b[38;5;34m8\u001b[0m)                   │             \u001b[38;5;34m136\u001b[0m │\n",
              "├──────────────────────────────────────┼─────────────────────────────┼─────────────────┤\n",
              "│ dense_8 (\u001b[38;5;33mDense\u001b[0m)                      │ (\u001b[38;5;45mNone\u001b[0m, \u001b[38;5;34m1\u001b[0m)                   │               \u001b[38;5;34m9\u001b[0m │\n",
              "└──────────────────────────────────────┴─────────────────────────────┴─────────────────┘\n"
            ],
            "text/html": [
              "<pre style=\"white-space:pre;overflow-x:auto;line-height:normal;font-family:Menlo,'DejaVu Sans Mono',consolas,'Courier New',monospace\">┏━━━━━━━━━━━━━━━━━━━━━━━━━━━━━━━━━━━━━━┳━━━━━━━━━━━━━━━━━━━━━━━━━━━━━┳━━━━━━━━━━━━━━━━━┓\n",
              "┃<span style=\"font-weight: bold\"> Layer (type)                         </span>┃<span style=\"font-weight: bold\"> Output Shape                </span>┃<span style=\"font-weight: bold\">         Param # </span>┃\n",
              "┡━━━━━━━━━━━━━━━━━━━━━━━━━━━━━━━━━━━━━━╇━━━━━━━━━━━━━━━━━━━━━━━━━━━━━╇━━━━━━━━━━━━━━━━━┩\n",
              "│ dense_3 (<span style=\"color: #0087ff; text-decoration-color: #0087ff\">Dense</span>)                      │ (<span style=\"color: #00d7ff; text-decoration-color: #00d7ff\">None</span>, <span style=\"color: #00af00; text-decoration-color: #00af00\">128</span>)                 │           <span style=\"color: #00af00; text-decoration-color: #00af00\">1,920</span> │\n",
              "├──────────────────────────────────────┼─────────────────────────────┼─────────────────┤\n",
              "│ dropout_2 (<span style=\"color: #0087ff; text-decoration-color: #0087ff\">Dropout</span>)                  │ (<span style=\"color: #00d7ff; text-decoration-color: #00d7ff\">None</span>, <span style=\"color: #00af00; text-decoration-color: #00af00\">128</span>)                 │               <span style=\"color: #00af00; text-decoration-color: #00af00\">0</span> │\n",
              "├──────────────────────────────────────┼─────────────────────────────┼─────────────────┤\n",
              "│ dense_4 (<span style=\"color: #0087ff; text-decoration-color: #0087ff\">Dense</span>)                      │ (<span style=\"color: #00d7ff; text-decoration-color: #00d7ff\">None</span>, <span style=\"color: #00af00; text-decoration-color: #00af00\">64</span>)                  │           <span style=\"color: #00af00; text-decoration-color: #00af00\">8,256</span> │\n",
              "├──────────────────────────────────────┼─────────────────────────────┼─────────────────┤\n",
              "│ dropout_3 (<span style=\"color: #0087ff; text-decoration-color: #0087ff\">Dropout</span>)                  │ (<span style=\"color: #00d7ff; text-decoration-color: #00d7ff\">None</span>, <span style=\"color: #00af00; text-decoration-color: #00af00\">64</span>)                  │               <span style=\"color: #00af00; text-decoration-color: #00af00\">0</span> │\n",
              "├──────────────────────────────────────┼─────────────────────────────┼─────────────────┤\n",
              "│ dense_5 (<span style=\"color: #0087ff; text-decoration-color: #0087ff\">Dense</span>)                      │ (<span style=\"color: #00d7ff; text-decoration-color: #00d7ff\">None</span>, <span style=\"color: #00af00; text-decoration-color: #00af00\">32</span>)                  │           <span style=\"color: #00af00; text-decoration-color: #00af00\">2,080</span> │\n",
              "├──────────────────────────────────────┼─────────────────────────────┼─────────────────┤\n",
              "│ dropout_4 (<span style=\"color: #0087ff; text-decoration-color: #0087ff\">Dropout</span>)                  │ (<span style=\"color: #00d7ff; text-decoration-color: #00d7ff\">None</span>, <span style=\"color: #00af00; text-decoration-color: #00af00\">32</span>)                  │               <span style=\"color: #00af00; text-decoration-color: #00af00\">0</span> │\n",
              "├──────────────────────────────────────┼─────────────────────────────┼─────────────────┤\n",
              "│ dense_6 (<span style=\"color: #0087ff; text-decoration-color: #0087ff\">Dense</span>)                      │ (<span style=\"color: #00d7ff; text-decoration-color: #00d7ff\">None</span>, <span style=\"color: #00af00; text-decoration-color: #00af00\">16</span>)                  │             <span style=\"color: #00af00; text-decoration-color: #00af00\">528</span> │\n",
              "├──────────────────────────────────────┼─────────────────────────────┼─────────────────┤\n",
              "│ dropout_5 (<span style=\"color: #0087ff; text-decoration-color: #0087ff\">Dropout</span>)                  │ (<span style=\"color: #00d7ff; text-decoration-color: #00d7ff\">None</span>, <span style=\"color: #00af00; text-decoration-color: #00af00\">16</span>)                  │               <span style=\"color: #00af00; text-decoration-color: #00af00\">0</span> │\n",
              "├──────────────────────────────────────┼─────────────────────────────┼─────────────────┤\n",
              "│ dense_7 (<span style=\"color: #0087ff; text-decoration-color: #0087ff\">Dense</span>)                      │ (<span style=\"color: #00d7ff; text-decoration-color: #00d7ff\">None</span>, <span style=\"color: #00af00; text-decoration-color: #00af00\">8</span>)                   │             <span style=\"color: #00af00; text-decoration-color: #00af00\">136</span> │\n",
              "├──────────────────────────────────────┼─────────────────────────────┼─────────────────┤\n",
              "│ dense_8 (<span style=\"color: #0087ff; text-decoration-color: #0087ff\">Dense</span>)                      │ (<span style=\"color: #00d7ff; text-decoration-color: #00d7ff\">None</span>, <span style=\"color: #00af00; text-decoration-color: #00af00\">1</span>)                   │               <span style=\"color: #00af00; text-decoration-color: #00af00\">9</span> │\n",
              "└──────────────────────────────────────┴─────────────────────────────┴─────────────────┘\n",
              "</pre>\n"
            ]
          },
          "metadata": {}
        },
        {
          "output_type": "display_data",
          "data": {
            "text/plain": [
              "\u001b[1m Total params: \u001b[0m\u001b[38;5;34m12,929\u001b[0m (50.50 KB)\n"
            ],
            "text/html": [
              "<pre style=\"white-space:pre;overflow-x:auto;line-height:normal;font-family:Menlo,'DejaVu Sans Mono',consolas,'Courier New',monospace\"><span style=\"font-weight: bold\"> Total params: </span><span style=\"color: #00af00; text-decoration-color: #00af00\">12,929</span> (50.50 KB)\n",
              "</pre>\n"
            ]
          },
          "metadata": {}
        },
        {
          "output_type": "display_data",
          "data": {
            "text/plain": [
              "\u001b[1m Trainable params: \u001b[0m\u001b[38;5;34m12,929\u001b[0m (50.50 KB)\n"
            ],
            "text/html": [
              "<pre style=\"white-space:pre;overflow-x:auto;line-height:normal;font-family:Menlo,'DejaVu Sans Mono',consolas,'Courier New',monospace\"><span style=\"font-weight: bold\"> Trainable params: </span><span style=\"color: #00af00; text-decoration-color: #00af00\">12,929</span> (50.50 KB)\n",
              "</pre>\n"
            ]
          },
          "metadata": {}
        },
        {
          "output_type": "display_data",
          "data": {
            "text/plain": [
              "\u001b[1m Non-trainable params: \u001b[0m\u001b[38;5;34m0\u001b[0m (0.00 B)\n"
            ],
            "text/html": [
              "<pre style=\"white-space:pre;overflow-x:auto;line-height:normal;font-family:Menlo,'DejaVu Sans Mono',consolas,'Courier New',monospace\"><span style=\"font-weight: bold\"> Non-trainable params: </span><span style=\"color: #00af00; text-decoration-color: #00af00\">0</span> (0.00 B)\n",
              "</pre>\n"
            ]
          },
          "metadata": {}
        }
      ]
    },
    {
      "cell_type": "markdown",
      "source": [
        "Test run baseline model"
      ],
      "metadata": {
        "id": "f9BCJMY1dWS6"
      }
    },
    {
      "cell_type": "code",
      "source": [
        "model.predict(train_features[:10])"
      ],
      "metadata": {
        "colab": {
          "base_uri": "https://localhost:8080/"
        },
        "id": "nWA2V3mYdSzt",
        "outputId": "73a265d9-f1b2-4b84-a794-5856895b0a5d"
      },
      "execution_count": 30,
      "outputs": [
        {
          "output_type": "stream",
          "name": "stdout",
          "text": [
            "\u001b[1m1/1\u001b[0m \u001b[32m━━━━━━━━━━━━━━━━━━━━\u001b[0m\u001b[37m\u001b[0m \u001b[1m0s\u001b[0m 338ms/step\n"
          ]
        },
        {
          "output_type": "execute_result",
          "data": {
            "text/plain": [
              "array([[0.82796574],\n",
              "       [0.82254905],\n",
              "       [0.8173293 ],\n",
              "       [0.84503275],\n",
              "       [0.82370555],\n",
              "       [0.8144501 ],\n",
              "       [0.82821524],\n",
              "       [0.81620854],\n",
              "       [0.8270645 ],\n",
              "       [0.81780595]], dtype=float32)"
            ]
          },
          "metadata": {},
          "execution_count": 30
        }
      ]
    },
    {
      "cell_type": "markdown",
      "source": [
        "Set correct initial bias"
      ],
      "metadata": {
        "id": "VbBCSo_EdZ1A"
      }
    },
    {
      "cell_type": "code",
      "source": [
        "initial_bias = np.log([pos/neg])\n",
        "initial_bias"
      ],
      "metadata": {
        "colab": {
          "base_uri": "https://localhost:8080/"
        },
        "id": "s2MXPyZyd68B",
        "outputId": "a155b673-2a34-4ba7-89bf-57e5284bbc7e"
      },
      "execution_count": 31,
      "outputs": [
        {
          "output_type": "execute_result",
          "data": {
            "text/plain": [
              "array([-5.63445295])"
            ]
          },
          "metadata": {},
          "execution_count": 31
        }
      ]
    },
    {
      "cell_type": "markdown",
      "source": [
        "Baseline with initial bias"
      ],
      "metadata": {
        "id": "NMRUVN7teJLe"
      }
    },
    {
      "cell_type": "code",
      "source": [
        "model = make_model(output_bias=initial_bias)\n",
        "model.predict(train_features[:10])"
      ],
      "metadata": {
        "colab": {
          "base_uri": "https://localhost:8080/"
        },
        "id": "iNp8oNoXeFY-",
        "outputId": "6c8f158c-0d97-4a9a-b24b-0d115ea8c13b"
      },
      "execution_count": 32,
      "outputs": [
        {
          "output_type": "stream",
          "name": "stdout",
          "text": [
            "\u001b[1m1/1\u001b[0m \u001b[32m━━━━━━━━━━━━━━━━━━━━\u001b[0m\u001b[37m\u001b[0m \u001b[1m0s\u001b[0m 115ms/step\n"
          ]
        },
        {
          "output_type": "execute_result",
          "data": {
            "text/plain": [
              "array([[0.00331562],\n",
              "       [0.00336726],\n",
              "       [0.00338933],\n",
              "       [0.00333741],\n",
              "       [0.00353976],\n",
              "       [0.00325362],\n",
              "       [0.00338383],\n",
              "       [0.00361395],\n",
              "       [0.00356062],\n",
              "       [0.00337401]], dtype=float32)"
            ]
          },
          "metadata": {},
          "execution_count": 32
        }
      ]
    },
    {
      "cell_type": "code",
      "source": [
        "results = model.evaluate(train_features, train_labels, batch_size=BATCH_SIZE, verbose=0)\n",
        "print(\"Loss: {:0.4f}\".format(results[0]))"
      ],
      "metadata": {
        "colab": {
          "base_uri": "https://localhost:8080/"
        },
        "id": "p1nfBhI1eN39",
        "outputId": "fcc06fc6-2863-4947-fb25-c4d0206785f6"
      },
      "execution_count": 33,
      "outputs": [
        {
          "output_type": "stream",
          "name": "stdout",
          "text": [
            "Loss: 0.0238\n"
          ]
        }
      ]
    },
    {
      "cell_type": "markdown",
      "source": [
        "Saving initial weights to temp file"
      ],
      "metadata": {
        "id": "PpSl1u_Heko1"
      }
    },
    {
      "cell_type": "code",
      "source": [
        "import tempfile\n",
        "\n",
        "initial_weights = os.path.join(tempfile.mkdtemp(), 'initial.weights.h5')\n",
        "model.save_weights(initial_weights)\n"
      ],
      "metadata": {
        "id": "qVDySW20eojn"
      },
      "execution_count": 34,
      "outputs": []
    },
    {
      "cell_type": "markdown",
      "source": [
        "##Bias vs Non-Bias Comparison"
      ],
      "metadata": {
        "id": "RtEE4BM4ftRE"
      }
    },
    {
      "cell_type": "code",
      "source": [
        "# no initial bias\n",
        "\n",
        "model = make_model()\n",
        "model.load_weights(initial_weights)\n",
        "model.layers[-1].bias.assign([0.0])\n",
        "zero_bias_history = model.fit(\n",
        "    train_features,\n",
        "    train_labels,\n",
        "    batch_size=BATCH_SIZE,\n",
        "    epochs=20,\n",
        "    callbacks=[early_stopping()],\n",
        "    validation_data=(val_features, val_labels),\n",
        "    verbose=0\n",
        ")"
      ],
      "metadata": {
        "colab": {
          "base_uri": "https://localhost:8080/"
        },
        "id": "JfWf0krdfy6O",
        "outputId": "f9d7d7ad-caac-4e43-976d-cfb257cc8c50"
      },
      "execution_count": 35,
      "outputs": [
        {
          "output_type": "stream",
          "name": "stdout",
          "text": [
            "Restoring model weights from the end of the best epoch: 19.\n"
          ]
        }
      ]
    },
    {
      "cell_type": "code",
      "source": [
        "# model with initial bias\n",
        "\n",
        "model = make_model()\n",
        "model.load_weights(initial_weights)\n",
        "careful_bias_history = model.fit(\n",
        "    train_features,\n",
        "    train_labels,\n",
        "    batch_size=BATCH_SIZE,\n",
        "    epochs=20,\n",
        "    callbacks=[early_stopping()],\n",
        "    validation_data=(val_features, val_labels),\n",
        "    verbose=0\n",
        ")"
      ],
      "metadata": {
        "colab": {
          "base_uri": "https://localhost:8080/"
        },
        "id": "0axkAiZsgYUg",
        "outputId": "8770b52a-babd-4d36-e9a3-beca71dc7583"
      },
      "execution_count": 36,
      "outputs": [
        {
          "output_type": "stream",
          "name": "stdout",
          "text": [
            "Restoring model weights from the end of the best epoch: 20.\n"
          ]
        }
      ]
    },
    {
      "cell_type": "code",
      "source": [
        "colors = plt.rcParams['axes.prop_cycle'].by_key()['color']\n",
        "\n",
        "def plot_loss(history, label, n):\n",
        "  # Use a log scale to show the wide range of values.\n",
        "  plt.semilogy(history.epoch, history.history['loss'],\n",
        "               color=colors[n], label='Train ' + label)\n",
        "  plt.semilogy(history.epoch, history.history['val_loss'],\n",
        "               color=colors[n], label='Val ' + label,\n",
        "               linestyle=\"--\")\n",
        "  plt.xlabel('Epoch')\n",
        "  plt.ylabel('Loss')\n",
        "  plt.legend()"
      ],
      "metadata": {
        "id": "ydD729YtiPqp"
      },
      "execution_count": 37,
      "outputs": []
    },
    {
      "cell_type": "code",
      "source": [
        "plot_loss(zero_bias_history, \"Zero Bias\", 0)\n",
        "plot_loss(careful_bias_history, \"Careful Bias\", 1)"
      ],
      "metadata": {
        "colab": {
          "base_uri": "https://localhost:8080/",
          "height": 449
        },
        "id": "GKqxtzRAiaOE",
        "outputId": "8e618db3-0a96-4684-e587-27c61b42bf66"
      },
      "execution_count": 38,
      "outputs": [
        {
          "output_type": "display_data",
          "data": {
            "text/plain": [
              "<Figure size 640x480 with 1 Axes>"
            ],
            "image/png": "[encoded data removed]"
          },
          "metadata": {}
        }
      ]
    },
    {
      "cell_type": "markdown",
      "source": [
        "## Train Model"
      ],
      "metadata": {
        "id": "tQ75f5H5i359"
      }
    },
    {
      "cell_type": "code",
      "source": [
        "model = make_model()\n",
        "model.load_weights(initial_weights)\n",
        "baseline_history = model.fit(\n",
        "    train_features,\n",
        "    train_labels,\n",
        "    batch_size=BATCH_SIZE,\n",
        "    epochs=EPOCHS,\n",
        "    callbacks=[early_stopping()],\n",
        "    validation_data=(val_features, val_labels))"
      ],
      "metadata": {
        "colab": {
          "base_uri": "https://localhost:8080/"
        },
        "id": "m_XGyuQ3i7kI",
        "outputId": "e5484479-3b80-4b0f-f25d-65513061caa7"
      },
      "execution_count": 39,
      "outputs": [
        {
          "output_type": "stream",
          "name": "stdout",
          "text": [
            "Epoch 1/100\n",
            "\u001b[1m828/828\u001b[0m \u001b[32m━━━━━━━━━━━━━━━━━━━━\u001b[0m\u001b[37m\u001b[0m \u001b[1m24s\u001b[0m 24ms/step - Brier score: 0.0031 - accuracy: 0.9967 - auc: 0.7836 - cross entropy: 0.0173 - fn: 4102.6548 - fp: 217.9879 - loss: 0.0213 - prc: 0.2614 - precision: 0.7119 - recall: 0.0975 - tn: 1268667.1250 - tp: 396.2750 - val_Brier score: 0.0034 - val_accuracy: 0.9965 - val_auc: 0.8627 - val_cross entropy: 0.0182 - val_fn: 1497.0000 - val_fp: 0.0000e+00 - val_loss: 0.0182 - val_prc: 0.2386 - val_precision: 0.0000e+00 - val_recall: 0.0000e+00 - val_tn: 421974.0000 - val_tp: 0.0000e+00\n",
            "Epoch 2/100\n",
            "\u001b[1m828/828\u001b[0m \u001b[32m━━━━━━━━━━━━━━━━━━━━\u001b[0m\u001b[37m\u001b[0m \u001b[1m17s\u001b[0m 20ms/step - Brier score: 0.0034 - accuracy: 0.9962 - auc: 0.8422 - cross entropy: 0.0181 - fn: 2854.3848 - fp: 351.6405 - loss: 0.0181 - prc: 0.1353 - precision: 0.3365 - recall: 0.0601 - tn: 846528.3125 - tp: 178.7262 - val_Brier score: 0.0034 - val_accuracy: 0.9965 - val_auc: 0.8669 - val_cross entropy: 0.0174 - val_fn: 1497.0000 - val_fp: 0.0000e+00 - val_loss: 0.0174 - val_prc: 0.2550 - val_precision: 0.0000e+00 - val_recall: 0.0000e+00 - val_tn: 421974.0000 - val_tp: 0.0000e+00\n",
            "Epoch 3/100\n",
            "\u001b[1m828/828\u001b[0m \u001b[32m━━━━━━━━━━━━━━━━━━━━\u001b[0m\u001b[37m\u001b[0m \u001b[1m18s\u001b[0m 22ms/step - Brier score: 0.0033 - accuracy: 0.9963 - auc: 0.8604 - cross entropy: 0.0167 - fn: 2856.2375 - fp: 301.2135 - loss: 0.0167 - prc: 0.1654 - precision: 0.3827 - recall: 0.0636 - tn: 846566.0625 - tp: 189.5537 - val_Brier score: 0.0034 - val_accuracy: 0.9965 - val_auc: 0.8654 - val_cross entropy: 0.0170 - val_fn: 1497.0000 - val_fp: 0.0000e+00 - val_loss: 0.0170 - val_prc: 0.2672 - val_precision: 0.0000e+00 - val_recall: 0.0000e+00 - val_tn: 421974.0000 - val_tp: 0.0000e+00\n",
            "Epoch 4/100\n",
            "\u001b[1m828/828\u001b[0m \u001b[32m━━━━━━━━━━━━━━━━━━━━\u001b[0m\u001b[37m\u001b[0m \u001b[1m16s\u001b[0m 20ms/step - Brier score: 0.0032 - accuracy: 0.9963 - auc: 0.8638 - cross entropy: 0.0160 - fn: 2803.0627 - fp: 272.8299 - loss: 0.0160 - prc: 0.1889 - precision: 0.4552 - recall: 0.0757 - tn: 846605.0000 - tp: 232.1520 - val_Brier score: 0.0033 - val_accuracy: 0.9965 - val_auc: 0.8667 - val_cross entropy: 0.0162 - val_fn: 1497.0000 - val_fp: 0.0000e+00 - val_loss: 0.0162 - val_prc: 0.2947 - val_precision: 0.0000e+00 - val_recall: 0.0000e+00 - val_tn: 421974.0000 - val_tp: 0.0000e+00\n",
            "Epoch 5/100\n",
            "\u001b[1m828/828\u001b[0m \u001b[32m━━━━━━━━━━━━━━━━━━━━\u001b[0m\u001b[37m\u001b[0m \u001b[1m17s\u001b[0m 20ms/step - Brier score: 0.0031 - accuracy: 0.9964 - auc: 0.8611 - cross entropy: 0.0154 - fn: 2795.7261 - fp: 258.9421 - loss: 0.0154 - prc: 0.2005 - precision: 0.4355 - recall: 0.0658 - tn: 846643.1250 - tp: 215.2256 - val_Brier score: 0.0032 - val_accuracy: 0.9965 - val_auc: 0.8687 - val_cross entropy: 0.0156 - val_fn: 1497.0000 - val_fp: 0.0000e+00 - val_loss: 0.0156 - val_prc: 0.3264 - val_precision: 0.0000e+00 - val_recall: 0.0000e+00 - val_tn: 421974.0000 - val_tp: 0.0000e+00\n",
            "Epoch 6/100\n",
            "\u001b[1m828/828\u001b[0m \u001b[32m━━━━━━━━━━━━━━━━━━━━\u001b[0m\u001b[37m\u001b[0m \u001b[1m21s\u001b[0m 20ms/step - Brier score: 0.0031 - accuracy: 0.9964 - auc: 0.8625 - cross entropy: 0.0153 - fn: 2743.7659 - fp: 257.9518 - loss: 0.0153 - prc: 0.2320 - precision: 0.5162 - recall: 0.0923 - tn: 846618.3750 - tp: 292.9385 - val_Brier score: 0.0032 - val_accuracy: 0.9965 - val_auc: 0.8710 - val_cross entropy: 0.0153 - val_fn: 1497.0000 - val_fp: 0.0000e+00 - val_loss: 0.0153 - val_prc: 0.3810 - val_precision: 0.0000e+00 - val_recall: 0.0000e+00 - val_tn: 421974.0000 - val_tp: 0.0000e+00\n",
            "Epoch 7/100\n",
            "\u001b[1m828/828\u001b[0m \u001b[32m━━━━━━━━━━━━━━━━━━━━\u001b[0m\u001b[37m\u001b[0m \u001b[1m20s\u001b[0m 20ms/step - Brier score: 0.0029 - accuracy: 0.9966 - auc: 0.8642 - cross entropy: 0.0147 - fn: 2601.3884 - fp: 258.1918 - loss: 0.0147 - prc: 0.2916 - precision: 0.6348 - recall: 0.1431 - tn: 846612.5000 - tp: 440.9867 - val_Brier score: 0.0031 - val_accuracy: 0.9966 - val_auc: 0.8746 - val_cross entropy: 0.0147 - val_fn: 1451.0000 - val_fp: 0.0000e+00 - val_loss: 0.0147 - val_prc: 0.4316 - val_precision: 1.0000 - val_recall: 0.0307 - val_tn: 421974.0000 - val_tp: 46.0000\n",
            "Epoch 8/100\n",
            "\u001b[1m828/828\u001b[0m \u001b[32m━━━━━━━━━━━━━━━━━━━━\u001b[0m\u001b[37m\u001b[0m \u001b[1m21s\u001b[0m 21ms/step - Brier score: 0.0029 - accuracy: 0.9967 - auc: 0.8681 - cross entropy: 0.0144 - fn: 2523.9614 - fp: 232.9083 - loss: 0.0144 - prc: 0.3402 - precision: 0.6883 - recall: 0.1724 - tn: 846627.4375 - tp: 528.7612 - val_Brier score: 0.0028 - val_accuracy: 0.9969 - val_auc: 0.8722 - val_cross entropy: 0.0139 - val_fn: 1332.0000 - val_fp: 0.0000e+00 - val_loss: 0.0139 - val_prc: 0.4526 - val_precision: 1.0000 - val_recall: 0.1102 - val_tn: 421974.0000 - val_tp: 165.0000\n",
            "Epoch 9/100\n",
            "\u001b[1m828/828\u001b[0m \u001b[32m━━━━━━━━━━━━━━━━━━━━\u001b[0m\u001b[37m\u001b[0m \u001b[1m18s\u001b[0m 21ms/step - Brier score: 0.0027 - accuracy: 0.9969 - auc: 0.8656 - cross entropy: 0.0138 - fn: 2405.0098 - fp: 219.8347 - loss: 0.0138 - prc: 0.3737 - precision: 0.7367 - recall: 0.2074 - tn: 846672.3750 - tp: 615.8372 - val_Brier score: 0.0029 - val_accuracy: 0.9968 - val_auc: 0.8745 - val_cross entropy: 0.0145 - val_fn: 1344.0000 - val_fp: 0.0000e+00 - val_loss: 0.0145 - val_prc: 0.4715 - val_precision: 1.0000 - val_recall: 0.1022 - val_tn: 421974.0000 - val_tp: 153.0000\n",
            "Epoch 10/100\n",
            "\u001b[1m828/828\u001b[0m \u001b[32m━━━━━━━━━━━━━━━━━━━━\u001b[0m\u001b[37m\u001b[0m \u001b[1m20s\u001b[0m 20ms/step - Brier score: 0.0027 - accuracy: 0.9969 - auc: 0.8690 - cross entropy: 0.0137 - fn: 2379.8503 - fp: 222.9107 - loss: 0.0137 - prc: 0.4065 - precision: 0.7553 - recall: 0.2194 - tn: 846629.0625 - tp: 681.2401 - val_Brier score: 0.0027 - val_accuracy: 0.9970 - val_auc: 0.8732 - val_cross entropy: 0.0137 - val_fn: 1285.0000 - val_fp: 0.0000e+00 - val_loss: 0.0137 - val_prc: 0.4994 - val_precision: 1.0000 - val_recall: 0.1416 - val_tn: 421974.0000 - val_tp: 212.0000\n",
            "Epoch 11/100\n",
            "\u001b[1m828/828\u001b[0m \u001b[32m━━━━━━━━━━━━━━━━━━━━\u001b[0m\u001b[37m\u001b[0m \u001b[1m17s\u001b[0m 20ms/step - Brier score: 0.0026 - accuracy: 0.9970 - auc: 0.8700 - cross entropy: 0.0133 - fn: 2325.3293 - fp: 217.7636 - loss: 0.0133 - prc: 0.4250 - precision: 0.7724 - recall: 0.2349 - tn: 846653.1250 - tp: 716.8480 - val_Brier score: 0.0027 - val_accuracy: 0.9970 - val_auc: 0.8752 - val_cross entropy: 0.0135 - val_fn: 1273.0000 - val_fp: 0.0000e+00 - val_loss: 0.0135 - val_prc: 0.5129 - val_precision: 1.0000 - val_recall: 0.1496 - val_tn: 421974.0000 - val_tp: 224.0000\n",
            "Epoch 12/100\n",
            "\u001b[1m828/828\u001b[0m \u001b[32m━━━━━━━━━━━━━━━━━━━━\u001b[0m\u001b[37m\u001b[0m \u001b[1m20s\u001b[0m 25ms/step - Brier score: 0.0025 - accuracy: 0.9971 - auc: 0.8722 - cross entropy: 0.0130 - fn: 2256.5706 - fp: 205.3607 - loss: 0.0130 - prc: 0.4323 - precision: 0.7823 - recall: 0.2437 - tn: 846710.0625 - tp: 741.0483 - val_Brier score: 0.0026 - val_accuracy: 0.9971 - val_auc: 0.8751 - val_cross entropy: 0.0129 - val_fn: 1233.0000 - val_fp: 0.0000e+00 - val_loss: 0.0129 - val_prc: 0.5177 - val_precision: 1.0000 - val_recall: 0.1764 - val_tn: 421974.0000 - val_tp: 264.0000\n",
            "Epoch 13/100\n",
            "\u001b[1m828/828\u001b[0m \u001b[32m━━━━━━━━━━━━━━━━━━━━\u001b[0m\u001b[37m\u001b[0m \u001b[1m17s\u001b[0m 20ms/step - Brier score: 0.0025 - accuracy: 0.9971 - auc: 0.8721 - cross entropy: 0.0131 - fn: 2261.2461 - fp: 208.1267 - loss: 0.0131 - prc: 0.4413 - precision: 0.7841 - recall: 0.2538 - tn: 846678.4375 - tp: 765.2195 - val_Brier score: 0.0026 - val_accuracy: 0.9971 - val_auc: 0.8768 - val_cross entropy: 0.0130 - val_fn: 1221.0000 - val_fp: 0.0000e+00 - val_loss: 0.0130 - val_prc: 0.5277 - val_precision: 1.0000 - val_recall: 0.1844 - val_tn: 421974.0000 - val_tp: 276.0000\n",
            "Epoch 14/100\n",
            "\u001b[1m828/828\u001b[0m \u001b[32m━━━━━━━━━━━━━━━━━━━━\u001b[0m\u001b[37m\u001b[0m \u001b[1m20s\u001b[0m 20ms/step - Brier score: 0.0025 - accuracy: 0.9972 - auc: 0.8735 - cross entropy: 0.0129 - fn: 2186.4536 - fp: 212.7250 - loss: 0.0129 - prc: 0.4602 - precision: 0.7975 - recall: 0.2779 - tn: 846679.0625 - tp: 834.8299 - val_Brier score: 0.0026 - val_accuracy: 0.9971 - val_auc: 0.8796 - val_cross entropy: 0.0131 - val_fn: 1237.0000 - val_fp: 0.0000e+00 - val_loss: 0.0131 - val_prc: 0.5458 - val_precision: 1.0000 - val_recall: 0.1737 - val_tn: 421974.0000 - val_tp: 260.0000\n",
            "Epoch 15/100\n",
            "\u001b[1m828/828\u001b[0m \u001b[32m━━━━━━━━━━━━━━━━━━━━\u001b[0m\u001b[37m\u001b[0m \u001b[1m17s\u001b[0m 20ms/step - Brier score: 0.0024 - accuracy: 0.9972 - auc: 0.8706 - cross entropy: 0.0127 - fn: 2166.4668 - fp: 192.9831 - loss: 0.0127 - prc: 0.4744 - precision: 0.8137 - recall: 0.2807 - tn: 846691.9375 - tp: 861.6574 - val_Brier score: 0.0025 - val_accuracy: 0.9971 - val_auc: 0.8865 - val_cross entropy: 0.0127 - val_fn: 1211.0000 - val_fp: 0.0000e+00 - val_loss: 0.0127 - val_prc: 0.5692 - val_precision: 1.0000 - val_recall: 0.1910 - val_tn: 421974.0000 - val_tp: 286.0000\n",
            "Epoch 16/100\n",
            "\u001b[1m828/828\u001b[0m \u001b[32m━━━━━━━━━━━━━━━━━━━━\u001b[0m\u001b[37m\u001b[0m \u001b[1m19s\u001b[0m 23ms/step - Brier score: 0.0023 - accuracy: 0.9972 - auc: 0.8864 - cross entropy: 0.0121 - fn: 2115.3438 - fp: 226.0398 - loss: 0.0121 - prc: 0.5077 - precision: 0.8035 - recall: 0.3084 - tn: 846645.2500 - tp: 926.4222 - val_Brier score: 0.0025 - val_accuracy: 0.9971 - val_auc: 0.8883 - val_cross entropy: 0.0125 - val_fn: 1209.0000 - val_fp: 0.0000e+00 - val_loss: 0.0125 - val_prc: 0.5779 - val_precision: 1.0000 - val_recall: 0.1924 - val_tn: 421974.0000 - val_tp: 288.0000\n",
            "Epoch 17/100\n",
            "\u001b[1m828/828\u001b[0m \u001b[32m━━━━━━━━━━━━━━━━━━━━\u001b[0m\u001b[37m\u001b[0m \u001b[1m19s\u001b[0m 21ms/step - Brier score: 0.0023 - accuracy: 0.9973 - auc: 0.8816 - cross entropy: 0.0122 - fn: 2111.2461 - fp: 212.4704 - loss: 0.0122 - prc: 0.5037 - precision: 0.8160 - recall: 0.3030 - tn: 846673.6250 - tp: 915.7298 - val_Brier score: 0.0025 - val_accuracy: 0.9972 - val_auc: 0.8908 - val_cross entropy: 0.0123 - val_fn: 1195.0000 - val_fp: 0.0000e+00 - val_loss: 0.0123 - val_prc: 0.5873 - val_precision: 1.0000 - val_recall: 0.2017 - val_tn: 421974.0000 - val_tp: 302.0000\n",
            "Epoch 18/100\n",
            "\u001b[1m828/828\u001b[0m \u001b[32m━━━━━━━━━━━━━━━━━━━━\u001b[0m\u001b[37m\u001b[0m \u001b[1m20s\u001b[0m 20ms/step - Brier score: 0.0023 - accuracy: 0.9973 - auc: 0.8797 - cross entropy: 0.0120 - fn: 2076.9265 - fp: 207.3148 - loss: 0.0120 - prc: 0.5057 - precision: 0.8148 - recall: 0.3035 - tn: 846718.1250 - tp: 910.6779 - val_Brier score: 0.0025 - val_accuracy: 0.9972 - val_auc: 0.8904 - val_cross entropy: 0.0121 - val_fn: 1179.0000 - val_fp: 0.0000e+00 - val_loss: 0.0121 - val_prc: 0.5960 - val_precision: 1.0000 - val_recall: 0.2124 - val_tn: 421974.0000 - val_tp: 318.0000\n",
            "Epoch 19/100\n",
            "\u001b[1m828/828\u001b[0m \u001b[32m━━━━━━━━━━━━━━━━━━━━\u001b[0m\u001b[37m\u001b[0m \u001b[1m19s\u001b[0m 22ms/step - Brier score: 0.0023 - accuracy: 0.9973 - auc: 0.8812 - cross entropy: 0.0120 - fn: 2045.3486 - fp: 204.6224 - loss: 0.0120 - prc: 0.5147 - precision: 0.8243 - recall: 0.3174 - tn: 846692.4375 - tp: 970.6417 - val_Brier score: 0.0025 - val_accuracy: 0.9972 - val_auc: 0.8906 - val_cross entropy: 0.0122 - val_fn: 1183.0000 - val_fp: 0.0000e+00 - val_loss: 0.0122 - val_prc: 0.6079 - val_precision: 1.0000 - val_recall: 0.2098 - val_tn: 421974.0000 - val_tp: 314.0000\n",
            "Epoch 20/100\n",
            "\u001b[1m828/828\u001b[0m \u001b[32m━━━━━━━━━━━━━━━━━━━━\u001b[0m\u001b[37m\u001b[0m \u001b[1m18s\u001b[0m 21ms/step - Brier score: 0.0023 - accuracy: 0.9973 - auc: 0.8883 - cross entropy: 0.0118 - fn: 2029.3571 - fp: 207.9409 - loss: 0.0118 - prc: 0.5285 - precision: 0.8259 - recall: 0.3312 - tn: 846675.8750 - tp: 999.8830 - val_Brier score: 0.0025 - val_accuracy: 0.9973 - val_auc: 0.8944 - val_cross entropy: 0.0121 - val_fn: 1164.0000 - val_fp: 0.0000e+00 - val_loss: 0.0121 - val_prc: 0.6107 - val_precision: 1.0000 - val_recall: 0.2224 - val_tn: 421974.0000 - val_tp: 333.0000\n",
            "Epoch 21/100\n",
            "\u001b[1m828/828\u001b[0m \u001b[32m━━━━━━━━━━━━━━━━━━━━\u001b[0m\u001b[37m\u001b[0m \u001b[1m20s\u001b[0m 24ms/step - Brier score: 0.0022 - accuracy: 0.9975 - auc: 0.8862 - cross entropy: 0.0116 - fn: 1985.2908 - fp: 181.4451 - loss: 0.0116 - prc: 0.5376 - precision: 0.8583 - recall: 0.3428 - tn: 846707.2500 - tp: 1039.0398 - val_Brier score: 0.0024 - val_accuracy: 0.9973 - val_auc: 0.8939 - val_cross entropy: 0.0119 - val_fn: 1152.0000 - val_fp: 0.0000e+00 - val_loss: 0.0119 - val_prc: 0.6139 - val_precision: 1.0000 - val_recall: 0.2305 - val_tn: 421974.0000 - val_tp: 345.0000\n",
            "Epoch 22/100\n",
            "\u001b[1m828/828\u001b[0m \u001b[32m━━━━━━━━━━━━━━━━━━━━\u001b[0m\u001b[37m\u001b[0m \u001b[1m18s\u001b[0m 21ms/step - Brier score: 0.0022 - accuracy: 0.9974 - auc: 0.8896 - cross entropy: 0.0117 - fn: 1994.3788 - fp: 202.7829 - loss: 0.0117 - prc: 0.5382 - precision: 0.8398 - recall: 0.3519 - tn: 846677.6875 - tp: 1038.1713 - val_Brier score: 0.0024 - val_accuracy: 0.9973 - val_auc: 0.8945 - val_cross entropy: 0.0120 - val_fn: 1163.0000 - val_fp: 0.0000e+00 - val_loss: 0.0120 - val_prc: 0.6195 - val_precision: 1.0000 - val_recall: 0.2231 - val_tn: 421974.0000 - val_tp: 334.0000\n",
            "Epoch 23/100\n",
            "\u001b[1m828/828\u001b[0m \u001b[32m━━━━━━━━━━━━━━━━━━━━\u001b[0m\u001b[37m\u001b[0m \u001b[1m17s\u001b[0m 21ms/step - Brier score: 0.0023 - accuracy: 0.9974 - auc: 0.8847 - cross entropy: 0.0119 - fn: 2017.0386 - fp: 218.9131 - loss: 0.0119 - prc: 0.5354 - precision: 0.8261 - recall: 0.3425 - tn: 846629.5000 - tp: 1047.6152 - val_Brier score: 0.0024 - val_accuracy: 0.9973 - val_auc: 0.8959 - val_cross entropy: 0.0116 - val_fn: 1142.0000 - val_fp: 0.0000e+00 - val_loss: 0.0116 - val_prc: 0.6298 - val_precision: 1.0000 - val_recall: 0.2371 - val_tn: 421974.0000 - val_tp: 355.0000\n",
            "Epoch 24/100\n",
            "\u001b[1m828/828\u001b[0m \u001b[32m━━━━━━━━━━━━━━━━━━━━\u001b[0m\u001b[37m\u001b[0m \u001b[1m21s\u001b[0m 21ms/step - Brier score: 0.0022 - accuracy: 0.9974 - auc: 0.8904 - cross entropy: 0.0115 - fn: 1966.9434 - fp: 209.9988 - loss: 0.0115 - prc: 0.5425 - precision: 0.8342 - recall: 0.3517 - tn: 846666.1250 - tp: 1069.9650 - val_Brier score: 0.0024 - val_accuracy: 0.9973 - val_auc: 0.8966 - val_cross entropy: 0.0117 - val_fn: 1152.0000 - val_fp: 0.0000e+00 - val_loss: 0.0117 - val_prc: 0.6267 - val_precision: 1.0000 - val_recall: 0.2305 - val_tn: 421974.0000 - val_tp: 345.0000\n",
            "Epoch 25/100\n",
            "\u001b[1m828/828\u001b[0m \u001b[32m━━━━━━━━━━━━━━━━━━━━\u001b[0m\u001b[37m\u001b[0m \u001b[1m17s\u001b[0m 20ms/step - Brier score: 0.0021 - accuracy: 0.9975 - auc: 0.8918 - cross entropy: 0.0111 - fn: 1925.0531 - fp: 198.1556 - loss: 0.0111 - prc: 0.5514 - precision: 0.8392 - recall: 0.3600 - tn: 846731.3125 - tp: 1058.5127 - val_Brier score: 0.0024 - val_accuracy: 0.9973 - val_auc: 0.8985 - val_cross entropy: 0.0116 - val_fn: 1149.0000 - val_fp: 0.0000e+00 - val_loss: 0.0116 - val_prc: 0.6366 - val_precision: 1.0000 - val_recall: 0.2325 - val_tn: 421974.0000 - val_tp: 348.0000\n",
            "Epoch 26/100\n",
            "\u001b[1m828/828\u001b[0m \u001b[32m━━━━━━━━━━━━━━━━━━━━\u001b[0m\u001b[37m\u001b[0m \u001b[1m17s\u001b[0m 21ms/step - Brier score: 0.0021 - accuracy: 0.9975 - auc: 0.8897 - cross entropy: 0.0112 - fn: 1925.2799 - fp: 206.3100 - loss: 0.0112 - prc: 0.5497 - precision: 0.8358 - recall: 0.3608 - tn: 846699.9375 - tp: 1081.5320 - val_Brier score: 0.0024 - val_accuracy: 0.9973 - val_auc: 0.8996 - val_cross entropy: 0.0116 - val_fn: 1148.0000 - val_fp: 0.0000e+00 - val_loss: 0.0116 - val_prc: 0.6449 - val_precision: 1.0000 - val_recall: 0.2331 - val_tn: 421974.0000 - val_tp: 349.0000\n",
            "Epoch 27/100\n",
            "\u001b[1m828/828\u001b[0m \u001b[32m━━━━━━━━━━━━━━━━━━━━\u001b[0m\u001b[37m\u001b[0m \u001b[1m22s\u001b[0m 23ms/step - Brier score: 0.0022 - accuracy: 0.9974 - auc: 0.8934 - cross entropy: 0.0115 - fn: 1949.8757 - fp: 205.0591 - loss: 0.0115 - prc: 0.5560 - precision: 0.8453 - recall: 0.3621 - tn: 846667.1875 - tp: 1090.9434 - val_Brier score: 0.0024 - val_accuracy: 0.9973 - val_auc: 0.9024 - val_cross entropy: 0.0115 - val_fn: 1155.0000 - val_fp: 0.0000e+00 - val_loss: 0.0115 - val_prc: 0.6516 - val_precision: 1.0000 - val_recall: 0.2285 - val_tn: 421974.0000 - val_tp: 342.0000\n",
            "Epoch 28/100\n",
            "\u001b[1m828/828\u001b[0m \u001b[32m━━━━━━━━━━━━━━━━━━━━\u001b[0m\u001b[37m\u001b[0m \u001b[1m18s\u001b[0m 20ms/step - Brier score: 0.0022 - accuracy: 0.9975 - auc: 0.8919 - cross entropy: 0.0113 - fn: 1928.8564 - fp: 202.9180 - loss: 0.0113 - prc: 0.5568 - precision: 0.8443 - recall: 0.3632 - tn: 846665.3125 - tp: 1115.9276 - val_Brier score: 0.0023 - val_accuracy: 0.9973 - val_auc: 0.8980 - val_cross entropy: 0.0114 - val_fn: 1139.0000 - val_fp: 0.0000e+00 - val_loss: 0.0114 - val_prc: 0.6481 - val_precision: 1.0000 - val_recall: 0.2391 - val_tn: 421974.0000 - val_tp: 358.0000\n",
            "Epoch 29/100\n",
            "\u001b[1m828/828\u001b[0m \u001b[32m━━━━━━━━━━━━━━━━━━━━\u001b[0m\u001b[37m\u001b[0m \u001b[1m17s\u001b[0m 20ms/step - Brier score: 0.0022 - accuracy: 0.9975 - auc: 0.8932 - cross entropy: 0.0112 - fn: 1930.9723 - fp: 206.5935 - loss: 0.0112 - prc: 0.5604 - precision: 0.8388 - recall: 0.3601 - tn: 846669.3750 - tp: 1106.1122 - val_Brier score: 0.0023 - val_accuracy: 0.9973 - val_auc: 0.9013 - val_cross entropy: 0.0113 - val_fn: 1158.0000 - val_fp: 0.0000e+00 - val_loss: 0.0113 - val_prc: 0.6525 - val_precision: 1.0000 - val_recall: 0.2265 - val_tn: 421974.0000 - val_tp: 339.0000\n",
            "Epoch 30/100\n",
            "\u001b[1m828/828\u001b[0m \u001b[32m━━━━━━━━━━━━━━━━━━━━\u001b[0m\u001b[37m\u001b[0m \u001b[1m21s\u001b[0m 25ms/step - Brier score: 0.0021 - accuracy: 0.9975 - auc: 0.8950 - cross entropy: 0.0112 - fn: 1904.9023 - fp: 197.8890 - loss: 0.0112 - prc: 0.5641 - precision: 0.8494 - recall: 0.3679 - tn: 846678.5000 - tp: 1131.7697 - val_Brier score: 0.0024 - val_accuracy: 0.9973 - val_auc: 0.9081 - val_cross entropy: 0.0114 - val_fn: 1149.0000 - val_fp: 0.0000e+00 - val_loss: 0.0114 - val_prc: 0.6701 - val_precision: 1.0000 - val_recall: 0.2325 - val_tn: 421974.0000 - val_tp: 348.0000\n",
            "Epoch 31/100\n",
            "\u001b[1m828/828\u001b[0m \u001b[32m━━━━━━━━━━━━━━━━━━━━\u001b[0m\u001b[37m\u001b[0m \u001b[1m38s\u001b[0m 21ms/step - Brier score: 0.0021 - accuracy: 0.9975 - auc: 0.8989 - cross entropy: 0.0110 - fn: 1911.1797 - fp: 220.9445 - loss: 0.0110 - prc: 0.5835 - precision: 0.8457 - recall: 0.3817 - tn: 846604.3125 - tp: 1176.5826 - val_Brier score: 0.0024 - val_accuracy: 0.9972 - val_auc: 0.9035 - val_cross entropy: 0.0117 - val_fn: 1171.0000 - val_fp: 0.0000e+00 - val_loss: 0.0117 - val_prc: 0.6620 - val_precision: 1.0000 - val_recall: 0.2178 - val_tn: 421974.0000 - val_tp: 326.0000\n",
            "Epoch 32/100\n",
            "\u001b[1m828/828\u001b[0m \u001b[32m━━━━━━━━━━━━━━━━━━━━\u001b[0m\u001b[37m\u001b[0m \u001b[1m19s\u001b[0m 23ms/step - Brier score: 0.0021 - accuracy: 0.9976 - auc: 0.8971 - cross entropy: 0.0110 - fn: 1874.5802 - fp: 188.1086 - loss: 0.0110 - prc: 0.5820 - precision: 0.8675 - recall: 0.3849 - tn: 846662.5000 - tp: 1187.8359 - val_Brier score: 0.0023 - val_accuracy: 0.9973 - val_auc: 0.9041 - val_cross entropy: 0.0112 - val_fn: 1138.0000 - val_fp: 0.0000e+00 - val_loss: 0.0112 - val_prc: 0.6698 - val_precision: 1.0000 - val_recall: 0.2398 - val_tn: 421974.0000 - val_tp: 359.0000\n",
            "Epoch 33/100\n",
            "\u001b[1m828/828\u001b[0m \u001b[32m━━━━━━━━━━━━━━━━━━━━\u001b[0m\u001b[37m\u001b[0m \u001b[1m18s\u001b[0m 21ms/step - Brier score: 0.0021 - accuracy: 0.9976 - auc: 0.8969 - cross entropy: 0.0109 - fn: 1836.9553 - fp: 202.9819 - loss: 0.0109 - prc: 0.5812 - precision: 0.8573 - recall: 0.3941 - tn: 846689.6875 - tp: 1183.4319 - val_Brier score: 0.0022 - val_accuracy: 0.9973 - val_auc: 0.9038 - val_cross entropy: 0.0110 - val_fn: 1137.0000 - val_fp: 0.0000e+00 - val_loss: 0.0110 - val_prc: 0.6706 - val_precision: 1.0000 - val_recall: 0.2405 - val_tn: 421974.0000 - val_tp: 360.0000\n",
            "Epoch 34/100\n",
            "\u001b[1m828/828\u001b[0m \u001b[32m━━━━━━━━━━━━━━━━━━━━\u001b[0m\u001b[37m\u001b[0m \u001b[1m17s\u001b[0m 21ms/step - Brier score: 0.0021 - accuracy: 0.9976 - auc: 0.8994 - cross entropy: 0.0107 - fn: 1831.9686 - fp: 207.0398 - loss: 0.0107 - prc: 0.5777 - precision: 0.8460 - recall: 0.3877 - tn: 846698.0000 - tp: 1176.0519 - val_Brier score: 0.0022 - val_accuracy: 0.9973 - val_auc: 0.9031 - val_cross entropy: 0.0109 - val_fn: 1130.0000 - val_fp: 0.0000e+00 - val_loss: 0.0109 - val_prc: 0.6734 - val_precision: 1.0000 - val_recall: 0.2452 - val_tn: 421974.0000 - val_tp: 367.0000\n",
            "Epoch 35/100\n",
            "\u001b[1m828/828\u001b[0m \u001b[32m━━━━━━━━━━━━━━━━━━━━\u001b[0m\u001b[37m\u001b[0m \u001b[1m17s\u001b[0m 21ms/step - Brier score: 0.0021 - accuracy: 0.9976 - auc: 0.8939 - cross entropy: 0.0110 - fn: 1837.7805 - fp: 196.3559 - loss: 0.0110 - prc: 0.5779 - precision: 0.8633 - recall: 0.3931 - tn: 846687.6875 - tp: 1191.2014 - val_Brier score: 0.0022 - val_accuracy: 0.9973 - val_auc: 0.9069 - val_cross entropy: 0.0108 - val_fn: 1126.0000 - val_fp: 0.0000e+00 - val_loss: 0.0108 - val_prc: 0.6817 - val_precision: 1.0000 - val_recall: 0.2478 - val_tn: 421974.0000 - val_tp: 371.0000\n",
            "Epoch 36/100\n",
            "\u001b[1m828/828\u001b[0m \u001b[32m━━━━━━━━━━━━━━━━━━━━\u001b[0m\u001b[37m\u001b[0m \u001b[1m23s\u001b[0m 23ms/step - Brier score: 0.0020 - accuracy: 0.9977 - auc: 0.8953 - cross entropy: 0.0107 - fn: 1816.7443 - fp: 188.7660 - loss: 0.0107 - prc: 0.5855 - precision: 0.8662 - recall: 0.4003 - tn: 846717.6250 - tp: 1189.8999 - val_Brier score: 0.0022 - val_accuracy: 0.9973 - val_auc: 0.9068 - val_cross entropy: 0.0107 - val_fn: 1131.0000 - val_fp: 0.0000e+00 - val_loss: 0.0107 - val_prc: 0.6861 - val_precision: 1.0000 - val_recall: 0.2445 - val_tn: 421974.0000 - val_tp: 366.0000\n",
            "Epoch 37/100\n",
            "\u001b[1m828/828\u001b[0m \u001b[32m━━━━━━━━━━━━━━━━━━━━\u001b[0m\u001b[37m\u001b[0m \u001b[1m20s\u001b[0m 23ms/step - Brier score: 0.0021 - accuracy: 0.9976 - auc: 0.8991 - cross entropy: 0.0109 - fn: 1828.0857 - fp: 203.2244 - loss: 0.0109 - prc: 0.5834 - precision: 0.8530 - recall: 0.3954 - tn: 846688.3125 - tp: 1193.4391 - val_Brier score: 0.0023 - val_accuracy: 0.9973 - val_auc: 0.9064 - val_cross entropy: 0.0108 - val_fn: 1127.0000 - val_fp: 0.0000e+00 - val_loss: 0.0108 - val_prc: 0.6949 - val_precision: 1.0000 - val_recall: 0.2472 - val_tn: 421974.0000 - val_tp: 370.0000\n",
            "Epoch 38/100\n",
            "\u001b[1m828/828\u001b[0m \u001b[32m━━━━━━━━━━━━━━━━━━━━\u001b[0m\u001b[37m\u001b[0m \u001b[1m19s\u001b[0m 23ms/step - Brier score: 0.0020 - accuracy: 0.9977 - auc: 0.8950 - cross entropy: 0.0106 - fn: 1797.2834 - fp: 196.9119 - loss: 0.0106 - prc: 0.5970 - precision: 0.8648 - recall: 0.4090 - tn: 846701.6250 - tp: 1217.2123 - val_Brier score: 0.0022 - val_accuracy: 0.9973 - val_auc: 0.9059 - val_cross entropy: 0.0106 - val_fn: 1123.0000 - val_fp: 0.0000e+00 - val_loss: 0.0106 - val_prc: 0.6989 - val_precision: 1.0000 - val_recall: 0.2498 - val_tn: 421974.0000 - val_tp: 374.0000\n",
            "Epoch 39/100\n",
            "\u001b[1m828/828\u001b[0m \u001b[32m━━━━━━━━━━━━━━━━━━━━\u001b[0m\u001b[37m\u001b[0m \u001b[1m17s\u001b[0m 20ms/step - Brier score: 0.0020 - accuracy: 0.9977 - auc: 0.8984 - cross entropy: 0.0105 - fn: 1785.9167 - fp: 198.5585 - loss: 0.0105 - prc: 0.6010 - precision: 0.8647 - recall: 0.4176 - tn: 846675.1250 - tp: 1253.4620 - val_Brier score: 0.0024 - val_accuracy: 0.9972 - val_auc: 0.9052 - val_cross entropy: 0.0115 - val_fn: 1165.0000 - val_fp: 0.0000e+00 - val_loss: 0.0115 - val_prc: 0.7084 - val_precision: 1.0000 - val_recall: 0.2218 - val_tn: 421974.0000 - val_tp: 332.0000\n",
            "Epoch 40/100\n",
            "\u001b[1m828/828\u001b[0m \u001b[32m━━━━━━━━━━━━━━━━━━━━\u001b[0m\u001b[37m\u001b[0m \u001b[1m17s\u001b[0m 21ms/step - Brier score: 0.0020 - accuracy: 0.9977 - auc: 0.8961 - cross entropy: 0.0107 - fn: 1786.7841 - fp: 168.5259 - loss: 0.0107 - prc: 0.5938 - precision: 0.8859 - recall: 0.4052 - tn: 846737.2500 - tp: 1220.4982 - val_Brier score: 0.0022 - val_accuracy: 0.9974 - val_auc: 0.9067 - val_cross entropy: 0.0105 - val_fn: 1094.0000 - val_fp: 0.0000e+00 - val_loss: 0.0105 - val_prc: 0.7054 - val_precision: 1.0000 - val_recall: 0.2692 - val_tn: 421974.0000 - val_tp: 403.0000\n",
            "Epoch 41/100\n",
            "\u001b[1m828/828\u001b[0m \u001b[32m━━━━━━━━━━━━━━━━━━━━\u001b[0m\u001b[37m\u001b[0m \u001b[1m20s\u001b[0m 20ms/step - Brier score: 0.0020 - accuracy: 0.9976 - auc: 0.9010 - cross entropy: 0.0105 - fn: 1810.0037 - fp: 184.8649 - loss: 0.0105 - prc: 0.5934 - precision: 0.8670 - recall: 0.3939 - tn: 846719.3125 - tp: 1198.8733 - val_Brier score: 0.0021 - val_accuracy: 0.9974 - val_auc: 0.9081 - val_cross entropy: 0.0103 - val_fn: 1083.0000 - val_fp: 0.0000e+00 - val_loss: 0.0103 - val_prc: 0.7112 - val_precision: 1.0000 - val_recall: 0.2766 - val_tn: 421974.0000 - val_tp: 414.0000\n",
            "Epoch 42/100\n",
            "\u001b[1m828/828\u001b[0m \u001b[32m━━━━━━━━━━━━━━━━━━━━\u001b[0m\u001b[37m\u001b[0m \u001b[1m20s\u001b[0m 21ms/step - Brier score: 0.0020 - accuracy: 0.9977 - auc: 0.8978 - cross entropy: 0.0105 - fn: 1760.7744 - fp: 189.1049 - loss: 0.0105 - prc: 0.6149 - precision: 0.8706 - recall: 0.4234 - tn: 846668.0000 - tp: 1295.1423 - val_Brier score: 0.0022 - val_accuracy: 0.9974 - val_auc: 0.9060 - val_cross entropy: 0.0105 - val_fn: 1102.0000 - val_fp: 0.0000e+00 - val_loss: 0.0105 - val_prc: 0.7161 - val_precision: 1.0000 - val_recall: 0.2639 - val_tn: 421974.0000 - val_tp: 395.0000\n",
            "Epoch 43/100\n",
            "\u001b[1m828/828\u001b[0m \u001b[32m━━━━━━━━━━━━━━━━━━━━\u001b[0m\u001b[37m\u001b[0m \u001b[1m17s\u001b[0m 21ms/step - Brier score: 0.0020 - accuracy: 0.9977 - auc: 0.8927 - cross entropy: 0.0108 - fn: 1756.2714 - fp: 176.2473 - loss: 0.0108 - prc: 0.5969 - precision: 0.8815 - recall: 0.4183 - tn: 846690.6875 - tp: 1289.8456 - val_Brier score: 0.0023 - val_accuracy: 0.9973 - val_auc: 0.9072 - val_cross entropy: 0.0108 - val_fn: 1141.0000 - val_fp: 0.0000e+00 - val_loss: 0.0108 - val_prc: 0.7097 - val_precision: 1.0000 - val_recall: 0.2378 - val_tn: 421974.0000 - val_tp: 356.0000\n",
            "Epoch 44/100\n",
            "\u001b[1m828/828\u001b[0m \u001b[32m━━━━━━━━━━━━━━━━━━━━\u001b[0m\u001b[37m\u001b[0m \u001b[1m20s\u001b[0m 21ms/step - Brier score: 0.0019 - accuracy: 0.9978 - auc: 0.9009 - cross entropy: 0.0102 - fn: 1733.4825 - fp: 190.7226 - loss: 0.0102 - prc: 0.6167 - precision: 0.8729 - recall: 0.4299 - tn: 846712.8750 - tp: 1275.9313 - val_Brier score: 0.0021 - val_accuracy: 0.9975 - val_auc: 0.9066 - val_cross entropy: 0.0101 - val_fn: 1055.0000 - val_fp: 0.0000e+00 - val_loss: 0.0101 - val_prc: 0.7222 - val_precision: 1.0000 - val_recall: 0.2953 - val_tn: 421974.0000 - val_tp: 442.0000\n",
            "Epoch 45/100\n",
            "\u001b[1m828/828\u001b[0m \u001b[32m━━━━━━━━━━━━━━━━━━━━\u001b[0m\u001b[37m\u001b[0m \u001b[1m21s\u001b[0m 22ms/step - Brier score: 0.0020 - accuracy: 0.9977 - auc: 0.8953 - cross entropy: 0.0105 - fn: 1732.8010 - fp: 182.6007 - loss: 0.0105 - prc: 0.6203 - precision: 0.8751 - recall: 0.4361 - tn: 846656.1250 - tp: 1341.5295 - val_Brier score: 0.0021 - val_accuracy: 0.9975 - val_auc: 0.9066 - val_cross entropy: 0.0104 - val_fn: 1077.0000 - val_fp: 0.0000e+00 - val_loss: 0.0104 - val_prc: 0.7201 - val_precision: 1.0000 - val_recall: 0.2806 - val_tn: 421974.0000 - val_tp: 420.0000\n",
            "Epoch 46/100\n",
            "\u001b[1m828/828\u001b[0m \u001b[32m━━━━━━━━━━━━━━━━━━━━\u001b[0m\u001b[37m\u001b[0m \u001b[1m22s\u001b[0m 23ms/step - Brier score: 0.0019 - accuracy: 0.9979 - auc: 0.8960 - cross entropy: 0.0103 - fn: 1646.0494 - fp: 171.1206 - loss: 0.0103 - prc: 0.6315 - precision: 0.8917 - recall: 0.4616 - tn: 846687.3125 - tp: 1408.5874 - val_Brier score: 0.0022 - val_accuracy: 0.9974 - val_auc: 0.9056 - val_cross entropy: 0.0105 - val_fn: 1096.0000 - val_fp: 0.0000e+00 - val_loss: 0.0105 - val_prc: 0.7218 - val_precision: 1.0000 - val_recall: 0.2679 - val_tn: 421974.0000 - val_tp: 401.0000\n",
            "Epoch 47/100\n",
            "\u001b[1m828/828\u001b[0m \u001b[32m━━━━━━━━━━━━━━━━━━━━\u001b[0m\u001b[37m\u001b[0m \u001b[1m20s\u001b[0m 24ms/step - Brier score: 0.0019 - accuracy: 0.9978 - auc: 0.8898 - cross entropy: 0.0104 - fn: 1672.9698 - fp: 168.4982 - loss: 0.0104 - prc: 0.6154 - precision: 0.8865 - recall: 0.4368 - tn: 846738.5625 - tp: 1333.0374 - val_Brier score: 0.0020 - val_accuracy: 0.9976 - val_auc: 0.9067 - val_cross entropy: 0.0102 - val_fn: 1037.0000 - val_fp: 0.0000e+00 - val_loss: 0.0102 - val_prc: 0.7221 - val_precision: 1.0000 - val_recall: 0.3073 - val_tn: 421974.0000 - val_tp: 460.0000\n",
            "Epoch 48/100\n",
            "\u001b[1m828/828\u001b[0m \u001b[32m━━━━━━━━━━━━━━━━━━━━\u001b[0m\u001b[37m\u001b[0m \u001b[1m18s\u001b[0m 21ms/step - Brier score: 0.0018 - accuracy: 0.9979 - auc: 0.9013 - cross entropy: 0.0098 - fn: 1611.8058 - fp: 181.3896 - loss: 0.0098 - prc: 0.6338 - precision: 0.8842 - recall: 0.4582 - tn: 846749.7500 - tp: 1370.1134 - val_Brier score: 0.0020 - val_accuracy: 0.9976 - val_auc: 0.9069 - val_cross entropy: 0.0099 - val_fn: 1002.0000 - val_fp: 0.0000e+00 - val_loss: 0.0099 - val_prc: 0.7236 - val_precision: 1.0000 - val_recall: 0.3307 - val_tn: 421974.0000 - val_tp: 495.0000\n",
            "Epoch 49/100\n",
            "\u001b[1m828/828\u001b[0m \u001b[32m━━━━━━━━━━━━━━━━━━━━\u001b[0m\u001b[37m\u001b[0m \u001b[1m18s\u001b[0m 21ms/step - Brier score: 0.0019 - accuracy: 0.9978 - auc: 0.8987 - cross entropy: 0.0101 - fn: 1653.2582 - fp: 175.0374 - loss: 0.0101 - prc: 0.6354 - precision: 0.8864 - recall: 0.4570 - tn: 846710.0000 - tp: 1374.7697 - val_Brier score: 0.0020 - val_accuracy: 0.9975 - val_auc: 0.9086 - val_cross entropy: 0.0100 - val_fn: 1040.0000 - val_fp: 0.0000e+00 - val_loss: 0.0100 - val_prc: 0.7282 - val_precision: 1.0000 - val_recall: 0.3053 - val_tn: 421974.0000 - val_tp: 457.0000\n",
            "Epoch 50/100\n",
            "\u001b[1m828/828\u001b[0m \u001b[32m━━━━━━━━━━━━━━━━━━━━\u001b[0m\u001b[37m\u001b[0m \u001b[1m20s\u001b[0m 24ms/step - Brier score: 0.0019 - accuracy: 0.9978 - auc: 0.8992 - cross entropy: 0.0101 - fn: 1661.2509 - fp: 194.7515 - loss: 0.0101 - prc: 0.6400 - precision: 0.8764 - recall: 0.4598 - tn: 846658.6875 - tp: 1398.3245 - val_Brier score: 0.0022 - val_accuracy: 0.9974 - val_auc: 0.9087 - val_cross entropy: 0.0104 - val_fn: 1118.0000 - val_fp: 0.0000e+00 - val_loss: 0.0104 - val_prc: 0.7326 - val_precision: 1.0000 - val_recall: 0.2532 - val_tn: 421974.0000 - val_tp: 379.0000\n",
            "Epoch 51/100\n",
            "\u001b[1m828/828\u001b[0m \u001b[32m━━━━━━━━━━━━━━━━━━━━\u001b[0m\u001b[37m\u001b[0m \u001b[1m18s\u001b[0m 21ms/step - Brier score: 0.0018 - accuracy: 0.9979 - auc: 0.8970 - cross entropy: 0.0100 - fn: 1629.9047 - fp: 162.9216 - loss: 0.0100 - prc: 0.6326 - precision: 0.8956 - recall: 0.4510 - tn: 846756.9375 - tp: 1363.2859 - val_Brier score: 0.0020 - val_accuracy: 0.9976 - val_auc: 0.9080 - val_cross entropy: 0.0101 - val_fn: 1037.0000 - val_fp: 0.0000e+00 - val_loss: 0.0101 - val_prc: 0.7295 - val_precision: 1.0000 - val_recall: 0.3073 - val_tn: 421974.0000 - val_tp: 460.0000\n",
            "Epoch 52/100\n",
            "\u001b[1m828/828\u001b[0m \u001b[32m━━━━━━━━━━━━━━━━━━━━\u001b[0m\u001b[37m\u001b[0m \u001b[1m20s\u001b[0m 21ms/step - Brier score: 0.0018 - accuracy: 0.9979 - auc: 0.8998 - cross entropy: 0.0100 - fn: 1610.1870 - fp: 173.7889 - loss: 0.0100 - prc: 0.6337 - precision: 0.8885 - recall: 0.4624 - tn: 846717.3750 - tp: 1411.6948 - val_Brier score: 0.0020 - val_accuracy: 0.9976 - val_auc: 0.9080 - val_cross entropy: 0.0098 - val_fn: 1015.0000 - val_fp: 0.0000e+00 - val_loss: 0.0098 - val_prc: 0.7298 - val_precision: 1.0000 - val_recall: 0.3220 - val_tn: 421974.0000 - val_tp: 482.0000\n",
            "Epoch 53/100\n",
            "\u001b[1m828/828\u001b[0m \u001b[32m━━━━━━━━━━━━━━━━━━━━\u001b[0m\u001b[37m\u001b[0m \u001b[1m19s\u001b[0m 23ms/step - Brier score: 0.0018 - accuracy: 0.9979 - auc: 0.9013 - cross entropy: 0.0100 - fn: 1650.6791 - fp: 196.1846 - loss: 0.0100 - prc: 0.6306 - precision: 0.8765 - recall: 0.4569 - tn: 846702.1875 - tp: 1363.9746 - val_Brier score: 0.0019 - val_accuracy: 0.9977 - val_auc: 0.9075 - val_cross entropy: 0.0097 - val_fn: 989.0000 - val_fp: 0.0000e+00 - val_loss: 0.0097 - val_prc: 0.7322 - val_precision: 1.0000 - val_recall: 0.3393 - val_tn: 421974.0000 - val_tp: 508.0000\n",
            "Epoch 54/100\n",
            "\u001b[1m828/828\u001b[0m \u001b[32m━━━━━━━━━━━━━━━━━━━━\u001b[0m\u001b[37m\u001b[0m \u001b[1m18s\u001b[0m 22ms/step - Brier score: 0.0018 - accuracy: 0.9980 - auc: 0.9030 - cross entropy: 0.0097 - fn: 1594.3896 - fp: 177.1206 - loss: 0.0097 - prc: 0.6545 - precision: 0.8941 - recall: 0.4803 - tn: 846721.2500 - tp: 1420.2810 - val_Brier score: 0.0020 - val_accuracy: 0.9975 - val_auc: 0.9095 - val_cross entropy: 0.0100 - val_fn: 1044.0000 - val_fp: 0.0000e+00 - val_loss: 0.0100 - val_prc: 0.7249 - val_precision: 1.0000 - val_recall: 0.3026 - val_tn: 421974.0000 - val_tp: 453.0000\n",
            "Epoch 55/100\n",
            "\u001b[1m828/828\u001b[0m \u001b[32m━━━━━━━━━━━━━━━━━━━━\u001b[0m\u001b[37m\u001b[0m \u001b[1m20s\u001b[0m 21ms/step - Brier score: 0.0018 - accuracy: 0.9979 - auc: 0.8981 - cross entropy: 0.0100 - fn: 1601.0037 - fp: 176.9626 - loss: 0.0100 - prc: 0.6379 - precision: 0.8918 - recall: 0.4683 - tn: 846721.2500 - tp: 1413.8094 - val_Brier score: 0.0019 - val_accuracy: 0.9978 - val_auc: 0.9087 - val_cross entropy: 0.0095 - val_fn: 948.0000 - val_fp: 0.0000e+00 - val_loss: 0.0095 - val_prc: 0.7303 - val_precision: 1.0000 - val_recall: 0.3667 - val_tn: 421974.0000 - val_tp: 549.0000\n",
            "Epoch 56/100\n",
            "\u001b[1m828/828\u001b[0m \u001b[32m━━━━━━━━━━━━━━━━━━━━\u001b[0m\u001b[37m\u001b[0m \u001b[1m24s\u001b[0m 26ms/step - Brier score: 0.0018 - accuracy: 0.9979 - auc: 0.8985 - cross entropy: 0.0099 - fn: 1591.9167 - fp: 186.8408 - loss: 0.0099 - prc: 0.6479 - precision: 0.8794 - recall: 0.4732 - tn: 846698.3750 - tp: 1435.9240 - val_Brier score: 0.0020 - val_accuracy: 0.9976 - val_auc: 0.9104 - val_cross entropy: 0.0099 - val_fn: 1030.0000 - val_fp: 0.0000e+00 - val_loss: 0.0099 - val_prc: 0.7326 - val_precision: 1.0000 - val_recall: 0.3120 - val_tn: 421974.0000 - val_tp: 467.0000\n",
            "Epoch 57/100\n",
            "\u001b[1m828/828\u001b[0m \u001b[32m━━━━━━━━━━━━━━━━━━━━\u001b[0m\u001b[37m\u001b[0m \u001b[1m39s\u001b[0m 23ms/step - Brier score: 0.0018 - accuracy: 0.9979 - auc: 0.8994 - cross entropy: 0.0101 - fn: 1613.5031 - fp: 183.9216 - loss: 0.0101 - prc: 0.6347 - precision: 0.8845 - recall: 0.4638 - tn: 846719.3125 - tp: 1396.3269 - val_Brier score: 0.0020 - val_accuracy: 0.9976 - val_auc: 0.9103 - val_cross entropy: 0.0098 - val_fn: 1005.0000 - val_fp: 0.0000e+00 - val_loss: 0.0098 - val_prc: 0.7308 - val_precision: 1.0000 - val_recall: 0.3287 - val_tn: 421974.0000 - val_tp: 492.0000\n",
            "Epoch 58/100\n",
            "\u001b[1m828/828\u001b[0m \u001b[32m━━━━━━━━━━━━━━━━━━━━\u001b[0m\u001b[37m\u001b[0m \u001b[1m18s\u001b[0m 21ms/step - Brier score: 0.0018 - accuracy: 0.9979 - auc: 0.8975 - cross entropy: 0.0099 - fn: 1569.3136 - fp: 184.6261 - loss: 0.0099 - prc: 0.6434 - precision: 0.8860 - recall: 0.4749 - tn: 846723.9375 - tp: 1435.1786 - val_Brier score: 0.0021 - val_accuracy: 0.9975 - val_auc: 0.9083 - val_cross entropy: 0.0101 - val_fn: 1066.0000 - val_fp: 0.0000e+00 - val_loss: 0.0101 - val_prc: 0.7308 - val_precision: 1.0000 - val_recall: 0.2879 - val_tn: 421974.0000 - val_tp: 431.0000\n",
            "Epoch 59/100\n",
            "\u001b[1m828/828\u001b[0m \u001b[32m━━━━━━━━━━━━━━━━━━━━\u001b[0m\u001b[37m\u001b[0m \u001b[1m17s\u001b[0m 21ms/step - Brier score: 0.0018 - accuracy: 0.9979 - auc: 0.8983 - cross entropy: 0.0099 - fn: 1560.1110 - fp: 185.0386 - loss: 0.0099 - prc: 0.6443 - precision: 0.8841 - recall: 0.4768 - tn: 846704.1250 - tp: 1463.7600 - val_Brier score: 0.0019 - val_accuracy: 0.9977 - val_auc: 0.9063 - val_cross entropy: 0.0097 - val_fn: 969.0000 - val_fp: 0.0000e+00 - val_loss: 0.0097 - val_prc: 0.7288 - val_precision: 1.0000 - val_recall: 0.3527 - val_tn: 421974.0000 - val_tp: 528.0000\n",
            "Epoch 60/100\n",
            "\u001b[1m828/828\u001b[0m \u001b[32m━━━━━━━━━━━━━━━━━━━━\u001b[0m\u001b[37m\u001b[0m \u001b[1m17s\u001b[0m 21ms/step - Brier score: 0.0018 - accuracy: 0.9980 - auc: 0.9030 - cross entropy: 0.0098 - fn: 1561.0880 - fp: 183.2545 - loss: 0.0098 - prc: 0.6608 - precision: 0.8935 - recall: 0.4960 - tn: 846668.0625 - tp: 1500.6671 - val_Brier score: 0.0019 - val_accuracy: 0.9977 - val_auc: 0.9073 - val_cross entropy: 0.0097 - val_fn: 965.0000 - val_fp: 0.0000e+00 - val_loss: 0.0097 - val_prc: 0.7264 - val_precision: 1.0000 - val_recall: 0.3554 - val_tn: 421974.0000 - val_tp: 532.0000\n",
            "Epoch 61/100\n",
            "\u001b[1m828/828\u001b[0m \u001b[32m━━━━━━━━━━━━━━━━━━━━\u001b[0m\u001b[37m\u001b[0m \u001b[1m17s\u001b[0m 21ms/step - Brier score: 0.0018 - accuracy: 0.9980 - auc: 0.9016 - cross entropy: 0.0097 - fn: 1529.7708 - fp: 175.7045 - loss: 0.0097 - prc: 0.6564 - precision: 0.8952 - recall: 0.4903 - tn: 846714.5625 - tp: 1493.0242 - val_Brier score: 0.0020 - val_accuracy: 0.9976 - val_auc: 0.9051 - val_cross entropy: 0.0099 - val_fn: 1027.0000 - val_fp: 0.0000e+00 - val_loss: 0.0099 - val_prc: 0.7277 - val_precision: 1.0000 - val_recall: 0.3140 - val_tn: 421974.0000 - val_tp: 470.0000\n",
            "Epoch 62/100\n",
            "\u001b[1m828/828\u001b[0m \u001b[32m━━━━━━━━━━━━━━━━━━━━\u001b[0m\u001b[37m\u001b[0m \u001b[1m21s\u001b[0m 22ms/step - Brier score: 0.0018 - accuracy: 0.9980 - auc: 0.8974 - cross entropy: 0.0098 - fn: 1545.0748 - fp: 171.8926 - loss: 0.0098 - prc: 0.6530 - precision: 0.8932 - recall: 0.4858 - tn: 846731.1250 - tp: 1464.9192 - val_Brier score: 0.0019 - val_accuracy: 0.9977 - val_auc: 0.9099 - val_cross entropy: 0.0096 - val_fn: 973.0000 - val_fp: 0.0000e+00 - val_loss: 0.0096 - val_prc: 0.7331 - val_precision: 1.0000 - val_recall: 0.3500 - val_tn: 421974.0000 - val_tp: 524.0000\n",
            "Epoch 63/100\n",
            "\u001b[1m828/828\u001b[0m \u001b[32m━━━━━━━━━━━━━━━━━━━━\u001b[0m\u001b[37m\u001b[0m \u001b[1m20s\u001b[0m 21ms/step - Brier score: 0.0017 - accuracy: 0.9980 - auc: 0.9047 - cross entropy: 0.0095 - fn: 1514.0977 - fp: 160.9469 - loss: 0.0095 - prc: 0.6598 - precision: 0.9035 - recall: 0.4947 - tn: 846755.0000 - tp: 1482.9879 - val_Brier score: 0.0019 - val_accuracy: 0.9977 - val_auc: 0.9075 - val_cross entropy: 0.0096 - val_fn: 954.0000 - val_fp: 0.0000e+00 - val_loss: 0.0096 - val_prc: 0.7360 - val_precision: 1.0000 - val_recall: 0.3627 - val_tn: 421974.0000 - val_tp: 543.0000\n",
            "Epoch 64/100\n",
            "\u001b[1m828/828\u001b[0m \u001b[32m━━━━━━━━━━━━━━━━━━━━\u001b[0m\u001b[37m\u001b[0m \u001b[1m25s\u001b[0m 26ms/step - Brier score: 0.0017 - accuracy: 0.9981 - auc: 0.9052 - cross entropy: 0.0093 - fn: 1506.8396 - fp: 164.8589 - loss: 0.0093 - prc: 0.6674 - precision: 0.9008 - recall: 0.5061 - tn: 846738.7500 - tp: 1502.6091 - val_Brier score: 0.0019 - val_accuracy: 0.9977 - val_auc: 0.9044 - val_cross entropy: 0.0096 - val_fn: 963.0000 - val_fp: 0.0000e+00 - val_loss: 0.0096 - val_prc: 0.7315 - val_precision: 1.0000 - val_recall: 0.3567 - val_tn: 421974.0000 - val_tp: 534.0000\n",
            "Epoch 65/100\n",
            "\u001b[1m828/828\u001b[0m \u001b[32m━━━━━━━━━━━━━━━━━━━━\u001b[0m\u001b[37m\u001b[0m \u001b[1m39s\u001b[0m 23ms/step - Brier score: 0.0018 - accuracy: 0.9979 - auc: 0.8974 - cross entropy: 0.0099 - fn: 1559.4246 - fp: 182.4837 - loss: 0.0099 - prc: 0.6519 - precision: 0.8927 - recall: 0.4818 - tn: 846702.2500 - tp: 1468.9023 - val_Brier score: 0.0021 - val_accuracy: 0.9974 - val_auc: 0.9072 - val_cross entropy: 0.0103 - val_fn: 1102.0000 - val_fp: 0.0000e+00 - val_loss: 0.0103 - val_prc: 0.7355 - val_precision: 1.0000 - val_recall: 0.2639 - val_tn: 421974.0000 - val_tp: 395.0000\n",
            "Epoch 66/100\n",
            "\u001b[1m828/828\u001b[0m \u001b[32m━━━━━━━━━━━━━━━━━━━━\u001b[0m\u001b[37m\u001b[0m \u001b[1m18s\u001b[0m 22ms/step - Brier score: 0.0017 - accuracy: 0.9980 - auc: 0.9014 - cross entropy: 0.0096 - fn: 1515.7262 - fp: 174.4572 - loss: 0.0096 - prc: 0.6651 - precision: 0.8975 - recall: 0.5012 - tn: 846716.3750 - tp: 1506.4777 - val_Brier score: 0.0019 - val_accuracy: 0.9977 - val_auc: 0.9089 - val_cross entropy: 0.0095 - val_fn: 988.0000 - val_fp: 0.0000e+00 - val_loss: 0.0095 - val_prc: 0.7396 - val_precision: 1.0000 - val_recall: 0.3400 - val_tn: 421974.0000 - val_tp: 509.0000\n",
            "Epoch 67/100\n",
            "\u001b[1m828/828\u001b[0m \u001b[32m━━━━━━━━━━━━━━━━━━━━\u001b[0m\u001b[37m\u001b[0m \u001b[1m18s\u001b[0m 22ms/step - Brier score: 0.0018 - accuracy: 0.9979 - auc: 0.8992 - cross entropy: 0.0100 - fn: 1557.1050 - fp: 184.2702 - loss: 0.0100 - prc: 0.6430 - precision: 0.8867 - recall: 0.4752 - tn: 846690.6875 - tp: 1480.9963 - val_Brier score: 0.0019 - val_accuracy: 0.9977 - val_auc: 0.9108 - val_cross entropy: 0.0095 - val_fn: 954.0000 - val_fp: 0.0000e+00 - val_loss: 0.0095 - val_prc: 0.7414 - val_precision: 1.0000 - val_recall: 0.3627 - val_tn: 421974.0000 - val_tp: 543.0000\n",
            "Epoch 68/100\n",
            "\u001b[1m828/828\u001b[0m \u001b[32m━━━━━━━━━━━━━━━━━━━━\u001b[0m\u001b[37m\u001b[0m \u001b[1m21s\u001b[0m 22ms/step - Brier score: 0.0017 - accuracy: 0.9981 - auc: 0.9076 - cross entropy: 0.0092 - fn: 1484.9325 - fp: 170.2991 - loss: 0.0092 - prc: 0.6747 - precision: 0.8993 - recall: 0.5075 - tn: 846739.5625 - tp: 1518.2582 - val_Brier score: 0.0019 - val_accuracy: 0.9977 - val_auc: 0.9080 - val_cross entropy: 0.0095 - val_fn: 967.0000 - val_fp: 0.0000e+00 - val_loss: 0.0095 - val_prc: 0.7392 - val_precision: 1.0000 - val_recall: 0.3540 - val_tn: 421974.0000 - val_tp: 530.0000\n",
            "Epoch 69/100\n",
            "\u001b[1m828/828\u001b[0m \u001b[32m━━━━━━━━━━━━━━━━━━━━\u001b[0m\u001b[37m\u001b[0m \u001b[1m19s\u001b[0m 23ms/step - Brier score: 0.0017 - accuracy: 0.9980 - auc: 0.9011 - cross entropy: 0.0095 - fn: 1502.9325 - fp: 164.1375 - loss: 0.0095 - prc: 0.6691 - precision: 0.9062 - recall: 0.5069 - tn: 846709.6250 - tp: 1536.3511 - val_Brier score: 0.0018 - val_accuracy: 0.9978 - val_auc: 0.9099 - val_cross entropy: 0.0093 - val_fn: 917.0000 - val_fp: 0.0000e+00 - val_loss: 0.0093 - val_prc: 0.7398 - val_precision: 1.0000 - val_recall: 0.3874 - val_tn: 421974.0000 - val_tp: 580.0000\n",
            "Epoch 70/100\n",
            "\u001b[1m828/828\u001b[0m \u001b[32m━━━━━━━━━━━━━━━━━━━━\u001b[0m\u001b[37m\u001b[0m \u001b[1m19s\u001b[0m 22ms/step - Brier score: 0.0017 - accuracy: 0.9981 - auc: 0.9052 - cross entropy: 0.0092 - fn: 1471.0410 - fp: 165.9192 - loss: 0.0092 - prc: 0.6711 - precision: 0.9014 - recall: 0.5091 - tn: 846756.0625 - tp: 1520.0507 - val_Brier score: 0.0018 - val_accuracy: 0.9978 - val_auc: 0.9083 - val_cross entropy: 0.0093 - val_fn: 932.0000 - val_fp: 0.0000e+00 - val_loss: 0.0093 - val_prc: 0.7376 - val_precision: 1.0000 - val_recall: 0.3774 - val_tn: 421974.0000 - val_tp: 565.0000\n",
            "Epoch 71/100\n",
            "\u001b[1m828/828\u001b[0m \u001b[32m━━━━━━━━━━━━━━━━━━━━\u001b[0m\u001b[37m\u001b[0m \u001b[1m20s\u001b[0m 22ms/step - Brier score: 0.0017 - accuracy: 0.9981 - auc: 0.9030 - cross entropy: 0.0095 - fn: 1491.3944 - fp: 165.3691 - loss: 0.0095 - prc: 0.6748 - precision: 0.9067 - recall: 0.5117 - tn: 846714.5000 - tp: 1541.7600 - val_Brier score: 0.0018 - val_accuracy: 0.9978 - val_auc: 0.9109 - val_cross entropy: 0.0093 - val_fn: 920.0000 - val_fp: 0.0000e+00 - val_loss: 0.0093 - val_prc: 0.7401 - val_precision: 1.0000 - val_recall: 0.3854 - val_tn: 421974.0000 - val_tp: 577.0000\n",
            "Epoch 72/100\n",
            "\u001b[1m828/828\u001b[0m \u001b[32m━━━━━━━━━━━━━━━━━━━━\u001b[0m\u001b[37m\u001b[0m \u001b[1m23s\u001b[0m 27ms/step - Brier score: 0.0017 - accuracy: 0.9980 - auc: 0.9043 - cross entropy: 0.0097 - fn: 1517.4210 - fp: 174.4101 - loss: 0.0097 - prc: 0.6674 - precision: 0.9002 - recall: 0.5105 - tn: 846676.1875 - tp: 1545.0338 - val_Brier score: 0.0017 - val_accuracy: 0.9979 - val_auc: 0.9078 - val_cross entropy: 0.0091 - val_fn: 880.0000 - val_fp: 0.0000e+00 - val_loss: 0.0091 - val_prc: 0.7428 - val_precision: 1.0000 - val_recall: 0.4122 - val_tn: 421974.0000 - val_tp: 617.0000\n",
            "Epoch 73/100\n",
            "\u001b[1m828/828\u001b[0m \u001b[32m━━━━━━━━━━━━━━━━━━━━\u001b[0m\u001b[37m\u001b[0m \u001b[1m37s\u001b[0m 22ms/step - Brier score: 0.0017 - accuracy: 0.9981 - auc: 0.9056 - cross entropy: 0.0093 - fn: 1476.8685 - fp: 175.8890 - loss: 0.0093 - prc: 0.6720 - precision: 0.8937 - recall: 0.5160 - tn: 846719.8125 - tp: 1540.4559 - val_Brier score: 0.0018 - val_accuracy: 0.9978 - val_auc: 0.9065 - val_cross entropy: 0.0093 - val_fn: 927.0000 - val_fp: 0.0000e+00 - val_loss: 0.0093 - val_prc: 0.7398 - val_precision: 1.0000 - val_recall: 0.3808 - val_tn: 421974.0000 - val_tp: 570.0000\n",
            "Epoch 74/100\n",
            "\u001b[1m828/828\u001b[0m \u001b[32m━━━━━━━━━━━━━━━━━━━━\u001b[0m\u001b[37m\u001b[0m \u001b[1m21s\u001b[0m 23ms/step - Brier score: 0.0017 - accuracy: 0.9981 - auc: 0.9063 - cross entropy: 0.0092 - fn: 1481.6719 - fp: 168.8311 - loss: 0.0092 - prc: 0.6716 - precision: 0.8933 - recall: 0.5056 - tn: 846758.7500 - tp: 1503.8082 - val_Brier score: 0.0018 - val_accuracy: 0.9978 - val_auc: 0.9057 - val_cross entropy: 0.0094 - val_fn: 936.0000 - val_fp: 0.0000e+00 - val_loss: 0.0094 - val_prc: 0.7394 - val_precision: 1.0000 - val_recall: 0.3747 - val_tn: 421974.0000 - val_tp: 561.0000\n",
            "Epoch 75/100\n",
            "\u001b[1m828/828\u001b[0m \u001b[32m━━━━━━━━━━━━━━━━━━━━\u001b[0m\u001b[37m\u001b[0m \u001b[1m18s\u001b[0m 22ms/step - Brier score: 0.0017 - accuracy: 0.9980 - auc: 0.9026 - cross entropy: 0.0095 - fn: 1486.5718 - fp: 164.5742 - loss: 0.0095 - prc: 0.6739 - precision: 0.9057 - recall: 0.5157 - tn: 846688.1875 - tp: 1573.7069 - val_Brier score: 0.0018 - val_accuracy: 0.9978 - val_auc: 0.9058 - val_cross entropy: 0.0092 - val_fn: 915.0000 - val_fp: 0.0000e+00 - val_loss: 0.0092 - val_prc: 0.7408 - val_precision: 1.0000 - val_recall: 0.3888 - val_tn: 421974.0000 - val_tp: 582.0000\n",
            "Epoch 76/100\n",
            "\u001b[1m828/828\u001b[0m \u001b[32m━━━━━━━━━━━━━━━━━━━━\u001b[0m\u001b[37m\u001b[0m \u001b[1m18s\u001b[0m 22ms/step - Brier score: 0.0017 - accuracy: 0.9980 - auc: 0.9070 - cross entropy: 0.0094 - fn: 1492.5043 - fp: 181.1653 - loss: 0.0094 - prc: 0.6747 - precision: 0.8938 - recall: 0.5117 - tn: 846689.2500 - tp: 1550.1351 - val_Brier score: 0.0018 - val_accuracy: 0.9979 - val_auc: 0.9146 - val_cross entropy: 0.0091 - val_fn: 898.0000 - val_fp: 0.0000e+00 - val_loss: 0.0091 - val_prc: 0.7493 - val_precision: 1.0000 - val_recall: 0.4001 - val_tn: 421974.0000 - val_tp: 599.0000\n",
            "Epoch 77/100\n",
            "\u001b[1m828/828\u001b[0m \u001b[32m━━━━━━━━━━━━━━━━━━━━\u001b[0m\u001b[37m\u001b[0m \u001b[1m22s\u001b[0m 24ms/step - Brier score: 0.0017 - accuracy: 0.9981 - auc: 0.9097 - cross entropy: 0.0093 - fn: 1483.2292 - fp: 160.9469 - loss: 0.0093 - prc: 0.6753 - precision: 0.9058 - recall: 0.5116 - tn: 846718.7500 - tp: 1550.1448 - val_Brier score: 0.0017 - val_accuracy: 0.9980 - val_auc: 0.9237 - val_cross entropy: 0.0086 - val_fn: 858.0000 - val_fp: 0.0000e+00 - val_loss: 0.0086 - val_prc: 0.7576 - val_precision: 1.0000 - val_recall: 0.4269 - val_tn: 421974.0000 - val_tp: 639.0000\n",
            "Epoch 78/100\n",
            "\u001b[1m828/828\u001b[0m \u001b[32m━━━━━━━━━━━━━━━━━━━━\u001b[0m\u001b[37m\u001b[0m \u001b[1m19s\u001b[0m 22ms/step - Brier score: 0.0017 - accuracy: 0.9981 - auc: 0.9071 - cross entropy: 0.0093 - fn: 1477.4741 - fp: 152.7696 - loss: 0.0093 - prc: 0.6662 - precision: 0.9103 - recall: 0.5027 - tn: 846740.9375 - tp: 1541.8782 - val_Brier score: 0.0016 - val_accuracy: 0.9981 - val_auc: 0.9216 - val_cross entropy: 0.0084 - val_fn: 814.0000 - val_fp: 0.0000e+00 - val_loss: 0.0084 - val_prc: 0.7527 - val_precision: 1.0000 - val_recall: 0.4562 - val_tn: 421974.0000 - val_tp: 683.0000\n",
            "Epoch 79/100\n",
            "\u001b[1m828/828\u001b[0m \u001b[32m━━━━━━━━━━━━━━━━━━━━\u001b[0m\u001b[37m\u001b[0m \u001b[1m18s\u001b[0m 22ms/step - Brier score: 0.0017 - accuracy: 0.9981 - auc: 0.9104 - cross entropy: 0.0092 - fn: 1471.4861 - fp: 152.6502 - loss: 0.0092 - prc: 0.6751 - precision: 0.9100 - recall: 0.5128 - tn: 846748.8750 - tp: 1540.0579 - val_Brier score: 0.0017 - val_accuracy: 0.9979 - val_auc: 0.9214 - val_cross entropy: 0.0088 - val_fn: 876.0000 - val_fp: 0.0000e+00 - val_loss: 0.0088 - val_prc: 0.7547 - val_precision: 1.0000 - val_recall: 0.4148 - val_tn: 421974.0000 - val_tp: 621.0000\n",
            "Epoch 80/100\n",
            "\u001b[1m828/828\u001b[0m \u001b[32m━━━━━━━━━━━━━━━━━━━━\u001b[0m\u001b[37m\u001b[0m \u001b[1m23s\u001b[0m 25ms/step - Brier score: 0.0017 - accuracy: 0.9980 - auc: 0.9151 - cross entropy: 0.0091 - fn: 1468.5500 - fp: 162.7419 - loss: 0.0091 - prc: 0.6828 - precision: 0.9027 - recall: 0.5113 - tn: 846732.5625 - tp: 1549.1809 - val_Brier score: 0.0018 - val_accuracy: 0.9978 - val_auc: 0.9223 - val_cross entropy: 0.0089 - val_fn: 913.0000 - val_fp: 0.0000e+00 - val_loss: 0.0089 - val_prc: 0.7623 - val_precision: 1.0000 - val_recall: 0.3901 - val_tn: 421974.0000 - val_tp: 584.0000\n",
            "Epoch 81/100\n",
            "\u001b[1m828/828\u001b[0m \u001b[32m━━━━━━━━━━━━━━━━━━━━\u001b[0m\u001b[37m\u001b[0m \u001b[1m39s\u001b[0m 22ms/step - Brier score: 0.0017 - accuracy: 0.9981 - auc: 0.9156 - cross entropy: 0.0091 - fn: 1465.5754 - fp: 164.2618 - loss: 0.0091 - prc: 0.6886 - precision: 0.9086 - recall: 0.5249 - tn: 846677.1250 - tp: 1606.0699 - val_Brier score: 0.0018 - val_accuracy: 0.9979 - val_auc: 0.9227 - val_cross entropy: 0.0087 - val_fn: 896.0000 - val_fp: 0.0000e+00 - val_loss: 0.0087 - val_prc: 0.7589 - val_precision: 1.0000 - val_recall: 0.4015 - val_tn: 421974.0000 - val_tp: 601.0000\n",
            "Epoch 82/100\n",
            "\u001b[1m828/828\u001b[0m \u001b[32m━━━━━━━━━━━━━━━━━━━━\u001b[0m\u001b[37m\u001b[0m \u001b[1m18s\u001b[0m 22ms/step - Brier score: 0.0017 - accuracy: 0.9981 - auc: 0.9132 - cross entropy: 0.0093 - fn: 1455.6768 - fp: 158.7081 - loss: 0.0093 - prc: 0.6742 - precision: 0.9041 - recall: 0.5132 - tn: 846712.3750 - tp: 1586.2968 - val_Brier score: 0.0017 - val_accuracy: 0.9980 - val_auc: 0.9266 - val_cross entropy: 0.0084 - val_fn: 850.0000 - val_fp: 0.0000e+00 - val_loss: 0.0084 - val_prc: 0.7663 - val_precision: 1.0000 - val_recall: 0.4322 - val_tn: 421974.0000 - val_tp: 647.0000\n",
            "Epoch 83/100\n",
            "\u001b[1m828/828\u001b[0m \u001b[32m━━━━━━━━━━━━━━━━━━━━\u001b[0m\u001b[37m\u001b[0m \u001b[1m20s\u001b[0m 24ms/step - Brier score: 0.0017 - accuracy: 0.9980 - auc: 0.9192 - cross entropy: 0.0091 - fn: 1474.3969 - fp: 171.8456 - loss: 0.0091 - prc: 0.6900 - precision: 0.8996 - recall: 0.5223 - tn: 846657.7500 - tp: 1609.0459 - val_Brier score: 0.0017 - val_accuracy: 0.9980 - val_auc: 0.9338 - val_cross entropy: 0.0082 - val_fn: 828.0000 - val_fp: 0.0000e+00 - val_loss: 0.0082 - val_prc: 0.7716 - val_precision: 1.0000 - val_recall: 0.4469 - val_tn: 421974.0000 - val_tp: 669.0000\n",
            "Epoch 84/100\n",
            "\u001b[1m828/828\u001b[0m \u001b[32m━━━━━━━━━━━━━━━━━━━━\u001b[0m\u001b[37m\u001b[0m \u001b[1m18s\u001b[0m 22ms/step - Brier score: 0.0017 - accuracy: 0.9981 - auc: 0.9192 - cross entropy: 0.0090 - fn: 1448.5706 - fp: 158.9264 - loss: 0.0090 - prc: 0.6857 - precision: 0.9102 - recall: 0.5218 - tn: 846713.6875 - tp: 1591.8589 - val_Brier score: 0.0017 - val_accuracy: 0.9980 - val_auc: 0.9400 - val_cross entropy: 0.0080 - val_fn: 865.0000 - val_fp: 0.0000e+00 - val_loss: 0.0080 - val_prc: 0.7833 - val_precision: 1.0000 - val_recall: 0.4222 - val_tn: 421974.0000 - val_tp: 632.0000\n",
            "Epoch 85/100\n",
            "\u001b[1m828/828\u001b[0m \u001b[32m━━━━━━━━━━━━━━━━━━━━\u001b[0m\u001b[37m\u001b[0m \u001b[1m18s\u001b[0m 22ms/step - Brier score: 0.0016 - accuracy: 0.9981 - auc: 0.9199 - cross entropy: 0.0087 - fn: 1432.1942 - fp: 159.3028 - loss: 0.0087 - prc: 0.6986 - precision: 0.9102 - recall: 0.5344 - tn: 846706.7500 - tp: 1614.7660 - val_Brier score: 0.0017 - val_accuracy: 0.9979 - val_auc: 0.9415 - val_cross entropy: 0.0081 - val_fn: 884.0000 - val_fp: 0.0000e+00 - val_loss: 0.0081 - val_prc: 0.7835 - val_precision: 1.0000 - val_recall: 0.4095 - val_tn: 421974.0000 - val_tp: 613.0000\n",
            "Epoch 86/100\n",
            "\u001b[1m828/828\u001b[0m \u001b[32m━━━━━━━━━━━━━━━━━━━━\u001b[0m\u001b[37m\u001b[0m \u001b[1m21s\u001b[0m 22ms/step - Brier score: 0.0017 - accuracy: 0.9981 - auc: 0.9221 - cross entropy: 0.0088 - fn: 1458.4596 - fp: 168.1520 - loss: 0.0088 - prc: 0.6858 - precision: 0.8976 - recall: 0.5176 - tn: 846718.9375 - tp: 1567.4752 - val_Brier score: 0.0017 - val_accuracy: 0.9980 - val_auc: 0.9407 - val_cross entropy: 0.0080 - val_fn: 845.0000 - val_fp: 0.0000e+00 - val_loss: 0.0080 - val_prc: 0.7827 - val_precision: 1.0000 - val_recall: 0.4355 - val_tn: 421974.0000 - val_tp: 652.0000\n",
            "Epoch 87/100\n",
            "\u001b[1m828/828\u001b[0m \u001b[32m━━━━━━━━━━━━━━━━━━━━\u001b[0m\u001b[37m\u001b[0m \u001b[1m20s\u001b[0m 23ms/step - Brier score: 0.0017 - accuracy: 0.9980 - auc: 0.9261 - cross entropy: 0.0088 - fn: 1495.4910 - fp: 153.9228 - loss: 0.0088 - prc: 0.6762 - precision: 0.9092 - recall: 0.4974 - tn: 846728.9375 - tp: 1534.7057 - val_Brier score: 0.0016 - val_accuracy: 0.9980 - val_auc: 0.9437 - val_cross entropy: 0.0077 - val_fn: 840.0000 - val_fp: 0.0000e+00 - val_loss: 0.0077 - val_prc: 0.7920 - val_precision: 1.0000 - val_recall: 0.4389 - val_tn: 421974.0000 - val_tp: 657.0000\n",
            "Epoch 88/100\n",
            "\u001b[1m828/828\u001b[0m \u001b[32m━━━━━━━━━━━━━━━━━━━━\u001b[0m\u001b[37m\u001b[0m \u001b[1m21s\u001b[0m 25ms/step - Brier score: 0.0016 - accuracy: 0.9982 - auc: 0.9301 - cross entropy: 0.0082 - fn: 1417.0543 - fp: 155.5380 - loss: 0.0082 - prc: 0.7055 - precision: 0.9103 - recall: 0.5309 - tn: 846769.6875 - tp: 1570.7334 - val_Brier score: 0.0017 - val_accuracy: 0.9979 - val_auc: 0.9450 - val_cross entropy: 0.0078 - val_fn: 899.0000 - val_fp: 0.0000e+00 - val_loss: 0.0078 - val_prc: 0.8004 - val_precision: 1.0000 - val_recall: 0.3995 - val_tn: 421974.0000 - val_tp: 598.0000\n",
            "Epoch 89/100\n",
            "\u001b[1m828/828\u001b[0m \u001b[32m━━━━━━━━━━━━━━━━━━━━\u001b[0m\u001b[37m\u001b[0m \u001b[1m18s\u001b[0m 22ms/step - Brier score: 0.0016 - accuracy: 0.9982 - auc: 0.9295 - cross entropy: 0.0084 - fn: 1426.7406 - fp: 154.6562 - loss: 0.0084 - prc: 0.7070 - precision: 0.9156 - recall: 0.5343 - tn: 846728.6875 - tp: 1602.9832 - val_Brier score: 0.0015 - val_accuracy: 0.9982 - val_auc: 0.9415 - val_cross entropy: 0.0072 - val_fn: 749.0000 - val_fp: 0.0000e+00 - val_loss: 0.0072 - val_prc: 0.8026 - val_precision: 1.0000 - val_recall: 0.4997 - val_tn: 421974.0000 - val_tp: 748.0000\n",
            "Epoch 90/100\n",
            "\u001b[1m828/828\u001b[0m \u001b[32m━━━━━━━━━━━━━━━━━━━━\u001b[0m\u001b[37m\u001b[0m \u001b[1m19s\u001b[0m 23ms/step - Brier score: 0.0016 - accuracy: 0.9981 - auc: 0.9326 - cross entropy: 0.0083 - fn: 1423.8468 - fp: 166.0157 - loss: 0.0083 - prc: 0.7085 - precision: 0.9029 - recall: 0.5318 - tn: 846721.4375 - tp: 1601.7660 - val_Brier score: 0.0017 - val_accuracy: 0.9979 - val_auc: 0.9453 - val_cross entropy: 0.0079 - val_fn: 910.0000 - val_fp: 0.0000e+00 - val_loss: 0.0079 - val_prc: 0.8041 - val_precision: 1.0000 - val_recall: 0.3921 - val_tn: 421974.0000 - val_tp: 587.0000\n",
            "Epoch 91/100\n",
            "\u001b[1m828/828\u001b[0m \u001b[32m━━━━━━━━━━━━━━━━━━━━\u001b[0m\u001b[37m\u001b[0m \u001b[1m20s\u001b[0m 22ms/step - Brier score: 0.0015 - accuracy: 0.9982 - auc: 0.9350 - cross entropy: 0.0079 - fn: 1374.9746 - fp: 153.8806 - loss: 0.0079 - prc: 0.7148 - precision: 0.9118 - recall: 0.5377 - tn: 846776.0625 - tp: 1608.1532 - val_Brier score: 0.0018 - val_accuracy: 0.9978 - val_auc: 0.9426 - val_cross entropy: 0.0080 - val_fn: 934.0000 - val_fp: 0.0000e+00 - val_loss: 0.0080 - val_prc: 0.8022 - val_precision: 1.0000 - val_recall: 0.3761 - val_tn: 421974.0000 - val_tp: 563.0000\n",
            "Epoch 92/100\n",
            "\u001b[1m828/828\u001b[0m \u001b[32m━━━━━━━━━━━━━━━━━━━━\u001b[0m\u001b[37m\u001b[0m \u001b[1m20s\u001b[0m 22ms/step - Brier score: 0.0016 - accuracy: 0.9982 - auc: 0.9285 - cross entropy: 0.0083 - fn: 1396.1967 - fp: 160.5308 - loss: 0.0083 - prc: 0.7042 - precision: 0.9041 - recall: 0.5329 - tn: 846757.4375 - tp: 1598.9083 - val_Brier score: 0.0016 - val_accuracy: 0.9981 - val_auc: 0.9393 - val_cross entropy: 0.0075 - val_fn: 823.0000 - val_fp: 0.0000e+00 - val_loss: 0.0075 - val_prc: 0.8068 - val_precision: 1.0000 - val_recall: 0.4502 - val_tn: 421974.0000 - val_tp: 674.0000\n",
            "Epoch 93/100\n",
            "\u001b[1m828/828\u001b[0m \u001b[32m━━━━━━━━━━━━━━━━━━━━\u001b[0m\u001b[37m\u001b[0m \u001b[1m22s\u001b[0m 24ms/step - Brier score: 0.0016 - accuracy: 0.9982 - auc: 0.9284 - cross entropy: 0.0082 - fn: 1381.6176 - fp: 150.8167 - loss: 0.0082 - prc: 0.7173 - precision: 0.9106 - recall: 0.5470 - tn: 846749.5625 - tp: 1631.0374 - val_Brier score: 0.0016 - val_accuracy: 0.9980 - val_auc: 0.9421 - val_cross entropy: 0.0076 - val_fn: 844.0000 - val_fp: 0.0000e+00 - val_loss: 0.0076 - val_prc: 0.8053 - val_precision: 1.0000 - val_recall: 0.4362 - val_tn: 421974.0000 - val_tp: 653.0000\n",
            "Epoch 94/100\n",
            "\u001b[1m828/828\u001b[0m \u001b[32m━━━━━━━━━━━━━━━━━━━━\u001b[0m\u001b[37m\u001b[0m \u001b[1m19s\u001b[0m 23ms/step - Brier score: 0.0016 - accuracy: 0.9982 - auc: 0.9249 - cross entropy: 0.0084 - fn: 1406.3956 - fp: 138.3474 - loss: 0.0084 - prc: 0.7094 - precision: 0.9241 - recall: 0.5379 - tn: 846744.7500 - tp: 1623.5706 - val_Brier score: 0.0016 - val_accuracy: 0.9981 - val_auc: 0.9411 - val_cross entropy: 0.0075 - val_fn: 789.0000 - val_fp: 0.0000e+00 - val_loss: 0.0075 - val_prc: 0.8083 - val_precision: 1.0000 - val_recall: 0.4729 - val_tn: 421974.0000 - val_tp: 708.0000\n",
            "Epoch 95/100\n",
            "\u001b[1m828/828\u001b[0m \u001b[32m━━━━━━━━━━━━━━━━━━━━\u001b[0m\u001b[37m\u001b[0m \u001b[1m19s\u001b[0m 22ms/step - Brier score: 0.0015 - accuracy: 0.9982 - auc: 0.9345 - cross entropy: 0.0079 - fn: 1366.0338 - fp: 168.5862 - loss: 0.0079 - prc: 0.7150 - precision: 0.9054 - recall: 0.5457 - tn: 846736.9375 - tp: 1641.5151 - val_Brier score: 0.0015 - val_accuracy: 0.9982 - val_auc: 0.9431 - val_cross entropy: 0.0073 - val_fn: 768.0000 - val_fp: 0.0000e+00 - val_loss: 0.0073 - val_prc: 0.8150 - val_precision: 1.0000 - val_recall: 0.4870 - val_tn: 421974.0000 - val_tp: 729.0000\n",
            "Epoch 96/100\n",
            "\u001b[1m828/828\u001b[0m \u001b[32m━━━━━━━━━━━━━━━━━━━━\u001b[0m\u001b[37m\u001b[0m \u001b[1m20s\u001b[0m 22ms/step - Brier score: 0.0016 - accuracy: 0.9981 - auc: 0.9310 - cross entropy: 0.0082 - fn: 1408.7913 - fp: 160.2594 - loss: 0.0082 - prc: 0.7194 - precision: 0.9096 - recall: 0.5384 - tn: 846697.1875 - tp: 1646.8335 - val_Brier score: 0.0016 - val_accuracy: 0.9981 - val_auc: 0.9423 - val_cross entropy: 0.0076 - val_fn: 805.0000 - val_fp: 0.0000e+00 - val_loss: 0.0076 - val_prc: 0.8123 - val_precision: 1.0000 - val_recall: 0.4623 - val_tn: 421974.0000 - val_tp: 692.0000\n",
            "Epoch 97/100\n",
            "\u001b[1m828/828\u001b[0m \u001b[32m━━━━━━━━━━━━━━━━━━━━\u001b[0m\u001b[37m\u001b[0m \u001b[1m22s\u001b[0m 27ms/step - Brier score: 0.0015 - accuracy: 0.9982 - auc: 0.9333 - cross entropy: 0.0080 - fn: 1358.4861 - fp: 148.2135 - loss: 0.0080 - prc: 0.7273 - precision: 0.9199 - recall: 0.5500 - tn: 846730.0000 - tp: 1676.3679 - val_Brier score: 0.0018 - val_accuracy: 0.9978 - val_auc: 0.9439 - val_cross entropy: 0.0081 - val_fn: 921.0000 - val_fp: 0.0000e+00 - val_loss: 0.0081 - val_prc: 0.8087 - val_precision: 1.0000 - val_recall: 0.3848 - val_tn: 421974.0000 - val_tp: 576.0000\n",
            "Epoch 98/100\n",
            "\u001b[1m828/828\u001b[0m \u001b[32m━━━━━━━━━━━━━━━━━━━━\u001b[0m\u001b[37m\u001b[0m \u001b[1m37s\u001b[0m 22ms/step - Brier score: 0.0016 - accuracy: 0.9982 - auc: 0.9274 - cross entropy: 0.0082 - fn: 1382.1290 - fp: 145.0302 - loss: 0.0082 - prc: 0.7169 - precision: 0.9175 - recall: 0.5391 - tn: 846739.9375 - tp: 1645.9313 - val_Brier score: 0.0017 - val_accuracy: 0.9979 - val_auc: 0.9439 - val_cross entropy: 0.0077 - val_fn: 881.0000 - val_fp: 0.0000e+00 - val_loss: 0.0077 - val_prc: 0.8040 - val_precision: 1.0000 - val_recall: 0.4115 - val_tn: 421974.0000 - val_tp: 616.0000\n",
            "Epoch 99/100\n",
            "\u001b[1m828/828\u001b[0m \u001b[32m━━━━━━━━━━━━━━━━━━━━\u001b[0m\u001b[37m\u001b[0m \u001b[1m22s\u001b[0m 24ms/step - Brier score: 0.0016 - accuracy: 0.9982 - auc: 0.9297 - cross entropy: 0.0083 - fn: 1371.5742 - fp: 143.5380 - loss: 0.0083 - prc: 0.7083 - precision: 0.9137 - recall: 0.5366 - tn: 846758.5625 - tp: 1639.3691 - val_Brier score: 0.0015 - val_accuracy: 0.9982 - val_auc: 0.9428 - val_cross entropy: 0.0072 - val_fn: 749.0000 - val_fp: 0.0000e+00 - val_loss: 0.0072 - val_prc: 0.8127 - val_precision: 1.0000 - val_recall: 0.4997 - val_tn: 421974.0000 - val_tp: 748.0000\n",
            "Epoch 100/100\n",
            "\u001b[1m828/828\u001b[0m \u001b[32m━━━━━━━━━━━━━━━━━━━━\u001b[0m\u001b[37m\u001b[0m \u001b[1m19s\u001b[0m 22ms/step - Brier score: 0.0016 - accuracy: 0.9981 - auc: 0.9285 - cross entropy: 0.0083 - fn: 1377.5103 - fp: 166.0507 - loss: 0.0083 - prc: 0.7185 - precision: 0.9055 - recall: 0.5479 - tn: 846693.4375 - tp: 1676.0699 - val_Brier score: 0.0017 - val_accuracy: 0.9980 - val_auc: 0.9401 - val_cross entropy: 0.0078 - val_fn: 857.0000 - val_fp: 0.0000e+00 - val_loss: 0.0078 - val_prc: 0.8110 - val_precision: 1.0000 - val_recall: 0.4275 - val_tn: 421974.0000 - val_tp: 640.0000\n",
            "Restoring model weights from the end of the best epoch: 95.\n"
          ]
        }
      ]
    },
    {
      "cell_type": "code",
      "source": [
        "train_predictions_baseline = model.predict(train_features, batch_size=BATCH_SIZE)\n",
        "test_predictions_baseline = model.predict(test_features, batch_size=BATCH_SIZE)"
      ],
      "metadata": {
        "colab": {
          "base_uri": "https://localhost:8080/"
        },
        "id": "wRjoAoWXn2EM",
        "outputId": "c5c22e70-6197-4c5d-9aa6-5d63ab4d9fe1"
      },
      "execution_count": 40,
      "outputs": [
        {
          "output_type": "stream",
          "name": "stdout",
          "text": [
            "\u001b[1m828/828\u001b[0m \u001b[32m━━━━━━━━━━━━━━━━━━━━\u001b[0m\u001b[37m\u001b[0m \u001b[1m3s\u001b[0m 3ms/step\n",
            "\u001b[1m259/259\u001b[0m \u001b[32m━━━━━━━━━━━━━━━━━━━━\u001b[0m\u001b[37m\u001b[0m \u001b[1m1s\u001b[0m 3ms/step\n"
          ]
        }
      ]
    },
    {
      "cell_type": "code",
      "source": [
        "def plot_cm(labels, predictions, threshold=0.5):\n",
        "  cm = confusion_matrix(labels, predictions > threshold)\n",
        "  plt.figure(figsize=(5,5))\n",
        "  sns.heatmap(cm, annot=True, fmt=\"d\")\n",
        "  plt.title(\"Confusion matrix @{:.2f}\".format(threshold))\n",
        "  plt.ylabel('Actual label')\n",
        "  plt.xlabel('Predicted label')"
      ],
      "metadata": {
        "id": "DpALLfwmnUOX"
      },
      "execution_count": 41,
      "outputs": []
    },
    {
      "cell_type": "code",
      "source": [
        "baseline_results = model.evaluate(test_features, test_labels,\n",
        "                                  batch_size=BATCH_SIZE, verbose=0)\n",
        "for name, value in zip(model.metrics_names, baseline_results):\n",
        "  print(name, ': ', value)\n",
        "print()\n",
        "\n",
        "plot_cm(test_labels, test_predictions_baseline)"
      ],
      "metadata": {
        "colab": {
          "base_uri": "https://localhost:8080/",
          "height": 542
        },
        "id": "1eoWp6yynXoO",
        "outputId": "2ab329c9-8c7e-4024-e4c3-572b5a870ae5"
      },
      "execution_count": 42,
      "outputs": [
        {
          "output_type": "stream",
          "name": "stdout",
          "text": [
            "loss :  0.008196717128157616\n",
            "compile_metrics :  0.008196717128157616\n",
            "\n"
          ]
        },
        {
          "output_type": "display_data",
          "data": {
            "text/plain": [
              "<Figure size 500x500 with 2 Axes>"
            ],
            "image/png": "[encoded data removed]"
          },
          "metadata": {}
        }
      ]
    },
    {
      "cell_type": "markdown",
      "source": [
        "F1 Score"
      ],
      "metadata": {
        "id": "dAGBn76yU0d-"
      }
    },
    {
      "cell_type": "code",
      "source": [
        "f1 = f1_score(test_labels, test_predictions_baseline > 0.5)\n",
        "print(f'F1 Score: {f1}')"
      ],
      "metadata": {
        "colab": {
          "base_uri": "https://localhost:8080/"
        },
        "id": "Gm9zR17RUxeB",
        "outputId": "12a4704e-201a-4649-e200-83a5d6ac7cd3"
      },
      "execution_count": 43,
      "outputs": [
        {
          "output_type": "stream",
          "name": "stdout",
          "text": [
            "F1 Score: 0.6085043988269795\n"
          ]
        }
      ]
    },
    {
      "cell_type": "markdown",
      "source": [
        "## Class Weights"
      ],
      "metadata": {
        "id": "DWeJIinenjM6"
      }
    },
    {
      "cell_type": "code",
      "source": [
        "weight_for_0 = (1 / neg) * (total / 2.0)\n",
        "weight_for_1 = (1 / pos) * (total / 2.0)\n",
        "\n",
        "class_weight = {0: weight_for_0, 1: weight_for_1}\n",
        "\n",
        "print('Weight for class 0: {:.2f}'.format(weight_for_0))\n",
        "print('Weight for class 1: {:.2f}'.format(weight_for_1))"
      ],
      "metadata": {
        "colab": {
          "base_uri": "https://localhost:8080/"
        },
        "id": "RbdeW78jnmR1",
        "outputId": "e05df0c2-770c-49f4-87b0-9a3e94c40e48"
      },
      "execution_count": 44,
      "outputs": [
        {
          "output_type": "stream",
          "name": "stdout",
          "text": [
            "Weight for class 0: 0.50\n",
            "Weight for class 1: 140.45\n"
          ]
        }
      ]
    },
    {
      "cell_type": "markdown",
      "source": [
        "## Train model with class weights"
      ],
      "metadata": {
        "id": "1WVT_4GBn5IF"
      }
    },
    {
      "cell_type": "code",
      "source": [
        "weighted_model = make_model()\n",
        "weighted_model.load_weights(initial_weights)\n",
        "\n",
        "weighted_history = weighted_model.fit(\n",
        "    train_features,\n",
        "    train_labels,\n",
        "    batch_size=BATCH_SIZE,\n",
        "    epochs=EPOCHS,\n",
        "    callbacks=[early_stopping()],\n",
        "    validation_data=(val_features, val_labels),\n",
        "    # The class weights go here\n",
        "    class_weight=class_weight)"
      ],
      "metadata": {
        "colab": {
          "base_uri": "https://localhost:8080/"
        },
        "id": "f9yjeGTsn4nS",
        "outputId": "b76494ab-878c-4c19-aea0-b576ee8526e4"
      },
      "execution_count": 45,
      "outputs": [
        {
          "output_type": "stream",
          "name": "stderr",
          "text": [
            "/usr/local/lib/python3.11/dist-packages/keras/src/layers/core/dense.py:87: UserWarning: Do not pass an `input_shape`/`input_dim` argument to a layer. When using Sequential models, prefer using an `Input(shape)` object as the first layer in the model instead.\n",
            "  super().__init__(activity_regularizer=activity_regularizer, **kwargs)\n"
          ]
        },
        {
          "output_type": "stream",
          "name": "stdout",
          "text": [
            "Epoch 1/100\n",
            "\u001b[1m828/828\u001b[0m \u001b[32m━━━━━━━━━━━━━━━━━━━━\u001b[0m\u001b[37m\u001b[0m \u001b[1m26s\u001b[0m 22ms/step - Brier score: 0.0514 - accuracy: 0.9357 - auc: 0.8197 - cross entropy: 0.2233 - fn: 2472.9675 - fp: 96868.0156 - loss: 1.1606 - prc: 0.0898 - precision: 0.0891 - recall: 0.4772 - tn: 1277461.7500 - tp: 2449.2449 - val_Brier score: 0.0221 - val_accuracy: 0.9790 - val_auc: 0.8631 - val_cross entropy: 0.1606 - val_fn: 488.0000 - val_fp: 8401.0000 - val_loss: 0.1606 - val_prc: 0.1307 - val_precision: 0.1072 - val_recall: 0.6740 - val_tn: 413573.0000 - val_tp: 1009.0000\n",
            "Epoch 2/100\n",
            "\u001b[1m828/828\u001b[0m \u001b[32m━━━━━━━━━━━━━━━━━━━━\u001b[0m\u001b[37m\u001b[0m \u001b[1m17s\u001b[0m 20ms/step - Brier score: 0.0839 - accuracy: 0.9114 - auc: 0.8434 - cross entropy: 0.4015 - fn: 953.0869 - fp: 70795.4922 - loss: 0.5239 - prc: 0.0861 - precision: 0.0279 - recall: 0.6907 - tn: 776086.0625 - tp: 2078.3774 - val_Brier score: 0.0323 - val_accuracy: 0.9806 - val_auc: 0.8588 - val_cross entropy: 0.2037 - val_fn: 516.0000 - val_fp: 7693.0000 - val_loss: 0.2037 - val_prc: 0.1503 - val_precision: 0.1131 - val_recall: 0.6553 - val_tn: 414281.0000 - val_tp: 981.0000\n",
            "Epoch 3/100\n",
            "\u001b[1m828/828\u001b[0m \u001b[32m━━━━━━━━━━━━━━━━━━━━\u001b[0m\u001b[37m\u001b[0m \u001b[1m16s\u001b[0m 20ms/step - Brier score: 0.0728 - accuracy: 0.9519 - auc: 0.8554 - cross entropy: 0.3666 - fn: 896.1266 - fp: 39451.0938 - loss: 0.4468 - prc: 0.1007 - precision: 0.0499 - recall: 0.6992 - tn: 807458.8125 - tp: 2106.9795 - val_Brier score: 0.0510 - val_accuracy: 0.9810 - val_auc: 0.8759 - val_cross entropy: 0.2587 - val_fn: 501.0000 - val_fp: 7546.0000 - val_loss: 0.2587 - val_prc: 0.1613 - val_precision: 0.1166 - val_recall: 0.6653 - val_tn: 414428.0000 - val_tp: 996.0000\n",
            "Epoch 4/100\n",
            "\u001b[1m828/828\u001b[0m \u001b[32m━━━━━━━━━━━━━━━━━━━━\u001b[0m\u001b[37m\u001b[0m \u001b[1m23s\u001b[0m 22ms/step - Brier score: 0.0771 - accuracy: 0.9616 - auc: 0.8636 - cross entropy: 0.3733 - fn: 872.4427 - fp: 31589.2930 - loss: 0.4229 - prc: 0.1047 - precision: 0.0627 - recall: 0.7060 - tn: 815305.1250 - tp: 2146.1531 - val_Brier score: 0.0462 - val_accuracy: 0.9806 - val_auc: 0.8741 - val_cross entropy: 0.2396 - val_fn: 474.0000 - val_fp: 7757.0000 - val_loss: 0.2396 - val_prc: 0.1675 - val_precision: 0.1165 - val_recall: 0.6834 - val_tn: 414217.0000 - val_tp: 1023.0000\n",
            "Epoch 5/100\n",
            "\u001b[1m828/828\u001b[0m \u001b[32m━━━━━━━━━━━━━━━━━━━━\u001b[0m\u001b[37m\u001b[0m \u001b[1m18s\u001b[0m 20ms/step - Brier score: 0.0733 - accuracy: 0.9631 - auc: 0.8758 - cross entropy: 0.3598 - fn: 819.9578 - fp: 30905.3301 - loss: 0.4039 - prc: 0.1086 - precision: 0.0667 - recall: 0.7264 - tn: 815980.0625 - tp: 2207.6816 - val_Brier score: 0.0444 - val_accuracy: 0.9823 - val_auc: 0.8853 - val_cross entropy: 0.2297 - val_fn: 490.0000 - val_fp: 7022.0000 - val_loss: 0.2297 - val_prc: 0.1718 - val_precision: 0.1254 - val_recall: 0.6727 - val_tn: 414952.0000 - val_tp: 1007.0000\n",
            "Epoch 6/100\n",
            "\u001b[1m828/828\u001b[0m \u001b[32m━━━━━━━━━━━━━━━━━━━━\u001b[0m\u001b[37m\u001b[0m \u001b[1m16s\u001b[0m 20ms/step - Brier score: 0.0722 - accuracy: 0.9634 - auc: 0.8761 - cross entropy: 0.3528 - fn: 784.0494 - fp: 30273.2598 - loss: 0.3974 - prc: 0.1113 - precision: 0.0695 - recall: 0.7404 - tn: 816595.8125 - tp: 2259.8962 - val_Brier score: 0.0340 - val_accuracy: 0.9853 - val_auc: 0.8890 - val_cross entropy: 0.1938 - val_fn: 575.0000 - val_fp: 5654.0000 - val_loss: 0.1938 - val_prc: 0.1732 - val_precision: 0.1402 - val_recall: 0.6159 - val_tn: 416320.0000 - val_tp: 922.0000\n",
            "Epoch 7/100\n",
            "\u001b[1m828/828\u001b[0m \u001b[32m━━━━━━━━━━━━━━━━━━━━\u001b[0m\u001b[37m\u001b[0m \u001b[1m22s\u001b[0m 22ms/step - Brier score: 0.0673 - accuracy: 0.9638 - auc: 0.8858 - cross entropy: 0.3329 - fn: 768.0410 - fp: 30563.0000 - loss: 0.3785 - prc: 0.1139 - precision: 0.0686 - recall: 0.7459 - tn: 816347.6250 - tp: 2234.3823 - val_Brier score: 0.0347 - val_accuracy: 0.9873 - val_auc: 0.8913 - val_cross entropy: 0.1981 - val_fn: 616.0000 - val_fp: 4777.0000 - val_loss: 0.1981 - val_prc: 0.1942 - val_precision: 0.1557 - val_recall: 0.5885 - val_tn: 417197.0000 - val_tp: 881.0000\n",
            "Epoch 8/100\n",
            "\u001b[1m828/828\u001b[0m \u001b[32m━━━━━━━━━━━━━━━━━━━━\u001b[0m\u001b[37m\u001b[0m \u001b[1m17s\u001b[0m 20ms/step - Brier score: 0.0692 - accuracy: 0.9636 - auc: 0.8888 - cross entropy: 0.3345 - fn: 736.6743 - fp: 29958.6406 - loss: 0.3798 - prc: 0.1188 - precision: 0.0714 - recall: 0.7550 - tn: 816914.1250 - tp: 2303.5815 - val_Brier score: 0.0354 - val_accuracy: 0.9845 - val_auc: 0.8923 - val_cross entropy: 0.1989 - val_fn: 512.0000 - val_fp: 6059.0000 - val_loss: 0.1989 - val_prc: 0.2275 - val_precision: 0.1398 - val_recall: 0.6580 - val_tn: 415915.0000 - val_tp: 985.0000\n",
            "Epoch 9/100\n",
            "\u001b[1m828/828\u001b[0m \u001b[32m━━━━━━━━━━━━━━━━━━━━\u001b[0m\u001b[37m\u001b[0m \u001b[1m17s\u001b[0m 20ms/step - Brier score: 0.0682 - accuracy: 0.9638 - auc: 0.8899 - cross entropy: 0.3281 - fn: 738.6610 - fp: 30152.9590 - loss: 0.3730 - prc: 0.1231 - precision: 0.0706 - recall: 0.7551 - tn: 816748.0625 - tp: 2273.3774 - val_Brier score: 0.0273 - val_accuracy: 0.9897 - val_auc: 0.8874 - val_cross entropy: 0.1713 - val_fn: 697.0000 - val_fp: 3683.0000 - val_loss: 0.1713 - val_prc: 0.2419 - val_precision: 0.1785 - val_recall: 0.5344 - val_tn: 418291.0000 - val_tp: 800.0000\n",
            "Epoch 10/100\n",
            "\u001b[1m828/828\u001b[0m \u001b[32m━━━━━━━━━━━━━━━━━━━━\u001b[0m\u001b[37m\u001b[0m \u001b[1m23s\u001b[0m 23ms/step - Brier score: 0.0664 - accuracy: 0.9643 - auc: 0.8857 - cross entropy: 0.3233 - fn: 735.6019 - fp: 29665.0840 - loss: 0.3747 - prc: 0.1181 - precision: 0.0705 - recall: 0.7524 - tn: 817244.0000 - tp: 2268.3606 - val_Brier score: 0.0259 - val_accuracy: 0.9866 - val_auc: 0.8960 - val_cross entropy: 0.1633 - val_fn: 519.0000 - val_fp: 5167.0000 - val_loss: 0.1633 - val_prc: 0.2590 - val_precision: 0.1592 - val_recall: 0.6533 - val_tn: 416807.0000 - val_tp: 978.0000\n",
            "Epoch 11/100\n",
            "\u001b[1m828/828\u001b[0m \u001b[32m━━━━━━━━━━━━━━━━━━━━\u001b[0m\u001b[37m\u001b[0m \u001b[1m19s\u001b[0m 21ms/step - Brier score: 0.0664 - accuracy: 0.9638 - auc: 0.8960 - cross entropy: 0.3205 - fn: 729.6212 - fp: 30325.1016 - loss: 0.3721 - prc: 0.1308 - precision: 0.0739 - recall: 0.7603 - tn: 816492.5625 - tp: 2365.7454 - val_Brier score: 0.0206 - val_accuracy: 0.9943 - val_auc: 0.9164 - val_cross entropy: 0.1459 - val_fn: 838.0000 - val_fp: 1585.0000 - val_loss: 0.1459 - val_prc: 0.2872 - val_precision: 0.2937 - val_recall: 0.4402 - val_tn: 420389.0000 - val_tp: 659.0000\n",
            "Epoch 12/100\n",
            "\u001b[1m828/828\u001b[0m \u001b[32m━━━━━━━━━━━━━━━━━━━━\u001b[0m\u001b[37m\u001b[0m \u001b[1m20s\u001b[0m 20ms/step - Brier score: 0.0638 - accuracy: 0.9618 - auc: 0.9049 - cross entropy: 0.3054 - fn: 696.1038 - fp: 32822.4961 - loss: 0.3529 - prc: 0.1382 - precision: 0.0691 - recall: 0.7695 - tn: 814064.9375 - tp: 2329.5151 - val_Brier score: 0.0292 - val_accuracy: 0.9831 - val_auc: 0.9241 - val_cross entropy: 0.1746 - val_fn: 448.0000 - val_fp: 6714.0000 - val_loss: 0.1746 - val_prc: 0.3013 - val_precision: 0.1351 - val_recall: 0.7007 - val_tn: 415260.0000 - val_tp: 1049.0000\n",
            "Epoch 13/100\n",
            "\u001b[1m828/828\u001b[0m \u001b[32m━━━━━━━━━━━━━━━━━━━━\u001b[0m\u001b[37m\u001b[0m \u001b[1m17s\u001b[0m 20ms/step - Brier score: 0.0663 - accuracy: 0.9558 - auc: 0.9099 - cross entropy: 0.3069 - fn: 649.9638 - fp: 37012.8438 - loss: 0.3453 - prc: 0.1476 - precision: 0.0605 - recall: 0.7845 - tn: 809883.7500 - tp: 2366.4897 - val_Brier score: 0.0230 - val_accuracy: 0.9887 - val_auc: 0.9295 - val_cross entropy: 0.1514 - val_fn: 539.0000 - val_fp: 4266.0000 - val_loss: 0.1514 - val_prc: 0.3572 - val_precision: 0.1834 - val_recall: 0.6399 - val_tn: 417708.0000 - val_tp: 958.0000\n",
            "Epoch 14/100\n",
            "\u001b[1m828/828\u001b[0m \u001b[32m━━━━━━━━━━━━━━━━━━━━\u001b[0m\u001b[37m\u001b[0m \u001b[1m22s\u001b[0m 22ms/step - Brier score: 0.0629 - accuracy: 0.9510 - auc: 0.9154 - cross entropy: 0.2909 - fn: 611.9071 - fp: 41637.4336 - loss: 0.3330 - prc: 0.1565 - precision: 0.0556 - recall: 0.7975 - tn: 805249.4375 - tp: 2414.2739 - val_Brier score: 0.0264 - val_accuracy: 0.9776 - val_auc: 0.9333 - val_cross entropy: 0.1586 - val_fn: 374.0000 - val_fp: 9111.0000 - val_loss: 0.1586 - val_prc: 0.3814 - val_precision: 0.1097 - val_recall: 0.7502 - val_tn: 412863.0000 - val_tp: 1123.0000\n",
            "Epoch 15/100\n",
            "\u001b[1m828/828\u001b[0m \u001b[32m━━━━━━━━━━━━━━━━━━━━\u001b[0m\u001b[37m\u001b[0m \u001b[1m18s\u001b[0m 20ms/step - Brier score: 0.0638 - accuracy: 0.9467 - auc: 0.9178 - cross entropy: 0.2898 - fn: 598.4475 - fp: 44044.0000 - loss: 0.3298 - prc: 0.1695 - precision: 0.0515 - recall: 0.7990 - tn: 802837.3750 - tp: 2433.2063 - val_Brier score: 0.0220 - val_accuracy: 0.9830 - val_auc: 0.9385 - val_cross entropy: 0.1454 - val_fn: 430.0000 - val_fp: 6762.0000 - val_loss: 0.1454 - val_prc: 0.4157 - val_precision: 0.1363 - val_recall: 0.7128 - val_tn: 415212.0000 - val_tp: 1067.0000\n",
            "Epoch 16/100\n",
            "\u001b[1m828/828\u001b[0m \u001b[32m━━━━━━━━━━━━━━━━━━━━\u001b[0m\u001b[37m\u001b[0m \u001b[1m20s\u001b[0m 20ms/step - Brier score: 0.0622 - accuracy: 0.9470 - auc: 0.9153 - cross entropy: 0.2819 - fn: 592.5971 - fp: 44976.9609 - loss: 0.3291 - prc: 0.1850 - precision: 0.0515 - recall: 0.7988 - tn: 801937.5625 - tp: 2405.9277 - val_Brier score: 0.0266 - val_accuracy: 0.9739 - val_auc: 0.9360 - val_cross entropy: 0.1571 - val_fn: 327.0000 - val_fp: 10705.0000 - val_loss: 0.1571 - val_prc: 0.4276 - val_precision: 0.0985 - val_recall: 0.7816 - val_tn: 411269.0000 - val_tp: 1170.0000\n",
            "Epoch 17/100\n",
            "\u001b[1m828/828\u001b[0m \u001b[32m━━━━━━━━━━━━━━━━━━━━\u001b[0m\u001b[37m\u001b[0m \u001b[1m21s\u001b[0m 20ms/step - Brier score: 0.0611 - accuracy: 0.9443 - auc: 0.9233 - cross entropy: 0.2756 - fn: 555.5536 - fp: 47177.8867 - loss: 0.3160 - prc: 0.2008 - precision: 0.0511 - recall: 0.8196 - tn: 799664.4375 - tp: 2515.1531 - val_Brier score: 0.0225 - val_accuracy: 0.9757 - val_auc: 0.9384 - val_cross entropy: 0.1420 - val_fn: 324.0000 - val_fp: 9946.0000 - val_loss: 0.1420 - val_prc: 0.4522 - val_precision: 0.1055 - val_recall: 0.7836 - val_tn: 412028.0000 - val_tp: 1173.0000\n",
            "Epoch 18/100\n",
            "\u001b[1m828/828\u001b[0m \u001b[32m━━━━━━━━━━━━━━━━━━━━\u001b[0m\u001b[37m\u001b[0m \u001b[1m17s\u001b[0m 20ms/step - Brier score: 0.0565 - accuracy: 0.9503 - auc: 0.9203 - cross entropy: 0.2619 - fn: 544.9421 - fp: 43333.1953 - loss: 0.3083 - prc: 0.2212 - precision: 0.0564 - recall: 0.8216 - tn: 803570.3125 - tp: 2464.6165 - val_Brier score: 0.0250 - val_accuracy: 0.9734 - val_auc: 0.9397 - val_cross entropy: 0.1497 - val_fn: 297.0000 - val_fp: 10981.0000 - val_loss: 0.1497 - val_prc: 0.4691 - val_precision: 0.0985 - val_recall: 0.8016 - val_tn: 410993.0000 - val_tp: 1200.0000\n",
            "Epoch 19/100\n",
            "\u001b[1m828/828\u001b[0m \u001b[32m━━━━━━━━━━━━━━━━━━━━\u001b[0m\u001b[37m\u001b[0m \u001b[1m19s\u001b[0m 23ms/step - Brier score: 0.0578 - accuracy: 0.9470 - auc: 0.9213 - cross entropy: 0.2646 - fn: 537.3691 - fp: 43940.0859 - loss: 0.3103 - prc: 0.2275 - precision: 0.0551 - recall: 0.8300 - tn: 802897.8125 - tp: 2537.7695 - val_Brier score: 0.0219 - val_accuracy: 0.9751 - val_auc: 0.9367 - val_cross entropy: 0.1372 - val_fn: 301.0000 - val_fp: 10223.0000 - val_loss: 0.1372 - val_prc: 0.4970 - val_precision: 0.1047 - val_recall: 0.7989 - val_tn: 411751.0000 - val_tp: 1196.0000\n",
            "Epoch 20/100\n",
            "\u001b[1m828/828\u001b[0m \u001b[32m━━━━━━━━━━━━━━━━━━━━\u001b[0m\u001b[37m\u001b[0m \u001b[1m17s\u001b[0m 20ms/step - Brier score: 0.0562 - accuracy: 0.9503 - auc: 0.9202 - cross entropy: 0.2592 - fn: 536.1061 - fp: 42380.2734 - loss: 0.3092 - prc: 0.2403 - precision: 0.0562 - recall: 0.8208 - tn: 804509.7500 - tp: 2486.9011 - val_Brier score: 0.0241 - val_accuracy: 0.9750 - val_auc: 0.9378 - val_cross entropy: 0.1447 - val_fn: 285.0000 - val_fp: 10319.0000 - val_loss: 0.1447 - val_prc: 0.5039 - val_precision: 0.1051 - val_recall: 0.8096 - val_tn: 411655.0000 - val_tp: 1212.0000\n",
            "Epoch 21/100\n",
            "\u001b[1m828/828\u001b[0m \u001b[32m━━━━━━━━━━━━━━━━━━━━\u001b[0m\u001b[37m\u001b[0m \u001b[1m21s\u001b[0m 21ms/step - Brier score: 0.0547 - accuracy: 0.9491 - auc: 0.9256 - cross entropy: 0.2528 - fn: 500.2895 - fp: 41980.2695 - loss: 0.2976 - prc: 0.2540 - precision: 0.0565 - recall: 0.8369 - tn: 804900.3125 - tp: 2532.1423 - val_Brier score: 0.0253 - val_accuracy: 0.9745 - val_auc: 0.9352 - val_cross entropy: 0.1471 - val_fn: 279.0000 - val_fp: 10521.0000 - val_loss: 0.1471 - val_prc: 0.5248 - val_precision: 0.1038 - val_recall: 0.8136 - val_tn: 411453.0000 - val_tp: 1218.0000\n",
            "Epoch 22/100\n",
            "\u001b[1m828/828\u001b[0m \u001b[32m━━━━━━━━━━━━━━━━━━━━\u001b[0m\u001b[37m\u001b[0m \u001b[1m17s\u001b[0m 20ms/step - Brier score: 0.0548 - accuracy: 0.9484 - auc: 0.9242 - cross entropy: 0.2515 - fn: 495.3836 - fp: 44042.5078 - loss: 0.2991 - prc: 0.2665 - precision: 0.0558 - recall: 0.8371 - tn: 802841.1875 - tp: 2533.9590 - val_Brier score: 0.0277 - val_accuracy: 0.9747 - val_auc: 0.9361 - val_cross entropy: 0.1578 - val_fn: 275.0000 - val_fp: 10425.0000 - val_loss: 0.1578 - val_prc: 0.5238 - val_precision: 0.1049 - val_recall: 0.8163 - val_tn: 411549.0000 - val_tp: 1222.0000\n",
            "Epoch 23/100\n",
            "\u001b[1m828/828\u001b[0m \u001b[32m━━━━━━━━━━━━━━━━━━━━\u001b[0m\u001b[37m\u001b[0m \u001b[1m20s\u001b[0m 20ms/step - Brier score: 0.0557 - accuracy: 0.9475 - auc: 0.9215 - cross entropy: 0.2538 - fn: 505.5814 - fp: 43923.1133 - loss: 0.2997 - prc: 0.2664 - precision: 0.0543 - recall: 0.8334 - tn: 802950.5000 - tp: 2533.8577 - val_Brier score: 0.0231 - val_accuracy: 0.9746 - val_auc: 0.9360 - val_cross entropy: 0.1389 - val_fn: 263.0000 - val_fp: 10484.0000 - val_loss: 0.1389 - val_prc: 0.5630 - val_precision: 0.1053 - val_recall: 0.8243 - val_tn: 411490.0000 - val_tp: 1234.0000\n",
            "Epoch 24/100\n",
            "\u001b[1m828/828\u001b[0m \u001b[32m━━━━━━━━━━━━━━━━━━━━\u001b[0m\u001b[37m\u001b[0m \u001b[1m21s\u001b[0m 21ms/step - Brier score: 0.0521 - accuracy: 0.9499 - auc: 0.9261 - cross entropy: 0.2414 - fn: 462.4584 - fp: 43146.4102 - loss: 0.2857 - prc: 0.2794 - precision: 0.0570 - recall: 0.8497 - tn: 803752.0625 - tp: 2552.1423 - val_Brier score: 0.0266 - val_accuracy: 0.9728 - val_auc: 0.9355 - val_cross entropy: 0.1509 - val_fn: 240.0000 - val_fp: 11270.0000 - val_loss: 0.1509 - val_prc: 0.5516 - val_precision: 0.1003 - val_recall: 0.8397 - val_tn: 410704.0000 - val_tp: 1257.0000\n",
            "Epoch 25/100\n",
            "\u001b[1m828/828\u001b[0m \u001b[32m━━━━━━━━━━━━━━━━━━━━\u001b[0m\u001b[37m\u001b[0m \u001b[1m21s\u001b[0m 21ms/step - Brier score: 0.0531 - accuracy: 0.9497 - auc: 0.9217 - cross entropy: 0.2455 - fn: 476.9529 - fp: 42416.3750 - loss: 0.2924 - prc: 0.2776 - precision: 0.0561 - recall: 0.8401 - tn: 804475.8750 - tp: 2543.8420 - val_Brier score: 0.0234 - val_accuracy: 0.9743 - val_auc: 0.9421 - val_cross entropy: 0.1380 - val_fn: 251.0000 - val_fp: 10634.0000 - val_loss: 0.1380 - val_prc: 0.5548 - val_precision: 0.1049 - val_recall: 0.8323 - val_tn: 411340.0000 - val_tp: 1246.0000\n",
            "Epoch 26/100\n",
            "\u001b[1m828/828\u001b[0m \u001b[32m━━━━━━━━━━━━━━━━━━━━\u001b[0m\u001b[37m\u001b[0m \u001b[1m17s\u001b[0m 21ms/step - Brier score: 0.0529 - accuracy: 0.9500 - auc: 0.9237 - cross entropy: 0.2444 - fn: 486.4958 - fp: 41428.7383 - loss: 0.2947 - prc: 0.2899 - precision: 0.0570 - recall: 0.8374 - tn: 805442.3125 - tp: 2555.5234 - val_Brier score: 0.0243 - val_accuracy: 0.9749 - val_auc: 0.9360 - val_cross entropy: 0.1426 - val_fn: 252.0000 - val_fp: 10394.0000 - val_loss: 0.1426 - val_prc: 0.5783 - val_precision: 0.1070 - val_recall: 0.8317 - val_tn: 411580.0000 - val_tp: 1245.0000\n",
            "Epoch 27/100\n",
            "\u001b[1m828/828\u001b[0m \u001b[32m━━━━━━━━━━━━━━━━━━━━\u001b[0m\u001b[37m\u001b[0m \u001b[1m19s\u001b[0m 23ms/step - Brier score: 0.0512 - accuracy: 0.9512 - auc: 0.9254 - cross entropy: 0.2378 - fn: 470.9964 - fp: 41164.5547 - loss: 0.2852 - prc: 0.3032 - precision: 0.0585 - recall: 0.8458 - tn: 805742.3125 - tp: 2535.1846 - val_Brier score: 0.0270 - val_accuracy: 0.9742 - val_auc: 0.9397 - val_cross entropy: 0.1527 - val_fn: 238.0000 - val_fp: 10691.0000 - val_loss: 0.1527 - val_prc: 0.5641 - val_precision: 0.1054 - val_recall: 0.8410 - val_tn: 411283.0000 - val_tp: 1259.0000\n",
            "Epoch 28/100\n",
            "\u001b[1m828/828\u001b[0m \u001b[32m━━━━━━━━━━━━━━━━━━━━\u001b[0m\u001b[37m\u001b[0m \u001b[1m20s\u001b[0m 23ms/step - Brier score: 0.0540 - accuracy: 0.9521 - auc: 0.9187 - cross entropy: 0.2513 - fn: 487.1411 - fp: 40676.3906 - loss: 0.2983 - prc: 0.2962 - precision: 0.0601 - recall: 0.8368 - tn: 806176.3750 - tp: 2573.1194 - val_Brier score: 0.0234 - val_accuracy: 0.9728 - val_auc: 0.9443 - val_cross entropy: 0.1356 - val_fn: 226.0000 - val_fp: 11303.0000 - val_loss: 0.1356 - val_prc: 0.5717 - val_precision: 0.1011 - val_recall: 0.8490 - val_tn: 410671.0000 - val_tp: 1271.0000\n",
            "Epoch 29/100\n",
            "\u001b[1m828/828\u001b[0m \u001b[32m━━━━━━━━━━━━━━━━━━━━\u001b[0m\u001b[37m\u001b[0m \u001b[1m17s\u001b[0m 20ms/step - Brier score: 0.0509 - accuracy: 0.9497 - auc: 0.9295 - cross entropy: 0.2361 - fn: 480.9216 - fp: 41966.5039 - loss: 0.2883 - prc: 0.2945 - precision: 0.0575 - recall: 0.8440 - tn: 804902.6250 - tp: 2562.9963 - val_Brier score: 0.0253 - val_accuracy: 0.9749 - val_auc: 0.9439 - val_cross entropy: 0.1455 - val_fn: 242.0000 - val_fp: 10404.0000 - val_loss: 0.1455 - val_prc: 0.5959 - val_precision: 0.1076 - val_recall: 0.8383 - val_tn: 411570.0000 - val_tp: 1255.0000\n",
            "Epoch 30/100\n",
            "\u001b[1m828/828\u001b[0m \u001b[32m━━━━━━━━━━━━━━━━━━━━\u001b[0m\u001b[37m\u001b[0m \u001b[1m21s\u001b[0m 21ms/step - Brier score: 0.0508 - accuracy: 0.9537 - auc: 0.9283 - cross entropy: 0.2391 - fn: 474.3546 - fp: 38821.8164 - loss: 0.2845 - prc: 0.3085 - precision: 0.0618 - recall: 0.8454 - tn: 808070.3750 - tp: 2546.5151 - val_Brier score: 0.0263 - val_accuracy: 0.9743 - val_auc: 0.9443 - val_cross entropy: 0.1489 - val_fn: 234.0000 - val_fp: 10670.0000 - val_loss: 0.1489 - val_prc: 0.5653 - val_precision: 0.1058 - val_recall: 0.8437 - val_tn: 411304.0000 - val_tp: 1263.0000\n",
            "Epoch 31/100\n",
            "\u001b[1m828/828\u001b[0m \u001b[32m━━━━━━━━━━━━━━━━━━━━\u001b[0m\u001b[37m\u001b[0m \u001b[1m17s\u001b[0m 20ms/step - Brier score: 0.0502 - accuracy: 0.9540 - auc: 0.9263 - cross entropy: 0.2374 - fn: 473.1809 - fp: 39560.6758 - loss: 0.2888 - prc: 0.3018 - precision: 0.0621 - recall: 0.8413 - tn: 807310.5625 - tp: 2568.6116 - val_Brier score: 0.0226 - val_accuracy: 0.9711 - val_auc: 0.9479 - val_cross entropy: 0.1306 - val_fn: 227.0000 - val_fp: 11994.0000 - val_loss: 0.1306 - val_prc: 0.5914 - val_precision: 0.0957 - val_recall: 0.8484 - val_tn: 409980.0000 - val_tp: 1270.0000\n",
            "Epoch 32/100\n",
            "\u001b[1m828/828\u001b[0m \u001b[32m━━━━━━━━━━━━━━━━━━━━\u001b[0m\u001b[37m\u001b[0m \u001b[1m21s\u001b[0m 20ms/step - Brier score: 0.0501 - accuracy: 0.9513 - auc: 0.9264 - cross entropy: 0.2329 - fn: 474.9843 - fp: 40757.7617 - loss: 0.2857 - prc: 0.2990 - precision: 0.0583 - recall: 0.8428 - tn: 806146.8750 - tp: 2533.4233 - val_Brier score: 0.0237 - val_accuracy: 0.9750 - val_auc: 0.9436 - val_cross entropy: 0.1371 - val_fn: 228.0000 - val_fp: 10357.0000 - val_loss: 0.1371 - val_prc: 0.6015 - val_precision: 0.1092 - val_recall: 0.8477 - val_tn: 411617.0000 - val_tp: 1269.0000\n",
            "Epoch 33/100\n",
            "\u001b[1m828/828\u001b[0m \u001b[32m━━━━━━━━━━━━━━━━━━━━\u001b[0m\u001b[37m\u001b[0m \u001b[1m18s\u001b[0m 21ms/step - Brier score: 0.0491 - accuracy: 0.9526 - auc: 0.9282 - cross entropy: 0.2300 - fn: 457.7298 - fp: 39309.9141 - loss: 0.2825 - prc: 0.3155 - precision: 0.0596 - recall: 0.8441 - tn: 807585.5000 - tp: 2559.9060 - val_Brier score: 0.0232 - val_accuracy: 0.9770 - val_auc: 0.9422 - val_cross entropy: 0.1395 - val_fn: 237.0000 - val_fp: 9495.0000 - val_loss: 0.1395 - val_prc: 0.6175 - val_precision: 0.1172 - val_recall: 0.8417 - val_tn: 412479.0000 - val_tp: 1260.0000\n",
            "Epoch 34/100\n",
            "\u001b[1m828/828\u001b[0m \u001b[32m━━━━━━━━━━━━━━━━━━━━\u001b[0m\u001b[37m\u001b[0m \u001b[1m20s\u001b[0m 21ms/step - Brier score: 0.0475 - accuracy: 0.9557 - auc: 0.9347 - cross entropy: 0.2263 - fn: 448.4692 - fp: 38060.2227 - loss: 0.2744 - prc: 0.3214 - precision: 0.0649 - recall: 0.8512 - tn: 808828.1875 - tp: 2576.1592 - val_Brier score: 0.0250 - val_accuracy: 0.9732 - val_auc: 0.9479 - val_cross entropy: 0.1481 - val_fn: 219.0000 - val_fp: 11125.0000 - val_loss: 0.1481 - val_prc: 0.5867 - val_precision: 0.1030 - val_recall: 0.8537 - val_tn: 410849.0000 - val_tp: 1278.0000\n",
            "Epoch 35/100\n",
            "\u001b[1m828/828\u001b[0m \u001b[32m━━━━━━━━━━━━━━━━━━━━\u001b[0m\u001b[37m\u001b[0m \u001b[1m20s\u001b[0m 21ms/step - Brier score: 0.0534 - accuracy: 0.9478 - auc: 0.9308 - cross entropy: 0.2431 - fn: 449.5597 - fp: 43738.8828 - loss: 0.2857 - prc: 0.2987 - precision: 0.0559 - recall: 0.8502 - tn: 803122.0625 - tp: 2602.5537 - val_Brier score: 0.0257 - val_accuracy: 0.9750 - val_auc: 0.9498 - val_cross entropy: 0.1460 - val_fn: 231.0000 - val_fp: 10341.0000 - val_loss: 0.1460 - val_prc: 0.5956 - val_precision: 0.1091 - val_recall: 0.8457 - val_tn: 411633.0000 - val_tp: 1266.0000\n",
            "Epoch 36/100\n",
            "\u001b[1m828/828\u001b[0m \u001b[32m━━━━━━━━━━━━━━━━━━━━\u001b[0m\u001b[37m\u001b[0m \u001b[1m19s\u001b[0m 23ms/step - Brier score: 0.0499 - accuracy: 0.9538 - auc: 0.9267 - cross entropy: 0.2342 - fn: 480.9409 - fp: 38988.8320 - loss: 0.2887 - prc: 0.3250 - precision: 0.0615 - recall: 0.8371 - tn: 807900.9375 - tp: 2542.3511 - val_Brier score: 0.0216 - val_accuracy: 0.9756 - val_auc: 0.9526 - val_cross entropy: 0.1310 - val_fn: 228.0000 - val_fp: 10103.0000 - val_loss: 0.1310 - val_prc: 0.6151 - val_precision: 0.1116 - val_recall: 0.8477 - val_tn: 411871.0000 - val_tp: 1269.0000\n",
            "Epoch 37/100\n",
            "\u001b[1m828/828\u001b[0m \u001b[32m━━━━━━━━━━━━━━━━━━━━\u001b[0m\u001b[37m\u001b[0m \u001b[1m19s\u001b[0m 20ms/step - Brier score: 0.0485 - accuracy: 0.9549 - auc: 0.9319 - cross entropy: 0.2286 - fn: 470.2183 - fp: 38247.7305 - loss: 0.2793 - prc: 0.3280 - precision: 0.0626 - recall: 0.8436 - tn: 808654.4375 - tp: 2540.6321 - val_Brier score: 0.0249 - val_accuracy: 0.9752 - val_auc: 0.9528 - val_cross entropy: 0.1415 - val_fn: 223.0000 - val_fp: 10283.0000 - val_loss: 0.1415 - val_prc: 0.6141 - val_precision: 0.1102 - val_recall: 0.8510 - val_tn: 411691.0000 - val_tp: 1274.0000\n",
            "Epoch 38/100\n",
            "\u001b[1m828/828\u001b[0m \u001b[32m━━━━━━━━━━━━━━━━━━━━\u001b[0m\u001b[37m\u001b[0m \u001b[1m19s\u001b[0m 23ms/step - Brier score: 0.0507 - accuracy: 0.9522 - auc: 0.9308 - cross entropy: 0.2359 - fn: 476.2787 - fp: 40373.1719 - loss: 0.2870 - prc: 0.3071 - precision: 0.0604 - recall: 0.8421 - tn: 806496.4375 - tp: 2567.1726 - val_Brier score: 0.0239 - val_accuracy: 0.9741 - val_auc: 0.9549 - val_cross entropy: 0.1366 - val_fn: 217.0000 - val_fp: 10742.0000 - val_loss: 0.1366 - val_prc: 0.6232 - val_precision: 0.1065 - val_recall: 0.8550 - val_tn: 411232.0000 - val_tp: 1280.0000\n",
            "Epoch 39/100\n",
            "\u001b[1m828/828\u001b[0m \u001b[32m━━━━━━━━━━━━━━━━━━━━\u001b[0m\u001b[37m\u001b[0m \u001b[1m17s\u001b[0m 21ms/step - Brier score: 0.0513 - accuracy: 0.9496 - auc: 0.9346 - cross entropy: 0.2346 - fn: 456.8649 - fp: 41563.9844 - loss: 0.2791 - prc: 0.3148 - precision: 0.0573 - recall: 0.8500 - tn: 805319.2500 - tp: 2572.9651 - val_Brier score: 0.0230 - val_accuracy: 0.9760 - val_auc: 0.9531 - val_cross entropy: 0.1364 - val_fn: 220.0000 - val_fp: 9939.0000 - val_loss: 0.1364 - val_prc: 0.6285 - val_precision: 0.1139 - val_recall: 0.8530 - val_tn: 412035.0000 - val_tp: 1277.0000\n",
            "Epoch 40/100\n",
            "\u001b[1m828/828\u001b[0m \u001b[32m━━━━━━━━━━━━━━━━━━━━\u001b[0m\u001b[37m\u001b[0m \u001b[1m21s\u001b[0m 21ms/step - Brier score: 0.0513 - accuracy: 0.9522 - auc: 0.9357 - cross entropy: 0.2365 - fn: 447.7636 - fp: 39608.8750 - loss: 0.2806 - prc: 0.3397 - precision: 0.0612 - recall: 0.8497 - tn: 807257.8750 - tp: 2598.5115 - val_Brier score: 0.0229 - val_accuracy: 0.9757 - val_auc: 0.9555 - val_cross entropy: 0.1365 - val_fn: 215.0000 - val_fp: 10081.0000 - val_loss: 0.1365 - val_prc: 0.6386 - val_precision: 0.1128 - val_recall: 0.8564 - val_tn: 411893.0000 - val_tp: 1282.0000\n",
            "Epoch 41/100\n",
            "\u001b[1m828/828\u001b[0m \u001b[32m━━━━━━━━━━━━━━━━━━━━\u001b[0m\u001b[37m\u001b[0m \u001b[1m21s\u001b[0m 21ms/step - Brier score: 0.0482 - accuracy: 0.9548 - auc: 0.9360 - cross entropy: 0.2268 - fn: 455.2123 - fp: 38480.1133 - loss: 0.2725 - prc: 0.3354 - precision: 0.0652 - recall: 0.8554 - tn: 808372.2500 - tp: 2605.4705 - val_Brier score: 0.0216 - val_accuracy: 0.9760 - val_auc: 0.9509 - val_cross entropy: 0.1290 - val_fn: 226.0000 - val_fp: 9950.0000 - val_loss: 0.1290 - val_prc: 0.6295 - val_precision: 0.1133 - val_recall: 0.8490 - val_tn: 412024.0000 - val_tp: 1271.0000\n",
            "Epoch 42/100\n",
            "\u001b[1m828/828\u001b[0m \u001b[32m━━━━━━━━━━━━━━━━━━━━\u001b[0m\u001b[37m\u001b[0m \u001b[1m18s\u001b[0m 21ms/step - Brier score: 0.0478 - accuracy: 0.9532 - auc: 0.9368 - cross entropy: 0.2218 - fn: 446.0048 - fp: 40369.3359 - loss: 0.2698 - prc: 0.3417 - precision: 0.0618 - recall: 0.8566 - tn: 806505.5625 - tp: 2592.1509 - val_Brier score: 0.0202 - val_accuracy: 0.9773 - val_auc: 0.9560 - val_cross entropy: 0.1249 - val_fn: 220.0000 - val_fp: 9409.0000 - val_loss: 0.1249 - val_prc: 0.6346 - val_precision: 0.1195 - val_recall: 0.8530 - val_tn: 412565.0000 - val_tp: 1277.0000\n",
            "Epoch 43/100\n",
            "\u001b[1m828/828\u001b[0m \u001b[32m━━━━━━━━━━━━━━━━━━━━\u001b[0m\u001b[37m\u001b[0m \u001b[1m20s\u001b[0m 21ms/step - Brier score: 0.0481 - accuracy: 0.9531 - auc: 0.9352 - cross entropy: 0.2251 - fn: 449.8951 - fp: 39407.1602 - loss: 0.2773 - prc: 0.3318 - precision: 0.0623 - recall: 0.8509 - tn: 807454.3125 - tp: 2601.6960 - val_Brier score: 0.0212 - val_accuracy: 0.9784 - val_auc: 0.9541 - val_cross entropy: 0.1271 - val_fn: 236.0000 - val_fp: 8927.0000 - val_loss: 0.1271 - val_prc: 0.6364 - val_precision: 0.1238 - val_recall: 0.8424 - val_tn: 413047.0000 - val_tp: 1261.0000\n",
            "Epoch 44/100\n",
            "\u001b[1m828/828\u001b[0m \u001b[32m━━━━━━━━━━━━━━━━━━━━\u001b[0m\u001b[37m\u001b[0m \u001b[1m20s\u001b[0m 21ms/step - Brier score: 0.0485 - accuracy: 0.9546 - auc: 0.9360 - cross entropy: 0.2271 - fn: 460.4475 - fp: 38559.6406 - loss: 0.2762 - prc: 0.3362 - precision: 0.0634 - recall: 0.8476 - tn: 808306.8125 - tp: 2586.1484 - val_Brier score: 0.0206 - val_accuracy: 0.9791 - val_auc: 0.9605 - val_cross entropy: 0.1243 - val_fn: 227.0000 - val_fp: 8619.0000 - val_loss: 0.1243 - val_prc: 0.6499 - val_precision: 0.1284 - val_recall: 0.8484 - val_tn: 413355.0000 - val_tp: 1270.0000\n",
            "Epoch 45/100\n",
            "\u001b[1m828/828\u001b[0m \u001b[32m━━━━━━━━━━━━━━━━━━━━\u001b[0m\u001b[37m\u001b[0m \u001b[1m20s\u001b[0m 24ms/step - Brier score: 0.0460 - accuracy: 0.9567 - auc: 0.9376 - cross entropy: 0.2175 - fn: 440.3824 - fp: 36822.9453 - loss: 0.2645 - prc: 0.3475 - precision: 0.0648 - recall: 0.8525 - tn: 810122.6875 - tp: 2527.0205 - val_Brier score: 0.0208 - val_accuracy: 0.9767 - val_auc: 0.9629 - val_cross entropy: 0.1260 - val_fn: 213.0000 - val_fp: 9652.0000 - val_loss: 0.1260 - val_prc: 0.6470 - val_precision: 0.1174 - val_recall: 0.8577 - val_tn: 412322.0000 - val_tp: 1284.0000\n",
            "Epoch 46/100\n",
            "\u001b[1m828/828\u001b[0m \u001b[32m━━━━━━━━━━━━━━━━━━━━\u001b[0m\u001b[37m\u001b[0m \u001b[1m18s\u001b[0m 21ms/step - Brier score: 0.0501 - accuracy: 0.9508 - auc: 0.9376 - cross entropy: 0.2301 - fn: 448.7491 - fp: 40391.3867 - loss: 0.2719 - prc: 0.3411 - precision: 0.0595 - recall: 0.8548 - tn: 806477.7500 - tp: 2595.1375 - val_Brier score: 0.0198 - val_accuracy: 0.9797 - val_auc: 0.9567 - val_cross entropy: 0.1202 - val_fn: 229.0000 - val_fp: 8350.0000 - val_loss: 0.1202 - val_prc: 0.6523 - val_precision: 0.1318 - val_recall: 0.8470 - val_tn: 413624.0000 - val_tp: 1268.0000\n",
            "Epoch 47/100\n",
            "\u001b[1m828/828\u001b[0m \u001b[32m━━━━━━━━━━━━━━━━━━━━\u001b[0m\u001b[37m\u001b[0m \u001b[1m22s\u001b[0m 23ms/step - Brier score: 0.0481 - accuracy: 0.9529 - auc: 0.9370 - cross entropy: 0.2229 - fn: 449.3667 - fp: 40727.2383 - loss: 0.2706 - prc: 0.3446 - precision: 0.0622 - recall: 0.8554 - tn: 806139.2500 - tp: 2597.2170 - val_Brier score: 0.0186 - val_accuracy: 0.9799 - val_auc: 0.9606 - val_cross entropy: 0.1143 - val_fn: 229.0000 - val_fp: 8276.0000 - val_loss: 0.1143 - val_prc: 0.6458 - val_precision: 0.1329 - val_recall: 0.8470 - val_tn: 413698.0000 - val_tp: 1268.0000\n",
            "Epoch 48/100\n",
            "\u001b[1m828/828\u001b[0m \u001b[32m━━━━━━━━━━━━━━━━━━━━\u001b[0m\u001b[37m\u001b[0m \u001b[1m18s\u001b[0m 21ms/step - Brier score: 0.0466 - accuracy: 0.9538 - auc: 0.9436 - cross entropy: 0.2165 - fn: 442.4053 - fp: 39561.7266 - loss: 0.2629 - prc: 0.3449 - precision: 0.0615 - recall: 0.8540 - tn: 807353.9375 - tp: 2554.9902 - val_Brier score: 0.0195 - val_accuracy: 0.9803 - val_auc: 0.9606 - val_cross entropy: 0.1206 - val_fn: 228.0000 - val_fp: 8114.0000 - val_loss: 0.1206 - val_prc: 0.6567 - val_precision: 0.1352 - val_recall: 0.8477 - val_tn: 413860.0000 - val_tp: 1269.0000\n",
            "Epoch 49/100\n",
            "\u001b[1m828/828\u001b[0m \u001b[32m━━━━━━━━━━━━━━━━━━━━\u001b[0m\u001b[37m\u001b[0m \u001b[1m19s\u001b[0m 23ms/step - Brier score: 0.0486 - accuracy: 0.9521 - auc: 0.9403 - cross entropy: 0.2236 - fn: 432.5549 - fp: 40378.3828 - loss: 0.2642 - prc: 0.3497 - precision: 0.0606 - recall: 0.8573 - tn: 806501.1250 - tp: 2600.9771 - val_Brier score: 0.0203 - val_accuracy: 0.9770 - val_auc: 0.9619 - val_cross entropy: 0.1209 - val_fn: 219.0000 - val_fp: 9506.0000 - val_loss: 0.1209 - val_prc: 0.6572 - val_precision: 0.1185 - val_recall: 0.8537 - val_tn: 412468.0000 - val_tp: 1278.0000\n",
            "Epoch 50/100\n",
            "\u001b[1m828/828\u001b[0m \u001b[32m━━━━━━━━━━━━━━━━━━━━\u001b[0m\u001b[37m\u001b[0m \u001b[1m17s\u001b[0m 21ms/step - Brier score: 0.0495 - accuracy: 0.9473 - auc: 0.9429 - cross entropy: 0.2237 - fn: 413.3136 - fp: 44949.2305 - loss: 0.2594 - prc: 0.3341 - precision: 0.0551 - recall: 0.8634 - tn: 801961.0000 - tp: 2589.4729 - val_Brier score: 0.0180 - val_accuracy: 0.9774 - val_auc: 0.9668 - val_cross entropy: 0.1096 - val_fn: 215.0000 - val_fp: 9371.0000 - val_loss: 0.1096 - val_prc: 0.6661 - val_precision: 0.1203 - val_recall: 0.8564 - val_tn: 412603.0000 - val_tp: 1282.0000\n",
            "Epoch 51/100\n",
            "\u001b[1m828/828\u001b[0m \u001b[32m━━━━━━━━━━━━━━━━━━━━\u001b[0m\u001b[37m\u001b[0m \u001b[1m17s\u001b[0m 21ms/step - Brier score: 0.0533 - accuracy: 0.9405 - auc: 0.9371 - cross entropy: 0.2320 - fn: 428.2798 - fp: 49017.8711 - loss: 0.2776 - prc: 0.3294 - precision: 0.0490 - recall: 0.8516 - tn: 797877.6250 - tp: 2589.2678 - val_Brier score: 0.0193 - val_accuracy: 0.9772 - val_auc: 0.9626 - val_cross entropy: 0.1142 - val_fn: 213.0000 - val_fp: 9429.0000 - val_loss: 0.1142 - val_prc: 0.6617 - val_precision: 0.1199 - val_recall: 0.8577 - val_tn: 412545.0000 - val_tp: 1284.0000\n",
            "Epoch 52/100\n",
            "\u001b[1m828/828\u001b[0m \u001b[32m━━━━━━━━━━━━━━━━━━━━\u001b[0m\u001b[37m\u001b[0m \u001b[1m17s\u001b[0m 21ms/step - Brier score: 0.0488 - accuracy: 0.9472 - auc: 0.9418 - cross entropy: 0.2199 - fn: 430.5549 - fp: 44889.3633 - loss: 0.2681 - prc: 0.3567 - precision: 0.0562 - recall: 0.8599 - tn: 801960.1250 - tp: 2632.9880 - val_Brier score: 0.0171 - val_accuracy: 0.9800 - val_auc: 0.9686 - val_cross entropy: 0.1078 - val_fn: 231.0000 - val_fp: 8232.0000 - val_loss: 0.1078 - val_prc: 0.6667 - val_precision: 0.1333 - val_recall: 0.8457 - val_tn: 413742.0000 - val_tp: 1266.0000\n",
            "Epoch 53/100\n",
            "\u001b[1m828/828\u001b[0m \u001b[32m━━━━━━━━━━━━━━━━━━━━\u001b[0m\u001b[37m\u001b[0m \u001b[1m18s\u001b[0m 21ms/step - Brier score: 0.0477 - accuracy: 0.9477 - auc: 0.9458 - cross entropy: 0.2161 - fn: 396.0724 - fp: 44957.2617 - loss: 0.2597 - prc: 0.3473 - precision: 0.0575 - recall: 0.8694 - tn: 801919.3750 - tp: 2640.3389 - val_Brier score: 0.0177 - val_accuracy: 0.9775 - val_auc: 0.9725 - val_cross entropy: 0.1051 - val_fn: 217.0000 - val_fp: 9292.0000 - val_loss: 0.1051 - val_prc: 0.6826 - val_precision: 0.1211 - val_recall: 0.8550 - val_tn: 412682.0000 - val_tp: 1280.0000\n",
            "Epoch 54/100\n",
            "\u001b[1m828/828\u001b[0m \u001b[32m━━━━━━━━━━━━━━━━━━━━\u001b[0m\u001b[37m\u001b[0m \u001b[1m20s\u001b[0m 24ms/step - Brier score: 0.0502 - accuracy: 0.9406 - auc: 0.9435 - cross entropy: 0.2198 - fn: 393.9192 - fp: 49950.9570 - loss: 0.2636 - prc: 0.3448 - precision: 0.0511 - recall: 0.8715 - tn: 796919.0625 - tp: 2649.1255 - val_Brier score: 0.0179 - val_accuracy: 0.9799 - val_auc: 0.9664 - val_cross entropy: 0.1121 - val_fn: 219.0000 - val_fp: 8312.0000 - val_loss: 0.1121 - val_prc: 0.6841 - val_precision: 0.1333 - val_recall: 0.8537 - val_tn: 413662.0000 - val_tp: 1278.0000\n",
            "Epoch 55/100\n",
            "\u001b[1m828/828\u001b[0m \u001b[32m━━━━━━━━━━━━━━━━━━━━\u001b[0m\u001b[37m\u001b[0m \u001b[1m17s\u001b[0m 21ms/step - Brier score: 0.0490 - accuracy: 0.9411 - auc: 0.9448 - cross entropy: 0.2170 - fn: 368.1363 - fp: 49599.9336 - loss: 0.2549 - prc: 0.3350 - precision: 0.0514 - recall: 0.8808 - tn: 797272.5625 - tp: 2672.4355 - val_Brier score: 0.0181 - val_accuracy: 0.9758 - val_auc: 0.9646 - val_cross entropy: 0.1096 - val_fn: 204.0000 - val_fp: 10062.0000 - val_loss: 0.1096 - val_prc: 0.6742 - val_precision: 0.1139 - val_recall: 0.8637 - val_tn: 411912.0000 - val_tp: 1293.0000\n",
            "Epoch 56/100\n",
            "\u001b[1m828/828\u001b[0m \u001b[32m━━━━━━━━━━━━━━━━━━━━\u001b[0m\u001b[37m\u001b[0m \u001b[1m24s\u001b[0m 24ms/step - Brier score: 0.0491 - accuracy: 0.9410 - auc: 0.9452 - cross entropy: 0.2167 - fn: 368.0507 - fp: 49704.7422 - loss: 0.2562 - prc: 0.3316 - precision: 0.0502 - recall: 0.8769 - tn: 797202.5625 - tp: 2637.6792 - val_Brier score: 0.0187 - val_accuracy: 0.9761 - val_auc: 0.9668 - val_cross entropy: 0.1118 - val_fn: 194.0000 - val_fp: 9927.0000 - val_loss: 0.1118 - val_prc: 0.6651 - val_precision: 0.1160 - val_recall: 0.8704 - val_tn: 412047.0000 - val_tp: 1303.0000\n",
            "Epoch 57/100\n",
            "\u001b[1m828/828\u001b[0m \u001b[32m━━━━━━━━━━━━━━━━━━━━\u001b[0m\u001b[37m\u001b[0m \u001b[1m19s\u001b[0m 22ms/step - Brier score: 0.0476 - accuracy: 0.9412 - auc: 0.9461 - cross entropy: 0.2110 - fn: 345.1351 - fp: 49475.8359 - loss: 0.2485 - prc: 0.3339 - precision: 0.0508 - recall: 0.8847 - tn: 797424.1875 - tp: 2667.9023 - val_Brier score: 0.0154 - val_accuracy: 0.9794 - val_auc: 0.9683 - val_cross entropy: 0.1014 - val_fn: 208.0000 - val_fp: 8518.0000 - val_loss: 0.1014 - val_prc: 0.6830 - val_precision: 0.1314 - val_recall: 0.8611 - val_tn: 413456.0000 - val_tp: 1289.0000\n",
            "Epoch 58/100\n",
            "\u001b[1m828/828\u001b[0m \u001b[32m━━━━━━━━━━━━━━━━━━━━\u001b[0m\u001b[37m\u001b[0m \u001b[1m17s\u001b[0m 21ms/step - Brier score: 0.0494 - accuracy: 0.9400 - auc: 0.9473 - cross entropy: 0.2169 - fn: 379.2220 - fp: 51346.6914 - loss: 0.2539 - prc: 0.3332 - precision: 0.0494 - recall: 0.8783 - tn: 795565.0000 - tp: 2622.1099 - val_Brier score: 0.0160 - val_accuracy: 0.9764 - val_auc: 0.9664 - val_cross entropy: 0.0984 - val_fn: 177.0000 - val_fp: 9807.0000 - val_loss: 0.0984 - val_prc: 0.6727 - val_precision: 0.1186 - val_recall: 0.8818 - val_tn: 412167.0000 - val_tp: 1320.0000\n",
            "Epoch 59/100\n",
            "\u001b[1m828/828\u001b[0m \u001b[32m━━━━━━━━━━━━━━━━━━━━\u001b[0m\u001b[37m\u001b[0m \u001b[1m21s\u001b[0m 22ms/step - Brier score: 0.0487 - accuracy: 0.9392 - auc: 0.9473 - cross entropy: 0.2120 - fn: 357.1472 - fp: 51277.0273 - loss: 0.2530 - prc: 0.3514 - precision: 0.0491 - recall: 0.8817 - tn: 795609.5000 - tp: 2669.3582 - val_Brier score: 0.0169 - val_accuracy: 0.9771 - val_auc: 0.9694 - val_cross entropy: 0.1049 - val_fn: 179.0000 - val_fp: 9512.0000 - val_loss: 0.1049 - val_prc: 0.6893 - val_precision: 0.1217 - val_recall: 0.8804 - val_tn: 412462.0000 - val_tp: 1318.0000\n",
            "Epoch 60/100\n",
            "\u001b[1m828/828\u001b[0m \u001b[32m━━━━━━━━━━━━━━━━━━━━\u001b[0m\u001b[37m\u001b[0m \u001b[1m19s\u001b[0m 23ms/step - Brier score: 0.0442 - accuracy: 0.9482 - auc: 0.9475 - cross entropy: 0.2020 - fn: 351.0663 - fp: 43540.5391 - loss: 0.2437 - prc: 0.3628 - precision: 0.0585 - recall: 0.8881 - tn: 803328.3750 - tp: 2693.0591 - val_Brier score: 0.0171 - val_accuracy: 0.9789 - val_auc: 0.9683 - val_cross entropy: 0.1073 - val_fn: 183.0000 - val_fp: 8756.0000 - val_loss: 0.1073 - val_prc: 0.6982 - val_precision: 0.1305 - val_recall: 0.8778 - val_tn: 413218.0000 - val_tp: 1314.0000\n",
            "Epoch 61/100\n",
            "\u001b[1m828/828\u001b[0m \u001b[32m━━━━━━━━━━━━━━━━━━━━\u001b[0m\u001b[37m\u001b[0m \u001b[1m19s\u001b[0m 22ms/step - Brier score: 0.0467 - accuracy: 0.9472 - auc: 0.9459 - cross entropy: 0.2114 - fn: 360.7744 - fp: 45515.7891 - loss: 0.2534 - prc: 0.3578 - precision: 0.0567 - recall: 0.8771 - tn: 801376.2500 - tp: 2660.1978 - val_Brier score: 0.0173 - val_accuracy: 0.9756 - val_auc: 0.9714 - val_cross entropy: 0.1039 - val_fn: 157.0000 - val_fp: 10163.0000 - val_loss: 0.1039 - val_prc: 0.6836 - val_precision: 0.1165 - val_recall: 0.8951 - val_tn: 411811.0000 - val_tp: 1340.0000\n",
            "Epoch 62/100\n",
            "\u001b[1m828/828\u001b[0m \u001b[32m━━━━━━━━━━━━━━━━━━━━\u001b[0m\u001b[37m\u001b[0m \u001b[1m20s\u001b[0m 22ms/step - Brier score: 0.0509 - accuracy: 0.9330 - auc: 0.9496 - cross entropy: 0.2144 - fn: 340.6309 - fp: 55963.0000 - loss: 0.2496 - prc: 0.3404 - precision: 0.0455 - recall: 0.8862 - tn: 790931.8750 - tp: 2677.5103 - val_Brier score: 0.0150 - val_accuracy: 0.9783 - val_auc: 0.9721 - val_cross entropy: 0.0950 - val_fn: 160.0000 - val_fp: 9024.0000 - val_loss: 0.0950 - val_prc: 0.6916 - val_precision: 0.1290 - val_recall: 0.8931 - val_tn: 412950.0000 - val_tp: 1337.0000\n",
            "Epoch 63/100\n",
            "\u001b[1m828/828\u001b[0m \u001b[32m━━━━━━━━━━━━━━━━━━━━\u001b[0m\u001b[37m\u001b[0m \u001b[1m20s\u001b[0m 24ms/step - Brier score: 0.0456 - accuracy: 0.9411 - auc: 0.9530 - cross entropy: 0.1985 - fn: 317.6779 - fp: 49532.8945 - loss: 0.2331 - prc: 0.3517 - precision: 0.0516 - recall: 0.8983 - tn: 797371.0625 - tp: 2691.4004 - val_Brier score: 0.0175 - val_accuracy: 0.9772 - val_auc: 0.9700 - val_cross entropy: 0.1078 - val_fn: 160.0000 - val_fp: 9485.0000 - val_loss: 0.1078 - val_prc: 0.6979 - val_precision: 0.1235 - val_recall: 0.8931 - val_tn: 412489.0000 - val_tp: 1337.0000\n",
            "Epoch 64/100\n",
            "\u001b[1m828/828\u001b[0m \u001b[32m━━━━━━━━━━━━━━━━━━━━\u001b[0m\u001b[37m\u001b[0m \u001b[1m18s\u001b[0m 22ms/step - Brier score: 0.0469 - accuracy: 0.9423 - auc: 0.9485 - cross entropy: 0.2063 - fn: 329.4560 - fp: 49223.5781 - loss: 0.2437 - prc: 0.3557 - precision: 0.0526 - recall: 0.8908 - tn: 797668.1250 - tp: 2691.8564 - val_Brier score: 0.0182 - val_accuracy: 0.9761 - val_auc: 0.9692 - val_cross entropy: 0.1084 - val_fn: 138.0000 - val_fp: 9975.0000 - val_loss: 0.1084 - val_prc: 0.6828 - val_precision: 0.1199 - val_recall: 0.9078 - val_tn: 411999.0000 - val_tp: 1359.0000\n",
            "Epoch 65/100\n",
            "\u001b[1m828/828\u001b[0m \u001b[32m━━━━━━━━━━━━━━━━━━━━\u001b[0m\u001b[37m\u001b[0m \u001b[1m20s\u001b[0m 24ms/step - Brier score: 0.0481 - accuracy: 0.9397 - auc: 0.9494 - cross entropy: 0.2090 - fn: 337.7129 - fp: 50251.5508 - loss: 0.2447 - prc: 0.3444 - precision: 0.0498 - recall: 0.8888 - tn: 796638.3750 - tp: 2685.4102 - val_Brier score: 0.0172 - val_accuracy: 0.9782 - val_auc: 0.9694 - val_cross entropy: 0.1068 - val_fn: 153.0000 - val_fp: 9076.0000 - val_loss: 0.1068 - val_prc: 0.6951 - val_precision: 0.1290 - val_recall: 0.8978 - val_tn: 412898.0000 - val_tp: 1344.0000\n",
            "Epoch 66/100\n",
            "\u001b[1m828/828\u001b[0m \u001b[32m━━━━━━━━━━━━━━━━━━━━\u001b[0m\u001b[37m\u001b[0m \u001b[1m19s\u001b[0m 22ms/step - Brier score: 0.0439 - accuracy: 0.9475 - auc: 0.9491 - cross entropy: 0.1989 - fn: 323.1689 - fp: 44976.0469 - loss: 0.2351 - prc: 0.3594 - precision: 0.0568 - recall: 0.8933 - tn: 801917.6250 - tp: 2696.2195 - val_Brier score: 0.0179 - val_accuracy: 0.9770 - val_auc: 0.9667 - val_cross entropy: 0.1067 - val_fn: 134.0000 - val_fp: 9621.0000 - val_loss: 0.1067 - val_prc: 0.7094 - val_precision: 0.1241 - val_recall: 0.9105 - val_tn: 412353.0000 - val_tp: 1363.0000\n",
            "Epoch 67/100\n",
            "\u001b[1m828/828\u001b[0m \u001b[32m━━━━━━━━━━━━━━━━━━━━\u001b[0m\u001b[37m\u001b[0m \u001b[1m21s\u001b[0m 25ms/step - Brier score: 0.0480 - accuracy: 0.9397 - auc: 0.9508 - cross entropy: 0.2090 - fn: 338.9734 - fp: 50333.8242 - loss: 0.2450 - prc: 0.3483 - precision: 0.0498 - recall: 0.8887 - tn: 796564.3125 - tp: 2675.9082 - val_Brier score: 0.0171 - val_accuracy: 0.9774 - val_auc: 0.9663 - val_cross entropy: 0.1044 - val_fn: 141.0000 - val_fp: 9412.0000 - val_loss: 0.1044 - val_prc: 0.7087 - val_precision: 0.1259 - val_recall: 0.9058 - val_tn: 412562.0000 - val_tp: 1356.0000\n",
            "Epoch 68/100\n",
            "\u001b[1m828/828\u001b[0m \u001b[32m━━━━━━━━━━━━━━━━━━━━\u001b[0m\u001b[37m\u001b[0m \u001b[1m40s\u001b[0m 24ms/step - Brier score: 0.0437 - accuracy: 0.9491 - auc: 0.9465 - cross entropy: 0.1992 - fn: 340.1833 - fp: 43489.1914 - loss: 0.2435 - prc: 0.3654 - precision: 0.0596 - recall: 0.8876 - tn: 803377.6875 - tp: 2705.9709 - val_Brier score: 0.0168 - val_accuracy: 0.9795 - val_auc: 0.9675 - val_cross entropy: 0.1078 - val_fn: 161.0000 - val_fp: 8514.0000 - val_loss: 0.1078 - val_prc: 0.7133 - val_precision: 0.1356 - val_recall: 0.8925 - val_tn: 413460.0000 - val_tp: 1336.0000\n",
            "Epoch 69/100\n",
            "\u001b[1m828/828\u001b[0m \u001b[32m━━━━━━━━━━━━━━━━━━━━\u001b[0m\u001b[37m\u001b[0m \u001b[1m18s\u001b[0m 22ms/step - Brier score: 0.0444 - accuracy: 0.9493 - auc: 0.9470 - cross entropy: 0.2027 - fn: 351.1809 - fp: 43078.9648 - loss: 0.2428 - prc: 0.3612 - precision: 0.0584 - recall: 0.8853 - tn: 803818.8750 - tp: 2664.0193 - val_Brier score: 0.0164 - val_accuracy: 0.9784 - val_auc: 0.9699 - val_cross entropy: 0.1016 - val_fn: 138.0000 - val_fp: 9027.0000 - val_loss: 0.1016 - val_prc: 0.7194 - val_precision: 0.1308 - val_recall: 0.9078 - val_tn: 412947.0000 - val_tp: 1359.0000\n",
            "Epoch 70/100\n",
            "\u001b[1m828/828\u001b[0m \u001b[32m━━━━━━━━━━━━━━━━━━━━\u001b[0m\u001b[37m\u001b[0m \u001b[1m18s\u001b[0m 22ms/step - Brier score: 0.0476 - accuracy: 0.9408 - auc: 0.9512 - cross entropy: 0.2071 - fn: 338.0784 - fp: 49287.4141 - loss: 0.2429 - prc: 0.3422 - precision: 0.0509 - recall: 0.8896 - tn: 797605.0000 - tp: 2682.5369 - val_Brier score: 0.0182 - val_accuracy: 0.9768 - val_auc: 0.9704 - val_cross entropy: 0.1121 - val_fn: 127.0000 - val_fp: 9682.0000 - val_loss: 0.1121 - val_prc: 0.7346 - val_precision: 0.1240 - val_recall: 0.9152 - val_tn: 412292.0000 - val_tp: 1370.0000\n",
            "Epoch 71/100\n",
            "\u001b[1m828/828\u001b[0m \u001b[32m━━━━━━━━━━━━━━━━━━━━\u001b[0m\u001b[37m\u001b[0m \u001b[1m18s\u001b[0m 22ms/step - Brier score: 0.0462 - accuracy: 0.9455 - auc: 0.9496 - cross entropy: 0.2078 - fn: 326.3788 - fp: 45614.4609 - loss: 0.2415 - prc: 0.3590 - precision: 0.0554 - recall: 0.8902 - tn: 801276.7500 - tp: 2695.4390 - val_Brier score: 0.0165 - val_accuracy: 0.9761 - val_auc: 0.9684 - val_cross entropy: 0.1041 - val_fn: 133.0000 - val_fp: 9968.0000 - val_loss: 0.1041 - val_prc: 0.7211 - val_precision: 0.1204 - val_recall: 0.9112 - val_tn: 412006.0000 - val_tp: 1364.0000\n",
            "Epoch 72/100\n",
            "\u001b[1m828/828\u001b[0m \u001b[32m━━━━━━━━━━━━━━━━━━━━\u001b[0m\u001b[37m\u001b[0m \u001b[1m23s\u001b[0m 25ms/step - Brier score: 0.0461 - accuracy: 0.9426 - auc: 0.9492 - cross entropy: 0.2032 - fn: 336.1701 - fp: 47453.3477 - loss: 0.2423 - prc: 0.3670 - precision: 0.0518 - recall: 0.8865 - tn: 799449.7500 - tp: 2673.7925 - val_Brier score: 0.0152 - val_accuracy: 0.9798 - val_auc: 0.9682 - val_cross entropy: 0.0977 - val_fn: 152.0000 - val_fp: 8409.0000 - val_loss: 0.0977 - val_prc: 0.7318 - val_precision: 0.1379 - val_recall: 0.8985 - val_tn: 413565.0000 - val_tp: 1345.0000\n",
            "Epoch 73/100\n",
            "\u001b[1m828/828\u001b[0m \u001b[32m━━━━━━━━━━━━━━━━━━━━\u001b[0m\u001b[37m\u001b[0m \u001b[1m40s\u001b[0m 24ms/step - Brier score: 0.0476 - accuracy: 0.9413 - auc: 0.9519 - cross entropy: 0.2076 - fn: 330.4089 - fp: 50236.5234 - loss: 0.2421 - prc: 0.3512 - precision: 0.0514 - recall: 0.8890 - tn: 796650.4375 - tp: 2695.6863 - val_Brier score: 0.0153 - val_accuracy: 0.9770 - val_auc: 0.9722 - val_cross entropy: 0.0947 - val_fn: 140.0000 - val_fp: 9588.0000 - val_loss: 0.0947 - val_prc: 0.7315 - val_precision: 0.1240 - val_recall: 0.9065 - val_tn: 412386.0000 - val_tp: 1357.0000\n",
            "Epoch 74/100\n",
            "\u001b[1m828/828\u001b[0m \u001b[32m━━━━━━━━━━━━━━━━━━━━\u001b[0m\u001b[37m\u001b[0m \u001b[1m18s\u001b[0m 22ms/step - Brier score: 0.0441 - accuracy: 0.9436 - auc: 0.9484 - cross entropy: 0.1953 - fn: 326.8818 - fp: 48567.0391 - loss: 0.2387 - prc: 0.3789 - precision: 0.0535 - recall: 0.8938 - tn: 798335.5000 - tp: 2683.6333 - val_Brier score: 0.0154 - val_accuracy: 0.9729 - val_auc: 0.9719 - val_cross entropy: 0.0950 - val_fn: 137.0000 - val_fp: 11348.0000 - val_loss: 0.0950 - val_prc: 0.6967 - val_precision: 0.1070 - val_recall: 0.9085 - val_tn: 410626.0000 - val_tp: 1360.0000\n",
            "Epoch 75/100\n",
            "\u001b[1m828/828\u001b[0m \u001b[32m━━━━━━━━━━━━━━━━━━━━\u001b[0m\u001b[37m\u001b[0m \u001b[1m18s\u001b[0m 22ms/step - Brier score: 0.0468 - accuracy: 0.9364 - auc: 0.9508 - cross entropy: 0.2029 - fn: 316.2497 - fp: 53774.6641 - loss: 0.2443 - prc: 0.3592 - precision: 0.0499 - recall: 0.8973 - tn: 793052.8750 - tp: 2769.2786 - val_Brier score: 0.0133 - val_accuracy: 0.9780 - val_auc: 0.9750 - val_cross entropy: 0.0872 - val_fn: 135.0000 - val_fp: 9197.0000 - val_loss: 0.0872 - val_prc: 0.7199 - val_precision: 0.1290 - val_recall: 0.9098 - val_tn: 412777.0000 - val_tp: 1362.0000\n",
            "Epoch 76/100\n",
            "\u001b[1m828/828\u001b[0m \u001b[32m━━━━━━━━━━━━━━━━━━━━\u001b[0m\u001b[37m\u001b[0m \u001b[1m18s\u001b[0m 22ms/step - Brier score: 0.0439 - accuracy: 0.9421 - auc: 0.9560 - cross entropy: 0.1940 - fn: 303.6900 - fp: 47727.6875 - loss: 0.2328 - prc: 0.3451 - precision: 0.0528 - recall: 0.8980 - tn: 799174.8750 - tp: 2706.7961 - val_Brier score: 0.0162 - val_accuracy: 0.9769 - val_auc: 0.9721 - val_cross entropy: 0.1011 - val_fn: 135.0000 - val_fp: 9628.0000 - val_loss: 0.1011 - val_prc: 0.7517 - val_precision: 0.1239 - val_recall: 0.9098 - val_tn: 412346.0000 - val_tp: 1362.0000\n",
            "Epoch 77/100\n",
            "\u001b[1m828/828\u001b[0m \u001b[32m━━━━━━━━━━━━━━━━━━━━\u001b[0m\u001b[37m\u001b[0m \u001b[1m19s\u001b[0m 22ms/step - Brier score: 0.0438 - accuracy: 0.9443 - auc: 0.9492 - cross entropy: 0.1947 - fn: 310.4391 - fp: 45968.3438 - loss: 0.2372 - prc: 0.3709 - precision: 0.0549 - recall: 0.8939 - tn: 800884.1250 - tp: 2750.1111 - val_Brier score: 0.0145 - val_accuracy: 0.9757 - val_auc: 0.9694 - val_cross entropy: 0.0926 - val_fn: 135.0000 - val_fp: 10162.0000 - val_loss: 0.0926 - val_prc: 0.7407 - val_precision: 0.1182 - val_recall: 0.9098 - val_tn: 411812.0000 - val_tp: 1362.0000\n",
            "Epoch 78/100\n",
            "\u001b[1m828/828\u001b[0m \u001b[32m━━━━━━━━━━━━━━━━━━━━\u001b[0m\u001b[37m\u001b[0m \u001b[1m20s\u001b[0m 22ms/step - Brier score: 0.0445 - accuracy: 0.9407 - auc: 0.9476 - cross entropy: 0.1942 - fn: 313.1918 - fp: 50912.9336 - loss: 0.2384 - prc: 0.3571 - precision: 0.0504 - recall: 0.8934 - tn: 796002.9375 - tp: 2683.9902 - val_Brier score: 0.0154 - val_accuracy: 0.9769 - val_auc: 0.9711 - val_cross entropy: 0.0982 - val_fn: 128.0000 - val_fp: 9668.0000 - val_loss: 0.0982 - val_prc: 0.7543 - val_precision: 0.1240 - val_recall: 0.9145 - val_tn: 412306.0000 - val_tp: 1369.0000\n",
            "Epoch 79/100\n",
            "\u001b[1m828/828\u001b[0m \u001b[32m━━━━━━━━━━━━━━━━━━━━\u001b[0m\u001b[37m\u001b[0m \u001b[1m18s\u001b[0m 22ms/step - Brier score: 0.0454 - accuracy: 0.9390 - auc: 0.9543 - cross entropy: 0.1959 - fn: 302.6345 - fp: 50968.0586 - loss: 0.2291 - prc: 0.3730 - precision: 0.0501 - recall: 0.9017 - tn: 795927.9375 - tp: 2714.4390 - val_Brier score: 0.0184 - val_accuracy: 0.9720 - val_auc: 0.9701 - val_cross entropy: 0.1086 - val_fn: 132.0000 - val_fp: 11712.0000 - val_loss: 0.1086 - val_prc: 0.7278 - val_precision: 0.1044 - val_recall: 0.9118 - val_tn: 410262.0000 - val_tp: 1365.0000\n",
            "Epoch 80/100\n",
            "\u001b[1m828/828\u001b[0m \u001b[32m━━━━━━━━━━━━━━━━━━━━\u001b[0m\u001b[37m\u001b[0m \u001b[1m19s\u001b[0m 22ms/step - Brier score: 0.0445 - accuracy: 0.9409 - auc: 0.9566 - cross entropy: 0.1941 - fn: 281.5875 - fp: 49018.2422 - loss: 0.2236 - prc: 0.3636 - precision: 0.0521 - recall: 0.9095 - tn: 797865.3125 - tp: 2747.8889 - val_Brier score: 0.0148 - val_accuracy: 0.9778 - val_auc: 0.9704 - val_cross entropy: 0.0952 - val_fn: 134.0000 - val_fp: 9246.0000 - val_loss: 0.0952 - val_prc: 0.7492 - val_precision: 0.1285 - val_recall: 0.9105 - val_tn: 412728.0000 - val_tp: 1363.0000\n",
            "Epoch 81/100\n",
            "\u001b[1m828/828\u001b[0m \u001b[32m━━━━━━━━━━━━━━━━━━━━\u001b[0m\u001b[37m\u001b[0m \u001b[1m20s\u001b[0m 24ms/step - Brier score: 0.0448 - accuracy: 0.9388 - auc: 0.9589 - cross entropy: 0.1923 - fn: 276.2075 - fp: 52333.2344 - loss: 0.2223 - prc: 0.3608 - precision: 0.0513 - recall: 0.9114 - tn: 794534.7500 - tp: 2768.8274 - val_Brier score: 0.0138 - val_accuracy: 0.9756 - val_auc: 0.9758 - val_cross entropy: 0.0894 - val_fn: 134.0000 - val_fp: 10187.0000 - val_loss: 0.0894 - val_prc: 0.7500 - val_precision: 0.1180 - val_recall: 0.9105 - val_tn: 411787.0000 - val_tp: 1363.0000\n",
            "Epoch 82/100\n",
            "\u001b[1m828/828\u001b[0m \u001b[32m━━━━━━━━━━━━━━━━━━━━\u001b[0m\u001b[37m\u001b[0m \u001b[1m21s\u001b[0m 25ms/step - Brier score: 0.0466 - accuracy: 0.9340 - auc: 0.9530 - cross entropy: 0.1976 - fn: 287.6755 - fp: 54355.4922 - loss: 0.2390 - prc: 0.3523 - precision: 0.0474 - recall: 0.9025 - tn: 792507.1875 - tp: 2762.6599 - val_Brier score: 0.0130 - val_accuracy: 0.9793 - val_auc: 0.9704 - val_cross entropy: 0.0872 - val_fn: 148.0000 - val_fp: 8602.0000 - val_loss: 0.0872 - val_prc: 0.7532 - val_precision: 0.1356 - val_recall: 0.9011 - val_tn: 413372.0000 - val_tp: 1349.0000\n",
            "Epoch 83/100\n",
            "\u001b[1m828/828\u001b[0m \u001b[32m━━━━━━━━━━━━━━━━━━━━\u001b[0m\u001b[37m\u001b[0m \u001b[1m18s\u001b[0m 22ms/step - Brier score: 0.0407 - accuracy: 0.9471 - auc: 0.9558 - cross entropy: 0.1825 - fn: 294.6767 - fp: 45494.0391 - loss: 0.2242 - prc: 0.3725 - precision: 0.0567 - recall: 0.9009 - tn: 801422.8125 - tp: 2701.5332 - val_Brier score: 0.0138 - val_accuracy: 0.9764 - val_auc: 0.9708 - val_cross entropy: 0.0950 - val_fn: 129.0000 - val_fp: 9871.0000 - val_loss: 0.0950 - val_prc: 0.7525 - val_precision: 0.1217 - val_recall: 0.9138 - val_tn: 412103.0000 - val_tp: 1368.0000\n",
            "Epoch 84/100\n",
            "\u001b[1m828/828\u001b[0m \u001b[32m━━━━━━━━━━━━━━━━━━━━\u001b[0m\u001b[37m\u001b[0m \u001b[1m23s\u001b[0m 25ms/step - Brier score: 0.0443 - accuracy: 0.9378 - auc: 0.9603 - cross entropy: 0.1913 - fn: 279.5344 - fp: 52437.0312 - loss: 0.2198 - prc: 0.3656 - precision: 0.0512 - recall: 0.9137 - tn: 794405.7500 - tp: 2790.7202 - val_Brier score: 0.0125 - val_accuracy: 0.9794 - val_auc: 0.9744 - val_cross entropy: 0.0868 - val_fn: 128.0000 - val_fp: 8584.0000 - val_loss: 0.0868 - val_prc: 0.7565 - val_precision: 0.1375 - val_recall: 0.9145 - val_tn: 413390.0000 - val_tp: 1369.0000\n",
            "Epoch 85/100\n",
            "\u001b[1m828/828\u001b[0m \u001b[32m━━━━━━━━━━━━━━━━━━━━\u001b[0m\u001b[37m\u001b[0m \u001b[1m18s\u001b[0m 22ms/step - Brier score: 0.0406 - accuracy: 0.9450 - auc: 0.9588 - cross entropy: 0.1815 - fn: 279.0434 - fp: 45909.1484 - loss: 0.2162 - prc: 0.3696 - precision: 0.0564 - recall: 0.9106 - tn: 800959.3750 - tp: 2765.4778 - val_Brier score: 0.0122 - val_accuracy: 0.9812 - val_auc: 0.9744 - val_cross entropy: 0.0845 - val_fn: 134.0000 - val_fp: 7843.0000 - val_loss: 0.0845 - val_prc: 0.7668 - val_precision: 0.1481 - val_recall: 0.9105 - val_tn: 414131.0000 - val_tp: 1363.0000\n",
            "Epoch 86/100\n",
            "\u001b[1m828/828\u001b[0m \u001b[32m━━━━━━━━━━━━━━━━━━━━\u001b[0m\u001b[37m\u001b[0m \u001b[1m21s\u001b[0m 22ms/step - Brier score: 0.0424 - accuracy: 0.9429 - auc: 0.9562 - cross entropy: 0.1869 - fn: 295.0676 - fp: 48483.7422 - loss: 0.2272 - prc: 0.3729 - precision: 0.0535 - recall: 0.8993 - tn: 798423.1875 - tp: 2711.0193 - val_Brier score: 0.0137 - val_accuracy: 0.9794 - val_auc: 0.9747 - val_cross entropy: 0.0915 - val_fn: 131.0000 - val_fp: 8610.0000 - val_loss: 0.0915 - val_prc: 0.7716 - val_precision: 0.1369 - val_recall: 0.9125 - val_tn: 413364.0000 - val_tp: 1366.0000\n",
            "Epoch 87/100\n",
            "\u001b[1m828/828\u001b[0m \u001b[32m━━━━━━━━━━━━━━━━━━━━\u001b[0m\u001b[37m\u001b[0m \u001b[1m22s\u001b[0m 24ms/step - Brier score: 0.0417 - accuracy: 0.9438 - auc: 0.9608 - cross entropy: 0.1833 - fn: 275.2642 - fp: 48262.0977 - loss: 0.2157 - prc: 0.3901 - precision: 0.0543 - recall: 0.9107 - tn: 798638.2500 - tp: 2737.3992 - val_Brier score: 0.0122 - val_accuracy: 0.9803 - val_auc: 0.9750 - val_cross entropy: 0.0822 - val_fn: 133.0000 - val_fp: 8202.0000 - val_loss: 0.0822 - val_prc: 0.7710 - val_precision: 0.1426 - val_recall: 0.9112 - val_tn: 413772.0000 - val_tp: 1364.0000\n",
            "Epoch 88/100\n",
            "\u001b[1m828/828\u001b[0m \u001b[32m━━━━━━━━━━━━━━━━━━━━\u001b[0m\u001b[37m\u001b[0m \u001b[1m19s\u001b[0m 22ms/step - Brier score: 0.0417 - accuracy: 0.9403 - auc: 0.9617 - cross entropy: 0.1813 - fn: 283.2642 - fp: 50081.6172 - loss: 0.2176 - prc: 0.3732 - precision: 0.0503 - recall: 0.9045 - tn: 796845.8125 - tp: 2702.3547 - val_Brier score: 0.0162 - val_accuracy: 0.9782 - val_auc: 0.9681 - val_cross entropy: 0.1022 - val_fn: 133.0000 - val_fp: 9108.0000 - val_loss: 0.1022 - val_prc: 0.7579 - val_precision: 0.1303 - val_recall: 0.9112 - val_tn: 412866.0000 - val_tp: 1364.0000\n",
            "Epoch 89/100\n",
            "\u001b[1m828/828\u001b[0m \u001b[32m━━━━━━━━━━━━━━━━━━━━\u001b[0m\u001b[37m\u001b[0m \u001b[1m19s\u001b[0m 23ms/step - Brier score: 0.0392 - accuracy: 0.9512 - auc: 0.9565 - cross entropy: 0.1815 - fn: 284.1954 - fp: 40904.3320 - loss: 0.2179 - prc: 0.3966 - precision: 0.0636 - recall: 0.9085 - tn: 805961.1250 - tp: 2763.4065 - val_Brier score: 0.0129 - val_accuracy: 0.9835 - val_auc: 0.9753 - val_cross entropy: 0.0893 - val_fn: 138.0000 - val_fp: 6829.0000 - val_loss: 0.0893 - val_prc: 0.7748 - val_precision: 0.1660 - val_recall: 0.9078 - val_tn: 415145.0000 - val_tp: 1359.0000\n",
            "Epoch 90/100\n",
            "\u001b[1m828/828\u001b[0m \u001b[32m━━━━━━━━━━━━━━━━━━━━\u001b[0m\u001b[37m\u001b[0m \u001b[1m20s\u001b[0m 22ms/step - Brier score: 0.0403 - accuracy: 0.9502 - auc: 0.9581 - cross entropy: 0.1842 - fn: 288.7298 - fp: 43030.3711 - loss: 0.2183 - prc: 0.3905 - precision: 0.0605 - recall: 0.9033 - tn: 803886.8125 - tp: 2707.1326 - val_Brier score: 0.0139 - val_accuracy: 0.9804 - val_auc: 0.9727 - val_cross entropy: 0.0912 - val_fn: 132.0000 - val_fp: 8160.0000 - val_loss: 0.0912 - val_prc: 0.7772 - val_precision: 0.1433 - val_recall: 0.9118 - val_tn: 413814.0000 - val_tp: 1365.0000\n",
            "Epoch 91/100\n",
            "\u001b[1m828/828\u001b[0m \u001b[32m━━━━━━━━━━━━━━━━━━━━\u001b[0m\u001b[37m\u001b[0m \u001b[1m22s\u001b[0m 26ms/step - Brier score: 0.0393 - accuracy: 0.9491 - auc: 0.9568 - cross entropy: 0.1785 - fn: 279.4511 - fp: 43263.3359 - loss: 0.2140 - prc: 0.3899 - precision: 0.0598 - recall: 0.9087 - tn: 803613.0000 - tp: 2757.2231 - val_Brier score: 0.0136 - val_accuracy: 0.9808 - val_auc: 0.9720 - val_cross entropy: 0.0924 - val_fn: 132.0000 - val_fp: 8005.0000 - val_loss: 0.0924 - val_prc: 0.7805 - val_precision: 0.1457 - val_recall: 0.9118 - val_tn: 413969.0000 - val_tp: 1365.0000\n",
            "Epoch 92/100\n",
            "\u001b[1m828/828\u001b[0m \u001b[32m━━━━━━━━━━━━━━━━━━━━\u001b[0m\u001b[37m\u001b[0m \u001b[1m38s\u001b[0m 23ms/step - Brier score: 0.0383 - accuracy: 0.9524 - auc: 0.9586 - cross entropy: 0.1777 - fn: 275.5187 - fp: 40073.7812 - loss: 0.2100 - prc: 0.4030 - precision: 0.0643 - recall: 0.9108 - tn: 806791.3125 - tp: 2772.4368 - val_Brier score: 0.0139 - val_accuracy: 0.9793 - val_auc: 0.9718 - val_cross entropy: 0.0900 - val_fn: 130.0000 - val_fp: 8632.0000 - val_loss: 0.0900 - val_prc: 0.7605 - val_precision: 0.1367 - val_recall: 0.9132 - val_tn: 413342.0000 - val_tp: 1367.0000\n",
            "Epoch 93/100\n",
            "\u001b[1m828/828\u001b[0m \u001b[32m━━━━━━━━━━━━━━━━━━━━\u001b[0m\u001b[37m\u001b[0m \u001b[1m20s\u001b[0m 22ms/step - Brier score: 0.0438 - accuracy: 0.9394 - auc: 0.9595 - cross entropy: 0.1886 - fn: 267.8215 - fp: 50508.4844 - loss: 0.2239 - prc: 0.3736 - precision: 0.0523 - recall: 0.9121 - tn: 796353.1875 - tp: 2783.5188 - val_Brier score: 0.0133 - val_accuracy: 0.9792 - val_auc: 0.9726 - val_cross entropy: 0.0864 - val_fn: 136.0000 - val_fp: 8672.0000 - val_loss: 0.0864 - val_prc: 0.7612 - val_precision: 0.1357 - val_recall: 0.9092 - val_tn: 413302.0000 - val_tp: 1361.0000\n",
            "Epoch 94/100\n",
            "\u001b[1m828/828\u001b[0m \u001b[32m━━━━━━━━━━━━━━━━━━━━\u001b[0m\u001b[37m\u001b[0m \u001b[1m18s\u001b[0m 22ms/step - Brier score: 0.0412 - accuracy: 0.9456 - auc: 0.9545 - cross entropy: 0.1825 - fn: 284.7997 - fp: 46945.8672 - loss: 0.2248 - prc: 0.3666 - precision: 0.0561 - recall: 0.9046 - tn: 799948.4375 - tp: 2733.9434 - val_Brier score: 0.0151 - val_accuracy: 0.9763 - val_auc: 0.9755 - val_cross entropy: 0.0930 - val_fn: 119.0000 - val_fp: 9938.0000 - val_loss: 0.0930 - val_prc: 0.7620 - val_precision: 0.1218 - val_recall: 0.9205 - val_tn: 412036.0000 - val_tp: 1378.0000\n",
            "Epoch 95/100\n",
            "\u001b[1m828/828\u001b[0m \u001b[32m━━━━━━━━━━━━━━━━━━━━\u001b[0m\u001b[37m\u001b[0m \u001b[1m21s\u001b[0m 22ms/step - Brier score: 0.0400 - accuracy: 0.9467 - auc: 0.9599 - cross entropy: 0.1787 - fn: 261.1447 - fp: 44432.4688 - loss: 0.2123 - prc: 0.3777 - precision: 0.0590 - recall: 0.9165 - tn: 802437.0000 - tp: 2782.4487 - val_Brier score: 0.0153 - val_accuracy: 0.9783 - val_auc: 0.9782 - val_cross entropy: 0.0963 - val_fn: 127.0000 - val_fp: 9049.0000 - val_loss: 0.0963 - val_prc: 0.7624 - val_precision: 0.1315 - val_recall: 0.9152 - val_tn: 412925.0000 - val_tp: 1370.0000\n",
            "Epoch 96/100\n",
            "\u001b[1m828/828\u001b[0m \u001b[32m━━━━━━━━━━━━━━━━━━━━\u001b[0m\u001b[37m\u001b[0m \u001b[1m21s\u001b[0m 25ms/step - Brier score: 0.0398 - accuracy: 0.9496 - auc: 0.9549 - cross entropy: 0.1816 - fn: 286.1628 - fp: 42165.1367 - loss: 0.2220 - prc: 0.3935 - precision: 0.0613 - recall: 0.9051 - tn: 804695.8125 - tp: 2765.9082 - val_Brier score: 0.0117 - val_accuracy: 0.9828 - val_auc: 0.9728 - val_cross entropy: 0.0809 - val_fn: 143.0000 - val_fp: 7156.0000 - val_loss: 0.0809 - val_prc: 0.7720 - val_precision: 0.1591 - val_recall: 0.9045 - val_tn: 414818.0000 - val_tp: 1354.0000\n",
            "Epoch 97/100\n",
            "\u001b[1m828/828\u001b[0m \u001b[32m━━━━━━━━━━━━━━━━━━━━\u001b[0m\u001b[37m\u001b[0m \u001b[1m19s\u001b[0m 22ms/step - Brier score: 0.0391 - accuracy: 0.9507 - auc: 0.9556 - cross entropy: 0.1778 - fn: 294.5392 - fp: 41648.8867 - loss: 0.2260 - prc: 0.3927 - precision: 0.0618 - recall: 0.8991 - tn: 805228.8125 - tp: 2740.7998 - val_Brier score: 0.0133 - val_accuracy: 0.9812 - val_auc: 0.9747 - val_cross entropy: 0.0857 - val_fn: 144.0000 - val_fp: 7811.0000 - val_loss: 0.0857 - val_prc: 0.7687 - val_precision: 0.1476 - val_recall: 0.9038 - val_tn: 414163.0000 - val_tp: 1353.0000\n",
            "Epoch 98/100\n",
            "\u001b[1m828/828\u001b[0m \u001b[32m━━━━━━━━━━━━━━━━━━━━\u001b[0m\u001b[37m\u001b[0m \u001b[1m20s\u001b[0m 22ms/step - Brier score: 0.0394 - accuracy: 0.9493 - auc: 0.9591 - cross entropy: 0.1765 - fn: 272.3860 - fp: 42458.5703 - loss: 0.2097 - prc: 0.3811 - precision: 0.0590 - recall: 0.9088 - tn: 804450.8750 - tp: 2731.2063 - val_Brier score: 0.0135 - val_accuracy: 0.9809 - val_auc: 0.9723 - val_cross entropy: 0.0900 - val_fn: 146.0000 - val_fp: 7951.0000 - val_loss: 0.0900 - val_prc: 0.7634 - val_precision: 0.1452 - val_recall: 0.9025 - val_tn: 414023.0000 - val_tp: 1351.0000\n",
            "Epoch 99/100\n",
            "\u001b[1m828/828\u001b[0m \u001b[32m━━━━━━━━━━━━━━━━━━━━\u001b[0m\u001b[37m\u001b[0m \u001b[1m24s\u001b[0m 27ms/step - Brier score: 0.0387 - accuracy: 0.9524 - auc: 0.9584 - cross entropy: 0.1774 - fn: 280.2147 - fp: 39942.7852 - loss: 0.2149 - prc: 0.3979 - precision: 0.0645 - recall: 0.9072 - tn: 806920.3750 - tp: 2769.6743 - val_Brier score: 0.0125 - val_accuracy: 0.9824 - val_auc: 0.9747 - val_cross entropy: 0.0834 - val_fn: 153.0000 - val_fp: 7292.0000 - val_loss: 0.0834 - val_prc: 0.7649 - val_precision: 0.1556 - val_recall: 0.8978 - val_tn: 414682.0000 - val_tp: 1344.0000\n",
            "Epoch 100/100\n",
            "\u001b[1m828/828\u001b[0m \u001b[32m━━━━━━━━━━━━━━━━━━━━\u001b[0m\u001b[37m\u001b[0m \u001b[1m39s\u001b[0m 25ms/step - Brier score: 0.0351 - accuracy: 0.9580 - auc: 0.9581 - cross entropy: 0.1654 - fn: 275.4716 - fp: 35991.4453 - loss: 0.2081 - prc: 0.4119 - precision: 0.0715 - recall: 0.9089 - tn: 810899.3750 - tp: 2746.7444 - val_Brier score: 0.0162 - val_accuracy: 0.9808 - val_auc: 0.9719 - val_cross entropy: 0.1006 - val_fn: 137.0000 - val_fp: 7998.0000 - val_loss: 0.1006 - val_prc: 0.7803 - val_precision: 0.1453 - val_recall: 0.9085 - val_tn: 413976.0000 - val_tp: 1360.0000\n",
            "Restoring model weights from the end of the best epoch: 91.\n"
          ]
        }
      ]
    },
    {
      "cell_type": "code",
      "source": [
        "def plot_metrics(history):\n",
        "  metrics = ['loss', 'prc', 'precision', 'recall']\n",
        "  for n, metric in enumerate(metrics):\n",
        "    name = metric.replace(\"_\",\" \").capitalize()\n",
        "    plt.subplot(2,2,n+1)\n",
        "    plt.plot(history.epoch, history.history[metric], color=colors[0], label='Train')\n",
        "    plt.plot(history.epoch, history.history['val_'+metric],\n",
        "             color=colors[0], linestyle=\"--\", label='Val')\n",
        "    plt.xlabel('Epoch')\n",
        "    plt.ylabel(name)\n",
        "    if metric == 'loss':\n",
        "      plt.ylim([0, plt.ylim()[1]])\n",
        "    elif metric == 'auc':\n",
        "      plt.ylim([0.8,1])\n",
        "    else:\n",
        "      plt.ylim([0,1])\n",
        "\n",
        "    plt.legend()"
      ],
      "metadata": {
        "id": "B-FGWSv7o3d1"
      },
      "execution_count": 46,
      "outputs": []
    },
    {
      "cell_type": "markdown",
      "source": [
        "## Comparing metric history - Baseline versus Weighted"
      ],
      "metadata": {
        "id": "qt5Q5VvrpAAf"
      }
    },
    {
      "cell_type": "code",
      "source": [
        "plot_metrics(weighted_history)"
      ],
      "metadata": {
        "colab": {
          "base_uri": "https://localhost:8080/",
          "height": 455
        },
        "id": "1X-nyU-8oo9u",
        "outputId": "0862f027-6854-4a95-80a5-dff587325803"
      },
      "execution_count": 47,
      "outputs": [
        {
          "output_type": "display_data",
          "data": {
            "text/plain": [
              "<Figure size 640x480 with 4 Axes>"
            ],
            "image/png": "[encoded data removed]"
          },
          "metadata": {}
        }
      ]
    },
    {
      "cell_type": "code",
      "source": [
        "plot_metrics(baseline_history)"
      ],
      "metadata": {
        "colab": {
          "base_uri": "https://localhost:8080/",
          "height": 455
        },
        "id": "IbjRQ4Lfo7cS",
        "outputId": "8bcfc34b-d4c1-42aa-86bc-ff0471ada3a2"
      },
      "execution_count": 48,
      "outputs": [
        {
          "output_type": "display_data",
          "data": {
            "text/plain": [
              "<Figure size 640x480 with 4 Axes>"
            ],
            "image/png": "[encoded data removed]"
          },
          "metadata": {}
        }
      ]
    },
    {
      "cell_type": "markdown",
      "source": [
        "## Evaluate metrics"
      ],
      "metadata": {
        "id": "JU77KPaKpxOm"
      }
    },
    {
      "cell_type": "code",
      "source": [
        "train_predictions_weighted = weighted_model.predict(train_features, batch_size=BATCH_SIZE)\n",
        "test_predictions_weighted = weighted_model.predict(test_features, batch_size=BATCH_SIZE)"
      ],
      "metadata": {
        "colab": {
          "base_uri": "https://localhost:8080/"
        },
        "id": "AYQAejI7p103",
        "outputId": "5fbb5329-4c02-41e0-cd8e-363379865a21"
      },
      "execution_count": 49,
      "outputs": [
        {
          "output_type": "stream",
          "name": "stdout",
          "text": [
            "\u001b[1m828/828\u001b[0m \u001b[32m━━━━━━━━━━━━━━━━━━━━\u001b[0m\u001b[37m\u001b[0m \u001b[1m3s\u001b[0m 3ms/step\n",
            "\u001b[1m259/259\u001b[0m \u001b[32m━━━━━━━━━━━━━━━━━━━━\u001b[0m\u001b[37m\u001b[0m \u001b[1m1s\u001b[0m 3ms/step\n"
          ]
        }
      ]
    },
    {
      "cell_type": "code",
      "source": [
        "weighted_results = weighted_model.evaluate(test_features, test_labels,\n",
        "                                           batch_size=BATCH_SIZE, verbose=0)\n",
        "for name, value in zip(weighted_model.metrics_names, weighted_results):\n",
        "  print(name, ': ', value)\n",
        "print()\n",
        "\n",
        "plot_cm(test_labels, test_predictions_weighted)"
      ],
      "metadata": {
        "colab": {
          "base_uri": "https://localhost:8080/",
          "height": 542
        },
        "id": "oOhZfRULqpm8",
        "outputId": "15a32c64-6ffc-4596-b5db-d566516fe095"
      },
      "execution_count": 50,
      "outputs": [
        {
          "output_type": "stream",
          "name": "stdout",
          "text": [
            "loss :  0.09280528128147125\n",
            "compile_metrics :  0.09280528128147125\n",
            "\n"
          ]
        },
        {
          "output_type": "display_data",
          "data": {
            "text/plain": [
              "<Figure size 500x500 with 2 Axes>"
            ],
            "image/png": "[encoded data removed]"
          },
          "metadata": {}
        }
      ]
    },
    {
      "cell_type": "code",
      "source": [
        "f1 = f1_score(test_labels, test_predictions_weighted > 0.5)\n",
        "print(f'F1 Score: {f1}')"
      ],
      "metadata": {
        "colab": {
          "base_uri": "https://localhost:8080/"
        },
        "id": "29j8ixq5QGVd",
        "outputId": "da55b577-d905-4d22-db51-c02ff2205e81"
      },
      "execution_count": 51,
      "outputs": [
        {
          "output_type": "stream",
          "name": "stdout",
          "text": [
            "F1 Score: 0.24914001317426626\n"
          ]
        }
      ]
    },
    {
      "cell_type": "code",
      "execution_count": null,
      "metadata": {
        "id": "XM5HtAZuNrrN"
      },
      "outputs": [],
      "source": [
        "# saving the file\n",
        "import pickle\n",
        "file_path = '/content/drive/MyDrive/Documents/Data Career/fraud_classification/fraud_class_tf.pkl'\n",
        "\n",
        "with open(file_path, \"wb\") as f:\n",
        "    pickle.dump(model, f)"
      ]
    },
    {
      "cell_type": "code",
      "source": [],
      "metadata": {
        "id": "lNTbSN_x8oGI"
      },
      "execution_count": null,
      "outputs": []
    }
  ],
  "metadata": {
    "colab": {
      "provenance": [],
      "mount_file_id": "15btsJkvhspBfdtWfosIXV7QR0hRb-fc2",
      "authorship_tag": "ABX9TyNLFh8qEOrScGL0XF6pmhwt",
      "include_colab_link": true
    },
    "kernelspec": {
      "display_name": "Python 3",
      "name": "python3"
    },
    "language_info": {
      "name": "python"
    }
  },
  "nbformat": 4,
  "nbformat_minor": 0
}