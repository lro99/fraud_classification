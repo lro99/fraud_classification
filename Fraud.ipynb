{
  "cells": [
    {
      "cell_type": "markdown",
      "metadata": {
        "id": "view-in-github",
        "colab_type": "text"
      },
      "source": [
        "<a href=\"https://colab.research.google.com/github/lro99/fraud_classification/blob/main/Fraud.ipynb\" target=\"_parent\"><img src=\"https://colab.research.google.com/assets/colab-badge.svg\" alt=\"Open In Colab\"/></a>"
      ]
    },
    {
      "cell_type": "code",
      "execution_count": 1,
      "metadata": {
        "id": "U8fZwC_f6jTs"
      },
      "outputs": [],
      "source": [
        "import pandas as pd\n",
        "import numpy as np\n",
        "import random\n",
        "import matplotlib.pyplot as plt\n",
        "import seaborn as sns\n",
        "import os\n",
        "from sklearn.linear_model import LogisticRegression\n",
        "from sklearn.model_selection import train_test_split, cross_val_score, StratifiedKFold, GridSearchCV\n",
        "from sklearn.preprocessing import LabelEncoder, OneHotEncoder, StandardScaler\n",
        "from sklearn.metrics import accuracy_score, confusion_matrix, f1_score\n",
        "from sklearn.ensemble import RandomForestClassifier\n",
        "from sklearn.neighbors import KNeighborsClassifier\n",
        "from imblearn.under_sampling import RandomUnderSampler\n",
        "# from google.colab import drive\n",
        "\n",
        "import tensorflow as tf\n",
        "from tensorflow import keras"
      ]
    },
    {
      "cell_type": "code",
      "execution_count": 2,
      "metadata": {
        "id": "PYpjsrR48DUQ"
      },
      "outputs": [],
      "source": [
        "train = pd.read_parquet('/content/drive/MyDrive/Documents/Data Career/fraud_classification/train-00000-of-00002.parquet')\n",
        "train.to_csv('fraud0.csv')\n",
        "\n",
        "train1 = pd.read_parquet('/content/drive/MyDrive/Documents/Data Career/fraud_classification/train-00001-of-00002.parquet')\n",
        "train1.to_csv('fraud1.csv')"
      ]
    },
    {
      "cell_type": "code",
      "execution_count": 3,
      "metadata": {
        "colab": {
          "base_uri": "https://localhost:8080/",
          "height": 399
        },
        "id": "oPJgJoQ0_gAp",
        "outputId": "cd624a63-946b-4b7c-9b82-831cb290abfe"
      },
      "outputs": [
        {
          "output_type": "execute_result",
          "data": {
            "text/plain": [
              "           ssn            cc_num    first   last gender      city state  \\\n",
              "0  367-85-9826  4361337605230458  Kristie  Davis      F  Chandler    OK   \n",
              "1  367-85-9826  4361337605230458  Kristie  Davis      F  Chandler    OK   \n",
              "2  367-85-9826  4361337605230458  Kristie  Davis      F  Chandler    OK   \n",
              "3  367-85-9826  4361337605230458  Kristie  Davis      F  Chandler    OK   \n",
              "4  367-85-9826  4361337605230458  Kristie  Davis      F  Chandler    OK   \n",
              "\n",
              "     zip  city_pop                     job         dob      acct_num  \\\n",
              "0  74834      7590  Chief Strategy Officer  1987-06-12  349734538563   \n",
              "1  74834      7590  Chief Strategy Officer  1987-06-12  349734538563   \n",
              "2  74834      7590  Chief Strategy Officer  1987-06-12  349734538563   \n",
              "3  74834      7590  Chief Strategy Officer  1987-06-12  349734538563   \n",
              "4  74834      7590  Chief Strategy Officer  1987-06-12  349734538563   \n",
              "\n",
              "                          trans_num  trans_date trans_time   unix_time  \\\n",
              "0  c036244703adb9d5392f4027d9d4b38d  2021-07-31   02:30:01  1627678801   \n",
              "1  42f000b0b3b0ef534e5b8ef9ec1db13a  2021-08-01   22:37:41  1627837661   \n",
              "2  543037b1baf088961e58d00b705f4bcc  2021-08-01   23:02:09  1627839129   \n",
              "3  00a4e08643edebf9277c2967676f6a26  2021-08-01   22:27:24  1627837044   \n",
              "4  492c4412815306718f686fc5b459a285  2021-12-02   02:28:51  1638392331   \n",
              "\n",
              "         category     amt  is_fraud                merchant  \n",
              "0     grocery_pos  337.54         1           fraud_Kovacek  \n",
              "1   personal_care   21.13         1           fraud_Bradtke  \n",
              "2   personal_care   22.61         1     fraud_Kozey-Kuhlman  \n",
              "3  health_fitness   17.32         1             fraud_Hills  \n",
              "4        misc_pos   75.82         0  fraud_Kemmer-Buckridge  "
            ],
            "text/html": [
              "\n",
              "  <div id=\"df-aea9af87-2985-496e-acc2-438f23d9c5d0\" class=\"colab-df-container\">\n",
              "    <div>\n",
              "<style scoped>\n",
              "    .dataframe tbody tr th:only-of-type {\n",
              "        vertical-align: middle;\n",
              "    }\n",
              "\n",
              "    .dataframe tbody tr th {\n",
              "        vertical-align: top;\n",
              "    }\n",
              "\n",
              "    .dataframe thead th {\n",
              "        text-align: right;\n",
              "    }\n",
              "</style>\n",
              "<table border=\"1\" class=\"dataframe\">\n",
              "  <thead>\n",
              "    <tr style=\"text-align: right;\">\n",
              "      <th></th>\n",
              "      <th>ssn</th>\n",
              "      <th>cc_num</th>\n",
              "      <th>first</th>\n",
              "      <th>last</th>\n",
              "      <th>gender</th>\n",
              "      <th>city</th>\n",
              "      <th>state</th>\n",
              "      <th>zip</th>\n",
              "      <th>city_pop</th>\n",
              "      <th>job</th>\n",
              "      <th>dob</th>\n",
              "      <th>acct_num</th>\n",
              "      <th>trans_num</th>\n",
              "      <th>trans_date</th>\n",
              "      <th>trans_time</th>\n",
              "      <th>unix_time</th>\n",
              "      <th>category</th>\n",
              "      <th>amt</th>\n",
              "      <th>is_fraud</th>\n",
              "      <th>merchant</th>\n",
              "    </tr>\n",
              "  </thead>\n",
              "  <tbody>\n",
              "    <tr>\n",
              "      <th>0</th>\n",
              "      <td>367-85-9826</td>\n",
              "      <td>4361337605230458</td>\n",
              "      <td>Kristie</td>\n",
              "      <td>Davis</td>\n",
              "      <td>F</td>\n",
              "      <td>Chandler</td>\n",
              "      <td>OK</td>\n",
              "      <td>74834</td>\n",
              "      <td>7590</td>\n",
              "      <td>Chief Strategy Officer</td>\n",
              "      <td>1987-06-12</td>\n",
              "      <td>349734538563</td>\n",
              "      <td>c036244703adb9d5392f4027d9d4b38d</td>\n",
              "      <td>2021-07-31</td>\n",
              "      <td>02:30:01</td>\n",
              "      <td>1627678801</td>\n",
              "      <td>grocery_pos</td>\n",
              "      <td>337.54</td>\n",
              "      <td>1</td>\n",
              "      <td>fraud_Kovacek</td>\n",
              "    </tr>\n",
              "    <tr>\n",
              "      <th>1</th>\n",
              "      <td>367-85-9826</td>\n",
              "      <td>4361337605230458</td>\n",
              "      <td>Kristie</td>\n",
              "      <td>Davis</td>\n",
              "      <td>F</td>\n",
              "      <td>Chandler</td>\n",
              "      <td>OK</td>\n",
              "      <td>74834</td>\n",
              "      <td>7590</td>\n",
              "      <td>Chief Strategy Officer</td>\n",
              "      <td>1987-06-12</td>\n",
              "      <td>349734538563</td>\n",
              "      <td>42f000b0b3b0ef534e5b8ef9ec1db13a</td>\n",
              "      <td>2021-08-01</td>\n",
              "      <td>22:37:41</td>\n",
              "      <td>1627837661</td>\n",
              "      <td>personal_care</td>\n",
              "      <td>21.13</td>\n",
              "      <td>1</td>\n",
              "      <td>fraud_Bradtke</td>\n",
              "    </tr>\n",
              "    <tr>\n",
              "      <th>2</th>\n",
              "      <td>367-85-9826</td>\n",
              "      <td>4361337605230458</td>\n",
              "      <td>Kristie</td>\n",
              "      <td>Davis</td>\n",
              "      <td>F</td>\n",
              "      <td>Chandler</td>\n",
              "      <td>OK</td>\n",
              "      <td>74834</td>\n",
              "      <td>7590</td>\n",
              "      <td>Chief Strategy Officer</td>\n",
              "      <td>1987-06-12</td>\n",
              "      <td>349734538563</td>\n",
              "      <td>543037b1baf088961e58d00b705f4bcc</td>\n",
              "      <td>2021-08-01</td>\n",
              "      <td>23:02:09</td>\n",
              "      <td>1627839129</td>\n",
              "      <td>personal_care</td>\n",
              "      <td>22.61</td>\n",
              "      <td>1</td>\n",
              "      <td>fraud_Kozey-Kuhlman</td>\n",
              "    </tr>\n",
              "    <tr>\n",
              "      <th>3</th>\n",
              "      <td>367-85-9826</td>\n",
              "      <td>4361337605230458</td>\n",
              "      <td>Kristie</td>\n",
              "      <td>Davis</td>\n",
              "      <td>F</td>\n",
              "      <td>Chandler</td>\n",
              "      <td>OK</td>\n",
              "      <td>74834</td>\n",
              "      <td>7590</td>\n",
              "      <td>Chief Strategy Officer</td>\n",
              "      <td>1987-06-12</td>\n",
              "      <td>349734538563</td>\n",
              "      <td>00a4e08643edebf9277c2967676f6a26</td>\n",
              "      <td>2021-08-01</td>\n",
              "      <td>22:27:24</td>\n",
              "      <td>1627837044</td>\n",
              "      <td>health_fitness</td>\n",
              "      <td>17.32</td>\n",
              "      <td>1</td>\n",
              "      <td>fraud_Hills</td>\n",
              "    </tr>\n",
              "    <tr>\n",
              "      <th>4</th>\n",
              "      <td>367-85-9826</td>\n",
              "      <td>4361337605230458</td>\n",
              "      <td>Kristie</td>\n",
              "      <td>Davis</td>\n",
              "      <td>F</td>\n",
              "      <td>Chandler</td>\n",
              "      <td>OK</td>\n",
              "      <td>74834</td>\n",
              "      <td>7590</td>\n",
              "      <td>Chief Strategy Officer</td>\n",
              "      <td>1987-06-12</td>\n",
              "      <td>349734538563</td>\n",
              "      <td>492c4412815306718f686fc5b459a285</td>\n",
              "      <td>2021-12-02</td>\n",
              "      <td>02:28:51</td>\n",
              "      <td>1638392331</td>\n",
              "      <td>misc_pos</td>\n",
              "      <td>75.82</td>\n",
              "      <td>0</td>\n",
              "      <td>fraud_Kemmer-Buckridge</td>\n",
              "    </tr>\n",
              "  </tbody>\n",
              "</table>\n",
              "</div>\n",
              "    <div class=\"colab-df-buttons\">\n",
              "\n",
              "  <div class=\"colab-df-container\">\n",
              "    <button class=\"colab-df-convert\" onclick=\"convertToInteractive('df-aea9af87-2985-496e-acc2-438f23d9c5d0')\"\n",
              "            title=\"Convert this dataframe to an interactive table.\"\n",
              "            style=\"display:none;\">\n",
              "\n",
              "  <svg xmlns=\"http://www.w3.org/2000/svg\" height=\"24px\" viewBox=\"0 -960 960 960\">\n",
              "    <path d=\"M120-120v-720h720v720H120Zm60-500h600v-160H180v160Zm220 220h160v-160H400v160Zm0 220h160v-160H400v160ZM180-400h160v-160H180v160Zm440 0h160v-160H620v160ZM180-180h160v-160H180v160Zm440 0h160v-160H620v160Z\"/>\n",
              "  </svg>\n",
              "    </button>\n",
              "\n",
              "  <style>\n",
              "    .colab-df-container {\n",
              "      display:flex;\n",
              "      gap: 12px;\n",
              "    }\n",
              "\n",
              "    .colab-df-convert {\n",
              "      background-color: #E8F0FE;\n",
              "      border: none;\n",
              "      border-radius: 50%;\n",
              "      cursor: pointer;\n",
              "      display: none;\n",
              "      fill: #1967D2;\n",
              "      height: 32px;\n",
              "      padding: 0 0 0 0;\n",
              "      width: 32px;\n",
              "    }\n",
              "\n",
              "    .colab-df-convert:hover {\n",
              "      background-color: #E2EBFA;\n",
              "      box-shadow: 0px 1px 2px rgba(60, 64, 67, 0.3), 0px 1px 3px 1px rgba(60, 64, 67, 0.15);\n",
              "      fill: #174EA6;\n",
              "    }\n",
              "\n",
              "    .colab-df-buttons div {\n",
              "      margin-bottom: 4px;\n",
              "    }\n",
              "\n",
              "    [theme=dark] .colab-df-convert {\n",
              "      background-color: #3B4455;\n",
              "      fill: #D2E3FC;\n",
              "    }\n",
              "\n",
              "    [theme=dark] .colab-df-convert:hover {\n",
              "      background-color: #434B5C;\n",
              "      box-shadow: 0px 1px 3px 1px rgba(0, 0, 0, 0.15);\n",
              "      filter: drop-shadow(0px 1px 2px rgba(0, 0, 0, 0.3));\n",
              "      fill: #FFFFFF;\n",
              "    }\n",
              "  </style>\n",
              "\n",
              "    <script>\n",
              "      const buttonEl =\n",
              "        document.querySelector('#df-aea9af87-2985-496e-acc2-438f23d9c5d0 button.colab-df-convert');\n",
              "      buttonEl.style.display =\n",
              "        google.colab.kernel.accessAllowed ? 'block' : 'none';\n",
              "\n",
              "      async function convertToInteractive(key) {\n",
              "        const element = document.querySelector('#df-aea9af87-2985-496e-acc2-438f23d9c5d0');\n",
              "        const dataTable =\n",
              "          await google.colab.kernel.invokeFunction('convertToInteractive',\n",
              "                                                    [key], {});\n",
              "        if (!dataTable) return;\n",
              "\n",
              "        const docLinkHtml = 'Like what you see? Visit the ' +\n",
              "          '<a target=\"_blank\" href=https://colab.research.google.com/notebooks/data_table.ipynb>data table notebook</a>'\n",
              "          + ' to learn more about interactive tables.';\n",
              "        element.innerHTML = '';\n",
              "        dataTable['output_type'] = 'display_data';\n",
              "        await google.colab.output.renderOutput(dataTable, element);\n",
              "        const docLink = document.createElement('div');\n",
              "        docLink.innerHTML = docLinkHtml;\n",
              "        element.appendChild(docLink);\n",
              "      }\n",
              "    </script>\n",
              "  </div>\n",
              "\n",
              "\n",
              "<div id=\"df-7bda06b5-fda5-4f51-a0c4-2743c7819cf6\">\n",
              "  <button class=\"colab-df-quickchart\" onclick=\"quickchart('df-7bda06b5-fda5-4f51-a0c4-2743c7819cf6')\"\n",
              "            title=\"Suggest charts\"\n",
              "            style=\"display:none;\">\n",
              "\n",
              "<svg xmlns=\"http://www.w3.org/2000/svg\" height=\"24px\"viewBox=\"0 0 24 24\"\n",
              "     width=\"24px\">\n",
              "    <g>\n",
              "        <path d=\"M19 3H5c-1.1 0-2 .9-2 2v14c0 1.1.9 2 2 2h14c1.1 0 2-.9 2-2V5c0-1.1-.9-2-2-2zM9 17H7v-7h2v7zm4 0h-2V7h2v10zm4 0h-2v-4h2v4z\"/>\n",
              "    </g>\n",
              "</svg>\n",
              "  </button>\n",
              "\n",
              "<style>\n",
              "  .colab-df-quickchart {\n",
              "      --bg-color: #E8F0FE;\n",
              "      --fill-color: #1967D2;\n",
              "      --hover-bg-color: #E2EBFA;\n",
              "      --hover-fill-color: #174EA6;\n",
              "      --disabled-fill-color: #AAA;\n",
              "      --disabled-bg-color: #DDD;\n",
              "  }\n",
              "\n",
              "  [theme=dark] .colab-df-quickchart {\n",
              "      --bg-color: #3B4455;\n",
              "      --fill-color: #D2E3FC;\n",
              "      --hover-bg-color: #434B5C;\n",
              "      --hover-fill-color: #FFFFFF;\n",
              "      --disabled-bg-color: #3B4455;\n",
              "      --disabled-fill-color: #666;\n",
              "  }\n",
              "\n",
              "  .colab-df-quickchart {\n",
              "    background-color: var(--bg-color);\n",
              "    border: none;\n",
              "    border-radius: 50%;\n",
              "    cursor: pointer;\n",
              "    display: none;\n",
              "    fill: var(--fill-color);\n",
              "    height: 32px;\n",
              "    padding: 0;\n",
              "    width: 32px;\n",
              "  }\n",
              "\n",
              "  .colab-df-quickchart:hover {\n",
              "    background-color: var(--hover-bg-color);\n",
              "    box-shadow: 0 1px 2px rgba(60, 64, 67, 0.3), 0 1px 3px 1px rgba(60, 64, 67, 0.15);\n",
              "    fill: var(--button-hover-fill-color);\n",
              "  }\n",
              "\n",
              "  .colab-df-quickchart-complete:disabled,\n",
              "  .colab-df-quickchart-complete:disabled:hover {\n",
              "    background-color: var(--disabled-bg-color);\n",
              "    fill: var(--disabled-fill-color);\n",
              "    box-shadow: none;\n",
              "  }\n",
              "\n",
              "  .colab-df-spinner {\n",
              "    border: 2px solid var(--fill-color);\n",
              "    border-color: transparent;\n",
              "    border-bottom-color: var(--fill-color);\n",
              "    animation:\n",
              "      spin 1s steps(1) infinite;\n",
              "  }\n",
              "\n",
              "  @keyframes spin {\n",
              "    0% {\n",
              "      border-color: transparent;\n",
              "      border-bottom-color: var(--fill-color);\n",
              "      border-left-color: var(--fill-color);\n",
              "    }\n",
              "    20% {\n",
              "      border-color: transparent;\n",
              "      border-left-color: var(--fill-color);\n",
              "      border-top-color: var(--fill-color);\n",
              "    }\n",
              "    30% {\n",
              "      border-color: transparent;\n",
              "      border-left-color: var(--fill-color);\n",
              "      border-top-color: var(--fill-color);\n",
              "      border-right-color: var(--fill-color);\n",
              "    }\n",
              "    40% {\n",
              "      border-color: transparent;\n",
              "      border-right-color: var(--fill-color);\n",
              "      border-top-color: var(--fill-color);\n",
              "    }\n",
              "    60% {\n",
              "      border-color: transparent;\n",
              "      border-right-color: var(--fill-color);\n",
              "    }\n",
              "    80% {\n",
              "      border-color: transparent;\n",
              "      border-right-color: var(--fill-color);\n",
              "      border-bottom-color: var(--fill-color);\n",
              "    }\n",
              "    90% {\n",
              "      border-color: transparent;\n",
              "      border-bottom-color: var(--fill-color);\n",
              "    }\n",
              "  }\n",
              "</style>\n",
              "\n",
              "  <script>\n",
              "    async function quickchart(key) {\n",
              "      const quickchartButtonEl =\n",
              "        document.querySelector('#' + key + ' button');\n",
              "      quickchartButtonEl.disabled = true;  // To prevent multiple clicks.\n",
              "      quickchartButtonEl.classList.add('colab-df-spinner');\n",
              "      try {\n",
              "        const charts = await google.colab.kernel.invokeFunction(\n",
              "            'suggestCharts', [key], {});\n",
              "      } catch (error) {\n",
              "        console.error('Error during call to suggestCharts:', error);\n",
              "      }\n",
              "      quickchartButtonEl.classList.remove('colab-df-spinner');\n",
              "      quickchartButtonEl.classList.add('colab-df-quickchart-complete');\n",
              "    }\n",
              "    (() => {\n",
              "      let quickchartButtonEl =\n",
              "        document.querySelector('#df-7bda06b5-fda5-4f51-a0c4-2743c7819cf6 button');\n",
              "      quickchartButtonEl.style.display =\n",
              "        google.colab.kernel.accessAllowed ? 'block' : 'none';\n",
              "    })();\n",
              "  </script>\n",
              "</div>\n",
              "\n",
              "    </div>\n",
              "  </div>\n"
            ],
            "application/vnd.google.colaboratory.intrinsic+json": {
              "type": "dataframe",
              "variable_name": "train_df"
            }
          },
          "metadata": {},
          "execution_count": 3
        }
      ],
      "source": [
        "train_df = pd.concat([train, train1], ignore_index=True)\n",
        "\n",
        "# fraction = 0.55\n",
        "# train_df = train_df_unsampled.sample(frac=fraction, random_state=42)\n",
        "\n",
        "train_df.head()"
      ]
    },
    {
      "cell_type": "code",
      "source": [
        "train_df.dtypes"
      ],
      "metadata": {
        "colab": {
          "base_uri": "https://localhost:8080/",
          "height": 711
        },
        "id": "oTQ6BTMzro5q",
        "outputId": "234bf9e7-b5c5-4422-e3f7-0a687bfb5fa6"
      },
      "execution_count": 4,
      "outputs": [
        {
          "output_type": "execute_result",
          "data": {
            "text/plain": [
              "ssn            object\n",
              "cc_num          int64\n",
              "first          object\n",
              "last           object\n",
              "gender         object\n",
              "city           object\n",
              "state          object\n",
              "zip             int64\n",
              "city_pop        int64\n",
              "job            object\n",
              "dob            object\n",
              "acct_num        int64\n",
              "trans_num      object\n",
              "trans_date     object\n",
              "trans_time     object\n",
              "unix_time       int64\n",
              "category       object\n",
              "amt           float64\n",
              "is_fraud        int64\n",
              "merchant       object\n",
              "dtype: object"
            ],
            "text/html": [
              "<div>\n",
              "<style scoped>\n",
              "    .dataframe tbody tr th:only-of-type {\n",
              "        vertical-align: middle;\n",
              "    }\n",
              "\n",
              "    .dataframe tbody tr th {\n",
              "        vertical-align: top;\n",
              "    }\n",
              "\n",
              "    .dataframe thead th {\n",
              "        text-align: right;\n",
              "    }\n",
              "</style>\n",
              "<table border=\"1\" class=\"dataframe\">\n",
              "  <thead>\n",
              "    <tr style=\"text-align: right;\">\n",
              "      <th></th>\n",
              "      <th>0</th>\n",
              "    </tr>\n",
              "  </thead>\n",
              "  <tbody>\n",
              "    <tr>\n",
              "      <th>ssn</th>\n",
              "      <td>object</td>\n",
              "    </tr>\n",
              "    <tr>\n",
              "      <th>cc_num</th>\n",
              "      <td>int64</td>\n",
              "    </tr>\n",
              "    <tr>\n",
              "      <th>first</th>\n",
              "      <td>object</td>\n",
              "    </tr>\n",
              "    <tr>\n",
              "      <th>last</th>\n",
              "      <td>object</td>\n",
              "    </tr>\n",
              "    <tr>\n",
              "      <th>gender</th>\n",
              "      <td>object</td>\n",
              "    </tr>\n",
              "    <tr>\n",
              "      <th>city</th>\n",
              "      <td>object</td>\n",
              "    </tr>\n",
              "    <tr>\n",
              "      <th>state</th>\n",
              "      <td>object</td>\n",
              "    </tr>\n",
              "    <tr>\n",
              "      <th>zip</th>\n",
              "      <td>int64</td>\n",
              "    </tr>\n",
              "    <tr>\n",
              "      <th>city_pop</th>\n",
              "      <td>int64</td>\n",
              "    </tr>\n",
              "    <tr>\n",
              "      <th>job</th>\n",
              "      <td>object</td>\n",
              "    </tr>\n",
              "    <tr>\n",
              "      <th>dob</th>\n",
              "      <td>object</td>\n",
              "    </tr>\n",
              "    <tr>\n",
              "      <th>acct_num</th>\n",
              "      <td>int64</td>\n",
              "    </tr>\n",
              "    <tr>\n",
              "      <th>trans_num</th>\n",
              "      <td>object</td>\n",
              "    </tr>\n",
              "    <tr>\n",
              "      <th>trans_date</th>\n",
              "      <td>object</td>\n",
              "    </tr>\n",
              "    <tr>\n",
              "      <th>trans_time</th>\n",
              "      <td>object</td>\n",
              "    </tr>\n",
              "    <tr>\n",
              "      <th>unix_time</th>\n",
              "      <td>int64</td>\n",
              "    </tr>\n",
              "    <tr>\n",
              "      <th>category</th>\n",
              "      <td>object</td>\n",
              "    </tr>\n",
              "    <tr>\n",
              "      <th>amt</th>\n",
              "      <td>float64</td>\n",
              "    </tr>\n",
              "    <tr>\n",
              "      <th>is_fraud</th>\n",
              "      <td>int64</td>\n",
              "    </tr>\n",
              "    <tr>\n",
              "      <th>merchant</th>\n",
              "      <td>object</td>\n",
              "    </tr>\n",
              "  </tbody>\n",
              "</table>\n",
              "</div><br><label><b>dtype:</b> object</label>"
            ]
          },
          "metadata": {},
          "execution_count": 4
        }
      ]
    },
    {
      "cell_type": "markdown",
      "source": [
        "Class Label Imbalance"
      ],
      "metadata": {
        "id": "3CePUCHGHn1x"
      }
    },
    {
      "cell_type": "code",
      "source": [
        "neg, pos = train_df['is_fraud'].value_counts()\n",
        "total = neg + pos\n",
        "print('Examples:\\n    Total: {}\\n    Positive: {} ({:.2f}% of total)\\n'.format(\n",
        "    total, pos, 100 * pos / total))"
      ],
      "metadata": {
        "colab": {
          "base_uri": "https://localhost:8080/"
        },
        "id": "gPhSj7jJHVvc",
        "outputId": "582ac938-e9e7-45e4-faee-8ca1d88956dd"
      },
      "execution_count": 5,
      "outputs": [
        {
          "output_type": "stream",
          "name": "stdout",
          "text": [
            "Examples:\n",
            "    Total: 2646694\n",
            "    Positive: 9422 (0.36% of total)\n",
            "\n"
          ]
        }
      ]
    },
    {
      "cell_type": "code",
      "source": [
        "X = train_df.drop('is_fraud', axis=1)\n",
        "y = train_df['is_fraud']\n",
        "print(X.shape, y.shape)"
      ],
      "metadata": {
        "id": "6AaAgQTTaxTG",
        "colab": {
          "base_uri": "https://localhost:8080/"
        },
        "outputId": "3c0fb0f0-fcbb-495c-bf27-4e1e4fac1d9b"
      },
      "execution_count": 6,
      "outputs": [
        {
          "output_type": "stream",
          "name": "stdout",
          "text": [
            "(2646694, 19) (2646694,)\n"
          ]
        }
      ]
    },
    {
      "cell_type": "code",
      "source": [
        "X_train, X_test, y_train, y_test = train_test_split(X, y, test_size=0.2, random_state=42)\n",
        "print(X_train.shape, X_test.shape)"
      ],
      "metadata": {
        "colab": {
          "base_uri": "https://localhost:8080/"
        },
        "id": "hYq9hsiWqdXn",
        "outputId": "99a96f0e-f633-42d6-df05-de621b971058"
      },
      "execution_count": 7,
      "outputs": [
        {
          "output_type": "stream",
          "name": "stdout",
          "text": [
            "(2117355, 19) (529339, 19)\n"
          ]
        }
      ]
    },
    {
      "cell_type": "markdown",
      "source": [
        "Data preprocessing (outside model)"
      ],
      "metadata": {
        "id": "SfR0m3vyEpjB"
      }
    },
    {
      "cell_type": "code",
      "source": [
        "# encoding\n",
        "\n",
        "# ssn: drop dash, convert to int\n",
        "# first: drop\n",
        "# last: drop\n",
        "# gender: onehot encode\n",
        "# city & state: concatenate\n",
        "# job: label encode\n",
        "# dob: drop dash, convert to int\n",
        "# transnum: potentially drop\n",
        "# transdate: drop\n",
        "# transtime: drop\n",
        "# category: label encode\n",
        "# merchant: label encode"
      ],
      "metadata": {
        "id": "bXltsR3zYYus"
      },
      "execution_count": 8,
      "outputs": []
    },
    {
      "cell_type": "code",
      "source": [
        "# conversions\n",
        "train_df['ssn'] = train_df['ssn'].str.replace('-', '').astype(int)\n",
        "train_df['dob'] = train_df['dob'].str.replace('-', '').astype(int)\n",
        "\n",
        "train_df['location'] = train_df['city'] + ', ' + train_df['state']\n",
        "\n",
        "# onehot encode (gender)\n",
        "onehot = OneHotEncoder(sparse_output=False, handle_unknown='ignore')\n",
        "onehot.fit(train_df[['gender']])\n",
        "\n",
        "feature_names = onehot.get_feature_names_out(['gender'])\n",
        "gender_encoded = pd.DataFrame(onehot.transform(train_df[['gender']]), columns=feature_names)\n",
        "\n",
        "# label encode (job, category, merchant)\n",
        "encode_df = train_df[['job', 'category', 'merchant', 'location']]\n",
        "encoder = LabelEncoder()\n",
        "for col in encode_df.columns:\n",
        "    encode_df[col] = encoder.fit_transform(encode_df[col])\n",
        "\n",
        "# drop unneeded columns\n",
        "train_df = train_df.drop(['job', 'category', 'merchant', 'first', 'last', 'trans_num', 'trans_date', 'trans_time', 'city', 'state', 'gender', 'location'], axis=1)\n",
        "train_df.head()\n"
      ],
      "metadata": {
        "colab": {
          "base_uri": "https://localhost:8080/",
          "height": 644
        },
        "id": "_CUDQdalaC1J",
        "outputId": "757ef322-3adc-4692-9f70-d58608a1a3f4"
      },
      "execution_count": 9,
      "outputs": [
        {
          "output_type": "stream",
          "name": "stderr",
          "text": [
            "<ipython-input-9-2f29263f5388>:18: SettingWithCopyWarning: \n",
            "A value is trying to be set on a copy of a slice from a DataFrame.\n",
            "Try using .loc[row_indexer,col_indexer] = value instead\n",
            "\n",
            "See the caveats in the documentation: https://pandas.pydata.org/pandas-docs/stable/user_guide/indexing.html#returning-a-view-versus-a-copy\n",
            "  encode_df[col] = encoder.fit_transform(encode_df[col])\n",
            "<ipython-input-9-2f29263f5388>:18: SettingWithCopyWarning: \n",
            "A value is trying to be set on a copy of a slice from a DataFrame.\n",
            "Try using .loc[row_indexer,col_indexer] = value instead\n",
            "\n",
            "See the caveats in the documentation: https://pandas.pydata.org/pandas-docs/stable/user_guide/indexing.html#returning-a-view-versus-a-copy\n",
            "  encode_df[col] = encoder.fit_transform(encode_df[col])\n",
            "<ipython-input-9-2f29263f5388>:18: SettingWithCopyWarning: \n",
            "A value is trying to be set on a copy of a slice from a DataFrame.\n",
            "Try using .loc[row_indexer,col_indexer] = value instead\n",
            "\n",
            "See the caveats in the documentation: https://pandas.pydata.org/pandas-docs/stable/user_guide/indexing.html#returning-a-view-versus-a-copy\n",
            "  encode_df[col] = encoder.fit_transform(encode_df[col])\n",
            "<ipython-input-9-2f29263f5388>:18: SettingWithCopyWarning: \n",
            "A value is trying to be set on a copy of a slice from a DataFrame.\n",
            "Try using .loc[row_indexer,col_indexer] = value instead\n",
            "\n",
            "See the caveats in the documentation: https://pandas.pydata.org/pandas-docs/stable/user_guide/indexing.html#returning-a-view-versus-a-copy\n",
            "  encode_df[col] = encoder.fit_transform(encode_df[col])\n"
          ]
        },
        {
          "output_type": "execute_result",
          "data": {
            "text/plain": [
              "         ssn            cc_num    zip  city_pop       dob      acct_num  \\\n",
              "0  367859826  4361337605230458  74834      7590  19870612  349734538563   \n",
              "1  367859826  4361337605230458  74834      7590  19870612  349734538563   \n",
              "2  367859826  4361337605230458  74834      7590  19870612  349734538563   \n",
              "3  367859826  4361337605230458  74834      7590  19870612  349734538563   \n",
              "4  367859826  4361337605230458  74834      7590  19870612  349734538563   \n",
              "\n",
              "    unix_time     amt  is_fraud  \n",
              "0  1627678801  337.54         1  \n",
              "1  1627837661   21.13         1  \n",
              "2  1627839129   22.61         1  \n",
              "3  1627837044   17.32         1  \n",
              "4  1638392331   75.82         0  "
            ],
            "text/html": [
              "\n",
              "  <div id=\"df-2dcc4fc0-820e-41a9-a106-ead320350830\" class=\"colab-df-container\">\n",
              "    <div>\n",
              "<style scoped>\n",
              "    .dataframe tbody tr th:only-of-type {\n",
              "        vertical-align: middle;\n",
              "    }\n",
              "\n",
              "    .dataframe tbody tr th {\n",
              "        vertical-align: top;\n",
              "    }\n",
              "\n",
              "    .dataframe thead th {\n",
              "        text-align: right;\n",
              "    }\n",
              "</style>\n",
              "<table border=\"1\" class=\"dataframe\">\n",
              "  <thead>\n",
              "    <tr style=\"text-align: right;\">\n",
              "      <th></th>\n",
              "      <th>ssn</th>\n",
              "      <th>cc_num</th>\n",
              "      <th>zip</th>\n",
              "      <th>city_pop</th>\n",
              "      <th>dob</th>\n",
              "      <th>acct_num</th>\n",
              "      <th>unix_time</th>\n",
              "      <th>amt</th>\n",
              "      <th>is_fraud</th>\n",
              "    </tr>\n",
              "  </thead>\n",
              "  <tbody>\n",
              "    <tr>\n",
              "      <th>0</th>\n",
              "      <td>367859826</td>\n",
              "      <td>4361337605230458</td>\n",
              "      <td>74834</td>\n",
              "      <td>7590</td>\n",
              "      <td>19870612</td>\n",
              "      <td>349734538563</td>\n",
              "      <td>1627678801</td>\n",
              "      <td>337.54</td>\n",
              "      <td>1</td>\n",
              "    </tr>\n",
              "    <tr>\n",
              "      <th>1</th>\n",
              "      <td>367859826</td>\n",
              "      <td>4361337605230458</td>\n",
              "      <td>74834</td>\n",
              "      <td>7590</td>\n",
              "      <td>19870612</td>\n",
              "      <td>349734538563</td>\n",
              "      <td>1627837661</td>\n",
              "      <td>21.13</td>\n",
              "      <td>1</td>\n",
              "    </tr>\n",
              "    <tr>\n",
              "      <th>2</th>\n",
              "      <td>367859826</td>\n",
              "      <td>4361337605230458</td>\n",
              "      <td>74834</td>\n",
              "      <td>7590</td>\n",
              "      <td>19870612</td>\n",
              "      <td>349734538563</td>\n",
              "      <td>1627839129</td>\n",
              "      <td>22.61</td>\n",
              "      <td>1</td>\n",
              "    </tr>\n",
              "    <tr>\n",
              "      <th>3</th>\n",
              "      <td>367859826</td>\n",
              "      <td>4361337605230458</td>\n",
              "      <td>74834</td>\n",
              "      <td>7590</td>\n",
              "      <td>19870612</td>\n",
              "      <td>349734538563</td>\n",
              "      <td>1627837044</td>\n",
              "      <td>17.32</td>\n",
              "      <td>1</td>\n",
              "    </tr>\n",
              "    <tr>\n",
              "      <th>4</th>\n",
              "      <td>367859826</td>\n",
              "      <td>4361337605230458</td>\n",
              "      <td>74834</td>\n",
              "      <td>7590</td>\n",
              "      <td>19870612</td>\n",
              "      <td>349734538563</td>\n",
              "      <td>1638392331</td>\n",
              "      <td>75.82</td>\n",
              "      <td>0</td>\n",
              "    </tr>\n",
              "  </tbody>\n",
              "</table>\n",
              "</div>\n",
              "    <div class=\"colab-df-buttons\">\n",
              "\n",
              "  <div class=\"colab-df-container\">\n",
              "    <button class=\"colab-df-convert\" onclick=\"convertToInteractive('df-2dcc4fc0-820e-41a9-a106-ead320350830')\"\n",
              "            title=\"Convert this dataframe to an interactive table.\"\n",
              "            style=\"display:none;\">\n",
              "\n",
              "  <svg xmlns=\"http://www.w3.org/2000/svg\" height=\"24px\" viewBox=\"0 -960 960 960\">\n",
              "    <path d=\"M120-120v-720h720v720H120Zm60-500h600v-160H180v160Zm220 220h160v-160H400v160Zm0 220h160v-160H400v160ZM180-400h160v-160H180v160Zm440 0h160v-160H620v160ZM180-180h160v-160H180v160Zm440 0h160v-160H620v160Z\"/>\n",
              "  </svg>\n",
              "    </button>\n",
              "\n",
              "  <style>\n",
              "    .colab-df-container {\n",
              "      display:flex;\n",
              "      gap: 12px;\n",
              "    }\n",
              "\n",
              "    .colab-df-convert {\n",
              "      background-color: #E8F0FE;\n",
              "      border: none;\n",
              "      border-radius: 50%;\n",
              "      cursor: pointer;\n",
              "      display: none;\n",
              "      fill: #1967D2;\n",
              "      height: 32px;\n",
              "      padding: 0 0 0 0;\n",
              "      width: 32px;\n",
              "    }\n",
              "\n",
              "    .colab-df-convert:hover {\n",
              "      background-color: #E2EBFA;\n",
              "      box-shadow: 0px 1px 2px rgba(60, 64, 67, 0.3), 0px 1px 3px 1px rgba(60, 64, 67, 0.15);\n",
              "      fill: #174EA6;\n",
              "    }\n",
              "\n",
              "    .colab-df-buttons div {\n",
              "      margin-bottom: 4px;\n",
              "    }\n",
              "\n",
              "    [theme=dark] .colab-df-convert {\n",
              "      background-color: #3B4455;\n",
              "      fill: #D2E3FC;\n",
              "    }\n",
              "\n",
              "    [theme=dark] .colab-df-convert:hover {\n",
              "      background-color: #434B5C;\n",
              "      box-shadow: 0px 1px 3px 1px rgba(0, 0, 0, 0.15);\n",
              "      filter: drop-shadow(0px 1px 2px rgba(0, 0, 0, 0.3));\n",
              "      fill: #FFFFFF;\n",
              "    }\n",
              "  </style>\n",
              "\n",
              "    <script>\n",
              "      const buttonEl =\n",
              "        document.querySelector('#df-2dcc4fc0-820e-41a9-a106-ead320350830 button.colab-df-convert');\n",
              "      buttonEl.style.display =\n",
              "        google.colab.kernel.accessAllowed ? 'block' : 'none';\n",
              "\n",
              "      async function convertToInteractive(key) {\n",
              "        const element = document.querySelector('#df-2dcc4fc0-820e-41a9-a106-ead320350830');\n",
              "        const dataTable =\n",
              "          await google.colab.kernel.invokeFunction('convertToInteractive',\n",
              "                                                    [key], {});\n",
              "        if (!dataTable) return;\n",
              "\n",
              "        const docLinkHtml = 'Like what you see? Visit the ' +\n",
              "          '<a target=\"_blank\" href=https://colab.research.google.com/notebooks/data_table.ipynb>data table notebook</a>'\n",
              "          + ' to learn more about interactive tables.';\n",
              "        element.innerHTML = '';\n",
              "        dataTable['output_type'] = 'display_data';\n",
              "        await google.colab.output.renderOutput(dataTable, element);\n",
              "        const docLink = document.createElement('div');\n",
              "        docLink.innerHTML = docLinkHtml;\n",
              "        element.appendChild(docLink);\n",
              "      }\n",
              "    </script>\n",
              "  </div>\n",
              "\n",
              "\n",
              "<div id=\"df-c7ab744d-0999-4d9d-acb2-d93bdc9ae377\">\n",
              "  <button class=\"colab-df-quickchart\" onclick=\"quickchart('df-c7ab744d-0999-4d9d-acb2-d93bdc9ae377')\"\n",
              "            title=\"Suggest charts\"\n",
              "            style=\"display:none;\">\n",
              "\n",
              "<svg xmlns=\"http://www.w3.org/2000/svg\" height=\"24px\"viewBox=\"0 0 24 24\"\n",
              "     width=\"24px\">\n",
              "    <g>\n",
              "        <path d=\"M19 3H5c-1.1 0-2 .9-2 2v14c0 1.1.9 2 2 2h14c1.1 0 2-.9 2-2V5c0-1.1-.9-2-2-2zM9 17H7v-7h2v7zm4 0h-2V7h2v10zm4 0h-2v-4h2v4z\"/>\n",
              "    </g>\n",
              "</svg>\n",
              "  </button>\n",
              "\n",
              "<style>\n",
              "  .colab-df-quickchart {\n",
              "      --bg-color: #E8F0FE;\n",
              "      --fill-color: #1967D2;\n",
              "      --hover-bg-color: #E2EBFA;\n",
              "      --hover-fill-color: #174EA6;\n",
              "      --disabled-fill-color: #AAA;\n",
              "      --disabled-bg-color: #DDD;\n",
              "  }\n",
              "\n",
              "  [theme=dark] .colab-df-quickchart {\n",
              "      --bg-color: #3B4455;\n",
              "      --fill-color: #D2E3FC;\n",
              "      --hover-bg-color: #434B5C;\n",
              "      --hover-fill-color: #FFFFFF;\n",
              "      --disabled-bg-color: #3B4455;\n",
              "      --disabled-fill-color: #666;\n",
              "  }\n",
              "\n",
              "  .colab-df-quickchart {\n",
              "    background-color: var(--bg-color);\n",
              "    border: none;\n",
              "    border-radius: 50%;\n",
              "    cursor: pointer;\n",
              "    display: none;\n",
              "    fill: var(--fill-color);\n",
              "    height: 32px;\n",
              "    padding: 0;\n",
              "    width: 32px;\n",
              "  }\n",
              "\n",
              "  .colab-df-quickchart:hover {\n",
              "    background-color: var(--hover-bg-color);\n",
              "    box-shadow: 0 1px 2px rgba(60, 64, 67, 0.3), 0 1px 3px 1px rgba(60, 64, 67, 0.15);\n",
              "    fill: var(--button-hover-fill-color);\n",
              "  }\n",
              "\n",
              "  .colab-df-quickchart-complete:disabled,\n",
              "  .colab-df-quickchart-complete:disabled:hover {\n",
              "    background-color: var(--disabled-bg-color);\n",
              "    fill: var(--disabled-fill-color);\n",
              "    box-shadow: none;\n",
              "  }\n",
              "\n",
              "  .colab-df-spinner {\n",
              "    border: 2px solid var(--fill-color);\n",
              "    border-color: transparent;\n",
              "    border-bottom-color: var(--fill-color);\n",
              "    animation:\n",
              "      spin 1s steps(1) infinite;\n",
              "  }\n",
              "\n",
              "  @keyframes spin {\n",
              "    0% {\n",
              "      border-color: transparent;\n",
              "      border-bottom-color: var(--fill-color);\n",
              "      border-left-color: var(--fill-color);\n",
              "    }\n",
              "    20% {\n",
              "      border-color: transparent;\n",
              "      border-left-color: var(--fill-color);\n",
              "      border-top-color: var(--fill-color);\n",
              "    }\n",
              "    30% {\n",
              "      border-color: transparent;\n",
              "      border-left-color: var(--fill-color);\n",
              "      border-top-color: var(--fill-color);\n",
              "      border-right-color: var(--fill-color);\n",
              "    }\n",
              "    40% {\n",
              "      border-color: transparent;\n",
              "      border-right-color: var(--fill-color);\n",
              "      border-top-color: var(--fill-color);\n",
              "    }\n",
              "    60% {\n",
              "      border-color: transparent;\n",
              "      border-right-color: var(--fill-color);\n",
              "    }\n",
              "    80% {\n",
              "      border-color: transparent;\n",
              "      border-right-color: var(--fill-color);\n",
              "      border-bottom-color: var(--fill-color);\n",
              "    }\n",
              "    90% {\n",
              "      border-color: transparent;\n",
              "      border-bottom-color: var(--fill-color);\n",
              "    }\n",
              "  }\n",
              "</style>\n",
              "\n",
              "  <script>\n",
              "    async function quickchart(key) {\n",
              "      const quickchartButtonEl =\n",
              "        document.querySelector('#' + key + ' button');\n",
              "      quickchartButtonEl.disabled = true;  // To prevent multiple clicks.\n",
              "      quickchartButtonEl.classList.add('colab-df-spinner');\n",
              "      try {\n",
              "        const charts = await google.colab.kernel.invokeFunction(\n",
              "            'suggestCharts', [key], {});\n",
              "      } catch (error) {\n",
              "        console.error('Error during call to suggestCharts:', error);\n",
              "      }\n",
              "      quickchartButtonEl.classList.remove('colab-df-spinner');\n",
              "      quickchartButtonEl.classList.add('colab-df-quickchart-complete');\n",
              "    }\n",
              "    (() => {\n",
              "      let quickchartButtonEl =\n",
              "        document.querySelector('#df-c7ab744d-0999-4d9d-acb2-d93bdc9ae377 button');\n",
              "      quickchartButtonEl.style.display =\n",
              "        google.colab.kernel.accessAllowed ? 'block' : 'none';\n",
              "    })();\n",
              "  </script>\n",
              "</div>\n",
              "\n",
              "    </div>\n",
              "  </div>\n"
            ],
            "application/vnd.google.colaboratory.intrinsic+json": {
              "type": "dataframe",
              "variable_name": "train_df"
            }
          },
          "metadata": {},
          "execution_count": 9
        }
      ]
    },
    {
      "cell_type": "code",
      "source": [
        "final_df = pd.concat([train_df, gender_encoded, encode_df], axis=1)\n",
        "final_df.head()"
      ],
      "metadata": {
        "colab": {
          "base_uri": "https://localhost:8080/",
          "height": 206
        },
        "id": "4-nFiyd2kIUv",
        "outputId": "e41b6346-0a2e-4b69-9d57-44b7a0c4608d"
      },
      "execution_count": 10,
      "outputs": [
        {
          "output_type": "execute_result",
          "data": {
            "text/plain": [
              "         ssn            cc_num    zip  city_pop       dob      acct_num  \\\n",
              "0  367859826  4361337605230458  74834      7590  19870612  349734538563   \n",
              "1  367859826  4361337605230458  74834      7590  19870612  349734538563   \n",
              "2  367859826  4361337605230458  74834      7590  19870612  349734538563   \n",
              "3  367859826  4361337605230458  74834      7590  19870612  349734538563   \n",
              "4  367859826  4361337605230458  74834      7590  19870612  349734538563   \n",
              "\n",
              "    unix_time     amt  is_fraud  gender_F  gender_M  job  category  merchant  \\\n",
              "0  1627678801  337.54         1       1.0       0.0   72         4       317   \n",
              "1  1627837661   21.13         1       1.0       0.0   72        10        67   \n",
              "2  1627839129   22.61         1       1.0       0.0   72        10       320   \n",
              "3  1627837044   17.32         1       1.0       0.0   72         5       238   \n",
              "4  1638392331   75.82         0       1.0       0.0   72         9       283   \n",
              "\n",
              "   location  \n",
              "0       116  \n",
              "1       116  \n",
              "2       116  \n",
              "3       116  \n",
              "4       116  "
            ],
            "text/html": [
              "\n",
              "  <div id=\"df-3dd837d2-e031-44e0-8d27-7ad66758a33a\" class=\"colab-df-container\">\n",
              "    <div>\n",
              "<style scoped>\n",
              "    .dataframe tbody tr th:only-of-type {\n",
              "        vertical-align: middle;\n",
              "    }\n",
              "\n",
              "    .dataframe tbody tr th {\n",
              "        vertical-align: top;\n",
              "    }\n",
              "\n",
              "    .dataframe thead th {\n",
              "        text-align: right;\n",
              "    }\n",
              "</style>\n",
              "<table border=\"1\" class=\"dataframe\">\n",
              "  <thead>\n",
              "    <tr style=\"text-align: right;\">\n",
              "      <th></th>\n",
              "      <th>ssn</th>\n",
              "      <th>cc_num</th>\n",
              "      <th>zip</th>\n",
              "      <th>city_pop</th>\n",
              "      <th>dob</th>\n",
              "      <th>acct_num</th>\n",
              "      <th>unix_time</th>\n",
              "      <th>amt</th>\n",
              "      <th>is_fraud</th>\n",
              "      <th>gender_F</th>\n",
              "      <th>gender_M</th>\n",
              "      <th>job</th>\n",
              "      <th>category</th>\n",
              "      <th>merchant</th>\n",
              "      <th>location</th>\n",
              "    </tr>\n",
              "  </thead>\n",
              "  <tbody>\n",
              "    <tr>\n",
              "      <th>0</th>\n",
              "      <td>367859826</td>\n",
              "      <td>4361337605230458</td>\n",
              "      <td>74834</td>\n",
              "      <td>7590</td>\n",
              "      <td>19870612</td>\n",
              "      <td>349734538563</td>\n",
              "      <td>1627678801</td>\n",
              "      <td>337.54</td>\n",
              "      <td>1</td>\n",
              "      <td>1.0</td>\n",
              "      <td>0.0</td>\n",
              "      <td>72</td>\n",
              "      <td>4</td>\n",
              "      <td>317</td>\n",
              "      <td>116</td>\n",
              "    </tr>\n",
              "    <tr>\n",
              "      <th>1</th>\n",
              "      <td>367859826</td>\n",
              "      <td>4361337605230458</td>\n",
              "      <td>74834</td>\n",
              "      <td>7590</td>\n",
              "      <td>19870612</td>\n",
              "      <td>349734538563</td>\n",
              "      <td>1627837661</td>\n",
              "      <td>21.13</td>\n",
              "      <td>1</td>\n",
              "      <td>1.0</td>\n",
              "      <td>0.0</td>\n",
              "      <td>72</td>\n",
              "      <td>10</td>\n",
              "      <td>67</td>\n",
              "      <td>116</td>\n",
              "    </tr>\n",
              "    <tr>\n",
              "      <th>2</th>\n",
              "      <td>367859826</td>\n",
              "      <td>4361337605230458</td>\n",
              "      <td>74834</td>\n",
              "      <td>7590</td>\n",
              "      <td>19870612</td>\n",
              "      <td>349734538563</td>\n",
              "      <td>1627839129</td>\n",
              "      <td>22.61</td>\n",
              "      <td>1</td>\n",
              "      <td>1.0</td>\n",
              "      <td>0.0</td>\n",
              "      <td>72</td>\n",
              "      <td>10</td>\n",
              "      <td>320</td>\n",
              "      <td>116</td>\n",
              "    </tr>\n",
              "    <tr>\n",
              "      <th>3</th>\n",
              "      <td>367859826</td>\n",
              "      <td>4361337605230458</td>\n",
              "      <td>74834</td>\n",
              "      <td>7590</td>\n",
              "      <td>19870612</td>\n",
              "      <td>349734538563</td>\n",
              "      <td>1627837044</td>\n",
              "      <td>17.32</td>\n",
              "      <td>1</td>\n",
              "      <td>1.0</td>\n",
              "      <td>0.0</td>\n",
              "      <td>72</td>\n",
              "      <td>5</td>\n",
              "      <td>238</td>\n",
              "      <td>116</td>\n",
              "    </tr>\n",
              "    <tr>\n",
              "      <th>4</th>\n",
              "      <td>367859826</td>\n",
              "      <td>4361337605230458</td>\n",
              "      <td>74834</td>\n",
              "      <td>7590</td>\n",
              "      <td>19870612</td>\n",
              "      <td>349734538563</td>\n",
              "      <td>1638392331</td>\n",
              "      <td>75.82</td>\n",
              "      <td>0</td>\n",
              "      <td>1.0</td>\n",
              "      <td>0.0</td>\n",
              "      <td>72</td>\n",
              "      <td>9</td>\n",
              "      <td>283</td>\n",
              "      <td>116</td>\n",
              "    </tr>\n",
              "  </tbody>\n",
              "</table>\n",
              "</div>\n",
              "    <div class=\"colab-df-buttons\">\n",
              "\n",
              "  <div class=\"colab-df-container\">\n",
              "    <button class=\"colab-df-convert\" onclick=\"convertToInteractive('df-3dd837d2-e031-44e0-8d27-7ad66758a33a')\"\n",
              "            title=\"Convert this dataframe to an interactive table.\"\n",
              "            style=\"display:none;\">\n",
              "\n",
              "  <svg xmlns=\"http://www.w3.org/2000/svg\" height=\"24px\" viewBox=\"0 -960 960 960\">\n",
              "    <path d=\"M120-120v-720h720v720H120Zm60-500h600v-160H180v160Zm220 220h160v-160H400v160Zm0 220h160v-160H400v160ZM180-400h160v-160H180v160Zm440 0h160v-160H620v160ZM180-180h160v-160H180v160Zm440 0h160v-160H620v160Z\"/>\n",
              "  </svg>\n",
              "    </button>\n",
              "\n",
              "  <style>\n",
              "    .colab-df-container {\n",
              "      display:flex;\n",
              "      gap: 12px;\n",
              "    }\n",
              "\n",
              "    .colab-df-convert {\n",
              "      background-color: #E8F0FE;\n",
              "      border: none;\n",
              "      border-radius: 50%;\n",
              "      cursor: pointer;\n",
              "      display: none;\n",
              "      fill: #1967D2;\n",
              "      height: 32px;\n",
              "      padding: 0 0 0 0;\n",
              "      width: 32px;\n",
              "    }\n",
              "\n",
              "    .colab-df-convert:hover {\n",
              "      background-color: #E2EBFA;\n",
              "      box-shadow: 0px 1px 2px rgba(60, 64, 67, 0.3), 0px 1px 3px 1px rgba(60, 64, 67, 0.15);\n",
              "      fill: #174EA6;\n",
              "    }\n",
              "\n",
              "    .colab-df-buttons div {\n",
              "      margin-bottom: 4px;\n",
              "    }\n",
              "\n",
              "    [theme=dark] .colab-df-convert {\n",
              "      background-color: #3B4455;\n",
              "      fill: #D2E3FC;\n",
              "    }\n",
              "\n",
              "    [theme=dark] .colab-df-convert:hover {\n",
              "      background-color: #434B5C;\n",
              "      box-shadow: 0px 1px 3px 1px rgba(0, 0, 0, 0.15);\n",
              "      filter: drop-shadow(0px 1px 2px rgba(0, 0, 0, 0.3));\n",
              "      fill: #FFFFFF;\n",
              "    }\n",
              "  </style>\n",
              "\n",
              "    <script>\n",
              "      const buttonEl =\n",
              "        document.querySelector('#df-3dd837d2-e031-44e0-8d27-7ad66758a33a button.colab-df-convert');\n",
              "      buttonEl.style.display =\n",
              "        google.colab.kernel.accessAllowed ? 'block' : 'none';\n",
              "\n",
              "      async function convertToInteractive(key) {\n",
              "        const element = document.querySelector('#df-3dd837d2-e031-44e0-8d27-7ad66758a33a');\n",
              "        const dataTable =\n",
              "          await google.colab.kernel.invokeFunction('convertToInteractive',\n",
              "                                                    [key], {});\n",
              "        if (!dataTable) return;\n",
              "\n",
              "        const docLinkHtml = 'Like what you see? Visit the ' +\n",
              "          '<a target=\"_blank\" href=https://colab.research.google.com/notebooks/data_table.ipynb>data table notebook</a>'\n",
              "          + ' to learn more about interactive tables.';\n",
              "        element.innerHTML = '';\n",
              "        dataTable['output_type'] = 'display_data';\n",
              "        await google.colab.output.renderOutput(dataTable, element);\n",
              "        const docLink = document.createElement('div');\n",
              "        docLink.innerHTML = docLinkHtml;\n",
              "        element.appendChild(docLink);\n",
              "      }\n",
              "    </script>\n",
              "  </div>\n",
              "\n",
              "\n",
              "<div id=\"df-7b6a2043-31e3-4241-a91d-d4ca9d55f213\">\n",
              "  <button class=\"colab-df-quickchart\" onclick=\"quickchart('df-7b6a2043-31e3-4241-a91d-d4ca9d55f213')\"\n",
              "            title=\"Suggest charts\"\n",
              "            style=\"display:none;\">\n",
              "\n",
              "<svg xmlns=\"http://www.w3.org/2000/svg\" height=\"24px\"viewBox=\"0 0 24 24\"\n",
              "     width=\"24px\">\n",
              "    <g>\n",
              "        <path d=\"M19 3H5c-1.1 0-2 .9-2 2v14c0 1.1.9 2 2 2h14c1.1 0 2-.9 2-2V5c0-1.1-.9-2-2-2zM9 17H7v-7h2v7zm4 0h-2V7h2v10zm4 0h-2v-4h2v4z\"/>\n",
              "    </g>\n",
              "</svg>\n",
              "  </button>\n",
              "\n",
              "<style>\n",
              "  .colab-df-quickchart {\n",
              "      --bg-color: #E8F0FE;\n",
              "      --fill-color: #1967D2;\n",
              "      --hover-bg-color: #E2EBFA;\n",
              "      --hover-fill-color: #174EA6;\n",
              "      --disabled-fill-color: #AAA;\n",
              "      --disabled-bg-color: #DDD;\n",
              "  }\n",
              "\n",
              "  [theme=dark] .colab-df-quickchart {\n",
              "      --bg-color: #3B4455;\n",
              "      --fill-color: #D2E3FC;\n",
              "      --hover-bg-color: #434B5C;\n",
              "      --hover-fill-color: #FFFFFF;\n",
              "      --disabled-bg-color: #3B4455;\n",
              "      --disabled-fill-color: #666;\n",
              "  }\n",
              "\n",
              "  .colab-df-quickchart {\n",
              "    background-color: var(--bg-color);\n",
              "    border: none;\n",
              "    border-radius: 50%;\n",
              "    cursor: pointer;\n",
              "    display: none;\n",
              "    fill: var(--fill-color);\n",
              "    height: 32px;\n",
              "    padding: 0;\n",
              "    width: 32px;\n",
              "  }\n",
              "\n",
              "  .colab-df-quickchart:hover {\n",
              "    background-color: var(--hover-bg-color);\n",
              "    box-shadow: 0 1px 2px rgba(60, 64, 67, 0.3), 0 1px 3px 1px rgba(60, 64, 67, 0.15);\n",
              "    fill: var(--button-hover-fill-color);\n",
              "  }\n",
              "\n",
              "  .colab-df-quickchart-complete:disabled,\n",
              "  .colab-df-quickchart-complete:disabled:hover {\n",
              "    background-color: var(--disabled-bg-color);\n",
              "    fill: var(--disabled-fill-color);\n",
              "    box-shadow: none;\n",
              "  }\n",
              "\n",
              "  .colab-df-spinner {\n",
              "    border: 2px solid var(--fill-color);\n",
              "    border-color: transparent;\n",
              "    border-bottom-color: var(--fill-color);\n",
              "    animation:\n",
              "      spin 1s steps(1) infinite;\n",
              "  }\n",
              "\n",
              "  @keyframes spin {\n",
              "    0% {\n",
              "      border-color: transparent;\n",
              "      border-bottom-color: var(--fill-color);\n",
              "      border-left-color: var(--fill-color);\n",
              "    }\n",
              "    20% {\n",
              "      border-color: transparent;\n",
              "      border-left-color: var(--fill-color);\n",
              "      border-top-color: var(--fill-color);\n",
              "    }\n",
              "    30% {\n",
              "      border-color: transparent;\n",
              "      border-left-color: var(--fill-color);\n",
              "      border-top-color: var(--fill-color);\n",
              "      border-right-color: var(--fill-color);\n",
              "    }\n",
              "    40% {\n",
              "      border-color: transparent;\n",
              "      border-right-color: var(--fill-color);\n",
              "      border-top-color: var(--fill-color);\n",
              "    }\n",
              "    60% {\n",
              "      border-color: transparent;\n",
              "      border-right-color: var(--fill-color);\n",
              "    }\n",
              "    80% {\n",
              "      border-color: transparent;\n",
              "      border-right-color: var(--fill-color);\n",
              "      border-bottom-color: var(--fill-color);\n",
              "    }\n",
              "    90% {\n",
              "      border-color: transparent;\n",
              "      border-bottom-color: var(--fill-color);\n",
              "    }\n",
              "  }\n",
              "</style>\n",
              "\n",
              "  <script>\n",
              "    async function quickchart(key) {\n",
              "      const quickchartButtonEl =\n",
              "        document.querySelector('#' + key + ' button');\n",
              "      quickchartButtonEl.disabled = true;  // To prevent multiple clicks.\n",
              "      quickchartButtonEl.classList.add('colab-df-spinner');\n",
              "      try {\n",
              "        const charts = await google.colab.kernel.invokeFunction(\n",
              "            'suggestCharts', [key], {});\n",
              "      } catch (error) {\n",
              "        console.error('Error during call to suggestCharts:', error);\n",
              "      }\n",
              "      quickchartButtonEl.classList.remove('colab-df-spinner');\n",
              "      quickchartButtonEl.classList.add('colab-df-quickchart-complete');\n",
              "    }\n",
              "    (() => {\n",
              "      let quickchartButtonEl =\n",
              "        document.querySelector('#df-7b6a2043-31e3-4241-a91d-d4ca9d55f213 button');\n",
              "      quickchartButtonEl.style.display =\n",
              "        google.colab.kernel.accessAllowed ? 'block' : 'none';\n",
              "    })();\n",
              "  </script>\n",
              "</div>\n",
              "\n",
              "    </div>\n",
              "  </div>\n"
            ],
            "application/vnd.google.colaboratory.intrinsic+json": {
              "type": "dataframe",
              "variable_name": "final_df"
            }
          },
          "metadata": {},
          "execution_count": 10
        }
      ]
    },
    {
      "cell_type": "code",
      "source": [
        "train_df, test_df = train_test_split(final_df, test_size=0.2, random_state=42)\n",
        "train_df, val_df = train_test_split(train_df, test_size=0.2, random_state=42)\n",
        "\n",
        "train_labels = np.array(train_df.pop('is_fraud')).reshape(-1,1)\n",
        "val_labels = np.array(val_df.pop('is_fraud')).reshape(-1,1)\n",
        "test_labels = np.array(test_df.pop('is_fraud')).reshape(-1,1)\n",
        "\n",
        "train_features = np.array(train_df)\n",
        "val_features = np.array(val_df)\n",
        "test_features = np.array(test_df)\n",
        "\n",
        "print(train_labels.shape, val_labels.shape, test_labels.shape)\n",
        "\n",
        "print(f'Average class probability in train set: {train_labels.mean():.3f}')\n",
        "print(f'Average class probability in val set: {val_labels.mean():.3f}')\n",
        "print(f'Average class probability in test set: {test_labels.mean():.3f}')"
      ],
      "metadata": {
        "colab": {
          "base_uri": "https://localhost:8080/"
        },
        "id": "Bq6404gJMN3A",
        "outputId": "0286e4a3-e39e-44a4-e968-1db44eecdcde"
      },
      "execution_count": 11,
      "outputs": [
        {
          "output_type": "stream",
          "name": "stdout",
          "text": [
            "(1693884, 1) (423471, 1) (529339, 1)\n",
            "Average class probability in train set: 0.004\n",
            "Average class probability in val set: 0.004\n",
            "Average class probability in test set: 0.004\n"
          ]
        }
      ]
    },
    {
      "cell_type": "code",
      "source": [
        "scaler = StandardScaler()\n",
        "train_features = scaler.fit_transform(train_features)\n",
        "\n",
        "val_features = scaler.transform(val_features)\n",
        "test_features = scaler.transform(test_features)\n",
        "\n",
        "train_features = np.clip(train_features, -5, 5)\n",
        "val_features = np.clip(val_features, -5, 5)\n",
        "test_features = np.clip(test_features, -5, 5)\n",
        "\n",
        "\n",
        "print('Training labels shape:', train_labels.shape)\n",
        "print('Validation labels shape:', val_labels.shape)\n",
        "print('Test labels shape:', test_labels.shape)\n",
        "\n",
        "print('Training features shape:', train_features.shape)\n",
        "print('Validation features shape:', val_features.shape)\n",
        "print('Test features shape:', test_features.shape)"
      ],
      "metadata": {
        "colab": {
          "base_uri": "https://localhost:8080/"
        },
        "id": "kbOyvp0BSn6t",
        "outputId": "00526d67-a000-412a-e79b-291e11b6b7b3"
      },
      "execution_count": 12,
      "outputs": [
        {
          "output_type": "stream",
          "name": "stdout",
          "text": [
            "Training labels shape: (1693884, 1)\n",
            "Validation labels shape: (423471, 1)\n",
            "Test labels shape: (529339, 1)\n",
            "Training features shape: (1693884, 14)\n",
            "Validation features shape: (423471, 14)\n",
            "Test features shape: (529339, 14)\n"
          ]
        }
      ]
    },
    {
      "cell_type": "markdown",
      "source": [
        "## Define model"
      ],
      "metadata": {
        "id": "VqP54D69cKYo"
      }
    },
    {
      "cell_type": "code",
      "source": [
        "METRICS = [\n",
        "      keras.metrics.BinaryCrossentropy(name='cross entropy'),  # same as model's loss\n",
        "      keras.metrics.MeanSquaredError(name='Brier score'),\n",
        "      keras.metrics.TruePositives(name='tp'),\n",
        "      keras.metrics.FalsePositives(name='fp'),\n",
        "      keras.metrics.TrueNegatives(name='tn'),\n",
        "      keras.metrics.FalseNegatives(name='fn'),\n",
        "      keras.metrics.BinaryAccuracy(name='accuracy'),\n",
        "      keras.metrics.Precision(name='precision'),\n",
        "      keras.metrics.Recall(name='recall'),\n",
        "      keras.metrics.AUC(name='auc'),\n",
        "      keras.metrics.AUC(name='prc', curve='PR'), # precision-recall curve\n",
        "]\n",
        "\n",
        "def make_model(metrics=METRICS, output_bias=None):\n",
        "  if output_bias is not None:\n",
        "    output_bias = tf.keras.initializers.Constant(output_bias)\n",
        "  model = keras.Sequential([\n",
        "      keras.layers.Dense(16, activation='relu', input_shape=(train_features.shape[-1],)),\n",
        "      keras.layers.Dropout(0.5),\n",
        "      keras.layers.Dense(8, activation='relu'),\n",
        "      keras.layers.Dropout(0.5),\n",
        "      keras.layers.Dense(1, activation='sigmoid',\n",
        "                         bias_initializer=output_bias),\n",
        "  ])\n",
        "\n",
        "  model.compile(\n",
        "      optimizer=keras.optimizers.Adam(learning_rate=1e-3),\n",
        "      loss=keras.losses.BinaryCrossentropy(),\n",
        "      metrics=metrics)\n",
        "\n",
        "  return model"
      ],
      "metadata": {
        "id": "eQHpc26hib75"
      },
      "execution_count": 16,
      "outputs": []
    },
    {
      "cell_type": "markdown",
      "source": [
        "## Baseline Model"
      ],
      "metadata": {
        "id": "vStwHS2BcSFN"
      }
    },
    {
      "cell_type": "code",
      "source": [
        "EPOCHS = 100\n",
        "BATCH_SIZE = 2048\n",
        "\n",
        "def early_stopping():\n",
        " return tf.keras.callbacks.EarlyStopping(\n",
        "    monitor='val_prc',\n",
        "    verbose=1,\n",
        "    patience=15,\n",
        "    mode='max',\n",
        "    restore_best_weights=True)"
      ],
      "metadata": {
        "id": "SqQgifH0cGea"
      },
      "execution_count": 17,
      "outputs": []
    },
    {
      "cell_type": "code",
      "source": [
        "model = make_model()\n",
        "model.summary()"
      ],
      "metadata": {
        "colab": {
          "base_uri": "https://localhost:8080/",
          "height": 289
        },
        "id": "U7ZGRJUKcdUn",
        "outputId": "d49a6abc-9eb8-4399-cf91-4bcd91103c8b"
      },
      "execution_count": 18,
      "outputs": [
        {
          "output_type": "display_data",
          "data": {
            "text/plain": [
              "\u001b[1mModel: \"sequential_1\"\u001b[0m\n"
            ],
            "text/html": [
              "<pre style=\"white-space:pre;overflow-x:auto;line-height:normal;font-family:Menlo,'DejaVu Sans Mono',consolas,'Courier New',monospace\"><span style=\"font-weight: bold\">Model: \"sequential_1\"</span>\n",
              "</pre>\n"
            ]
          },
          "metadata": {}
        },
        {
          "output_type": "display_data",
          "data": {
            "text/plain": [
              "┏━━━━━━━━━━━━━━━━━━━━━━━━━━━━━━━━━━━━━━┳━━━━━━━━━━━━━━━━━━━━━━━━━━━━━┳━━━━━━━━━━━━━━━━━┓\n",
              "┃\u001b[1m \u001b[0m\u001b[1mLayer (type)                        \u001b[0m\u001b[1m \u001b[0m┃\u001b[1m \u001b[0m\u001b[1mOutput Shape               \u001b[0m\u001b[1m \u001b[0m┃\u001b[1m \u001b[0m\u001b[1m        Param #\u001b[0m\u001b[1m \u001b[0m┃\n",
              "┡━━━━━━━━━━━━━━━━━━━━━━━━━━━━━━━━━━━━━━╇━━━━━━━━━━━━━━━━━━━━━━━━━━━━━╇━━━━━━━━━━━━━━━━━┩\n",
              "│ dense_2 (\u001b[38;5;33mDense\u001b[0m)                      │ (\u001b[38;5;45mNone\u001b[0m, \u001b[38;5;34m16\u001b[0m)                  │             \u001b[38;5;34m240\u001b[0m │\n",
              "├──────────────────────────────────────┼─────────────────────────────┼─────────────────┤\n",
              "│ dropout_1 (\u001b[38;5;33mDropout\u001b[0m)                  │ (\u001b[38;5;45mNone\u001b[0m, \u001b[38;5;34m16\u001b[0m)                  │               \u001b[38;5;34m0\u001b[0m │\n",
              "├──────────────────────────────────────┼─────────────────────────────┼─────────────────┤\n",
              "│ dense_3 (\u001b[38;5;33mDense\u001b[0m)                      │ (\u001b[38;5;45mNone\u001b[0m, \u001b[38;5;34m8\u001b[0m)                   │             \u001b[38;5;34m136\u001b[0m │\n",
              "├──────────────────────────────────────┼─────────────────────────────┼─────────────────┤\n",
              "│ dropout_2 (\u001b[38;5;33mDropout\u001b[0m)                  │ (\u001b[38;5;45mNone\u001b[0m, \u001b[38;5;34m8\u001b[0m)                   │               \u001b[38;5;34m0\u001b[0m │\n",
              "├──────────────────────────────────────┼─────────────────────────────┼─────────────────┤\n",
              "│ dense_4 (\u001b[38;5;33mDense\u001b[0m)                      │ (\u001b[38;5;45mNone\u001b[0m, \u001b[38;5;34m1\u001b[0m)                   │               \u001b[38;5;34m9\u001b[0m │\n",
              "└──────────────────────────────────────┴─────────────────────────────┴─────────────────┘\n"
            ],
            "text/html": [
              "<pre style=\"white-space:pre;overflow-x:auto;line-height:normal;font-family:Menlo,'DejaVu Sans Mono',consolas,'Courier New',monospace\">┏━━━━━━━━━━━━━━━━━━━━━━━━━━━━━━━━━━━━━━┳━━━━━━━━━━━━━━━━━━━━━━━━━━━━━┳━━━━━━━━━━━━━━━━━┓\n",
              "┃<span style=\"font-weight: bold\"> Layer (type)                         </span>┃<span style=\"font-weight: bold\"> Output Shape                </span>┃<span style=\"font-weight: bold\">         Param # </span>┃\n",
              "┡━━━━━━━━━━━━━━━━━━━━━━━━━━━━━━━━━━━━━━╇━━━━━━━━━━━━━━━━━━━━━━━━━━━━━╇━━━━━━━━━━━━━━━━━┩\n",
              "│ dense_2 (<span style=\"color: #0087ff; text-decoration-color: #0087ff\">Dense</span>)                      │ (<span style=\"color: #00d7ff; text-decoration-color: #00d7ff\">None</span>, <span style=\"color: #00af00; text-decoration-color: #00af00\">16</span>)                  │             <span style=\"color: #00af00; text-decoration-color: #00af00\">240</span> │\n",
              "├──────────────────────────────────────┼─────────────────────────────┼─────────────────┤\n",
              "│ dropout_1 (<span style=\"color: #0087ff; text-decoration-color: #0087ff\">Dropout</span>)                  │ (<span style=\"color: #00d7ff; text-decoration-color: #00d7ff\">None</span>, <span style=\"color: #00af00; text-decoration-color: #00af00\">16</span>)                  │               <span style=\"color: #00af00; text-decoration-color: #00af00\">0</span> │\n",
              "├──────────────────────────────────────┼─────────────────────────────┼─────────────────┤\n",
              "│ dense_3 (<span style=\"color: #0087ff; text-decoration-color: #0087ff\">Dense</span>)                      │ (<span style=\"color: #00d7ff; text-decoration-color: #00d7ff\">None</span>, <span style=\"color: #00af00; text-decoration-color: #00af00\">8</span>)                   │             <span style=\"color: #00af00; text-decoration-color: #00af00\">136</span> │\n",
              "├──────────────────────────────────────┼─────────────────────────────┼─────────────────┤\n",
              "│ dropout_2 (<span style=\"color: #0087ff; text-decoration-color: #0087ff\">Dropout</span>)                  │ (<span style=\"color: #00d7ff; text-decoration-color: #00d7ff\">None</span>, <span style=\"color: #00af00; text-decoration-color: #00af00\">8</span>)                   │               <span style=\"color: #00af00; text-decoration-color: #00af00\">0</span> │\n",
              "├──────────────────────────────────────┼─────────────────────────────┼─────────────────┤\n",
              "│ dense_4 (<span style=\"color: #0087ff; text-decoration-color: #0087ff\">Dense</span>)                      │ (<span style=\"color: #00d7ff; text-decoration-color: #00d7ff\">None</span>, <span style=\"color: #00af00; text-decoration-color: #00af00\">1</span>)                   │               <span style=\"color: #00af00; text-decoration-color: #00af00\">9</span> │\n",
              "└──────────────────────────────────────┴─────────────────────────────┴─────────────────┘\n",
              "</pre>\n"
            ]
          },
          "metadata": {}
        },
        {
          "output_type": "display_data",
          "data": {
            "text/plain": [
              "\u001b[1m Total params: \u001b[0m\u001b[38;5;34m385\u001b[0m (1.50 KB)\n"
            ],
            "text/html": [
              "<pre style=\"white-space:pre;overflow-x:auto;line-height:normal;font-family:Menlo,'DejaVu Sans Mono',consolas,'Courier New',monospace\"><span style=\"font-weight: bold\"> Total params: </span><span style=\"color: #00af00; text-decoration-color: #00af00\">385</span> (1.50 KB)\n",
              "</pre>\n"
            ]
          },
          "metadata": {}
        },
        {
          "output_type": "display_data",
          "data": {
            "text/plain": [
              "\u001b[1m Trainable params: \u001b[0m\u001b[38;5;34m385\u001b[0m (1.50 KB)\n"
            ],
            "text/html": [
              "<pre style=\"white-space:pre;overflow-x:auto;line-height:normal;font-family:Menlo,'DejaVu Sans Mono',consolas,'Courier New',monospace\"><span style=\"font-weight: bold\"> Trainable params: </span><span style=\"color: #00af00; text-decoration-color: #00af00\">385</span> (1.50 KB)\n",
              "</pre>\n"
            ]
          },
          "metadata": {}
        },
        {
          "output_type": "display_data",
          "data": {
            "text/plain": [
              "\u001b[1m Non-trainable params: \u001b[0m\u001b[38;5;34m0\u001b[0m (0.00 B)\n"
            ],
            "text/html": [
              "<pre style=\"white-space:pre;overflow-x:auto;line-height:normal;font-family:Menlo,'DejaVu Sans Mono',consolas,'Courier New',monospace\"><span style=\"font-weight: bold\"> Non-trainable params: </span><span style=\"color: #00af00; text-decoration-color: #00af00\">0</span> (0.00 B)\n",
              "</pre>\n"
            ]
          },
          "metadata": {}
        }
      ]
    },
    {
      "cell_type": "markdown",
      "source": [
        "Test run baseline model"
      ],
      "metadata": {
        "id": "f9BCJMY1dWS6"
      }
    },
    {
      "cell_type": "code",
      "source": [
        "model.predict(train_features[:10])"
      ],
      "metadata": {
        "colab": {
          "base_uri": "https://localhost:8080/"
        },
        "id": "nWA2V3mYdSzt",
        "outputId": "7b888537-6cc6-4927-f50d-04cf5c63edcd"
      },
      "execution_count": 19,
      "outputs": [
        {
          "output_type": "stream",
          "name": "stdout",
          "text": [
            "\u001b[1m1/1\u001b[0m \u001b[32m━━━━━━━━━━━━━━━━━━━━\u001b[0m\u001b[37m\u001b[0m \u001b[1m0s\u001b[0m 293ms/step\n"
          ]
        },
        {
          "output_type": "execute_result",
          "data": {
            "text/plain": [
              "array([[0.7877967 ],\n",
              "       [0.81614023],\n",
              "       [0.9684844 ],\n",
              "       [0.87464154],\n",
              "       [0.86333984],\n",
              "       [0.8297957 ],\n",
              "       [0.8732409 ],\n",
              "       [0.98433965],\n",
              "       [0.9657004 ],\n",
              "       [0.951688  ]], dtype=float32)"
            ]
          },
          "metadata": {},
          "execution_count": 19
        }
      ]
    },
    {
      "cell_type": "markdown",
      "source": [
        "Set correct initial bias"
      ],
      "metadata": {
        "id": "VbBCSo_EdZ1A"
      }
    },
    {
      "cell_type": "code",
      "source": [
        "initial_bias = np.log([pos/neg])\n",
        "initial_bias"
      ],
      "metadata": {
        "colab": {
          "base_uri": "https://localhost:8080/"
        },
        "id": "s2MXPyZyd68B",
        "outputId": "4be1bfe8-b18b-42bd-a36e-f0fe594fe3ec"
      },
      "execution_count": 20,
      "outputs": [
        {
          "output_type": "execute_result",
          "data": {
            "text/plain": [
              "array([-5.63445295])"
            ]
          },
          "metadata": {},
          "execution_count": 20
        }
      ]
    },
    {
      "cell_type": "markdown",
      "source": [
        "Baseline with initial bias"
      ],
      "metadata": {
        "id": "NMRUVN7teJLe"
      }
    },
    {
      "cell_type": "code",
      "source": [
        "model = make_model(output_bias=initial_bias)\n",
        "model.predict(train_features[:10])"
      ],
      "metadata": {
        "colab": {
          "base_uri": "https://localhost:8080/"
        },
        "id": "iNp8oNoXeFY-",
        "outputId": "48c35aba-235e-4db0-fc88-da8a053bd4ac"
      },
      "execution_count": 21,
      "outputs": [
        {
          "output_type": "stream",
          "name": "stdout",
          "text": [
            "\u001b[1m1/1\u001b[0m \u001b[32m━━━━━━━━━━━━━━━━━━━━\u001b[0m\u001b[37m\u001b[0m \u001b[1m0s\u001b[0m 101ms/step\n"
          ]
        },
        {
          "output_type": "execute_result",
          "data": {
            "text/plain": [
              "array([[0.00539411],\n",
              "       [0.00547035],\n",
              "       [0.01026037],\n",
              "       [0.00344821],\n",
              "       [0.00257236],\n",
              "       [0.00397698],\n",
              "       [0.00259784],\n",
              "       [0.00523376],\n",
              "       [0.0022865 ],\n",
              "       [0.00203531]], dtype=float32)"
            ]
          },
          "metadata": {},
          "execution_count": 21
        }
      ]
    },
    {
      "cell_type": "code",
      "source": [
        "results = model.evaluate(train_features, train_labels, batch_size=BATCH_SIZE, verbose=0)\n",
        "print(\"Loss: {:0.4f}\".format(results[0]))"
      ],
      "metadata": {
        "colab": {
          "base_uri": "https://localhost:8080/"
        },
        "id": "p1nfBhI1eN39",
        "outputId": "1b9d05a5-af3f-4daf-c512-36ef8c8d9617"
      },
      "execution_count": 22,
      "outputs": [
        {
          "output_type": "stream",
          "name": "stdout",
          "text": [
            "Loss: 0.0255\n"
          ]
        }
      ]
    },
    {
      "cell_type": "markdown",
      "source": [
        "Saving initial weights to temp file"
      ],
      "metadata": {
        "id": "PpSl1u_Heko1"
      }
    },
    {
      "cell_type": "code",
      "source": [
        "import tempfile\n",
        "\n",
        "initial_weights = os.path.join(tempfile.mkdtemp(), 'initial.weights.h5')\n",
        "model.save_weights(initial_weights)\n"
      ],
      "metadata": {
        "id": "qVDySW20eojn"
      },
      "execution_count": 23,
      "outputs": []
    },
    {
      "cell_type": "markdown",
      "source": [
        "##Bias vs Non-Bias Comparison"
      ],
      "metadata": {
        "id": "RtEE4BM4ftRE"
      }
    },
    {
      "cell_type": "code",
      "source": [
        "# no initial bias\n",
        "\n",
        "model = make_model()\n",
        "model.load_weights(initial_weights)\n",
        "model.layers[-1].bias.assign([0.0])\n",
        "zero_bias_history = model.fit(\n",
        "    train_features,\n",
        "    train_labels,\n",
        "    batch_size=BATCH_SIZE,\n",
        "    epochs=20,\n",
        "    callbacks=[early_stopping()],\n",
        "    validation_data=(val_features, val_labels),\n",
        "    verbose=0\n",
        ")"
      ],
      "metadata": {
        "colab": {
          "base_uri": "https://localhost:8080/"
        },
        "id": "JfWf0krdfy6O",
        "outputId": "d29874cd-5f48-4d3a-d65e-9ad70799e7ef"
      },
      "execution_count": 24,
      "outputs": [
        {
          "output_type": "stream",
          "name": "stdout",
          "text": [
            "Epoch 17: early stopping\n",
            "Restoring model weights from the end of the best epoch: 2.\n"
          ]
        }
      ]
    },
    {
      "cell_type": "code",
      "source": [
        "# model with initial bias\n",
        "\n",
        "model = make_model()\n",
        "model.load_weights(initial_weights)\n",
        "careful_bias_history = model.fit(\n",
        "    train_features,\n",
        "    train_labels,\n",
        "    batch_size=BATCH_SIZE,\n",
        "    epochs=20,\n",
        "    callbacks=[early_stopping()],\n",
        "    validation_data=(val_features, val_labels),\n",
        "    verbose=0\n",
        ")"
      ],
      "metadata": {
        "colab": {
          "base_uri": "https://localhost:8080/"
        },
        "id": "0axkAiZsgYUg",
        "outputId": "d5906499-1720-46c0-8165-3f5aeda052f1"
      },
      "execution_count": 25,
      "outputs": [
        {
          "output_type": "stream",
          "name": "stdout",
          "text": [
            "Restoring model weights from the end of the best epoch: 20.\n"
          ]
        }
      ]
    },
    {
      "cell_type": "code",
      "source": [
        "colors = plt.rcParams['axes.prop_cycle'].by_key()['color']\n",
        "\n",
        "def plot_loss(history, label, n):\n",
        "  # Use a log scale to show the wide range of values.\n",
        "  plt.semilogy(history.epoch, history.history['loss'],\n",
        "               color=colors[n], label='Train ' + label)\n",
        "  plt.semilogy(history.epoch, history.history['val_loss'],\n",
        "               color=colors[n], label='Val ' + label,\n",
        "               linestyle=\"--\")\n",
        "  plt.xlabel('Epoch')\n",
        "  plt.ylabel('Loss')\n",
        "  plt.legend()"
      ],
      "metadata": {
        "id": "ydD729YtiPqp"
      },
      "execution_count": 26,
      "outputs": []
    },
    {
      "cell_type": "code",
      "source": [
        "plot_loss(zero_bias_history, \"Zero Bias\", 0)\n",
        "plot_loss(careful_bias_history, \"Careful Bias\", 1)"
      ],
      "metadata": {
        "colab": {
          "base_uri": "https://localhost:8080/",
          "height": 449
        },
        "id": "GKqxtzRAiaOE",
        "outputId": "451f6f76-9db4-4a02-b170-76778d734215"
      },
      "execution_count": 27,
      "outputs": [
        {
          "output_type": "display_data",
          "data": {
            "text/plain": [
              "<Figure size 640x480 with 1 Axes>"
            ],
            "image/png": "[encoded data removed]"
          },
          "metadata": {}
        }
      ]
    },
    {
      "cell_type": "markdown",
      "source": [
        "## Train Model"
      ],
      "metadata": {
        "id": "tQ75f5H5i359"
      }
    },
    {
      "cell_type": "code",
      "source": [
        "model = make_model()\n",
        "model.load_weights(initial_weights)\n",
        "baseline_history = model.fit(\n",
        "    train_features,\n",
        "    train_labels,\n",
        "    batch_size=BATCH_SIZE,\n",
        "    epochs=EPOCHS,\n",
        "    callbacks=[early_stopping()],\n",
        "    validation_data=(val_features, val_labels))"
      ],
      "metadata": {
        "colab": {
          "base_uri": "https://localhost:8080/"
        },
        "id": "m_XGyuQ3i7kI",
        "outputId": "f38bfcf4-7add-4b09-9bca-5d2fa0524b73"
      },
      "execution_count": 28,
      "outputs": [
        {
          "output_type": "stream",
          "name": "stdout",
          "text": [
            "Epoch 1/100\n",
            "\u001b[1m828/828\u001b[0m \u001b[32m━━━━━━━━━━━━━━━━━━━━\u001b[0m\u001b[37m\u001b[0m \u001b[1m6s\u001b[0m 5ms/step - Brier score: 0.0034 - accuracy: 0.9964 - auc: 0.7285 - cross entropy: 0.0201 - fn: 4464.3486 - fp: 178.2027 - loss: 0.0241 - prc: 0.0703 - precision: 0.1704 - recall: 0.0088 - tn: 1268691.2500 - tp: 50.2774 - val_Brier score: 0.0034 - val_accuracy: 0.9965 - val_auc: 0.7828 - val_cross entropy: 0.0194 - val_fn: 1497.0000 - val_fp: 0.0000e+00 - val_loss: 0.0194 - val_prc: 0.2052 - val_precision: 0.0000e+00 - val_recall: 0.0000e+00 - val_tn: 421974.0000 - val_tp: 0.0000e+00\n",
            "Epoch 2/100\n",
            "\u001b[1m828/828\u001b[0m \u001b[32m━━━━━━━━━━━━━━━━━━━━\u001b[0m\u001b[37m\u001b[0m \u001b[1m4s\u001b[0m 4ms/step - Brier score: 0.0035 - accuracy: 0.9963 - auc: 0.7328 - cross entropy: 0.0201 - fn: 2883.2305 - fp: 291.9059 - loss: 0.0201 - prc: 0.0945 - precision: 0.3362 - recall: 0.0494 - tn: 846601.7500 - tp: 136.1604 - val_Brier score: 0.0034 - val_accuracy: 0.9965 - val_auc: 0.8170 - val_cross entropy: 0.0180 - val_fn: 1497.0000 - val_fp: 0.0000e+00 - val_loss: 0.0180 - val_prc: 0.2208 - val_precision: 0.0000e+00 - val_recall: 0.0000e+00 - val_tn: 421974.0000 - val_tp: 0.0000e+00\n",
            "Epoch 3/100\n",
            "\u001b[1m828/828\u001b[0m \u001b[32m━━━━━━━━━━━━━━━━━━━━\u001b[0m\u001b[37m\u001b[0m \u001b[1m4s\u001b[0m 3ms/step - Brier score: 0.0036 - accuracy: 0.9961 - auc: 0.7726 - cross entropy: 0.0197 - fn: 2926.7900 - fp: 318.0953 - loss: 0.0197 - prc: 0.1064 - precision: 0.3020 - recall: 0.0462 - tn: 846532.0625 - tp: 136.1243 - val_Brier score: 0.0034 - val_accuracy: 0.9965 - val_auc: 0.8373 - val_cross entropy: 0.0179 - val_fn: 1497.0000 - val_fp: 0.0000e+00 - val_loss: 0.0179 - val_prc: 0.2250 - val_precision: 0.0000e+00 - val_recall: 0.0000e+00 - val_tn: 421974.0000 - val_tp: 0.0000e+00\n",
            "Epoch 4/100\n",
            "\u001b[1m828/828\u001b[0m \u001b[32m━━━━━━━━━━━━━━━━━━━━\u001b[0m\u001b[37m\u001b[0m \u001b[1m5s\u001b[0m 3ms/step - Brier score: 0.0035 - accuracy: 0.9962 - auc: 0.7936 - cross entropy: 0.0192 - fn: 2904.4561 - fp: 311.0869 - loss: 0.0192 - prc: 0.1106 - precision: 0.3021 - recall: 0.0432 - tn: 846561.4375 - tp: 136.0796 - val_Brier score: 0.0034 - val_accuracy: 0.9965 - val_auc: 0.8620 - val_cross entropy: 0.0175 - val_fn: 1497.0000 - val_fp: 0.0000e+00 - val_loss: 0.0175 - val_prc: 0.2216 - val_precision: 0.0000e+00 - val_recall: 0.0000e+00 - val_tn: 421974.0000 - val_tp: 0.0000e+00\n",
            "Epoch 5/100\n",
            "\u001b[1m828/828\u001b[0m \u001b[32m━━━━━━━━━━━━━━━━━━━━\u001b[0m\u001b[37m\u001b[0m \u001b[1m3s\u001b[0m 4ms/step - Brier score: 0.0034 - accuracy: 0.9963 - auc: 0.8168 - cross entropy: 0.0186 - fn: 2891.2678 - fp: 297.4439 - loss: 0.0186 - prc: 0.1205 - precision: 0.3261 - recall: 0.0482 - tn: 846581.5000 - tp: 142.8154 - val_Brier score: 0.0033 - val_accuracy: 0.9965 - val_auc: 0.8692 - val_cross entropy: 0.0170 - val_fn: 1497.0000 - val_fp: 0.0000e+00 - val_loss: 0.0170 - val_prc: 0.2307 - val_precision: 0.0000e+00 - val_recall: 0.0000e+00 - val_tn: 421974.0000 - val_tp: 0.0000e+00\n",
            "Epoch 6/100\n",
            "\u001b[1m828/828\u001b[0m \u001b[32m━━━━━━━━━━━━━━━━━━━━\u001b[0m\u001b[37m\u001b[0m \u001b[1m5s\u001b[0m 3ms/step - Brier score: 0.0034 - accuracy: 0.9963 - auc: 0.8364 - cross entropy: 0.0185 - fn: 2896.9385 - fp: 290.8758 - loss: 0.0185 - prc: 0.1276 - precision: 0.3391 - recall: 0.0484 - tn: 846580.2500 - tp: 144.9469 - val_Brier score: 0.0033 - val_accuracy: 0.9965 - val_auc: 0.8707 - val_cross entropy: 0.0169 - val_fn: 1497.0000 - val_fp: 0.0000e+00 - val_loss: 0.0169 - val_prc: 0.2310 - val_precision: 0.0000e+00 - val_recall: 0.0000e+00 - val_tn: 421974.0000 - val_tp: 0.0000e+00\n",
            "Epoch 7/100\n",
            "\u001b[1m828/828\u001b[0m \u001b[32m━━━━━━━━━━━━━━━━━━━━\u001b[0m\u001b[37m\u001b[0m \u001b[1m3s\u001b[0m 3ms/step - Brier score: 0.0034 - accuracy: 0.9962 - auc: 0.8497 - cross entropy: 0.0181 - fn: 2903.3367 - fp: 311.0627 - loss: 0.0181 - prc: 0.1304 - precision: 0.3111 - recall: 0.0461 - tn: 846557.6875 - tp: 140.9566 - val_Brier score: 0.0033 - val_accuracy: 0.9965 - val_auc: 0.8730 - val_cross entropy: 0.0166 - val_fn: 1497.0000 - val_fp: 0.0000e+00 - val_loss: 0.0166 - val_prc: 0.2386 - val_precision: 0.0000e+00 - val_recall: 0.0000e+00 - val_tn: 421974.0000 - val_tp: 0.0000e+00\n",
            "Epoch 8/100\n",
            "\u001b[1m828/828\u001b[0m \u001b[32m━━━━━━━━━━━━━━━━━━━━\u001b[0m\u001b[37m\u001b[0m \u001b[1m5s\u001b[0m 3ms/step - Brier score: 0.0034 - accuracy: 0.9962 - auc: 0.8475 - cross entropy: 0.0179 - fn: 2876.4138 - fp: 312.7250 - loss: 0.0179 - prc: 0.1345 - precision: 0.3232 - recall: 0.0507 - tn: 846576.1250 - tp: 147.7648 - val_Brier score: 0.0033 - val_accuracy: 0.9965 - val_auc: 0.8743 - val_cross entropy: 0.0165 - val_fn: 1497.0000 - val_fp: 0.0000e+00 - val_loss: 0.0165 - val_prc: 0.2463 - val_precision: 0.0000e+00 - val_recall: 0.0000e+00 - val_tn: 421974.0000 - val_tp: 0.0000e+00\n",
            "Epoch 9/100\n",
            "\u001b[1m828/828\u001b[0m \u001b[32m━━━━━━━━━━━━━━━━━━━━\u001b[0m\u001b[37m\u001b[0m \u001b[1m3s\u001b[0m 3ms/step - Brier score: 0.0034 - accuracy: 0.9963 - auc: 0.8514 - cross entropy: 0.0181 - fn: 2898.0483 - fp: 262.9083 - loss: 0.0181 - prc: 0.1277 - precision: 0.3377 - recall: 0.0448 - tn: 846611.4375 - tp: 140.6755 - val_Brier score: 0.0033 - val_accuracy: 0.9965 - val_auc: 0.8732 - val_cross entropy: 0.0164 - val_fn: 1497.0000 - val_fp: 0.0000e+00 - val_loss: 0.0164 - val_prc: 0.2525 - val_precision: 0.0000e+00 - val_recall: 0.0000e+00 - val_tn: 421974.0000 - val_tp: 0.0000e+00\n",
            "Epoch 10/100\n",
            "\u001b[1m828/828\u001b[0m \u001b[32m━━━━━━━━━━━━━━━━━━━━\u001b[0m\u001b[37m\u001b[0m \u001b[1m3s\u001b[0m 4ms/step - Brier score: 0.0034 - accuracy: 0.9962 - auc: 0.8551 - cross entropy: 0.0179 - fn: 2905.5017 - fp: 279.8022 - loss: 0.0179 - prc: 0.1377 - precision: 0.3444 - recall: 0.0477 - tn: 846579.8750 - tp: 147.8528 - val_Brier score: 0.0033 - val_accuracy: 0.9965 - val_auc: 0.8741 - val_cross entropy: 0.0162 - val_fn: 1497.0000 - val_fp: 0.0000e+00 - val_loss: 0.0162 - val_prc: 0.2544 - val_precision: 0.0000e+00 - val_recall: 0.0000e+00 - val_tn: 421974.0000 - val_tp: 0.0000e+00\n",
            "Epoch 11/100\n",
            "\u001b[1m828/828\u001b[0m \u001b[32m━━━━━━━━━━━━━━━━━━━━\u001b[0m\u001b[37m\u001b[0m \u001b[1m3s\u001b[0m 4ms/step - Brier score: 0.0033 - accuracy: 0.9963 - auc: 0.8566 - cross entropy: 0.0176 - fn: 2874.5344 - fp: 269.7419 - loss: 0.0176 - prc: 0.1444 - precision: 0.3903 - recall: 0.0570 - tn: 846608.5000 - tp: 160.2787 - val_Brier score: 0.0033 - val_accuracy: 0.9965 - val_auc: 0.8737 - val_cross entropy: 0.0161 - val_fn: 1497.0000 - val_fp: 0.0000e+00 - val_loss: 0.0161 - val_prc: 0.2586 - val_precision: 0.0000e+00 - val_recall: 0.0000e+00 - val_tn: 421974.0000 - val_tp: 0.0000e+00\n",
            "Epoch 12/100\n",
            "\u001b[1m828/828\u001b[0m \u001b[32m━━━━━━━━━━━━━━━━━━━━\u001b[0m\u001b[37m\u001b[0m \u001b[1m5s\u001b[0m 3ms/step - Brier score: 0.0034 - accuracy: 0.9963 - auc: 0.8562 - cross entropy: 0.0177 - fn: 2904.0459 - fp: 243.5995 - loss: 0.0177 - prc: 0.1372 - precision: 0.4038 - recall: 0.0511 - tn: 846608.5000 - tp: 156.8866 - val_Brier score: 0.0033 - val_accuracy: 0.9965 - val_auc: 0.8762 - val_cross entropy: 0.0159 - val_fn: 1497.0000 - val_fp: 0.0000e+00 - val_loss: 0.0159 - val_prc: 0.2632 - val_precision: 0.0000e+00 - val_recall: 0.0000e+00 - val_tn: 421974.0000 - val_tp: 0.0000e+00\n",
            "Epoch 13/100\n",
            "\u001b[1m828/828\u001b[0m \u001b[32m━━━━━━━━━━━━━━━━━━━━\u001b[0m\u001b[37m\u001b[0m \u001b[1m5s\u001b[0m 3ms/step - Brier score: 0.0033 - accuracy: 0.9963 - auc: 0.8607 - cross entropy: 0.0174 - fn: 2864.2932 - fp: 259.8010 - loss: 0.0174 - prc: 0.1419 - precision: 0.3705 - recall: 0.0489 - tn: 846642.5000 - tp: 146.4439 - val_Brier score: 0.0033 - val_accuracy: 0.9965 - val_auc: 0.8761 - val_cross entropy: 0.0157 - val_fn: 1497.0000 - val_fp: 0.0000e+00 - val_loss: 0.0157 - val_prc: 0.2643 - val_precision: 0.0000e+00 - val_recall: 0.0000e+00 - val_tn: 421974.0000 - val_tp: 0.0000e+00\n",
            "Epoch 14/100\n",
            "\u001b[1m828/828\u001b[0m \u001b[32m━━━━━━━━━━━━━━━━━━━━\u001b[0m\u001b[37m\u001b[0m \u001b[1m3s\u001b[0m 4ms/step - Brier score: 0.0034 - accuracy: 0.9963 - auc: 0.8605 - cross entropy: 0.0175 - fn: 2871.6550 - fp: 266.4813 - loss: 0.0175 - prc: 0.1362 - precision: 0.3613 - recall: 0.0516 - tn: 846615.8125 - tp: 159.0808 - val_Brier score: 0.0032 - val_accuracy: 0.9965 - val_auc: 0.8757 - val_cross entropy: 0.0156 - val_fn: 1497.0000 - val_fp: 0.0000e+00 - val_loss: 0.0156 - val_prc: 0.2674 - val_precision: 0.0000e+00 - val_recall: 0.0000e+00 - val_tn: 421974.0000 - val_tp: 0.0000e+00\n",
            "Epoch 15/100\n",
            "\u001b[1m828/828\u001b[0m \u001b[32m━━━━━━━━━━━━━━━━━━━━\u001b[0m\u001b[37m\u001b[0m \u001b[1m3s\u001b[0m 3ms/step - Brier score: 0.0034 - accuracy: 0.9963 - auc: 0.8608 - cross entropy: 0.0177 - fn: 2907.6816 - fp: 247.2437 - loss: 0.0177 - prc: 0.1400 - precision: 0.3884 - recall: 0.0505 - tn: 846607.1250 - tp: 151.0084 - val_Brier score: 0.0032 - val_accuracy: 0.9965 - val_auc: 0.8759 - val_cross entropy: 0.0155 - val_fn: 1497.0000 - val_fp: 0.0000e+00 - val_loss: 0.0155 - val_prc: 0.2704 - val_precision: 0.0000e+00 - val_recall: 0.0000e+00 - val_tn: 421974.0000 - val_tp: 0.0000e+00\n",
            "Epoch 16/100\n",
            "\u001b[1m828/828\u001b[0m \u001b[32m━━━━━━━━━━━━━━━━━━━━\u001b[0m\u001b[37m\u001b[0m \u001b[1m3s\u001b[0m 3ms/step - Brier score: 0.0034 - accuracy: 0.9963 - auc: 0.8594 - cross entropy: 0.0175 - fn: 2896.8359 - fp: 244.6972 - loss: 0.0175 - prc: 0.1374 - precision: 0.3652 - recall: 0.0466 - tn: 846623.5625 - tp: 147.9711 - val_Brier score: 0.0033 - val_accuracy: 0.9965 - val_auc: 0.8758 - val_cross entropy: 0.0156 - val_fn: 1497.0000 - val_fp: 0.0000e+00 - val_loss: 0.0156 - val_prc: 0.2710 - val_precision: 0.0000e+00 - val_recall: 0.0000e+00 - val_tn: 421974.0000 - val_tp: 0.0000e+00\n",
            "Epoch 17/100\n",
            "\u001b[1m828/828\u001b[0m \u001b[32m━━━━━━━━━━━━━━━━━━━━\u001b[0m\u001b[37m\u001b[0m \u001b[1m3s\u001b[0m 3ms/step - Brier score: 0.0033 - accuracy: 0.9964 - auc: 0.8608 - cross entropy: 0.0170 - fn: 2855.0024 - fp: 232.1616 - loss: 0.0170 - prc: 0.1455 - precision: 0.3917 - recall: 0.0507 - tn: 846667.0000 - tp: 158.8492 - val_Brier score: 0.0032 - val_accuracy: 0.9965 - val_auc: 0.8779 - val_cross entropy: 0.0153 - val_fn: 1497.0000 - val_fp: 0.0000e+00 - val_loss: 0.0153 - val_prc: 0.2709 - val_precision: 0.0000e+00 - val_recall: 0.0000e+00 - val_tn: 421974.0000 - val_tp: 0.0000e+00\n",
            "Epoch 18/100\n",
            "\u001b[1m828/828\u001b[0m \u001b[32m━━━━━━━━━━━━━━━━━━━━\u001b[0m\u001b[37m\u001b[0m \u001b[1m5s\u001b[0m 3ms/step - Brier score: 0.0033 - accuracy: 0.9964 - auc: 0.8648 - cross entropy: 0.0169 - fn: 2840.5200 - fp: 250.2557 - loss: 0.0169 - prc: 0.1427 - precision: 0.3956 - recall: 0.0568 - tn: 846654.5000 - tp: 167.7612 - val_Brier score: 0.0032 - val_accuracy: 0.9965 - val_auc: 0.8761 - val_cross entropy: 0.0153 - val_fn: 1497.0000 - val_fp: 0.0000e+00 - val_loss: 0.0153 - val_prc: 0.2705 - val_precision: 0.0000e+00 - val_recall: 0.0000e+00 - val_tn: 421974.0000 - val_tp: 0.0000e+00\n",
            "Epoch 19/100\n",
            "\u001b[1m828/828\u001b[0m \u001b[32m━━━━━━━━━━━━━━━━━━━━\u001b[0m\u001b[37m\u001b[0m \u001b[1m3s\u001b[0m 3ms/step - Brier score: 0.0033 - accuracy: 0.9964 - auc: 0.8637 - cross entropy: 0.0170 - fn: 2856.2341 - fp: 241.5090 - loss: 0.0170 - prc: 0.1424 - precision: 0.4159 - recall: 0.0573 - tn: 846644.8125 - tp: 170.4813 - val_Brier score: 0.0033 - val_accuracy: 0.9965 - val_auc: 0.8793 - val_cross entropy: 0.0156 - val_fn: 1497.0000 - val_fp: 0.0000e+00 - val_loss: 0.0156 - val_prc: 0.2757 - val_precision: 0.0000e+00 - val_recall: 0.0000e+00 - val_tn: 421974.0000 - val_tp: 0.0000e+00\n",
            "Epoch 20/100\n",
            "\u001b[1m828/828\u001b[0m \u001b[32m━━━━━━━━━━━━━━━━━━━━\u001b[0m\u001b[37m\u001b[0m \u001b[1m5s\u001b[0m 3ms/step - Brier score: 0.0033 - accuracy: 0.9964 - auc: 0.8656 - cross entropy: 0.0171 - fn: 2866.4487 - fp: 244.1882 - loss: 0.0171 - prc: 0.1531 - precision: 0.4354 - recall: 0.0616 - tn: 846620.3125 - tp: 182.0856 - val_Brier score: 0.0032 - val_accuracy: 0.9965 - val_auc: 0.8781 - val_cross entropy: 0.0154 - val_fn: 1497.0000 - val_fp: 0.0000e+00 - val_loss: 0.0154 - val_prc: 0.2722 - val_precision: 0.0000e+00 - val_recall: 0.0000e+00 - val_tn: 421974.0000 - val_tp: 0.0000e+00\n",
            "Epoch 21/100\n",
            "\u001b[1m828/828\u001b[0m \u001b[32m━━━━━━━━━━━━━━━━━━━━\u001b[0m\u001b[37m\u001b[0m \u001b[1m5s\u001b[0m 3ms/step - Brier score: 0.0033 - accuracy: 0.9964 - auc: 0.8605 - cross entropy: 0.0172 - fn: 2874.9517 - fp: 233.6791 - loss: 0.0172 - prc: 0.1439 - precision: 0.4021 - recall: 0.0498 - tn: 846648.6250 - tp: 155.7648 - val_Brier score: 0.0032 - val_accuracy: 0.9965 - val_auc: 0.8795 - val_cross entropy: 0.0154 - val_fn: 1497.0000 - val_fp: 0.0000e+00 - val_loss: 0.0154 - val_prc: 0.2707 - val_precision: 0.0000e+00 - val_recall: 0.0000e+00 - val_tn: 421974.0000 - val_tp: 0.0000e+00\n",
            "Epoch 22/100\n",
            "\u001b[1m828/828\u001b[0m \u001b[32m━━━━━━━━━━━━━━━━━━━━\u001b[0m\u001b[37m\u001b[0m \u001b[1m3s\u001b[0m 3ms/step - Brier score: 0.0033 - accuracy: 0.9963 - auc: 0.8638 - cross entropy: 0.0173 - fn: 2879.6851 - fp: 244.3462 - loss: 0.0173 - prc: 0.1454 - precision: 0.4122 - recall: 0.0555 - tn: 846620.3125 - tp: 168.7274 - val_Brier score: 0.0032 - val_accuracy: 0.9965 - val_auc: 0.8796 - val_cross entropy: 0.0151 - val_fn: 1497.0000 - val_fp: 0.0000e+00 - val_loss: 0.0151 - val_prc: 0.2685 - val_precision: 0.0000e+00 - val_recall: 0.0000e+00 - val_tn: 421974.0000 - val_tp: 0.0000e+00\n",
            "Epoch 23/100\n",
            "\u001b[1m828/828\u001b[0m \u001b[32m━━━━━━━━━━━━━━━━━━━━\u001b[0m\u001b[37m\u001b[0m \u001b[1m6s\u001b[0m 4ms/step - Brier score: 0.0033 - accuracy: 0.9964 - auc: 0.8641 - cross entropy: 0.0173 - fn: 2874.6887 - fp: 235.2304 - loss: 0.0173 - prc: 0.1344 - precision: 0.3849 - recall: 0.0509 - tn: 846646.8125 - tp: 156.2823 - val_Brier score: 0.0032 - val_accuracy: 0.9965 - val_auc: 0.8817 - val_cross entropy: 0.0151 - val_fn: 1497.0000 - val_fp: 0.0000e+00 - val_loss: 0.0151 - val_prc: 0.2694 - val_precision: 0.0000e+00 - val_recall: 0.0000e+00 - val_tn: 421974.0000 - val_tp: 0.0000e+00\n",
            "Epoch 24/100\n",
            "\u001b[1m828/828\u001b[0m \u001b[32m━━━━━━━━━━━━━━━━━━━━\u001b[0m\u001b[37m\u001b[0m \u001b[1m3s\u001b[0m 3ms/step - Brier score: 0.0032 - accuracy: 0.9965 - auc: 0.8630 - cross entropy: 0.0168 - fn: 2829.5706 - fp: 222.6610 - loss: 0.0168 - prc: 0.1488 - precision: 0.4423 - recall: 0.0566 - tn: 846691.0625 - tp: 169.7660 - val_Brier score: 0.0032 - val_accuracy: 0.9965 - val_auc: 0.8823 - val_cross entropy: 0.0152 - val_fn: 1497.0000 - val_fp: 0.0000e+00 - val_loss: 0.0152 - val_prc: 0.2744 - val_precision: 0.0000e+00 - val_recall: 0.0000e+00 - val_tn: 421974.0000 - val_tp: 0.0000e+00\n",
            "Epoch 25/100\n",
            "\u001b[1m828/828\u001b[0m \u001b[32m━━━━━━━━━━━━━━━━━━━━\u001b[0m\u001b[37m\u001b[0m \u001b[1m3s\u001b[0m 3ms/step - Brier score: 0.0033 - accuracy: 0.9963 - auc: 0.8738 - cross entropy: 0.0169 - fn: 2889.0869 - fp: 226.0567 - loss: 0.0169 - prc: 0.1477 - precision: 0.4136 - recall: 0.0539 - tn: 846640.2500 - tp: 157.6695 - val_Brier score: 0.0032 - val_accuracy: 0.9965 - val_auc: 0.8847 - val_cross entropy: 0.0154 - val_fn: 1497.0000 - val_fp: 0.0000e+00 - val_loss: 0.0154 - val_prc: 0.3034 - val_precision: 0.0000e+00 - val_recall: 0.0000e+00 - val_tn: 421974.0000 - val_tp: 0.0000e+00\n",
            "Epoch 26/100\n",
            "\u001b[1m828/828\u001b[0m \u001b[32m━━━━━━━━━━━━━━━━━━━━\u001b[0m\u001b[37m\u001b[0m \u001b[1m6s\u001b[0m 4ms/step - Brier score: 0.0033 - accuracy: 0.9963 - auc: 0.8637 - cross entropy: 0.0171 - fn: 2872.3401 - fp: 208.4186 - loss: 0.0171 - prc: 0.1504 - precision: 0.4208 - recall: 0.0495 - tn: 846678.0625 - tp: 154.2425 - val_Brier score: 0.0032 - val_accuracy: 0.9965 - val_auc: 0.8845 - val_cross entropy: 0.0152 - val_fn: 1497.0000 - val_fp: 0.0000e+00 - val_loss: 0.0152 - val_prc: 0.3246 - val_precision: 0.0000e+00 - val_recall: 0.0000e+00 - val_tn: 421974.0000 - val_tp: 0.0000e+00\n",
            "Epoch 27/100\n",
            "\u001b[1m828/828\u001b[0m \u001b[32m━━━━━━━━━━━━━━━━━━━━\u001b[0m\u001b[37m\u001b[0m \u001b[1m5s\u001b[0m 3ms/step - Brier score: 0.0032 - accuracy: 0.9965 - auc: 0.8591 - cross entropy: 0.0168 - fn: 2822.4102 - fp: 205.8709 - loss: 0.0168 - prc: 0.1514 - precision: 0.4475 - recall: 0.0523 - tn: 846720.5000 - tp: 164.2630 - val_Brier score: 0.0031 - val_accuracy: 0.9965 - val_auc: 0.8853 - val_cross entropy: 0.0148 - val_fn: 1496.0000 - val_fp: 0.0000e+00 - val_loss: 0.0148 - val_prc: 0.3420 - val_precision: 1.0000 - val_recall: 6.6800e-04 - val_tn: 421974.0000 - val_tp: 1.0000\n",
            "Epoch 28/100\n",
            "\u001b[1m828/828\u001b[0m \u001b[32m━━━━━━━━━━━━━━━━━━━━\u001b[0m\u001b[37m\u001b[0m \u001b[1m3s\u001b[0m 3ms/step - Brier score: 0.0033 - accuracy: 0.9964 - auc: 0.8702 - cross entropy: 0.0168 - fn: 2806.9856 - fp: 198.2895 - loss: 0.0168 - prc: 0.1621 - precision: 0.4915 - recall: 0.0658 - tn: 846708.8125 - tp: 198.9481 - val_Brier score: 0.0031 - val_accuracy: 0.9965 - val_auc: 0.8870 - val_cross entropy: 0.0149 - val_fn: 1486.0000 - val_fp: 0.0000e+00 - val_loss: 0.0149 - val_prc: 0.3580 - val_precision: 1.0000 - val_recall: 0.0073 - val_tn: 421974.0000 - val_tp: 11.0000\n",
            "Epoch 29/100\n",
            "\u001b[1m828/828\u001b[0m \u001b[32m━━━━━━━━━━━━━━━━━━━━\u001b[0m\u001b[37m\u001b[0m \u001b[1m3s\u001b[0m 3ms/step - Brier score: 0.0032 - accuracy: 0.9965 - auc: 0.8713 - cross entropy: 0.0167 - fn: 2814.0435 - fp: 212.4041 - loss: 0.0167 - prc: 0.1839 - precision: 0.5202 - recall: 0.0763 - tn: 846655.2500 - tp: 231.3438 - val_Brier score: 0.0031 - val_accuracy: 0.9966 - val_auc: 0.8875 - val_cross entropy: 0.0147 - val_fn: 1452.0000 - val_fp: 0.0000e+00 - val_loss: 0.0147 - val_prc: 0.3644 - val_precision: 1.0000 - val_recall: 0.0301 - val_tn: 421974.0000 - val_tp: 45.0000\n",
            "Epoch 30/100\n",
            "\u001b[1m828/828\u001b[0m \u001b[32m━━━━━━━━━━━━━━━━━━━━\u001b[0m\u001b[37m\u001b[0m \u001b[1m4s\u001b[0m 5ms/step - Brier score: 0.0032 - accuracy: 0.9965 - auc: 0.8649 - cross entropy: 0.0167 - fn: 2804.5029 - fp: 187.5151 - loss: 0.0167 - prc: 0.1790 - precision: 0.5457 - recall: 0.0731 - tn: 846705.8125 - tp: 215.2364 - val_Brier score: 0.0030 - val_accuracy: 0.9967 - val_auc: 0.8870 - val_cross entropy: 0.0143 - val_fn: 1402.0000 - val_fp: 0.0000e+00 - val_loss: 0.0143 - val_prc: 0.3695 - val_precision: 1.0000 - val_recall: 0.0635 - val_tn: 421974.0000 - val_tp: 95.0000\n",
            "Epoch 31/100\n",
            "\u001b[1m828/828\u001b[0m \u001b[32m━━━━━━━━━━━━━━━━━━━━\u001b[0m\u001b[37m\u001b[0m \u001b[1m3s\u001b[0m 3ms/step - Brier score: 0.0031 - accuracy: 0.9965 - auc: 0.8761 - cross entropy: 0.0162 - fn: 2734.7612 - fp: 207.7394 - loss: 0.0162 - prc: 0.1899 - precision: 0.5144 - recall: 0.0785 - tn: 846737.2500 - tp: 233.2979 - val_Brier score: 0.0030 - val_accuracy: 0.9967 - val_auc: 0.8877 - val_cross entropy: 0.0145 - val_fn: 1396.0000 - val_fp: 0.0000e+00 - val_loss: 0.0145 - val_prc: 0.3881 - val_precision: 1.0000 - val_recall: 0.0675 - val_tn: 421974.0000 - val_tp: 101.0000\n",
            "Epoch 32/100\n",
            "\u001b[1m828/828\u001b[0m \u001b[32m━━━━━━━━━━━━━━━━━━━━\u001b[0m\u001b[37m\u001b[0m \u001b[1m3s\u001b[0m 3ms/step - Brier score: 0.0032 - accuracy: 0.9965 - auc: 0.8653 - cross entropy: 0.0165 - fn: 2749.4258 - fp: 194.3438 - loss: 0.0165 - prc: 0.2086 - precision: 0.6033 - recall: 0.0904 - tn: 846694.1875 - tp: 275.1074 - val_Brier score: 0.0030 - val_accuracy: 0.9967 - val_auc: 0.8882 - val_cross entropy: 0.0143 - val_fn: 1377.0000 - val_fp: 0.0000e+00 - val_loss: 0.0143 - val_prc: 0.3876 - val_precision: 1.0000 - val_recall: 0.0802 - val_tn: 421974.0000 - val_tp: 120.0000\n",
            "Epoch 33/100\n",
            "\u001b[1m828/828\u001b[0m \u001b[32m━━━━━━━━━━━━━━━━━━━━\u001b[0m\u001b[37m\u001b[0m \u001b[1m6s\u001b[0m 4ms/step - Brier score: 0.0032 - accuracy: 0.9965 - auc: 0.8643 - cross entropy: 0.0168 - fn: 2783.9277 - fp: 170.0326 - loss: 0.0168 - prc: 0.2058 - precision: 0.6191 - recall: 0.0867 - tn: 846696.9375 - tp: 262.1520 - val_Brier score: 0.0029 - val_accuracy: 0.9968 - val_auc: 0.8883 - val_cross entropy: 0.0142 - val_fn: 1336.0000 - val_fp: 0.0000e+00 - val_loss: 0.0142 - val_prc: 0.3909 - val_precision: 1.0000 - val_recall: 0.1075 - val_tn: 421974.0000 - val_tp: 161.0000\n",
            "Epoch 34/100\n",
            "\u001b[1m828/828\u001b[0m \u001b[32m━━━━━━━━━━━━━━━━━━━━\u001b[0m\u001b[37m\u001b[0m \u001b[1m3s\u001b[0m 3ms/step - Brier score: 0.0031 - accuracy: 0.9966 - auc: 0.8700 - cross entropy: 0.0164 - fn: 2726.3765 - fp: 193.4584 - loss: 0.0164 - prc: 0.2106 - precision: 0.5875 - recall: 0.0921 - tn: 846715.6875 - tp: 277.5078 - val_Brier score: 0.0029 - val_accuracy: 0.9969 - val_auc: 0.8875 - val_cross entropy: 0.0141 - val_fn: 1328.0000 - val_fp: 0.0000e+00 - val_loss: 0.0141 - val_prc: 0.3866 - val_precision: 1.0000 - val_recall: 0.1129 - val_tn: 421974.0000 - val_tp: 169.0000\n",
            "Epoch 35/100\n",
            "\u001b[1m828/828\u001b[0m \u001b[32m━━━━━━━━━━━━━━━━━━━━\u001b[0m\u001b[37m\u001b[0m \u001b[1m5s\u001b[0m 3ms/step - Brier score: 0.0031 - accuracy: 0.9966 - auc: 0.8678 - cross entropy: 0.0164 - fn: 2748.9856 - fp: 182.4499 - loss: 0.0164 - prc: 0.2083 - precision: 0.6003 - recall: 0.0913 - tn: 846699.2500 - tp: 282.3559 - val_Brier score: 0.0028 - val_accuracy: 0.9969 - val_auc: 0.8902 - val_cross entropy: 0.0139 - val_fn: 1313.0000 - val_fp: 0.0000e+00 - val_loss: 0.0139 - val_prc: 0.3933 - val_precision: 1.0000 - val_recall: 0.1229 - val_tn: 421974.0000 - val_tp: 184.0000\n",
            "Epoch 36/100\n",
            "\u001b[1m828/828\u001b[0m \u001b[32m━━━━━━━━━━━━━━━━━━━━\u001b[0m\u001b[37m\u001b[0m \u001b[1m3s\u001b[0m 4ms/step - Brier score: 0.0031 - accuracy: 0.9966 - auc: 0.8676 - cross entropy: 0.0162 - fn: 2693.3208 - fp: 192.2943 - loss: 0.0162 - prc: 0.2238 - precision: 0.6082 - recall: 0.1020 - tn: 846708.2500 - tp: 319.1797 - val_Brier score: 0.0029 - val_accuracy: 0.9969 - val_auc: 0.8904 - val_cross entropy: 0.0140 - val_fn: 1315.0000 - val_fp: 0.0000e+00 - val_loss: 0.0140 - val_prc: 0.3990 - val_precision: 1.0000 - val_recall: 0.1216 - val_tn: 421974.0000 - val_tp: 182.0000\n",
            "Epoch 37/100\n",
            "\u001b[1m828/828\u001b[0m \u001b[32m━━━━━━━━━━━━━━━━━━━━\u001b[0m\u001b[37m\u001b[0m \u001b[1m5s\u001b[0m 4ms/step - Brier score: 0.0031 - accuracy: 0.9966 - auc: 0.8736 - cross entropy: 0.0160 - fn: 2690.8081 - fp: 176.4077 - loss: 0.0160 - prc: 0.2267 - precision: 0.6365 - recall: 0.1010 - tn: 846745.3125 - tp: 300.4958 - val_Brier score: 0.0028 - val_accuracy: 0.9969 - val_auc: 0.8912 - val_cross entropy: 0.0138 - val_fn: 1309.0000 - val_fp: 0.0000e+00 - val_loss: 0.0138 - val_prc: 0.4044 - val_precision: 1.0000 - val_recall: 0.1256 - val_tn: 421974.0000 - val_tp: 188.0000\n",
            "Epoch 38/100\n",
            "\u001b[1m828/828\u001b[0m \u001b[32m━━━━━━━━━━━━━━━━━━━━\u001b[0m\u001b[37m\u001b[0m \u001b[1m3s\u001b[0m 4ms/step - Brier score: 0.0031 - accuracy: 0.9966 - auc: 0.8677 - cross entropy: 0.0162 - fn: 2669.2207 - fp: 183.5959 - loss: 0.0162 - prc: 0.2379 - precision: 0.6582 - recall: 0.1183 - tn: 846716.4375 - tp: 343.7612 - val_Brier score: 0.0028 - val_accuracy: 0.9969 - val_auc: 0.8908 - val_cross entropy: 0.0139 - val_fn: 1308.0000 - val_fp: 0.0000e+00 - val_loss: 0.0139 - val_prc: 0.4106 - val_precision: 1.0000 - val_recall: 0.1263 - val_tn: 421974.0000 - val_tp: 189.0000\n",
            "Epoch 39/100\n",
            "\u001b[1m828/828\u001b[0m \u001b[32m━━━━━━━━━━━━━━━━━━━━\u001b[0m\u001b[37m\u001b[0m \u001b[1m3s\u001b[0m 4ms/step - Brier score: 0.0031 - accuracy: 0.9966 - auc: 0.8735 - cross entropy: 0.0160 - fn: 2698.5332 - fp: 197.6019 - loss: 0.0160 - prc: 0.2354 - precision: 0.6171 - recall: 0.1078 - tn: 846688.6250 - tp: 328.2690 - val_Brier score: 0.0028 - val_accuracy: 0.9969 - val_auc: 0.8913 - val_cross entropy: 0.0138 - val_fn: 1306.0000 - val_fp: 0.0000e+00 - val_loss: 0.0138 - val_prc: 0.4119 - val_precision: 1.0000 - val_recall: 0.1276 - val_tn: 421974.0000 - val_tp: 191.0000\n",
            "Epoch 40/100\n",
            "\u001b[1m828/828\u001b[0m \u001b[32m━━━━━━━━━━━━━━━━━━━━\u001b[0m\u001b[37m\u001b[0m \u001b[1m5s\u001b[0m 4ms/step - Brier score: 0.0031 - accuracy: 0.9967 - auc: 0.8656 - cross entropy: 0.0161 - fn: 2677.2075 - fp: 178.4222 - loss: 0.0161 - prc: 0.2243 - precision: 0.6421 - recall: 0.1045 - tn: 846734.4375 - tp: 322.9469 - val_Brier score: 0.0028 - val_accuracy: 0.9969 - val_auc: 0.8895 - val_cross entropy: 0.0137 - val_fn: 1294.0000 - val_fp: 0.0000e+00 - val_loss: 0.0137 - val_prc: 0.4121 - val_precision: 1.0000 - val_recall: 0.1356 - val_tn: 421974.0000 - val_tp: 203.0000\n",
            "Epoch 41/100\n",
            "\u001b[1m828/828\u001b[0m \u001b[32m━━━━━━━━━━━━━━━━━━━━\u001b[0m\u001b[37m\u001b[0m \u001b[1m3s\u001b[0m 3ms/step - Brier score: 0.0032 - accuracy: 0.9965 - auc: 0.8697 - cross entropy: 0.0164 - fn: 2728.3027 - fp: 197.5609 - loss: 0.0164 - prc: 0.2213 - precision: 0.6042 - recall: 0.1009 - tn: 846665.2500 - tp: 321.9168 - val_Brier score: 0.0028 - val_accuracy: 0.9970 - val_auc: 0.8908 - val_cross entropy: 0.0137 - val_fn: 1288.0000 - val_fp: 0.0000e+00 - val_loss: 0.0137 - val_prc: 0.4197 - val_precision: 1.0000 - val_recall: 0.1396 - val_tn: 421974.0000 - val_tp: 209.0000\n",
            "Epoch 42/100\n",
            "\u001b[1m828/828\u001b[0m \u001b[32m━━━━━━━━━━━━━━━━━━━━\u001b[0m\u001b[37m\u001b[0m \u001b[1m3s\u001b[0m 3ms/step - Brier score: 0.0031 - accuracy: 0.9966 - auc: 0.8730 - cross entropy: 0.0159 - fn: 2652.7141 - fp: 188.0386 - loss: 0.0159 - prc: 0.2494 - precision: 0.6500 - recall: 0.1183 - tn: 846721.6875 - tp: 350.5887 - val_Brier score: 0.0027 - val_accuracy: 0.9970 - val_auc: 0.8909 - val_cross entropy: 0.0134 - val_fn: 1290.0000 - val_fp: 0.0000e+00 - val_loss: 0.0134 - val_prc: 0.4194 - val_precision: 1.0000 - val_recall: 0.1383 - val_tn: 421974.0000 - val_tp: 207.0000\n",
            "Epoch 43/100\n",
            "\u001b[1m828/828\u001b[0m \u001b[32m━━━━━━━━━━━━━━━━━━━━\u001b[0m\u001b[37m\u001b[0m \u001b[1m5s\u001b[0m 3ms/step - Brier score: 0.0031 - accuracy: 0.9967 - auc: 0.8698 - cross entropy: 0.0160 - fn: 2663.9529 - fp: 168.9131 - loss: 0.0160 - prc: 0.2406 - precision: 0.6778 - recall: 0.1203 - tn: 846720.5625 - tp: 359.6405 - val_Brier score: 0.0028 - val_accuracy: 0.9969 - val_auc: 0.8912 - val_cross entropy: 0.0137 - val_fn: 1292.0000 - val_fp: 0.0000e+00 - val_loss: 0.0137 - val_prc: 0.4214 - val_precision: 1.0000 - val_recall: 0.1369 - val_tn: 421974.0000 - val_tp: 205.0000\n",
            "Epoch 44/100\n",
            "\u001b[1m828/828\u001b[0m \u001b[32m━━━━━━━━━━━━━━━━━━━━\u001b[0m\u001b[37m\u001b[0m \u001b[1m3s\u001b[0m 4ms/step - Brier score: 0.0031 - accuracy: 0.9966 - auc: 0.8681 - cross entropy: 0.0164 - fn: 2680.9072 - fp: 187.3160 - loss: 0.0164 - prc: 0.2322 - precision: 0.6498 - recall: 0.1122 - tn: 846697.1875 - tp: 347.6321 - val_Brier score: 0.0028 - val_accuracy: 0.9970 - val_auc: 0.8916 - val_cross entropy: 0.0136 - val_fn: 1280.0000 - val_fp: 0.0000e+00 - val_loss: 0.0136 - val_prc: 0.4250 - val_precision: 1.0000 - val_recall: 0.1450 - val_tn: 421974.0000 - val_tp: 217.0000\n",
            "Epoch 45/100\n",
            "\u001b[1m828/828\u001b[0m \u001b[32m━━━━━━━━━━━━━━━━━━━━\u001b[0m\u001b[37m\u001b[0m \u001b[1m3s\u001b[0m 4ms/step - Brier score: 0.0031 - accuracy: 0.9966 - auc: 0.8687 - cross entropy: 0.0162 - fn: 2670.8831 - fp: 188.4801 - loss: 0.0162 - prc: 0.2475 - precision: 0.6551 - recall: 0.1177 - tn: 846697.5625 - tp: 356.1122 - val_Brier score: 0.0028 - val_accuracy: 0.9970 - val_auc: 0.8922 - val_cross entropy: 0.0136 - val_fn: 1275.0000 - val_fp: 0.0000e+00 - val_loss: 0.0136 - val_prc: 0.4270 - val_precision: 1.0000 - val_recall: 0.1483 - val_tn: 421974.0000 - val_tp: 222.0000\n",
            "Epoch 46/100\n",
            "\u001b[1m828/828\u001b[0m \u001b[32m━━━━━━━━━━━━━━━━━━━━\u001b[0m\u001b[37m\u001b[0m \u001b[1m5s\u001b[0m 4ms/step - Brier score: 0.0031 - accuracy: 0.9966 - auc: 0.8731 - cross entropy: 0.0160 - fn: 2677.5984 - fp: 203.6381 - loss: 0.0160 - prc: 0.2465 - precision: 0.6337 - recall: 0.1177 - tn: 846676.5000 - tp: 355.3088 - val_Brier score: 0.0028 - val_accuracy: 0.9970 - val_auc: 0.8925 - val_cross entropy: 0.0135 - val_fn: 1276.0000 - val_fp: 0.0000e+00 - val_loss: 0.0135 - val_prc: 0.4318 - val_precision: 1.0000 - val_recall: 0.1476 - val_tn: 421974.0000 - val_tp: 221.0000\n",
            "Epoch 47/100\n",
            "\u001b[1m828/828\u001b[0m \u001b[32m━━━━━━━━━━━━━━━━━━━━\u001b[0m\u001b[37m\u001b[0m \u001b[1m3s\u001b[0m 4ms/step - Brier score: 0.0031 - accuracy: 0.9966 - auc: 0.8710 - cross entropy: 0.0160 - fn: 2673.7637 - fp: 198.5247 - loss: 0.0160 - prc: 0.2533 - precision: 0.6503 - recall: 0.1217 - tn: 846675.1875 - tp: 365.5633 - val_Brier score: 0.0027 - val_accuracy: 0.9970 - val_auc: 0.8925 - val_cross entropy: 0.0135 - val_fn: 1273.0000 - val_fp: 0.0000e+00 - val_loss: 0.0135 - val_prc: 0.4314 - val_precision: 1.0000 - val_recall: 0.1496 - val_tn: 421974.0000 - val_tp: 224.0000\n",
            "Epoch 48/100\n",
            "\u001b[1m828/828\u001b[0m \u001b[32m━━━━━━━━━━━━━━━━━━━━\u001b[0m\u001b[37m\u001b[0m \u001b[1m3s\u001b[0m 4ms/step - Brier score: 0.0031 - accuracy: 0.9966 - auc: 0.8729 - cross entropy: 0.0163 - fn: 2694.6682 - fp: 181.1230 - loss: 0.0163 - prc: 0.2300 - precision: 0.6418 - recall: 0.1126 - tn: 846692.3125 - tp: 344.9554 - val_Brier score: 0.0027 - val_accuracy: 0.9970 - val_auc: 0.8924 - val_cross entropy: 0.0134 - val_fn: 1269.0000 - val_fp: 0.0000e+00 - val_loss: 0.0134 - val_prc: 0.4320 - val_precision: 1.0000 - val_recall: 0.1523 - val_tn: 421974.0000 - val_tp: 228.0000\n",
            "Epoch 49/100\n",
            "\u001b[1m828/828\u001b[0m \u001b[32m━━━━━━━━━━━━━━━━━━━━\u001b[0m\u001b[37m\u001b[0m \u001b[1m6s\u001b[0m 4ms/step - Brier score: 0.0030 - accuracy: 0.9967 - auc: 0.8687 - cross entropy: 0.0160 - fn: 2637.0820 - fp: 187.1182 - loss: 0.0160 - prc: 0.2434 - precision: 0.6718 - recall: 0.1228 - tn: 846718.2500 - tp: 370.5730 - val_Brier score: 0.0028 - val_accuracy: 0.9970 - val_auc: 0.8930 - val_cross entropy: 0.0136 - val_fn: 1263.0000 - val_fp: 0.0000e+00 - val_loss: 0.0136 - val_prc: 0.4341 - val_precision: 1.0000 - val_recall: 0.1563 - val_tn: 421974.0000 - val_tp: 234.0000\n",
            "Epoch 50/100\n",
            "\u001b[1m828/828\u001b[0m \u001b[32m━━━━━━━━━━━━━━━━━━━━\u001b[0m\u001b[37m\u001b[0m \u001b[1m3s\u001b[0m 3ms/step - Brier score: 0.0031 - accuracy: 0.9967 - auc: 0.8681 - cross entropy: 0.0162 - fn: 2664.4656 - fp: 181.9035 - loss: 0.0162 - prc: 0.2455 - precision: 0.6897 - recall: 0.1205 - tn: 846695.1250 - tp: 371.5308 - val_Brier score: 0.0028 - val_accuracy: 0.9970 - val_auc: 0.8935 - val_cross entropy: 0.0136 - val_fn: 1267.0000 - val_fp: 0.0000e+00 - val_loss: 0.0136 - val_prc: 0.4340 - val_precision: 1.0000 - val_recall: 0.1536 - val_tn: 421974.0000 - val_tp: 230.0000\n",
            "Epoch 51/100\n",
            "\u001b[1m828/828\u001b[0m \u001b[32m━━━━━━━━━━━━━━━━━━━━\u001b[0m\u001b[37m\u001b[0m \u001b[1m5s\u001b[0m 3ms/step - Brier score: 0.0031 - accuracy: 0.9966 - auc: 0.8727 - cross entropy: 0.0164 - fn: 2697.0061 - fp: 208.5790 - loss: 0.0164 - prc: 0.2371 - precision: 0.6190 - recall: 0.1141 - tn: 846665.9375 - tp: 341.5139 - val_Brier score: 0.0027 - val_accuracy: 0.9970 - val_auc: 0.8943 - val_cross entropy: 0.0135 - val_fn: 1257.0000 - val_fp: 0.0000e+00 - val_loss: 0.0135 - val_prc: 0.4353 - val_precision: 1.0000 - val_recall: 0.1603 - val_tn: 421974.0000 - val_tp: 240.0000\n",
            "Epoch 52/100\n",
            "\u001b[1m828/828\u001b[0m \u001b[32m━━━━━━━━━━━━━━━━━━━━\u001b[0m\u001b[37m\u001b[0m \u001b[1m4s\u001b[0m 4ms/step - Brier score: 0.0030 - accuracy: 0.9967 - auc: 0.8717 - cross entropy: 0.0158 - fn: 2630.9626 - fp: 187.4813 - loss: 0.0158 - prc: 0.2510 - precision: 0.6748 - recall: 0.1254 - tn: 846716.2500 - tp: 378.3269 - val_Brier score: 0.0027 - val_accuracy: 0.9970 - val_auc: 0.8927 - val_cross entropy: 0.0135 - val_fn: 1255.0000 - val_fp: 0.0000e+00 - val_loss: 0.0135 - val_prc: 0.4354 - val_precision: 1.0000 - val_recall: 0.1617 - val_tn: 421974.0000 - val_tp: 242.0000\n",
            "Epoch 53/100\n",
            "\u001b[1m828/828\u001b[0m \u001b[32m━━━━━━━━━━━━━━━━━━━━\u001b[0m\u001b[37m\u001b[0m \u001b[1m3s\u001b[0m 3ms/step - Brier score: 0.0032 - accuracy: 0.9966 - auc: 0.8715 - cross entropy: 0.0166 - fn: 2703.0918 - fp: 179.6405 - loss: 0.0166 - prc: 0.2462 - precision: 0.6845 - recall: 0.1220 - tn: 846653.6875 - tp: 376.5959 - val_Brier score: 0.0027 - val_accuracy: 0.9971 - val_auc: 0.8931 - val_cross entropy: 0.0134 - val_fn: 1244.0000 - val_fp: 0.0000e+00 - val_loss: 0.0134 - val_prc: 0.4412 - val_precision: 1.0000 - val_recall: 0.1690 - val_tn: 421974.0000 - val_tp: 253.0000\n",
            "Epoch 54/100\n",
            "\u001b[1m828/828\u001b[0m \u001b[32m━━━━━━━━━━━━━━━━━━━━\u001b[0m\u001b[37m\u001b[0m \u001b[1m3s\u001b[0m 3ms/step - Brier score: 0.0031 - accuracy: 0.9967 - auc: 0.8738 - cross entropy: 0.0160 - fn: 2647.5681 - fp: 176.9083 - loss: 0.0160 - prc: 0.2571 - precision: 0.6835 - recall: 0.1267 - tn: 846708.9375 - tp: 379.6237 - val_Brier score: 0.0027 - val_accuracy: 0.9971 - val_auc: 0.8926 - val_cross entropy: 0.0133 - val_fn: 1235.0000 - val_fp: 6.0000 - val_loss: 0.0133 - val_prc: 0.4346 - val_precision: 0.9776 - val_recall: 0.1750 - val_tn: 421968.0000 - val_tp: 262.0000\n",
            "Epoch 55/100\n",
            "\u001b[1m828/828\u001b[0m \u001b[32m━━━━━━━━━━━━━━━━━━━━\u001b[0m\u001b[37m\u001b[0m \u001b[1m6s\u001b[0m 4ms/step - Brier score: 0.0031 - accuracy: 0.9967 - auc: 0.8693 - cross entropy: 0.0162 - fn: 2649.2786 - fp: 192.1243 - loss: 0.0162 - prc: 0.2507 - precision: 0.6691 - recall: 0.1293 - tn: 846684.9375 - tp: 386.6996 - val_Brier score: 0.0028 - val_accuracy: 0.9970 - val_auc: 0.8930 - val_cross entropy: 0.0137 - val_fn: 1258.0000 - val_fp: 0.0000e+00 - val_loss: 0.0137 - val_prc: 0.4425 - val_precision: 1.0000 - val_recall: 0.1597 - val_tn: 421974.0000 - val_tp: 239.0000\n",
            "Epoch 56/100\n",
            "\u001b[1m828/828\u001b[0m \u001b[32m━━━━━━━━━━━━━━━━━━━━\u001b[0m\u001b[37m\u001b[0m \u001b[1m5s\u001b[0m 4ms/step - Brier score: 0.0030 - accuracy: 0.9967 - auc: 0.8752 - cross entropy: 0.0158 - fn: 2633.0012 - fp: 187.0531 - loss: 0.0158 - prc: 0.2555 - precision: 0.6646 - recall: 0.1233 - tn: 846727.8125 - tp: 365.1617 - val_Brier score: 0.0027 - val_accuracy: 0.9971 - val_auc: 0.8932 - val_cross entropy: 0.0135 - val_fn: 1242.0000 - val_fp: 0.0000e+00 - val_loss: 0.0135 - val_prc: 0.4416 - val_precision: 1.0000 - val_recall: 0.1703 - val_tn: 421974.0000 - val_tp: 255.0000\n",
            "Epoch 57/100\n",
            "\u001b[1m828/828\u001b[0m \u001b[32m━━━━━━━━━━━━━━━━━━━━\u001b[0m\u001b[37m\u001b[0m \u001b[1m5s\u001b[0m 3ms/step - Brier score: 0.0030 - accuracy: 0.9967 - auc: 0.8691 - cross entropy: 0.0159 - fn: 2625.7419 - fp: 179.8854 - loss: 0.0159 - prc: 0.2582 - precision: 0.6822 - recall: 0.1281 - tn: 846735.3125 - tp: 372.0893 - val_Brier score: 0.0027 - val_accuracy: 0.9971 - val_auc: 0.8943 - val_cross entropy: 0.0135 - val_fn: 1246.0000 - val_fp: 0.0000e+00 - val_loss: 0.0135 - val_prc: 0.4447 - val_precision: 1.0000 - val_recall: 0.1677 - val_tn: 421974.0000 - val_tp: 251.0000\n",
            "Epoch 58/100\n",
            "\u001b[1m828/828\u001b[0m \u001b[32m━━━━━━━━━━━━━━━━━━━━\u001b[0m\u001b[37m\u001b[0m \u001b[1m5s\u001b[0m 3ms/step - Brier score: 0.0031 - accuracy: 0.9966 - auc: 0.8736 - cross entropy: 0.0161 - fn: 2644.0168 - fp: 200.6586 - loss: 0.0161 - prc: 0.2505 - precision: 0.6594 - recall: 0.1253 - tn: 846684.4375 - tp: 383.9240 - val_Brier score: 0.0027 - val_accuracy: 0.9971 - val_auc: 0.8934 - val_cross entropy: 0.0134 - val_fn: 1249.0000 - val_fp: 0.0000e+00 - val_loss: 0.0134 - val_prc: 0.4371 - val_precision: 1.0000 - val_recall: 0.1657 - val_tn: 421974.0000 - val_tp: 248.0000\n",
            "Epoch 59/100\n",
            "\u001b[1m828/828\u001b[0m \u001b[32m━━━━━━━━━━━━━━━━━━━━\u001b[0m\u001b[37m\u001b[0m \u001b[1m3s\u001b[0m 4ms/step - Brier score: 0.0030 - accuracy: 0.9967 - auc: 0.8725 - cross entropy: 0.0158 - fn: 2643.5259 - fp: 177.9144 - loss: 0.0158 - prc: 0.2529 - precision: 0.6800 - recall: 0.1208 - tn: 846726.1875 - tp: 365.4113 - val_Brier score: 0.0027 - val_accuracy: 0.9971 - val_auc: 0.8931 - val_cross entropy: 0.0134 - val_fn: 1244.0000 - val_fp: 0.0000e+00 - val_loss: 0.0134 - val_prc: 0.4389 - val_precision: 1.0000 - val_recall: 0.1690 - val_tn: 421974.0000 - val_tp: 253.0000\n",
            "Epoch 60/100\n",
            "\u001b[1m828/828\u001b[0m \u001b[32m━━━━━━━━━━━━━━━━━━━━\u001b[0m\u001b[37m\u001b[0m \u001b[1m3s\u001b[0m 3ms/step - Brier score: 0.0031 - accuracy: 0.9966 - auc: 0.8746 - cross entropy: 0.0161 - fn: 2669.3269 - fp: 199.6357 - loss: 0.0161 - prc: 0.2581 - precision: 0.6613 - recall: 0.1273 - tn: 846667.9375 - tp: 376.1580 - val_Brier score: 0.0027 - val_accuracy: 0.9970 - val_auc: 0.8938 - val_cross entropy: 0.0133 - val_fn: 1251.0000 - val_fp: 0.0000e+00 - val_loss: 0.0133 - val_prc: 0.4384 - val_precision: 1.0000 - val_recall: 0.1643 - val_tn: 421974.0000 - val_tp: 246.0000\n",
            "Epoch 61/100\n",
            "\u001b[1m828/828\u001b[0m \u001b[32m━━━━━━━━━━━━━━━━━━━━\u001b[0m\u001b[37m\u001b[0m \u001b[1m4s\u001b[0m 4ms/step - Brier score: 0.0031 - accuracy: 0.9966 - auc: 0.8646 - cross entropy: 0.0164 - fn: 2699.6055 - fp: 193.1858 - loss: 0.0164 - prc: 0.2284 - precision: 0.6301 - recall: 0.1081 - tn: 846682.1875 - tp: 338.0446 - val_Brier score: 0.0027 - val_accuracy: 0.9971 - val_auc: 0.8923 - val_cross entropy: 0.0133 - val_fn: 1245.0000 - val_fp: 0.0000e+00 - val_loss: 0.0133 - val_prc: 0.4375 - val_precision: 1.0000 - val_recall: 0.1683 - val_tn: 421974.0000 - val_tp: 252.0000\n",
            "Epoch 62/100\n",
            "\u001b[1m828/828\u001b[0m \u001b[32m━━━━━━━━━━━━━━━━━━━━\u001b[0m\u001b[37m\u001b[0m \u001b[1m4s\u001b[0m 3ms/step - Brier score: 0.0032 - accuracy: 0.9965 - auc: 0.8655 - cross entropy: 0.0166 - fn: 2714.2920 - fp: 203.4367 - loss: 0.0166 - prc: 0.2317 - precision: 0.6245 - recall: 0.1119 - tn: 846637.6875 - tp: 357.6466 - val_Brier score: 0.0027 - val_accuracy: 0.9971 - val_auc: 0.8926 - val_cross entropy: 0.0135 - val_fn: 1244.0000 - val_fp: 0.0000e+00 - val_loss: 0.0135 - val_prc: 0.4447 - val_precision: 1.0000 - val_recall: 0.1690 - val_tn: 421974.0000 - val_tp: 253.0000\n",
            "Epoch 63/100\n",
            "\u001b[1m828/828\u001b[0m \u001b[32m━━━━━━━━━━━━━━━━━━━━\u001b[0m\u001b[37m\u001b[0m \u001b[1m5s\u001b[0m 4ms/step - Brier score: 0.0030 - accuracy: 0.9967 - auc: 0.8751 - cross entropy: 0.0158 - fn: 2635.5332 - fp: 180.3317 - loss: 0.0158 - prc: 0.2539 - precision: 0.6736 - recall: 0.1248 - tn: 846714.0000 - tp: 383.1846 - val_Brier score: 0.0027 - val_accuracy: 0.9971 - val_auc: 0.8926 - val_cross entropy: 0.0133 - val_fn: 1239.0000 - val_fp: 0.0000e+00 - val_loss: 0.0133 - val_prc: 0.4400 - val_precision: 1.0000 - val_recall: 0.1723 - val_tn: 421974.0000 - val_tp: 258.0000\n",
            "Epoch 64/100\n",
            "\u001b[1m828/828\u001b[0m \u001b[32m━━━━━━━━━━━━━━━━━━━━\u001b[0m\u001b[37m\u001b[0m \u001b[1m5s\u001b[0m 4ms/step - Brier score: 0.0030 - accuracy: 0.9967 - auc: 0.8690 - cross entropy: 0.0160 - fn: 2627.8999 - fp: 187.9144 - loss: 0.0160 - prc: 0.2560 - precision: 0.6788 - recall: 0.1301 - tn: 846713.8125 - tp: 383.4294 - val_Brier score: 0.0027 - val_accuracy: 0.9971 - val_auc: 0.8932 - val_cross entropy: 0.0133 - val_fn: 1232.0000 - val_fp: 0.0000e+00 - val_loss: 0.0133 - val_prc: 0.4434 - val_precision: 1.0000 - val_recall: 0.1770 - val_tn: 421974.0000 - val_tp: 265.0000\n",
            "Epoch 65/100\n",
            "\u001b[1m828/828\u001b[0m \u001b[32m━━━━━━━━━━━━━━━━━━━━\u001b[0m\u001b[37m\u001b[0m \u001b[1m5s\u001b[0m 4ms/step - Brier score: 0.0031 - accuracy: 0.9967 - auc: 0.8666 - cross entropy: 0.0162 - fn: 2634.7649 - fp: 167.4234 - loss: 0.0162 - prc: 0.2544 - precision: 0.7065 - recall: 0.1317 - tn: 846716.3750 - tp: 394.5018 - val_Brier score: 0.0027 - val_accuracy: 0.9971 - val_auc: 0.8919 - val_cross entropy: 0.0133 - val_fn: 1240.0000 - val_fp: 0.0000e+00 - val_loss: 0.0133 - val_prc: 0.4404 - val_precision: 1.0000 - val_recall: 0.1717 - val_tn: 421974.0000 - val_tp: 257.0000\n",
            "Epoch 66/100\n",
            "\u001b[1m828/828\u001b[0m \u001b[32m━━━━━━━━━━━━━━━━━━━━\u001b[0m\u001b[37m\u001b[0m \u001b[1m6s\u001b[0m 4ms/step - Brier score: 0.0030 - accuracy: 0.9967 - auc: 0.8751 - cross entropy: 0.0157 - fn: 2637.9131 - fp: 169.8914 - loss: 0.0157 - prc: 0.2576 - precision: 0.6876 - recall: 0.1245 - tn: 846744.4375 - tp: 360.8287 - val_Brier score: 0.0027 - val_accuracy: 0.9971 - val_auc: 0.8926 - val_cross entropy: 0.0133 - val_fn: 1232.0000 - val_fp: 0.0000e+00 - val_loss: 0.0133 - val_prc: 0.4471 - val_precision: 1.0000 - val_recall: 0.1770 - val_tn: 421974.0000 - val_tp: 265.0000\n",
            "Epoch 67/100\n",
            "\u001b[1m828/828\u001b[0m \u001b[32m━━━━━━━━━━━━━━━━━━━━\u001b[0m\u001b[37m\u001b[0m \u001b[1m4s\u001b[0m 4ms/step - Brier score: 0.0031 - accuracy: 0.9967 - auc: 0.8731 - cross entropy: 0.0160 - fn: 2672.3184 - fp: 180.5090 - loss: 0.0160 - prc: 0.2490 - precision: 0.6773 - recall: 0.1238 - tn: 846680.8125 - tp: 379.3932 - val_Brier score: 0.0027 - val_accuracy: 0.9971 - val_auc: 0.8923 - val_cross entropy: 0.0134 - val_fn: 1238.0000 - val_fp: 0.0000e+00 - val_loss: 0.0134 - val_prc: 0.4447 - val_precision: 1.0000 - val_recall: 0.1730 - val_tn: 421974.0000 - val_tp: 259.0000\n",
            "Epoch 68/100\n",
            "\u001b[1m828/828\u001b[0m \u001b[32m━━━━━━━━━━━━━━━━━━━━\u001b[0m\u001b[37m\u001b[0m \u001b[1m6s\u001b[0m 4ms/step - Brier score: 0.0031 - accuracy: 0.9966 - auc: 0.8672 - cross entropy: 0.0162 - fn: 2651.2871 - fp: 184.3559 - loss: 0.0162 - prc: 0.2562 - precision: 0.6840 - recall: 0.1307 - tn: 846692.1250 - tp: 385.2557 - val_Brier score: 0.0027 - val_accuracy: 0.9971 - val_auc: 0.8934 - val_cross entropy: 0.0136 - val_fn: 1232.0000 - val_fp: 0.0000e+00 - val_loss: 0.0136 - val_prc: 0.4489 - val_precision: 1.0000 - val_recall: 0.1770 - val_tn: 421974.0000 - val_tp: 265.0000\n",
            "Epoch 69/100\n",
            "\u001b[1m828/828\u001b[0m \u001b[32m━━━━━━━━━━━━━━━━━━━━\u001b[0m\u001b[37m\u001b[0m \u001b[1m3s\u001b[0m 4ms/step - Brier score: 0.0031 - accuracy: 0.9967 - auc: 0.8764 - cross entropy: 0.0160 - fn: 2662.2786 - fp: 186.6478 - loss: 0.0160 - prc: 0.2498 - precision: 0.6776 - recall: 0.1224 - tn: 846683.6875 - tp: 380.4162 - val_Brier score: 0.0027 - val_accuracy: 0.9971 - val_auc: 0.8930 - val_cross entropy: 0.0136 - val_fn: 1230.0000 - val_fp: 0.0000e+00 - val_loss: 0.0136 - val_prc: 0.4505 - val_precision: 1.0000 - val_recall: 0.1784 - val_tn: 421974.0000 - val_tp: 267.0000\n",
            "Epoch 70/100\n",
            "\u001b[1m828/828\u001b[0m \u001b[32m━━━━━━━━━━━━━━━━━━━━\u001b[0m\u001b[37m\u001b[0m \u001b[1m4s\u001b[0m 4ms/step - Brier score: 0.0031 - accuracy: 0.9967 - auc: 0.8663 - cross entropy: 0.0162 - fn: 2641.0554 - fp: 176.1484 - loss: 0.0162 - prc: 0.2482 - precision: 0.6901 - recall: 0.1255 - tn: 846716.9375 - tp: 378.9204 - val_Brier score: 0.0027 - val_accuracy: 0.9971 - val_auc: 0.8920 - val_cross entropy: 0.0134 - val_fn: 1235.0000 - val_fp: 0.0000e+00 - val_loss: 0.0134 - val_prc: 0.4462 - val_precision: 1.0000 - val_recall: 0.1750 - val_tn: 421974.0000 - val_tp: 262.0000\n",
            "Epoch 71/100\n",
            "\u001b[1m828/828\u001b[0m \u001b[32m━━━━━━━━━━━━━━━━━━━━\u001b[0m\u001b[37m\u001b[0m \u001b[1m3s\u001b[0m 4ms/step - Brier score: 0.0031 - accuracy: 0.9966 - auc: 0.8648 - cross entropy: 0.0164 - fn: 2674.4487 - fp: 186.6791 - loss: 0.0164 - prc: 0.2439 - precision: 0.6776 - recall: 0.1218 - tn: 846676.5625 - tp: 375.3245 - val_Brier score: 0.0027 - val_accuracy: 0.9971 - val_auc: 0.8940 - val_cross entropy: 0.0132 - val_fn: 1228.0000 - val_fp: 0.0000e+00 - val_loss: 0.0132 - val_prc: 0.4458 - val_precision: 1.0000 - val_recall: 0.1797 - val_tn: 421974.0000 - val_tp: 269.0000\n",
            "Epoch 72/100\n",
            "\u001b[1m828/828\u001b[0m \u001b[32m━━━━━━━━━━━━━━━━━━━━\u001b[0m\u001b[37m\u001b[0m \u001b[1m4s\u001b[0m 5ms/step - Brier score: 0.0030 - accuracy: 0.9967 - auc: 0.8694 - cross entropy: 0.0161 - fn: 2623.7490 - fp: 176.7467 - loss: 0.0161 - prc: 0.2560 - precision: 0.6946 - recall: 0.1293 - tn: 846718.4375 - tp: 394.1182 - val_Brier score: 0.0027 - val_accuracy: 0.9971 - val_auc: 0.8932 - val_cross entropy: 0.0132 - val_fn: 1227.0000 - val_fp: 0.0000e+00 - val_loss: 0.0132 - val_prc: 0.4459 - val_precision: 1.0000 - val_recall: 0.1804 - val_tn: 421974.0000 - val_tp: 270.0000\n",
            "Epoch 73/100\n",
            "\u001b[1m828/828\u001b[0m \u001b[32m━━━━━━━━━━━━━━━━━━━━\u001b[0m\u001b[37m\u001b[0m \u001b[1m4s\u001b[0m 3ms/step - Brier score: 0.0030 - accuracy: 0.9967 - auc: 0.8735 - cross entropy: 0.0159 - fn: 2624.3774 - fp: 178.3088 - loss: 0.0159 - prc: 0.2581 - precision: 0.6904 - recall: 0.1349 - tn: 846717.9375 - tp: 392.4149 - val_Brier score: 0.0027 - val_accuracy: 0.9971 - val_auc: 0.8930 - val_cross entropy: 0.0133 - val_fn: 1228.0000 - val_fp: 0.0000e+00 - val_loss: 0.0133 - val_prc: 0.4489 - val_precision: 1.0000 - val_recall: 0.1797 - val_tn: 421974.0000 - val_tp: 269.0000\n",
            "Epoch 74/100\n",
            "\u001b[1m828/828\u001b[0m \u001b[32m━━━━━━━━━━━━━━━━━━━━\u001b[0m\u001b[37m\u001b[0m \u001b[1m3s\u001b[0m 4ms/step - Brier score: 0.0030 - accuracy: 0.9967 - auc: 0.8705 - cross entropy: 0.0159 - fn: 2655.5657 - fp: 191.3920 - loss: 0.0159 - prc: 0.2527 - precision: 0.6657 - recall: 0.1264 - tn: 846685.0625 - tp: 381.0386 - val_Brier score: 0.0027 - val_accuracy: 0.9971 - val_auc: 0.8925 - val_cross entropy: 0.0133 - val_fn: 1220.0000 - val_fp: 0.0000e+00 - val_loss: 0.0133 - val_prc: 0.4443 - val_precision: 1.0000 - val_recall: 0.1850 - val_tn: 421974.0000 - val_tp: 277.0000\n",
            "Epoch 75/100\n",
            "\u001b[1m828/828\u001b[0m \u001b[32m━━━━━━━━━━━━━━━━━━━━\u001b[0m\u001b[37m\u001b[0m \u001b[1m3s\u001b[0m 4ms/step - Brier score: 0.0031 - accuracy: 0.9966 - auc: 0.8731 - cross entropy: 0.0162 - fn: 2646.1509 - fp: 197.5718 - loss: 0.0162 - prc: 0.2450 - precision: 0.6495 - recall: 0.1225 - tn: 846691.7500 - tp: 377.5814 - val_Brier score: 0.0027 - val_accuracy: 0.9971 - val_auc: 0.8931 - val_cross entropy: 0.0132 - val_fn: 1218.0000 - val_fp: 2.0000 - val_loss: 0.0132 - val_prc: 0.4475 - val_precision: 0.9929 - val_recall: 0.1864 - val_tn: 421972.0000 - val_tp: 279.0000\n",
            "Epoch 76/100\n",
            "\u001b[1m828/828\u001b[0m \u001b[32m━━━━━━━━━━━━━━━━━━━━\u001b[0m\u001b[37m\u001b[0m \u001b[1m5s\u001b[0m 3ms/step - Brier score: 0.0031 - accuracy: 0.9966 - auc: 0.8705 - cross entropy: 0.0161 - fn: 2639.2051 - fp: 189.5959 - loss: 0.0161 - prc: 0.2487 - precision: 0.6631 - recall: 0.1248 - tn: 846704.8125 - tp: 379.4391 - val_Brier score: 0.0027 - val_accuracy: 0.9971 - val_auc: 0.8937 - val_cross entropy: 0.0134 - val_fn: 1226.0000 - val_fp: 0.0000e+00 - val_loss: 0.0134 - val_prc: 0.4444 - val_precision: 1.0000 - val_recall: 0.1810 - val_tn: 421974.0000 - val_tp: 271.0000\n",
            "Epoch 77/100\n",
            "\u001b[1m828/828\u001b[0m \u001b[32m━━━━━━━━━━━━━━━━━━━━\u001b[0m\u001b[37m\u001b[0m \u001b[1m3s\u001b[0m 4ms/step - Brier score: 0.0030 - accuracy: 0.9967 - auc: 0.8696 - cross entropy: 0.0160 - fn: 2640.2751 - fp: 183.4439 - loss: 0.0160 - prc: 0.2487 - precision: 0.6702 - recall: 0.1262 - tn: 846707.0625 - tp: 382.2630 - val_Brier score: 0.0027 - val_accuracy: 0.9971 - val_auc: 0.8947 - val_cross entropy: 0.0133 - val_fn: 1225.0000 - val_fp: 0.0000e+00 - val_loss: 0.0133 - val_prc: 0.4473 - val_precision: 1.0000 - val_recall: 0.1817 - val_tn: 421974.0000 - val_tp: 272.0000\n",
            "Epoch 78/100\n",
            "\u001b[1m828/828\u001b[0m \u001b[32m━━━━━━━━━━━━━━━━━━━━\u001b[0m\u001b[37m\u001b[0m \u001b[1m3s\u001b[0m 3ms/step - Brier score: 0.0031 - accuracy: 0.9967 - auc: 0.8701 - cross entropy: 0.0161 - fn: 2649.5464 - fp: 186.0470 - loss: 0.0161 - prc: 0.2532 - precision: 0.6847 - recall: 0.1324 - tn: 846677.9375 - tp: 399.5030 - val_Brier score: 0.0027 - val_accuracy: 0.9971 - val_auc: 0.8936 - val_cross entropy: 0.0135 - val_fn: 1223.0000 - val_fp: 1.0000 - val_loss: 0.0135 - val_prc: 0.4527 - val_precision: 0.9964 - val_recall: 0.1830 - val_tn: 421973.0000 - val_tp: 274.0000\n",
            "Epoch 79/100\n",
            "\u001b[1m828/828\u001b[0m \u001b[32m━━━━━━━━━━━━━━━━━━━━\u001b[0m\u001b[37m\u001b[0m \u001b[1m4s\u001b[0m 4ms/step - Brier score: 0.0031 - accuracy: 0.9967 - auc: 0.8712 - cross entropy: 0.0161 - fn: 2654.8347 - fp: 188.5573 - loss: 0.0161 - prc: 0.2446 - precision: 0.6533 - recall: 0.1188 - tn: 846715.3750 - tp: 354.2811 - val_Brier score: 0.0026 - val_accuracy: 0.9971 - val_auc: 0.8928 - val_cross entropy: 0.0131 - val_fn: 1217.0000 - val_fp: 0.0000e+00 - val_loss: 0.0131 - val_prc: 0.4418 - val_precision: 1.0000 - val_recall: 0.1870 - val_tn: 421974.0000 - val_tp: 280.0000\n",
            "Epoch 80/100\n",
            "\u001b[1m828/828\u001b[0m \u001b[32m━━━━━━━━━━━━━━━━━━━━\u001b[0m\u001b[37m\u001b[0m \u001b[1m3s\u001b[0m 4ms/step - Brier score: 0.0030 - accuracy: 0.9967 - auc: 0.8751 - cross entropy: 0.0159 - fn: 2637.1111 - fp: 193.7648 - loss: 0.0159 - prc: 0.2587 - precision: 0.6723 - recall: 0.1302 - tn: 846696.9375 - tp: 385.2268 - val_Brier score: 0.0027 - val_accuracy: 0.9971 - val_auc: 0.8935 - val_cross entropy: 0.0135 - val_fn: 1230.0000 - val_fp: 0.0000e+00 - val_loss: 0.0135 - val_prc: 0.4494 - val_precision: 1.0000 - val_recall: 0.1784 - val_tn: 421974.0000 - val_tp: 267.0000\n",
            "Epoch 81/100\n",
            "\u001b[1m828/828\u001b[0m \u001b[32m━━━━━━━━━━━━━━━━━━━━\u001b[0m\u001b[37m\u001b[0m \u001b[1m5s\u001b[0m 3ms/step - Brier score: 0.0031 - accuracy: 0.9966 - auc: 0.8719 - cross entropy: 0.0164 - fn: 2684.1726 - fp: 194.4439 - loss: 0.0164 - prc: 0.2510 - precision: 0.6580 - recall: 0.1203 - tn: 846660.5000 - tp: 373.9529 - val_Brier score: 0.0027 - val_accuracy: 0.9971 - val_auc: 0.8926 - val_cross entropy: 0.0133 - val_fn: 1228.0000 - val_fp: 0.0000e+00 - val_loss: 0.0133 - val_prc: 0.4433 - val_precision: 1.0000 - val_recall: 0.1797 - val_tn: 421974.0000 - val_tp: 269.0000\n",
            "Epoch 82/100\n",
            "\u001b[1m828/828\u001b[0m \u001b[32m━━━━━━━━━━━━━━━━━━━━\u001b[0m\u001b[37m\u001b[0m \u001b[1m5s\u001b[0m 3ms/step - Brier score: 0.0030 - accuracy: 0.9967 - auc: 0.8664 - cross entropy: 0.0160 - fn: 2617.8264 - fp: 165.5235 - loss: 0.0160 - prc: 0.2454 - precision: 0.6876 - recall: 0.1192 - tn: 846763.6250 - tp: 366.0977 - val_Brier score: 0.0027 - val_accuracy: 0.9971 - val_auc: 0.8952 - val_cross entropy: 0.0133 - val_fn: 1225.0000 - val_fp: 0.0000e+00 - val_loss: 0.0133 - val_prc: 0.4443 - val_precision: 1.0000 - val_recall: 0.1817 - val_tn: 421974.0000 - val_tp: 272.0000\n",
            "Epoch 83/100\n",
            "\u001b[1m828/828\u001b[0m \u001b[32m━━━━━━━━━━━━━━━━━━━━\u001b[0m\u001b[37m\u001b[0m \u001b[1m3s\u001b[0m 4ms/step - Brier score: 0.0030 - accuracy: 0.9967 - auc: 0.8742 - cross entropy: 0.0158 - fn: 2644.5295 - fp: 181.5115 - loss: 0.0158 - prc: 0.2584 - precision: 0.6800 - recall: 0.1279 - tn: 846704.6250 - tp: 382.3607 - val_Brier score: 0.0027 - val_accuracy: 0.9971 - val_auc: 0.8929 - val_cross entropy: 0.0133 - val_fn: 1221.0000 - val_fp: 0.0000e+00 - val_loss: 0.0133 - val_prc: 0.4500 - val_precision: 1.0000 - val_recall: 0.1844 - val_tn: 421974.0000 - val_tp: 276.0000\n",
            "Epoch 84/100\n",
            "\u001b[1m828/828\u001b[0m \u001b[32m━━━━━━━━━━━━━━━━━━━━\u001b[0m\u001b[37m\u001b[0m \u001b[1m3s\u001b[0m 3ms/step - Brier score: 0.0030 - accuracy: 0.9968 - auc: 0.8756 - cross entropy: 0.0157 - fn: 2608.1267 - fp: 175.9445 - loss: 0.0157 - prc: 0.2546 - precision: 0.6916 - recall: 0.1312 - tn: 846749.4375 - tp: 379.5235 - val_Brier score: 0.0027 - val_accuracy: 0.9971 - val_auc: 0.8928 - val_cross entropy: 0.0133 - val_fn: 1227.0000 - val_fp: 0.0000e+00 - val_loss: 0.0133 - val_prc: 0.4444 - val_precision: 1.0000 - val_recall: 0.1804 - val_tn: 421974.0000 - val_tp: 270.0000\n",
            "Epoch 85/100\n",
            "\u001b[1m828/828\u001b[0m \u001b[32m━━━━━━━━━━━━━━━━━━━━\u001b[0m\u001b[37m\u001b[0m \u001b[1m3s\u001b[0m 4ms/step - Brier score: 0.0031 - accuracy: 0.9967 - auc: 0.8659 - cross entropy: 0.0162 - fn: 2646.7407 - fp: 166.9964 - loss: 0.0162 - prc: 0.2444 - precision: 0.7032 - recall: 0.1197 - tn: 846742.6875 - tp: 356.6405 - val_Brier score: 0.0027 - val_accuracy: 0.9971 - val_auc: 0.8947 - val_cross entropy: 0.0134 - val_fn: 1227.0000 - val_fp: 0.0000e+00 - val_loss: 0.0134 - val_prc: 0.4493 - val_precision: 1.0000 - val_recall: 0.1804 - val_tn: 421974.0000 - val_tp: 270.0000\n",
            "Epoch 86/100\n",
            "\u001b[1m828/828\u001b[0m \u001b[32m━━━━━━━━━━━━━━━━━━━━\u001b[0m\u001b[37m\u001b[0m \u001b[1m5s\u001b[0m 4ms/step - Brier score: 0.0031 - accuracy: 0.9966 - auc: 0.8724 - cross entropy: 0.0162 - fn: 2659.7551 - fp: 182.0856 - loss: 0.0162 - prc: 0.2563 - precision: 0.6734 - recall: 0.1289 - tn: 846693.4375 - tp: 377.7817 - val_Brier score: 0.0027 - val_accuracy: 0.9971 - val_auc: 0.8923 - val_cross entropy: 0.0134 - val_fn: 1229.0000 - val_fp: 0.0000e+00 - val_loss: 0.0134 - val_prc: 0.4477 - val_precision: 1.0000 - val_recall: 0.1790 - val_tn: 421974.0000 - val_tp: 268.0000\n",
            "Epoch 87/100\n",
            "\u001b[1m828/828\u001b[0m \u001b[32m━━━━━━━━━━━━━━━━━━━━\u001b[0m\u001b[37m\u001b[0m \u001b[1m5s\u001b[0m 4ms/step - Brier score: 0.0031 - accuracy: 0.9967 - auc: 0.8743 - cross entropy: 0.0160 - fn: 2646.4402 - fp: 197.2895 - loss: 0.0160 - prc: 0.2599 - precision: 0.6767 - recall: 0.1333 - tn: 846674.0625 - tp: 395.2762 - val_Brier score: 0.0027 - val_accuracy: 0.9971 - val_auc: 0.8939 - val_cross entropy: 0.0132 - val_fn: 1222.0000 - val_fp: 1.0000 - val_loss: 0.0132 - val_prc: 0.4481 - val_precision: 0.9964 - val_recall: 0.1837 - val_tn: 421973.0000 - val_tp: 275.0000\n",
            "Epoch 88/100\n",
            "\u001b[1m828/828\u001b[0m \u001b[32m━━━━━━━━━━━━━━━━━━━━\u001b[0m\u001b[37m\u001b[0m \u001b[1m4s\u001b[0m 4ms/step - Brier score: 0.0030 - accuracy: 0.9967 - auc: 0.8683 - cross entropy: 0.0159 - fn: 2620.7756 - fp: 176.6224 - loss: 0.0159 - prc: 0.2552 - precision: 0.6992 - recall: 0.1309 - tn: 846730.7500 - tp: 384.8902 - val_Brier score: 0.0026 - val_accuracy: 0.9971 - val_auc: 0.8945 - val_cross entropy: 0.0131 - val_fn: 1229.0000 - val_fp: 0.0000e+00 - val_loss: 0.0131 - val_prc: 0.4378 - val_precision: 1.0000 - val_recall: 0.1790 - val_tn: 421974.0000 - val_tp: 268.0000\n",
            "Epoch 89/100\n",
            "\u001b[1m828/828\u001b[0m \u001b[32m━━━━━━━━━━━━━━━━━━━━\u001b[0m\u001b[37m\u001b[0m \u001b[1m4s\u001b[0m 4ms/step - Brier score: 0.0031 - accuracy: 0.9966 - auc: 0.8702 - cross entropy: 0.0162 - fn: 2647.8901 - fp: 186.9397 - loss: 0.0162 - prc: 0.2510 - precision: 0.6605 - recall: 0.1250 - tn: 846691.5625 - tp: 386.6659 - val_Brier score: 0.0027 - val_accuracy: 0.9971 - val_auc: 0.8938 - val_cross entropy: 0.0132 - val_fn: 1225.0000 - val_fp: 0.0000e+00 - val_loss: 0.0132 - val_prc: 0.4432 - val_precision: 1.0000 - val_recall: 0.1817 - val_tn: 421974.0000 - val_tp: 272.0000\n",
            "Epoch 90/100\n",
            "\u001b[1m828/828\u001b[0m \u001b[32m━━━━━━━━━━━━━━━━━━━━\u001b[0m\u001b[37m\u001b[0m \u001b[1m5s\u001b[0m 4ms/step - Brier score: 0.0031 - accuracy: 0.9967 - auc: 0.8712 - cross entropy: 0.0161 - fn: 2652.1230 - fp: 190.3993 - loss: 0.0161 - prc: 0.2644 - precision: 0.6898 - recall: 0.1351 - tn: 846666.6250 - tp: 403.8818 - val_Brier score: 0.0027 - val_accuracy: 0.9971 - val_auc: 0.8933 - val_cross entropy: 0.0133 - val_fn: 1222.0000 - val_fp: 0.0000e+00 - val_loss: 0.0133 - val_prc: 0.4506 - val_precision: 1.0000 - val_recall: 0.1837 - val_tn: 421974.0000 - val_tp: 275.0000\n",
            "Epoch 91/100\n",
            "\u001b[1m828/828\u001b[0m \u001b[32m━━━━━━━━━━━━━━━━━━━━\u001b[0m\u001b[37m\u001b[0m \u001b[1m5s\u001b[0m 3ms/step - Brier score: 0.0031 - accuracy: 0.9966 - auc: 0.8688 - cross entropy: 0.0165 - fn: 2693.9771 - fp: 182.7201 - loss: 0.0165 - prc: 0.2522 - precision: 0.6919 - recall: 0.1297 - tn: 846644.6875 - tp: 391.6526 - val_Brier score: 0.0027 - val_accuracy: 0.9971 - val_auc: 0.8927 - val_cross entropy: 0.0134 - val_fn: 1225.0000 - val_fp: 0.0000e+00 - val_loss: 0.0134 - val_prc: 0.4464 - val_precision: 1.0000 - val_recall: 0.1817 - val_tn: 421974.0000 - val_tp: 272.0000\n",
            "Epoch 92/100\n",
            "\u001b[1m828/828\u001b[0m \u001b[32m━━━━━━━━━━━━━━━━━━━━\u001b[0m\u001b[37m\u001b[0m \u001b[1m5s\u001b[0m 3ms/step - Brier score: 0.0030 - accuracy: 0.9967 - auc: 0.8728 - cross entropy: 0.0159 - fn: 2648.0483 - fp: 194.0567 - loss: 0.0159 - prc: 0.2558 - precision: 0.6592 - recall: 0.1273 - tn: 846691.6875 - tp: 379.2787 - val_Brier score: 0.0027 - val_accuracy: 0.9971 - val_auc: 0.8932 - val_cross entropy: 0.0132 - val_fn: 1228.0000 - val_fp: 0.0000e+00 - val_loss: 0.0132 - val_prc: 0.4451 - val_precision: 1.0000 - val_recall: 0.1797 - val_tn: 421974.0000 - val_tp: 269.0000\n",
            "Epoch 93/100\n",
            "\u001b[1m828/828\u001b[0m \u001b[32m━━━━━━━━━━━━━━━━━━━━\u001b[0m\u001b[37m\u001b[0m \u001b[1m5s\u001b[0m 4ms/step - Brier score: 0.0031 - accuracy: 0.9966 - auc: 0.8647 - cross entropy: 0.0162 - fn: 2647.0723 - fp: 198.8649 - loss: 0.0162 - prc: 0.2558 - precision: 0.6625 - recall: 0.1318 - tn: 846685.3750 - tp: 381.7238 - val_Brier score: 0.0027 - val_accuracy: 0.9971 - val_auc: 0.8923 - val_cross entropy: 0.0131 - val_fn: 1230.0000 - val_fp: 0.0000e+00 - val_loss: 0.0131 - val_prc: 0.4429 - val_precision: 1.0000 - val_recall: 0.1784 - val_tn: 421974.0000 - val_tp: 267.0000\n",
            "Epoch 93: early stopping\n",
            "Restoring model weights from the end of the best epoch: 78.\n"
          ]
        }
      ]
    },
    {
      "cell_type": "code",
      "source": [
        "train_predictions_baseline = model.predict(train_features, batch_size=BATCH_SIZE)\n",
        "test_predictions_baseline = model.predict(test_features, batch_size=BATCH_SIZE)"
      ],
      "metadata": {
        "colab": {
          "base_uri": "https://localhost:8080/"
        },
        "id": "wRjoAoWXn2EM",
        "outputId": "bbf94891-d348-464f-e328-3823824362f9"
      },
      "execution_count": 29,
      "outputs": [
        {
          "output_type": "stream",
          "name": "stdout",
          "text": [
            "\u001b[1m828/828\u001b[0m \u001b[32m━━━━━━━━━━━━━━━━━━━━\u001b[0m\u001b[37m\u001b[0m \u001b[1m1s\u001b[0m 822us/step\n",
            "\u001b[1m259/259\u001b[0m \u001b[32m━━━━━━━━━━━━━━━━━━━━\u001b[0m\u001b[37m\u001b[0m \u001b[1m0s\u001b[0m 821us/step\n"
          ]
        }
      ]
    },
    {
      "cell_type": "code",
      "source": [
        "def plot_cm(labels, predictions, threshold=0.5):\n",
        "  cm = confusion_matrix(labels, predictions > threshold)\n",
        "  plt.figure(figsize=(5,5))\n",
        "  sns.heatmap(cm, annot=True, fmt=\"d\")\n",
        "  plt.title(\"Confusion matrix @{:.2f}\".format(threshold))\n",
        "  plt.ylabel('Actual label')\n",
        "  plt.xlabel('Predicted label')"
      ],
      "metadata": {
        "id": "DpALLfwmnUOX"
      },
      "execution_count": 30,
      "outputs": []
    },
    {
      "cell_type": "code",
      "source": [
        "baseline_results = model.evaluate(test_features, test_labels,\n",
        "                                  batch_size=BATCH_SIZE, verbose=0)\n",
        "for name, value in zip(model.metrics_names, baseline_results):\n",
        "  print(name, ': ', value)\n",
        "print()\n",
        "\n",
        "plot_cm(test_labels, test_predictions_baseline)"
      ],
      "metadata": {
        "colab": {
          "base_uri": "https://localhost:8080/",
          "height": 542
        },
        "id": "1eoWp6yynXoO",
        "outputId": "bd3e7b70-f4cb-4e87-8114-fc872bc4be27"
      },
      "execution_count": 31,
      "outputs": [
        {
          "output_type": "stream",
          "name": "stdout",
          "text": [
            "loss :  0.014194444753229618\n",
            "compile_metrics :  0.014194444753229618\n",
            "\n"
          ]
        },
        {
          "output_type": "display_data",
          "data": {
            "text/plain": [
              "<Figure size 500x500 with 2 Axes>"
            ],
            "image/png": "[encoded data removed]"
          },
          "metadata": {}
        }
      ]
    },
    {
      "cell_type": "markdown",
      "source": [
        "F1 Score"
      ],
      "metadata": {
        "id": "dAGBn76yU0d-"
      }
    },
    {
      "cell_type": "code",
      "source": [
        "f1 = f1_score(test_labels, test_predictions_baseline > 0.5)\n",
        "print(f'F1 Score: {f1}')"
      ],
      "metadata": {
        "colab": {
          "base_uri": "https://localhost:8080/"
        },
        "id": "Gm9zR17RUxeB",
        "outputId": "59ca1af7-dbd3-4952-a2aa-302272bc515d"
      },
      "execution_count": 32,
      "outputs": [
        {
          "output_type": "stream",
          "name": "stdout",
          "text": [
            "F1 Score: 0.28545618789521227\n"
          ]
        }
      ]
    },
    {
      "cell_type": "markdown",
      "source": [
        "## Class Weights"
      ],
      "metadata": {
        "id": "DWeJIinenjM6"
      }
    },
    {
      "cell_type": "code",
      "source": [
        "weight_for_0 = (1 / neg) * (total / 2.0)\n",
        "weight_for_1 = (1 / pos) * (total / 2.0)\n",
        "\n",
        "class_weight = {0: weight_for_0, 1: weight_for_1}\n",
        "\n",
        "print('Weight for class 0: {:.2f}'.format(weight_for_0))\n",
        "print('Weight for class 1: {:.2f}'.format(weight_for_1))"
      ],
      "metadata": {
        "colab": {
          "base_uri": "https://localhost:8080/"
        },
        "id": "RbdeW78jnmR1",
        "outputId": "3690e04b-cc12-4d8d-e8d9-f51d0898f030"
      },
      "execution_count": 33,
      "outputs": [
        {
          "output_type": "stream",
          "name": "stdout",
          "text": [
            "Weight for class 0: 0.50\n",
            "Weight for class 1: 140.45\n"
          ]
        }
      ]
    },
    {
      "cell_type": "markdown",
      "source": [
        "## Train model with class weights"
      ],
      "metadata": {
        "id": "1WVT_4GBn5IF"
      }
    },
    {
      "cell_type": "code",
      "source": [
        "weighted_model = make_model()\n",
        "weighted_model.load_weights(initial_weights)\n",
        "\n",
        "weighted_history = weighted_model.fit(\n",
        "    train_features,\n",
        "    train_labels,\n",
        "    batch_size=BATCH_SIZE,\n",
        "    epochs=EPOCHS,\n",
        "    callbacks=[early_stopping()],\n",
        "    validation_data=(val_features, val_labels),\n",
        "    # The class weights go here\n",
        "    class_weight=class_weight)"
      ],
      "metadata": {
        "colab": {
          "base_uri": "https://localhost:8080/"
        },
        "id": "f9yjeGTsn4nS",
        "outputId": "eb0a97f6-ee55-473b-e0dd-148f7e9cbeb8"
      },
      "execution_count": 34,
      "outputs": [
        {
          "output_type": "stream",
          "name": "stderr",
          "text": [
            "/usr/local/lib/python3.11/dist-packages/keras/src/layers/core/dense.py:87: UserWarning: Do not pass an `input_shape`/`input_dim` argument to a layer. When using Sequential models, prefer using an `Input(shape)` object as the first layer in the model instead.\n",
            "  super().__init__(activity_regularizer=activity_regularizer, **kwargs)\n"
          ]
        },
        {
          "output_type": "stream",
          "name": "stdout",
          "text": [
            "Epoch 1/100\n",
            "\u001b[1m828/828\u001b[0m \u001b[32m━━━━━━━━━━━━━━━━━━━━\u001b[0m\u001b[37m\u001b[0m \u001b[1m5s\u001b[0m 4ms/step - Brier score: 0.0346 - accuracy: 0.9560 - auc: 0.7290 - cross entropy: 0.1382 - fn: 3706.5825 - fp: 70123.2031 - loss: 1.7864 - prc: 0.0548 - precision: 0.0767 - recall: 0.2229 - tn: 1304208.1250 - tp: 1214.0892 - val_Brier score: 0.0309 - val_accuracy: 0.9755 - val_auc: 0.8542 - val_cross entropy: 0.1845 - val_fn: 490.0000 - val_fp: 9892.0000 - val_loss: 0.1845 - val_prc: 0.1363 - val_precision: 0.0924 - val_recall: 0.6727 - val_tn: 412082.0000 - val_tp: 1007.0000\n",
            "Epoch 2/100\n",
            "\u001b[1m828/828\u001b[0m \u001b[32m━━━━━━━━━━━━━━━━━━━━\u001b[0m\u001b[37m\u001b[0m \u001b[1m5s\u001b[0m 4ms/step - Brier score: 0.0966 - accuracy: 0.8765 - auc: 0.7658 - cross entropy: 0.4089 - fn: 1234.9662 - fp: 101973.4922 - loss: 0.8194 - prc: 0.0512 - precision: 0.0170 - recall: 0.5885 - tn: 744897.4375 - tp: 1807.1472 - val_Brier score: 0.0359 - val_accuracy: 0.9695 - val_auc: 0.8492 - val_cross entropy: 0.2279 - val_fn: 366.0000 - val_fp: 12545.0000 - val_loss: 0.2279 - val_prc: 0.1149 - val_precision: 0.0827 - val_recall: 0.7555 - val_tn: 409429.0000 - val_tp: 1131.0000\n",
            "Epoch 3/100\n",
            "\u001b[1m828/828\u001b[0m \u001b[32m━━━━━━━━━━━━━━━━━━━━\u001b[0m\u001b[37m\u001b[0m \u001b[1m3s\u001b[0m 4ms/step - Brier score: 0.0775 - accuracy: 0.9079 - auc: 0.7959 - cross entropy: 0.3649 - fn: 1086.5983 - fp: 76698.4297 - loss: 0.6752 - prc: 0.0661 - precision: 0.0238 - recall: 0.6353 - tn: 770221.1875 - tp: 1906.8021 - val_Brier score: 0.0428 - val_accuracy: 0.9663 - val_auc: 0.8495 - val_cross entropy: 0.2683 - val_fn: 353.0000 - val_fp: 13920.0000 - val_loss: 0.2683 - val_prc: 0.1105 - val_precision: 0.0759 - val_recall: 0.7642 - val_tn: 408054.0000 - val_tp: 1144.0000\n",
            "Epoch 4/100\n",
            "\u001b[1m828/828\u001b[0m \u001b[32m━━━━━━━━━━━━━━━━━━━━\u001b[0m\u001b[37m\u001b[0m \u001b[1m5s\u001b[0m 3ms/step - Brier score: 0.0772 - accuracy: 0.9152 - auc: 0.8092 - cross entropy: 0.3705 - fn: 1066.6405 - fp: 69059.6484 - loss: 0.6118 - prc: 0.0748 - precision: 0.0270 - recall: 0.6475 - tn: 777818.0000 - tp: 1968.7225 - val_Brier score: 0.0444 - val_accuracy: 0.9677 - val_auc: 0.8574 - val_cross entropy: 0.2817 - val_fn: 359.0000 - val_fp: 13324.0000 - val_loss: 0.2817 - val_prc: 0.1113 - val_precision: 0.0787 - val_recall: 0.7602 - val_tn: 408650.0000 - val_tp: 1138.0000\n",
            "Epoch 5/100\n",
            "\u001b[1m828/828\u001b[0m \u001b[32m━━━━━━━━━━━━━━━━━━━━\u001b[0m\u001b[37m\u001b[0m \u001b[1m4s\u001b[0m 4ms/step - Brier score: 0.0720 - accuracy: 0.9354 - auc: 0.8241 - cross entropy: 0.3661 - fn: 993.9409 - fp: 53057.9336 - loss: 0.5438 - prc: 0.0846 - precision: 0.0364 - recall: 0.6691 - tn: 793825.5000 - tp: 2035.6827 - val_Brier score: 0.0514 - val_accuracy: 0.9667 - val_auc: 0.8647 - val_cross entropy: 0.3157 - val_fn: 357.0000 - val_fp: 13759.0000 - val_loss: 0.3157 - val_prc: 0.1088 - val_precision: 0.0765 - val_recall: 0.7615 - val_tn: 408215.0000 - val_tp: 1140.0000\n",
            "Epoch 6/100\n",
            "\u001b[1m828/828\u001b[0m \u001b[32m━━━━━━━━━━━━━━━━━━━━\u001b[0m\u001b[37m\u001b[0m \u001b[1m4s\u001b[0m 3ms/step - Brier score: 0.0752 - accuracy: 0.9413 - auc: 0.8320 - cross entropy: 0.3787 - fn: 988.7660 - fp: 45982.6523 - loss: 0.5149 - prc: 0.0902 - precision: 0.0407 - recall: 0.6690 - tn: 800897.6250 - tp: 2044.0084 - val_Brier score: 0.0541 - val_accuracy: 0.9674 - val_auc: 0.8685 - val_cross entropy: 0.3228 - val_fn: 357.0000 - val_fp: 13446.0000 - val_loss: 0.3228 - val_prc: 0.1105 - val_precision: 0.0782 - val_recall: 0.7615 - val_tn: 408528.0000 - val_tp: 1140.0000\n",
            "Epoch 7/100\n",
            "\u001b[1m828/828\u001b[0m \u001b[32m━━━━━━━━━━━━━━━━━━━━\u001b[0m\u001b[37m\u001b[0m \u001b[1m3s\u001b[0m 3ms/step - Brier score: 0.0692 - accuracy: 0.9575 - auc: 0.8373 - cross entropy: 0.3614 - fn: 961.0808 - fp: 34947.2031 - loss: 0.4842 - prc: 0.0918 - precision: 0.0545 - recall: 0.6805 - tn: 811963.0625 - tp: 2041.6899 - val_Brier score: 0.0582 - val_accuracy: 0.9674 - val_auc: 0.8723 - val_cross entropy: 0.3344 - val_fn: 357.0000 - val_fp: 13453.0000 - val_loss: 0.3344 - val_prc: 0.1120 - val_precision: 0.0781 - val_recall: 0.7615 - val_tn: 408521.0000 - val_tp: 1140.0000\n",
            "Epoch 8/100\n",
            "\u001b[1m828/828\u001b[0m \u001b[32m━━━━━━━━━━━━━━━━━━━━\u001b[0m\u001b[37m\u001b[0m \u001b[1m6s\u001b[0m 4ms/step - Brier score: 0.0689 - accuracy: 0.9618 - auc: 0.8491 - cross entropy: 0.3628 - fn: 925.0663 - fp: 31573.2812 - loss: 0.4604 - prc: 0.0971 - precision: 0.0629 - recall: 0.7008 - tn: 815308.2500 - tp: 2106.4451 - val_Brier score: 0.0623 - val_accuracy: 0.9668 - val_auc: 0.8771 - val_cross entropy: 0.3448 - val_fn: 355.0000 - val_fp: 13685.0000 - val_loss: 0.3448 - val_prc: 0.1136 - val_precision: 0.0770 - val_recall: 0.7629 - val_tn: 408289.0000 - val_tp: 1142.0000\n",
            "Epoch 9/100\n",
            "\u001b[1m828/828\u001b[0m \u001b[32m━━━━━━━━━━━━━━━━━━━━\u001b[0m\u001b[37m\u001b[0m \u001b[1m4s\u001b[0m 3ms/step - Brier score: 0.0705 - accuracy: 0.9625 - auc: 0.8495 - cross entropy: 0.3664 - fn: 922.5995 - fp: 30496.6758 - loss: 0.4595 - prc: 0.0975 - precision: 0.0645 - recall: 0.6938 - tn: 816372.1250 - tp: 2121.6611 - val_Brier score: 0.0634 - val_accuracy: 0.9678 - val_auc: 0.8824 - val_cross entropy: 0.3401 - val_fn: 356.0000 - val_fp: 13293.0000 - val_loss: 0.3401 - val_prc: 0.1194 - val_precision: 0.0790 - val_recall: 0.7622 - val_tn: 408681.0000 - val_tp: 1141.0000\n",
            "Epoch 10/100\n",
            "\u001b[1m828/828\u001b[0m \u001b[32m━━━━━━━━━━━━━━━━━━━━\u001b[0m\u001b[37m\u001b[0m \u001b[1m5s\u001b[0m 3ms/step - Brier score: 0.0704 - accuracy: 0.9642 - auc: 0.8515 - cross entropy: 0.3647 - fn: 912.4620 - fp: 29762.4258 - loss: 0.4490 - prc: 0.0970 - precision: 0.0666 - recall: 0.6965 - tn: 817119.3125 - tp: 2118.8396 - val_Brier score: 0.0636 - val_accuracy: 0.9674 - val_auc: 0.8847 - val_cross entropy: 0.3421 - val_fn: 356.0000 - val_fp: 13432.0000 - val_loss: 0.3421 - val_prc: 0.1182 - val_precision: 0.0783 - val_recall: 0.7622 - val_tn: 408542.0000 - val_tp: 1141.0000\n",
            "Epoch 11/100\n",
            "\u001b[1m828/828\u001b[0m \u001b[32m━━━━━━━━━━━━━━━━━━━━\u001b[0m\u001b[37m\u001b[0m \u001b[1m5s\u001b[0m 3ms/step - Brier score: 0.0680 - accuracy: 0.9655 - auc: 0.8605 - cross entropy: 0.3568 - fn: 883.9288 - fp: 28479.9883 - loss: 0.4272 - prc: 0.1013 - precision: 0.0686 - recall: 0.7048 - tn: 818435.6875 - tp: 2113.4426 - val_Brier score: 0.0712 - val_accuracy: 0.9644 - val_auc: 0.8881 - val_cross entropy: 0.3659 - val_fn: 349.0000 - val_fp: 14727.0000 - val_loss: 0.3659 - val_prc: 0.1164 - val_precision: 0.0723 - val_recall: 0.7669 - val_tn: 407247.0000 - val_tp: 1148.0000\n",
            "Epoch 12/100\n",
            "\u001b[1m828/828\u001b[0m \u001b[32m━━━━━━━━━━━━━━━━━━━━\u001b[0m\u001b[37m\u001b[0m \u001b[1m5s\u001b[0m 3ms/step - Brier score: 0.0730 - accuracy: 0.9632 - auc: 0.8705 - cross entropy: 0.3707 - fn: 902.5283 - fp: 29998.8730 - loss: 0.4306 - prc: 0.1049 - precision: 0.0677 - recall: 0.7120 - tn: 816852.6875 - tp: 2158.9758 - val_Brier score: 0.0670 - val_accuracy: 0.9671 - val_auc: 0.8922 - val_cross entropy: 0.3435 - val_fn: 354.0000 - val_fp: 13593.0000 - val_loss: 0.3435 - val_prc: 0.1245 - val_precision: 0.0776 - val_recall: 0.7635 - val_tn: 408381.0000 - val_tp: 1143.0000\n",
            "Epoch 13/100\n",
            "\u001b[1m828/828\u001b[0m \u001b[32m━━━━━━━━━━━━━━━━━━━━\u001b[0m\u001b[37m\u001b[0m \u001b[1m5s\u001b[0m 3ms/step - Brier score: 0.0719 - accuracy: 0.9647 - auc: 0.8697 - cross entropy: 0.3648 - fn: 875.7612 - fp: 29467.6777 - loss: 0.4228 - prc: 0.1036 - precision: 0.0691 - recall: 0.7120 - tn: 817397.1875 - tp: 2172.4209 - val_Brier score: 0.0683 - val_accuracy: 0.9679 - val_auc: 0.8965 - val_cross entropy: 0.3448 - val_fn: 357.0000 - val_fp: 13256.0000 - val_loss: 0.3448 - val_prc: 0.1273 - val_precision: 0.0792 - val_recall: 0.7615 - val_tn: 408718.0000 - val_tp: 1140.0000\n",
            "Epoch 14/100\n",
            "\u001b[1m828/828\u001b[0m \u001b[32m━━━━━━━━━━━━━━━━━━━━\u001b[0m\u001b[37m\u001b[0m \u001b[1m3s\u001b[0m 3ms/step - Brier score: 0.0719 - accuracy: 0.9648 - auc: 0.8816 - cross entropy: 0.3658 - fn: 860.1737 - fp: 29339.4395 - loss: 0.4119 - prc: 0.1036 - precision: 0.0695 - recall: 0.7205 - tn: 817540.3125 - tp: 2173.0918 - val_Brier score: 0.0729 - val_accuracy: 0.9664 - val_auc: 0.9024 - val_cross entropy: 0.3595 - val_fn: 353.0000 - val_fp: 13864.0000 - val_loss: 0.3595 - val_prc: 0.1255 - val_precision: 0.0762 - val_recall: 0.7642 - val_tn: 408110.0000 - val_tp: 1144.0000\n",
            "Epoch 15/100\n",
            "\u001b[1m828/828\u001b[0m \u001b[32m━━━━━━━━━━━━━━━━━━━━\u001b[0m\u001b[37m\u001b[0m \u001b[1m3s\u001b[0m 3ms/step - Brier score: 0.0762 - accuracy: 0.9627 - auc: 0.8782 - cross entropy: 0.3745 - fn: 842.1664 - fp: 30789.6348 - loss: 0.4138 - prc: 0.1056 - precision: 0.0662 - recall: 0.7221 - tn: 816097.4375 - tp: 2183.7949 - val_Brier score: 0.0734 - val_accuracy: 0.9655 - val_auc: 0.9031 - val_cross entropy: 0.3632 - val_fn: 349.0000 - val_fp: 14277.0000 - val_loss: 0.3632 - val_prc: 0.1233 - val_precision: 0.0744 - val_recall: 0.7669 - val_tn: 407697.0000 - val_tp: 1148.0000\n",
            "Epoch 16/100\n",
            "\u001b[1m828/828\u001b[0m \u001b[32m━━━━━━━━━━━━━━━━━━━━\u001b[0m\u001b[37m\u001b[0m \u001b[1m3s\u001b[0m 4ms/step - Brier score: 0.0759 - accuracy: 0.9633 - auc: 0.8820 - cross entropy: 0.3742 - fn: 841.1689 - fp: 29961.5957 - loss: 0.4119 - prc: 0.1097 - precision: 0.0681 - recall: 0.7230 - tn: 816922.0000 - tp: 2188.2798 - val_Brier score: 0.0723 - val_accuracy: 0.9681 - val_auc: 0.9051 - val_cross entropy: 0.3532 - val_fn: 357.0000 - val_fp: 13142.0000 - val_loss: 0.3532 - val_prc: 0.1310 - val_precision: 0.0798 - val_recall: 0.7615 - val_tn: 408832.0000 - val_tp: 1140.0000\n",
            "Epoch 16: early stopping\n",
            "Restoring model weights from the end of the best epoch: 1.\n"
          ]
        }
      ]
    },
    {
      "cell_type": "code",
      "source": [
        "def plot_metrics(history):\n",
        "  metrics = ['loss', 'prc', 'precision', 'recall']\n",
        "  for n, metric in enumerate(metrics):\n",
        "    name = metric.replace(\"_\",\" \").capitalize()\n",
        "    plt.subplot(2,2,n+1)\n",
        "    plt.plot(history.epoch, history.history[metric], color=colors[0], label='Train')\n",
        "    plt.plot(history.epoch, history.history['val_'+metric],\n",
        "             color=colors[0], linestyle=\"--\", label='Val')\n",
        "    plt.xlabel('Epoch')\n",
        "    plt.ylabel(name)\n",
        "    if metric == 'loss':\n",
        "      plt.ylim([0, plt.ylim()[1]])\n",
        "    elif metric == 'auc':\n",
        "      plt.ylim([0.8,1])\n",
        "    else:\n",
        "      plt.ylim([0,1])\n",
        "\n",
        "    plt.legend()"
      ],
      "metadata": {
        "id": "B-FGWSv7o3d1"
      },
      "execution_count": 35,
      "outputs": []
    },
    {
      "cell_type": "markdown",
      "source": [
        "## Comparing metric history - Baseline versus Weighted"
      ],
      "metadata": {
        "id": "qt5Q5VvrpAAf"
      }
    },
    {
      "cell_type": "code",
      "source": [
        "plot_metrics(weighted_history)"
      ],
      "metadata": {
        "colab": {
          "base_uri": "https://localhost:8080/",
          "height": 455
        },
        "id": "1X-nyU-8oo9u",
        "outputId": "708a48cc-6ce9-45c6-e017-c281fb94f913"
      },
      "execution_count": 36,
      "outputs": [
        {
          "output_type": "display_data",
          "data": {
            "text/plain": [
              "<Figure size 640x480 with 4 Axes>"
            ],
            "image/png": "[encoded data removed]"
          },
          "metadata": {}
        }
      ]
    },
    {
      "cell_type": "code",
      "source": [
        "plot_metrics(baseline_history)"
      ],
      "metadata": {
        "colab": {
          "base_uri": "https://localhost:8080/",
          "height": 455
        },
        "id": "IbjRQ4Lfo7cS",
        "outputId": "2e40d36f-ecc0-4eb4-f66b-a014565674a7"
      },
      "execution_count": 37,
      "outputs": [
        {
          "output_type": "display_data",
          "data": {
            "text/plain": [
              "<Figure size 640x480 with 4 Axes>"
            ],
            "image/png": "[encoded data removed]"
          },
          "metadata": {}
        }
      ]
    },
    {
      "cell_type": "markdown",
      "source": [
        "## Evaluate metrics"
      ],
      "metadata": {
        "id": "JU77KPaKpxOm"
      }
    },
    {
      "cell_type": "code",
      "source": [
        "train_predictions_weighted = weighted_model.predict(train_features, batch_size=BATCH_SIZE)\n",
        "test_predictions_weighted = weighted_model.predict(test_features, batch_size=BATCH_SIZE)"
      ],
      "metadata": {
        "colab": {
          "base_uri": "https://localhost:8080/"
        },
        "id": "AYQAejI7p103",
        "outputId": "102e1377-ae4e-43da-f390-55bbd6bec577"
      },
      "execution_count": 38,
      "outputs": [
        {
          "output_type": "stream",
          "name": "stdout",
          "text": [
            "\u001b[1m828/828\u001b[0m \u001b[32m━━━━━━━━━━━━━━━━━━━━\u001b[0m\u001b[37m\u001b[0m \u001b[1m1s\u001b[0m 827us/step\n",
            "\u001b[1m259/259\u001b[0m \u001b[32m━━━━━━━━━━━━━━━━━━━━\u001b[0m\u001b[37m\u001b[0m \u001b[1m0s\u001b[0m 837us/step\n"
          ]
        }
      ]
    },
    {
      "cell_type": "code",
      "source": [
        "weighted_results = weighted_model.evaluate(test_features, test_labels,\n",
        "                                           batch_size=BATCH_SIZE, verbose=0)\n",
        "for name, value in zip(weighted_model.metrics_names, weighted_results):\n",
        "  print(name, ': ', value)\n",
        "print()\n",
        "\n",
        "plot_cm(test_labels, test_predictions_weighted)"
      ],
      "metadata": {
        "colab": {
          "base_uri": "https://localhost:8080/",
          "height": 542
        },
        "id": "oOhZfRULqpm8",
        "outputId": "dfdd9627-3d69-40c6-c15f-fb0220a256f0"
      },
      "execution_count": 39,
      "outputs": [
        {
          "output_type": "stream",
          "name": "stdout",
          "text": [
            "loss :  0.18472138047218323\n",
            "compile_metrics :  0.18472138047218323\n",
            "\n"
          ]
        },
        {
          "output_type": "display_data",
          "data": {
            "text/plain": [
              "<Figure size 500x500 with 2 Axes>"
            ],
            "image/png": "[encoded data removed]"
          },
          "metadata": {}
        }
      ]
    },
    {
      "cell_type": "code",
      "source": [
        "f1 = f1_score(test_labels, test_predictions_weighted > 0.5)\n",
        "print(f'F1 Score: {f1}')"
      ],
      "metadata": {
        "colab": {
          "base_uri": "https://localhost:8080/"
        },
        "id": "29j8ixq5QGVd",
        "outputId": "71d518c6-37f0-4b1b-9318-51133e1ddfff"
      },
      "execution_count": 40,
      "outputs": [
        {
          "output_type": "stream",
          "name": "stdout",
          "text": [
            "F1 Score: 0.16297346044833805\n"
          ]
        }
      ]
    },
    {
      "cell_type": "code",
      "execution_count": null,
      "metadata": {
        "id": "XM5HtAZuNrrN"
      },
      "outputs": [],
      "source": [
        "# saving the file\n",
        "import pickle\n",
        "file_path = '/content/drive/MyDrive/Documents/Data Career/fraud_classification/fraud_class_tf.pkl'\n",
        "\n",
        "with open(file_path, \"wb\") as f:\n",
        "    pickle.dump(model, f)"
      ]
    },
    {
      "cell_type": "code",
      "source": [],
      "metadata": {
        "id": "lNTbSN_x8oGI"
      },
      "execution_count": null,
      "outputs": []
    }
  ],
  "metadata": {
    "colab": {
      "provenance": [],
      "mount_file_id": "15btsJkvhspBfdtWfosIXV7QR0hRb-fc2",
      "authorship_tag": "ABX9TyM+YyYUiSjRrCpaSF4SQT1b",
      "include_colab_link": true
    },
    "kernelspec": {
      "display_name": "Python 3",
      "name": "python3"
    },
    "language_info": {
      "name": "python"
    }
  },
  "nbformat": 4,
  "nbformat_minor": 0
}