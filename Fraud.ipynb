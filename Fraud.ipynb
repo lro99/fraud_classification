{
  "cells": [
    {
      "cell_type": "markdown",
      "metadata": {
        "id": "view-in-github",
        "colab_type": "text"
      },
      "source": [
        "<a href=\"https://colab.research.google.com/github/lro99/fraud_classification/blob/main/Fraud.ipynb\" target=\"_parent\"><img src=\"https://colab.research.google.com/assets/colab-badge.svg\" alt=\"Open In Colab\"/></a>"
      ]
    },
    {
      "cell_type": "code",
      "source": [
        "!pip install imbalanced-learn"
      ],
      "metadata": {
        "colab": {
          "base_uri": "https://localhost:8080/"
        },
        "id": "fB9nq-b0SkTo",
        "outputId": "4cb1c260-8f0d-452b-dabe-3168eb42ab5c"
      },
      "execution_count": null,
      "outputs": [
        {
          "output_type": "stream",
          "name": "stdout",
          "text": [
            "Requirement already satisfied: imbalanced-learn in /usr/local/lib/python3.11/dist-packages (0.13.0)\n",
            "Requirement already satisfied: numpy<3,>=1.24.3 in /usr/local/lib/python3.11/dist-packages (from imbalanced-learn) (2.0.2)\n",
            "Requirement already satisfied: scipy<2,>=1.10.1 in /usr/local/lib/python3.11/dist-packages (from imbalanced-learn) (1.14.1)\n",
            "Requirement already satisfied: scikit-learn<2,>=1.3.2 in /usr/local/lib/python3.11/dist-packages (from imbalanced-learn) (1.6.1)\n",
            "Requirement already satisfied: sklearn-compat<1,>=0.1 in /usr/local/lib/python3.11/dist-packages (from imbalanced-learn) (0.1.3)\n",
            "Requirement already satisfied: joblib<2,>=1.1.1 in /usr/local/lib/python3.11/dist-packages (from imbalanced-learn) (1.4.2)\n",
            "Requirement already satisfied: threadpoolctl<4,>=2.0.0 in /usr/local/lib/python3.11/dist-packages (from imbalanced-learn) (3.6.0)\n"
          ]
        }
      ]
    },
    {
      "cell_type": "code",
      "execution_count": 45,
      "metadata": {
        "id": "U8fZwC_f6jTs"
      },
      "outputs": [],
      "source": [
        "import pandas as pd\n",
        "import numpy as np\n",
        "import random\n",
        "import matplotlib.pyplot as plt\n",
        "import seaborn as sns\n",
        "import os\n",
        "from sklearn.linear_model import LogisticRegression\n",
        "from sklearn.model_selection import train_test_split, cross_val_score, StratifiedKFold\n",
        "from sklearn.preprocessing import LabelEncoder, OneHotEncoder, StandardScaler\n",
        "from sklearn.metrics import accuracy_score, confusion_matrix\n",
        "from sklearn.ensemble import RandomForestClassifier\n",
        "from sklearn.compose import ColumnTransformer\n",
        "from sklearn.pipeline import Pipeline\n",
        "from imblearn.under_sampling import RandomUnderSampler\n",
        "# from google.colab import drive\n",
        "\n",
        "import tensorflow as tf\n",
        "from tensorflow import keras\n",
        "random.seed(42)"
      ]
    },
    {
      "cell_type": "code",
      "execution_count": 2,
      "metadata": {
        "id": "buObYEappVrO"
      },
      "outputs": [],
      "source": [
        "# drive.mount('/content/drive')"
      ]
    },
    {
      "cell_type": "code",
      "execution_count": 2,
      "metadata": {
        "id": "PYpjsrR48DUQ"
      },
      "outputs": [],
      "source": [
        "train = pd.read_parquet('/content/drive/MyDrive/Documents/Data Career/fraud_classification/train-00000-of-00002.parquet')\n",
        "train.to_csv('fraud0.csv')\n",
        "\n",
        "train1 = pd.read_parquet('/content/drive/MyDrive/Documents/Data Career/fraud_classification/train-00001-of-00002.parquet')\n",
        "train1.to_csv('fraud1.csv')"
      ]
    },
    {
      "cell_type": "code",
      "execution_count": 3,
      "metadata": {
        "id": "_APbP9498JBK"
      },
      "outputs": [],
      "source": [
        "# train1.head()"
      ]
    },
    {
      "cell_type": "code",
      "execution_count": 4,
      "metadata": {
        "id": "84PpWmdE96Tn"
      },
      "outputs": [],
      "source": [
        "# train.head()"
      ]
    },
    {
      "cell_type": "code",
      "execution_count": 5,
      "metadata": {
        "colab": {
          "base_uri": "https://localhost:8080/",
          "height": 399
        },
        "id": "oPJgJoQ0_gAp",
        "outputId": "022e14cb-e2cd-46b5-e7d8-0c1b3f8727af"
      },
      "outputs": [
        {
          "output_type": "execute_result",
          "data": {
            "text/plain": [
              "           ssn            cc_num    first   last gender      city state  \\\n",
              "0  367-85-9826  4361337605230458  Kristie  Davis      F  Chandler    OK   \n",
              "1  367-85-9826  4361337605230458  Kristie  Davis      F  Chandler    OK   \n",
              "2  367-85-9826  4361337605230458  Kristie  Davis      F  Chandler    OK   \n",
              "3  367-85-9826  4361337605230458  Kristie  Davis      F  Chandler    OK   \n",
              "4  367-85-9826  4361337605230458  Kristie  Davis      F  Chandler    OK   \n",
              "\n",
              "     zip  city_pop                     job         dob      acct_num  \\\n",
              "0  74834      7590  Chief Strategy Officer  1987-06-12  349734538563   \n",
              "1  74834      7590  Chief Strategy Officer  1987-06-12  349734538563   \n",
              "2  74834      7590  Chief Strategy Officer  1987-06-12  349734538563   \n",
              "3  74834      7590  Chief Strategy Officer  1987-06-12  349734538563   \n",
              "4  74834      7590  Chief Strategy Officer  1987-06-12  349734538563   \n",
              "\n",
              "                          trans_num  trans_date trans_time   unix_time  \\\n",
              "0  c036244703adb9d5392f4027d9d4b38d  2021-07-31   02:30:01  1627678801   \n",
              "1  42f000b0b3b0ef534e5b8ef9ec1db13a  2021-08-01   22:37:41  1627837661   \n",
              "2  543037b1baf088961e58d00b705f4bcc  2021-08-01   23:02:09  1627839129   \n",
              "3  00a4e08643edebf9277c2967676f6a26  2021-08-01   22:27:24  1627837044   \n",
              "4  492c4412815306718f686fc5b459a285  2021-12-02   02:28:51  1638392331   \n",
              "\n",
              "         category     amt  is_fraud                merchant  \n",
              "0     grocery_pos  337.54         1           fraud_Kovacek  \n",
              "1   personal_care   21.13         1           fraud_Bradtke  \n",
              "2   personal_care   22.61         1     fraud_Kozey-Kuhlman  \n",
              "3  health_fitness   17.32         1             fraud_Hills  \n",
              "4        misc_pos   75.82         0  fraud_Kemmer-Buckridge  "
            ],
            "text/html": [
              "\n",
              "  <div id=\"df-a859664b-681e-49c9-8af5-9ed45492d01c\" class=\"colab-df-container\">\n",
              "    <div>\n",
              "<style scoped>\n",
              "    .dataframe tbody tr th:only-of-type {\n",
              "        vertical-align: middle;\n",
              "    }\n",
              "\n",
              "    .dataframe tbody tr th {\n",
              "        vertical-align: top;\n",
              "    }\n",
              "\n",
              "    .dataframe thead th {\n",
              "        text-align: right;\n",
              "    }\n",
              "</style>\n",
              "<table border=\"1\" class=\"dataframe\">\n",
              "  <thead>\n",
              "    <tr style=\"text-align: right;\">\n",
              "      <th></th>\n",
              "      <th>ssn</th>\n",
              "      <th>cc_num</th>\n",
              "      <th>first</th>\n",
              "      <th>last</th>\n",
              "      <th>gender</th>\n",
              "      <th>city</th>\n",
              "      <th>state</th>\n",
              "      <th>zip</th>\n",
              "      <th>city_pop</th>\n",
              "      <th>job</th>\n",
              "      <th>dob</th>\n",
              "      <th>acct_num</th>\n",
              "      <th>trans_num</th>\n",
              "      <th>trans_date</th>\n",
              "      <th>trans_time</th>\n",
              "      <th>unix_time</th>\n",
              "      <th>category</th>\n",
              "      <th>amt</th>\n",
              "      <th>is_fraud</th>\n",
              "      <th>merchant</th>\n",
              "    </tr>\n",
              "  </thead>\n",
              "  <tbody>\n",
              "    <tr>\n",
              "      <th>0</th>\n",
              "      <td>367-85-9826</td>\n",
              "      <td>4361337605230458</td>\n",
              "      <td>Kristie</td>\n",
              "      <td>Davis</td>\n",
              "      <td>F</td>\n",
              "      <td>Chandler</td>\n",
              "      <td>OK</td>\n",
              "      <td>74834</td>\n",
              "      <td>7590</td>\n",
              "      <td>Chief Strategy Officer</td>\n",
              "      <td>1987-06-12</td>\n",
              "      <td>349734538563</td>\n",
              "      <td>c036244703adb9d5392f4027d9d4b38d</td>\n",
              "      <td>2021-07-31</td>\n",
              "      <td>02:30:01</td>\n",
              "      <td>1627678801</td>\n",
              "      <td>grocery_pos</td>\n",
              "      <td>337.54</td>\n",
              "      <td>1</td>\n",
              "      <td>fraud_Kovacek</td>\n",
              "    </tr>\n",
              "    <tr>\n",
              "      <th>1</th>\n",
              "      <td>367-85-9826</td>\n",
              "      <td>4361337605230458</td>\n",
              "      <td>Kristie</td>\n",
              "      <td>Davis</td>\n",
              "      <td>F</td>\n",
              "      <td>Chandler</td>\n",
              "      <td>OK</td>\n",
              "      <td>74834</td>\n",
              "      <td>7590</td>\n",
              "      <td>Chief Strategy Officer</td>\n",
              "      <td>1987-06-12</td>\n",
              "      <td>349734538563</td>\n",
              "      <td>42f000b0b3b0ef534e5b8ef9ec1db13a</td>\n",
              "      <td>2021-08-01</td>\n",
              "      <td>22:37:41</td>\n",
              "      <td>1627837661</td>\n",
              "      <td>personal_care</td>\n",
              "      <td>21.13</td>\n",
              "      <td>1</td>\n",
              "      <td>fraud_Bradtke</td>\n",
              "    </tr>\n",
              "    <tr>\n",
              "      <th>2</th>\n",
              "      <td>367-85-9826</td>\n",
              "      <td>4361337605230458</td>\n",
              "      <td>Kristie</td>\n",
              "      <td>Davis</td>\n",
              "      <td>F</td>\n",
              "      <td>Chandler</td>\n",
              "      <td>OK</td>\n",
              "      <td>74834</td>\n",
              "      <td>7590</td>\n",
              "      <td>Chief Strategy Officer</td>\n",
              "      <td>1987-06-12</td>\n",
              "      <td>349734538563</td>\n",
              "      <td>543037b1baf088961e58d00b705f4bcc</td>\n",
              "      <td>2021-08-01</td>\n",
              "      <td>23:02:09</td>\n",
              "      <td>1627839129</td>\n",
              "      <td>personal_care</td>\n",
              "      <td>22.61</td>\n",
              "      <td>1</td>\n",
              "      <td>fraud_Kozey-Kuhlman</td>\n",
              "    </tr>\n",
              "    <tr>\n",
              "      <th>3</th>\n",
              "      <td>367-85-9826</td>\n",
              "      <td>4361337605230458</td>\n",
              "      <td>Kristie</td>\n",
              "      <td>Davis</td>\n",
              "      <td>F</td>\n",
              "      <td>Chandler</td>\n",
              "      <td>OK</td>\n",
              "      <td>74834</td>\n",
              "      <td>7590</td>\n",
              "      <td>Chief Strategy Officer</td>\n",
              "      <td>1987-06-12</td>\n",
              "      <td>349734538563</td>\n",
              "      <td>00a4e08643edebf9277c2967676f6a26</td>\n",
              "      <td>2021-08-01</td>\n",
              "      <td>22:27:24</td>\n",
              "      <td>1627837044</td>\n",
              "      <td>health_fitness</td>\n",
              "      <td>17.32</td>\n",
              "      <td>1</td>\n",
              "      <td>fraud_Hills</td>\n",
              "    </tr>\n",
              "    <tr>\n",
              "      <th>4</th>\n",
              "      <td>367-85-9826</td>\n",
              "      <td>4361337605230458</td>\n",
              "      <td>Kristie</td>\n",
              "      <td>Davis</td>\n",
              "      <td>F</td>\n",
              "      <td>Chandler</td>\n",
              "      <td>OK</td>\n",
              "      <td>74834</td>\n",
              "      <td>7590</td>\n",
              "      <td>Chief Strategy Officer</td>\n",
              "      <td>1987-06-12</td>\n",
              "      <td>349734538563</td>\n",
              "      <td>492c4412815306718f686fc5b459a285</td>\n",
              "      <td>2021-12-02</td>\n",
              "      <td>02:28:51</td>\n",
              "      <td>1638392331</td>\n",
              "      <td>misc_pos</td>\n",
              "      <td>75.82</td>\n",
              "      <td>0</td>\n",
              "      <td>fraud_Kemmer-Buckridge</td>\n",
              "    </tr>\n",
              "  </tbody>\n",
              "</table>\n",
              "</div>\n",
              "    <div class=\"colab-df-buttons\">\n",
              "\n",
              "  <div class=\"colab-df-container\">\n",
              "    <button class=\"colab-df-convert\" onclick=\"convertToInteractive('df-a859664b-681e-49c9-8af5-9ed45492d01c')\"\n",
              "            title=\"Convert this dataframe to an interactive table.\"\n",
              "            style=\"display:none;\">\n",
              "\n",
              "  <svg xmlns=\"http://www.w3.org/2000/svg\" height=\"24px\" viewBox=\"0 -960 960 960\">\n",
              "    <path d=\"M120-120v-720h720v720H120Zm60-500h600v-160H180v160Zm220 220h160v-160H400v160Zm0 220h160v-160H400v160ZM180-400h160v-160H180v160Zm440 0h160v-160H620v160ZM180-180h160v-160H180v160Zm440 0h160v-160H620v160Z\"/>\n",
              "  </svg>\n",
              "    </button>\n",
              "\n",
              "  <style>\n",
              "    .colab-df-container {\n",
              "      display:flex;\n",
              "      gap: 12px;\n",
              "    }\n",
              "\n",
              "    .colab-df-convert {\n",
              "      background-color: #E8F0FE;\n",
              "      border: none;\n",
              "      border-radius: 50%;\n",
              "      cursor: pointer;\n",
              "      display: none;\n",
              "      fill: #1967D2;\n",
              "      height: 32px;\n",
              "      padding: 0 0 0 0;\n",
              "      width: 32px;\n",
              "    }\n",
              "\n",
              "    .colab-df-convert:hover {\n",
              "      background-color: #E2EBFA;\n",
              "      box-shadow: 0px 1px 2px rgba(60, 64, 67, 0.3), 0px 1px 3px 1px rgba(60, 64, 67, 0.15);\n",
              "      fill: #174EA6;\n",
              "    }\n",
              "\n",
              "    .colab-df-buttons div {\n",
              "      margin-bottom: 4px;\n",
              "    }\n",
              "\n",
              "    [theme=dark] .colab-df-convert {\n",
              "      background-color: #3B4455;\n",
              "      fill: #D2E3FC;\n",
              "    }\n",
              "\n",
              "    [theme=dark] .colab-df-convert:hover {\n",
              "      background-color: #434B5C;\n",
              "      box-shadow: 0px 1px 3px 1px rgba(0, 0, 0, 0.15);\n",
              "      filter: drop-shadow(0px 1px 2px rgba(0, 0, 0, 0.3));\n",
              "      fill: #FFFFFF;\n",
              "    }\n",
              "  </style>\n",
              "\n",
              "    <script>\n",
              "      const buttonEl =\n",
              "        document.querySelector('#df-a859664b-681e-49c9-8af5-9ed45492d01c button.colab-df-convert');\n",
              "      buttonEl.style.display =\n",
              "        google.colab.kernel.accessAllowed ? 'block' : 'none';\n",
              "\n",
              "      async function convertToInteractive(key) {\n",
              "        const element = document.querySelector('#df-a859664b-681e-49c9-8af5-9ed45492d01c');\n",
              "        const dataTable =\n",
              "          await google.colab.kernel.invokeFunction('convertToInteractive',\n",
              "                                                    [key], {});\n",
              "        if (!dataTable) return;\n",
              "\n",
              "        const docLinkHtml = 'Like what you see? Visit the ' +\n",
              "          '<a target=\"_blank\" href=https://colab.research.google.com/notebooks/data_table.ipynb>data table notebook</a>'\n",
              "          + ' to learn more about interactive tables.';\n",
              "        element.innerHTML = '';\n",
              "        dataTable['output_type'] = 'display_data';\n",
              "        await google.colab.output.renderOutput(dataTable, element);\n",
              "        const docLink = document.createElement('div');\n",
              "        docLink.innerHTML = docLinkHtml;\n",
              "        element.appendChild(docLink);\n",
              "      }\n",
              "    </script>\n",
              "  </div>\n",
              "\n",
              "\n",
              "<div id=\"df-a91a4b5c-4282-4f8d-bc5f-1b38f3221615\">\n",
              "  <button class=\"colab-df-quickchart\" onclick=\"quickchart('df-a91a4b5c-4282-4f8d-bc5f-1b38f3221615')\"\n",
              "            title=\"Suggest charts\"\n",
              "            style=\"display:none;\">\n",
              "\n",
              "<svg xmlns=\"http://www.w3.org/2000/svg\" height=\"24px\"viewBox=\"0 0 24 24\"\n",
              "     width=\"24px\">\n",
              "    <g>\n",
              "        <path d=\"M19 3H5c-1.1 0-2 .9-2 2v14c0 1.1.9 2 2 2h14c1.1 0 2-.9 2-2V5c0-1.1-.9-2-2-2zM9 17H7v-7h2v7zm4 0h-2V7h2v10zm4 0h-2v-4h2v4z\"/>\n",
              "    </g>\n",
              "</svg>\n",
              "  </button>\n",
              "\n",
              "<style>\n",
              "  .colab-df-quickchart {\n",
              "      --bg-color: #E8F0FE;\n",
              "      --fill-color: #1967D2;\n",
              "      --hover-bg-color: #E2EBFA;\n",
              "      --hover-fill-color: #174EA6;\n",
              "      --disabled-fill-color: #AAA;\n",
              "      --disabled-bg-color: #DDD;\n",
              "  }\n",
              "\n",
              "  [theme=dark] .colab-df-quickchart {\n",
              "      --bg-color: #3B4455;\n",
              "      --fill-color: #D2E3FC;\n",
              "      --hover-bg-color: #434B5C;\n",
              "      --hover-fill-color: #FFFFFF;\n",
              "      --disabled-bg-color: #3B4455;\n",
              "      --disabled-fill-color: #666;\n",
              "  }\n",
              "\n",
              "  .colab-df-quickchart {\n",
              "    background-color: var(--bg-color);\n",
              "    border: none;\n",
              "    border-radius: 50%;\n",
              "    cursor: pointer;\n",
              "    display: none;\n",
              "    fill: var(--fill-color);\n",
              "    height: 32px;\n",
              "    padding: 0;\n",
              "    width: 32px;\n",
              "  }\n",
              "\n",
              "  .colab-df-quickchart:hover {\n",
              "    background-color: var(--hover-bg-color);\n",
              "    box-shadow: 0 1px 2px rgba(60, 64, 67, 0.3), 0 1px 3px 1px rgba(60, 64, 67, 0.15);\n",
              "    fill: var(--button-hover-fill-color);\n",
              "  }\n",
              "\n",
              "  .colab-df-quickchart-complete:disabled,\n",
              "  .colab-df-quickchart-complete:disabled:hover {\n",
              "    background-color: var(--disabled-bg-color);\n",
              "    fill: var(--disabled-fill-color);\n",
              "    box-shadow: none;\n",
              "  }\n",
              "\n",
              "  .colab-df-spinner {\n",
              "    border: 2px solid var(--fill-color);\n",
              "    border-color: transparent;\n",
              "    border-bottom-color: var(--fill-color);\n",
              "    animation:\n",
              "      spin 1s steps(1) infinite;\n",
              "  }\n",
              "\n",
              "  @keyframes spin {\n",
              "    0% {\n",
              "      border-color: transparent;\n",
              "      border-bottom-color: var(--fill-color);\n",
              "      border-left-color: var(--fill-color);\n",
              "    }\n",
              "    20% {\n",
              "      border-color: transparent;\n",
              "      border-left-color: var(--fill-color);\n",
              "      border-top-color: var(--fill-color);\n",
              "    }\n",
              "    30% {\n",
              "      border-color: transparent;\n",
              "      border-left-color: var(--fill-color);\n",
              "      border-top-color: var(--fill-color);\n",
              "      border-right-color: var(--fill-color);\n",
              "    }\n",
              "    40% {\n",
              "      border-color: transparent;\n",
              "      border-right-color: var(--fill-color);\n",
              "      border-top-color: var(--fill-color);\n",
              "    }\n",
              "    60% {\n",
              "      border-color: transparent;\n",
              "      border-right-color: var(--fill-color);\n",
              "    }\n",
              "    80% {\n",
              "      border-color: transparent;\n",
              "      border-right-color: var(--fill-color);\n",
              "      border-bottom-color: var(--fill-color);\n",
              "    }\n",
              "    90% {\n",
              "      border-color: transparent;\n",
              "      border-bottom-color: var(--fill-color);\n",
              "    }\n",
              "  }\n",
              "</style>\n",
              "\n",
              "  <script>\n",
              "    async function quickchart(key) {\n",
              "      const quickchartButtonEl =\n",
              "        document.querySelector('#' + key + ' button');\n",
              "      quickchartButtonEl.disabled = true;  // To prevent multiple clicks.\n",
              "      quickchartButtonEl.classList.add('colab-df-spinner');\n",
              "      try {\n",
              "        const charts = await google.colab.kernel.invokeFunction(\n",
              "            'suggestCharts', [key], {});\n",
              "      } catch (error) {\n",
              "        console.error('Error during call to suggestCharts:', error);\n",
              "      }\n",
              "      quickchartButtonEl.classList.remove('colab-df-spinner');\n",
              "      quickchartButtonEl.classList.add('colab-df-quickchart-complete');\n",
              "    }\n",
              "    (() => {\n",
              "      let quickchartButtonEl =\n",
              "        document.querySelector('#df-a91a4b5c-4282-4f8d-bc5f-1b38f3221615 button');\n",
              "      quickchartButtonEl.style.display =\n",
              "        google.colab.kernel.accessAllowed ? 'block' : 'none';\n",
              "    })();\n",
              "  </script>\n",
              "</div>\n",
              "\n",
              "    </div>\n",
              "  </div>\n"
            ],
            "application/vnd.google.colaboratory.intrinsic+json": {
              "type": "dataframe",
              "variable_name": "train_df"
            }
          },
          "metadata": {},
          "execution_count": 5
        }
      ],
      "source": [
        "train_df = pd.concat([train, train1], ignore_index=True)\n",
        "\n",
        "# fraction = 0.55\n",
        "# train_df = train_df_unsampled.sample(frac=fraction, random_state=42)\n",
        "\n",
        "train_df.head()"
      ]
    },
    {
      "cell_type": "markdown",
      "source": [
        "Class Label Imbalance"
      ],
      "metadata": {
        "id": "3CePUCHGHn1x"
      }
    },
    {
      "cell_type": "code",
      "source": [
        "neg, pos = train_df['is_fraud'].value_counts()\n",
        "total = neg + pos\n",
        "print('Examples:\\n    Total: {}\\n    Positive: {} ({:.2f}% of total)\\n'.format(\n",
        "    total, pos, 100 * pos / total))"
      ],
      "metadata": {
        "colab": {
          "base_uri": "https://localhost:8080/"
        },
        "id": "gPhSj7jJHVvc",
        "outputId": "cc5f83a5-b728-4a5e-9c56-065907e8e303"
      },
      "execution_count": 6,
      "outputs": [
        {
          "output_type": "stream",
          "name": "stdout",
          "text": [
            "Examples:\n",
            "    Total: 2646694\n",
            "    Positive: 9422 (0.36% of total)\n",
            "\n"
          ]
        }
      ]
    },
    {
      "cell_type": "code",
      "source": [
        "new_train_df, test_df = train_test_split(train_df, test_size=0.2, random_state=42)\n",
        "new_train_df, val_df = train_test_split(new_train_df, test_size=0.2, random_state=42)\n",
        "\n",
        "train_labels = np.array(new_train_df.pop('is_fraud')).reshape(-1,1)\n",
        "val_labels = np.array(val_df.pop('is_fraud')).reshape(-1,1)\n",
        "test_labels = np.array(test_df.pop('is_fraud')).reshape(-1,1)\n",
        "\n",
        "print(train_labels.shape, val_labels.shape, test_labels.shape)"
      ],
      "metadata": {
        "colab": {
          "base_uri": "https://localhost:8080/"
        },
        "id": "npR64M7uH23b",
        "outputId": "45ba8067-e2d8-4911-fd9d-fd728c080916"
      },
      "execution_count": 7,
      "outputs": [
        {
          "output_type": "stream",
          "name": "stdout",
          "text": [
            "(1693884, 1) (423471, 1) (529339, 1)\n"
          ]
        }
      ]
    },
    {
      "cell_type": "code",
      "source": [
        "# train_df.dtypes"
      ],
      "metadata": {
        "id": "6AaAgQTTaxTG"
      },
      "execution_count": 13,
      "outputs": []
    },
    {
      "cell_type": "code",
      "source": [
        "# encoding\n",
        "\n",
        "# ssn: drop dash, convert to int\n",
        "# first: drop\n",
        "# last: drop\n",
        "# gender: onehot encode\n",
        "# city & state: concatenate\n",
        "# job: label encode\n",
        "# dob: drop dash, convert to int\n",
        "# transnum: potentially drop\n",
        "# transdate: drop\n",
        "# transtime: drop\n",
        "# category: label encode\n",
        "# merchant: label encode"
      ],
      "metadata": {
        "id": "bXltsR3zYYus"
      },
      "execution_count": 14,
      "outputs": []
    },
    {
      "cell_type": "code",
      "source": [
        "# conversions\n",
        "train_df['ssn'] = train_df['ssn'].str.replace('-', '').astype(int)\n",
        "train_df['dob'] = train_df['dob'].str.replace('-', '').astype(int)\n",
        "\n",
        "train_df['location'] = train_df['city'] + ', ' + train_df['state']\n",
        "\n",
        "# onehot encode (gender)\n",
        "onehot = OneHotEncoder(sparse_output=False, handle_unknown='ignore')\n",
        "onehot.fit(train_df[['gender']])\n",
        "\n",
        "feature_names = onehot.get_feature_names_out(['gender'])\n",
        "gender_encoded = pd.DataFrame(onehot.transform(train_df[['gender']]), columns=feature_names)\n",
        "\n",
        "# label encode (job, category, merchant)\n",
        "encode_df = train_df[['job', 'category', 'merchant', 'location']]\n",
        "encoder = LabelEncoder()\n",
        "for col in encode_df.columns:\n",
        "    encode_df[col] = encoder.fit_transform(encode_df[col])\n",
        "\n",
        "# drop unneeded columns\n",
        "train_df = train_df.drop(['job', 'category', 'merchant', 'first', 'last', 'trans_num', 'trans_date', 'trans_time', 'city', 'state', 'gender', 'location'], axis=1)\n",
        "train_df.head()\n"
      ],
      "metadata": {
        "colab": {
          "base_uri": "https://localhost:8080/",
          "height": 664
        },
        "id": "_CUDQdalaC1J",
        "outputId": "6bc33419-cd3d-4e58-8c3b-5dd362304af8"
      },
      "execution_count": 8,
      "outputs": [
        {
          "output_type": "stream",
          "name": "stderr",
          "text": [
            "<ipython-input-8-2f29263f5388>:18: SettingWithCopyWarning: \n",
            "A value is trying to be set on a copy of a slice from a DataFrame.\n",
            "Try using .loc[row_indexer,col_indexer] = value instead\n",
            "\n",
            "See the caveats in the documentation: https://pandas.pydata.org/pandas-docs/stable/user_guide/indexing.html#returning-a-view-versus-a-copy\n",
            "  encode_df[col] = encoder.fit_transform(encode_df[col])\n",
            "<ipython-input-8-2f29263f5388>:18: SettingWithCopyWarning: \n",
            "A value is trying to be set on a copy of a slice from a DataFrame.\n",
            "Try using .loc[row_indexer,col_indexer] = value instead\n",
            "\n",
            "See the caveats in the documentation: https://pandas.pydata.org/pandas-docs/stable/user_guide/indexing.html#returning-a-view-versus-a-copy\n",
            "  encode_df[col] = encoder.fit_transform(encode_df[col])\n",
            "<ipython-input-8-2f29263f5388>:18: SettingWithCopyWarning: \n",
            "A value is trying to be set on a copy of a slice from a DataFrame.\n",
            "Try using .loc[row_indexer,col_indexer] = value instead\n",
            "\n",
            "See the caveats in the documentation: https://pandas.pydata.org/pandas-docs/stable/user_guide/indexing.html#returning-a-view-versus-a-copy\n",
            "  encode_df[col] = encoder.fit_transform(encode_df[col])\n",
            "<ipython-input-8-2f29263f5388>:18: SettingWithCopyWarning: \n",
            "A value is trying to be set on a copy of a slice from a DataFrame.\n",
            "Try using .loc[row_indexer,col_indexer] = value instead\n",
            "\n",
            "See the caveats in the documentation: https://pandas.pydata.org/pandas-docs/stable/user_guide/indexing.html#returning-a-view-versus-a-copy\n",
            "  encode_df[col] = encoder.fit_transform(encode_df[col])\n"
          ]
        },
        {
          "output_type": "execute_result",
          "data": {
            "text/plain": [
              "         ssn            cc_num    zip  city_pop       dob      acct_num  \\\n",
              "0  367859826  4361337605230458  74834      7590  19870612  349734538563   \n",
              "1  367859826  4361337605230458  74834      7590  19870612  349734538563   \n",
              "2  367859826  4361337605230458  74834      7590  19870612  349734538563   \n",
              "3  367859826  4361337605230458  74834      7590  19870612  349734538563   \n",
              "4  367859826  4361337605230458  74834      7590  19870612  349734538563   \n",
              "\n",
              "    unix_time     amt  is_fraud  \n",
              "0  1627678801  337.54         1  \n",
              "1  1627837661   21.13         1  \n",
              "2  1627839129   22.61         1  \n",
              "3  1627837044   17.32         1  \n",
              "4  1638392331   75.82         0  "
            ],
            "text/html": [
              "\n",
              "  <div id=\"df-518258a0-60cd-481e-a977-55d3d9cc7408\" class=\"colab-df-container\">\n",
              "    <div>\n",
              "<style scoped>\n",
              "    .dataframe tbody tr th:only-of-type {\n",
              "        vertical-align: middle;\n",
              "    }\n",
              "\n",
              "    .dataframe tbody tr th {\n",
              "        vertical-align: top;\n",
              "    }\n",
              "\n",
              "    .dataframe thead th {\n",
              "        text-align: right;\n",
              "    }\n",
              "</style>\n",
              "<table border=\"1\" class=\"dataframe\">\n",
              "  <thead>\n",
              "    <tr style=\"text-align: right;\">\n",
              "      <th></th>\n",
              "      <th>ssn</th>\n",
              "      <th>cc_num</th>\n",
              "      <th>zip</th>\n",
              "      <th>city_pop</th>\n",
              "      <th>dob</th>\n",
              "      <th>acct_num</th>\n",
              "      <th>unix_time</th>\n",
              "      <th>amt</th>\n",
              "      <th>is_fraud</th>\n",
              "    </tr>\n",
              "  </thead>\n",
              "  <tbody>\n",
              "    <tr>\n",
              "      <th>0</th>\n",
              "      <td>367859826</td>\n",
              "      <td>4361337605230458</td>\n",
              "      <td>74834</td>\n",
              "      <td>7590</td>\n",
              "      <td>19870612</td>\n",
              "      <td>349734538563</td>\n",
              "      <td>1627678801</td>\n",
              "      <td>337.54</td>\n",
              "      <td>1</td>\n",
              "    </tr>\n",
              "    <tr>\n",
              "      <th>1</th>\n",
              "      <td>367859826</td>\n",
              "      <td>4361337605230458</td>\n",
              "      <td>74834</td>\n",
              "      <td>7590</td>\n",
              "      <td>19870612</td>\n",
              "      <td>349734538563</td>\n",
              "      <td>1627837661</td>\n",
              "      <td>21.13</td>\n",
              "      <td>1</td>\n",
              "    </tr>\n",
              "    <tr>\n",
              "      <th>2</th>\n",
              "      <td>367859826</td>\n",
              "      <td>4361337605230458</td>\n",
              "      <td>74834</td>\n",
              "      <td>7590</td>\n",
              "      <td>19870612</td>\n",
              "      <td>349734538563</td>\n",
              "      <td>1627839129</td>\n",
              "      <td>22.61</td>\n",
              "      <td>1</td>\n",
              "    </tr>\n",
              "    <tr>\n",
              "      <th>3</th>\n",
              "      <td>367859826</td>\n",
              "      <td>4361337605230458</td>\n",
              "      <td>74834</td>\n",
              "      <td>7590</td>\n",
              "      <td>19870612</td>\n",
              "      <td>349734538563</td>\n",
              "      <td>1627837044</td>\n",
              "      <td>17.32</td>\n",
              "      <td>1</td>\n",
              "    </tr>\n",
              "    <tr>\n",
              "      <th>4</th>\n",
              "      <td>367859826</td>\n",
              "      <td>4361337605230458</td>\n",
              "      <td>74834</td>\n",
              "      <td>7590</td>\n",
              "      <td>19870612</td>\n",
              "      <td>349734538563</td>\n",
              "      <td>1638392331</td>\n",
              "      <td>75.82</td>\n",
              "      <td>0</td>\n",
              "    </tr>\n",
              "  </tbody>\n",
              "</table>\n",
              "</div>\n",
              "    <div class=\"colab-df-buttons\">\n",
              "\n",
              "  <div class=\"colab-df-container\">\n",
              "    <button class=\"colab-df-convert\" onclick=\"convertToInteractive('df-518258a0-60cd-481e-a977-55d3d9cc7408')\"\n",
              "            title=\"Convert this dataframe to an interactive table.\"\n",
              "            style=\"display:none;\">\n",
              "\n",
              "  <svg xmlns=\"http://www.w3.org/2000/svg\" height=\"24px\" viewBox=\"0 -960 960 960\">\n",
              "    <path d=\"M120-120v-720h720v720H120Zm60-500h600v-160H180v160Zm220 220h160v-160H400v160Zm0 220h160v-160H400v160ZM180-400h160v-160H180v160Zm440 0h160v-160H620v160ZM180-180h160v-160H180v160Zm440 0h160v-160H620v160Z\"/>\n",
              "  </svg>\n",
              "    </button>\n",
              "\n",
              "  <style>\n",
              "    .colab-df-container {\n",
              "      display:flex;\n",
              "      gap: 12px;\n",
              "    }\n",
              "\n",
              "    .colab-df-convert {\n",
              "      background-color: #E8F0FE;\n",
              "      border: none;\n",
              "      border-radius: 50%;\n",
              "      cursor: pointer;\n",
              "      display: none;\n",
              "      fill: #1967D2;\n",
              "      height: 32px;\n",
              "      padding: 0 0 0 0;\n",
              "      width: 32px;\n",
              "    }\n",
              "\n",
              "    .colab-df-convert:hover {\n",
              "      background-color: #E2EBFA;\n",
              "      box-shadow: 0px 1px 2px rgba(60, 64, 67, 0.3), 0px 1px 3px 1px rgba(60, 64, 67, 0.15);\n",
              "      fill: #174EA6;\n",
              "    }\n",
              "\n",
              "    .colab-df-buttons div {\n",
              "      margin-bottom: 4px;\n",
              "    }\n",
              "\n",
              "    [theme=dark] .colab-df-convert {\n",
              "      background-color: #3B4455;\n",
              "      fill: #D2E3FC;\n",
              "    }\n",
              "\n",
              "    [theme=dark] .colab-df-convert:hover {\n",
              "      background-color: #434B5C;\n",
              "      box-shadow: 0px 1px 3px 1px rgba(0, 0, 0, 0.15);\n",
              "      filter: drop-shadow(0px 1px 2px rgba(0, 0, 0, 0.3));\n",
              "      fill: #FFFFFF;\n",
              "    }\n",
              "  </style>\n",
              "\n",
              "    <script>\n",
              "      const buttonEl =\n",
              "        document.querySelector('#df-518258a0-60cd-481e-a977-55d3d9cc7408 button.colab-df-convert');\n",
              "      buttonEl.style.display =\n",
              "        google.colab.kernel.accessAllowed ? 'block' : 'none';\n",
              "\n",
              "      async function convertToInteractive(key) {\n",
              "        const element = document.querySelector('#df-518258a0-60cd-481e-a977-55d3d9cc7408');\n",
              "        const dataTable =\n",
              "          await google.colab.kernel.invokeFunction('convertToInteractive',\n",
              "                                                    [key], {});\n",
              "        if (!dataTable) return;\n",
              "\n",
              "        const docLinkHtml = 'Like what you see? Visit the ' +\n",
              "          '<a target=\"_blank\" href=https://colab.research.google.com/notebooks/data_table.ipynb>data table notebook</a>'\n",
              "          + ' to learn more about interactive tables.';\n",
              "        element.innerHTML = '';\n",
              "        dataTable['output_type'] = 'display_data';\n",
              "        await google.colab.output.renderOutput(dataTable, element);\n",
              "        const docLink = document.createElement('div');\n",
              "        docLink.innerHTML = docLinkHtml;\n",
              "        element.appendChild(docLink);\n",
              "      }\n",
              "    </script>\n",
              "  </div>\n",
              "\n",
              "\n",
              "<div id=\"df-0eb1fd91-6c94-4354-ac4e-647d2685b587\">\n",
              "  <button class=\"colab-df-quickchart\" onclick=\"quickchart('df-0eb1fd91-6c94-4354-ac4e-647d2685b587')\"\n",
              "            title=\"Suggest charts\"\n",
              "            style=\"display:none;\">\n",
              "\n",
              "<svg xmlns=\"http://www.w3.org/2000/svg\" height=\"24px\"viewBox=\"0 0 24 24\"\n",
              "     width=\"24px\">\n",
              "    <g>\n",
              "        <path d=\"M19 3H5c-1.1 0-2 .9-2 2v14c0 1.1.9 2 2 2h14c1.1 0 2-.9 2-2V5c0-1.1-.9-2-2-2zM9 17H7v-7h2v7zm4 0h-2V7h2v10zm4 0h-2v-4h2v4z\"/>\n",
              "    </g>\n",
              "</svg>\n",
              "  </button>\n",
              "\n",
              "<style>\n",
              "  .colab-df-quickchart {\n",
              "      --bg-color: #E8F0FE;\n",
              "      --fill-color: #1967D2;\n",
              "      --hover-bg-color: #E2EBFA;\n",
              "      --hover-fill-color: #174EA6;\n",
              "      --disabled-fill-color: #AAA;\n",
              "      --disabled-bg-color: #DDD;\n",
              "  }\n",
              "\n",
              "  [theme=dark] .colab-df-quickchart {\n",
              "      --bg-color: #3B4455;\n",
              "      --fill-color: #D2E3FC;\n",
              "      --hover-bg-color: #434B5C;\n",
              "      --hover-fill-color: #FFFFFF;\n",
              "      --disabled-bg-color: #3B4455;\n",
              "      --disabled-fill-color: #666;\n",
              "  }\n",
              "\n",
              "  .colab-df-quickchart {\n",
              "    background-color: var(--bg-color);\n",
              "    border: none;\n",
              "    border-radius: 50%;\n",
              "    cursor: pointer;\n",
              "    display: none;\n",
              "    fill: var(--fill-color);\n",
              "    height: 32px;\n",
              "    padding: 0;\n",
              "    width: 32px;\n",
              "  }\n",
              "\n",
              "  .colab-df-quickchart:hover {\n",
              "    background-color: var(--hover-bg-color);\n",
              "    box-shadow: 0 1px 2px rgba(60, 64, 67, 0.3), 0 1px 3px 1px rgba(60, 64, 67, 0.15);\n",
              "    fill: var(--button-hover-fill-color);\n",
              "  }\n",
              "\n",
              "  .colab-df-quickchart-complete:disabled,\n",
              "  .colab-df-quickchart-complete:disabled:hover {\n",
              "    background-color: var(--disabled-bg-color);\n",
              "    fill: var(--disabled-fill-color);\n",
              "    box-shadow: none;\n",
              "  }\n",
              "\n",
              "  .colab-df-spinner {\n",
              "    border: 2px solid var(--fill-color);\n",
              "    border-color: transparent;\n",
              "    border-bottom-color: var(--fill-color);\n",
              "    animation:\n",
              "      spin 1s steps(1) infinite;\n",
              "  }\n",
              "\n",
              "  @keyframes spin {\n",
              "    0% {\n",
              "      border-color: transparent;\n",
              "      border-bottom-color: var(--fill-color);\n",
              "      border-left-color: var(--fill-color);\n",
              "    }\n",
              "    20% {\n",
              "      border-color: transparent;\n",
              "      border-left-color: var(--fill-color);\n",
              "      border-top-color: var(--fill-color);\n",
              "    }\n",
              "    30% {\n",
              "      border-color: transparent;\n",
              "      border-left-color: var(--fill-color);\n",
              "      border-top-color: var(--fill-color);\n",
              "      border-right-color: var(--fill-color);\n",
              "    }\n",
              "    40% {\n",
              "      border-color: transparent;\n",
              "      border-right-color: var(--fill-color);\n",
              "      border-top-color: var(--fill-color);\n",
              "    }\n",
              "    60% {\n",
              "      border-color: transparent;\n",
              "      border-right-color: var(--fill-color);\n",
              "    }\n",
              "    80% {\n",
              "      border-color: transparent;\n",
              "      border-right-color: var(--fill-color);\n",
              "      border-bottom-color: var(--fill-color);\n",
              "    }\n",
              "    90% {\n",
              "      border-color: transparent;\n",
              "      border-bottom-color: var(--fill-color);\n",
              "    }\n",
              "  }\n",
              "</style>\n",
              "\n",
              "  <script>\n",
              "    async function quickchart(key) {\n",
              "      const quickchartButtonEl =\n",
              "        document.querySelector('#' + key + ' button');\n",
              "      quickchartButtonEl.disabled = true;  // To prevent multiple clicks.\n",
              "      quickchartButtonEl.classList.add('colab-df-spinner');\n",
              "      try {\n",
              "        const charts = await google.colab.kernel.invokeFunction(\n",
              "            'suggestCharts', [key], {});\n",
              "      } catch (error) {\n",
              "        console.error('Error during call to suggestCharts:', error);\n",
              "      }\n",
              "      quickchartButtonEl.classList.remove('colab-df-spinner');\n",
              "      quickchartButtonEl.classList.add('colab-df-quickchart-complete');\n",
              "    }\n",
              "    (() => {\n",
              "      let quickchartButtonEl =\n",
              "        document.querySelector('#df-0eb1fd91-6c94-4354-ac4e-647d2685b587 button');\n",
              "      quickchartButtonEl.style.display =\n",
              "        google.colab.kernel.accessAllowed ? 'block' : 'none';\n",
              "    })();\n",
              "  </script>\n",
              "</div>\n",
              "\n",
              "    </div>\n",
              "  </div>\n"
            ],
            "application/vnd.google.colaboratory.intrinsic+json": {
              "type": "dataframe",
              "variable_name": "train_df"
            }
          },
          "metadata": {},
          "execution_count": 8
        }
      ]
    },
    {
      "cell_type": "code",
      "source": [
        "final_df = pd.concat([train_df, gender_encoded, encode_df], axis=1)\n",
        "final_df.head()"
      ],
      "metadata": {
        "colab": {
          "base_uri": "https://localhost:8080/",
          "height": 226
        },
        "id": "4-nFiyd2kIUv",
        "outputId": "a3f609c3-85ed-420e-f383-c3b93a9747a1"
      },
      "execution_count": 9,
      "outputs": [
        {
          "output_type": "execute_result",
          "data": {
            "text/plain": [
              "         ssn            cc_num    zip  city_pop       dob      acct_num  \\\n",
              "0  367859826  4361337605230458  74834      7590  19870612  349734538563   \n",
              "1  367859826  4361337605230458  74834      7590  19870612  349734538563   \n",
              "2  367859826  4361337605230458  74834      7590  19870612  349734538563   \n",
              "3  367859826  4361337605230458  74834      7590  19870612  349734538563   \n",
              "4  367859826  4361337605230458  74834      7590  19870612  349734538563   \n",
              "\n",
              "    unix_time     amt  is_fraud  gender_F  gender_M  job  category  merchant  \\\n",
              "0  1627678801  337.54         1       1.0       0.0   72         4       317   \n",
              "1  1627837661   21.13         1       1.0       0.0   72        10        67   \n",
              "2  1627839129   22.61         1       1.0       0.0   72        10       320   \n",
              "3  1627837044   17.32         1       1.0       0.0   72         5       238   \n",
              "4  1638392331   75.82         0       1.0       0.0   72         9       283   \n",
              "\n",
              "   location  \n",
              "0       116  \n",
              "1       116  \n",
              "2       116  \n",
              "3       116  \n",
              "4       116  "
            ],
            "text/html": [
              "\n",
              "  <div id=\"df-9b7f40fd-21a1-46e5-85f1-dbf7ec8fbc16\" class=\"colab-df-container\">\n",
              "    <div>\n",
              "<style scoped>\n",
              "    .dataframe tbody tr th:only-of-type {\n",
              "        vertical-align: middle;\n",
              "    }\n",
              "\n",
              "    .dataframe tbody tr th {\n",
              "        vertical-align: top;\n",
              "    }\n",
              "\n",
              "    .dataframe thead th {\n",
              "        text-align: right;\n",
              "    }\n",
              "</style>\n",
              "<table border=\"1\" class=\"dataframe\">\n",
              "  <thead>\n",
              "    <tr style=\"text-align: right;\">\n",
              "      <th></th>\n",
              "      <th>ssn</th>\n",
              "      <th>cc_num</th>\n",
              "      <th>zip</th>\n",
              "      <th>city_pop</th>\n",
              "      <th>dob</th>\n",
              "      <th>acct_num</th>\n",
              "      <th>unix_time</th>\n",
              "      <th>amt</th>\n",
              "      <th>is_fraud</th>\n",
              "      <th>gender_F</th>\n",
              "      <th>gender_M</th>\n",
              "      <th>job</th>\n",
              "      <th>category</th>\n",
              "      <th>merchant</th>\n",
              "      <th>location</th>\n",
              "    </tr>\n",
              "  </thead>\n",
              "  <tbody>\n",
              "    <tr>\n",
              "      <th>0</th>\n",
              "      <td>367859826</td>\n",
              "      <td>4361337605230458</td>\n",
              "      <td>74834</td>\n",
              "      <td>7590</td>\n",
              "      <td>19870612</td>\n",
              "      <td>349734538563</td>\n",
              "      <td>1627678801</td>\n",
              "      <td>337.54</td>\n",
              "      <td>1</td>\n",
              "      <td>1.0</td>\n",
              "      <td>0.0</td>\n",
              "      <td>72</td>\n",
              "      <td>4</td>\n",
              "      <td>317</td>\n",
              "      <td>116</td>\n",
              "    </tr>\n",
              "    <tr>\n",
              "      <th>1</th>\n",
              "      <td>367859826</td>\n",
              "      <td>4361337605230458</td>\n",
              "      <td>74834</td>\n",
              "      <td>7590</td>\n",
              "      <td>19870612</td>\n",
              "      <td>349734538563</td>\n",
              "      <td>1627837661</td>\n",
              "      <td>21.13</td>\n",
              "      <td>1</td>\n",
              "      <td>1.0</td>\n",
              "      <td>0.0</td>\n",
              "      <td>72</td>\n",
              "      <td>10</td>\n",
              "      <td>67</td>\n",
              "      <td>116</td>\n",
              "    </tr>\n",
              "    <tr>\n",
              "      <th>2</th>\n",
              "      <td>367859826</td>\n",
              "      <td>4361337605230458</td>\n",
              "      <td>74834</td>\n",
              "      <td>7590</td>\n",
              "      <td>19870612</td>\n",
              "      <td>349734538563</td>\n",
              "      <td>1627839129</td>\n",
              "      <td>22.61</td>\n",
              "      <td>1</td>\n",
              "      <td>1.0</td>\n",
              "      <td>0.0</td>\n",
              "      <td>72</td>\n",
              "      <td>10</td>\n",
              "      <td>320</td>\n",
              "      <td>116</td>\n",
              "    </tr>\n",
              "    <tr>\n",
              "      <th>3</th>\n",
              "      <td>367859826</td>\n",
              "      <td>4361337605230458</td>\n",
              "      <td>74834</td>\n",
              "      <td>7590</td>\n",
              "      <td>19870612</td>\n",
              "      <td>349734538563</td>\n",
              "      <td>1627837044</td>\n",
              "      <td>17.32</td>\n",
              "      <td>1</td>\n",
              "      <td>1.0</td>\n",
              "      <td>0.0</td>\n",
              "      <td>72</td>\n",
              "      <td>5</td>\n",
              "      <td>238</td>\n",
              "      <td>116</td>\n",
              "    </tr>\n",
              "    <tr>\n",
              "      <th>4</th>\n",
              "      <td>367859826</td>\n",
              "      <td>4361337605230458</td>\n",
              "      <td>74834</td>\n",
              "      <td>7590</td>\n",
              "      <td>19870612</td>\n",
              "      <td>349734538563</td>\n",
              "      <td>1638392331</td>\n",
              "      <td>75.82</td>\n",
              "      <td>0</td>\n",
              "      <td>1.0</td>\n",
              "      <td>0.0</td>\n",
              "      <td>72</td>\n",
              "      <td>9</td>\n",
              "      <td>283</td>\n",
              "      <td>116</td>\n",
              "    </tr>\n",
              "  </tbody>\n",
              "</table>\n",
              "</div>\n",
              "    <div class=\"colab-df-buttons\">\n",
              "\n",
              "  <div class=\"colab-df-container\">\n",
              "    <button class=\"colab-df-convert\" onclick=\"convertToInteractive('df-9b7f40fd-21a1-46e5-85f1-dbf7ec8fbc16')\"\n",
              "            title=\"Convert this dataframe to an interactive table.\"\n",
              "            style=\"display:none;\">\n",
              "\n",
              "  <svg xmlns=\"http://www.w3.org/2000/svg\" height=\"24px\" viewBox=\"0 -960 960 960\">\n",
              "    <path d=\"M120-120v-720h720v720H120Zm60-500h600v-160H180v160Zm220 220h160v-160H400v160Zm0 220h160v-160H400v160ZM180-400h160v-160H180v160Zm440 0h160v-160H620v160ZM180-180h160v-160H180v160Zm440 0h160v-160H620v160Z\"/>\n",
              "  </svg>\n",
              "    </button>\n",
              "\n",
              "  <style>\n",
              "    .colab-df-container {\n",
              "      display:flex;\n",
              "      gap: 12px;\n",
              "    }\n",
              "\n",
              "    .colab-df-convert {\n",
              "      background-color: #E8F0FE;\n",
              "      border: none;\n",
              "      border-radius: 50%;\n",
              "      cursor: pointer;\n",
              "      display: none;\n",
              "      fill: #1967D2;\n",
              "      height: 32px;\n",
              "      padding: 0 0 0 0;\n",
              "      width: 32px;\n",
              "    }\n",
              "\n",
              "    .colab-df-convert:hover {\n",
              "      background-color: #E2EBFA;\n",
              "      box-shadow: 0px 1px 2px rgba(60, 64, 67, 0.3), 0px 1px 3px 1px rgba(60, 64, 67, 0.15);\n",
              "      fill: #174EA6;\n",
              "    }\n",
              "\n",
              "    .colab-df-buttons div {\n",
              "      margin-bottom: 4px;\n",
              "    }\n",
              "\n",
              "    [theme=dark] .colab-df-convert {\n",
              "      background-color: #3B4455;\n",
              "      fill: #D2E3FC;\n",
              "    }\n",
              "\n",
              "    [theme=dark] .colab-df-convert:hover {\n",
              "      background-color: #434B5C;\n",
              "      box-shadow: 0px 1px 3px 1px rgba(0, 0, 0, 0.15);\n",
              "      filter: drop-shadow(0px 1px 2px rgba(0, 0, 0, 0.3));\n",
              "      fill: #FFFFFF;\n",
              "    }\n",
              "  </style>\n",
              "\n",
              "    <script>\n",
              "      const buttonEl =\n",
              "        document.querySelector('#df-9b7f40fd-21a1-46e5-85f1-dbf7ec8fbc16 button.colab-df-convert');\n",
              "      buttonEl.style.display =\n",
              "        google.colab.kernel.accessAllowed ? 'block' : 'none';\n",
              "\n",
              "      async function convertToInteractive(key) {\n",
              "        const element = document.querySelector('#df-9b7f40fd-21a1-46e5-85f1-dbf7ec8fbc16');\n",
              "        const dataTable =\n",
              "          await google.colab.kernel.invokeFunction('convertToInteractive',\n",
              "                                                    [key], {});\n",
              "        if (!dataTable) return;\n",
              "\n",
              "        const docLinkHtml = 'Like what you see? Visit the ' +\n",
              "          '<a target=\"_blank\" href=https://colab.research.google.com/notebooks/data_table.ipynb>data table notebook</a>'\n",
              "          + ' to learn more about interactive tables.';\n",
              "        element.innerHTML = '';\n",
              "        dataTable['output_type'] = 'display_data';\n",
              "        await google.colab.output.renderOutput(dataTable, element);\n",
              "        const docLink = document.createElement('div');\n",
              "        docLink.innerHTML = docLinkHtml;\n",
              "        element.appendChild(docLink);\n",
              "      }\n",
              "    </script>\n",
              "  </div>\n",
              "\n",
              "\n",
              "<div id=\"df-f967e39c-2900-4b65-b231-6853678c07b8\">\n",
              "  <button class=\"colab-df-quickchart\" onclick=\"quickchart('df-f967e39c-2900-4b65-b231-6853678c07b8')\"\n",
              "            title=\"Suggest charts\"\n",
              "            style=\"display:none;\">\n",
              "\n",
              "<svg xmlns=\"http://www.w3.org/2000/svg\" height=\"24px\"viewBox=\"0 0 24 24\"\n",
              "     width=\"24px\">\n",
              "    <g>\n",
              "        <path d=\"M19 3H5c-1.1 0-2 .9-2 2v14c0 1.1.9 2 2 2h14c1.1 0 2-.9 2-2V5c0-1.1-.9-2-2-2zM9 17H7v-7h2v7zm4 0h-2V7h2v10zm4 0h-2v-4h2v4z\"/>\n",
              "    </g>\n",
              "</svg>\n",
              "  </button>\n",
              "\n",
              "<style>\n",
              "  .colab-df-quickchart {\n",
              "      --bg-color: #E8F0FE;\n",
              "      --fill-color: #1967D2;\n",
              "      --hover-bg-color: #E2EBFA;\n",
              "      --hover-fill-color: #174EA6;\n",
              "      --disabled-fill-color: #AAA;\n",
              "      --disabled-bg-color: #DDD;\n",
              "  }\n",
              "\n",
              "  [theme=dark] .colab-df-quickchart {\n",
              "      --bg-color: #3B4455;\n",
              "      --fill-color: #D2E3FC;\n",
              "      --hover-bg-color: #434B5C;\n",
              "      --hover-fill-color: #FFFFFF;\n",
              "      --disabled-bg-color: #3B4455;\n",
              "      --disabled-fill-color: #666;\n",
              "  }\n",
              "\n",
              "  .colab-df-quickchart {\n",
              "    background-color: var(--bg-color);\n",
              "    border: none;\n",
              "    border-radius: 50%;\n",
              "    cursor: pointer;\n",
              "    display: none;\n",
              "    fill: var(--fill-color);\n",
              "    height: 32px;\n",
              "    padding: 0;\n",
              "    width: 32px;\n",
              "  }\n",
              "\n",
              "  .colab-df-quickchart:hover {\n",
              "    background-color: var(--hover-bg-color);\n",
              "    box-shadow: 0 1px 2px rgba(60, 64, 67, 0.3), 0 1px 3px 1px rgba(60, 64, 67, 0.15);\n",
              "    fill: var(--button-hover-fill-color);\n",
              "  }\n",
              "\n",
              "  .colab-df-quickchart-complete:disabled,\n",
              "  .colab-df-quickchart-complete:disabled:hover {\n",
              "    background-color: var(--disabled-bg-color);\n",
              "    fill: var(--disabled-fill-color);\n",
              "    box-shadow: none;\n",
              "  }\n",
              "\n",
              "  .colab-df-spinner {\n",
              "    border: 2px solid var(--fill-color);\n",
              "    border-color: transparent;\n",
              "    border-bottom-color: var(--fill-color);\n",
              "    animation:\n",
              "      spin 1s steps(1) infinite;\n",
              "  }\n",
              "\n",
              "  @keyframes spin {\n",
              "    0% {\n",
              "      border-color: transparent;\n",
              "      border-bottom-color: var(--fill-color);\n",
              "      border-left-color: var(--fill-color);\n",
              "    }\n",
              "    20% {\n",
              "      border-color: transparent;\n",
              "      border-left-color: var(--fill-color);\n",
              "      border-top-color: var(--fill-color);\n",
              "    }\n",
              "    30% {\n",
              "      border-color: transparent;\n",
              "      border-left-color: var(--fill-color);\n",
              "      border-top-color: var(--fill-color);\n",
              "      border-right-color: var(--fill-color);\n",
              "    }\n",
              "    40% {\n",
              "      border-color: transparent;\n",
              "      border-right-color: var(--fill-color);\n",
              "      border-top-color: var(--fill-color);\n",
              "    }\n",
              "    60% {\n",
              "      border-color: transparent;\n",
              "      border-right-color: var(--fill-color);\n",
              "    }\n",
              "    80% {\n",
              "      border-color: transparent;\n",
              "      border-right-color: var(--fill-color);\n",
              "      border-bottom-color: var(--fill-color);\n",
              "    }\n",
              "    90% {\n",
              "      border-color: transparent;\n",
              "      border-bottom-color: var(--fill-color);\n",
              "    }\n",
              "  }\n",
              "</style>\n",
              "\n",
              "  <script>\n",
              "    async function quickchart(key) {\n",
              "      const quickchartButtonEl =\n",
              "        document.querySelector('#' + key + ' button');\n",
              "      quickchartButtonEl.disabled = true;  // To prevent multiple clicks.\n",
              "      quickchartButtonEl.classList.add('colab-df-spinner');\n",
              "      try {\n",
              "        const charts = await google.colab.kernel.invokeFunction(\n",
              "            'suggestCharts', [key], {});\n",
              "      } catch (error) {\n",
              "        console.error('Error during call to suggestCharts:', error);\n",
              "      }\n",
              "      quickchartButtonEl.classList.remove('colab-df-spinner');\n",
              "      quickchartButtonEl.classList.add('colab-df-quickchart-complete');\n",
              "    }\n",
              "    (() => {\n",
              "      let quickchartButtonEl =\n",
              "        document.querySelector('#df-f967e39c-2900-4b65-b231-6853678c07b8 button');\n",
              "      quickchartButtonEl.style.display =\n",
              "        google.colab.kernel.accessAllowed ? 'block' : 'none';\n",
              "    })();\n",
              "  </script>\n",
              "</div>\n",
              "\n",
              "    </div>\n",
              "  </div>\n"
            ],
            "application/vnd.google.colaboratory.intrinsic+json": {
              "type": "dataframe",
              "variable_name": "final_df"
            }
          },
          "metadata": {},
          "execution_count": 9
        }
      ]
    },
    {
      "cell_type": "code",
      "source": [
        "train_df, test_df = train_test_split(final_df, test_size=0.2, random_state=42)\n",
        "train_df, val_df = train_test_split(train_df, test_size=0.2, random_state=42)\n",
        "\n",
        "train_labels = np.array(train_df.pop('is_fraud')).reshape(-1,1)\n",
        "val_labels = np.array(val_df.pop('is_fraud')).reshape(-1,1)\n",
        "test_labels = np.array(test_df.pop('is_fraud')).reshape(-1,1)\n",
        "\n",
        "train_features = np.array(train_df)\n",
        "val_features = np.array(val_df)\n",
        "test_features = np.array(test_df)\n",
        "\n",
        "print(train_labels.shape, val_labels.shape, test_labels.shape)\n",
        "\n",
        "print(f'Average class probability in train set: {train_labels.mean():.3f}')\n",
        "print(f'Average class probability in val set: {val_labels.mean():.3f}')\n",
        "print(f'Average class probability in test set: {test_labels.mean():.3f}')"
      ],
      "metadata": {
        "colab": {
          "base_uri": "https://localhost:8080/"
        },
        "id": "Bq6404gJMN3A",
        "outputId": "7cc6e987-ec38-4132-8f27-36373bdf6cf4"
      },
      "execution_count": 10,
      "outputs": [
        {
          "output_type": "stream",
          "name": "stdout",
          "text": [
            "(1693884, 1) (423471, 1) (529339, 1)\n",
            "Average class probability in train set: 0.004\n",
            "Average class probability in val set: 0.004\n",
            "Average class probability in test set: 0.004\n"
          ]
        }
      ]
    },
    {
      "cell_type": "code",
      "source": [
        "scaler = StandardScaler()\n",
        "train_features = scaler.fit_transform(train_features)\n",
        "\n",
        "val_features = scaler.transform(val_features)\n",
        "test_features = scaler.transform(test_features)\n",
        "\n",
        "train_features = np.clip(train_features, -5, 5)\n",
        "val_features = np.clip(val_features, -5, 5)\n",
        "test_features = np.clip(test_features, -5, 5)\n",
        "\n",
        "\n",
        "print('Training labels shape:', train_labels.shape)\n",
        "print('Validation labels shape:', val_labels.shape)\n",
        "print('Test labels shape:', test_labels.shape)\n",
        "\n",
        "print('Training features shape:', train_features.shape)\n",
        "print('Validation features shape:', val_features.shape)\n",
        "print('Test features shape:', test_features.shape)"
      ],
      "metadata": {
        "colab": {
          "base_uri": "https://localhost:8080/"
        },
        "id": "kbOyvp0BSn6t",
        "outputId": "0ce0a2cb-aea8-4d17-b3d5-d491db588933"
      },
      "execution_count": 14,
      "outputs": [
        {
          "output_type": "stream",
          "name": "stdout",
          "text": [
            "Training labels shape: (1693884, 1)\n",
            "Validation labels shape: (423471, 1)\n",
            "Test labels shape: (529339, 1)\n",
            "Training features shape: (1693884, 14)\n",
            "Validation features shape: (423471, 14)\n",
            "Test features shape: (529339, 14)\n"
          ]
        }
      ]
    },
    {
      "cell_type": "markdown",
      "source": [
        "## Define model"
      ],
      "metadata": {
        "id": "VqP54D69cKYo"
      }
    },
    {
      "cell_type": "code",
      "source": [
        "METRICS = [\n",
        "      keras.metrics.BinaryCrossentropy(name='cross entropy'),  # same as model's loss\n",
        "      keras.metrics.MeanSquaredError(name='Brier score'),\n",
        "      keras.metrics.TruePositives(name='tp'),\n",
        "      keras.metrics.FalsePositives(name='fp'),\n",
        "      keras.metrics.TrueNegatives(name='tn'),\n",
        "      keras.metrics.FalseNegatives(name='fn'),\n",
        "      keras.metrics.BinaryAccuracy(name='accuracy'),\n",
        "      keras.metrics.Precision(name='precision'),\n",
        "      keras.metrics.Recall(name='recall'),\n",
        "      keras.metrics.AUC(name='auc'),\n",
        "      keras.metrics.AUC(name='prc', curve='PR'), # precision-recall curve\n",
        "]\n",
        "\n",
        "def make_model(metrics=METRICS, output_bias=None):\n",
        "  if output_bias is not None:\n",
        "    output_bias = tf.keras.initializers.Constant(output_bias)\n",
        "  model = keras.Sequential([\n",
        "      keras.layers.Dense(\n",
        "          16, activation='relu',\n",
        "          input_shape=(train_features.shape[-1],)),\n",
        "      keras.layers.Dropout(0.5),\n",
        "      keras.layers.Dense(1, activation='sigmoid',\n",
        "                         bias_initializer=output_bias),\n",
        "  ])\n",
        "\n",
        "  model.compile(\n",
        "      optimizer=keras.optimizers.Adam(learning_rate=1e-3),\n",
        "      loss=keras.losses.BinaryCrossentropy(),\n",
        "      metrics=metrics)\n",
        "\n",
        "  return model"
      ],
      "metadata": {
        "id": "eQHpc26hib75"
      },
      "execution_count": 15,
      "outputs": []
    },
    {
      "cell_type": "markdown",
      "source": [
        "## Baseline Model"
      ],
      "metadata": {
        "id": "vStwHS2BcSFN"
      }
    },
    {
      "cell_type": "code",
      "source": [
        "EPOCHS = 100\n",
        "BATCH_SIZE = 2048\n",
        "\n",
        "def early_stopping():\n",
        " return tf.keras.callbacks.EarlyStopping(\n",
        "    monitor='val_prc',\n",
        "    verbose=1,\n",
        "    patience=10,\n",
        "    mode='max',\n",
        "    restore_best_weights=True)"
      ],
      "metadata": {
        "id": "SqQgifH0cGea"
      },
      "execution_count": 16,
      "outputs": []
    },
    {
      "cell_type": "code",
      "source": [
        "model = make_model()\n",
        "model.summary()"
      ],
      "metadata": {
        "colab": {
          "base_uri": "https://localhost:8080/",
          "height": 281
        },
        "id": "U7ZGRJUKcdUn",
        "outputId": "c411a974-6cf4-4313-c3ef-ae906784f47b"
      },
      "execution_count": 17,
      "outputs": [
        {
          "output_type": "stream",
          "name": "stderr",
          "text": [
            "/usr/local/lib/python3.11/dist-packages/keras/src/layers/core/dense.py:87: UserWarning: Do not pass an `input_shape`/`input_dim` argument to a layer. When using Sequential models, prefer using an `Input(shape)` object as the first layer in the model instead.\n",
            "  super().__init__(activity_regularizer=activity_regularizer, **kwargs)\n"
          ]
        },
        {
          "output_type": "display_data",
          "data": {
            "text/plain": [
              "\u001b[1mModel: \"sequential\"\u001b[0m\n"
            ],
            "text/html": [
              "<pre style=\"white-space:pre;overflow-x:auto;line-height:normal;font-family:Menlo,'DejaVu Sans Mono',consolas,'Courier New',monospace\"><span style=\"font-weight: bold\">Model: \"sequential\"</span>\n",
              "</pre>\n"
            ]
          },
          "metadata": {}
        },
        {
          "output_type": "display_data",
          "data": {
            "text/plain": [
              "┏━━━━━━━━━━━━━━━━━━━━━━━━━━━━━━━━━━━━━━┳━━━━━━━━━━━━━━━━━━━━━━━━━━━━━┳━━━━━━━━━━━━━━━━━┓\n",
              "┃\u001b[1m \u001b[0m\u001b[1mLayer (type)                        \u001b[0m\u001b[1m \u001b[0m┃\u001b[1m \u001b[0m\u001b[1mOutput Shape               \u001b[0m\u001b[1m \u001b[0m┃\u001b[1m \u001b[0m\u001b[1m        Param #\u001b[0m\u001b[1m \u001b[0m┃\n",
              "┡━━━━━━━━━━━━━━━━━━━━━━━━━━━━━━━━━━━━━━╇━━━━━━━━━━━━━━━━━━━━━━━━━━━━━╇━━━━━━━━━━━━━━━━━┩\n",
              "│ dense (\u001b[38;5;33mDense\u001b[0m)                        │ (\u001b[38;5;45mNone\u001b[0m, \u001b[38;5;34m16\u001b[0m)                  │             \u001b[38;5;34m240\u001b[0m │\n",
              "├──────────────────────────────────────┼─────────────────────────────┼─────────────────┤\n",
              "│ dropout (\u001b[38;5;33mDropout\u001b[0m)                    │ (\u001b[38;5;45mNone\u001b[0m, \u001b[38;5;34m16\u001b[0m)                  │               \u001b[38;5;34m0\u001b[0m │\n",
              "├──────────────────────────────────────┼─────────────────────────────┼─────────────────┤\n",
              "│ dense_1 (\u001b[38;5;33mDense\u001b[0m)                      │ (\u001b[38;5;45mNone\u001b[0m, \u001b[38;5;34m1\u001b[0m)                   │              \u001b[38;5;34m17\u001b[0m │\n",
              "└──────────────────────────────────────┴─────────────────────────────┴─────────────────┘\n"
            ],
            "text/html": [
              "<pre style=\"white-space:pre;overflow-x:auto;line-height:normal;font-family:Menlo,'DejaVu Sans Mono',consolas,'Courier New',monospace\">┏━━━━━━━━━━━━━━━━━━━━━━━━━━━━━━━━━━━━━━┳━━━━━━━━━━━━━━━━━━━━━━━━━━━━━┳━━━━━━━━━━━━━━━━━┓\n",
              "┃<span style=\"font-weight: bold\"> Layer (type)                         </span>┃<span style=\"font-weight: bold\"> Output Shape                </span>┃<span style=\"font-weight: bold\">         Param # </span>┃\n",
              "┡━━━━━━━━━━━━━━━━━━━━━━━━━━━━━━━━━━━━━━╇━━━━━━━━━━━━━━━━━━━━━━━━━━━━━╇━━━━━━━━━━━━━━━━━┩\n",
              "│ dense (<span style=\"color: #0087ff; text-decoration-color: #0087ff\">Dense</span>)                        │ (<span style=\"color: #00d7ff; text-decoration-color: #00d7ff\">None</span>, <span style=\"color: #00af00; text-decoration-color: #00af00\">16</span>)                  │             <span style=\"color: #00af00; text-decoration-color: #00af00\">240</span> │\n",
              "├──────────────────────────────────────┼─────────────────────────────┼─────────────────┤\n",
              "│ dropout (<span style=\"color: #0087ff; text-decoration-color: #0087ff\">Dropout</span>)                    │ (<span style=\"color: #00d7ff; text-decoration-color: #00d7ff\">None</span>, <span style=\"color: #00af00; text-decoration-color: #00af00\">16</span>)                  │               <span style=\"color: #00af00; text-decoration-color: #00af00\">0</span> │\n",
              "├──────────────────────────────────────┼─────────────────────────────┼─────────────────┤\n",
              "│ dense_1 (<span style=\"color: #0087ff; text-decoration-color: #0087ff\">Dense</span>)                      │ (<span style=\"color: #00d7ff; text-decoration-color: #00d7ff\">None</span>, <span style=\"color: #00af00; text-decoration-color: #00af00\">1</span>)                   │              <span style=\"color: #00af00; text-decoration-color: #00af00\">17</span> │\n",
              "└──────────────────────────────────────┴─────────────────────────────┴─────────────────┘\n",
              "</pre>\n"
            ]
          },
          "metadata": {}
        },
        {
          "output_type": "display_data",
          "data": {
            "text/plain": [
              "\u001b[1m Total params: \u001b[0m\u001b[38;5;34m257\u001b[0m (1.00 KB)\n"
            ],
            "text/html": [
              "<pre style=\"white-space:pre;overflow-x:auto;line-height:normal;font-family:Menlo,'DejaVu Sans Mono',consolas,'Courier New',monospace\"><span style=\"font-weight: bold\"> Total params: </span><span style=\"color: #00af00; text-decoration-color: #00af00\">257</span> (1.00 KB)\n",
              "</pre>\n"
            ]
          },
          "metadata": {}
        },
        {
          "output_type": "display_data",
          "data": {
            "text/plain": [
              "\u001b[1m Trainable params: \u001b[0m\u001b[38;5;34m257\u001b[0m (1.00 KB)\n"
            ],
            "text/html": [
              "<pre style=\"white-space:pre;overflow-x:auto;line-height:normal;font-family:Menlo,'DejaVu Sans Mono',consolas,'Courier New',monospace\"><span style=\"font-weight: bold\"> Trainable params: </span><span style=\"color: #00af00; text-decoration-color: #00af00\">257</span> (1.00 KB)\n",
              "</pre>\n"
            ]
          },
          "metadata": {}
        },
        {
          "output_type": "display_data",
          "data": {
            "text/plain": [
              "\u001b[1m Non-trainable params: \u001b[0m\u001b[38;5;34m0\u001b[0m (0.00 B)\n"
            ],
            "text/html": [
              "<pre style=\"white-space:pre;overflow-x:auto;line-height:normal;font-family:Menlo,'DejaVu Sans Mono',consolas,'Courier New',monospace\"><span style=\"font-weight: bold\"> Non-trainable params: </span><span style=\"color: #00af00; text-decoration-color: #00af00\">0</span> (0.00 B)\n",
              "</pre>\n"
            ]
          },
          "metadata": {}
        }
      ]
    },
    {
      "cell_type": "markdown",
      "source": [
        "Test run baseline model"
      ],
      "metadata": {
        "id": "f9BCJMY1dWS6"
      }
    },
    {
      "cell_type": "code",
      "source": [
        "model.predict(train_features[:10])"
      ],
      "metadata": {
        "colab": {
          "base_uri": "https://localhost:8080/"
        },
        "id": "nWA2V3mYdSzt",
        "outputId": "0faf5b6f-c3d2-4579-a62d-d02bb5fa5b8c"
      },
      "execution_count": 18,
      "outputs": [
        {
          "output_type": "stream",
          "name": "stdout",
          "text": [
            "\u001b[1m1/1\u001b[0m \u001b[32m━━━━━━━━━━━━━━━━━━━━\u001b[0m\u001b[37m\u001b[0m \u001b[1m1s\u001b[0m 554ms/step\n"
          ]
        },
        {
          "output_type": "execute_result",
          "data": {
            "text/plain": [
              "array([[0.677664  ],\n",
              "       [0.8530564 ],\n",
              "       [0.70570445],\n",
              "       [0.15257162],\n",
              "       [0.5989483 ],\n",
              "       [0.766858  ],\n",
              "       [0.64762056],\n",
              "       [0.5641242 ],\n",
              "       [0.21797559],\n",
              "       [0.68708843]], dtype=float32)"
            ]
          },
          "metadata": {},
          "execution_count": 18
        }
      ]
    },
    {
      "cell_type": "markdown",
      "source": [
        "Set correct initial bias"
      ],
      "metadata": {
        "id": "VbBCSo_EdZ1A"
      }
    },
    {
      "cell_type": "code",
      "source": [
        "initial_bias = np.log([pos/neg])\n",
        "initial_bias"
      ],
      "metadata": {
        "colab": {
          "base_uri": "https://localhost:8080/"
        },
        "id": "s2MXPyZyd68B",
        "outputId": "5cb0f0ba-aa3f-47e9-9f2d-7d85f5857004"
      },
      "execution_count": 19,
      "outputs": [
        {
          "output_type": "execute_result",
          "data": {
            "text/plain": [
              "array([-5.63445295])"
            ]
          },
          "metadata": {},
          "execution_count": 19
        }
      ]
    },
    {
      "cell_type": "markdown",
      "source": [
        "Baseline with initial bias"
      ],
      "metadata": {
        "id": "NMRUVN7teJLe"
      }
    },
    {
      "cell_type": "code",
      "source": [
        "model = make_model(output_bias=initial_bias)\n",
        "model.predict(train_features[:10])"
      ],
      "metadata": {
        "colab": {
          "base_uri": "https://localhost:8080/"
        },
        "id": "iNp8oNoXeFY-",
        "outputId": "bb29c500-9ab4-493d-fa39-f3f8a26f81a8"
      },
      "execution_count": 20,
      "outputs": [
        {
          "output_type": "stream",
          "name": "stdout",
          "text": [
            "\r\u001b[1m1/1\u001b[0m \u001b[32m━━━━━━━━━━━━━━━━━━━━\u001b[0m\u001b[37m\u001b[0m \u001b[1m0s\u001b[0m 71ms/step"
          ]
        },
        {
          "output_type": "stream",
          "name": "stderr",
          "text": [
            "/usr/local/lib/python3.11/dist-packages/keras/src/layers/core/dense.py:87: UserWarning: Do not pass an `input_shape`/`input_dim` argument to a layer. When using Sequential models, prefer using an `Input(shape)` object as the first layer in the model instead.\n",
            "  super().__init__(activity_regularizer=activity_regularizer, **kwargs)\n"
          ]
        },
        {
          "output_type": "stream",
          "name": "stdout",
          "text": [
            "\b\b\b\b\b\b\b\b\b\b\b\b\b\b\b\b\b\b\b\b\b\b\b\b\b\b\b\b\b\b\b\b\b\b\b\b\b\r\u001b[1m1/1\u001b[0m \u001b[32m━━━━━━━━━━━━━━━━━━━━\u001b[0m\u001b[37m\u001b[0m \u001b[1m0s\u001b[0m 107ms/step\n"
          ]
        },
        {
          "output_type": "execute_result",
          "data": {
            "text/plain": [
              "array([[0.00276037],\n",
              "       [0.00459124],\n",
              "       [0.00262902],\n",
              "       [0.00263722],\n",
              "       [0.00991434],\n",
              "       [0.0075529 ],\n",
              "       [0.00797647],\n",
              "       [0.0147143 ],\n",
              "       [0.00177772],\n",
              "       [0.00643334]], dtype=float32)"
            ]
          },
          "metadata": {},
          "execution_count": 20
        }
      ]
    },
    {
      "cell_type": "code",
      "source": [
        "results = model.evaluate(train_features, train_labels, batch_size=BATCH_SIZE, verbose=0)\n",
        "print(\"Loss: {:0.4f}\".format(results[0]))"
      ],
      "metadata": {
        "colab": {
          "base_uri": "https://localhost:8080/"
        },
        "id": "p1nfBhI1eN39",
        "outputId": "c8be50f8-39cf-4e13-8aaa-26b3629a2b97"
      },
      "execution_count": 21,
      "outputs": [
        {
          "output_type": "stream",
          "name": "stdout",
          "text": [
            "Loss: 0.0278\n"
          ]
        }
      ]
    },
    {
      "cell_type": "markdown",
      "source": [
        "Saving initial weights to temp file"
      ],
      "metadata": {
        "id": "PpSl1u_Heko1"
      }
    },
    {
      "cell_type": "code",
      "source": [
        "import tempfile\n",
        "\n",
        "initial_weights = os.path.join(tempfile.mkdtemp(), 'initial.weights.h5')\n",
        "model.save_weights(initial_weights)\n"
      ],
      "metadata": {
        "id": "qVDySW20eojn"
      },
      "execution_count": 26,
      "outputs": []
    },
    {
      "cell_type": "markdown",
      "source": [
        "##Bias vs Non-Bias Comparison"
      ],
      "metadata": {
        "id": "RtEE4BM4ftRE"
      }
    },
    {
      "cell_type": "code",
      "source": [
        "# no initial bias\n",
        "\n",
        "model = make_model()\n",
        "model.load_weights(initial_weights)\n",
        "model.layers[-1].bias.assign([0.0])\n",
        "zero_bias_history = model.fit(\n",
        "    train_features,\n",
        "    train_labels,\n",
        "    batch_size=BATCH_SIZE,\n",
        "    epochs=20,\n",
        "    callbacks=[early_stopping()],\n",
        "    validation_data=(val_features, val_labels),\n",
        "    verbose=0\n",
        ")"
      ],
      "metadata": {
        "colab": {
          "base_uri": "https://localhost:8080/"
        },
        "id": "JfWf0krdfy6O",
        "outputId": "4f736c33-b794-4ee5-8faf-3f2fcf1ee7ee"
      },
      "execution_count": 30,
      "outputs": [
        {
          "output_type": "stream",
          "name": "stdout",
          "text": [
            "Epoch 20: early stopping\n",
            "Restoring model weights from the end of the best epoch: 10.\n"
          ]
        }
      ]
    },
    {
      "cell_type": "code",
      "source": [
        "# model with initial bias\n",
        "\n",
        "model = make_model()\n",
        "model.load_weights(initial_weights)\n",
        "careful_bias_history = model.fit(\n",
        "    train_features,\n",
        "    train_labels,\n",
        "    batch_size=BATCH_SIZE,\n",
        "    epochs=20,\n",
        "    callbacks=[early_stopping()],\n",
        "    validation_data=(val_features, val_labels),\n",
        "    verbose=0\n",
        ")"
      ],
      "metadata": {
        "colab": {
          "base_uri": "https://localhost:8080/"
        },
        "id": "0axkAiZsgYUg",
        "outputId": "4fa5c20c-6046-41a3-eb64-bb15eee71dde"
      },
      "execution_count": 31,
      "outputs": [
        {
          "output_type": "stream",
          "name": "stdout",
          "text": [
            "Restoring model weights from the end of the best epoch: 18.\n"
          ]
        }
      ]
    },
    {
      "cell_type": "code",
      "source": [
        "colors = plt.rcParams['axes.prop_cycle'].by_key()['color']\n",
        "\n",
        "def plot_loss(history, label, n):\n",
        "  # Use a log scale to show the wide range of values.\n",
        "  plt.semilogy(history.epoch, history.history['loss'],\n",
        "               color=colors[n], label='Train ' + label)\n",
        "  plt.semilogy(history.epoch, history.history['val_loss'],\n",
        "               color=colors[n], label='Val ' + label,\n",
        "               linestyle=\"--\")\n",
        "  plt.xlabel('Epoch')\n",
        "  plt.ylabel('Loss')\n",
        "  plt.legend()"
      ],
      "metadata": {
        "id": "ydD729YtiPqp"
      },
      "execution_count": 35,
      "outputs": []
    },
    {
      "cell_type": "code",
      "source": [
        "plot_loss(zero_bias_history, \"Zero Bias\", 0)\n",
        "plot_loss(careful_bias_history, \"Careful Bias\", 1)"
      ],
      "metadata": {
        "colab": {
          "base_uri": "https://localhost:8080/",
          "height": 449
        },
        "id": "GKqxtzRAiaOE",
        "outputId": "c98c00a2-9154-4052-a0f0-7c14ae2b2ebd"
      },
      "execution_count": 36,
      "outputs": [
        {
          "output_type": "display_data",
          "data": {
            "text/plain": [
              "<Figure size 640x480 with 1 Axes>"
            ],
            "image/png": "[encoded data removed]"
          },
          "metadata": {}
        }
      ]
    },
    {
      "cell_type": "markdown",
      "source": [
        "## Train Model"
      ],
      "metadata": {
        "id": "tQ75f5H5i359"
      }
    },
    {
      "cell_type": "code",
      "source": [
        "model = make_model()\n",
        "model.load_weights(initial_weights)\n",
        "baseline_history = model.fit(\n",
        "    train_features,\n",
        "    train_labels,\n",
        "    batch_size=BATCH_SIZE,\n",
        "    epochs=EPOCHS,\n",
        "    callbacks=[early_stopping()],\n",
        "    validation_data=(val_features, val_labels))"
      ],
      "metadata": {
        "colab": {
          "base_uri": "https://localhost:8080/"
        },
        "id": "m_XGyuQ3i7kI",
        "outputId": "b57b340e-c169-45fc-f3b0-5e29e41c75b7"
      },
      "execution_count": 37,
      "outputs": [
        {
          "output_type": "stream",
          "name": "stderr",
          "text": [
            "/usr/local/lib/python3.11/dist-packages/keras/src/layers/core/dense.py:87: UserWarning: Do not pass an `input_shape`/`input_dim` argument to a layer. When using Sequential models, prefer using an `Input(shape)` object as the first layer in the model instead.\n",
            "  super().__init__(activity_regularizer=activity_regularizer, **kwargs)\n"
          ]
        },
        {
          "output_type": "stream",
          "name": "stdout",
          "text": [
            "Epoch 1/100\n",
            "\u001b[1m828/828\u001b[0m \u001b[32m━━━━━━━━━━━━━━━━━━━━\u001b[0m\u001b[37m\u001b[0m \u001b[1m18s\u001b[0m 16ms/step - Brier score: 0.0033 - accuracy: 0.9964 - auc: 0.7612 - cross entropy: 0.0195 - fn: 4409.6323 - fp: 141.0374 - loss: 0.0232 - prc: 0.1056 - precision: 0.4798 - recall: 0.0189 - tn: 1268739.6250 - tp: 93.7612 - val_Brier score: 0.0032 - val_accuracy: 0.9965 - val_auc: 0.8301 - val_cross entropy: 0.0166 - val_fn: 1497.0000 - val_fp: 0.0000e+00 - val_loss: 0.0166 - val_prc: 0.2078 - val_precision: 0.0000e+00 - val_recall: 0.0000e+00 - val_tn: 421974.0000 - val_tp: 0.0000e+00\n",
            "Epoch 2/100\n",
            "\u001b[1m828/828\u001b[0m \u001b[32m━━━━━━━━━━━━━━━━━━━━\u001b[0m\u001b[37m\u001b[0m \u001b[1m17s\u001b[0m 12ms/step - Brier score: 0.0033 - accuracy: 0.9962 - auc: 0.8242 - cross entropy: 0.0177 - fn: 2825.2798 - fp: 382.3365 - loss: 0.0177 - prc: 0.1519 - precision: 0.3677 - recall: 0.0724 - tn: 846488.9375 - tp: 216.4946 - val_Brier score: 0.0031 - val_accuracy: 0.9965 - val_auc: 0.8310 - val_cross entropy: 0.0163 - val_fn: 1496.0000 - val_fp: 0.0000e+00 - val_loss: 0.0163 - val_prc: 0.2235 - val_precision: 1.0000 - val_recall: 6.6800e-04 - val_tn: 421974.0000 - val_tp: 1.0000\n",
            "Epoch 3/100\n",
            "\u001b[1m828/828\u001b[0m \u001b[32m━━━━━━━━━━━━━━━━━━━━\u001b[0m\u001b[37m\u001b[0m \u001b[1m12s\u001b[0m 14ms/step - Brier score: 0.0032 - accuracy: 0.9964 - auc: 0.8312 - cross entropy: 0.0168 - fn: 2767.2896 - fp: 351.3498 - loss: 0.0168 - prc: 0.1767 - precision: 0.4110 - recall: 0.0786 - tn: 846572.6250 - tp: 221.7744 - val_Brier score: 0.0031 - val_accuracy: 0.9965 - val_auc: 0.8531 - val_cross entropy: 0.0161 - val_fn: 1496.0000 - val_fp: 0.0000e+00 - val_loss: 0.0161 - val_prc: 0.2257 - val_precision: 1.0000 - val_recall: 6.6800e-04 - val_tn: 421974.0000 - val_tp: 1.0000\n",
            "Epoch 4/100\n",
            "\u001b[1m828/828\u001b[0m \u001b[32m━━━━━━━━━━━━━━━━━━━━\u001b[0m\u001b[37m\u001b[0m \u001b[1m12s\u001b[0m 14ms/step - Brier score: 0.0032 - accuracy: 0.9963 - auc: 0.8463 - cross entropy: 0.0169 - fn: 2788.4512 - fp: 357.4113 - loss: 0.0169 - prc: 0.1643 - precision: 0.3883 - recall: 0.0758 - tn: 846535.5000 - tp: 231.6864 - val_Brier score: 0.0031 - val_accuracy: 0.9965 - val_auc: 0.8672 - val_cross entropy: 0.0159 - val_fn: 1496.0000 - val_fp: 0.0000e+00 - val_loss: 0.0159 - val_prc: 0.2326 - val_precision: 1.0000 - val_recall: 6.6800e-04 - val_tn: 421974.0000 - val_tp: 1.0000\n",
            "Epoch 5/100\n",
            "\u001b[1m828/828\u001b[0m \u001b[32m━━━━━━━━━━━━━━━━━━━━\u001b[0m\u001b[37m\u001b[0m \u001b[1m15s\u001b[0m 8ms/step - Brier score: 0.0033 - accuracy: 0.9963 - auc: 0.8578 - cross entropy: 0.0169 - fn: 2800.5139 - fp: 355.5802 - loss: 0.0169 - prc: 0.1672 - precision: 0.3603 - recall: 0.0677 - tn: 846551.1250 - tp: 205.8384 - val_Brier score: 0.0031 - val_accuracy: 0.9965 - val_auc: 0.8723 - val_cross entropy: 0.0159 - val_fn: 1497.0000 - val_fp: 0.0000e+00 - val_loss: 0.0159 - val_prc: 0.2333 - val_precision: 0.0000e+00 - val_recall: 0.0000e+00 - val_tn: 421974.0000 - val_tp: 0.0000e+00\n",
            "Epoch 6/100\n",
            "\u001b[1m828/828\u001b[0m \u001b[32m━━━━━━━━━━━━━━━━━━━━\u001b[0m\u001b[37m\u001b[0m \u001b[1m5s\u001b[0m 6ms/step - Brier score: 0.0033 - accuracy: 0.9963 - auc: 0.8623 - cross entropy: 0.0170 - fn: 2818.6887 - fp: 308.7322 - loss: 0.0170 - prc: 0.1712 - precision: 0.4127 - recall: 0.0697 - tn: 846575.1875 - tp: 210.4536 - val_Brier score: 0.0031 - val_accuracy: 0.9965 - val_auc: 0.8729 - val_cross entropy: 0.0157 - val_fn: 1488.0000 - val_fp: 2.0000 - val_loss: 0.0157 - val_prc: 0.2341 - val_precision: 0.8182 - val_recall: 0.0060 - val_tn: 421972.0000 - val_tp: 9.0000\n",
            "Epoch 7/100\n",
            "\u001b[1m828/828\u001b[0m \u001b[32m━━━━━━━━━━━━━━━━━━━━\u001b[0m\u001b[37m\u001b[0m \u001b[1m7s\u001b[0m 8ms/step - Brier score: 0.0032 - accuracy: 0.9963 - auc: 0.8673 - cross entropy: 0.0166 - fn: 2801.3342 - fp: 326.6285 - loss: 0.0166 - prc: 0.1655 - precision: 0.3679 - recall: 0.0659 - tn: 846581.3125 - tp: 203.7455 - val_Brier score: 0.0031 - val_accuracy: 0.9965 - val_auc: 0.8749 - val_cross entropy: 0.0157 - val_fn: 1497.0000 - val_fp: 0.0000e+00 - val_loss: 0.0157 - val_prc: 0.2372 - val_precision: 0.0000e+00 - val_recall: 0.0000e+00 - val_tn: 421974.0000 - val_tp: 0.0000e+00\n",
            "Epoch 8/100\n",
            "\u001b[1m828/828\u001b[0m \u001b[32m━━━━━━━━━━━━━━━━━━━━\u001b[0m\u001b[37m\u001b[0m \u001b[1m8s\u001b[0m 6ms/step - Brier score: 0.0032 - accuracy: 0.9963 - auc: 0.8726 - cross entropy: 0.0166 - fn: 2804.5164 - fp: 300.8022 - loss: 0.0166 - prc: 0.1753 - precision: 0.3907 - recall: 0.0665 - tn: 846603.0625 - tp: 204.6695 - val_Brier score: 0.0030 - val_accuracy: 0.9965 - val_auc: 0.8753 - val_cross entropy: 0.0155 - val_fn: 1484.0000 - val_fp: 3.0000 - val_loss: 0.0155 - val_prc: 0.2358 - val_precision: 0.8125 - val_recall: 0.0087 - val_tn: 421971.0000 - val_tp: 13.0000\n",
            "Epoch 9/100\n",
            "\u001b[1m828/828\u001b[0m \u001b[32m━━━━━━━━━━━━━━━━━━━━\u001b[0m\u001b[37m\u001b[0m \u001b[1m9s\u001b[0m 10ms/step - Brier score: 0.0032 - accuracy: 0.9963 - auc: 0.8689 - cross entropy: 0.0167 - fn: 2819.3716 - fp: 308.2835 - loss: 0.0167 - prc: 0.1796 - precision: 0.4127 - recall: 0.0728 - tn: 846565.3125 - tp: 220.0808 - val_Brier score: 0.0030 - val_accuracy: 0.9965 - val_auc: 0.8766 - val_cross entropy: 0.0154 - val_fn: 1485.0000 - val_fp: 2.0000 - val_loss: 0.0154 - val_prc: 0.2427 - val_precision: 0.8571 - val_recall: 0.0080 - val_tn: 421972.0000 - val_tp: 12.0000\n",
            "Epoch 10/100\n",
            "\u001b[1m828/828\u001b[0m \u001b[32m━━━━━━━━━━━━━━━━━━━━\u001b[0m\u001b[37m\u001b[0m \u001b[1m6s\u001b[0m 7ms/step - Brier score: 0.0032 - accuracy: 0.9964 - auc: 0.8681 - cross entropy: 0.0165 - fn: 2789.6021 - fp: 292.1327 - loss: 0.0165 - prc: 0.1801 - precision: 0.4220 - recall: 0.0718 - tn: 846612.6250 - tp: 218.6550 - val_Brier score: 0.0031 - val_accuracy: 0.9965 - val_auc: 0.8759 - val_cross entropy: 0.0155 - val_fn: 1490.0000 - val_fp: 2.0000 - val_loss: 0.0155 - val_prc: 0.2453 - val_precision: 0.7778 - val_recall: 0.0047 - val_tn: 421972.0000 - val_tp: 7.0000\n",
            "Epoch 11/100\n",
            "\u001b[1m828/828\u001b[0m \u001b[32m━━━━━━━━━━━━━━━━━━━━\u001b[0m\u001b[37m\u001b[0m \u001b[1m7s\u001b[0m 9ms/step - Brier score: 0.0032 - accuracy: 0.9964 - auc: 0.8641 - cross entropy: 0.0168 - fn: 2783.7588 - fp: 275.5127 - loss: 0.0168 - prc: 0.1785 - precision: 0.4427 - recall: 0.0701 - tn: 846637.3750 - tp: 216.4065 - val_Brier score: 0.0031 - val_accuracy: 0.9965 - val_auc: 0.8766 - val_cross entropy: 0.0155 - val_fn: 1494.0000 - val_fp: 0.0000e+00 - val_loss: 0.0155 - val_prc: 0.2439 - val_precision: 1.0000 - val_recall: 0.0020 - val_tn: 421974.0000 - val_tp: 3.0000\n",
            "Epoch 12/100\n",
            "\u001b[1m828/828\u001b[0m \u001b[32m━━━━━━━━━━━━━━━━━━━━\u001b[0m\u001b[37m\u001b[0m \u001b[1m9s\u001b[0m 7ms/step - Brier score: 0.0032 - accuracy: 0.9964 - auc: 0.8627 - cross entropy: 0.0167 - fn: 2821.6912 - fp: 277.7732 - loss: 0.0167 - prc: 0.1758 - precision: 0.4099 - recall: 0.0616 - tn: 846617.5000 - tp: 196.0615 - val_Brier score: 0.0030 - val_accuracy: 0.9965 - val_auc: 0.8769 - val_cross entropy: 0.0153 - val_fn: 1487.0000 - val_fp: 3.0000 - val_loss: 0.0153 - val_prc: 0.2463 - val_precision: 0.7692 - val_recall: 0.0067 - val_tn: 421971.0000 - val_tp: 10.0000\n",
            "Epoch 13/100\n",
            "\u001b[1m828/828\u001b[0m \u001b[32m━━━━━━━━━━━━━━━━━━━━\u001b[0m\u001b[37m\u001b[0m \u001b[1m10s\u001b[0m 6ms/step - Brier score: 0.0032 - accuracy: 0.9964 - auc: 0.8739 - cross entropy: 0.0164 - fn: 2787.6694 - fp: 283.6248 - loss: 0.0164 - prc: 0.2014 - precision: 0.4703 - recall: 0.0851 - tn: 846594.4375 - tp: 247.3016 - val_Brier score: 0.0030 - val_accuracy: 0.9965 - val_auc: 0.8764 - val_cross entropy: 0.0153 - val_fn: 1487.0000 - val_fp: 3.0000 - val_loss: 0.0153 - val_prc: 0.2484 - val_precision: 0.7692 - val_recall: 0.0067 - val_tn: 421971.0000 - val_tp: 10.0000\n",
            "Epoch 14/100\n",
            "\u001b[1m828/828\u001b[0m \u001b[32m━━━━━━━━━━━━━━━━━━━━\u001b[0m\u001b[37m\u001b[0m \u001b[1m10s\u001b[0m 6ms/step - Brier score: 0.0032 - accuracy: 0.9964 - auc: 0.8701 - cross entropy: 0.0166 - fn: 2796.3716 - fp: 280.3305 - loss: 0.0166 - prc: 0.1844 - precision: 0.4405 - recall: 0.0726 - tn: 846612.8750 - tp: 223.4427 - val_Brier score: 0.0030 - val_accuracy: 0.9965 - val_auc: 0.8772 - val_cross entropy: 0.0153 - val_fn: 1481.0000 - val_fp: 4.0000 - val_loss: 0.0153 - val_prc: 0.2489 - val_precision: 0.8000 - val_recall: 0.0107 - val_tn: 421970.0000 - val_tp: 16.0000\n",
            "Epoch 15/100\n",
            "\u001b[1m828/828\u001b[0m \u001b[32m━━━━━━━━━━━━━━━━━━━━\u001b[0m\u001b[37m\u001b[0m \u001b[1m12s\u001b[0m 9ms/step - Brier score: 0.0031 - accuracy: 0.9964 - auc: 0.8711 - cross entropy: 0.0163 - fn: 2761.0688 - fp: 279.5175 - loss: 0.0163 - prc: 0.1889 - precision: 0.4286 - recall: 0.0714 - tn: 846655.5625 - tp: 216.8878 - val_Brier score: 0.0030 - val_accuracy: 0.9965 - val_auc: 0.8775 - val_cross entropy: 0.0152 - val_fn: 1478.0000 - val_fp: 5.0000 - val_loss: 0.0152 - val_prc: 0.2473 - val_precision: 0.7917 - val_recall: 0.0127 - val_tn: 421969.0000 - val_tp: 19.0000\n",
            "Epoch 16/100\n",
            "\u001b[1m828/828\u001b[0m \u001b[32m━━━━━━━━━━━━━━━━━━━━\u001b[0m\u001b[37m\u001b[0m \u001b[1m6s\u001b[0m 7ms/step - Brier score: 0.0032 - accuracy: 0.9964 - auc: 0.8761 - cross entropy: 0.0164 - fn: 2802.1423 - fp: 289.0531 - loss: 0.0164 - prc: 0.1977 - precision: 0.4550 - recall: 0.0785 - tn: 846583.1875 - tp: 238.6417 - val_Brier score: 0.0030 - val_accuracy: 0.9965 - val_auc: 0.8773 - val_cross entropy: 0.0153 - val_fn: 1488.0000 - val_fp: 4.0000 - val_loss: 0.0153 - val_prc: 0.2479 - val_precision: 0.6923 - val_recall: 0.0060 - val_tn: 421970.0000 - val_tp: 9.0000\n",
            "Epoch 17/100\n",
            "\u001b[1m828/828\u001b[0m \u001b[32m━━━━━━━━━━━━━━━━━━━━\u001b[0m\u001b[37m\u001b[0m \u001b[1m7s\u001b[0m 8ms/step - Brier score: 0.0032 - accuracy: 0.9963 - auc: 0.8686 - cross entropy: 0.0167 - fn: 2818.2761 - fp: 275.3703 - loss: 0.0167 - prc: 0.1919 - precision: 0.4551 - recall: 0.0748 - tn: 846589.6250 - tp: 229.7539 - val_Brier score: 0.0030 - val_accuracy: 0.9965 - val_auc: 0.8775 - val_cross entropy: 0.0153 - val_fn: 1485.0000 - val_fp: 5.0000 - val_loss: 0.0153 - val_prc: 0.2462 - val_precision: 0.7059 - val_recall: 0.0080 - val_tn: 421969.0000 - val_tp: 12.0000\n",
            "Epoch 18/100\n",
            "\u001b[1m828/828\u001b[0m \u001b[32m━━━━━━━━━━━━━━━━━━━━\u001b[0m\u001b[37m\u001b[0m \u001b[1m8s\u001b[0m 6ms/step - Brier score: 0.0032 - accuracy: 0.9964 - auc: 0.8719 - cross entropy: 0.0166 - fn: 2785.5222 - fp: 292.7262 - loss: 0.0166 - prc: 0.1878 - precision: 0.4338 - recall: 0.0732 - tn: 846605.8125 - tp: 229.0000 - val_Brier score: 0.0030 - val_accuracy: 0.9965 - val_auc: 0.8773 - val_cross entropy: 0.0153 - val_fn: 1479.0000 - val_fp: 6.0000 - val_loss: 0.0153 - val_prc: 0.2491 - val_precision: 0.7500 - val_recall: 0.0120 - val_tn: 421968.0000 - val_tp: 18.0000\n",
            "Epoch 19/100\n",
            "\u001b[1m828/828\u001b[0m \u001b[32m━━━━━━━━━━━━━━━━━━━━\u001b[0m\u001b[37m\u001b[0m \u001b[1m10s\u001b[0m 12ms/step - Brier score: 0.0032 - accuracy: 0.9964 - auc: 0.8744 - cross entropy: 0.0166 - fn: 2784.1350 - fp: 268.2485 - loss: 0.0166 - prc: 0.2002 - precision: 0.4822 - recall: 0.0807 - tn: 846609.7500 - tp: 250.9373 - val_Brier score: 0.0030 - val_accuracy: 0.9965 - val_auc: 0.8770 - val_cross entropy: 0.0153 - val_fn: 1479.0000 - val_fp: 5.0000 - val_loss: 0.0153 - val_prc: 0.2474 - val_precision: 0.7826 - val_recall: 0.0120 - val_tn: 421969.0000 - val_tp: 18.0000\n",
            "Epoch 20/100\n",
            "\u001b[1m828/828\u001b[0m \u001b[32m━━━━━━━━━━━━━━━━━━━━\u001b[0m\u001b[37m\u001b[0m \u001b[1m5s\u001b[0m 6ms/step - Brier score: 0.0031 - accuracy: 0.9965 - auc: 0.8701 - cross entropy: 0.0162 - fn: 2748.1965 - fp: 276.5694 - loss: 0.0162 - prc: 0.2010 - precision: 0.4774 - recall: 0.0851 - tn: 846645.9375 - tp: 242.3679 - val_Brier score: 0.0030 - val_accuracy: 0.9965 - val_auc: 0.8772 - val_cross entropy: 0.0152 - val_fn: 1471.0000 - val_fp: 10.0000 - val_loss: 0.0152 - val_prc: 0.2490 - val_precision: 0.7222 - val_recall: 0.0174 - val_tn: 421964.0000 - val_tp: 26.0000\n",
            "Epoch 21/100\n",
            "\u001b[1m828/828\u001b[0m \u001b[32m━━━━━━━━━━━━━━━━━━━━\u001b[0m\u001b[37m\u001b[0m \u001b[1m7s\u001b[0m 8ms/step - Brier score: 0.0032 - accuracy: 0.9964 - auc: 0.8697 - cross entropy: 0.0164 - fn: 2770.1736 - fp: 289.4511 - loss: 0.0164 - prc: 0.1929 - precision: 0.4545 - recall: 0.0843 - tn: 846608.1250 - tp: 245.2907 - val_Brier score: 0.0030 - val_accuracy: 0.9965 - val_auc: 0.8774 - val_cross entropy: 0.0152 - val_fn: 1471.0000 - val_fp: 14.0000 - val_loss: 0.0152 - val_prc: 0.2475 - val_precision: 0.6500 - val_recall: 0.0174 - val_tn: 421960.0000 - val_tp: 26.0000\n",
            "Epoch 22/100\n",
            "\u001b[1m828/828\u001b[0m \u001b[32m━━━━━━━━━━━━━━━━━━━━\u001b[0m\u001b[37m\u001b[0m \u001b[1m9s\u001b[0m 7ms/step - Brier score: 0.0032 - accuracy: 0.9963 - auc: 0.8710 - cross entropy: 0.0164 - fn: 2765.1350 - fp: 320.1822 - loss: 0.0164 - prc: 0.2036 - precision: 0.4292 - recall: 0.0829 - tn: 846590.2500 - tp: 237.4499 - val_Brier score: 0.0030 - val_accuracy: 0.9965 - val_auc: 0.8770 - val_cross entropy: 0.0153 - val_fn: 1485.0000 - val_fp: 4.0000 - val_loss: 0.0153 - val_prc: 0.2474 - val_precision: 0.7500 - val_recall: 0.0080 - val_tn: 421970.0000 - val_tp: 12.0000\n",
            "Epoch 23/100\n",
            "\u001b[1m828/828\u001b[0m \u001b[32m━━━━━━━━━━━━━━━━━━━━\u001b[0m\u001b[37m\u001b[0m \u001b[1m10s\u001b[0m 6ms/step - Brier score: 0.0032 - accuracy: 0.9964 - auc: 0.8688 - cross entropy: 0.0165 - fn: 2789.6707 - fp: 294.3185 - loss: 0.0165 - prc: 0.1972 - precision: 0.4429 - recall: 0.0768 - tn: 846592.1250 - tp: 236.9023 - val_Brier score: 0.0030 - val_accuracy: 0.9965 - val_auc: 0.8768 - val_cross entropy: 0.0152 - val_fn: 1477.0000 - val_fp: 9.0000 - val_loss: 0.0152 - val_prc: 0.2498 - val_precision: 0.6897 - val_recall: 0.0134 - val_tn: 421965.0000 - val_tp: 20.0000\n",
            "Epoch 24/100\n",
            "\u001b[1m828/828\u001b[0m \u001b[32m━━━━━━━━━━━━━━━━━━━━\u001b[0m\u001b[37m\u001b[0m \u001b[1m11s\u001b[0m 7ms/step - Brier score: 0.0031 - accuracy: 0.9965 - auc: 0.8696 - cross entropy: 0.0164 - fn: 2748.1169 - fp: 284.7032 - loss: 0.0164 - prc: 0.1935 - precision: 0.4638 - recall: 0.0794 - tn: 846633.6250 - tp: 246.6128 - val_Brier score: 0.0030 - val_accuracy: 0.9965 - val_auc: 0.8773 - val_cross entropy: 0.0152 - val_fn: 1479.0000 - val_fp: 7.0000 - val_loss: 0.0152 - val_prc: 0.2493 - val_precision: 0.7200 - val_recall: 0.0120 - val_tn: 421967.0000 - val_tp: 18.0000\n",
            "Epoch 25/100\n",
            "\u001b[1m828/828\u001b[0m \u001b[32m━━━━━━━━━━━━━━━━━━━━\u001b[0m\u001b[37m\u001b[0m \u001b[1m6s\u001b[0m 7ms/step - Brier score: 0.0033 - accuracy: 0.9963 - auc: 0.8721 - cross entropy: 0.0169 - fn: 2822.0579 - fp: 310.3884 - loss: 0.0169 - prc: 0.1959 - precision: 0.4261 - recall: 0.0748 - tn: 846543.8125 - tp: 236.7877 - val_Brier score: 0.0030 - val_accuracy: 0.9965 - val_auc: 0.8773 - val_cross entropy: 0.0153 - val_fn: 1480.0000 - val_fp: 5.0000 - val_loss: 0.0153 - val_prc: 0.2491 - val_precision: 0.7727 - val_recall: 0.0114 - val_tn: 421969.0000 - val_tp: 17.0000\n",
            "Epoch 26/100\n",
            "\u001b[1m828/828\u001b[0m \u001b[32m━━━━━━━━━━━━━━━━━━━━\u001b[0m\u001b[37m\u001b[0m \u001b[1m7s\u001b[0m 8ms/step - Brier score: 0.0031 - accuracy: 0.9965 - auc: 0.8749 - cross entropy: 0.0160 - fn: 2761.4246 - fp: 282.8480 - loss: 0.0160 - prc: 0.2008 - precision: 0.4775 - recall: 0.0845 - tn: 846617.5625 - tp: 251.1894 - val_Brier score: 0.0031 - val_accuracy: 0.9965 - val_auc: 0.8762 - val_cross entropy: 0.0154 - val_fn: 1488.0000 - val_fp: 3.0000 - val_loss: 0.0154 - val_prc: 0.2490 - val_precision: 0.7500 - val_recall: 0.0060 - val_tn: 421971.0000 - val_tp: 9.0000\n",
            "Epoch 27/100\n",
            "\u001b[1m828/828\u001b[0m \u001b[32m━━━━━━━━━━━━━━━━━━━━\u001b[0m\u001b[37m\u001b[0m \u001b[1m10s\u001b[0m 8ms/step - Brier score: 0.0031 - accuracy: 0.9964 - auc: 0.8719 - cross entropy: 0.0163 - fn: 2769.4824 - fp: 289.3088 - loss: 0.0163 - prc: 0.1904 - precision: 0.4481 - recall: 0.0775 - tn: 846621.0625 - tp: 233.2087 - val_Brier score: 0.0030 - val_accuracy: 0.9965 - val_auc: 0.8771 - val_cross entropy: 0.0153 - val_fn: 1481.0000 - val_fp: 5.0000 - val_loss: 0.0153 - val_prc: 0.2498 - val_precision: 0.7619 - val_recall: 0.0107 - val_tn: 421969.0000 - val_tp: 16.0000\n",
            "Epoch 28/100\n",
            "\u001b[1m828/828\u001b[0m \u001b[32m━━━━━━━━━━━━━━━━━━━━\u001b[0m\u001b[37m\u001b[0m \u001b[1m6s\u001b[0m 7ms/step - Brier score: 0.0032 - accuracy: 0.9964 - auc: 0.8696 - cross entropy: 0.0165 - fn: 2760.2449 - fp: 306.0724 - loss: 0.0165 - prc: 0.2028 - precision: 0.4587 - recall: 0.0855 - tn: 846587.6875 - tp: 259.0133 - val_Brier score: 0.0030 - val_accuracy: 0.9965 - val_auc: 0.8772 - val_cross entropy: 0.0152 - val_fn: 1465.0000 - val_fp: 14.0000 - val_loss: 0.0152 - val_prc: 0.2493 - val_precision: 0.6957 - val_recall: 0.0214 - val_tn: 421960.0000 - val_tp: 32.0000\n",
            "Epoch 29/100\n",
            "\u001b[1m828/828\u001b[0m \u001b[32m━━━━━━━━━━━━━━━━━━━━\u001b[0m\u001b[37m\u001b[0m \u001b[1m11s\u001b[0m 9ms/step - Brier score: 0.0032 - accuracy: 0.9963 - auc: 0.8668 - cross entropy: 0.0168 - fn: 2795.7830 - fp: 305.0133 - loss: 0.0168 - prc: 0.1984 - precision: 0.4641 - recall: 0.0844 - tn: 846556.6250 - tp: 255.5959 - val_Brier score: 0.0030 - val_accuracy: 0.9965 - val_auc: 0.8773 - val_cross entropy: 0.0152 - val_fn: 1465.0000 - val_fp: 16.0000 - val_loss: 0.0152 - val_prc: 0.2488 - val_precision: 0.6667 - val_recall: 0.0214 - val_tn: 421958.0000 - val_tp: 32.0000\n",
            "Epoch 30/100\n",
            "\u001b[1m828/828\u001b[0m \u001b[32m━━━━━━━━━━━━━━━━━━━━\u001b[0m\u001b[37m\u001b[0m \u001b[1m8s\u001b[0m 6ms/step - Brier score: 0.0032 - accuracy: 0.9964 - auc: 0.8695 - cross entropy: 0.0164 - fn: 2787.7781 - fp: 305.1399 - loss: 0.0164 - prc: 0.2063 - precision: 0.4564 - recall: 0.0861 - tn: 846570.3125 - tp: 249.8227 - val_Brier score: 0.0030 - val_accuracy: 0.9965 - val_auc: 0.8775 - val_cross entropy: 0.0153 - val_fn: 1480.0000 - val_fp: 6.0000 - val_loss: 0.0153 - val_prc: 0.2495 - val_precision: 0.7391 - val_recall: 0.0114 - val_tn: 421968.0000 - val_tp: 17.0000\n",
            "Epoch 31/100\n",
            "\u001b[1m828/828\u001b[0m \u001b[32m━━━━━━━━━━━━━━━━━━━━\u001b[0m\u001b[37m\u001b[0m \u001b[1m7s\u001b[0m 9ms/step - Brier score: 0.0031 - accuracy: 0.9965 - auc: 0.8712 - cross entropy: 0.0162 - fn: 2743.1194 - fp: 288.0893 - loss: 0.0162 - prc: 0.2032 - precision: 0.4790 - recall: 0.0856 - tn: 846625.1250 - tp: 256.7117 - val_Brier score: 0.0030 - val_accuracy: 0.9965 - val_auc: 0.8772 - val_cross entropy: 0.0152 - val_fn: 1460.0000 - val_fp: 18.0000 - val_loss: 0.0152 - val_prc: 0.2468 - val_precision: 0.6727 - val_recall: 0.0247 - val_tn: 421956.0000 - val_tp: 37.0000\n",
            "Epoch 32/100\n",
            "\u001b[1m828/828\u001b[0m \u001b[32m━━━━━━━━━━━━━━━━━━━━\u001b[0m\u001b[37m\u001b[0m \u001b[1m5s\u001b[0m 6ms/step - Brier score: 0.0032 - accuracy: 0.9964 - auc: 0.8656 - cross entropy: 0.0165 - fn: 2760.9385 - fp: 298.6562 - loss: 0.0165 - prc: 0.1903 - precision: 0.4543 - recall: 0.0810 - tn: 846608.3125 - tp: 245.1255 - val_Brier score: 0.0030 - val_accuracy: 0.9965 - val_auc: 0.8768 - val_cross entropy: 0.0152 - val_fn: 1465.0000 - val_fp: 10.0000 - val_loss: 0.0152 - val_prc: 0.2482 - val_precision: 0.7619 - val_recall: 0.0214 - val_tn: 421964.0000 - val_tp: 32.0000\n",
            "Epoch 33/100\n",
            "\u001b[1m828/828\u001b[0m \u001b[32m━━━━━━━━━━━━━━━━━━━━\u001b[0m\u001b[37m\u001b[0m \u001b[1m7s\u001b[0m 8ms/step - Brier score: 0.0032 - accuracy: 0.9963 - auc: 0.8709 - cross entropy: 0.0167 - fn: 2808.8999 - fp: 313.6104 - loss: 0.0167 - prc: 0.1992 - precision: 0.4402 - recall: 0.0810 - tn: 846550.3125 - tp: 240.2244 - val_Brier score: 0.0030 - val_accuracy: 0.9965 - val_auc: 0.8765 - val_cross entropy: 0.0152 - val_fn: 1472.0000 - val_fp: 10.0000 - val_loss: 0.0152 - val_prc: 0.2511 - val_precision: 0.7143 - val_recall: 0.0167 - val_tn: 421964.0000 - val_tp: 25.0000\n",
            "Epoch 34/100\n",
            "\u001b[1m828/828\u001b[0m \u001b[32m━━━━━━━━━━━━━━━━━━━━\u001b[0m\u001b[37m\u001b[0m \u001b[1m9s\u001b[0m 6ms/step - Brier score: 0.0031 - accuracy: 0.9964 - auc: 0.8691 - cross entropy: 0.0164 - fn: 2758.9697 - fp: 293.9095 - loss: 0.0164 - prc: 0.2003 - precision: 0.4817 - recall: 0.0897 - tn: 846594.4375 - tp: 265.7129 - val_Brier score: 0.0030 - val_accuracy: 0.9965 - val_auc: 0.8774 - val_cross entropy: 0.0152 - val_fn: 1463.0000 - val_fp: 19.0000 - val_loss: 0.0152 - val_prc: 0.2493 - val_precision: 0.6415 - val_recall: 0.0227 - val_tn: 421955.0000 - val_tp: 34.0000\n",
            "Epoch 35/100\n",
            "\u001b[1m828/828\u001b[0m \u001b[32m━━━━━━━━━━━━━━━━━━━━\u001b[0m\u001b[37m\u001b[0m \u001b[1m8s\u001b[0m 9ms/step - Brier score: 0.0031 - accuracy: 0.9964 - auc: 0.8733 - cross entropy: 0.0163 - fn: 2760.2581 - fp: 301.9324 - loss: 0.0163 - prc: 0.2006 - precision: 0.4521 - recall: 0.0844 - tn: 846596.3750 - tp: 254.4753 - val_Brier score: 0.0030 - val_accuracy: 0.9965 - val_auc: 0.8770 - val_cross entropy: 0.0152 - val_fn: 1470.0000 - val_fp: 12.0000 - val_loss: 0.0152 - val_prc: 0.2502 - val_precision: 0.6923 - val_recall: 0.0180 - val_tn: 421962.0000 - val_tp: 27.0000\n",
            "Epoch 36/100\n",
            "\u001b[1m828/828\u001b[0m \u001b[32m━━━━━━━━━━━━━━━━━━━━\u001b[0m\u001b[37m\u001b[0m \u001b[1m8s\u001b[0m 6ms/step - Brier score: 0.0031 - accuracy: 0.9964 - auc: 0.8665 - cross entropy: 0.0164 - fn: 2758.5947 - fp: 307.3088 - loss: 0.0164 - prc: 0.2041 - precision: 0.4678 - recall: 0.0872 - tn: 846584.9375 - tp: 262.2027 - val_Brier score: 0.0030 - val_accuracy: 0.9965 - val_auc: 0.8779 - val_cross entropy: 0.0152 - val_fn: 1464.0000 - val_fp: 16.0000 - val_loss: 0.0152 - val_prc: 0.2507 - val_precision: 0.6735 - val_recall: 0.0220 - val_tn: 421958.0000 - val_tp: 33.0000\n",
            "Epoch 37/100\n",
            "\u001b[1m828/828\u001b[0m \u001b[32m━━━━━━━━━━━━━━━━━━━━\u001b[0m\u001b[37m\u001b[0m \u001b[1m7s\u001b[0m 8ms/step - Brier score: 0.0031 - accuracy: 0.9964 - auc: 0.8692 - cross entropy: 0.0165 - fn: 2757.7141 - fp: 304.2992 - loss: 0.0165 - prc: 0.2043 - precision: 0.4800 - recall: 0.0917 - tn: 846575.2500 - tp: 275.7599 - val_Brier score: 0.0030 - val_accuracy: 0.9965 - val_auc: 0.8773 - val_cross entropy: 0.0151 - val_fn: 1455.0000 - val_fp: 23.0000 - val_loss: 0.0151 - val_prc: 0.2542 - val_precision: 0.6462 - val_recall: 0.0281 - val_tn: 421951.0000 - val_tp: 42.0000\n",
            "Epoch 38/100\n",
            "\u001b[1m828/828\u001b[0m \u001b[32m━━━━━━━━━━━━━━━━━━━━\u001b[0m\u001b[37m\u001b[0m \u001b[1m8s\u001b[0m 6ms/step - Brier score: 0.0032 - accuracy: 0.9964 - auc: 0.8706 - cross entropy: 0.0166 - fn: 2788.5947 - fp: 289.7515 - loss: 0.0166 - prc: 0.2031 - precision: 0.4562 - recall: 0.0809 - tn: 846598.6250 - tp: 236.0482 - val_Brier score: 0.0030 - val_accuracy: 0.9965 - val_auc: 0.8774 - val_cross entropy: 0.0151 - val_fn: 1463.0000 - val_fp: 5.0000 - val_loss: 0.0151 - val_prc: 0.2775 - val_precision: 0.8718 - val_recall: 0.0227 - val_tn: 421969.0000 - val_tp: 34.0000\n",
            "Epoch 39/100\n",
            "\u001b[1m828/828\u001b[0m \u001b[32m━━━━━━━━━━━━━━━━━━━━\u001b[0m\u001b[37m\u001b[0m \u001b[1m7s\u001b[0m 8ms/step - Brier score: 0.0032 - accuracy: 0.9964 - auc: 0.8721 - cross entropy: 0.0164 - fn: 2754.7876 - fp: 271.3824 - loss: 0.0164 - prc: 0.2079 - precision: 0.4813 - recall: 0.0862 - tn: 846622.3125 - tp: 264.5826 - val_Brier score: 0.0029 - val_accuracy: 0.9966 - val_auc: 0.8771 - val_cross entropy: 0.0149 - val_fn: 1422.0000 - val_fp: 8.0000 - val_loss: 0.0149 - val_prc: 0.2983 - val_precision: 0.9036 - val_recall: 0.0501 - val_tn: 421966.0000 - val_tp: 75.0000\n",
            "Epoch 40/100\n",
            "\u001b[1m828/828\u001b[0m \u001b[32m━━━━━━━━━━━━━━━━━━━━\u001b[0m\u001b[37m\u001b[0m \u001b[1m8s\u001b[0m 6ms/step - Brier score: 0.0031 - accuracy: 0.9964 - auc: 0.8728 - cross entropy: 0.0163 - fn: 2744.5439 - fp: 272.1242 - loss: 0.0163 - prc: 0.2291 - precision: 0.5159 - recall: 0.1011 - tn: 846596.1875 - tp: 300.1870 - val_Brier score: 0.0029 - val_accuracy: 0.9967 - val_auc: 0.8787 - val_cross entropy: 0.0147 - val_fn: 1394.0000 - val_fp: 13.0000 - val_loss: 0.0147 - val_prc: 0.3139 - val_precision: 0.8879 - val_recall: 0.0688 - val_tn: 421961.0000 - val_tp: 103.0000\n",
            "Epoch 41/100\n",
            "\u001b[1m828/828\u001b[0m \u001b[32m━━━━━━━━━━━━━━━━━━━━\u001b[0m\u001b[37m\u001b[0m \u001b[1m11s\u001b[0m 7ms/step - Brier score: 0.0031 - accuracy: 0.9966 - auc: 0.8726 - cross entropy: 0.0160 - fn: 2687.3679 - fp: 238.1049 - loss: 0.0160 - prc: 0.2211 - precision: 0.5511 - recall: 0.0984 - tn: 846678.4375 - tp: 309.1339 - val_Brier score: 0.0029 - val_accuracy: 0.9967 - val_auc: 0.8815 - val_cross entropy: 0.0147 - val_fn: 1381.0000 - val_fp: 7.0000 - val_loss: 0.0147 - val_prc: 0.3263 - val_precision: 0.9431 - val_recall: 0.0775 - val_tn: 421967.0000 - val_tp: 116.0000\n",
            "Epoch 42/100\n",
            "\u001b[1m828/828\u001b[0m \u001b[32m━━━━━━━━━━━━━━━━━━━━\u001b[0m\u001b[37m\u001b[0m \u001b[1m10s\u001b[0m 6ms/step - Brier score: 0.0031 - accuracy: 0.9965 - auc: 0.8681 - cross entropy: 0.0163 - fn: 2688.1809 - fp: 231.7793 - loss: 0.0163 - prc: 0.2387 - precision: 0.5816 - recall: 0.1066 - tn: 846662.5000 - tp: 330.5766 - val_Brier score: 0.0029 - val_accuracy: 0.9968 - val_auc: 0.8841 - val_cross entropy: 0.0145 - val_fn: 1349.0000 - val_fp: 8.0000 - val_loss: 0.0145 - val_prc: 0.3363 - val_precision: 0.9487 - val_recall: 0.0989 - val_tn: 421966.0000 - val_tp: 148.0000\n",
            "Epoch 43/100\n",
            "\u001b[1m828/828\u001b[0m \u001b[32m━━━━━━━━━━━━━━━━━━━━\u001b[0m\u001b[37m\u001b[0m \u001b[1m5s\u001b[0m 6ms/step - Brier score: 0.0030 - accuracy: 0.9966 - auc: 0.8779 - cross entropy: 0.0160 - fn: 2676.6165 - fp: 241.9192 - loss: 0.0160 - prc: 0.2527 - precision: 0.5810 - recall: 0.1138 - tn: 846644.0000 - tp: 350.5247 - val_Brier score: 0.0028 - val_accuracy: 0.9968 - val_auc: 0.8864 - val_cross entropy: 0.0144 - val_fn: 1338.0000 - val_fp: 10.0000 - val_loss: 0.0144 - val_prc: 0.3440 - val_precision: 0.9408 - val_recall: 0.1062 - val_tn: 421964.0000 - val_tp: 159.0000\n",
            "Epoch 44/100\n",
            "\u001b[1m828/828\u001b[0m \u001b[32m━━━━━━━━━━━━━━━━━━━━\u001b[0m\u001b[37m\u001b[0m \u001b[1m7s\u001b[0m 9ms/step - Brier score: 0.0031 - accuracy: 0.9965 - auc: 0.8825 - cross entropy: 0.0158 - fn: 2670.2556 - fp: 244.1182 - loss: 0.0158 - prc: 0.2573 - precision: 0.5748 - recall: 0.1147 - tn: 846632.2500 - tp: 366.3908 - val_Brier score: 0.0028 - val_accuracy: 0.9968 - val_auc: 0.8880 - val_cross entropy: 0.0144 - val_fn: 1334.0000 - val_fp: 5.0000 - val_loss: 0.0144 - val_prc: 0.3521 - val_precision: 0.9702 - val_recall: 0.1089 - val_tn: 421969.0000 - val_tp: 163.0000\n",
            "Epoch 45/100\n",
            "\u001b[1m828/828\u001b[0m \u001b[32m━━━━━━━━━━━━━━━━━━━━\u001b[0m\u001b[37m\u001b[0m \u001b[1m5s\u001b[0m 6ms/step - Brier score: 0.0031 - accuracy: 0.9965 - auc: 0.8776 - cross entropy: 0.0161 - fn: 2668.5742 - fp: 226.5730 - loss: 0.0161 - prc: 0.2657 - precision: 0.6158 - recall: 0.1226 - tn: 846647.8125 - tp: 370.1134 - val_Brier score: 0.0028 - val_accuracy: 0.9969 - val_auc: 0.8869 - val_cross entropy: 0.0143 - val_fn: 1319.0000 - val_fp: 11.0000 - val_loss: 0.0143 - val_prc: 0.3549 - val_precision: 0.9418 - val_recall: 0.1189 - val_tn: 421963.0000 - val_tp: 178.0000\n",
            "Epoch 46/100\n",
            "\u001b[1m828/828\u001b[0m \u001b[32m━━━━━━━━━━━━━━━━━━━━\u001b[0m\u001b[37m\u001b[0m \u001b[1m7s\u001b[0m 9ms/step - Brier score: 0.0030 - accuracy: 0.9966 - auc: 0.8779 - cross entropy: 0.0161 - fn: 2651.9265 - fp: 226.4777 - loss: 0.0161 - prc: 0.2743 - precision: 0.6391 - recall: 0.1342 - tn: 846630.1875 - tp: 404.4379 - val_Brier score: 0.0028 - val_accuracy: 0.9969 - val_auc: 0.8893 - val_cross entropy: 0.0142 - val_fn: 1321.0000 - val_fp: 4.0000 - val_loss: 0.0142 - val_prc: 0.3605 - val_precision: 0.9778 - val_recall: 0.1176 - val_tn: 421970.0000 - val_tp: 176.0000\n",
            "Epoch 47/100\n",
            "\u001b[1m828/828\u001b[0m \u001b[32m━━━━━━━━━━━━━━━━━━━━\u001b[0m\u001b[37m\u001b[0m \u001b[1m8s\u001b[0m 6ms/step - Brier score: 0.0030 - accuracy: 0.9967 - auc: 0.8795 - cross entropy: 0.0157 - fn: 2625.4946 - fp: 222.2738 - loss: 0.0157 - prc: 0.2752 - precision: 0.6369 - recall: 0.1276 - tn: 846683.5625 - tp: 381.7202 - val_Brier score: 0.0028 - val_accuracy: 0.9969 - val_auc: 0.8898 - val_cross entropy: 0.0141 - val_fn: 1304.0000 - val_fp: 11.0000 - val_loss: 0.0141 - val_prc: 0.3641 - val_precision: 0.9461 - val_recall: 0.1289 - val_tn: 421963.0000 - val_tp: 193.0000\n",
            "Epoch 48/100\n",
            "\u001b[1m828/828\u001b[0m \u001b[32m━━━━━━━━━━━━━━━━━━━━\u001b[0m\u001b[37m\u001b[0m \u001b[1m7s\u001b[0m 9ms/step - Brier score: 0.0030 - accuracy: 0.9966 - auc: 0.8774 - cross entropy: 0.0156 - fn: 2641.6333 - fp: 242.3510 - loss: 0.0156 - prc: 0.2827 - precision: 0.6293 - recall: 0.1313 - tn: 846634.7500 - tp: 394.3390 - val_Brier score: 0.0028 - val_accuracy: 0.9969 - val_auc: 0.8909 - val_cross entropy: 0.0141 - val_fn: 1306.0000 - val_fp: 7.0000 - val_loss: 0.0141 - val_prc: 0.3696 - val_precision: 0.9646 - val_recall: 0.1276 - val_tn: 421967.0000 - val_tp: 191.0000\n",
            "Epoch 49/100\n",
            "\u001b[1m828/828\u001b[0m \u001b[32m━━━━━━━━━━━━━━━━━━━━\u001b[0m\u001b[37m\u001b[0m \u001b[1m14s\u001b[0m 14ms/step - Brier score: 0.0030 - accuracy: 0.9967 - auc: 0.8766 - cross entropy: 0.0157 - fn: 2626.3474 - fp: 220.4065 - loss: 0.0157 - prc: 0.2760 - precision: 0.6345 - recall: 0.1248 - tn: 846682.5625 - tp: 383.7334 - val_Brier score: 0.0027 - val_accuracy: 0.9969 - val_auc: 0.8904 - val_cross entropy: 0.0140 - val_fn: 1298.0000 - val_fp: 8.0000 - val_loss: 0.0140 - val_prc: 0.3718 - val_precision: 0.9614 - val_recall: 0.1329 - val_tn: 421966.0000 - val_tp: 199.0000\n",
            "Epoch 50/100\n",
            "\u001b[1m828/828\u001b[0m \u001b[32m━━━━━━━━━━━━━━━━━━━━\u001b[0m\u001b[37m\u001b[0m \u001b[1m5s\u001b[0m 6ms/step - Brier score: 0.0030 - accuracy: 0.9966 - auc: 0.8827 - cross entropy: 0.0158 - fn: 2641.4741 - fp: 240.7841 - loss: 0.0158 - prc: 0.2786 - precision: 0.6194 - recall: 0.1299 - tn: 846632.0000 - tp: 398.8034 - val_Brier score: 0.0027 - val_accuracy: 0.9969 - val_auc: 0.8902 - val_cross entropy: 0.0139 - val_fn: 1292.0000 - val_fp: 13.0000 - val_loss: 0.0139 - val_prc: 0.3746 - val_precision: 0.9404 - val_recall: 0.1369 - val_tn: 421961.0000 - val_tp: 205.0000\n",
            "Epoch 51/100\n",
            "\u001b[1m828/828\u001b[0m \u001b[32m━━━━━━━━━━━━━━━━━━━━\u001b[0m\u001b[37m\u001b[0m \u001b[1m6s\u001b[0m 7ms/step - Brier score: 0.0030 - accuracy: 0.9967 - auc: 0.8786 - cross entropy: 0.0157 - fn: 2610.7708 - fp: 217.6055 - loss: 0.0157 - prc: 0.2807 - precision: 0.6583 - recall: 0.1364 - tn: 846667.6250 - tp: 417.0350 - val_Brier score: 0.0027 - val_accuracy: 0.9969 - val_auc: 0.8909 - val_cross entropy: 0.0139 - val_fn: 1283.0000 - val_fp: 16.0000 - val_loss: 0.0139 - val_prc: 0.3779 - val_precision: 0.9304 - val_recall: 0.1430 - val_tn: 421958.0000 - val_tp: 214.0000\n",
            "Epoch 52/100\n",
            "\u001b[1m828/828\u001b[0m \u001b[32m━━━━━━━━━━━━━━━━━━━━\u001b[0m\u001b[37m\u001b[0m \u001b[1m7s\u001b[0m 8ms/step - Brier score: 0.0030 - accuracy: 0.9967 - auc: 0.8795 - cross entropy: 0.0156 - fn: 2603.8806 - fp: 221.4656 - loss: 0.0156 - prc: 0.2947 - precision: 0.6573 - recall: 0.1479 - tn: 846649.1875 - tp: 438.4946 - val_Brier score: 0.0027 - val_accuracy: 0.9969 - val_auc: 0.8903 - val_cross entropy: 0.0139 - val_fn: 1291.0000 - val_fp: 9.0000 - val_loss: 0.0139 - val_prc: 0.3803 - val_precision: 0.9581 - val_recall: 0.1376 - val_tn: 421965.0000 - val_tp: 206.0000\n",
            "Epoch 53/100\n",
            "\u001b[1m828/828\u001b[0m \u001b[32m━━━━━━━━━━━━━━━━━━━━\u001b[0m\u001b[37m\u001b[0m \u001b[1m5s\u001b[0m 6ms/step - Brier score: 0.0029 - accuracy: 0.9967 - auc: 0.8783 - cross entropy: 0.0155 - fn: 2573.3474 - fp: 240.3185 - loss: 0.0155 - prc: 0.2890 - precision: 0.6396 - recall: 0.1427 - tn: 846676.5000 - tp: 422.8770 - val_Brier score: 0.0027 - val_accuracy: 0.9970 - val_auc: 0.8917 - val_cross entropy: 0.0138 - val_fn: 1279.0000 - val_fp: 11.0000 - val_loss: 0.0138 - val_prc: 0.3815 - val_precision: 0.9520 - val_recall: 0.1456 - val_tn: 421963.0000 - val_tp: 218.0000\n",
            "Epoch 54/100\n",
            "\u001b[1m828/828\u001b[0m \u001b[32m━━━━━━━━━━━━━━━━━━━━\u001b[0m\u001b[37m\u001b[0m \u001b[1m7s\u001b[0m 9ms/step - Brier score: 0.0030 - accuracy: 0.9967 - auc: 0.8782 - cross entropy: 0.0155 - fn: 2608.1497 - fp: 234.7141 - loss: 0.0155 - prc: 0.2744 - precision: 0.6163 - recall: 0.1277 - tn: 846685.3750 - tp: 384.7756 - val_Brier score: 0.0027 - val_accuracy: 0.9970 - val_auc: 0.8921 - val_cross entropy: 0.0138 - val_fn: 1283.0000 - val_fp: 8.0000 - val_loss: 0.0138 - val_prc: 0.3854 - val_precision: 0.9640 - val_recall: 0.1430 - val_tn: 421966.0000 - val_tp: 214.0000\n",
            "Epoch 55/100\n",
            "\u001b[1m828/828\u001b[0m \u001b[32m━━━━━━━━━━━━━━━━━━━━\u001b[0m\u001b[37m\u001b[0m \u001b[1m5s\u001b[0m 6ms/step - Brier score: 0.0030 - accuracy: 0.9967 - auc: 0.8778 - cross entropy: 0.0158 - fn: 2595.5283 - fp: 232.1978 - loss: 0.0158 - prc: 0.2936 - precision: 0.6542 - recall: 0.1467 - tn: 846658.3125 - tp: 427.0145 - val_Brier score: 0.0027 - val_accuracy: 0.9970 - val_auc: 0.8922 - val_cross entropy: 0.0138 - val_fn: 1276.0000 - val_fp: 9.0000 - val_loss: 0.0138 - val_prc: 0.3882 - val_precision: 0.9609 - val_recall: 0.1476 - val_tn: 421965.0000 - val_tp: 221.0000\n",
            "Epoch 56/100\n",
            "\u001b[1m828/828\u001b[0m \u001b[32m━━━━━━━━━━━━━━━━━━━━\u001b[0m\u001b[37m\u001b[0m \u001b[1m6s\u001b[0m 7ms/step - Brier score: 0.0030 - accuracy: 0.9966 - auc: 0.8746 - cross entropy: 0.0159 - fn: 2611.8696 - fp: 233.7780 - loss: 0.0159 - prc: 0.2855 - precision: 0.6374 - recall: 0.1388 - tn: 846648.2500 - tp: 419.1749 - val_Brier score: 0.0027 - val_accuracy: 0.9970 - val_auc: 0.8914 - val_cross entropy: 0.0138 - val_fn: 1276.0000 - val_fp: 8.0000 - val_loss: 0.0138 - val_prc: 0.3903 - val_precision: 0.9651 - val_recall: 0.1476 - val_tn: 421966.0000 - val_tp: 221.0000\n",
            "Epoch 57/100\n",
            "\u001b[1m828/828\u001b[0m \u001b[32m━━━━━━━━━━━━━━━━━━━━\u001b[0m\u001b[37m\u001b[0m \u001b[1m9s\u001b[0m 6ms/step - Brier score: 0.0030 - accuracy: 0.9966 - auc: 0.8769 - cross entropy: 0.0159 - fn: 2617.9373 - fp: 231.8179 - loss: 0.0159 - prc: 0.2889 - precision: 0.6472 - recall: 0.1412 - tn: 846636.7500 - tp: 426.5271 - val_Brier score: 0.0027 - val_accuracy: 0.9970 - val_auc: 0.8921 - val_cross entropy: 0.0137 - val_fn: 1251.0000 - val_fp: 13.0000 - val_loss: 0.0137 - val_prc: 0.3917 - val_precision: 0.9498 - val_recall: 0.1643 - val_tn: 421961.0000 - val_tp: 246.0000\n",
            "Epoch 58/100\n",
            "\u001b[1m828/828\u001b[0m \u001b[32m━━━━━━━━━━━━━━━━━━━━\u001b[0m\u001b[37m\u001b[0m \u001b[1m7s\u001b[0m 9ms/step - Brier score: 0.0030 - accuracy: 0.9966 - auc: 0.8759 - cross entropy: 0.0158 - fn: 2618.5405 - fp: 240.9879 - loss: 0.0158 - prc: 0.2666 - precision: 0.6015 - recall: 0.1286 - tn: 846669.7500 - tp: 383.7949 - val_Brier score: 0.0027 - val_accuracy: 0.9970 - val_auc: 0.8912 - val_cross entropy: 0.0137 - val_fn: 1259.0000 - val_fp: 9.0000 - val_loss: 0.0137 - val_prc: 0.3921 - val_precision: 0.9636 - val_recall: 0.1590 - val_tn: 421965.0000 - val_tp: 238.0000\n",
            "Epoch 59/100\n",
            "\u001b[1m828/828\u001b[0m \u001b[32m━━━━━━━━━━━━━━━━━━━━\u001b[0m\u001b[37m\u001b[0m \u001b[1m5s\u001b[0m 6ms/step - Brier score: 0.0030 - accuracy: 0.9966 - auc: 0.8793 - cross entropy: 0.0158 - fn: 2615.1833 - fp: 239.3908 - loss: 0.0158 - prc: 0.2843 - precision: 0.6258 - recall: 0.1367 - tn: 846628.6875 - tp: 429.7865 - val_Brier score: 0.0027 - val_accuracy: 0.9970 - val_auc: 0.8914 - val_cross entropy: 0.0138 - val_fn: 1266.0000 - val_fp: 5.0000 - val_loss: 0.0138 - val_prc: 0.3960 - val_precision: 0.9788 - val_recall: 0.1543 - val_tn: 421969.0000 - val_tp: 231.0000\n",
            "Epoch 60/100\n",
            "\u001b[1m828/828\u001b[0m \u001b[32m━━━━━━━━━━━━━━━━━━━━\u001b[0m\u001b[37m\u001b[0m \u001b[1m6s\u001b[0m 7ms/step - Brier score: 0.0029 - accuracy: 0.9967 - auc: 0.8789 - cross entropy: 0.0154 - fn: 2576.3149 - fp: 227.9204 - loss: 0.0154 - prc: 0.2925 - precision: 0.6620 - recall: 0.1417 - tn: 846683.5625 - tp: 425.2581 - val_Brier score: 0.0027 - val_accuracy: 0.9970 - val_auc: 0.8927 - val_cross entropy: 0.0137 - val_fn: 1256.0000 - val_fp: 8.0000 - val_loss: 0.0137 - val_prc: 0.3957 - val_precision: 0.9679 - val_recall: 0.1610 - val_tn: 421966.0000 - val_tp: 241.0000\n",
            "Epoch 61/100\n",
            "\u001b[1m828/828\u001b[0m \u001b[32m━━━━━━━━━━━━━━━━━━━━\u001b[0m\u001b[37m\u001b[0m \u001b[1m7s\u001b[0m 8ms/step - Brier score: 0.0030 - accuracy: 0.9967 - auc: 0.8775 - cross entropy: 0.0157 - fn: 2604.6382 - fp: 228.7877 - loss: 0.0157 - prc: 0.2942 - precision: 0.6519 - recall: 0.1426 - tn: 846629.3750 - tp: 450.2497 - val_Brier score: 0.0027 - val_accuracy: 0.9970 - val_auc: 0.8923 - val_cross entropy: 0.0137 - val_fn: 1256.0000 - val_fp: 8.0000 - val_loss: 0.0137 - val_prc: 0.3957 - val_precision: 0.9679 - val_recall: 0.1610 - val_tn: 421966.0000 - val_tp: 241.0000\n",
            "Epoch 62/100\n",
            "\u001b[1m828/828\u001b[0m \u001b[32m━━━━━━━━━━━━━━━━━━━━\u001b[0m\u001b[37m\u001b[0m \u001b[1m10s\u001b[0m 8ms/step - Brier score: 0.0029 - accuracy: 0.9967 - auc: 0.8814 - cross entropy: 0.0155 - fn: 2568.6428 - fp: 223.0929 - loss: 0.0155 - prc: 0.3012 - precision: 0.6762 - recall: 0.1564 - tn: 846663.6875 - tp: 457.6056 - val_Brier score: 0.0026 - val_accuracy: 0.9970 - val_auc: 0.8920 - val_cross entropy: 0.0136 - val_fn: 1248.0000 - val_fp: 10.0000 - val_loss: 0.0136 - val_prc: 0.3978 - val_precision: 0.9614 - val_recall: 0.1663 - val_tn: 421964.0000 - val_tp: 249.0000\n",
            "Epoch 63/100\n",
            "\u001b[1m828/828\u001b[0m \u001b[32m━━━━━━━━━━━━━━━━━━━━\u001b[0m\u001b[37m\u001b[0m \u001b[1m9s\u001b[0m 6ms/step - Brier score: 0.0030 - accuracy: 0.9966 - auc: 0.8759 - cross entropy: 0.0160 - fn: 2632.0037 - fp: 228.0579 - loss: 0.0160 - prc: 0.2824 - precision: 0.6410 - recall: 0.1345 - tn: 846634.2500 - tp: 418.7334 - val_Brier score: 0.0027 - val_accuracy: 0.9970 - val_auc: 0.8918 - val_cross entropy: 0.0137 - val_fn: 1259.0000 - val_fp: 3.0000 - val_loss: 0.0137 - val_prc: 0.3972 - val_precision: 0.9876 - val_recall: 0.1590 - val_tn: 421971.0000 - val_tp: 238.0000\n",
            "Epoch 64/100\n",
            "\u001b[1m828/828\u001b[0m \u001b[32m━━━━━━━━━━━━━━━━━━━━\u001b[0m\u001b[37m\u001b[0m \u001b[1m7s\u001b[0m 9ms/step - Brier score: 0.0030 - accuracy: 0.9967 - auc: 0.8815 - cross entropy: 0.0156 - fn: 2603.6370 - fp: 213.9662 - loss: 0.0156 - prc: 0.2855 - precision: 0.6640 - recall: 0.1342 - tn: 846670.1250 - tp: 425.2943 - val_Brier score: 0.0026 - val_accuracy: 0.9970 - val_auc: 0.8922 - val_cross entropy: 0.0137 - val_fn: 1257.0000 - val_fp: 6.0000 - val_loss: 0.0137 - val_prc: 0.4007 - val_precision: 0.9756 - val_recall: 0.1603 - val_tn: 421968.0000 - val_tp: 240.0000\n",
            "Epoch 65/100\n",
            "\u001b[1m828/828\u001b[0m \u001b[32m━━━━━━━━━━━━━━━━━━━━\u001b[0m\u001b[37m\u001b[0m \u001b[1m8s\u001b[0m 6ms/step - Brier score: 0.0030 - accuracy: 0.9967 - auc: 0.8831 - cross entropy: 0.0156 - fn: 2591.8806 - fp: 229.2557 - loss: 0.0156 - prc: 0.2957 - precision: 0.6564 - recall: 0.1431 - tn: 846661.6250 - tp: 430.3052 - val_Brier score: 0.0026 - val_accuracy: 0.9970 - val_auc: 0.8924 - val_cross entropy: 0.0136 - val_fn: 1242.0000 - val_fp: 13.0000 - val_loss: 0.0136 - val_prc: 0.4005 - val_precision: 0.9515 - val_recall: 0.1703 - val_tn: 421961.0000 - val_tp: 255.0000\n",
            "Epoch 66/100\n",
            "\u001b[1m828/828\u001b[0m \u001b[32m━━━━━━━━━━━━━━━━━━━━\u001b[0m\u001b[37m\u001b[0m \u001b[1m8s\u001b[0m 9ms/step - Brier score: 0.0029 - accuracy: 0.9968 - auc: 0.8775 - cross entropy: 0.0154 - fn: 2565.4536 - fp: 202.5163 - loss: 0.0154 - prc: 0.3101 - precision: 0.7076 - recall: 0.1544 - tn: 846680.1875 - tp: 464.9011 - val_Brier score: 0.0027 - val_accuracy: 0.9970 - val_auc: 0.8928 - val_cross entropy: 0.0137 - val_fn: 1257.0000 - val_fp: 4.0000 - val_loss: 0.0137 - val_prc: 0.4026 - val_precision: 0.9836 - val_recall: 0.1603 - val_tn: 421970.0000 - val_tp: 240.0000\n",
            "Epoch 67/100\n",
            "\u001b[1m828/828\u001b[0m \u001b[32m━━━━━━━━━━━━━━━━━━━━\u001b[0m\u001b[37m\u001b[0m \u001b[1m5s\u001b[0m 6ms/step - Brier score: 0.0030 - accuracy: 0.9966 - auc: 0.8797 - cross entropy: 0.0157 - fn: 2610.1809 - fp: 241.9493 - loss: 0.0157 - prc: 0.3019 - precision: 0.6572 - recall: 0.1471 - tn: 846607.1875 - tp: 453.7358 - val_Brier score: 0.0026 - val_accuracy: 0.9970 - val_auc: 0.8915 - val_cross entropy: 0.0136 - val_fn: 1250.0000 - val_fp: 6.0000 - val_loss: 0.0136 - val_prc: 0.4030 - val_precision: 0.9763 - val_recall: 0.1650 - val_tn: 421968.0000 - val_tp: 247.0000\n",
            "Epoch 68/100\n",
            "\u001b[1m828/828\u001b[0m \u001b[32m━━━━━━━━━━━━━━━━━━━━\u001b[0m\u001b[37m\u001b[0m \u001b[1m12s\u001b[0m 8ms/step - Brier score: 0.0029 - accuracy: 0.9967 - auc: 0.8825 - cross entropy: 0.0155 - fn: 2580.1111 - fp: 232.8130 - loss: 0.0155 - prc: 0.2992 - precision: 0.6524 - recall: 0.1459 - tn: 846645.1250 - tp: 454.9819 - val_Brier score: 0.0026 - val_accuracy: 0.9970 - val_auc: 0.8933 - val_cross entropy: 0.0136 - val_fn: 1245.0000 - val_fp: 8.0000 - val_loss: 0.0136 - val_prc: 0.4019 - val_precision: 0.9692 - val_recall: 0.1683 - val_tn: 421966.0000 - val_tp: 252.0000\n",
            "Epoch 69/100\n",
            "\u001b[1m828/828\u001b[0m \u001b[32m━━━━━━━━━━━━━━━━━━━━\u001b[0m\u001b[37m\u001b[0m \u001b[1m11s\u001b[0m 8ms/step - Brier score: 0.0030 - accuracy: 0.9967 - auc: 0.8808 - cross entropy: 0.0156 - fn: 2555.1555 - fp: 245.3414 - loss: 0.0156 - prc: 0.3059 - precision: 0.6523 - recall: 0.1570 - tn: 846645.4375 - tp: 467.1182 - val_Brier score: 0.0026 - val_accuracy: 0.9970 - val_auc: 0.8930 - val_cross entropy: 0.0136 - val_fn: 1250.0000 - val_fp: 5.0000 - val_loss: 0.0136 - val_prc: 0.4056 - val_precision: 0.9802 - val_recall: 0.1650 - val_tn: 421969.0000 - val_tp: 247.0000\n",
            "Epoch 70/100\n",
            "\u001b[1m828/828\u001b[0m \u001b[32m━━━━━━━━━━━━━━━━━━━━\u001b[0m\u001b[37m\u001b[0m \u001b[1m8s\u001b[0m 6ms/step - Brier score: 0.0029 - accuracy: 0.9967 - auc: 0.8862 - cross entropy: 0.0154 - fn: 2578.7961 - fp: 216.1749 - loss: 0.0154 - prc: 0.2987 - precision: 0.6823 - recall: 0.1476 - tn: 846673.0000 - tp: 445.0519 - val_Brier score: 0.0026 - val_accuracy: 0.9971 - val_auc: 0.8933 - val_cross entropy: 0.0136 - val_fn: 1235.0000 - val_fp: 8.0000 - val_loss: 0.0136 - val_prc: 0.4047 - val_precision: 0.9704 - val_recall: 0.1750 - val_tn: 421966.0000 - val_tp: 262.0000\n",
            "Epoch 71/100\n",
            "\u001b[1m828/828\u001b[0m \u001b[32m━━━━━━━━━━━━━━━━━━━━\u001b[0m\u001b[37m\u001b[0m \u001b[1m7s\u001b[0m 9ms/step - Brier score: 0.0029 - accuracy: 0.9968 - auc: 0.8781 - cross entropy: 0.0153 - fn: 2541.3523 - fp: 198.7805 - loss: 0.0153 - prc: 0.2881 - precision: 0.6867 - recall: 0.1453 - tn: 846739.5625 - tp: 433.3727 - val_Brier score: 0.0026 - val_accuracy: 0.9971 - val_auc: 0.8924 - val_cross entropy: 0.0136 - val_fn: 1241.0000 - val_fp: 7.0000 - val_loss: 0.0136 - val_prc: 0.4054 - val_precision: 0.9734 - val_recall: 0.1710 - val_tn: 421967.0000 - val_tp: 256.0000\n",
            "Epoch 72/100\n",
            "\u001b[1m828/828\u001b[0m \u001b[32m━━━━━━━━━━━━━━━━━━━━\u001b[0m\u001b[37m\u001b[0m \u001b[1m5s\u001b[0m 6ms/step - Brier score: 0.0029 - accuracy: 0.9968 - auc: 0.8749 - cross entropy: 0.0154 - fn: 2559.0483 - fp: 213.0820 - loss: 0.0154 - prc: 0.2928 - precision: 0.6681 - recall: 0.1395 - tn: 846715.6250 - tp: 425.3088 - val_Brier score: 0.0026 - val_accuracy: 0.9971 - val_auc: 0.8934 - val_cross entropy: 0.0136 - val_fn: 1241.0000 - val_fp: 5.0000 - val_loss: 0.0136 - val_prc: 0.4064 - val_precision: 0.9808 - val_recall: 0.1710 - val_tn: 421969.0000 - val_tp: 256.0000\n",
            "Epoch 73/100\n",
            "\u001b[1m828/828\u001b[0m \u001b[32m━━━━━━━━━━━━━━━━━━━━\u001b[0m\u001b[37m\u001b[0m \u001b[1m13s\u001b[0m 9ms/step - Brier score: 0.0029 - accuracy: 0.9967 - auc: 0.8828 - cross entropy: 0.0154 - fn: 2581.7117 - fp: 230.8938 - loss: 0.0154 - prc: 0.3035 - precision: 0.6723 - recall: 0.1480 - tn: 846652.5625 - tp: 447.9047 - val_Brier score: 0.0026 - val_accuracy: 0.9971 - val_auc: 0.8934 - val_cross entropy: 0.0135 - val_fn: 1238.0000 - val_fp: 6.0000 - val_loss: 0.0135 - val_prc: 0.4065 - val_precision: 0.9774 - val_recall: 0.1730 - val_tn: 421968.0000 - val_tp: 259.0000\n",
            "Epoch 74/100\n",
            "\u001b[1m828/828\u001b[0m \u001b[32m━━━━━━━━━━━━━━━━━━━━\u001b[0m\u001b[37m\u001b[0m \u001b[1m6s\u001b[0m 7ms/step - Brier score: 0.0029 - accuracy: 0.9967 - auc: 0.8789 - cross entropy: 0.0155 - fn: 2592.9470 - fp: 228.7298 - loss: 0.0155 - prc: 0.3021 - precision: 0.6736 - recall: 0.1506 - tn: 846634.8750 - tp: 456.5006 - val_Brier score: 0.0026 - val_accuracy: 0.9971 - val_auc: 0.8929 - val_cross entropy: 0.0136 - val_fn: 1243.0000 - val_fp: 3.0000 - val_loss: 0.0136 - val_prc: 0.4056 - val_precision: 0.9883 - val_recall: 0.1697 - val_tn: 421971.0000 - val_tp: 254.0000\n",
            "Epoch 75/100\n",
            "\u001b[1m828/828\u001b[0m \u001b[32m━━━━━━━━━━━━━━━━━━━━\u001b[0m\u001b[37m\u001b[0m \u001b[1m7s\u001b[0m 9ms/step - Brier score: 0.0030 - accuracy: 0.9967 - auc: 0.8752 - cross entropy: 0.0158 - fn: 2610.4631 - fp: 208.9892 - loss: 0.0158 - prc: 0.2963 - precision: 0.6844 - recall: 0.1452 - tn: 846644.0625 - tp: 449.5054 - val_Brier score: 0.0026 - val_accuracy: 0.9971 - val_auc: 0.8928 - val_cross entropy: 0.0135 - val_fn: 1237.0000 - val_fp: 9.0000 - val_loss: 0.0135 - val_prc: 0.4046 - val_precision: 0.9665 - val_recall: 0.1737 - val_tn: 421965.0000 - val_tp: 260.0000\n",
            "Epoch 76/100\n",
            "\u001b[1m828/828\u001b[0m \u001b[32m━━━━━━━━━━━━━━━━━━━━\u001b[0m\u001b[37m\u001b[0m \u001b[1m8s\u001b[0m 6ms/step - Brier score: 0.0029 - accuracy: 0.9968 - auc: 0.8768 - cross entropy: 0.0154 - fn: 2569.2568 - fp: 213.7189 - loss: 0.0154 - prc: 0.2921 - precision: 0.6658 - recall: 0.1425 - tn: 846702.9375 - tp: 427.1146 - val_Brier score: 0.0026 - val_accuracy: 0.9971 - val_auc: 0.8937 - val_cross entropy: 0.0136 - val_fn: 1243.0000 - val_fp: 4.0000 - val_loss: 0.0136 - val_prc: 0.4054 - val_precision: 0.9845 - val_recall: 0.1697 - val_tn: 421970.0000 - val_tp: 254.0000\n",
            "Epoch 77/100\n",
            "\u001b[1m828/828\u001b[0m \u001b[32m━━━━━━━━━━━━━━━━━━━━\u001b[0m\u001b[37m\u001b[0m \u001b[1m7s\u001b[0m 9ms/step - Brier score: 0.0029 - accuracy: 0.9968 - auc: 0.8811 - cross entropy: 0.0154 - fn: 2538.8684 - fp: 196.5078 - loss: 0.0154 - prc: 0.3020 - precision: 0.7034 - recall: 0.1555 - tn: 846708.5000 - tp: 469.1520 - val_Brier score: 0.0026 - val_accuracy: 0.9971 - val_auc: 0.8937 - val_cross entropy: 0.0135 - val_fn: 1232.0000 - val_fp: 7.0000 - val_loss: 0.0135 - val_prc: 0.4081 - val_precision: 0.9743 - val_recall: 0.1770 - val_tn: 421967.0000 - val_tp: 265.0000\n",
            "Epoch 78/100\n",
            "\u001b[1m828/828\u001b[0m \u001b[32m━━━━━━━━━━━━━━━━━━━━\u001b[0m\u001b[37m\u001b[0m \u001b[1m8s\u001b[0m 6ms/step - Brier score: 0.0030 - accuracy: 0.9967 - auc: 0.8819 - cross entropy: 0.0155 - fn: 2578.0049 - fp: 224.1653 - loss: 0.0155 - prc: 0.3046 - precision: 0.6688 - recall: 0.1488 - tn: 846666.5000 - tp: 444.3836 - val_Brier score: 0.0026 - val_accuracy: 0.9971 - val_auc: 0.8934 - val_cross entropy: 0.0135 - val_fn: 1232.0000 - val_fp: 4.0000 - val_loss: 0.0135 - val_prc: 0.4085 - val_precision: 0.9851 - val_recall: 0.1770 - val_tn: 421970.0000 - val_tp: 265.0000\n",
            "Epoch 79/100\n",
            "\u001b[1m828/828\u001b[0m \u001b[32m━━━━━━━━━━━━━━━━━━━━\u001b[0m\u001b[37m\u001b[0m \u001b[1m10s\u001b[0m 6ms/step - Brier score: 0.0029 - accuracy: 0.9968 - auc: 0.8820 - cross entropy: 0.0153 - fn: 2567.1316 - fp: 205.3390 - loss: 0.0153 - prc: 0.2964 - precision: 0.6707 - recall: 0.1448 - tn: 846715.3750 - tp: 425.2183 - val_Brier score: 0.0026 - val_accuracy: 0.9971 - val_auc: 0.8938 - val_cross entropy: 0.0135 - val_fn: 1229.0000 - val_fp: 5.0000 - val_loss: 0.0135 - val_prc: 0.4107 - val_precision: 0.9817 - val_recall: 0.1790 - val_tn: 421969.0000 - val_tp: 268.0000\n",
            "Epoch 80/100\n",
            "\u001b[1m828/828\u001b[0m \u001b[32m━━━━━━━━━━━━━━━━━━━━\u001b[0m\u001b[37m\u001b[0m \u001b[1m7s\u001b[0m 8ms/step - Brier score: 0.0029 - accuracy: 0.9968 - auc: 0.8838 - cross entropy: 0.0152 - fn: 2529.2739 - fp: 219.6490 - loss: 0.0152 - prc: 0.3116 - precision: 0.6841 - recall: 0.1567 - tn: 846691.5000 - tp: 472.5923 - val_Brier score: 0.0026 - val_accuracy: 0.9971 - val_auc: 0.8927 - val_cross entropy: 0.0135 - val_fn: 1232.0000 - val_fp: 9.0000 - val_loss: 0.0135 - val_prc: 0.4065 - val_precision: 0.9672 - val_recall: 0.1770 - val_tn: 421965.0000 - val_tp: 265.0000\n",
            "Epoch 81/100\n",
            "\u001b[1m828/828\u001b[0m \u001b[32m━━━━━━━━━━━━━━━━━━━━\u001b[0m\u001b[37m\u001b[0m \u001b[1m5s\u001b[0m 6ms/step - Brier score: 0.0029 - accuracy: 0.9967 - auc: 0.8820 - cross entropy: 0.0154 - fn: 2586.2605 - fp: 203.1749 - loss: 0.0154 - prc: 0.2978 - precision: 0.6829 - recall: 0.1461 - tn: 846688.7500 - tp: 434.8673 - val_Brier score: 0.0026 - val_accuracy: 0.9971 - val_auc: 0.8941 - val_cross entropy: 0.0135 - val_fn: 1238.0000 - val_fp: 4.0000 - val_loss: 0.0135 - val_prc: 0.4059 - val_precision: 0.9848 - val_recall: 0.1730 - val_tn: 421970.0000 - val_tp: 259.0000\n",
            "Epoch 82/100\n",
            "\u001b[1m828/828\u001b[0m \u001b[32m━━━━━━━━━━━━━━━━━━━━\u001b[0m\u001b[37m\u001b[0m \u001b[1m6s\u001b[0m 7ms/step - Brier score: 0.0029 - accuracy: 0.9967 - auc: 0.8753 - cross entropy: 0.0156 - fn: 2589.8311 - fp: 186.7129 - loss: 0.0156 - prc: 0.2879 - precision: 0.6894 - recall: 0.1365 - tn: 846717.5625 - tp: 418.9662 - val_Brier score: 0.0026 - val_accuracy: 0.9971 - val_auc: 0.8936 - val_cross entropy: 0.0135 - val_fn: 1229.0000 - val_fp: 14.0000 - val_loss: 0.0135 - val_prc: 0.4072 - val_precision: 0.9504 - val_recall: 0.1790 - val_tn: 421960.0000 - val_tp: 268.0000\n",
            "Epoch 83/100\n",
            "\u001b[1m828/828\u001b[0m \u001b[32m━━━━━━━━━━━━━━━━━━━━\u001b[0m\u001b[37m\u001b[0m \u001b[1m10s\u001b[0m 6ms/step - Brier score: 0.0029 - accuracy: 0.9968 - auc: 0.8800 - cross entropy: 0.0153 - fn: 2542.4971 - fp: 212.5694 - loss: 0.0153 - prc: 0.3121 - precision: 0.6828 - recall: 0.1600 - tn: 846691.8125 - tp: 466.1604 - val_Brier score: 0.0026 - val_accuracy: 0.9971 - val_auc: 0.8946 - val_cross entropy: 0.0135 - val_fn: 1230.0000 - val_fp: 5.0000 - val_loss: 0.0135 - val_prc: 0.4107 - val_precision: 0.9816 - val_recall: 0.1784 - val_tn: 421969.0000 - val_tp: 267.0000\n",
            "Epoch 84/100\n",
            "\u001b[1m828/828\u001b[0m \u001b[32m━━━━━━━━━━━━━━━━━━━━\u001b[0m\u001b[37m\u001b[0m \u001b[1m7s\u001b[0m 9ms/step - Brier score: 0.0029 - accuracy: 0.9967 - auc: 0.8799 - cross entropy: 0.0154 - fn: 2586.0325 - fp: 237.6236 - loss: 0.0154 - prc: 0.2965 - precision: 0.6470 - recall: 0.1462 - tn: 846652.1250 - tp: 437.2738 - val_Brier score: 0.0026 - val_accuracy: 0.9971 - val_auc: 0.8930 - val_cross entropy: 0.0134 - val_fn: 1223.0000 - val_fp: 10.0000 - val_loss: 0.0134 - val_prc: 0.4088 - val_precision: 0.9648 - val_recall: 0.1830 - val_tn: 421964.0000 - val_tp: 274.0000\n",
            "Epoch 85/100\n",
            "\u001b[1m828/828\u001b[0m \u001b[32m━━━━━━━━━━━━━━━━━━━━\u001b[0m\u001b[37m\u001b[0m \u001b[1m8s\u001b[0m 6ms/step - Brier score: 0.0029 - accuracy: 0.9968 - auc: 0.8782 - cross entropy: 0.0153 - fn: 2561.8167 - fp: 198.2847 - loss: 0.0153 - prc: 0.2941 - precision: 0.6877 - recall: 0.1462 - tn: 846724.1875 - tp: 428.7383 - val_Brier score: 0.0026 - val_accuracy: 0.9971 - val_auc: 0.8935 - val_cross entropy: 0.0135 - val_fn: 1221.0000 - val_fp: 8.0000 - val_loss: 0.0135 - val_prc: 0.4108 - val_precision: 0.9718 - val_recall: 0.1844 - val_tn: 421966.0000 - val_tp: 276.0000\n",
            "Epoch 86/100\n",
            "\u001b[1m828/828\u001b[0m \u001b[32m━━━━━━━━━━━━━━━━━━━━\u001b[0m\u001b[37m\u001b[0m \u001b[1m10s\u001b[0m 6ms/step - Brier score: 0.0029 - accuracy: 0.9967 - auc: 0.8819 - cross entropy: 0.0155 - fn: 2572.4475 - fp: 220.0688 - loss: 0.0155 - prc: 0.2973 - precision: 0.6680 - recall: 0.1473 - tn: 846673.1250 - tp: 447.3812 - val_Brier score: 0.0026 - val_accuracy: 0.9971 - val_auc: 0.8945 - val_cross entropy: 0.0135 - val_fn: 1230.0000 - val_fp: 7.0000 - val_loss: 0.0135 - val_prc: 0.4083 - val_precision: 0.9745 - val_recall: 0.1784 - val_tn: 421967.0000 - val_tp: 267.0000\n",
            "Epoch 87/100\n",
            "\u001b[1m828/828\u001b[0m \u001b[32m━━━━━━━━━━━━━━━━━━━━\u001b[0m\u001b[37m\u001b[0m \u001b[1m6s\u001b[0m 7ms/step - Brier score: 0.0030 - accuracy: 0.9966 - auc: 0.8781 - cross entropy: 0.0159 - fn: 2625.3860 - fp: 234.8938 - loss: 0.0159 - prc: 0.2968 - precision: 0.6383 - recall: 0.1404 - tn: 846632.0625 - tp: 420.6827 - val_Brier score: 0.0026 - val_accuracy: 0.9971 - val_auc: 0.8935 - val_cross entropy: 0.0135 - val_fn: 1228.0000 - val_fp: 4.0000 - val_loss: 0.0135 - val_prc: 0.4101 - val_precision: 0.9853 - val_recall: 0.1797 - val_tn: 421970.0000 - val_tp: 269.0000\n",
            "Epoch 88/100\n",
            "\u001b[1m828/828\u001b[0m \u001b[32m━━━━━━━━━━━━━━━━━━━━\u001b[0m\u001b[37m\u001b[0m \u001b[1m6s\u001b[0m 8ms/step - Brier score: 0.0030 - accuracy: 0.9967 - auc: 0.8798 - cross entropy: 0.0155 - fn: 2605.3740 - fp: 225.1689 - loss: 0.0155 - prc: 0.2847 - precision: 0.6340 - recall: 0.1347 - tn: 846664.8750 - tp: 417.5959 - val_Brier score: 0.0026 - val_accuracy: 0.9971 - val_auc: 0.8943 - val_cross entropy: 0.0134 - val_fn: 1221.0000 - val_fp: 9.0000 - val_loss: 0.0134 - val_prc: 0.4116 - val_precision: 0.9684 - val_recall: 0.1844 - val_tn: 421965.0000 - val_tp: 276.0000\n",
            "Epoch 89/100\n",
            "\u001b[1m828/828\u001b[0m \u001b[32m━━━━━━━━━━━━━━━━━━━━\u001b[0m\u001b[37m\u001b[0m \u001b[1m5s\u001b[0m 6ms/step - Brier score: 0.0029 - accuracy: 0.9968 - auc: 0.8758 - cross entropy: 0.0154 - fn: 2546.9458 - fp: 198.4849 - loss: 0.0154 - prc: 0.3026 - precision: 0.6993 - recall: 0.1519 - tn: 846712.2500 - tp: 455.3390 - val_Brier score: 0.0026 - val_accuracy: 0.9971 - val_auc: 0.8938 - val_cross entropy: 0.0134 - val_fn: 1213.0000 - val_fp: 15.0000 - val_loss: 0.0134 - val_prc: 0.4134 - val_precision: 0.9498 - val_recall: 0.1897 - val_tn: 421959.0000 - val_tp: 284.0000\n",
            "Epoch 90/100\n",
            "\u001b[1m828/828\u001b[0m \u001b[32m━━━━━━━━━━━━━━━━━━━━\u001b[0m\u001b[37m\u001b[0m \u001b[1m7s\u001b[0m 9ms/step - Brier score: 0.0029 - accuracy: 0.9967 - auc: 0.8822 - cross entropy: 0.0155 - fn: 2597.9373 - fp: 229.2774 - loss: 0.0155 - prc: 0.2971 - precision: 0.6565 - recall: 0.1429 - tn: 846648.0625 - tp: 437.7467 - val_Brier score: 0.0026 - val_accuracy: 0.9971 - val_auc: 0.8932 - val_cross entropy: 0.0135 - val_fn: 1229.0000 - val_fp: 4.0000 - val_loss: 0.0135 - val_prc: 0.4129 - val_precision: 0.9853 - val_recall: 0.1790 - val_tn: 421970.0000 - val_tp: 268.0000\n",
            "Epoch 91/100\n",
            "\u001b[1m828/828\u001b[0m \u001b[32m━━━━━━━━━━━━━━━━━━━━\u001b[0m\u001b[37m\u001b[0m \u001b[1m8s\u001b[0m 6ms/step - Brier score: 0.0029 - accuracy: 0.9968 - auc: 0.8753 - cross entropy: 0.0154 - fn: 2554.7358 - fp: 203.7382 - loss: 0.0154 - prc: 0.3035 - precision: 0.7046 - recall: 0.1511 - tn: 846702.5625 - tp: 451.9771 - val_Brier score: 0.0026 - val_accuracy: 0.9971 - val_auc: 0.8941 - val_cross entropy: 0.0134 - val_fn: 1206.0000 - val_fp: 21.0000 - val_loss: 0.0134 - val_prc: 0.4148 - val_precision: 0.9327 - val_recall: 0.1944 - val_tn: 421953.0000 - val_tp: 291.0000\n",
            "Epoch 92/100\n",
            "\u001b[1m828/828\u001b[0m \u001b[32m━━━━━━━━━━━━━━━━━━━━\u001b[0m\u001b[37m\u001b[0m \u001b[1m11s\u001b[0m 7ms/step - Brier score: 0.0030 - accuracy: 0.9966 - auc: 0.8805 - cross entropy: 0.0158 - fn: 2595.6345 - fp: 241.2014 - loss: 0.0158 - prc: 0.2981 - precision: 0.6451 - recall: 0.1501 - tn: 846622.6875 - tp: 453.5066 - val_Brier score: 0.0026 - val_accuracy: 0.9971 - val_auc: 0.8934 - val_cross entropy: 0.0134 - val_fn: 1227.0000 - val_fp: 6.0000 - val_loss: 0.0134 - val_prc: 0.4122 - val_precision: 0.9783 - val_recall: 0.1804 - val_tn: 421968.0000 - val_tp: 270.0000\n",
            "Epoch 93/100\n",
            "\u001b[1m828/828\u001b[0m \u001b[32m━━━━━━━━━━━━━━━━━━━━\u001b[0m\u001b[37m\u001b[0m \u001b[1m7s\u001b[0m 8ms/step - Brier score: 0.0030 - accuracy: 0.9967 - auc: 0.8794 - cross entropy: 0.0158 - fn: 2595.7876 - fp: 227.0917 - loss: 0.0158 - prc: 0.3015 - precision: 0.6769 - recall: 0.1527 - tn: 846628.5625 - tp: 461.6140 - val_Brier score: 0.0026 - val_accuracy: 0.9971 - val_auc: 0.8932 - val_cross entropy: 0.0135 - val_fn: 1228.0000 - val_fp: 6.0000 - val_loss: 0.0135 - val_prc: 0.4109 - val_precision: 0.9782 - val_recall: 0.1797 - val_tn: 421968.0000 - val_tp: 269.0000\n",
            "Epoch 94/100\n",
            "\u001b[1m828/828\u001b[0m \u001b[32m━━━━━━━━━━━━━━━━━━━━\u001b[0m\u001b[37m\u001b[0m \u001b[1m7s\u001b[0m 8ms/step - Brier score: 0.0030 - accuracy: 0.9967 - auc: 0.8809 - cross entropy: 0.0157 - fn: 2583.1387 - fp: 189.4475 - loss: 0.0157 - prc: 0.3163 - precision: 0.7219 - recall: 0.1574 - tn: 846664.9375 - tp: 475.4873 - val_Brier score: 0.0026 - val_accuracy: 0.9971 - val_auc: 0.8937 - val_cross entropy: 0.0134 - val_fn: 1223.0000 - val_fp: 4.0000 - val_loss: 0.0134 - val_prc: 0.4150 - val_precision: 0.9856 - val_recall: 0.1830 - val_tn: 421970.0000 - val_tp: 274.0000\n",
            "Epoch 95/100\n",
            "\u001b[1m828/828\u001b[0m \u001b[32m━━━━━━━━━━━━━━━━━━━━\u001b[0m\u001b[37m\u001b[0m \u001b[1m6s\u001b[0m 7ms/step - Brier score: 0.0029 - accuracy: 0.9968 - auc: 0.8816 - cross entropy: 0.0154 - fn: 2541.0435 - fp: 202.9433 - loss: 0.0154 - prc: 0.3091 - precision: 0.7042 - recall: 0.1554 - tn: 846696.8125 - tp: 472.2726 - val_Brier score: 0.0026 - val_accuracy: 0.9971 - val_auc: 0.8938 - val_cross entropy: 0.0134 - val_fn: 1220.0000 - val_fp: 6.0000 - val_loss: 0.0134 - val_prc: 0.4144 - val_precision: 0.9788 - val_recall: 0.1850 - val_tn: 421968.0000 - val_tp: 277.0000\n",
            "Epoch 96/100\n",
            "\u001b[1m828/828\u001b[0m \u001b[32m━━━━━━━━━━━━━━━━━━━━\u001b[0m\u001b[37m\u001b[0m \u001b[1m10s\u001b[0m 6ms/step - Brier score: 0.0029 - accuracy: 0.9967 - auc: 0.8785 - cross entropy: 0.0154 - fn: 2565.5356 - fp: 209.8709 - loss: 0.0154 - prc: 0.3061 - precision: 0.6924 - recall: 0.1541 - tn: 846673.2500 - tp: 464.3715 - val_Brier score: 0.0026 - val_accuracy: 0.9971 - val_auc: 0.8945 - val_cross entropy: 0.0134 - val_fn: 1219.0000 - val_fp: 8.0000 - val_loss: 0.0134 - val_prc: 0.4148 - val_precision: 0.9720 - val_recall: 0.1857 - val_tn: 421966.0000 - val_tp: 278.0000\n",
            "Epoch 97/100\n",
            "\u001b[1m828/828\u001b[0m \u001b[32m━━━━━━━━━━━━━━━━━━━━\u001b[0m\u001b[37m\u001b[0m \u001b[1m8s\u001b[0m 9ms/step - Brier score: 0.0029 - accuracy: 0.9967 - auc: 0.8831 - cross entropy: 0.0153 - fn: 2555.3474 - fp: 221.0543 - loss: 0.0153 - prc: 0.3099 - precision: 0.6773 - recall: 0.1573 - tn: 846677.1250 - tp: 459.4885 - val_Brier score: 0.0026 - val_accuracy: 0.9971 - val_auc: 0.8941 - val_cross entropy: 0.0135 - val_fn: 1213.0000 - val_fp: 5.0000 - val_loss: 0.0135 - val_prc: 0.4164 - val_precision: 0.9827 - val_recall: 0.1897 - val_tn: 421969.0000 - val_tp: 284.0000\n",
            "Epoch 98/100\n",
            "\u001b[1m828/828\u001b[0m \u001b[32m━━━━━━━━━━━━━━━━━━━━\u001b[0m\u001b[37m\u001b[0m \u001b[1m5s\u001b[0m 6ms/step - Brier score: 0.0030 - accuracy: 0.9967 - auc: 0.8838 - cross entropy: 0.0154 - fn: 2627.7900 - fp: 212.0398 - loss: 0.0154 - prc: 0.3019 - precision: 0.6776 - recall: 0.1399 - tn: 846637.5000 - tp: 435.7177 - val_Brier score: 0.0026 - val_accuracy: 0.9971 - val_auc: 0.8939 - val_cross entropy: 0.0134 - val_fn: 1212.0000 - val_fp: 7.0000 - val_loss: 0.0134 - val_prc: 0.4134 - val_precision: 0.9760 - val_recall: 0.1904 - val_tn: 421967.0000 - val_tp: 285.0000\n",
            "Epoch 99/100\n",
            "\u001b[1m828/828\u001b[0m \u001b[32m━━━━━━━━━━━━━━━━━━━━\u001b[0m\u001b[37m\u001b[0m \u001b[1m11s\u001b[0m 14ms/step - Brier score: 0.0029 - accuracy: 0.9967 - auc: 0.8798 - cross entropy: 0.0156 - fn: 2582.5706 - fp: 208.8323 - loss: 0.0156 - prc: 0.2995 - precision: 0.6775 - recall: 0.1457 - tn: 846673.1875 - tp: 448.4294 - val_Brier score: 0.0026 - val_accuracy: 0.9971 - val_auc: 0.8936 - val_cross entropy: 0.0134 - val_fn: 1217.0000 - val_fp: 3.0000 - val_loss: 0.0134 - val_prc: 0.4165 - val_precision: 0.9894 - val_recall: 0.1870 - val_tn: 421971.0000 - val_tp: 280.0000\n",
            "Epoch 100/100\n",
            "\u001b[1m828/828\u001b[0m \u001b[32m━━━━━━━━━━━━━━━━━━━━\u001b[0m\u001b[37m\u001b[0m \u001b[1m17s\u001b[0m 9ms/step - Brier score: 0.0029 - accuracy: 0.9967 - auc: 0.8833 - cross entropy: 0.0154 - fn: 2589.0964 - fp: 219.4680 - loss: 0.0154 - prc: 0.2993 - precision: 0.6600 - recall: 0.1436 - tn: 846666.7500 - tp: 437.6972 - val_Brier score: 0.0026 - val_accuracy: 0.9971 - val_auc: 0.8944 - val_cross entropy: 0.0134 - val_fn: 1222.0000 - val_fp: 5.0000 - val_loss: 0.0134 - val_prc: 0.4128 - val_precision: 0.9821 - val_recall: 0.1837 - val_tn: 421969.0000 - val_tp: 275.0000\n",
            "Restoring model weights from the end of the best epoch: 99.\n"
          ]
        }
      ]
    },
    {
      "cell_type": "markdown",
      "source": [
        "## Class Weights"
      ],
      "metadata": {
        "id": "DWeJIinenjM6"
      }
    },
    {
      "cell_type": "code",
      "source": [
        "weight_for_0 = (1 / neg) * (total / 2.0)\n",
        "weight_for_1 = (1 / pos) * (total / 2.0)\n",
        "\n",
        "class_weight = {0: weight_for_0, 1: weight_for_1}\n",
        "\n",
        "print('Weight for class 0: {:.2f}'.format(weight_for_0))\n",
        "print('Weight for class 1: {:.2f}'.format(weight_for_1))"
      ],
      "metadata": {
        "colab": {
          "base_uri": "https://localhost:8080/"
        },
        "id": "RbdeW78jnmR1",
        "outputId": "6e004192-b06f-418f-bf0c-2b07c36bd424"
      },
      "execution_count": 38,
      "outputs": [
        {
          "output_type": "stream",
          "name": "stdout",
          "text": [
            "Weight for class 0: 0.50\n",
            "Weight for class 1: 140.45\n"
          ]
        }
      ]
    },
    {
      "cell_type": "markdown",
      "source": [
        "## Train model with class weights"
      ],
      "metadata": {
        "id": "1WVT_4GBn5IF"
      }
    },
    {
      "cell_type": "code",
      "source": [
        "weighted_model = make_model()\n",
        "weighted_model.load_weights(initial_weights)\n",
        "\n",
        "weighted_history = weighted_model.fit(\n",
        "    train_features,\n",
        "    train_labels,\n",
        "    batch_size=BATCH_SIZE,\n",
        "    epochs=EPOCHS,\n",
        "    callbacks=[early_stopping()],\n",
        "    validation_data=(val_features, val_labels),\n",
        "    # The class weights go here\n",
        "    class_weight=class_weight)"
      ],
      "metadata": {
        "colab": {
          "base_uri": "https://localhost:8080/"
        },
        "id": "f9yjeGTsn4nS",
        "outputId": "9436c729-853d-415e-881a-59e10a82b7a0"
      },
      "execution_count": 39,
      "outputs": [
        {
          "output_type": "stream",
          "name": "stderr",
          "text": [
            "/usr/local/lib/python3.11/dist-packages/keras/src/layers/core/dense.py:87: UserWarning: Do not pass an `input_shape`/`input_dim` argument to a layer. When using Sequential models, prefer using an `Input(shape)` object as the first layer in the model instead.\n",
            "  super().__init__(activity_regularizer=activity_regularizer, **kwargs)\n"
          ]
        },
        {
          "output_type": "stream",
          "name": "stdout",
          "text": [
            "Epoch 1/100\n",
            "\u001b[1m828/828\u001b[0m \u001b[32m━━━━━━━━━━━━━━━━━━━━\u001b[0m\u001b[37m\u001b[0m \u001b[1m9s\u001b[0m 7ms/step - Brier score: 0.0365 - accuracy: 0.9521 - auc: 0.7226 - cross entropy: 0.1307 - fn: 3415.5295 - fp: 73557.0156 - loss: 1.6780 - prc: 0.0735 - precision: 0.1044 - recall: 0.2157 - tn: 1195306.7500 - tp: 1104.6973 - val_Brier score: 0.0505 - val_accuracy: 0.9637 - val_auc: 0.8565 - val_cross entropy: 0.2366 - val_fn: 475.0000 - val_fp: 14896.0000 - val_loss: 0.2366 - val_prc: 0.1407 - val_precision: 0.0642 - val_recall: 0.6827 - val_tn: 407078.0000 - val_tp: 1022.0000\n",
            "Epoch 2/100\n",
            "\u001b[1m828/828\u001b[0m \u001b[32m━━━━━━━━━━━━━━━━━━━━\u001b[0m\u001b[37m\u001b[0m \u001b[1m7s\u001b[0m 8ms/step - Brier score: 0.1104 - accuracy: 0.8530 - auc: 0.8006 - cross entropy: 0.3956 - fn: 1039.6803 - fp: 119749.8750 - loss: 0.6424 - prc: 0.0834 - precision: 0.0157 - recall: 0.6480 - tn: 727142.4375 - tp: 1981.0374 - val_Brier score: 0.0494 - val_accuracy: 0.9625 - val_auc: 0.8511 - val_cross entropy: 0.2562 - val_fn: 348.0000 - val_fp: 15528.0000 - val_loss: 0.2562 - val_prc: 0.1307 - val_precision: 0.0689 - val_recall: 0.7675 - val_tn: 406446.0000 - val_tp: 1149.0000\n",
            "Epoch 3/100\n",
            "\u001b[1m828/828\u001b[0m \u001b[32m━━━━━━━━━━━━━━━━━━━━\u001b[0m\u001b[37m\u001b[0m \u001b[1m9s\u001b[0m 7ms/step - Brier score: 0.0917 - accuracy: 0.8862 - auc: 0.8355 - cross entropy: 0.3655 - fn: 917.0820 - fp: 95147.3906 - loss: 0.5509 - prc: 0.0917 - precision: 0.0216 - recall: 0.6992 - tn: 751740.3125 - tp: 2108.2498 - val_Brier score: 0.0481 - val_accuracy: 0.9643 - val_auc: 0.8496 - val_cross entropy: 0.2569 - val_fn: 349.0000 - val_fp: 14762.0000 - val_loss: 0.2569 - val_prc: 0.1289 - val_precision: 0.0722 - val_recall: 0.7669 - val_tn: 407212.0000 - val_tp: 1148.0000\n",
            "Epoch 4/100\n",
            "\u001b[1m828/828\u001b[0m \u001b[32m━━━━━━━━━━━━━━━━━━━━\u001b[0m\u001b[37m\u001b[0m \u001b[1m6s\u001b[0m 8ms/step - Brier score: 0.0826 - accuracy: 0.9049 - auc: 0.8437 - cross entropy: 0.3438 - fn: 888.3160 - fp: 80602.5391 - loss: 0.5023 - prc: 0.0953 - precision: 0.0251 - recall: 0.7044 - tn: 766337.4375 - tp: 2084.7600 - val_Brier score: 0.0549 - val_accuracy: 0.9628 - val_auc: 0.8516 - val_cross entropy: 0.2848 - val_fn: 347.0000 - val_fp: 15392.0000 - val_loss: 0.2848 - val_prc: 0.1292 - val_precision: 0.0695 - val_recall: 0.7682 - val_tn: 406582.0000 - val_tp: 1150.0000\n",
            "Epoch 5/100\n",
            "\u001b[1m828/828\u001b[0m \u001b[32m━━━━━━━━━━━━━━━━━━━━\u001b[0m\u001b[37m\u001b[0m \u001b[1m5s\u001b[0m 6ms/step - Brier score: 0.0863 - accuracy: 0.9062 - auc: 0.8428 - cross entropy: 0.3566 - fn: 897.6610 - fp: 77284.5859 - loss: 0.4986 - prc: 0.1017 - precision: 0.0264 - recall: 0.7010 - tn: 769607.1250 - tp: 2123.6755 - val_Brier score: 0.0566 - val_accuracy: 0.9620 - val_auc: 0.8580 - val_cross entropy: 0.2910 - val_fn: 345.0000 - val_fp: 15728.0000 - val_loss: 0.2910 - val_prc: 0.1301 - val_precision: 0.0682 - val_recall: 0.7695 - val_tn: 406246.0000 - val_tp: 1152.0000\n",
            "Epoch 6/100\n",
            "\u001b[1m828/828\u001b[0m \u001b[32m━━━━━━━━━━━━━━━━━━━━\u001b[0m\u001b[37m\u001b[0m \u001b[1m7s\u001b[0m 8ms/step - Brier score: 0.0832 - accuracy: 0.9166 - auc: 0.8491 - cross entropy: 0.3528 - fn: 883.8010 - fp: 68899.5859 - loss: 0.4765 - prc: 0.0977 - precision: 0.0293 - recall: 0.7010 - tn: 778001.1875 - tp: 2128.4573 - val_Brier score: 0.0527 - val_accuracy: 0.9662 - val_auc: 0.8624 - val_cross entropy: 0.2779 - val_fn: 355.0000 - val_fp: 13948.0000 - val_loss: 0.2779 - val_prc: 0.1345 - val_precision: 0.0757 - val_recall: 0.7629 - val_tn: 408026.0000 - val_tp: 1142.0000\n",
            "Epoch 7/100\n",
            "\u001b[1m828/828\u001b[0m \u001b[32m━━━━━━━━━━━━━━━━━━━━\u001b[0m\u001b[37m\u001b[0m \u001b[1m7s\u001b[0m 8ms/step - Brier score: 0.0769 - accuracy: 0.9325 - auc: 0.8590 - cross entropy: 0.3361 - fn: 835.9324 - fp: 56920.6641 - loss: 0.4470 - prc: 0.1102 - precision: 0.0370 - recall: 0.7242 - tn: 789970.5625 - tp: 2185.8770 - val_Brier score: 0.0601 - val_accuracy: 0.9622 - val_auc: 0.8710 - val_cross entropy: 0.3013 - val_fn: 342.0000 - val_fp: 15677.0000 - val_loss: 0.3013 - val_prc: 0.1344 - val_precision: 0.0686 - val_recall: 0.7715 - val_tn: 406297.0000 - val_tp: 1155.0000\n",
            "Epoch 8/100\n",
            "\u001b[1m828/828\u001b[0m \u001b[32m━━━━━━━━━━━━━━━━━━━━\u001b[0m\u001b[37m\u001b[0m \u001b[1m10s\u001b[0m 8ms/step - Brier score: 0.0793 - accuracy: 0.9301 - auc: 0.8595 - cross entropy: 0.3419 - fn: 843.9819 - fp: 57194.7305 - loss: 0.4417 - prc: 0.1085 - precision: 0.0356 - recall: 0.7225 - tn: 789720.1250 - tp: 2154.1990 - val_Brier score: 0.0623 - val_accuracy: 0.9613 - val_auc: 0.8754 - val_cross entropy: 0.3084 - val_fn: 344.0000 - val_fp: 16045.0000 - val_loss: 0.3084 - val_prc: 0.1343 - val_precision: 0.0670 - val_recall: 0.7702 - val_tn: 405929.0000 - val_tp: 1153.0000\n",
            "Epoch 9/100\n",
            "\u001b[1m828/828\u001b[0m \u001b[32m━━━━━━━━━━━━━━━━━━━━\u001b[0m\u001b[37m\u001b[0m \u001b[1m13s\u001b[0m 16ms/step - Brier score: 0.0755 - accuracy: 0.9388 - auc: 0.8691 - cross entropy: 0.3321 - fn: 827.1653 - fp: 51513.0625 - loss: 0.4181 - prc: 0.1118 - precision: 0.0397 - recall: 0.7244 - tn: 795423.4375 - tp: 2149.3787 - val_Brier score: 0.0641 - val_accuracy: 0.9598 - val_auc: 0.8840 - val_cross entropy: 0.3165 - val_fn: 340.0000 - val_fp: 16675.0000 - val_loss: 0.3165 - val_prc: 0.1322 - val_precision: 0.0649 - val_recall: 0.7729 - val_tn: 405299.0000 - val_tp: 1157.0000\n",
            "Epoch 10/100\n",
            "\u001b[1m828/828\u001b[0m \u001b[32m━━━━━━━━━━━━━━━━━━━━\u001b[0m\u001b[37m\u001b[0m \u001b[1m8s\u001b[0m 10ms/step - Brier score: 0.0741 - accuracy: 0.9429 - auc: 0.8698 - cross entropy: 0.3324 - fn: 798.9156 - fp: 47407.6445 - loss: 0.4188 - prc: 0.1153 - precision: 0.0441 - recall: 0.7369 - tn: 799505.3750 - tp: 2201.1123 - val_Brier score: 0.0633 - val_accuracy: 0.9637 - val_auc: 0.8901 - val_cross entropy: 0.3092 - val_fn: 344.0000 - val_fp: 15041.0000 - val_loss: 0.3092 - val_prc: 0.1404 - val_precision: 0.0712 - val_recall: 0.7702 - val_tn: 406933.0000 - val_tp: 1153.0000\n",
            "Epoch 11/100\n",
            "\u001b[1m828/828\u001b[0m \u001b[32m━━━━━━━━━━━━━━━━━━━━\u001b[0m\u001b[37m\u001b[0m \u001b[1m10s\u001b[0m 11ms/step - Brier score: 0.0759 - accuracy: 0.9429 - auc: 0.8725 - cross entropy: 0.3358 - fn: 825.9506 - fp: 47379.0469 - loss: 0.4166 - prc: 0.1183 - precision: 0.0443 - recall: 0.7307 - tn: 799503.0625 - tp: 2205.0012 - val_Brier score: 0.0614 - val_accuracy: 0.9636 - val_auc: 0.8923 - val_cross entropy: 0.3046 - val_fn: 346.0000 - val_fp: 15053.0000 - val_loss: 0.3046 - val_prc: 0.1378 - val_precision: 0.0710 - val_recall: 0.7689 - val_tn: 406921.0000 - val_tp: 1151.0000\n",
            "Epoch 11: early stopping\n",
            "Restoring model weights from the end of the best epoch: 1.\n"
          ]
        }
      ]
    },
    {
      "cell_type": "code",
      "source": [
        "def plot_metrics(history):\n",
        "  metrics = ['loss', 'prc', 'precision', 'recall']\n",
        "  for n, metric in enumerate(metrics):\n",
        "    name = metric.replace(\"_\",\" \").capitalize()\n",
        "    plt.subplot(2,2,n+1)\n",
        "    plt.plot(history.epoch, history.history[metric], color=colors[0], label='Train')\n",
        "    plt.plot(history.epoch, history.history['val_'+metric],\n",
        "             color=colors[0], linestyle=\"--\", label='Val')\n",
        "    plt.xlabel('Epoch')\n",
        "    plt.ylabel(name)\n",
        "    if metric == 'loss':\n",
        "      plt.ylim([0, plt.ylim()[1]])\n",
        "    elif metric == 'auc':\n",
        "      plt.ylim([0.8,1])\n",
        "    else:\n",
        "      plt.ylim([0,1])\n",
        "\n",
        "    plt.legend()"
      ],
      "metadata": {
        "id": "B-FGWSv7o3d1"
      },
      "execution_count": 41,
      "outputs": []
    },
    {
      "cell_type": "markdown",
      "source": [
        "## Comparing metric history - Baseline versus Weighted"
      ],
      "metadata": {
        "id": "qt5Q5VvrpAAf"
      }
    },
    {
      "cell_type": "code",
      "source": [
        "plot_metrics(weighted_history)"
      ],
      "metadata": {
        "colab": {
          "base_uri": "https://localhost:8080/",
          "height": 455
        },
        "id": "1X-nyU-8oo9u",
        "outputId": "cd2f3ff7-a4f9-4a73-885f-1625cf7fe733"
      },
      "execution_count": 42,
      "outputs": [
        {
          "output_type": "display_data",
          "data": {
            "text/plain": [
              "<Figure size 640x480 with 4 Axes>"
            ],
            "image/png": "[encoded data removed]"
          },
          "metadata": {}
        }
      ]
    },
    {
      "cell_type": "code",
      "source": [
        "plot_metrics(baseline_history)"
      ],
      "metadata": {
        "colab": {
          "base_uri": "https://localhost:8080/",
          "height": 455
        },
        "id": "IbjRQ4Lfo7cS",
        "outputId": "63882e85-1412-465d-e6c7-bc44c767d6f3"
      },
      "execution_count": 43,
      "outputs": [
        {
          "output_type": "display_data",
          "data": {
            "text/plain": [
              "<Figure size 640x480 with 4 Axes>"
            ],
            "image/png": "[encoded data removed]"
          },
          "metadata": {}
        }
      ]
    },
    {
      "cell_type": "code",
      "source": [
        "def plot_cm(labels, predictions, threshold=0.5):\n",
        "  cm = confusion_matrix(labels, predictions > threshold)\n",
        "  plt.figure(figsize=(5,5))\n",
        "  sns.heatmap(cm, annot=True, fmt=\"d\")\n",
        "  plt.title(\"Confusion matrix @{:.2f}\".format(threshold))\n",
        "  plt.ylabel('Actual label')\n",
        "  plt.xlabel('Predicted label')"
      ],
      "metadata": {
        "id": "zJej_b3-pMal"
      },
      "execution_count": 46,
      "outputs": []
    },
    {
      "cell_type": "markdown",
      "source": [
        "## Evaluate metrics"
      ],
      "metadata": {
        "id": "JU77KPaKpxOm"
      }
    },
    {
      "cell_type": "code",
      "source": [
        "train_predictions_weighted = weighted_model.predict(train_features, batch_size=BATCH_SIZE)\n",
        "test_predictions_weighted = weighted_model.predict(test_features, batch_size=BATCH_SIZE)"
      ],
      "metadata": {
        "colab": {
          "base_uri": "https://localhost:8080/"
        },
        "id": "AYQAejI7p103",
        "outputId": "a6bc8da9-5d09-4f01-f9c9-82a71ea48483"
      },
      "execution_count": 47,
      "outputs": [
        {
          "output_type": "stream",
          "name": "stdout",
          "text": [
            "\u001b[1m828/828\u001b[0m \u001b[32m━━━━━━━━━━━━━━━━━━━━\u001b[0m\u001b[37m\u001b[0m \u001b[1m4s\u001b[0m 5ms/step\n",
            "\u001b[1m259/259\u001b[0m \u001b[32m━━━━━━━━━━━━━━━━━━━━\u001b[0m\u001b[37m\u001b[0m \u001b[1m0s\u001b[0m 2ms/step\n"
          ]
        }
      ]
    },
    {
      "cell_type": "code",
      "source": [
        "weighted_results = weighted_model.evaluate(test_features, test_labels,\n",
        "                                           batch_size=BATCH_SIZE, verbose=0)\n",
        "for name, value in zip(weighted_model.metrics_names, weighted_results):\n",
        "  print(name, ': ', value)\n",
        "print()\n",
        "\n",
        "plot_cm(test_labels, test_predictions_weighted)"
      ],
      "metadata": {
        "colab": {
          "base_uri": "https://localhost:8080/",
          "height": 542
        },
        "id": "oOhZfRULqpm8",
        "outputId": "5c0d51d0-e3aa-4d12-ff12-fba8eb610eef"
      },
      "execution_count": 48,
      "outputs": [
        {
          "output_type": "stream",
          "name": "stdout",
          "text": [
            "loss :  0.23711463809013367\n",
            "compile_metrics :  0.23711463809013367\n",
            "\n"
          ]
        },
        {
          "output_type": "display_data",
          "data": {
            "text/plain": [
              "<Figure size 500x500 with 2 Axes>"
            ],
            "image/png": "[encoded data removed]"
          },
          "metadata": {}
        }
      ]
    },
    {
      "cell_type": "code",
      "execution_count": null,
      "metadata": {
        "id": "XM5HtAZuNrrN"
      },
      "outputs": [],
      "source": [
        "# saving the file\n",
        "import pickle\n",
        "file_path = '/content/drive/MyDrive/Documents/Data Career/fraud_classification/fraud_class_tf.pkl'\n",
        "\n",
        "with open(file_path, \"wb\") as f:\n",
        "    pickle.dump(model, f)"
      ]
    },
    {
      "cell_type": "code",
      "source": [],
      "metadata": {
        "id": "lNTbSN_x8oGI"
      },
      "execution_count": null,
      "outputs": []
    }
  ],
  "metadata": {
    "colab": {
      "provenance": [],
      "mount_file_id": "15btsJkvhspBfdtWfosIXV7QR0hRb-fc2",
      "authorship_tag": "ABX9TyM82lVwfZ6k0kHrnzGtZbBQ",
      "include_colab_link": true
    },
    "kernelspec": {
      "display_name": "Python 3",
      "name": "python3"
    },
    "language_info": {
      "name": "python"
    }
  },
  "nbformat": 4,
  "nbformat_minor": 0
}